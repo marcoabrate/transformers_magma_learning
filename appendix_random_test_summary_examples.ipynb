{
 "cells": [
  {
   "cell_type": "markdown",
   "metadata": {},
   "source": [
    "### Config"
   ]
  },
  {
   "cell_type": "code",
   "execution_count": 1,
   "metadata": {},
   "outputs": [],
   "source": [
    "import os\n",
    "import sys\n",
    "\n",
    "sys.path.insert(0, '/home/marco/epfl/magma/')\n",
    "import config"
   ]
  },
  {
   "cell_type": "markdown",
   "metadata": {},
   "source": [
    "### Load Fine-Tuned Model"
   ]
  },
  {
   "cell_type": "code",
   "execution_count": 2,
   "metadata": {},
   "outputs": [],
   "source": [
    "from transformers import AutoModelForSeq2SeqLM, AutoTokenizer\n",
    "\n",
    "model = AutoModelForSeq2SeqLM.from_pretrained(config.MAGMA_DIR+\\\n",
    "    'fine-tuning/ft_pegasus_bull_para_embed_merged_overlaps_bybook_gas64_lr5e-05/checkpoint-539/')\n",
    "\n",
    "tokenizer = AutoTokenizer.from_pretrained(config.MAGMA_DIR+\\\n",
    "    'fine-tuning/ft_pegasus_bull_para_embed_merged_overlaps_bybook_gas64_lr5e-05/checkpoint-539/')"
   ]
  },
  {
   "cell_type": "markdown",
   "metadata": {},
   "source": [
    "### Evaluation Function Definition"
   ]
  },
  {
   "cell_type": "code",
   "execution_count": 3,
   "metadata": {
    "executionInfo": {
     "elapsed": 16184,
     "status": "ok",
     "timestamp": 1610463826092,
     "user": {
      "displayName": "Marco Pietro Abrate",
      "photoUrl": "https://lh3.googleusercontent.com/a-/AOh14Gjh-8YF-8BlnrkN9mLZ0xfVOWfOh7kYncpYRv-Y=s64",
      "userId": "15422244832836998434"
     },
     "user_tz": -60
    },
    "id": "82WSp6khIcua"
   },
   "outputs": [],
   "source": [
    "from rouge_score import rouge_scorer, scoring\n",
    "\n",
    "from sentence_transformers import SentenceTransformer\n",
    "sentence_distilroberta = SentenceTransformer('paraphrase-distilroberta-base-v1')\n",
    "\n",
    "import re\n",
    "import nltk\n",
    "import numpy as np\n",
    "\n",
    "ROUGE_KEYS = [\"rouge1\", \"rouge2\", \"rougeLsum\"]\n",
    "\n",
    "def add_newline_to_end_of_each_sentence(x):\n",
    "    re.sub(\"<n>\", \"\", x)  # remove pegasus newline char\n",
    "    return \"\\n\".join(nltk.sent_tokenize(x))\n",
    "\n",
    "def calculate_rouge(\n",
    "    pred_lns,\n",
    "    tgt_lns,\n",
    "):\n",
    "    scorer = rouge_scorer.RougeScorer(ROUGE_KEYS, use_stemmer=True)\n",
    "    aggregator = scoring.BootstrapAggregator()\n",
    "    for tgt, pred in zip(tgt_lns, pred_lns):\n",
    "        pred = add_newline_to_end_of_each_sentence(pred)\n",
    "        tgt = add_newline_to_end_of_each_sentence(tgt)\n",
    "        \n",
    "        scores = scorer.score(tgt, pred)\n",
    "        aggregator.add_scores(scores)\n",
    "        \n",
    "    result = aggregator.aggregate()\n",
    "    return {k: round(v.mid.fmeasure * 100, 4) for k, v in result.items()}\n",
    "\n",
    "def calculate_sentence_trans_cosine(\n",
    "    pred_lns,\n",
    "    tgt_lns\n",
    "):\n",
    "    cosine_sim = lambda a, b: (np.dot(a, b) / (np.linalg.norm(a)*np.linalg.norm(b)))\n",
    "\n",
    "    return {'sentence_distilroberta_cosine': np.mean([\\\n",
    "        cosine_sim(sentence_distilroberta.encode(pred),\n",
    "                   sentence_distilroberta.encode(tgt))\\\n",
    "        for tgt, pred in zip(tgt_lns, pred_lns)])*100}"
   ]
  },
  {
   "cell_type": "markdown",
   "metadata": {},
   "source": [
    "### Show Random Examples"
   ]
  },
  {
   "cell_type": "code",
   "execution_count": 26,
   "metadata": {},
   "outputs": [],
   "source": [
    "seed = 11"
   ]
  },
  {
   "cell_type": "code",
   "execution_count": 27,
   "metadata": {},
   "outputs": [],
   "source": [
    "dataset_dir = config.MAGMA_DIR+\\\n",
    "    'datasets/bullet_paragraph_embeddings/pegasus/st/merged_overlaps/bybook/'\n",
    "with open(dataset_dir+'test.source', 'r') as src,\\\n",
    "    open(dataset_dir+'test.target', 'r') as tgt:\n",
    "    s = np.array([l.rstrip() for l in src.readlines()])\n",
    "    t = np.array([l.rstrip() for l in tgt.readlines()])"
   ]
  },
  {
   "cell_type": "code",
   "execution_count": 28,
   "metadata": {},
   "outputs": [],
   "source": [
    "np.random.seed(seed)\n",
    "random_examples_idx = np.random.randint(len(s), size=5)\n",
    "random_examples_src = s[random_examples_idx]\n",
    "random_examples_tgt = t[random_examples_idx]"
   ]
  },
  {
   "cell_type": "code",
   "execution_count": 29,
   "metadata": {},
   "outputs": [
    {
     "name": "stderr",
     "output_type": "stream",
     "text": [
      "100%|██████████| 5/5 [00:59<00:00, 11.94s/it]\n"
     ]
    }
   ],
   "source": [
    "from tqdm import tqdm\n",
    "\n",
    "random_examples_pred = []\n",
    "for src in tqdm(random_examples_src):\n",
    "    pred = tokenizer.batch_decode(\n",
    "        model.generate(\n",
    "            tokenizer(src, return_tensors='pt', truncation=True, padding='longest').input_ids,\n",
    "            min_length = config.ONE_BULLET_MIN_LEN,\n",
    "            max_length = config.ONE_BULLET_MAX_LEN\n",
    "        ), skip_special_tokens=True, clean_up_tokenization_spaces=False)[0]\n",
    "    random_examples_pred.append(pred)"
   ]
  },
  {
   "cell_type": "code",
   "execution_count": 30,
   "metadata": {
    "scrolled": false
   },
   "outputs": [
    {
     "name": "stdout",
     "output_type": "stream",
     "text": [
      "Source:\n",
      "The gluteal and piriformis muscles are shown in Figure 3.1. The primary functions of the gluteal muscles are to support, stabilize and mobilize the hips and lower extremities in relation to the pelvis and the trunk. Possibly the most common manifestation of lumbar and lumbosacral pain referral is to the mid-portion of the gluteal muscles (buttocks) that overlie the piriformis muscle. This is accompanied by a palpable localized region of deep, tender muscle induration. Because of the thickness of the overlying gluteus maximus muscle, the fibers of which are parallel to (and indistinguishable from) the piriformis muscle fibers, it is not possible to determine by palpation if the piriformis muscle per se is the source of the localized muscle tenderness. A 'piriformis syndrome' is therefore somewhat problematic to identify and must be carefully distinguished from the more common, spinal discogenic basis for sciatic radiculopathy. A piriformis syndrome may result from scarring after a fall on the buttocks or as a consequence of pelvic or hip surgeries. MRI can be used to visualize the tender area in the buttocks and help to identify selective piriformis entrapments of the sciatic nerve.\n",
      "\n",
      "Reference:\n",
      "Piriformis tenderness is an area of local tenderness deep to the gluteus maximus muscle, and tenderness palpated in that area most often represents a referred trigger point in the gluteus maximus muscle rather than specific piriformis sciatic nerve syndrome involvement.\n",
      "\n",
      "Prediction:\n",
      "The primary functions of the gluteal and piriformis muscles are to support, stabilize and mobilize the hips and lower extremities in relation to the pelvis and trunk.\n",
      "\n",
      "{'rouge1': 23.8806, 'rouge2': 3.0769, 'rougeLsum': 17.9104}\n",
      "{'sentence_distilroberta_cosine': 52.84860134124756}\n",
      "####################################################################################################\n",
      "\n",
      "Source:\n",
      "The discovery of specific gene mutations in NSCLC (Table 2.1) has led to the development of targeted therapies. In particular, the presence of epidermal growth factor receptor (EGFR) gene mutations, found primarily in adenocarcinomas, is predictive of responsiveness to EGFR tyrosine kinase inhibitors. Furthermore, adenocarcinomas with ALK - MET rearrangements are responsive to crizotinib, and patients with adenocarcinoma or NSCLC-NOS are more responsive to pemetrexed than are those with squamous cell carcinoma. In the initial randomized phase 2 study of bevacizumab and chemotherapy in advanced NSCLC, bevacizumab was associated with life-threatening hemorrhage in patients with squamous cell carcinoma; therefore, it is contraindicated in patients with this NSCLC histology.\n",
      "\n",
      "Reference:\n",
      "An epidermal growth factor receptor ( EGFR ) mutation is a validated predictive marker for response to EGFR tyrosine kinase inhibitor treatments.\n",
      "\n",
      "Prediction:\n",
      "The presence of epidermal growth factor receptor (EGFR) gene mutations in NSCLC is predictive of responsiveness to EGFR tyrosine kinase inhibitors.\n",
      "\n",
      "{'rouge1': 68.2927, 'rouge2': 46.1538, 'rougeLsum': 68.2927}\n",
      "{'sentence_distilroberta_cosine': 85.30836701393127}\n",
      "####################################################################################################\n",
      "\n",
      "Source:\n",
      "Time to event. Many endpoints in oncology measure the time to event (see Chapter 2). Examples include overall survival, which measures time to death, and progression-free survival, which measures the time to death or progression, whichever occurs first. Time-to-event endpoints are usually measured from the point of randomization, but not always. Duration of response is an endpoint that is measured from the time of first response to progression. Summary statistics. Summary statistics provide a quick and simple description of a set of data values. Usually, the sample's average (mean), middle (median) or most common (mode) value is used. Mean. The mean is the arithmetic average, id est the sum of all values divided by the number of values. It is denoted by x̅. The mean is a good measure of comparison to use for sample groups with continuous and score endpoints, provided the endpoint data have a symmetric distribution (Figure 1.1a). The mean is also a good measure of comparison for samples with count endpoints, but these are usually calculated as means per unit of time to account for different observation periods for different patients. Median. When the data distribution is skewed (see Figure 1.1b, c), id est some of the values are a lot smaller or larger than the others, the mean is not usually the best measure of average. In these cases, the median is often the preferred measurement. The median is the middle value when the data values are placed in order from smallest to largest. It is sometimes denoted by x̅.\n",
      "\n",
      "Reference:\n",
      "Summary statistics provide a simple descriptive value for a data sample, which enables comparison of data sets. The mean (arithmetic average) is the most common measure used for continuous and score data with a normal or symmetric distribution. The median is the preferred measure for data with a skewed distribution. Proportions are compared for binary and ordered categorical endpoints.\n",
      "\n",
      "Prediction:\n",
      "Time-to-event endpoints are usually measured from the point of randomization, but not always. Duration of response is an endpoint that is measured from the time of first response to progression.\n",
      "\n",
      "{'rouge1': 19.7802, 'rouge2': 0.0, 'rougeLsum': 15.3846}\n",
      "{'sentence_distilroberta_cosine': 43.04799437522888}\n",
      "####################################################################################################\n",
      "\n",
      "Source:\n",
      "Ovarian cancer accounted for an estimated 152 000 deaths worldwide in 2012. In the UK, approximately 4100 women died as a result of ovarian cancer in 2014, making it the fifth most common cause of cancer death among women. Across the UK, the age-standardized mortality rate in 2014 was 12.9 per 100 000 population, with the highest rates in Northern Ireland and Wales (15.8 and 14.5 per 100 000, respectively) and the lowest in England (12.7 per 100 000). In the USA, it is anticipated that ovarian cancer will account for approximately 14 080 deaths in 2017. Mortality rates are disproportionately higher among women of African-American descent. Survival rates in ovarian cancer are the lowest of any gynecologic malignancy. Typically, 5-year survival rates are less than 50%, largely because three-quarters of cases are diagnosed at advanced stages (III/IV). Although age-standardized mortality rates are falling in many high-income countries, they are increasing in many low- and middle-income countries.\n",
      "\n",
      "Reference:\n",
      "Ovarian cancer is the seventh most common cancer in women worldwide, and a leading cause of cancer death among women. Survival rates in ovarian cancer are the lowest of any gynecologic malignancy, largely because the majority of cases are diagnosed at an advanced stage.\n",
      "\n",
      "Prediction:\n",
      "Ovarian cancer is the fifth most common cause of cancer death among women in the UK.\n",
      "\n",
      "{'rouge1': 46.6667, 'rouge2': 31.0345, 'rougeLsum': 43.3333}\n",
      "{'sentence_distilroberta_cosine': 75.14094114303589}\n",
      "####################################################################################################\n",
      "\n",
      "Source:\n",
      "Standard deviation (SD) is a measure of patient-to-patient variability. It is particularly important in the analysis of continuous and score endpoints. The SD is the average distance of all data values from the mean. It is not the simple average but a weighted average that gives rather more weight to the points well away from the mean.\n",
      "\n",
      "Reference:\n",
      "The standard deviation is a measure of patient-to-patient variability.\n",
      "\n",
      "Prediction:\n",
      "Standard deviation (SD) is a measure of patient-to-patient variability.\n",
      "\n",
      "{'rouge1': 90.9091, 'rouge2': 80.0, 'rougeLsum': 90.9091}\n",
      "{'sentence_distilroberta_cosine': 87.36093640327454}\n",
      "####################################################################################################\n",
      "\n"
     ]
    }
   ],
   "source": [
    "for src, pred, ref in zip(random_examples_src, random_examples_pred, random_examples_tgt):\n",
    "    print('Source:')\n",
    "    print(src+'\\n')\n",
    "    print('Reference:')\n",
    "    print(ref+'\\n')\n",
    "    print('Prediction:')\n",
    "    print(pred+'\\n')\n",
    "    \n",
    "    rouge_eval = calculate_rouge([pred], [ref])\n",
    "    st_eval = calculate_sentence_trans_cosine([pred], [ref])\n",
    "    \n",
    "    print(rouge_eval)\n",
    "    print(st_eval)\n",
    "    \n",
    "    print(''.join(['#']*100))\n",
    "    print()"
   ]
  },
  {
   "cell_type": "code",
   "execution_count": null,
   "metadata": {},
   "outputs": [],
   "source": []
  }
 ],
 "metadata": {
  "colab": {
   "collapsed_sections": [
    "P95DxvqWi_2Y",
    "mFAC31paODFl",
    "S0FByNNOIRvG",
    "tb7fAfzaK4es",
    "eQGq4WLu3Gei",
    "tSHT0mxuvkEp",
    "-eRnW74aH95b",
    "X2xp7jJNwB6b",
    "2Eb-_Ud3vxeY",
    "VndEUBoDjjkV",
    "8_li_hFKF_Ws"
   ],
   "name": "paragraph_assign_bullets.ipynb",
   "provenance": []
  },
  "kernelspec": {
   "display_name": "Python 3",
   "language": "python",
   "name": "python3"
  },
  "language_info": {
   "codemirror_mode": {
    "name": "ipython",
    "version": 3
   },
   "file_extension": ".py",
   "mimetype": "text/x-python",
   "name": "python",
   "nbconvert_exporter": "python",
   "pygments_lexer": "ipython3",
   "version": "3.6.9"
  }
 },
 "nbformat": 4,
 "nbformat_minor": 1
}
