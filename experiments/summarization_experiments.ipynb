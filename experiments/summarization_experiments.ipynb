{
 "cells": [
  {
   "cell_type": "code",
   "execution_count": 1,
   "metadata": {},
   "outputs": [],
   "source": [
    "magma_dir = '/home/marco/epfl/magma/'\n",
    "transformers_dir = '/home/marco/epfl/transformers/'"
   ]
  },
  {
   "cell_type": "markdown",
   "metadata": {
    "id": "S0FByNNOIRvG"
   },
   "source": [
    "### **Config**"
   ]
  },
  {
   "cell_type": "code",
   "execution_count": 2,
   "metadata": {
    "executionInfo": {
     "elapsed": 56562,
     "status": "ok",
     "timestamp": 1610462036504,
     "user": {
      "displayName": "Marco Pietro Abrate",
      "photoUrl": "https://lh3.googleusercontent.com/a-/AOh14Gjh-8YF-8BlnrkN9mLZ0xfVOWfOh7kYncpYRv-Y=s64",
      "userId": "15422244832836998434"
     },
     "user_tz": -60
    },
    "id": "3BHImWfNKpDN"
   },
   "outputs": [],
   "source": [
    "import os\n",
    "import sys\n",
    "\n",
    "sys.path.insert(0, magma_dir)\n",
    "import config\n",
    "\n",
    "from torch import cuda\n",
    "device = 'cuda' if cuda.is_available() else 'cpu'"
   ]
  },
  {
   "cell_type": "code",
   "execution_count": 3,
   "metadata": {
    "executionInfo": {
     "elapsed": 56579,
     "status": "ok",
     "timestamp": 1610462036523,
     "user": {
      "displayName": "Marco Pietro Abrate",
      "photoUrl": "https://lh3.googleusercontent.com/a-/AOh14Gjh-8YF-8BlnrkN9mLZ0xfVOWfOh7kYncpYRv-Y=s64",
      "userId": "15422244832836998434"
     },
     "user_tz": -60
    },
    "id": "82WSp6khIcua"
   },
   "outputs": [],
   "source": [
    "MODEL = 'bart'\n",
    "MODELS = {}"
   ]
  },
  {
   "cell_type": "markdown",
   "metadata": {
    "id": "JFd0ppeJyX1o"
   },
   "source": [
    "### **Init**"
   ]
  },
  {
   "cell_type": "code",
   "execution_count": 4,
   "metadata": {
    "executionInfo": {
     "elapsed": 56577,
     "status": "ok",
     "timestamp": 1610462036525,
     "user": {
      "displayName": "Marco Pietro Abrate",
      "photoUrl": "https://lh3.googleusercontent.com/a-/AOh14Gjh-8YF-8BlnrkN9mLZ0xfVOWfOh7kYncpYRv-Y=s64",
      "userId": "15422244832836998434"
     },
     "user_tz": -60
    },
    "id": "yCzod0OizR5U"
   },
   "outputs": [],
   "source": [
    "import matplotlib.pyplot as plt\n",
    "import numpy as np\n",
    "import torch\n",
    "import re\n",
    "import pandas as pd\n",
    "from tqdm import tqdm\n",
    "from textwrap import fill"
   ]
  },
  {
   "cell_type": "markdown",
   "metadata": {
    "id": "dllOnKR9Os5i"
   },
   "source": [
    "### **Function Definition**"
   ]
  },
  {
   "cell_type": "markdown",
   "metadata": {
    "id": "U2mpXoSaQiQE"
   },
   "source": [
    "##### Import Model and Tok"
   ]
  },
  {
   "cell_type": "code",
   "execution_count": 21,
   "metadata": {
    "executionInfo": {
     "elapsed": 55531,
     "status": "ok",
     "timestamp": 1610462036527,
     "user": {
      "displayName": "Marco Pietro Abrate",
      "photoUrl": "https://lh3.googleusercontent.com/a-/AOh14Gjh-8YF-8BlnrkN9mLZ0xfVOWfOh7kYncpYRv-Y=s64",
      "userId": "15422244832836998434"
     },
     "user_tz": -60
    },
    "id": "XhBGMJVFOs5l"
   },
   "outputs": [],
   "source": [
    "def import_model_tok(model_name_or_path):\n",
    "    global MODELS\n",
    "\n",
    "    if model_name_or_path in MODELS.keys():\n",
    "        print('[+] model already present in cache\\n')\n",
    "        return MODELS[model_name_or_path]\n",
    "    print('[*] importing the model\\n')\n",
    "\n",
    "    if 'bart' in MODEL:\n",
    "        from transformers import BartForConditionalGeneration, BartTokenizer\n",
    "\n",
    "        model = BartForConditionalGeneration.from_pretrained(model_name_or_path)\n",
    "        tokenizer = BartTokenizer.from_pretrained(model_name_or_path)\n",
    "    elif 'pegasus' in MODEL:\n",
    "        from transformers import PegasusForConditionalGeneration, PegasusTokenizer\n",
    "\n",
    "        model = PegasusForConditionalGeneration.from_pretrained(model_name_or_path)\n",
    "        tokenizer = PegasusTokenizer.from_pretrained(model_name_or_path)\n",
    "\n",
    "    MODELS[model_name_or_path] = model, tokenizer\n",
    "    print('[+] the model is now present in cache\\n')\n",
    "    return MODELS[model_name_or_path]"
   ]
  },
  {
   "cell_type": "markdown",
   "metadata": {
    "id": "k0qONrX4Qkkm"
   },
   "source": [
    "##### Nice Print"
   ]
  },
  {
   "cell_type": "code",
   "execution_count": 11,
   "metadata": {
    "executionInfo": {
     "elapsed": 55529,
     "status": "ok",
     "timestamp": 1610462036529,
     "user": {
      "displayName": "Marco Pietro Abrate",
      "photoUrl": "https://lh3.googleusercontent.com/a-/AOh14Gjh-8YF-8BlnrkN9mLZ0xfVOWfOh7kYncpYRv-Y=s64",
      "userId": "15422244832836998434"
     },
     "user_tz": -60
    },
    "id": "fAB4i6F5O23C"
   },
   "outputs": [],
   "source": [
    "def print_example(text, summ, bull):\n",
    "    print(fill(text, 100))\n",
    "    print()\n",
    "    if isinstance(summ, list):\n",
    "        for s in summ:\n",
    "            print('Prediction:')\n",
    "            print(fill(s, 100))\n",
    "            print()\n",
    "    else:\n",
    "        print('Prediction:')\n",
    "        print(fill(summ, 100))\n",
    "        print()\n",
    "    print('Reference:')\n",
    "    print(fill(bull, 100))\n",
    "    print()\n",
    "    print(''.join(['#']*100))\n",
    "    print()"
   ]
  },
  {
   "cell_type": "markdown",
   "metadata": {
    "id": "vb_MdivVauzb"
   },
   "source": [
    "## **Summarization experiments**"
   ]
  },
  {
   "cell_type": "markdown",
   "metadata": {
    "id": "SNiCDlGsACvB"
   },
   "source": [
    "##### Model writing the opposite of input"
   ]
  },
  {
   "cell_type": "code",
   "execution_count": 17,
   "metadata": {
    "executionInfo": {
     "elapsed": 1519,
     "status": "ok",
     "timestamp": 1610463040134,
     "user": {
      "displayName": "Marco Pietro Abrate",
      "photoUrl": "https://lh3.googleusercontent.com/a-/AOh14Gjh-8YF-8BlnrkN9mLZ0xfVOWfOh7kYncpYRv-Y=s64",
      "userId": "15422244832836998434"
     },
     "user_tz": -60
    },
    "id": "JJKyzH5WEv27"
   },
   "outputs": [],
   "source": [
    "def summarize(model_name_or_path, text, bullets, num_samples=2):\n",
    "    model, tokenizer = import_model_tok(model_name_or_path)\n",
    "    model = model.to(device)\n",
    "\n",
    "    summ_enc = model.generate(\n",
    "        tokenizer.encode(text, return_tensors='pt').to(device),\n",
    "        max_length = config.ONE_BULLET_MAX_LEN,\n",
    "        num_return_sequences=num_samples)\n",
    "    summ = []\n",
    "    for i in range(num_samples):\n",
    "        summ.append(tokenizer.decode(summ_enc[i], skip_special_tokens=True))\n",
    "\n",
    "    print_example(text, summ, bullets)"
   ]
  },
  {
   "cell_type": "code",
   "execution_count": 18,
   "metadata": {
    "executionInfo": {
     "elapsed": 1128,
     "status": "ok",
     "timestamp": 1610463040724,
     "user": {
      "displayName": "Marco Pietro Abrate",
      "photoUrl": "https://lh3.googleusercontent.com/a-/AOh14Gjh-8YF-8BlnrkN9mLZ0xfVOWfOh7kYncpYRv-Y=s64",
      "userId": "15422244832836998434"
     },
     "user_tz": -60
    },
    "id": "K98cwOLys0XX"
   },
   "outputs": [],
   "source": [
    "text = 'Long-term risks. As with any form of chronic UV exposure, it is likely that phototherapy carries an increased risk of non-melanoma skin cancers, which increases with cumulative exposure. Broad-band UVB is probably associated with a small increase in the risk of squamous cell carcinomas, particularly in patients receiving high-level exposure (more than 300 treatments). Narrow-band UVB phototherapy has now been in clinical use for long enough to determine the associated risk precisely. On the basis of cancer-risk calculations from mouse models and efficacy data, it seems likely that the risk is at least as great as that associated with broad-band UVB, but probably less than that associated with PUVA. In view of this, phototherapy may be relatively contraindicated for patients with pre-existing risk factors for skin cancer, such as individuals who work outside, those who have already had significant amounts of phototherapy, patients with very fair skin, and those with multiple melanocytic or atypical nevi.'\n",
    "bullets = 'Long-term risks of PUVA include premature skin aging and skin cancer (non-melanoma and melanoma).'"
   ]
  },
  {
   "cell_type": "code",
   "execution_count": 19,
   "metadata": {
    "colab": {
     "base_uri": "https://localhost:8080/"
    },
    "executionInfo": {
     "elapsed": 2768,
     "status": "ok",
     "timestamp": 1610463043184,
     "user": {
      "displayName": "Marco Pietro Abrate",
      "photoUrl": "https://lh3.googleusercontent.com/a-/AOh14Gjh-8YF-8BlnrkN9mLZ0xfVOWfOh7kYncpYRv-Y=s64",
      "userId": "15422244832836998434"
     },
     "user_tz": -60
    },
    "id": "nmtA8163AV3o",
    "outputId": "2b06b172-1132-45ca-c730-9697f07b06f9"
   },
   "outputs": [
    {
     "name": "stdout",
     "output_type": "stream",
     "text": [
      "[+] model already present in cache\n",
      "\n",
      "Long-term risks. As with any form of chronic UV exposure, it is likely that phototherapy carries an\n",
      "increased risk of non-melanoma skin cancers, which increases with cumulative exposure. Broad-band\n",
      "UVB is probably associated with a small increase in the risk of squamous cell carcinomas,\n",
      "particularly in patients receiving high-level exposure (more than 300 treatments). Narrow-band UVB\n",
      "phototherapy has now been in clinical use for long enough to determine the associated risk\n",
      "precisely. On the basis of cancer-risk calculations from mouse models and efficacy data, it seems\n",
      "likely that the risk is at least as great as that associated with broad-band UVB, but probably less\n",
      "than that associated with PUVA. In view of this, phototherapy may be relatively contraindicated for\n",
      "patients with pre-existing risk factors for skin cancer, such as individuals who work outside, those\n",
      "who have already had significant amounts of phototherapy, patients with very fair skin, and those\n",
      "with multiple melanocytic or atypical nevi.\n",
      "\n",
      "Prediction:\n",
      " As with any form of chronic UV exposure, it is likely that phototherapy carries an increased risk\n",
      "of non-melanoma skin cancers. Broad-band UVB is probably associated with a small increase in the\n",
      "risk of squamous cell carcinomas, particularly in patients receiving high-level exposure (more than\n",
      "300 treatments)\n",
      "\n",
      "Prediction:\n",
      " As with any form of chronic UV exposure, it is likely that phototherapy carries an increased risk\n",
      "of non-melanoma skin cancers. Broad-band UVB is probably associated with a small increase in the\n",
      "risk of squamous cell carcinomas, especially in patients receiving high-level exposure (more than\n",
      "300 treatments)\n",
      "\n",
      "Reference:\n",
      "Long-term risks of PUVA include premature skin aging and skin cancer (non-melanoma and melanoma).\n",
      "\n",
      "####################################################################################################\n",
      "\n"
     ]
    }
   ],
   "source": [
    "summarize('sshleifer/distilbart-cnn-12-6', text, bullets)"
   ]
  },
  {
   "cell_type": "code",
   "execution_count": 26,
   "metadata": {
    "colab": {
     "base_uri": "https://localhost:8080/"
    },
    "executionInfo": {
     "elapsed": 2701,
     "status": "ok",
     "timestamp": 1610463080092,
     "user": {
      "displayName": "Marco Pietro Abrate",
      "photoUrl": "https://lh3.googleusercontent.com/a-/AOh14Gjh-8YF-8BlnrkN9mLZ0xfVOWfOh7kYncpYRv-Y=s64",
      "userId": "15422244832836998434"
     },
     "user_tz": -60
    },
    "id": "1DaPtnK2D0sg",
    "outputId": "88eb856c-44d2-49dd-cdaf-430d6433895f"
   },
   "outputs": [
    {
     "name": "stdout",
     "output_type": "stream",
     "text": [
      "[+] model already present in cache\n",
      "\n",
      "Long-term risks. As with any form of chronic UV exposure, it is likely that phototherapy carries an\n",
      "increased risk of non-melanoma skin cancers, which increases with cumulative exposure. Broad-band\n",
      "UVB is probably associated with a small increase in the risk of squamous cell carcinomas,\n",
      "particularly in patients receiving high-level exposure (more than 300 treatments). Narrow-band UVB\n",
      "phototherapy has now been in clinical use for long enough to determine the associated risk\n",
      "precisely. On the basis of cancer-risk calculations from mouse models and efficacy data, it seems\n",
      "likely that the risk is at least as great as that associated with broad-band UVB, but probably less\n",
      "than that associated with PUVA. In view of this, phototherapy may be relatively contraindicated for\n",
      "patients with pre-existing risk factors for skin cancer, such as individuals who work outside, those\n",
      "who have already had significant amounts of phototherapy, patients with very fair skin, and those\n",
      "with multiple melanocytic or atypical nevi.\n",
      "\n",
      "Prediction:\n",
      "There is a small increase in the risk of non-melanoma skin cancer with long-term phototherapy.\n",
      "\n",
      "Prediction:\n",
      "Long-term risks of PUVA include premature skin aging and skin cancer (non-melanoma and melanoma).\n",
      "\n",
      "Prediction:\n",
      "There is a small increase in the risk of non-melanoma skin cancers with long-term phototherapy.\n",
      "\n",
      "Prediction:\n",
      "Long-term risks of PUVA include premature skin aging and skin cancer.\n",
      "\n",
      "Reference:\n",
      "Long-term risks of PUVA include premature skin aging and skin cancer (non-melanoma and melanoma).\n",
      "\n",
      "####################################################################################################\n",
      "\n"
     ]
    }
   ],
   "source": [
    "summarize(magma_dir+'fine-tuning/sshleifer?distilbart-cnn-12-6_karger_books_para_train', text, bullets, 4)"
   ]
  },
  {
   "cell_type": "markdown",
   "metadata": {
    "id": "dpNmnjXn3u2U"
   },
   "source": [
    "### **Print and Summarization**"
   ]
  },
  {
   "cell_type": "markdown",
   "metadata": {
    "id": "WIiEnpvbMkJa"
   },
   "source": [
    "##### Print Train Examples"
   ]
  },
  {
   "cell_type": "code",
   "execution_count": 24,
   "metadata": {
    "colab": {
     "base_uri": "https://localhost:8080/",
     "referenced_widgets": [
      "58233d5c388f4ab788050e32cd55ea18",
      "7343c33af570460ab302cb0ba6f7bdfd",
      "a843e89f1ea44712b9f8d2485051105b",
      "70b5f49254394831a248fe7543e3e16f",
      "31b403b9f1954b88a56a1bf2da7da005"
     ]
    },
    "executionInfo": {
     "elapsed": 66602,
     "status": "ok",
     "timestamp": 1610379553698,
     "user": {
      "displayName": "Marco Pietro Abrate",
      "photoUrl": "https://lh3.googleusercontent.com/a-/AOh14Gjh-8YF-8BlnrkN9mLZ0xfVOWfOh7kYncpYRv-Y=s64",
      "userId": "15422244832836998434"
     },
     "user_tz": -60
    },
    "id": "wgZKNh2f3u2l",
    "outputId": "1884653e-1f41-4e01-96f1-fe45252a8ccf"
   },
   "outputs": [
    {
     "ename": "NameError",
     "evalue": "name 'print_examples' is not defined",
     "output_type": "error",
     "traceback": [
      "\u001b[0;31m---------------------------------------------------------------------------\u001b[0m",
      "\u001b[0;31mNameError\u001b[0m                                 Traceback (most recent call last)",
      "\u001b[0;32m<ipython-input-24-a47396b36dfb>\u001b[0m in \u001b[0;36m<module>\u001b[0;34m\u001b[0m\n\u001b[0;32m----> 1\u001b[0;31m \u001b[0mprint_examples\u001b[0m\u001b[0;34m(\u001b[0m\u001b[0;34m'sshleifer/distilbart-cnn-12-6'\u001b[0m\u001b[0;34m,\u001b[0m \u001b[0mdf_train\u001b[0m\u001b[0;34m,\u001b[0m \u001b[0;36m5\u001b[0m\u001b[0;34m)\u001b[0m\u001b[0;34m\u001b[0m\u001b[0;34m\u001b[0m\u001b[0m\n\u001b[0m",
      "\u001b[0;31mNameError\u001b[0m: name 'print_examples' is not defined"
     ]
    }
   ],
   "source": [
    "print_examples('sshleifer/distilbart-cnn-12-6', df_train)"
   ]
  },
  {
   "cell_type": "markdown",
   "metadata": {
    "id": "fSqOx7kdMoNJ"
   },
   "source": [
    "##### Print Val Examples"
   ]
  },
  {
   "cell_type": "code",
   "execution_count": null,
   "metadata": {
    "colab": {
     "base_uri": "https://localhost:8080/"
    },
    "executionInfo": {
     "elapsed": 73043,
     "status": "ok",
     "timestamp": 1610379560141,
     "user": {
      "displayName": "Marco Pietro Abrate",
      "photoUrl": "https://lh3.googleusercontent.com/a-/AOh14Gjh-8YF-8BlnrkN9mLZ0xfVOWfOh7kYncpYRv-Y=s64",
      "userId": "15422244832836998434"
     },
     "user_tz": -60
    },
    "id": "f7k8RzJgMoNK",
    "outputId": "19e111e5-f0a0-4a95-adc4-58c21714b238"
   },
   "outputs": [
    {
     "name": "stdout",
     "output_type": "stream",
     "text": [
      "[+] model already present in cache\n",
      "\n",
      "(9781908541178, 'ch_6')\n",
      "Many anatomic factors can play a primary or a secondary role in the development and progression of low back pain syndromes. The most common causes of\n",
      "low back pain are mechanical in origin. Mechanical disorders of the lumbar spine are related to injury, overuse or deformity of a spinal structure.\n",
      "The most important traumatic factors in low back pain relate to soft tissue structures. Precise identification of the injured tissue, and the role of\n",
      "that injury in the consequent pain and dysfunction, can be frustratingly difficult. Problems occur in muscles, intervertebral discs, facet joints,\n",
      "ligaments or spinal nerves. Aging causes modification of these structures over time, and different parts of the spine tend to be at greater risk for\n",
      "change or injury during different decades of life. Early in life, muscle injuries are more frequent, while joint problems occur in the sixth decade of\n",
      "life (Table 3.1).\n",
      "\n",
      "Prediction:\n",
      " Mechanical disorders of the lumbar spine are related to injury, overuse or deformity of a spinal\n",
      "structure. Problems occur in muscles, intervertebral discs, facet joints, ligaments or spinal\n",
      "nerves.\n",
      "\n",
      "Reference:\n",
      "Mechanical disorders - muscle strain, spondylolisthesis, herniated intervertebral disc,\n",
      "osteoarthritis, spinal stenosis - are the most common causes of low back pain.\n",
      "\n",
      "####################################################################################################\n",
      "\n",
      "(9781912776726, 'ch4')\n",
      "Surgery is the initial therapeutic approach for tumor debulking and to obtain tissue for diagnosis. The aim of surgery is maximum tumor resection\n",
      "while maintaining neurological function. Risk versus benefit. The neurosurgeon's preoperative assessment of the patient's prognosis - which will\n",
      "depend, among other things, on the location of the glioblastoma and the patient's performance status - will determine the extent of resection. For\n",
      "example, if the tumor is near or involves eloquent (exempli gratia language, motor, vision) areas of the brain, a subtotal resection or tissue biopsy\n",
      "only may be considered a more appropriate option than aggressive total resection. The consequences of surgically acquired neurological deficits\n",
      "(exempli gratia language, cognitive, motor, coordination and visual deficits) can be significant. If surgical resection is not safe because of the\n",
      "tumor location or impaired performance status, a biopsy should be obtained if feasible.\n",
      "\n",
      "Prediction:\n",
      " Surgery is the initial therapeutic approach for tumor debulking and to obtain tissue for diagnosis.\n",
      "The aim of surgery is maximum tumor resection while maintaining neurological function. The\n",
      "consequences of surgically acquired neurological deficits can be significant.\n",
      "\n",
      "Reference:\n",
      "The initial therapeutic approach is surgical tumor debulking and biopsy; maximum tumor resection\n",
      "should be attempted if neurological function can be maintained.\n",
      "\n",
      "####################################################################################################\n",
      "\n",
      "(9783318066241, 'ch6')\n",
      "However, local complications such as pancreatic necrosis are associated with fluid sequestration, as intravascular liquid leaks to the\n",
      "retroperitoneum. This results in hemoconcentration and it has been suggested that an increased hematocrit is in fact a marker for local complications,\n",
      "not their cause (reverse causation bias). In 2009 and 2010, two studies were published by the same research group., These were open-label randomized\n",
      "controlled trials (RCTs) comparing a more aggressive versus a moderate fluid volume administration (10-15 vs 5-10 mL/kg/hour) and a more rapid versus\n",
      "a slower hemodilution (hematocrit < 35% vs >= 35% at 48 hours) in patients with severe AP according to the classic 1993 Atlanta criteria (presence of\n",
      "local complications and/or organ failure). In both trials, the more aggressive approach was associated with worse outcomes, including decreased\n",
      "survival. These studies suggested that vigorous resuscitation is dangerous in patients with severe AP. The studies had some flaws, including being\n",
      "open-label single-center RCTs, with suboptimal randomization, an unexpectedly high rate of sepsis in patients with aggressive resuscitation and large\n",
      "differences in mortality between treatment groups despite a very small sample of patients, and they require validation.\n",
      "\n",
      "Prediction:\n",
      " Local complications such as pancreatic necrosis are associated with fluid sequestration, as\n",
      "intravascular liquid leaks to the retroperitoneum. Increased hematocrit is in fact a marker for\n",
      "local complications, not their cause (reverse causation bias)\n",
      "\n",
      "Reference:\n",
      "There is a lack of well-designed randomized clinical trials addressing the best fluid volume rate to\n",
      "improve outcomes.\n",
      "\n",
      "####################################################################################################\n",
      "\n",
      "(9781910797662, 'ch07')\n",
      "Locally advanced cancers and tumors that have spread to loco-regional lymph nodes are associated with an increased risk of local relapse and a higher\n",
      "risk of micrometastatic disease at diagnosis. Five-year survival is about 35%. Lymph node involvement is identified through lymph node dissection or\n",
      "accurate imaging. The primary cancer may still be amenable to local therapy, and is potentially curable in the absence of distant metastases. Optimum\n",
      "systemic therapy with cisplatin-based chemotherapy is standard of care for patients with adequate renal function who are suitable for chemotherapy.\n",
      "\n",
      "Prediction:\n",
      " Five-year survival is about 35%. Lymph node involvement is identified through lymph node dissection\n",
      "or accurate imaging. The primary cancer may still be amenable to local therapy.\n",
      "\n",
      "Reference:\n",
      "Cisplatin-based chemotherapy can provide excellent outcomes for some patients with advanced or\n",
      "metastatic disease.\n",
      "\n",
      "####################################################################################################\n",
      "\n",
      "(9781910797723, 'chp3')\n",
      "What types of tumor are potentially susceptible to immuno-oncology?. Clearly, the potential sensitivity of a given cancer to immuno-oncology therapies\n",
      "will depend on the ability of the tumor to trigger an immune response (immunogenicity). Cancer is characterized by an accumulation of genetic\n",
      "mutations, many of which result in the expression of cancer-specific antigens that can bind to major histocompatibility complex (MHC) class I\n",
      "molecules on the cancer cell surface. These antigen-MHC complexes can be recognized by cytotoxic CD8+ lymphocytes, that, if activated, could\n",
      "potentially mount an immune response against the tumor. As a result, tumors with high somatic mutation rates may be more susceptible to immuno-\n",
      "oncology therapies than those with lower mutation rates. Somatic mutation rates differ markedly, both between tumor types and within an individual\n",
      "tumor type: the rate may vary more than 1000-fold between tumors with the highest and lowest rates (Figure 3.2). The highest rates are seen in cancers\n",
      "of the skin, lung, bladder and stomach, while the lowest are seen in hematologic and pediatric cancers. It is noteworthy that the highest rates occur\n",
      "in tumors that are induced by carcinogens such as tobacco smoke or ultraviolet light.\n",
      "\n",
      "Prediction:\n",
      " The potential sensitivity of a given cancer to immuno-oncology therapies will depend on the ability\n",
      "of the tumor to trigger an immune response (immunogenicity) Cancer is characterized by an\n",
      "accumulation of genetic mutations, many of which result in the expression of cancer-specific\n",
      "antigens. Somatic mutation rates differ markedly, both between tumor types and within an individual\n",
      "tumor type.\n",
      "\n",
      "Reference:\n",
      "The potential sensitivity of a given cancer to immunotherapy depends on the immunogenicity of the\n",
      "tumor, which is related to the somatic mutation rate within tumor cells.- The highest mutation rates\n",
      "are seen in cancers of the skin, lung, bladder and stomach, rendering these tumor types more\n",
      "sensitive to immunotherapy.\n",
      "\n",
      "####################################################################################################\n",
      "\n",
      "(9781910797471, 'ch02')\n",
      "Advances in the management of heart failure (HF) over the past 20 years have been informed by a better understanding of its pathophysiology. There are\n",
      "few situations in cardiology where treatment has been as closely linked to an appreciation of the underlying science. Vicious cycle of heart failure.\n",
      "HF is a disease of inappropriate adaptation to injury. The body has a limited range of compensatory responses to circulatory impairment, mainly\n",
      "vasoconstriction and sodium and water retention (see below). In general, however, these adjustments to hypovolemia are poorly suited to pump failure,\n",
      "and increases in the preload and afterload of the failing heart lead to worsening HF (Figure 2.1). Neurohormonal pathways activated in HF include the\n",
      "sympathetic nervous system (SNS), the renin-angiotensin-aldosterone system (RAAS) and the natriuretic peptide (NP) system. They play a significant\n",
      "role in the pathophysiology of HF, and pharmacological interventions have been developed accordingly (see Chapter 7).\n",
      "\n",
      "Prediction:\n",
      " Advances in the management of heart failure (HF) over the past 20 years have been informed by a\n",
      "better understanding of its pathophysiology. HF is a disease of inappropriate adaptation to injury.\n",
      "The body has a limited range of compensatory responses to circulatory impairment, mainly\n",
      "vasoconstriction and sodium and water retention.\n",
      "\n",
      "Reference:\n",
      "Inappropriate non-cardiac responses include activation of a variety of hormonal reflexes\n",
      "(vasoconstriction, and sodium and water retention). Reversal of these inappropriate responses is\n",
      "critical to the management of HF.\n",
      "\n",
      "####################################################################################################\n",
      "\n",
      "(9781910797815, 'chp9')\n",
      "There are no specific diagnostic criteria for MPN-BP. The principal criterion is the same as for de novo acute myeloid leukemia (AML): more than 20%\n",
      "blasts in bone marrow or peripheral blood. Persistence is also important if only peripheral blood blasts are considered. Importantly, acceleration or\n",
      "progression of myelofibrosis is usually apparent before the development of overt leukemia. Signs of this include.\n",
      "\n",
      "Prediction:\n",
      " There are no specific diagnostic criteria for MPN-BP. The principal criterion is the same as for de\n",
      "novo acute myeloid leukemia (AML): more than 20% blasts in bone marrow or peripheral blood.\n",
      "\n",
      "Reference:\n",
      "Signs of accelerating myelofibrosis may precede the development of overt leukemia.\n",
      "\n",
      "####################################################################################################\n",
      "\n",
      "(9783318068207, 'hh-7')\n",
      "Melanoma is a highly mutated malignancy, with mutations documented in all subtypes (Table 5.3)., The KIT mutation is associated with chronic sun\n",
      "damage. The BRAF mutation is present in 11% of patients with mucosal melanoma, NRAS mutation in 5% and KIT mutation in 15-20%. From a molecular point\n",
      "of view, uveal melanoma is a distinct condition characterized, in 50% of patients, by the presence of a GNAQ mutation. The presence of BRAF and NRAS\n",
      "mutations has not been described in uveal melanoma. The serine/threonine kinase BRAF is involved in the downstream signaling of the RTK and RAS\n",
      "proteins. Approximately half of melanomas show BRAF point mutations (Figure 5.2). In the majority of cases, a valine at position 600 is mutated to\n",
      "glutamic acid or lysine (BRAF p.V600E and BRAF p.V600K); both mutations are associated with kinase activation that results from relieving an\n",
      "intramolecular autoinhibitory interaction between the activation segment and P-loop of the protein.\n",
      "\n",
      "Prediction:\n",
      " The BRAF mutation is present in 11% of patients with mucosal melanoma, NRAS mutation in 5% and KIT\n",
      "mutation in 15-20%. The presence of BRAF and NRAS mutations has not been described in uveal\n",
      "melanoma.\n",
      "\n",
      "Reference:\n",
      "Melanoma is a highly mutated malignancy, with mutations - including BRAF, NRAS and KIT - documented\n",
      "in all melanoma subtypes.\n",
      "\n",
      "####################################################################################################\n",
      "\n",
      "(9781910797815, 'chp4')\n",
      "Management of low-risk patients. Treatment to reduce cardiovascular risk factors, and promotion of a generally healthy lifestyle, may be sufficient\n",
      "intervention for very-low-risk patients. Smoking cessation should be actively promoted because cigarette smoking has been shown to be an independent\n",
      "risk factor for thrombosis in patients with ET. Low-dose aspirin has been shown to reduce both microvascular symptoms (exempli gratia erythromelalgia)\n",
      "and transient neurological and visual disturbances such as hemiparesis, scintillating scotomas, amaurosis fugax (transcient monocular blindness) and\n",
      "seizures. There is also evidence that antiplatelet therapy reduces the risk of venous thrombosis in patients with JAK2 V617F mutations and\n",
      "cardiovascular risk factors (arterial thrombosis). Higher doses of aspirin (up to 500 mg daily) may be required in patients with acute\n",
      "erythromelalgia.\n",
      "\n",
      "Prediction:\n",
      " Low-dose aspirin has been shown to reduce microvascular symptoms (exempli gratia erythromelalgia)\n",
      "and transient neurological and visual disturbances. Smoking cessation should be actively promoted\n",
      "because cigarette smoking has been shown to be an independent risk factor for thrombosis.\n",
      "\n",
      "Reference:\n",
      "All patients should receive interventions to reduce cardiovascular risk factors, particularly\n",
      "smoking cessation advice.\n",
      "\n",
      "####################################################################################################\n",
      "\n",
      "(9781908541277, 'ch_11')\n",
      "There are no clear data indicating differences in safety among PHT, CBZ, PB and PRM. Current evidence suggests that the risk of major congenital\n",
      "malformations is two to four times higher with the use of VPA than with other AEDs such as CBZ and LTG. Absolute rates have ranged from 6% to 11%,\n",
      "although the risk may be minimized by keeping daily doses at or below 1000 mg. High-dose exposure to VPA in utero may impair later cognitive function.\n",
      "The teratogenic risk associated with LTG monotherapy is low and is similar to that associated with CBZ, although preliminary data suggest the\n",
      "possibility of greater risk of major malformations at higher dosage. There are still insufficient data regarding the safety of other modern AEDs.\n",
      "\n",
      "Prediction:\n",
      " Current evidence suggests that the risk of major congenital malformations is two to four times\n",
      "higher with the use of VPA than with other AEDs such as CBZ and LTG. There are still insufficient\n",
      "data regarding the safety of other modern AEDs.\n",
      "\n",
      "Reference:\n",
      "The risk of major malformations in babies exposed in utero seems to be greater with sodium valproate\n",
      "(VPA) than with other AEDs.\n",
      "\n",
      "####################################################################################################\n",
      "\n"
     ]
    }
   ],
   "source": [
    "print_examples('sshleifer/distilbart-cnn-12-6', df_val)"
   ]
  },
  {
   "cell_type": "markdown",
   "metadata": {
    "id": "UTUY8QgQa2WM"
   },
   "source": [
    "##### Print Test Examples"
   ]
  },
  {
   "cell_type": "code",
   "execution_count": null,
   "metadata": {
    "colab": {
     "base_uri": "https://localhost:8080/"
    },
    "executionInfo": {
     "elapsed": 80183,
     "status": "ok",
     "timestamp": 1610379567284,
     "user": {
      "displayName": "Marco Pietro Abrate",
      "photoUrl": "https://lh3.googleusercontent.com/a-/AOh14Gjh-8YF-8BlnrkN9mLZ0xfVOWfOh7kYncpYRv-Y=s64",
      "userId": "15422244832836998434"
     },
     "user_tz": -60
    },
    "id": "D9rpcejOa2WO",
    "outputId": "f7bc9c55-b515-46e7-cb5e-9126e0e082c7"
   },
   "outputs": [
    {
     "name": "stdout",
     "output_type": "stream",
     "text": [
      "[+] model already present in cache\n",
      "\n",
      "(9781908541277, 'ch_8')\n",
      "After a hiatus of nearly 20 years, 16 new AEDs and two devices - the vagus nerve stimulator and deep brain stimulator - have received licenses for the\n",
      "adjunctive treatment of refractory epilepsy, the last so far only in Europe. Gabapentin (GBP), lacosamide (LCM), LTG, levetiracetam (LEV),\n",
      "oxcarbazepine (OXC), pregabalin (PGB), tiagabine (TGB), TPM and zonisamide (ZNS) are widely available for partial seizures. Rufinamide (RFN) has been\n",
      "licensed in Europe and the USA for adjunctive treatment of seizures in Lennox-Gastaut syndrome. Eslicarbazepine acetate (ESL) is licensed in Europe as\n",
      "adjunctive treatment for partial seizures with or without secondary generalization. Retigabine (RTG; ezogabine in the USA) and perampanel (PER) have\n",
      "recently been approved for use in Europe and the USA for the same indication. After 20 years of global experience, vigabatrin (VGB) has been approved\n",
      "in the USA for the treatment of infantile spasms and as add-on therapy for drug-resistant complex partial seizures. However, the use of VGB has also\n",
      "been markedly restricted because of reports of concentric visual field defects in up to 40% of patients. Stiripentol (STP) was licensed in 2001 for\n",
      "the adjunctive treatment of Dravet syndrome in Europe via the orphan drugs system. A similar arrangement has taken place in the USA for CLB in the\n",
      "treatment of Lennox-Gastaut syndrome. This drug has been available elsewhere in the world since the 1970s. The progress of felbamate (FBM) has been\n",
      "dramatically curtailed because of the unusual development of idiosyncratic life-threatening bone-marrow and liver toxicities. The advent of these\n",
      "newer agents has provided many more options in the management of refractory epilepsy, although whether overall outcomes have improved substantially is\n",
      "debatable.\n",
      "\n",
      "Prediction:\n",
      " 16 new AEDs and two devices have received licenses for the adjunctive treatment of refractory\n",
      "epilepsy. Gabapentin (GBP), lacosamide (LCM), LTG, levetiracetam (LEV), oxcarbazepine (OXC),\n",
      "pregabalin (PGB), tiagabine (TGB), TPM and zonisamide (ZNS) are widely available for partial\n",
      "seizures.\n",
      "\n",
      "Reference:\n",
      "Sixteen new antiepileptic drugs (AEDs) have been approved for the treatment of epilepsy since the\n",
      "late 1980s.\n",
      "\n",
      "####################################################################################################\n",
      "\n",
      "(9781910797426, 'ch03')\n",
      "There are relatively few contraindications to this procedure. They include severe coagulopathy, severe congestive heart failure and chronic\n",
      "obstructive pulmonary disease; patients with either of the last two conditions may not tolerate the pneumoperitoneum needed for a laparoscopic\n",
      "cholecystectomy. Previous upper abdominal surgery may make the procedure difficult. Laparoscopic cholecystectomy can be performed in patients with\n",
      "well-compensated liver cirrhosis, although there is an increased risk of bleeding in some patients. Conversion to an open operation is needed in about\n",
      "5% of elective laparoscopic cholecystectomies, usually because anatomic landmarks cannot be seen clearly enough.\n",
      "\n",
      "Prediction:\n",
      " Laparoscopic cholecystectomy can be performed in patients with well-compensated liver cirrhosis.\n",
      "There is an increased risk of bleeding in some patients.\n",
      "\n",
      "Reference:\n",
      "Patients with gallbladder polyps more than 1 cm in size should be considered for cholecystectomy\n",
      "owing to the increased risk of malignancy.\n",
      "\n",
      "####################################################################################################\n",
      "\n",
      "(9781910797907, 'chp2')\n",
      "Despite being the best studied of the glycolytic enzyme disorders, gaps remain in our understanding of pyruvate kinase (PK) deficiency. More than 600\n",
      "cases of PK deficiency have been reported, mainly from Europe, the USA and Japan, but the disease occurs worldwide, and it is likely that many cases\n",
      "go unreported. This may be because affected individuals die before birth, or because cases are mild and do not require medical attention.\n",
      "Alternatively, some cases may not be properly recognized, or they may be misdiagnosed. Given that some cases may not present with any of the findings\n",
      "usually associated with the condition, there are likely to be more cases of PK deficiency than are published in the literature. Patient registries\n",
      "have now been developed for PK deficiency, which are helping to characterize the range of symptoms and complications arising from this disorder.\n",
      "\n",
      "Prediction:\n",
      " More than 600 cases of PK deficiency have been reported, mainly from Europe, the USA and Japan. The\n",
      "disease occurs worldwide, and it is likely that many cases go unreported.\n",
      "\n",
      "Reference:\n",
      "Some mutations are seen more frequently in specific regions and populations.\n",
      "\n",
      "####################################################################################################\n",
      "\n",
      "(9781910797105, 'ch05')\n",
      "The risk is further increased if minor psychotic symptoms pre-exist and if cannabis use starts early in adolescence. Research suggests that this\n",
      "effect of cannabis may be mediated by a particular gene. Those with a specific version of the catechol- O -methyltransferase (COMT) gene, carried by\n",
      "about a quarter of the general population, appear to be especially prone to psychosis after cannabis use. Delta-9-THC, the active component of\n",
      "cannabis, disrupts learning and recall in schizophrenia. Psychosocial risk factors. There is emerging evidence for the role of non-biological risk\n",
      "factors in schizophrenia, such as the effects of urban upbringing and of ethnicity, as noted in Chapter 3.\n",
      "\n",
      "Prediction:\n",
      " Research suggests that this effect of cannabis may be mediated by a particular gene. Those with a\n",
      "specific version of the catechol- O -methyltransferase (COMT) gene, carried by about a quarter of\n",
      "the general population, appear to be especially prone to psychosis after cannabis use.\n",
      "\n",
      "Reference:\n",
      "Early neurodevelopmental, non-genetic risk factors exist for schizophrenia.\n",
      "\n",
      "####################################################################################################\n",
      "\n",
      "(9781908541680, 'ch_4')\n",
      "Definition of the metabolic syndrome is of value because it ensures that any patient with a single cardiovascular risk factor, including obesity, is\n",
      "screened for the others, as their presence is statistically highly likely and coexistent cardiometabolic risks multiply the overall risk. It also\n",
      "ensures that a patient with multiple risk factors, even those considered borderline, is managed as a high-risk individual. The aim of management is to\n",
      "tackle the syndrome as a whole, and obesity in particular. Management of single or even multiple cardiometabolic risk factors, for example\n",
      "hypertension or hyperlipidemia alone, or even the combination of hyperlipidemia, hyperglycemia and hypertension, is insufficient; the fundamental\n",
      "issues of excess and pathologically distributed body fat, exercise deficiency and a nutritionally poor diet require attention.\n",
      "\n",
      "Prediction:\n",
      " The aim of management is to tackle the syndrome as a whole, and obesity in particular. Management\n",
      "of single or even multiple cardiometabolic risk factors is insufficient.\n",
      "\n",
      "Reference:\n",
      "Obesity significantly affects cardiometabolic status and risk.\n",
      "\n",
      "####################################################################################################\n",
      "\n",
      "(9781908541024, 'ch_12')\n",
      "The vast majority of primary brain tumors occur sporadically, but a small number appear to be familial. The etiology of sporadic brain tumors is\n",
      "unknown, but environmental factors are suspected. Most patients with a family history of primary brain tumors have a hereditary disease that is known\n",
      "to be associated with such tumors, such as tuberous sclerosis, neurofibromatosis, familial polyposis or Li-Fraumeni syndrome. However, some patients\n",
      "do not have any underlying or obvious hereditary disorder that would predispose them to primary brain tumors, but nevertheless give a striking history\n",
      "of these tumors in first-degree relatives. Usually, the tumors are found to be high-grade gliomas.\n",
      "\n",
      "Prediction:\n",
      " The vast majority of primary brain tumors occur sporadically, but a small number appear to be\n",
      "familial. The etiology of sporadic brain tumors is unknown, but environmental factors are suspected.\n",
      "\n",
      "Reference:\n",
      "There are several syndromes associated with an inherited predisposition to a variety of brain\n",
      "tumors. However, the vast majority of brain tumors are not inherited.\n",
      "\n",
      "####################################################################################################\n",
      "\n",
      "(9781910797211, 'ch04')\n",
      "The study started in 2000 with a median follow-up of 3 years and maximum of 7 years. During this time the dopamine agonists varied, including ergot\n",
      "agonists that are no longer in widespread use. The randomization to levodopa or alternative regimens was at the discretion of the clinician and a\n",
      "large part of the study was conducted in centers for the care of the elderly. The findings suggest relatively small but persistent benefits of\n",
      "starting therapy with levodopa rather than the listed alternatives. Interestingly, initial treatment with a MAOB inhibitor appeared to be at least as\n",
      "effective as treatment with a dopamine agonist. Patients assigned to the levodopa arm scored, on average, 1.8 points (95% CI 0.5-3.0) higher on the\n",
      "Parkinson's Disease Questionnaire-39 (PDQ-39) mobility subscale than those assigned to levodopa-sparing therapies; however, the effects on non-motor\n",
      "aspects of the scale are unclear. A cost-utility analysis of the study will be reported separately. If levodopa is used and the dose is titrated to\n",
      "the response, most patients initially need 50-100 mg three times daily to produce a consistent effect without fluctuations. Within 2-3 years, most\n",
      "will need a more frequent dosage to avoid fluctuations; smaller, more frequent doses (every 2-3 hours) often lead to an overall increase in dose. COMT\n",
      "inhibitors or dopamine agonists can, however, be introduced instead of increasing the frequency of levodopa.\n",
      "\n",
      "Prediction:\n",
      " The study started in 2000 with a median follow-up of 3 years and maximum of 7 years. Patients\n",
      "assigned to the levodopa arm scored, on average, 1.8 points (95% CI 0.5-3.0) higher on the\n",
      "Parkinson's Disease Questionnaire-39 (PDQ-39) mobility subscale than those assigned to levodopa-\n",
      "sparing therapies.\n",
      "\n",
      "Reference:\n",
      "Trial data indicate that treatment of Parkinson's disease could be initiated with levodopa, oral\n",
      "dopamine agonists or a monoamine oxidase B (MAOB) inhibitor. The PD MED study seems to suggest that\n",
      "initial therapy with levodopa offers a small but persistent benefit compared with the alternatives,\n",
      "and initial MAOB inhibitor treatment is at least as effective as a dopamine agonist.\n",
      "\n",
      "####################################################################################################\n",
      "\n",
      "(9781908541963, 'chapter5')\n",
      "Liver transplantation is still the only effective treatment for advanced PBC. The indications for transplantation are liver failure, defined by the\n",
      "Model for End-Stage Liver Disease (MELD) as a disease severity score ranging from 4 to 40, typically above 20; severe and intractable pruritus; and\n",
      "hepatocellular carcinoma The results of liver transplantation for PBC are excellent. There is evidence that PBC recurs in the transplanted liver, but\n",
      "this phenomenon appears to be of little clinical relevance in the first 10-15 years after transplantation.\n",
      "\n",
      "Prediction:\n",
      " Liver transplantation is still the only effective treatment for advanced PBC. There is evidence\n",
      "that PBC recurs in the transplanted liver, but this phenomenon appears to be of little clinical\n",
      "relevance in the first 10-15 years after transplant.\n",
      "\n",
      "Reference:\n",
      "Liver transplantation is an excellent treatment for end-stage AIH and PBC.\n",
      "\n",
      "####################################################################################################\n",
      "\n",
      "(9781910797426, 'ch03')\n",
      "Etiology and pathogenesis. Chronic gallbladder inflammation is attributed as an etiologic factor in gallbladder cancer along with molecular\n",
      "alterations in p53 and K-ras. Inflammation may occur as a result of gallstones, gallbladder polyps, chronic Salmonella infection, congenital biliary\n",
      "cysts, abnormal pancreaticobiliary duct junction, carcinogen exposure and certain drugs. There are molecular differences between gallbladder cancers\n",
      "associated with gallstones and those with an abnormal pancreaticobiliary junction. Epidemiology and risk factors. Gallbladder carcinoma is the fifth\n",
      "most common gastrointestinal (GI) cancer in the USA and is the most common GI cancer in Native Americans. Incidence and mortality are very high in\n",
      "certain Latin American countries, especially Chile.\n",
      "\n",
      "Prediction:\n",
      " Gallbladder carcinoma is the fifth most common gastrointestinal (GI) cancer in the USA and is the\n",
      "most common GI cancer in Native Americans. Inflammation may occur as a result of gallstones,\n",
      "gallbladder polyps, chronic Salmonella infection, congenital biliary cysts, abnormal\n",
      "pancreaticobiliary duct junction, carcinogen exposure and certain drugs.\n",
      "\n",
      "Reference:\n",
      "Gallbladder cancer is the most common gastrointestinal cancer in Native Americans in the USA and\n",
      "also has a very high incidence in certain Latin American countries, particularly Chile.\n",
      "\n",
      "####################################################################################################\n",
      "\n",
      "(9781910797495, 'chp12')\n",
      "Acute headache. The immediate, important first step in assessing a new headache is determining whether the headache is a serious, potentially life-\n",
      "threatening medical event requiring emergency evaluation and management. All the possibilities highlighted in Table 12.1 must be entertained and\n",
      "discarded before considering the headache to be caused by a chronic headache condition. Brain imaging, including neurovascular studies, may be needed\n",
      "as well as cerebrospinal fluid (CSF) pressure measurement and analysis and further evaluation by a neurologist.\n",
      "\n",
      "Prediction:\n",
      " All the possibilities highlighted in Table 12.1 must be entertained and discarded before\n",
      "considering the headache to be caused by a chronic headache condition. Brain imaging, including\n",
      "neurovascular studies, may be needed as well as cerebrospinal fluid (CSF) pressure measurement and\n",
      "analysis.\n",
      "\n",
      "Reference:\n",
      "In patients without history of chronic headaches, determine whether an acute new headache is a\n",
      "serious, potentially life-threatening condition.\n",
      "\n",
      "####################################################################################################\n",
      "\n"
     ]
    }
   ],
   "source": [
    "print_examples('sshleifer/distilbart-cnn-12-6', df_test)"
   ]
  },
  {
   "cell_type": "markdown",
   "metadata": {
    "id": "bKYnUXhvMszX"
   },
   "source": [
    "##### Summarize Test"
   ]
  },
  {
   "cell_type": "code",
   "execution_count": null,
   "metadata": {
    "id": "t3EV4tDfQ1hM"
   },
   "outputs": [],
   "source": [
    "def summarize(model_name_or_path, df, batch_size):\n",
    "    model, tokenizer = import_model_tok(model_name_or_path)\n",
    "    model = model.to(device)\n",
    "\n",
    "    input_ids = tokenizer(df.text.tolist(), return_tensors='pt', padding=True).input_ids\n",
    "    input_ids = input_ids.split(batch_size)\n",
    "\n",
    "    summs = []\n",
    "\n",
    "    pbar = tqdm(total=len(input_ids), \n",
    "                position=0,\n",
    "                leave=True,\n",
    "                file=sys.stdout)\n",
    "    for batch in input_ids:\n",
    "\n",
    "        summ_enc = model.generate(\n",
    "            batch.to(device),\n",
    "            min_length = config.ONE_BULLET_MIN_LEN,\n",
    "            max_length = config.ONE_BULLET_MAX_LEN,\n",
    "            length_penalty = config.LENGTH_PENALTY,\n",
    "            num_beams = config.NUM_BEAMS,\n",
    "            no_repeat_ngram_size = config.NO_REPEAT_NGRAM_SIZE,\n",
    "            early_stopping = True)\n",
    "        summ = tokenizer.batch_decode(summ_enc, skip_special_tokens=True)\n",
    "        summs += summ\n",
    "\n",
    "        pbar.update(1)\n",
    "    pbar.close()\n",
    "\n",
    "    df['summary_'+model_name_or_path] = summs\n",
    "\n",
    "    return df"
   ]
  },
  {
   "cell_type": "code",
   "execution_count": null,
   "metadata": {
    "colab": {
     "base_uri": "https://localhost:8080/"
    },
    "executionInfo": {
     "elapsed": 166736,
     "status": "ok",
     "timestamp": 1610379653841,
     "user": {
      "displayName": "Marco Pietro Abrate",
      "photoUrl": "https://lh3.googleusercontent.com/a-/AOh14Gjh-8YF-8BlnrkN9mLZ0xfVOWfOh7kYncpYRv-Y=s64",
      "userId": "15422244832836998434"
     },
     "user_tz": -60
    },
    "id": "xQ0KCVkXMszZ",
    "outputId": "952485ff-7538-42fb-f7f3-f0a0c95d4e72"
   },
   "outputs": [
    {
     "name": "stdout",
     "output_type": "stream",
     "text": [
      "[+] model already present in cache\n",
      "\n",
      "100%|██████████| 25/25 [01:26<00:00,  3.45s/it]\n"
     ]
    }
   ],
   "source": [
    "df_test = summarize('sshleifer/distilbart-cnn-12-6', df_test, 10)"
   ]
  },
  {
   "cell_type": "markdown",
   "metadata": {
    "id": "xoxYNE9nOSYL"
   },
   "source": [
    "### **Evaluation**"
   ]
  },
  {
   "cell_type": "code",
   "execution_count": null,
   "metadata": {
    "colab": {
     "base_uri": "https://localhost:8080/",
     "height": 34,
     "referenced_widgets": [
      "0de6998129154004a05d274248f97bc8"
     ]
    },
    "executionInfo": {
     "elapsed": 167838,
     "status": "ok",
     "timestamp": 1610379654945,
     "user": {
      "displayName": "Marco Pietro Abrate",
      "photoUrl": "https://lh3.googleusercontent.com/a-/AOh14Gjh-8YF-8BlnrkN9mLZ0xfVOWfOh7kYncpYRv-Y=s64",
      "userId": "15422244832836998434"
     },
     "user_tz": -60
    },
    "id": "1d6eIfp0OWYh",
    "outputId": "3a743e56-58d4-410e-9243-15e77d293850"
   },
   "outputs": [
    {
     "data": {
      "application/vnd.jupyter.widget-view+json": {
       "model_id": "0de6998129154004a05d274248f97bc8",
       "version_major": 2,
       "version_minor": 0
      },
      "text/plain": [
       "HBox(children=(FloatProgress(value=0.0, description='Downloading', max=1955.0, style=ProgressStyle(description…"
      ]
     },
     "metadata": {
      "tags": []
     },
     "output_type": "display_data"
    },
    {
     "name": "stdout",
     "output_type": "stream",
     "text": [
      "\n"
     ]
    }
   ],
   "source": [
    "from datasets import load_metric\n",
    "\n",
    "metric = load_metric(\"rouge\")"
   ]
  },
  {
   "cell_type": "markdown",
   "metadata": {
    "id": "mIcAg1ss4qIR"
   },
   "source": [
    "##### Evaluate summaries"
   ]
  },
  {
   "cell_type": "code",
   "execution_count": null,
   "metadata": {
    "id": "NN-p4XvvxPLi"
   },
   "outputs": [],
   "source": [
    "def evaluate_model(df, model_name_or_path):\n",
    "    rouge_res =\\\n",
    "        df[['bullets', 'summary_'+model_name_or_path]]\\\n",
    "        .apply(lambda row:\n",
    "        metric.compute(\n",
    "            predictions = [row[1]],\n",
    "            references = [row[0]],\n",
    "            rouge_types = config.ROUGE_TYPES,\n",
    "            use_agregator = False), axis=1)\n",
    "\n",
    "    for r in config.ROUGE_TYPES:\n",
    "        for i, prf in enumerate(['precision', 'recall', 'fmeasure']):\n",
    "            df[r+'_'+prf+'_'+model_name_or_path] =\\\n",
    "                rouge_res.map(lambda score: score[r][0][i])\n",
    "    \n",
    "    df_save = df[[c for c in df_test.columns if c.startswith('rouge')]]\n",
    "    df_save.to_csv(OUTPUT_PATH+model_name_or_path.replace('/', '?')+'.csv')\n",
    "    \n",
    "    return df"
   ]
  },
  {
   "cell_type": "code",
   "execution_count": null,
   "metadata": {
    "id": "mCx3f697SXPm"
   },
   "outputs": [],
   "source": [
    "df_test = evaluate_model(df_test, 'sshleifer/distilbart-cnn-12-6')"
   ]
  },
  {
   "cell_type": "markdown",
   "metadata": {
    "id": "GlnC1NYkRrQH"
   },
   "source": [
    "##### Plot Evaluation"
   ]
  },
  {
   "cell_type": "code",
   "execution_count": null,
   "metadata": {
    "colab": {
     "base_uri": "https://localhost:8080/",
     "height": 398
    },
    "executionInfo": {
     "elapsed": 905,
     "status": "ok",
     "timestamp": 1610380469579,
     "user": {
      "displayName": "Marco Pietro Abrate",
      "photoUrl": "https://lh3.googleusercontent.com/a-/AOh14Gjh-8YF-8BlnrkN9mLZ0xfVOWfOh7kYncpYRv-Y=s64",
      "userId": "15422244832836998434"
     },
     "user_tz": -60
    },
    "id": "lQdQyFl6REbV",
    "outputId": "3e814c25-3f88-4642-afb6-68c136c38f09"
   },
   "outputs": [
    {
     "data": {
      "image/png": "[encoded data removed]",
      "text/plain": [
       "<Figure size 720x432 with 1 Axes>"
      ]
     },
     "metadata": {
      "needs_background": "light",
      "tags": []
     },
     "output_type": "display_data"
    }
   ],
   "source": [
    "plot_evaluation('sshleifer/distilbart-cnn-12-6')"
   ]
  }
 ],
 "metadata": {
  "accelerator": "GPU",
  "colab": {
   "collapsed_sections": [
    "P95DxvqWi_2Y",
    "tvSGvNzvKbvP",
    "S0FByNNOIRvG",
    "JFd0ppeJyX1o",
    "dllOnKR9Os5i",
    "U2mpXoSaQiQE",
    "k0qONrX4Qkkm",
    "JiYIkI5xN2VA",
    "KV669nVZQnzT",
    "WIiEnpvbMkJa",
    "fSqOx7kdMoNJ",
    "UTUY8QgQa2WM",
    "bKYnUXhvMszX",
    "mIcAg1ss4qIR"
   ],
   "name": "summarization_experiments.ipynb",
   "provenance": []
  },
  "kernelspec": {
   "display_name": "Python 3",
   "language": "python",
   "name": "python3"
  },
  "language_info": {
   "codemirror_mode": {
    "name": "ipython",
    "version": 3
   },
   "file_extension": ".py",
   "mimetype": "text/x-python",
   "name": "python",
   "nbconvert_exporter": "python",
   "pygments_lexer": "ipython3",
   "version": "3.6.9"
  },
  "widgets": {
   "application/vnd.jupyter.widget-state+json": {
    "0de6998129154004a05d274248f97bc8": {
     "model_module": "@jupyter-widgets/controls",
     "model_name": "HBoxModel",
     "state": {
      "_dom_classes": [],
      "_model_module": "@jupyter-widgets/controls",
      "_model_module_version": "1.5.0",
      "_model_name": "HBoxModel",
      "_view_count": null,
      "_view_module": "@jupyter-widgets/controls",
      "_view_module_version": "1.5.0",
      "_view_name": "HBoxView",
      "box_style": "",
      "children": [
       "IPY_MODEL_251feb3490de48cc8942b595ac8f354f",
       "IPY_MODEL_d06ab742de2749b589ae895812f7de9e"
      ],
      "layout": "IPY_MODEL_e978710296084926bc5c2db16e1666e3"
     }
    },
    "31b403b9f1954b88a56a1bf2da7da005": {
     "model_module": "@jupyter-widgets/controls",
     "model_name": "HBoxModel",
     "state": {
      "_dom_classes": [],
      "_model_module": "@jupyter-widgets/controls",
      "_model_module_version": "1.5.0",
      "_model_name": "HBoxModel",
      "_view_count": null,
      "_view_module": "@jupyter-widgets/controls",
      "_view_module_version": "1.5.0",
      "_view_name": "HBoxView",
      "box_style": "",
      "children": [
       "IPY_MODEL_6f3cae36737248329fb1abbae01cefff",
       "IPY_MODEL_d85c96f2c6b14e788365bfe9b283ed8b"
      ],
      "layout": "IPY_MODEL_c6238523b53e4745b52b512129201b99"
     }
    },
    "58233d5c388f4ab788050e32cd55ea18": {
     "model_module": "@jupyter-widgets/controls",
     "model_name": "HBoxModel",
     "state": {
      "_dom_classes": [],
      "_model_module": "@jupyter-widgets/controls",
      "_model_module_version": "1.5.0",
      "_model_name": "HBoxModel",
      "_view_count": null,
      "_view_module": "@jupyter-widgets/controls",
      "_view_module_version": "1.5.0",
      "_view_name": "HBoxView",
      "box_style": "",
      "children": [
       "IPY_MODEL_d79a0a2cdc704ee7ada433e6ef1acc7e",
       "IPY_MODEL_88e28bfeffd04c3e8724ad1d76f7aa6e"
      ],
      "layout": "IPY_MODEL_f7b1d650294f405a82dd254e7924aa3a"
     }
    },
    "70b5f49254394831a248fe7543e3e16f": {
     "model_module": "@jupyter-widgets/controls",
     "model_name": "HBoxModel",
     "state": {
      "_dom_classes": [],
      "_model_module": "@jupyter-widgets/controls",
      "_model_module_version": "1.5.0",
      "_model_name": "HBoxModel",
      "_view_count": null,
      "_view_module": "@jupyter-widgets/controls",
      "_view_module_version": "1.5.0",
      "_view_name": "HBoxView",
      "box_style": "",
      "children": [
       "IPY_MODEL_83e97228cea64bc0b89a88ce93c8b2a7",
       "IPY_MODEL_c7b46eac30674ef29687152aa9e036fd"
      ],
      "layout": "IPY_MODEL_fc476c569053458f9fea5b1847c3cb25"
     }
    },
    "7343c33af570460ab302cb0ba6f7bdfd": {
     "model_module": "@jupyter-widgets/controls",
     "model_name": "HBoxModel",
     "state": {
      "_dom_classes": [],
      "_model_module": "@jupyter-widgets/controls",
      "_model_module_version": "1.5.0",
      "_model_name": "HBoxModel",
      "_view_count": null,
      "_view_module": "@jupyter-widgets/controls",
      "_view_module_version": "1.5.0",
      "_view_name": "HBoxView",
      "box_style": "",
      "children": [
       "IPY_MODEL_03c3ee684536491384d08180121ed62e",
       "IPY_MODEL_b984b636214b426487402e05e1734b87"
      ],
      "layout": "IPY_MODEL_afe785fd70ab45f7a0d847bbfba4bf9b"
     }
    },
    "a843e89f1ea44712b9f8d2485051105b": {
     "model_module": "@jupyter-widgets/controls",
     "model_name": "HBoxModel",
     "state": {
      "_dom_classes": [],
      "_model_module": "@jupyter-widgets/controls",
      "_model_module_version": "1.5.0",
      "_model_name": "HBoxModel",
      "_view_count": null,
      "_view_module": "@jupyter-widgets/controls",
      "_view_module_version": "1.5.0",
      "_view_name": "HBoxView",
      "box_style": "",
      "children": [
       "IPY_MODEL_c7ff31cd566c48649b79b9d2590911aa",
       "IPY_MODEL_25ad20953415473698dfa58a10a3af6d"
      ],
      "layout": "IPY_MODEL_dc3409db9541406b808aa57bbd96bbd7"
     }
    }
   }
  }
 },
 "nbformat": 4,
 "nbformat_minor": 1
}
