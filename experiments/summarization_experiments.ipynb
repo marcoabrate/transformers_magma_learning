{
 "cells": [
  {
   "cell_type": "code",
   "execution_count": 1,
   "metadata": {},
   "outputs": [],
   "source": [
    "magma_dir = '/home/marco/epfl/magma/'\n",
    "transformers_dir = '/home/marco/epfl/transformers/'"
   ]
  },
  {
   "cell_type": "markdown",
   "metadata": {
    "id": "S0FByNNOIRvG"
   },
   "source": [
    "### **Config**"
   ]
  },
  {
   "cell_type": "code",
   "execution_count": 2,
   "metadata": {
    "executionInfo": {
     "elapsed": 56562,
     "status": "ok",
     "timestamp": 1610462036504,
     "user": {
      "displayName": "Marco Pietro Abrate",
      "photoUrl": "https://lh3.googleusercontent.com/a-/AOh14Gjh-8YF-8BlnrkN9mLZ0xfVOWfOh7kYncpYRv-Y=s64",
      "userId": "15422244832836998434"
     },
     "user_tz": -60
    },
    "id": "3BHImWfNKpDN"
   },
   "outputs": [],
   "source": [
    "import os\n",
    "import sys\n",
    "\n",
    "sys.path.insert(0, magma_dir)\n",
    "import config\n",
    "\n",
    "from torch import cuda\n",
    "device = 'cuda' if cuda.is_available() else 'cpu'"
   ]
  },
  {
   "cell_type": "code",
   "execution_count": 3,
   "metadata": {
    "executionInfo": {
     "elapsed": 56579,
     "status": "ok",
     "timestamp": 1610462036523,
     "user": {
      "displayName": "Marco Pietro Abrate",
      "photoUrl": "https://lh3.googleusercontent.com/a-/AOh14Gjh-8YF-8BlnrkN9mLZ0xfVOWfOh7kYncpYRv-Y=s64",
      "userId": "15422244832836998434"
     },
     "user_tz": -60
    },
    "id": "82WSp6khIcua"
   },
   "outputs": [],
   "source": [
    "MODEL = 'bart'\n",
    "MODELS = {}"
   ]
  },
  {
   "cell_type": "markdown",
   "metadata": {
    "id": "JFd0ppeJyX1o"
   },
   "source": [
    "### **Init**"
   ]
  },
  {
   "cell_type": "code",
   "execution_count": 4,
   "metadata": {
    "executionInfo": {
     "elapsed": 56577,
     "status": "ok",
     "timestamp": 1610462036525,
     "user": {
      "displayName": "Marco Pietro Abrate",
      "photoUrl": "https://lh3.googleusercontent.com/a-/AOh14Gjh-8YF-8BlnrkN9mLZ0xfVOWfOh7kYncpYRv-Y=s64",
      "userId": "15422244832836998434"
     },
     "user_tz": -60
    },
    "id": "yCzod0OizR5U"
   },
   "outputs": [],
   "source": [
    "import matplotlib.pyplot as plt\n",
    "import numpy as np\n",
    "import torch\n",
    "import re\n",
    "import pandas as pd\n",
    "from tqdm import tqdm\n",
    "from textwrap import fill"
   ]
  },
  {
   "cell_type": "markdown",
   "metadata": {
    "id": "dllOnKR9Os5i"
   },
   "source": [
    "### **Function Definition**"
   ]
  },
  {
   "cell_type": "markdown",
   "metadata": {
    "id": "U2mpXoSaQiQE"
   },
   "source": [
    "##### Import Model and Tok"
   ]
  },
  {
   "cell_type": "code",
   "execution_count": 5,
   "metadata": {
    "executionInfo": {
     "elapsed": 55531,
     "status": "ok",
     "timestamp": 1610462036527,
     "user": {
      "displayName": "Marco Pietro Abrate",
      "photoUrl": "https://lh3.googleusercontent.com/a-/AOh14Gjh-8YF-8BlnrkN9mLZ0xfVOWfOh7kYncpYRv-Y=s64",
      "userId": "15422244832836998434"
     },
     "user_tz": -60
    },
    "id": "XhBGMJVFOs5l"
   },
   "outputs": [],
   "source": [
    "def import_model_tok(model_name_or_path):\n",
    "    global MODELS\n",
    "\n",
    "    if model_name_or_path in MODELS.keys():\n",
    "        print('[+] model already present in cache\\n')\n",
    "        return MODELS[model_name_or_path]\n",
    "    print('[*] importing the model\\n')\n",
    "\n",
    "    if 'bart' in MODEL:\n",
    "        from transformers import BartForConditionalGeneration, BartTokenizer\n",
    "\n",
    "        model = BartForConditionalGeneration.from_pretrained(model_name_or_path)\n",
    "        tokenizer = BartTokenizer.from_pretrained(model_name_or_path)\n",
    "    elif 'pegasus' in MODEL:\n",
    "        from transformers import PegasusForConditionalGeneration, PegasusTokenizer\n",
    "\n",
    "        model = PegasusForConditionalGeneration.from_pretrained(model_name_or_path)\n",
    "        tokenizer = PegasusTokenizer.from_pretrained(model_name_or_path)\n",
    "\n",
    "    MODELS[model_name_or_path] = model, tokenizer\n",
    "    print('[+] the model is now present in cache\\n')\n",
    "    return MODELS[model_name_or_path]"
   ]
  },
  {
   "cell_type": "markdown",
   "metadata": {
    "id": "k0qONrX4Qkkm"
   },
   "source": [
    "##### Nice Print"
   ]
  },
  {
   "cell_type": "code",
   "execution_count": 6,
   "metadata": {
    "executionInfo": {
     "elapsed": 55529,
     "status": "ok",
     "timestamp": 1610462036529,
     "user": {
      "displayName": "Marco Pietro Abrate",
      "photoUrl": "https://lh3.googleusercontent.com/a-/AOh14Gjh-8YF-8BlnrkN9mLZ0xfVOWfOh7kYncpYRv-Y=s64",
      "userId": "15422244832836998434"
     },
     "user_tz": -60
    },
    "id": "fAB4i6F5O23C"
   },
   "outputs": [],
   "source": [
    "def print_example(text, summ, bull):\n",
    "    print(fill(text, 100))\n",
    "    print()\n",
    "    if isinstance(summ, list):\n",
    "        for s in summ:\n",
    "            print('Prediction:')\n",
    "            print(fill(s, 100))\n",
    "            print()\n",
    "    else:\n",
    "        print('Prediction:')\n",
    "        print(fill(summ, 100))\n",
    "        print()\n",
    "    print('Reference:')\n",
    "    print(fill(bull, 100))\n",
    "    print()\n",
    "    print(''.join(['#']*100))\n",
    "    print()"
   ]
  },
  {
   "cell_type": "markdown",
   "metadata": {
    "id": "vb_MdivVauzb"
   },
   "source": [
    "## **Summarization experiments**"
   ]
  },
  {
   "cell_type": "markdown",
   "metadata": {
    "id": "SNiCDlGsACvB"
   },
   "source": [
    "##### Model writing the opposite of input"
   ]
  },
  {
   "cell_type": "code",
   "execution_count": 17,
   "metadata": {
    "executionInfo": {
     "elapsed": 1519,
     "status": "ok",
     "timestamp": 1610463040134,
     "user": {
      "displayName": "Marco Pietro Abrate",
      "photoUrl": "https://lh3.googleusercontent.com/a-/AOh14Gjh-8YF-8BlnrkN9mLZ0xfVOWfOh7kYncpYRv-Y=s64",
      "userId": "15422244832836998434"
     },
     "user_tz": -60
    },
    "id": "JJKyzH5WEv27"
   },
   "outputs": [],
   "source": [
    "def summarize(model_name_or_path, text, bullets, num_samples=2):\n",
    "    model, tokenizer = import_model_tok(model_name_or_path)\n",
    "    model = model.to(device)\n",
    "\n",
    "    summ_enc = model.generate(\n",
    "        tokenizer.encode(text, return_tensors='pt').to(device),\n",
    "        max_length = config.ONE_BULLET_MAX_LEN,\n",
    "        num_return_sequences=num_samples)\n",
    "    summ = []\n",
    "    for i in range(num_samples):\n",
    "        summ.append(tokenizer.decode(summ_enc[i], skip_special_tokens=True))\n",
    "\n",
    "    print_example(text, summ, bullets)"
   ]
  },
  {
   "cell_type": "code",
   "execution_count": 18,
   "metadata": {
    "executionInfo": {
     "elapsed": 1128,
     "status": "ok",
     "timestamp": 1610463040724,
     "user": {
      "displayName": "Marco Pietro Abrate",
      "photoUrl": "https://lh3.googleusercontent.com/a-/AOh14Gjh-8YF-8BlnrkN9mLZ0xfVOWfOh7kYncpYRv-Y=s64",
      "userId": "15422244832836998434"
     },
     "user_tz": -60
    },
    "id": "K98cwOLys0XX"
   },
   "outputs": [],
   "source": [
    "text = 'Long-term risks. As with any form of chronic UV exposure, it is likely that phototherapy carries an increased risk of non-melanoma skin cancers, which increases with cumulative exposure. Broad-band UVB is probably associated with a small increase in the risk of squamous cell carcinomas, particularly in patients receiving high-level exposure (more than 300 treatments). Narrow-band UVB phototherapy has now been in clinical use for long enough to determine the associated risk precisely. On the basis of cancer-risk calculations from mouse models and efficacy data, it seems likely that the risk is at least as great as that associated with broad-band UVB, but probably less than that associated with PUVA. In view of this, phototherapy may be relatively contraindicated for patients with pre-existing risk factors for skin cancer, such as individuals who work outside, those who have already had significant amounts of phototherapy, patients with very fair skin, and those with multiple melanocytic or atypical nevi.'\n",
    "bullets = 'Long-term risks of PUVA include premature skin aging and skin cancer (non-melanoma and melanoma).'"
   ]
  },
  {
   "cell_type": "code",
   "execution_count": 19,
   "metadata": {
    "colab": {
     "base_uri": "https://localhost:8080/"
    },
    "executionInfo": {
     "elapsed": 2768,
     "status": "ok",
     "timestamp": 1610463043184,
     "user": {
      "displayName": "Marco Pietro Abrate",
      "photoUrl": "https://lh3.googleusercontent.com/a-/AOh14Gjh-8YF-8BlnrkN9mLZ0xfVOWfOh7kYncpYRv-Y=s64",
      "userId": "15422244832836998434"
     },
     "user_tz": -60
    },
    "id": "nmtA8163AV3o",
    "outputId": "2b06b172-1132-45ca-c730-9697f07b06f9",
    "scrolled": true
   },
   "outputs": [
    {
     "name": "stdout",
     "output_type": "stream",
     "text": [
      "[+] model already present in cache\n",
      "\n",
      "Long-term risks. As with any form of chronic UV exposure, it is likely that phototherapy carries an\n",
      "increased risk of non-melanoma skin cancers, which increases with cumulative exposure. Broad-band\n",
      "UVB is probably associated with a small increase in the risk of squamous cell carcinomas,\n",
      "particularly in patients receiving high-level exposure (more than 300 treatments). Narrow-band UVB\n",
      "phototherapy has now been in clinical use for long enough to determine the associated risk\n",
      "precisely. On the basis of cancer-risk calculations from mouse models and efficacy data, it seems\n",
      "likely that the risk is at least as great as that associated with broad-band UVB, but probably less\n",
      "than that associated with PUVA. In view of this, phototherapy may be relatively contraindicated for\n",
      "patients with pre-existing risk factors for skin cancer, such as individuals who work outside, those\n",
      "who have already had significant amounts of phototherapy, patients with very fair skin, and those\n",
      "with multiple melanocytic or atypical nevi.\n",
      "\n",
      "Prediction:\n",
      " As with any form of chronic UV exposure, it is likely that phototherapy carries an increased risk\n",
      "of non-melanoma skin cancers. Broad-band UVB is probably associated with a small increase in the\n",
      "risk of squamous cell carcinomas, particularly in patients receiving high-level exposure (more than\n",
      "300 treatments)\n",
      "\n",
      "Prediction:\n",
      " As with any form of chronic UV exposure, it is likely that phototherapy carries an increased risk\n",
      "of non-melanoma skin cancers. Broad-band UVB is probably associated with a small increase in the\n",
      "risk of squamous cell carcinomas, especially in patients receiving high-level exposure (more than\n",
      "300 treatments)\n",
      "\n",
      "Reference:\n",
      "Long-term risks of PUVA include premature skin aging and skin cancer (non-melanoma and melanoma).\n",
      "\n",
      "####################################################################################################\n",
      "\n"
     ]
    }
   ],
   "source": [
    "summarize('sshleifer/distilbart-cnn-12-6', text, bullets)"
   ]
  },
  {
   "cell_type": "code",
   "execution_count": 26,
   "metadata": {
    "colab": {
     "base_uri": "https://localhost:8080/"
    },
    "executionInfo": {
     "elapsed": 2701,
     "status": "ok",
     "timestamp": 1610463080092,
     "user": {
      "displayName": "Marco Pietro Abrate",
      "photoUrl": "https://lh3.googleusercontent.com/a-/AOh14Gjh-8YF-8BlnrkN9mLZ0xfVOWfOh7kYncpYRv-Y=s64",
      "userId": "15422244832836998434"
     },
     "user_tz": -60
    },
    "id": "1DaPtnK2D0sg",
    "outputId": "88eb856c-44d2-49dd-cdaf-430d6433895f",
    "scrolled": true
   },
   "outputs": [
    {
     "name": "stdout",
     "output_type": "stream",
     "text": [
      "[+] model already present in cache\n",
      "\n",
      "Long-term risks. As with any form of chronic UV exposure, it is likely that phototherapy carries an\n",
      "increased risk of non-melanoma skin cancers, which increases with cumulative exposure. Broad-band\n",
      "UVB is probably associated with a small increase in the risk of squamous cell carcinomas,\n",
      "particularly in patients receiving high-level exposure (more than 300 treatments). Narrow-band UVB\n",
      "phototherapy has now been in clinical use for long enough to determine the associated risk\n",
      "precisely. On the basis of cancer-risk calculations from mouse models and efficacy data, it seems\n",
      "likely that the risk is at least as great as that associated with broad-band UVB, but probably less\n",
      "than that associated with PUVA. In view of this, phototherapy may be relatively contraindicated for\n",
      "patients with pre-existing risk factors for skin cancer, such as individuals who work outside, those\n",
      "who have already had significant amounts of phototherapy, patients with very fair skin, and those\n",
      "with multiple melanocytic or atypical nevi.\n",
      "\n",
      "Prediction:\n",
      "There is a small increase in the risk of non-melanoma skin cancer with long-term phototherapy.\n",
      "\n",
      "Prediction:\n",
      "Long-term risks of PUVA include premature skin aging and skin cancer (non-melanoma and melanoma).\n",
      "\n",
      "Prediction:\n",
      "There is a small increase in the risk of non-melanoma skin cancers with long-term phototherapy.\n",
      "\n",
      "Prediction:\n",
      "Long-term risks of PUVA include premature skin aging and skin cancer.\n",
      "\n",
      "Reference:\n",
      "Long-term risks of PUVA include premature skin aging and skin cancer (non-melanoma and melanoma).\n",
      "\n",
      "####################################################################################################\n",
      "\n"
     ]
    }
   ],
   "source": [
    "summarize(magma_dir+'fine-tuning/sshleifer?distilbart-cnn-12-6_karger_books_para_train', text, bullets, 4)"
   ]
  },
  {
   "cell_type": "markdown",
   "metadata": {},
   "source": [
    "## **New compute_metrics Function**"
   ]
  },
  {
   "cell_type": "code",
   "execution_count": 42,
   "metadata": {},
   "outputs": [],
   "source": [
    "from rouge_score import rouge_scorer, scoring\n",
    "import numpy as np\n",
    "import re\n",
    "import nltk\n",
    "from typing import Callable, Dict, Iterable, List, Tuple, Union"
   ]
  },
  {
   "cell_type": "code",
   "execution_count": 43,
   "metadata": {},
   "outputs": [],
   "source": [
    "from sentence_transformers import SentenceTransformer\n",
    "\n",
    "# might want to try 'msmarco-distilbert-base-v2' too\n",
    "sentence_distilroberta = SentenceTransformer('paraphrase-distilroberta-base-v1')"
   ]
  },
  {
   "cell_type": "code",
   "execution_count": 65,
   "metadata": {},
   "outputs": [],
   "source": [
    "ROUGE_KEYS = [\"rouge1\", \"rouge2\", \"rougeL\", \"rougeLsum\"]\n",
    "\n",
    "def add_newline_to_end_of_each_sentence(x: str) -> str:\n",
    "    \"\"\"This was added to get rougeLsum scores matching published rougeL scores for BART and PEGASUS.\"\"\"\n",
    "    re.sub(\"<n>\", \"\", x)  # remove pegasus newline char\n",
    "    return \"\\n\".join(nltk.sent_tokenize(x))\n",
    "\n",
    "def extract_rouge_mid_statistics(dct):\n",
    "    new_dict = {}\n",
    "    for k1, v1 in dct.items():\n",
    "        mid = v1.mid\n",
    "        for stat in [\"precision\", \"recall\", \"fmeasure\"]:\n",
    "            new_dict[k1+'_'+stat] = round(getattr(mid, stat), 4)*100\n",
    "    return new_dict\n",
    "\n",
    "def calculate_rouge(\n",
    "    pred_lns: List[str],\n",
    "    tgt_lns: List[str],\n",
    "    use_stemmer=True,\n",
    "    rouge_keys=ROUGE_KEYS,\n",
    "    return_precision_and_recall=True,\n",
    "    bootstrap_aggregation=True,\n",
    "    newline_sep=True,\n",
    ") -> Dict:\n",
    "    scorer = rouge_scorer.RougeScorer(rouge_keys, use_stemmer=use_stemmer)\n",
    "    aggregator = scoring.BootstrapAggregator()\n",
    "    for tgt, pred in zip(tgt_lns, pred_lns):\n",
    "        # rougeLsum expects \"\\n\" separated sentences within a summary\n",
    "        if newline_sep:\n",
    "            pred = add_newline_to_end_of_each_sentence(pred)\n",
    "            tgt = add_newline_to_end_of_each_sentence(tgt)\n",
    "        scores = scorer.score(tgt, pred)\n",
    "        aggregator.add_scores(scores)\n",
    "\n",
    "    if bootstrap_aggregation:\n",
    "        result = aggregator.aggregate()\n",
    "        if return_precision_and_recall:\n",
    "            return extract_rouge_mid_statistics(result)  # here we return dict\n",
    "        else:\n",
    "            return {k: round(v.mid.fmeasure * 100, 4) for k, v in result.items()}\n",
    "\n",
    "    else:\n",
    "        return aggregator._scores  # here we return defaultdict(list)\n",
    "    \n",
    "def calculate_sentence_trans_cosine(\n",
    "    pred_lns: List[str],\n",
    "    tgt_lns: List[str]\n",
    "):\n",
    "    cosine_sim = lambda a, b: (np.dot(a, b) / (np.linalg.norm(a)*np.linalg.norm(b)))\n",
    "\n",
    "    return np.mean([cosine_sim(sentence_distilroberta.encode(pred), sentence_distilroberta.encode(tgt))\\\n",
    "        for tgt, pred in zip(tgt_lns, pred_lns)])*100\n",
    "    \n",
    "\n",
    "def summarization_metrics(pred_str, label_str) -> Dict:\n",
    "    metrics: Dict = calculate_rouge(pred_str, label_str)\n",
    "    metrics['sentence_distilroberta_cosine'] = calculate_sentence_trans_cosine(pred_str, label_str)\n",
    "    \n",
    "    return metrics"
   ]
  },
  {
   "cell_type": "code",
   "execution_count": 66,
   "metadata": {},
   "outputs": [
    {
     "data": {
      "text/plain": [
       "{'rouge1_precision': 82.86,\n",
       " 'rouge1_recall': 80.0,\n",
       " 'rouge1_fmeasure': 81.38,\n",
       " 'rouge2_precision': 63.46000000000001,\n",
       " 'rouge2_recall': 60.709999999999994,\n",
       " 'rouge2_fmeasure': 62.03999999999999,\n",
       " 'rougeL_precision': 82.86,\n",
       " 'rougeL_recall': 80.0,\n",
       " 'rougeL_fmeasure': 81.38,\n",
       " 'rougeLsum_precision': 82.86,\n",
       " 'rougeLsum_recall': 80.0,\n",
       " 'rougeLsum_fmeasure': 81.38,\n",
       " 'sentence-distilroberta-cosine': 69.60583329200745}"
      ]
     },
     "execution_count": 66,
     "metadata": {},
     "output_type": "execute_result"
    }
   ],
   "source": [
    "pred_str = ['This is the summary that we get. In other words, this is the prediction.', 'This is prediction number two.']\n",
    "label_str = ['This is the summary that we want. In other words, this is the ground truth.', 'This is reference number two.']\n",
    "\n",
    "summarization_metrics(pred_str, label_str)"
   ]
  },
  {
   "cell_type": "code",
   "execution_count": null,
   "metadata": {},
   "outputs": [],
   "source": []
  }
 ],
 "metadata": {
  "accelerator": "GPU",
  "colab": {
   "collapsed_sections": [
    "P95DxvqWi_2Y",
    "tvSGvNzvKbvP",
    "S0FByNNOIRvG",
    "JFd0ppeJyX1o",
    "dllOnKR9Os5i",
    "U2mpXoSaQiQE",
    "k0qONrX4Qkkm",
    "JiYIkI5xN2VA",
    "KV669nVZQnzT",
    "WIiEnpvbMkJa",
    "fSqOx7kdMoNJ",
    "UTUY8QgQa2WM",
    "bKYnUXhvMszX",
    "mIcAg1ss4qIR"
   ],
   "name": "summarization_experiments.ipynb",
   "provenance": []
  },
  "kernelspec": {
   "display_name": "Python 3",
   "language": "python",
   "name": "python3"
  },
  "language_info": {
   "codemirror_mode": {
    "name": "ipython",
    "version": 3
   },
   "file_extension": ".py",
   "mimetype": "text/x-python",
   "name": "python",
   "nbconvert_exporter": "python",
   "pygments_lexer": "ipython3",
   "version": "3.6.9"
  },
  "widgets": {
   "application/vnd.jupyter.widget-state+json": {
    "0de6998129154004a05d274248f97bc8": {
     "model_module": "@jupyter-widgets/controls",
     "model_name": "HBoxModel",
     "state": {
      "_dom_classes": [],
      "_model_module": "@jupyter-widgets/controls",
      "_model_module_version": "1.5.0",
      "_model_name": "HBoxModel",
      "_view_count": null,
      "_view_module": "@jupyter-widgets/controls",
      "_view_module_version": "1.5.0",
      "_view_name": "HBoxView",
      "box_style": "",
      "children": [
       "IPY_MODEL_251feb3490de48cc8942b595ac8f354f",
       "IPY_MODEL_d06ab742de2749b589ae895812f7de9e"
      ],
      "layout": "IPY_MODEL_e978710296084926bc5c2db16e1666e3"
     }
    },
    "31b403b9f1954b88a56a1bf2da7da005": {
     "model_module": "@jupyter-widgets/controls",
     "model_name": "HBoxModel",
     "state": {
      "_dom_classes": [],
      "_model_module": "@jupyter-widgets/controls",
      "_model_module_version": "1.5.0",
      "_model_name": "HBoxModel",
      "_view_count": null,
      "_view_module": "@jupyter-widgets/controls",
      "_view_module_version": "1.5.0",
      "_view_name": "HBoxView",
      "box_style": "",
      "children": [
       "IPY_MODEL_6f3cae36737248329fb1abbae01cefff",
       "IPY_MODEL_d85c96f2c6b14e788365bfe9b283ed8b"
      ],
      "layout": "IPY_MODEL_c6238523b53e4745b52b512129201b99"
     }
    },
    "58233d5c388f4ab788050e32cd55ea18": {
     "model_module": "@jupyter-widgets/controls",
     "model_name": "HBoxModel",
     "state": {
      "_dom_classes": [],
      "_model_module": "@jupyter-widgets/controls",
      "_model_module_version": "1.5.0",
      "_model_name": "HBoxModel",
      "_view_count": null,
      "_view_module": "@jupyter-widgets/controls",
      "_view_module_version": "1.5.0",
      "_view_name": "HBoxView",
      "box_style": "",
      "children": [
       "IPY_MODEL_d79a0a2cdc704ee7ada433e6ef1acc7e",
       "IPY_MODEL_88e28bfeffd04c3e8724ad1d76f7aa6e"
      ],
      "layout": "IPY_MODEL_f7b1d650294f405a82dd254e7924aa3a"
     }
    },
    "70b5f49254394831a248fe7543e3e16f": {
     "model_module": "@jupyter-widgets/controls",
     "model_name": "HBoxModel",
     "state": {
      "_dom_classes": [],
      "_model_module": "@jupyter-widgets/controls",
      "_model_module_version": "1.5.0",
      "_model_name": "HBoxModel",
      "_view_count": null,
      "_view_module": "@jupyter-widgets/controls",
      "_view_module_version": "1.5.0",
      "_view_name": "HBoxView",
      "box_style": "",
      "children": [
       "IPY_MODEL_83e97228cea64bc0b89a88ce93c8b2a7",
       "IPY_MODEL_c7b46eac30674ef29687152aa9e036fd"
      ],
      "layout": "IPY_MODEL_fc476c569053458f9fea5b1847c3cb25"
     }
    },
    "7343c33af570460ab302cb0ba6f7bdfd": {
     "model_module": "@jupyter-widgets/controls",
     "model_name": "HBoxModel",
     "state": {
      "_dom_classes": [],
      "_model_module": "@jupyter-widgets/controls",
      "_model_module_version": "1.5.0",
      "_model_name": "HBoxModel",
      "_view_count": null,
      "_view_module": "@jupyter-widgets/controls",
      "_view_module_version": "1.5.0",
      "_view_name": "HBoxView",
      "box_style": "",
      "children": [
       "IPY_MODEL_03c3ee684536491384d08180121ed62e",
       "IPY_MODEL_b984b636214b426487402e05e1734b87"
      ],
      "layout": "IPY_MODEL_afe785fd70ab45f7a0d847bbfba4bf9b"
     }
    },
    "a843e89f1ea44712b9f8d2485051105b": {
     "model_module": "@jupyter-widgets/controls",
     "model_name": "HBoxModel",
     "state": {
      "_dom_classes": [],
      "_model_module": "@jupyter-widgets/controls",
      "_model_module_version": "1.5.0",
      "_model_name": "HBoxModel",
      "_view_count": null,
      "_view_module": "@jupyter-widgets/controls",
      "_view_module_version": "1.5.0",
      "_view_name": "HBoxView",
      "box_style": "",
      "children": [
       "IPY_MODEL_c7ff31cd566c48649b79b9d2590911aa",
       "IPY_MODEL_25ad20953415473698dfa58a10a3af6d"
      ],
      "layout": "IPY_MODEL_dc3409db9541406b808aa57bbd96bbd7"
     }
    }
   }
  }
 },
 "nbformat": 4,
 "nbformat_minor": 1
}
