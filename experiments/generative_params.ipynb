{
 "cells": [
  {
   "cell_type": "markdown",
   "metadata": {
    "id": "P95DxvqWi_2Y"
   },
   "source": [
    "#### For Colab"
   ]
  },
  {
   "cell_type": "code",
   "execution_count": null,
   "metadata": {
    "colab": {
     "base_uri": "https://localhost:8080/",
     "height": 55
    },
    "executionInfo": {
     "elapsed": 681,
     "status": "ok",
     "timestamp": 1606815935642,
     "user": {
      "displayName": "Marco Pietro Abrate",
      "photoUrl": "https://lh3.googleusercontent.com/a-/AOh14Gjh-8YF-8BlnrkN9mLZ0xfVOWfOh7kYncpYRv-Y=s64",
      "userId": "15422244832836998434"
     },
     "user_tz": -60
    },
    "id": "GD_KFnI1H1ip",
    "outputId": "4d409ecf-2544-42b8-de0a-06d19c16b51d"
   },
   "outputs": [
    {
     "data": {
      "application/vnd.google.colaboratory.intrinsic+json": {
       "type": "string"
      },
      "text/plain": [
       "'\\nfunction ClickConnect(){\\n    console.log(\"Working\");\\n    document.querySelector(\"colab-toolbar-button\").click() \\n}\\nvar i = setInterval(ClickConnect, 900000)\\nclearInterval(i)\\n'"
      ]
     },
     "execution_count": 1,
     "metadata": {
      "tags": []
     },
     "output_type": "execute_result"
    }
   ],
   "source": [
    "\"\"\"\n",
    "function ClickConnect(){\n",
    "    console.log(\"Working\");\n",
    "    document.querySelector(\"colab-toolbar-button\").click() \n",
    "}\n",
    "var i = setInterval(ClickConnect, 900000)\n",
    "clearInterval(i)\n",
    "\"\"\""
   ]
  },
  {
   "cell_type": "code",
   "execution_count": null,
   "metadata": {
    "colab": {
     "base_uri": "https://localhost:8080/"
    },
    "executionInfo": {
     "elapsed": 18306,
     "status": "ok",
     "timestamp": 1606815953276,
     "user": {
      "displayName": "Marco Pietro Abrate",
      "photoUrl": "https://lh3.googleusercontent.com/a-/AOh14Gjh-8YF-8BlnrkN9mLZ0xfVOWfOh7kYncpYRv-Y=s64",
      "userId": "15422244832836998434"
     },
     "user_tz": -60
    },
    "id": "RR-OcN_Wy1jE",
    "outputId": "673596ce-c3f6-4ba5-8f65-2a4eabab43ed"
   },
   "outputs": [
    {
     "name": "stdout",
     "output_type": "stream",
     "text": [
      "Mounted at /content/drive\n"
     ]
    }
   ],
   "source": [
    "from google.colab import drive\n",
    "drive.mount('/content/drive')"
   ]
  },
  {
   "cell_type": "code",
   "execution_count": null,
   "metadata": {
    "id": "au5Z9XQAC7C-"
   },
   "outputs": [],
   "source": [
    "drive_dir = '/content/drive/My Drive/MAGMA: Summarization/'\n",
    "data_dir = '/content/drive/My Drive/MAGMA: Summarization/corpora/karger_books/'"
   ]
  },
  {
   "cell_type": "code",
   "execution_count": null,
   "metadata": {
    "colab": {
     "base_uri": "https://localhost:8080/"
    },
    "executionInfo": {
     "elapsed": 24813,
     "status": "ok",
     "timestamp": 1606815959796,
     "user": {
      "displayName": "Marco Pietro Abrate",
      "photoUrl": "https://lh3.googleusercontent.com/a-/AOh14Gjh-8YF-8BlnrkN9mLZ0xfVOWfOh7kYncpYRv-Y=s64",
      "userId": "15422244832836998434"
     },
     "user_tz": -60
    },
    "id": "Ld3WDPaf9Saw",
    "outputId": "8a1fbea4-05af-4ed0-d931-5cf3fe1cb754"
   },
   "outputs": [
    {
     "name": "stdout",
     "output_type": "stream",
     "text": [
      "Collecting transformers==3.5.1\n",
      "\u001b[?25l  Downloading https://files.pythonhosted.org/packages/3a/83/e74092e7f24a08d751aa59b37a9fc572b2e4af3918cb66f7766c3affb1b4/transformers-3.5.1-py3-none-any.whl (1.3MB)\n",
      "\u001b[K     |████████████████████████████████| 1.3MB 10.0MB/s \n",
      "\u001b[?25hRequirement already satisfied: dataclasses; python_version < \"3.7\" in /usr/local/lib/python3.6/dist-packages (from transformers==3.5.1) (0.8)\n",
      "Requirement already satisfied: tqdm>=4.27 in /usr/local/lib/python3.6/dist-packages (from transformers==3.5.1) (4.41.1)\n",
      "Requirement already satisfied: packaging in /usr/local/lib/python3.6/dist-packages (from transformers==3.5.1) (20.4)\n",
      "Requirement already satisfied: filelock in /usr/local/lib/python3.6/dist-packages (from transformers==3.5.1) (3.0.12)\n",
      "Collecting tokenizers==0.9.3\n",
      "\u001b[?25l  Downloading https://files.pythonhosted.org/packages/4c/34/b39eb9994bc3c999270b69c9eea40ecc6f0e97991dba28282b9fd32d44ee/tokenizers-0.9.3-cp36-cp36m-manylinux1_x86_64.whl (2.9MB)\n",
      "\u001b[K     |████████████████████████████████| 2.9MB 29.8MB/s \n",
      "\u001b[?25hRequirement already satisfied: numpy in /usr/local/lib/python3.6/dist-packages (from transformers==3.5.1) (1.18.5)\n",
      "Requirement already satisfied: regex!=2019.12.17 in /usr/local/lib/python3.6/dist-packages (from transformers==3.5.1) (2019.12.20)\n",
      "Collecting sacremoses\n",
      "\u001b[?25l  Downloading https://files.pythonhosted.org/packages/7d/34/09d19aff26edcc8eb2a01bed8e98f13a1537005d31e95233fd48216eed10/sacremoses-0.0.43.tar.gz (883kB)\n",
      "\u001b[K     |████████████████████████████████| 890kB 43.3MB/s \n",
      "\u001b[?25hCollecting sentencepiece==0.1.91\n",
      "\u001b[?25l  Downloading https://files.pythonhosted.org/packages/d4/a4/d0a884c4300004a78cca907a6ff9a5e9fe4f090f5d95ab341c53d28cbc58/sentencepiece-0.1.91-cp36-cp36m-manylinux1_x86_64.whl (1.1MB)\n",
      "\u001b[K     |████████████████████████████████| 1.1MB 48.8MB/s \n",
      "\u001b[?25hRequirement already satisfied: protobuf in /usr/local/lib/python3.6/dist-packages (from transformers==3.5.1) (3.12.4)\n",
      "Requirement already satisfied: requests in /usr/local/lib/python3.6/dist-packages (from transformers==3.5.1) (2.23.0)\n",
      "Requirement already satisfied: pyparsing>=2.0.2 in /usr/local/lib/python3.6/dist-packages (from packaging->transformers==3.5.1) (2.4.7)\n",
      "Requirement already satisfied: six in /usr/local/lib/python3.6/dist-packages (from packaging->transformers==3.5.1) (1.15.0)\n",
      "Requirement already satisfied: click in /usr/local/lib/python3.6/dist-packages (from sacremoses->transformers==3.5.1) (7.1.2)\n",
      "Requirement already satisfied: joblib in /usr/local/lib/python3.6/dist-packages (from sacremoses->transformers==3.5.1) (0.17.0)\n",
      "Requirement already satisfied: setuptools in /usr/local/lib/python3.6/dist-packages (from protobuf->transformers==3.5.1) (50.3.2)\n",
      "Requirement already satisfied: chardet<4,>=3.0.2 in /usr/local/lib/python3.6/dist-packages (from requests->transformers==3.5.1) (3.0.4)\n",
      "Requirement already satisfied: idna<3,>=2.5 in /usr/local/lib/python3.6/dist-packages (from requests->transformers==3.5.1) (2.10)\n",
      "Requirement already satisfied: certifi>=2017.4.17 in /usr/local/lib/python3.6/dist-packages (from requests->transformers==3.5.1) (2020.11.8)\n",
      "Requirement already satisfied: urllib3!=1.25.0,!=1.25.1,<1.26,>=1.21.1 in /usr/local/lib/python3.6/dist-packages (from requests->transformers==3.5.1) (1.24.3)\n",
      "Building wheels for collected packages: sacremoses\n",
      "  Building wheel for sacremoses (setup.py) ... \u001b[?25l\u001b[?25hdone\n",
      "  Created wheel for sacremoses: filename=sacremoses-0.0.43-cp36-none-any.whl size=893257 sha256=4eefb460796132a61f79cb630a66f1d96a86204cfeab31dd0b40942f6f4fbbeb\n",
      "  Stored in directory: /root/.cache/pip/wheels/29/3c/fd/7ce5c3f0666dab31a50123635e6fb5e19ceb42ce38d4e58f45\n",
      "Successfully built sacremoses\n",
      "Installing collected packages: tokenizers, sacremoses, sentencepiece, transformers\n",
      "Successfully installed sacremoses-0.0.43 sentencepiece-0.1.91 tokenizers-0.9.3 transformers-3.5.1\n"
     ]
    }
   ],
   "source": [
    "!pip install transformers==3.5.1"
   ]
  },
  {
   "cell_type": "code",
   "execution_count": null,
   "metadata": {
    "colab": {
     "base_uri": "https://localhost:8080/"
    },
    "executionInfo": {
     "elapsed": 40615,
     "status": "ok",
     "timestamp": 1606815975603,
     "user": {
      "displayName": "Marco Pietro Abrate",
      "photoUrl": "https://lh3.googleusercontent.com/a-/AOh14Gjh-8YF-8BlnrkN9mLZ0xfVOWfOh7kYncpYRv-Y=s64",
      "userId": "15422244832836998434"
     },
     "user_tz": -60
    },
    "id": "m6KSIQlYzjEy",
    "outputId": "35005d2f-b781-431f-de38-7428811c7419"
   },
   "outputs": [
    {
     "name": "stdout",
     "output_type": "stream",
     "text": [
      "\u001b[K     |████████████████████████████████| 788kB 9.9MB/s \n",
      "\u001b[K     |████████████████████████████████| 358kB 25.5MB/s \n",
      "\u001b[31mERROR: jupyter-console 5.2.0 has requirement prompt-toolkit<2.0.0,>=1.0.0, but you'll have prompt-toolkit 3.0.8 which is incompatible.\u001b[0m\n",
      "\u001b[31mERROR: google-colab 1.0.0 has requirement ipython~=5.5.0, but you'll have ipython 7.16.1 which is incompatible.\u001b[0m\n",
      "\u001b[K     |████████████████████████████████| 122kB 8.5MB/s \n",
      "\u001b[31mERROR: jupyter-console 5.2.0 has requirement prompt-toolkit<2.0.0,>=1.0.0, but you'll have prompt-toolkit 3.0.8 which is incompatible.\u001b[0m\n",
      "\u001b[31mERROR: google-colab 1.0.0 has requirement ipykernel~=4.10, but you'll have ipykernel 5.3.4 which is incompatible.\u001b[0m\n",
      "\u001b[31mERROR: google-colab 1.0.0 has requirement ipython~=5.5.0, but you'll have ipython 7.16.1 which is incompatible.\u001b[0m\n",
      "\u001b[?25h"
     ]
    }
   ],
   "source": [
    "!pip install -q --upgrade ipython\n",
    "!pip install -q --upgrade ipykernel"
   ]
  },
  {
   "cell_type": "markdown",
   "metadata": {
    "id": "trkyhLB1wAse"
   },
   "source": [
    "### **Init**"
   ]
  },
  {
   "cell_type": "code",
   "execution_count": null,
   "metadata": {
    "id": "yCzod0OizR5U"
   },
   "outputs": [],
   "source": [
    "import matplotlib.pyplot as plt\n",
    "import numpy as np\n",
    "import torch\n",
    "import re\n",
    "import pandas as pd\n",
    "import time"
   ]
  },
  {
   "cell_type": "markdown",
   "metadata": {
    "id": "LayPo46MnqmT"
   },
   "source": [
    "##### Class definition"
   ]
  },
  {
   "cell_type": "code",
   "execution_count": null,
   "metadata": {
    "id": "RgmECT_Zihvs"
   },
   "outputs": [],
   "source": [
    "class KargerBook():\n",
    "    def __init__(self, title, abbreviations, glossary, introduction, chapter):\n",
    "        self.title = title\n",
    "        self.abbreviations = abbreviations\n",
    "        self.glossary = glossary\n",
    "        self.introduction = introduction\n",
    "        self.chapters = chapter\n",
    "\n",
    "    def get_title(self):\n",
    "        if self.title is None:\n",
    "            print(\"error: title is None\")\n",
    "            return None\n",
    "        return self.title\n",
    "\n",
    "    def get_abbreviations(self):\n",
    "        if self.abbreviations is None:\n",
    "            print(\"error: abbreviations is None\")\n",
    "            return None\n",
    "        return self.abbreviations\n",
    "    \n",
    "    def get_glossary(self):\n",
    "        if self.glossary is None:\n",
    "            print(\"error: glossary is None\")\n",
    "            return None\n",
    "        return self.glossary\n",
    "    \n",
    "    def get_introduction(self):\n",
    "        if self.introduction is None:\n",
    "            print(\"error: introduction is None\")\n",
    "            return None\n",
    "        return self.introduction\n",
    "    \n",
    "    def get_chapters(self):\n",
    "        if self.chapters is None:\n",
    "            print(\"error: chapters is None\")\n",
    "            return None\n",
    "        new_dic = {}\n",
    "        for k, v in self.chapters.items():\n",
    "            new_dic[k] = {}\n",
    "            for sec, text in v.items():\n",
    "                if sec.startswith('ch') and not sec.endswith('bullets'):\n",
    "                    new_dic[k][sec] = {}\n",
    "                    new_dic[k][sec][sec] = text\n",
    "                if sec.startswith('sec') and 'sub' not in sec and 'bullets' not in sec:\n",
    "                    new_dic[k][sec] = {}\n",
    "                    new_dic[k][sec][sec] = text\n",
    "                    for sec_key in v.keys():\n",
    "                        if sec_key.endswith('sub_'+sec) or sec_key.endswith('sub_'+sec+'_bullets') or sec+'_bullets' in sec_key:\n",
    "                            if v[sec_key] != []:\n",
    "                                new_dic[k][sec][sec_key] = v[sec_key]\n",
    "            if not new_dic[k]:\n",
    "                new_dic.pop(k)\n",
    "\n",
    "        return new_dic\n",
    "\n",
    "    def get_dataframe(self):\n",
    "        cpt = self.get_chapters()\n",
    "        if cpt is None:\n",
    "            print(\"error: cannot create dataframe if chapters is None\")\n",
    "            return None\n",
    "        cpt_df = pd.DataFrame.from_dict({(i,j,k): cpt[i][j][k] \n",
    "                for i in cpt.keys() \n",
    "                for j in cpt[i].keys()\n",
    "                for k in cpt[i][j].keys()},\n",
    "            orient='index')\n",
    "        \n",
    "        idx_bullets = [idx for idx in list(cpt_df.index) if 'bullets' in idx[2]]\n",
    "        idx_sec_bullets = [(idx[0], idx[1], idx[2].replace('_bullets', '')) for idx in idx_bullets]\n",
    "        mapper = {}\n",
    "        for i, b in enumerate(idx_bullets):\n",
    "            mapper[b] = idx_sec_bullets[i]\n",
    "        \n",
    "        cpt_df_bullets = cpt_df.loc[idx_bullets].rename(index=mapper)\n",
    "        cpt_df_nobullets = cpt_df.drop(labels = idx_bullets, axis=0)\n",
    "        cpt_df_new = cpt_df_nobullets.join(cpt_df_bullets, rsuffix='_bullets').rename(columns={'0': 'text', '0_bullets': 'bullets'})\n",
    "        \n",
    "        cpt_df_new.index = pd.MultiIndex.from_tuples(cpt_df_new.index)\n",
    "        cpt_df_new.index.names = ['chapter', 'section', 'subsection']\n",
    "        \n",
    "        for idx, df in cpt_df_new.dropna().groupby('chapter'):\n",
    "            cpt_df_new.loc[(idx, slice(None)), 'bullets'] = \\\n",
    "                cpt_df_new.loc[(idx, slice(None)), 'bullets'].map(lambda x:\n",
    "                    df.iloc[0].bullets)\n",
    "        \n",
    "        return cpt_df_new"
   ]
  },
  {
   "cell_type": "markdown",
   "metadata": {
    "id": "ZupX_0RMnglt"
   },
   "source": [
    "##### Helper functions"
   ]
  },
  {
   "cell_type": "code",
   "execution_count": null,
   "metadata": {
    "id": "9D-4CyH3hJDh"
   },
   "outputs": [],
   "source": [
    "def print_dict(d, prefix):\n",
    "    for k in d.keys():\n",
    "        print(prefix+k)\n",
    "        if type(d[k]) is dict:\n",
    "            print_dict(d[k], prefix+'\\t')\n",
    "        else:\n",
    "            print(prefix+'- text')\n",
    "\n",
    "def parse_abbreviations(abbr):\n",
    "    abbreviations = {}\n",
    "    for abb in abbr.iter():\n",
    "        if abb.tag.endswith('title'):\n",
    "            assert 'abbreviations' in [c for c in abb.itertext()][0].lower()\n",
    "        if abb.tag.endswith('para'):\n",
    "            abb_key_value = [c.strip(':').strip() for c in abb.itertext()]\n",
    "            abbreviations[abb_key_value[0]] = abb_key_value[1]\n",
    "    return abbreviations\n",
    "\n",
    "def parse_glossary(gloss):\n",
    "    glossary = {}\n",
    "    for glos in gloss.iter():\n",
    "        if glos.tag.endswith('title'):\n",
    "            assert 'glossary' in [c for c in glos.itertext()][0].lower()\n",
    "        if glos.tag.endswith('para'):\n",
    "            glos_key_value = [c.strip(':').strip() for c in glos.itertext()]\n",
    "            glossary[glos_key_value[0]] = glos_key_value[1]\n",
    "    return glossary\n",
    "\n",
    "def parse_text(text):\n",
    "    parsed_text = [c for c in text.itertext() if not re.fullmatch('\\d|(\\d+,\\d+)|(\\d+–\\d+)', c)]\n",
    "    #if len(parsed_text) < 1:\n",
    "    #    return ['']\n",
    "    parsed_text = parsed_text[1:] if parsed_text[0] == '\\n' else parsed_text\n",
    "    parsed_text = parsed_text[:-1] if parsed_text[-1] == '\\n' else parsed_text\n",
    "    parsed_text = ' '.join(parsed_text)\n",
    "    parsed_text = ''.join([re.sub(' +', ' ', line.strip()+'\\n') for line in parsed_text.splitlines()])\n",
    "    parsed_text = re.sub(r'\\s([?,;:.!\"](?:\\s|$))', r'\\1', parsed_text)\n",
    "    \n",
    "    return parsed_text\n",
    "\n",
    "def search_bullets(ch_root):\n",
    "    bullets = []\n",
    "    found_key_points = False\n",
    "    for ch in ch_root.iter():\n",
    "        if 'link' in ch.tag : continue\n",
    "        if found_key_points and 'itemized' in ch.tag:\n",
    "            for item in ch:\n",
    "                bullets.append(parse_text(item))\n",
    "\n",
    "        if 'title' in ch.tag:\n",
    "            t = [c for c in ch.itertext()][0].lower()\n",
    "            if 'key' in t and 'point' in t:\n",
    "                found_key_points = True\n",
    "        #if 'itemized' in ch.tag:\n",
    "        #    for item in ch:\n",
    "        #        bullets.append(parse_text(item))\n",
    "    return bullets\n",
    "\n",
    "def parse_chapter(ch_root, chapter = {}, subsect = ''):\n",
    "    ch_title = list(ch_root.attrib.values())[0]+subsect\n",
    "    chapter[ch_title] = []\n",
    "\n",
    "    for ch in ch_root:\n",
    "        if ch.tag.endswith('title'):\n",
    "            chapter[ch_title].append([c for c in ch.itertext()][0]+'\\n')\n",
    "        elif 'itemized' in ch.tag:\n",
    "            for item in ch:\n",
    "                chapter[ch_title].append(parse_text(item))\n",
    "        elif 'para' in ch.tag:\n",
    "            chapter[ch_title].append(parse_text(ch))\n",
    "        elif 'sect1' in ch.tag:\n",
    "            chapter = parse_chapter(ch, chapter)\n",
    "        elif 'sect2' in ch.tag:\n",
    "            chapter = parse_chapter(ch, chapter, '_sub_'+ch_title)\n",
    "\n",
    "    chapter[ch_title] = ''.join(chapter[ch_title])\n",
    "\n",
    "    bullets = search_bullets(ch_root)\n",
    "    if len(bullets) > 0:\n",
    "        chapter[ch_title + '_bullets'] = bullets\n",
    "    return chapter\n",
    "\n",
    "def parse_tree(root):\n",
    "    title = None\n",
    "    abbreviations = None\n",
    "    glossary = None\n",
    "    introduction = None\n",
    "    chapters = {}\n",
    "\n",
    "    for chapt in root:\n",
    "        #print(chapt.tag)\n",
    "        if chapt.tag.endswith('title'):\n",
    "            title = chapt.text\n",
    "\n",
    "        elif chapt.tag.endswith('chapter'):\n",
    "            chapters[list(chapt.attrib.values())[0]] = parse_chapter(chapt, {}, '')\n",
    "            \n",
    "        elif chapt.tag.endswith('preface'):\n",
    "            for subc in chapt.iter():\n",
    "                if subc.tag.endswith('title'):\n",
    "                    pref_title = [c for c in subc.itertext()][0].lower()\n",
    "                    if 'abbr' in pref_title:\n",
    "                        abbreviations = parse_abbreviations(chapt)\n",
    "                    elif 'gloss' in pref_title:\n",
    "                        glossary = parse_glossary(chapt)\n",
    "                    elif 'intro' in pref_title:\n",
    "                        introduction = parse_text(next(chapt.iter()))\n",
    "\n",
    "    return KargerBook(title, abbreviations, glossary, introduction, chapters)"
   ]
  },
  {
   "cell_type": "markdown",
   "metadata": {
    "id": "1OBH3vxllSgk"
   },
   "source": [
    "##### Preparing the dataset"
   ]
  },
  {
   "cell_type": "code",
   "execution_count": null,
   "metadata": {
    "colab": {
     "base_uri": "https://localhost:8080/"
    },
    "executionInfo": {
     "elapsed": 28004,
     "status": "ok",
     "timestamp": 1606815979891,
     "user": {
      "displayName": "Marco Pietro Abrate",
      "photoUrl": "https://lh3.googleusercontent.com/a-/AOh14Gjh-8YF-8BlnrkN9mLZ0xfVOWfOh7kYncpYRv-Y=s64",
      "userId": "15422244832836998434"
     },
     "user_tz": -60
    },
    "id": "Dg6qK0ozle3j",
    "outputId": "401b7bfd-aa39-4d6e-d619-37b79fa002c3"
   },
   "outputs": [
    {
     "name": "stdout",
     "output_type": "stream",
     "text": [
      "['/content/drive/My Drive/MAGMA: Summarization/corpora/karger_books/Gene Therapy/279300.xml', '/content/drive/My Drive/MAGMA: Summarization/corpora/karger_books/Glioblastoma/9781912776726.xml', '/content/drive/My Drive/MAGMA: Summarization/corpora/karger_books/ProstateCancer/9781910797457.xml']\n"
     ]
    }
   ],
   "source": [
    "import os\n",
    "\n",
    "karger_books_files = []\n",
    "for subdir, dirs, files in os.walk(data_dir):\n",
    "    for file in files:\n",
    "        if file.endswith('.xml'):\n",
    "            karger_books_files.append(os.path.join(subdir, file))\n",
    "\n",
    "print(karger_books_files)"
   ]
  },
  {
   "cell_type": "code",
   "execution_count": null,
   "metadata": {
    "id": "Up-ph-ZwlVdj"
   },
   "outputs": [],
   "source": [
    "import xml.etree.ElementTree as ET\n",
    "\n",
    "books = []\n",
    "cpt_dfs = []\n",
    "for kb_file in karger_books_files:\n",
    "    b = parse_tree(ET.parse(kb_file).getroot())\n",
    "    books.append(b)"
   ]
  },
  {
   "cell_type": "markdown",
   "metadata": {
    "id": "Tmh1T-kc8Wan"
   },
   "source": [
    "## **Study of the Generative Parameters**"
   ]
  },
  {
   "cell_type": "markdown",
   "metadata": {
    "id": "S0FByNNOIRvG"
   },
   "source": [
    "### **Config**"
   ]
  },
  {
   "cell_type": "code",
   "execution_count": null,
   "metadata": {
    "colab": {
     "base_uri": "https://localhost:8080/"
    },
    "executionInfo": {
     "elapsed": 26716,
     "status": "ok",
     "timestamp": 1606815981568,
     "user": {
      "displayName": "Marco Pietro Abrate",
      "photoUrl": "https://lh3.googleusercontent.com/a-/AOh14Gjh-8YF-8BlnrkN9mLZ0xfVOWfOh7kYncpYRv-Y=s64",
      "userId": "15422244832836998434"
     },
     "user_tz": -60
    },
    "id": "YeuvlvUwGdaL",
    "outputId": "ff630d28-7808-4a7d-e3a0-5645da45c0c7"
   },
   "outputs": [
    {
     "name": "stdout",
     "output_type": "stream",
     "text": [
      "Fast Facts: Gene Therapy\n",
      "Fast Facts: Glioblastoma\n",
      "Fast Facts: Prostate Cancer Ninth edition\n"
     ]
    }
   ],
   "source": [
    "BOOK_IDS = [0, 1, 2]\n",
    "dfs = []\n",
    "for bid in BOOK_IDS:\n",
    "    print(books[bid].get_title())\n",
    "    dfs.append(books[bid].get_dataframe())\n",
    "df = pd.concat(dfs, keys=BOOK_IDS, names=['book'])\n",
    "    \n",
    "get_cpts = lambda df, bid:\\\n",
    "    list(set(df.loc[bid].index.get_level_values(0).tolist()))\n",
    "get_bullets = lambda df, bid, cpt: df.loc[bid, cpt].bullets[0]"
   ]
  },
  {
   "cell_type": "code",
   "execution_count": null,
   "metadata": {
    "id": "82WSp6khIcua"
   },
   "outputs": [],
   "source": [
    "# General configurations\n",
    "\n",
    "REPLACE_ABBR = False            # set to True to replace abbreviations\n",
    "\n",
    "REMOVE_PAR = False              # set to True to remove text between parentheses\n",
    "\n",
    "RE_SPLITTER = '\\.(?!\\d)'     # do we split sentences of paragraphs?\n",
    "                                # use '\\.(?!\\d)|\\n' or '\\n', respectively\n",
    "\n",
    "TOKEN_MAX_LEN = 99              # max length of a word\n",
    "PARA_MIN_LENGTH = 2             # minimum length for a sentence or\n",
    "                                # a paragraph, in tokens\n",
    "\n",
    "SEED = 42                       # random seed, set for reproducibility\n",
    "\n",
    "SUMMARY_MIN_LEN = 150           # aimed summary length\n",
    "SUMMARY_MAX_LEN = 350           # aimed summary length"
   ]
  },
  {
   "cell_type": "markdown",
   "metadata": {
    "id": "4covBowzB2aT"
   },
   "source": [
    "### **Init and Preprocessing**"
   ]
  },
  {
   "cell_type": "code",
   "execution_count": null,
   "metadata": {
    "id": "zn-ebI7mB2aX"
   },
   "outputs": [],
   "source": [
    "import gensim"
   ]
  },
  {
   "cell_type": "markdown",
   "metadata": {
    "id": "ec4XJFffB2aZ"
   },
   "source": [
    "#### Preparing the data\n",
    "\n",
    "* Remove unwanted spaces around brackets\n",
    "* Replace special characters\n",
    "* Replace abbreviations if REPLACE_ABBR"
   ]
  },
  {
   "cell_type": "code",
   "execution_count": null,
   "metadata": {
    "id": "SkukQRX_B2ae"
   },
   "outputs": [],
   "source": [
    "# Remove unwanted spaces around brackets\n",
    "if REMOVE_PAR:\n",
    "    df.text = df.text.map(lambda t: re.sub(r'\\([^)]*\\)', '', t))\n",
    "else:\n",
    "    df.text = df.text.map(lambda t: re.sub('\\s*\\(\\s+', ' (', t))\n",
    "    df.text = df.text.map(lambda t: re.sub('\\s+\\)', ')', t))"
   ]
  },
  {
   "cell_type": "code",
   "execution_count": null,
   "metadata": {
    "id": "kn4oEihlpLhn"
   },
   "outputs": [],
   "source": [
    "def remove_special_characters(df, col):\n",
    "    def replace_string_or_list(x, s, sub):\n",
    "        if isinstance(x, list):\n",
    "            return [e.replace(s, sub) for e in x]\n",
    "        else:\n",
    "            return x.replace(s, sub)\n",
    "\n",
    "    special_char = ['i.e.', 'e.g.', '–', '‘', '’',\n",
    "                    '≤', '≥', '×', '~',\n",
    "                    'α', 'β', 'γ', 'ζ', '&']\n",
    "    sub_char = ['id est', 'exempli gratia', '-', '\\'', '\\'',\n",
    "                '<=', '>=', 'x', ' around ',\n",
    "                'alpha', 'beta', 'gamma', 'zed', 'and']\n",
    "\n",
    "    for s, sub in zip(special_char, sub_char):\n",
    "        df[col] = df[col].map(lambda x: replace_string_or_list(x, s, sub),\n",
    "            na_action='ignore')\n",
    "    \n",
    "    return df\n",
    "\n",
    "df = remove_special_characters(df, 'text')\n",
    "df = remove_special_characters(df, 'bullets')"
   ]
  },
  {
   "cell_type": "code",
   "execution_count": null,
   "metadata": {
    "id": "CF2hQMmf6CrT"
   },
   "outputs": [],
   "source": [
    "# Remove new lines from bullet points\n",
    "df.bullets = df.bullets.map(lambda l:\n",
    "    [b.replace('\\n', '') for b in l], na_action='ignore')"
   ]
  },
  {
   "cell_type": "code",
   "execution_count": null,
   "metadata": {
    "id": "Vj2b_tOrB2al"
   },
   "outputs": [],
   "source": [
    "# Replace abbreviations in text\n",
    "if REPLACE_ABBR:\n",
    "    abbreviations =\\\n",
    "        [books[bid].get_abbreviations() for bid in BOOK_IDS]\n",
    "    for bid, abbr in enumerate(abbreviations):\n",
    "        if abbreviations is not None:\n",
    "            df.loc[bid].text = \\\n",
    "                df.loc[bid].text.replace(abbr, regex=True)\n",
    "\n",
    "# Remove multiple spaces\n",
    "df.text = df.text.map(lambda t: re.sub(' +', ' ', t).strip(' '))\n",
    "\n",
    "# Remove unwanted chars at beginning or end of sentence\n",
    "df.text = df.text.map(lambda t: t.lstrip('0123456789.,;: '))\n",
    "#df.text = df.text.map(lambda t: t.rstrip('.,;: '))\n",
    "\n",
    "df = df.dropna()"
   ]
  },
  {
   "cell_type": "markdown",
   "metadata": {
    "id": "JAbFy0vVDCx8"
   },
   "source": [
    "### **Book 0, Chapter 1, Section 1**"
   ]
  },
  {
   "cell_type": "code",
   "execution_count": null,
   "metadata": {
    "id": "l1OJkZEeyeuy"
   },
   "outputs": [],
   "source": [
    "b1ch1sec1 = df.iloc[76:79].copy()"
   ]
  },
  {
   "cell_type": "code",
   "execution_count": null,
   "metadata": {
    "colab": {
     "base_uri": "https://localhost:8080/"
    },
    "executionInfo": {
     "elapsed": 25940,
     "status": "ok",
     "timestamp": 1606815982475,
     "user": {
      "displayName": "Marco Pietro Abrate",
      "photoUrl": "https://lh3.googleusercontent.com/a-/AOh14Gjh-8YF-8BlnrkN9mLZ0xfVOWfOh7kYncpYRv-Y=s64",
      "userId": "15422244832836998434"
     },
     "user_tz": -60
    },
    "id": "UYpV99EqDB82",
    "outputId": "365ff92f-c547-425d-c1db-b3b2b0305ce6"
   },
   "outputs": [
    {
     "name": "stdout",
     "output_type": "stream",
     "text": [
      "(0, 'ch1', 'ch1', 'ch1')\n",
      "Principles of gene therapy\n",
      "\n",
      "##########################################################################################################################################################################\n",
      "\n",
      "(0, 'ch1', 'sec1', 'sec1')\n",
      "History of genetic therapy\n",
      "Genes, comprising varying lengths of DNA, form the basis of inheritance and biological identity. The transcription of a\n",
      "gene into messenger RNA (mRNA) and consequent translation of that mRNA into a protein results in a fine control of all biological processes that occur\n",
      "in an organism. Genetic effects may be the consequence of a single gene (monogenic effect), a small number of genes (oligogenic effects) or numerous\n",
      "genes (polygenic effects).\n",
      "A frequent corollary follows that any mutations in the genetic code may result in dysfunctional proteins, resulting in a\n",
      "disease state. For instance, many common diseases have been shown to have a genetic component, with complex modes of inheritance further influenced by\n",
      "multiple environmental and epigenetic factors; these encompass oligogenic disorders (such as polydactyly, syndactyly, galactosemia and\n",
      "trimethylaminuria) and polygenic disorders (such as hypertension, coronary heart disease and diabetes). Other genetic disorders such as chromosomal\n",
      "abnormalities and mitochondrial genetic disorders exist, but these are beyond the scope of this book.\n",
      "Monogenic mutations result in rare inherited\n",
      "diseases such as thalassemia, sickle cell anemia, hemophilia, cystic fibrosis, certain muscular dystrophies, Tay-Sachs disease, fragile X syndrome and\n",
      "Huntington's disease. Although 5000-8000 monogenic diseases have been classified so far, treatments for such diseases have been palliative, without\n",
      "addressing the root cause of the disease.\n",
      "\n",
      "##########################################################################################################################################################################\n",
      "\n",
      "(0, 'ch1', 'sec1', 'sec2_sub_sec1')\n",
      "Defining gene therapy.\n",
      "The elucidation of the molecular basis of inherited diseases, from the discovery of the structure of DNA in 1953 to the\n",
      "sequencing of the human genome in 2002, has perhaps heralded a new age of genetic medicine, wherein it is now possible for the modern investigator or\n",
      "clinician to target the underlying disease mechanism. Gene-based therapy involves: (1) the addition or modification and subsequent expression of a new\n",
      "gene to provide a specific additional function to a cell; (2) the inoculation of nucleic acids for vaccination against foreign antigens; or (3) the\n",
      "general transfer of nucleic acids to modify the function of an endogenous gene to effect a direct or indirect clinical benefit. This transfer of\n",
      "genetic information, which may be transient or permanent, produces gene products for intercellular, intracellular or systemic uses that may affect\n",
      "endogenous genes, compensate for pathogenic genes or augment defective genes. It must be noted, though, that a formal definition for gene therapy is\n",
      "yet to be accepted by an international consortium and definitions may vary according to national regulatory agencies.\n",
      "\n",
      "##########################################################################################################################################################################\n",
      "\n",
      "(0, 'ch1', 'sec1', 'sec3_sub_sec1')\n",
      "Early approaches.\n",
      "While the use of exogenous DNA to replace defective DNA was proposed as early as 1970 by Rogers and 1972 by Friedmann and Roblin,\n",
      "other notable achievements in the field include the development of plasmids as delivery tools for exogenous genes by Cohen and Boyer in 1972 and the\n",
      "construction and use of retroviruses as vectors to effect plasmid delivery to cells by Mulligan in 1984, with subsequent translation to clinics in the\n",
      "later 1980s. Early gene therapy trials, such as those performed by Cline in 1980, were conducted without the approval of ethics committees, and\n",
      "questions were raised regarding the efficacy of gene transfer.\n",
      "Pioneering immunotherapy experiments in 1990 by Rosenberg and Anderson, wherein an\n",
      "autologous infusion of tumor-infiltrating lymphocytes transduced by retroviruses to express interleukin-2 was shown to influence the regression of\n",
      "metastatic melanoma, demonstrated the safety and tolerability of gene therapy in living people. This was followed by a clinical trial for adenosine\n",
      "deaminase (ADA) deficiency-severe combined immunodeficiency (SCID), wherein a retrovirus-mediated transduction of isolated T cells to express ADA\n",
      "followed by infusion of modified T cells back into patients resulted in a recovery of T-cell count.\n",
      "Other approved clinical trials at the turn of the\n",
      "millennium included an additional trial for ADA-SCID utilizing hematopoietic stem cells as a vector to effect gene therapy by Bordignon in 1992 and a\n",
      "trial for glioblastoma using antisense RNA by Trojan in 1993. The administration of an adenovirus-mediated therapy for ornithine transcarbamylase\n",
      "deficiency led to the unfortunate death of a patient because of an immune response, resulting in the suspension of clinical trials pending\n",
      "reformulation and codification of procedural and ethical protocols in western countries.\n",
      "\n",
      "##########################################################################################################################################################################\n",
      "\n",
      "(0, 'ch1', 'sec1', 'sec4_sub_sec1')\n",
      "Modern gene therapy and regulatory milestones.\n",
      "The gradual refinement of gene therapy techniques was a hallmark of the new millennium. Important\n",
      "breakthroughs included: the use of small interfering (si)RNAs in mammalian cells; the advent of gene-editing technologies such as zinc finger\n",
      "nucleases, transcription activator-like effector nucleases (TALENs) and clustered regularly interspaced short palindromic repeat (CRISPR)-based\n",
      "systems; and the refinement of viral vector systems for in vivo applications.\n",
      "Efforts by various research teams in the first two decades of the 2000s\n",
      "demonstrated the potential of gene therapy to ameliorate symptoms in various disease cases. A medical milestone was attained in 2003 when China's\n",
      "state Food and Drug Administration was the first national entity to approve Gendicine, a recombinant adenovirus engineered to express a wild-type\n",
      "tumor suppressor gene. The second decade of the millennium saw the approval of several gene therapy products and clinical trials by national\n",
      "regulatory agencies.\n",
      "Neovasculgen was approved in 2011 by the Russian Federation Ministry of Health to deliver vascular endothelial growth factor to\n",
      "ameliorate symptoms of critical limb ischemia.\n",
      "Alipogene tiparvovec (Glybera) followed closely, being approved by the European Medicines Agency (EMA)\n",
      "for lipoprotein lipase deficiency in 2012. It was withdrawn from the market in 2017 because of minimal commercial success; it had not been approved by\n",
      "the US Food and Drug Administration (FDA).\n",
      "Talimogene laherparepvec (Imlygic) was approved by both the EMA and the FDA in 2015 as a therapeutic\n",
      "strategy for melanoma.\n",
      "Strimvelis, a gene therapy strategy for ADA-SCID, was approved by the EMA in 2016.\n",
      "LentiGlobin BB305 (Zynteglo), a treatment\n",
      "for b-thalassemia, was designated a 'breakthrough therapy' by the FDA in 2015 and approved by the EMA in 2019.\n",
      "Tisagenlecleucel (Kymriah) for acute\n",
      "lymphoblastic leukemia, axicabtagene ciloleucel (Yescarta) for non-Hodgkin lymphoma and voretigene neparvovec (Luxturna) for blindness because of\n",
      "Leber congenital amaurosis were approved by the FDA and EMA in 2017/18.\n",
      "Onasemnogene abeparvovec (Zolgensma) was approved as a therapeutic strategy\n",
      "for spinal muscular atrophy in 2019.\n",
      "\n",
      "##########################################################################################################################################################################\n",
      "\n"
     ]
    }
   ],
   "source": [
    "import textwrap\n",
    "sec1 = df.iloc[0:5]\n",
    "for r in sec1.iterrows():\n",
    "    print(r[0])\n",
    "    print(textwrap.fill(\n",
    "        r[1].text, 150, break_long_words=False, replace_whitespace=False))\n",
    "    print()\n",
    "    print(''.join(['#']*170))\n",
    "    print()"
   ]
  },
  {
   "cell_type": "markdown",
   "metadata": {
    "id": "Ea0MqbY0yftL"
   },
   "source": [
    "### **Book 1, Chapter 1, Section 1**"
   ]
  },
  {
   "cell_type": "code",
   "execution_count": null,
   "metadata": {
    "colab": {
     "base_uri": "https://localhost:8080/"
    },
    "executionInfo": {
     "elapsed": 25235,
     "status": "ok",
     "timestamp": 1606815982477,
     "user": {
      "displayName": "Marco Pietro Abrate",
      "photoUrl": "https://lh3.googleusercontent.com/a-/AOh14Gjh-8YF-8BlnrkN9mLZ0xfVOWfOh7kYncpYRv-Y=s64",
      "userId": "15422244832836998434"
     },
     "user_tz": -60
    },
    "id": "iRWlv9PpyftM",
    "outputId": "665b643c-8dd2-49fa-882d-af201638c394"
   },
   "outputs": [
    {
     "name": "stdout",
     "output_type": "stream",
     "text": [
      "(1, 'ch1', 'ch1', 'ch1')\n",
      "Epidemiology, pathophysiology and classfication\n",
      "Glioblastoma is the most common intrinsic malignant brain tumor in adults. Specifically, it is a type\n",
      "of infiltrating glioma. Gliomas are part of a larger group of intrinsic tumors, which include ependymomas, embryonal tumors (exempli gratia\n",
      "medulloblastoma) and benign glioneuronal tumors (exempli gratia ganglioglioma) (Figure 1.1).\n",
      "\n",
      "##########################################################################################################################################################################\n",
      "\n",
      "(1, 'ch1', 'sec1', 'sec1')\n",
      "Epidemiology\n",
      "Incidence. The worldwide incidence of intrinsic brain tumors (benign and malignant) is an estimated 26 per 100 000 person-years, while\n",
      "the overall age-adjusted incidence of gliomas ranges from 4.67 to 5.73 per 100 000 people. Incidence varies widely by histological type, age, sex,\n",
      "race and country.\n",
      "Glioblastoma is the most common malignant brain tumor and most common subtype of glioma. The age-adjusted incidence of glioblastoma\n",
      "ranges from 0.59 (in Korea) to 3.69 (in Greece) per 100 000 people. In the USA, the incidence is 3.21 per 100 000. Its incidence increases with age\n",
      "(the median age at diagnosis is 65 years); it is uncommon in children. Given the aging populations in most western countries, the incidence of\n",
      "glioblastoma is expected to increase. It is most common in white men.\n",
      "Location. Glioblastomas can occur anywhere in the brain or spinal cord, but in\n",
      "general are diagnosed in the cerebral hemispheres. The anatomic location influences both prognosis and treatment options. Gliomas have been found in\n",
      "the frontal lobe in 40% of cases, temporal in 29%, parietal in 14% and occipital in 3%, with 14% in deeper structures.\n",
      "Mortality. Glioblastomas are\n",
      "fast growing, and as such have a poor prognosis; indeed, glioblastoma has the worst prognosis of all glioma diagnoses. In the USA, the 5-year survival\n",
      "rate is 19.6% in children under 14, 22.7% in 15-39 year-olds and 4.3% in adults over 40; across all ages the 5-year survival rate is 5.6%. Survival\n",
      "rates in other countries follow a similar pattern.\n",
      "Risk factors. Many genetic and environmental factors have been studied in relation to glioblastoma,\n",
      "but no key cause has been identified.\n",
      "Environmental factors. Therapeutic radiation to the central nervous system or head has been shown to increase\n",
      "the risk of developing glioblastoma. Likewise, a high socioeconomic status has been associated with glioblastoma diagnosis. Large studies have failed\n",
      "to show an association between mobile phone use and the development of gliomas. Conversely, increased susceptibility to allergies has been shown to\n",
      "have a protective effect against glioblastoma. This may be due to an improvement in immune function. Short-term use (< 10 years) of anti-inflammatory\n",
      "drugs has also been shown to have a protective effect against glioblastoma, particularly in individuals with no history of allergies or asthma. It\n",
      "should be noted that these findings are from large retrospective case-control analyses, and prospective studies would be needed to confirm these\n",
      "results.\n",
      "Genetic factors. Molecular studies have identified key genetic mutations associated with glioblastoma (see page 11). In rare cases (< 1%),\n",
      "glioblastoma occurs in people with genetic syndromes such as neurofibromatosis type 1, Turcot syndrome and Li Fraumeni syndrome, all of which have an\n",
      "autosomal dominant inheritance.\n",
      "\n",
      "##########################################################################################################################################################################\n",
      "\n",
      "(1, 'ch1', 'sec2', 'sec2')\n",
      "Pathophysiology\n",
      "Glioblastomas are malignant intrinsic tumors that are thought to arise from populations of stem/progenitor cells in the brain (Figure\n",
      "1.2).\n",
      "Tumors arise as a result of a driver mutation in a cell of origin (exempli gratia astrocyte, oligodendrocyte), which defines the location of the\n",
      "tumor, and occur during a preferred developmental period (exempli gratia childhood versus adult). Over the past 10 years the combination of location,\n",
      "age and mutation has been used to define many brain tumors (see Classification by genetic mutation, page 11).\n",
      "\n",
      "##########################################################################################################################################################################\n",
      "\n"
     ]
    }
   ],
   "source": [
    "import textwrap\n",
    "sec1 = df.iloc[76:79]\n",
    "for r in sec1.iterrows():\n",
    "    print(r[0])\n",
    "    print(textwrap.fill(\n",
    "        r[1].text, 150, break_long_words=False, replace_whitespace=False))\n",
    "    print()\n",
    "    print(''.join(['#']*170))\n",
    "    print()"
   ]
  },
  {
   "cell_type": "markdown",
   "metadata": {
    "id": "3PbqMEUdHFls"
   },
   "source": [
    "### **Bart**"
   ]
  },
  {
   "cell_type": "code",
   "execution_count": null,
   "metadata": {
    "colab": {
     "base_uri": "https://localhost:8080/",
     "height": 104,
     "referenced_widgets": [
      "a34800d8ad94417b92531b7895de8342",
      "2733177a0e8749829a9624bca2f9c1e0",
      "48bb384cc0e44ab3ab996b8534d31140",
      "f58a8f6e70f84d65a3e0bf919b555aa9"
     ]
    },
    "executionInfo": {
     "elapsed": 100006,
     "status": "ok",
     "timestamp": 1606814801703,
     "user": {
      "displayName": "Marco Pietro Abrate",
      "photoUrl": "https://lh3.googleusercontent.com/a-/AOh14Gjh-8YF-8BlnrkN9mLZ0xfVOWfOh7kYncpYRv-Y=s64",
      "userId": "15422244832836998434"
     },
     "user_tz": -60
    },
    "id": "hCrbVKtnHFlw",
    "outputId": "efde9bd7-7268-48a0-a070-503fc1a167f0"
   },
   "outputs": [
    {
     "data": {
      "application/vnd.jupyter.widget-view+json": {
       "model_id": "a34800d8ad94417b92531b7895de8342",
       "version_major": 2,
       "version_minor": 0
      },
      "text/plain": [
       "HBox(children=(FloatProgress(value=0.0, description='Downloading', max=898823.0, style=ProgressStyle(descripti…"
      ]
     },
     "metadata": {
      "tags": []
     },
     "output_type": "display_data"
    },
    {
     "name": "stdout",
     "output_type": "stream",
     "text": [
      "\n"
     ]
    },
    {
     "data": {
      "application/vnd.jupyter.widget-view+json": {
       "model_id": "2733177a0e8749829a9624bca2f9c1e0",
       "version_major": 2,
       "version_minor": 0
      },
      "text/plain": [
       "HBox(children=(FloatProgress(value=0.0, description='Downloading', max=456318.0, style=ProgressStyle(descripti…"
      ]
     },
     "metadata": {
      "tags": []
     },
     "output_type": "display_data"
    },
    {
     "name": "stdout",
     "output_type": "stream",
     "text": [
      "\n"
     ]
    },
    {
     "data": {
      "application/vnd.jupyter.widget-view+json": {
       "model_id": "48bb384cc0e44ab3ab996b8534d31140",
       "version_major": 2,
       "version_minor": 0
      },
      "text/plain": [
       "HBox(children=(FloatProgress(value=0.0, description='Downloading', max=1343.0, style=ProgressStyle(description…"
      ]
     },
     "metadata": {
      "tags": []
     },
     "output_type": "display_data"
    },
    {
     "name": "stdout",
     "output_type": "stream",
     "text": [
      "\n"
     ]
    },
    {
     "data": {
      "application/vnd.jupyter.widget-view+json": {
       "model_id": "f58a8f6e70f84d65a3e0bf919b555aa9",
       "version_major": 2,
       "version_minor": 0
      },
      "text/plain": [
       "HBox(children=(FloatProgress(value=0.0, description='Downloading', max=1625270765.0, style=ProgressStyle(descr…"
      ]
     },
     "metadata": {
      "tags": []
     },
     "output_type": "display_data"
    },
    {
     "name": "stdout",
     "output_type": "stream",
     "text": [
      "\n",
      "max input length: 1024\n"
     ]
    }
   ],
   "source": [
    "from transformers import BartTokenizer, BartForConditionalGeneration\n",
    "'''\n",
    "facebook/bart-large\n",
    "facebook/bart-large-cnn\n",
    "facebook/bart-large-xsum\n",
    "'''\n",
    "\n",
    "tokenizer = BartTokenizer.from_pretrained('facebook/bart-large-cnn')\n",
    "\n",
    "model = BartForConditionalGeneration.from_pretrained('facebook/bart-large-cnn').to('cuda')\n",
    "\n",
    "MODEL_MAX_LEN = tokenizer.model_max_length\n",
    "print('max input length:', MODEL_MAX_LEN)"
   ]
  },
  {
   "cell_type": "markdown",
   "metadata": {
    "id": "h50NSNP_xtfo"
   },
   "source": [
    "#### Preparing Inputs\n",
    "\n",
    "`b0ch1sec1`, `b1ch1sec1`"
   ]
  },
  {
   "cell_type": "code",
   "execution_count": null,
   "metadata": {
    "colab": {
     "base_uri": "https://localhost:8080/"
    },
    "executionInfo": {
     "elapsed": 100005,
     "status": "ok",
     "timestamp": 1606814801705,
     "user": {
      "displayName": "Marco Pietro Abrate",
      "photoUrl": "https://lh3.googleusercontent.com/a-/AOh14Gjh-8YF-8BlnrkN9mLZ0xfVOWfOh7kYncpYRv-Y=s64",
      "userId": "15422244832836998434"
     },
     "user_tz": -60
    },
    "id": "Lbw7XPvNHFl_",
    "outputId": "70a32ebd-129a-4322-c9ee-b6199f9c6f71"
   },
   "outputs": [
    {
     "name": "stdout",
     "output_type": "stream",
     "text": [
      "                                                                                 text  ... text_num_tok\n",
      "book chapter section subsection                                                        ...             \n",
      "0    ch1     ch1     ch1                                 Principles of gene therapy\\n  ...            8\n",
      "             sec1    sec1           History of genetic therapy\\nGenes, comprising ...  ...          307\n",
      "                     sec2_sub_sec1  Defining gene therapy.\\nThe elucidation of the...  ...          222\n",
      "                     sec3_sub_sec1  Early approaches.\\nWhile the use of exogenous ...  ...          384\n",
      "                     sec4_sub_sec1  Modern gene therapy and regulatory milestones....  ...          538\n",
      "\n",
      "[5 rows x 3 columns]\n"
     ]
    },
    {
     "name": "stderr",
     "output_type": "stream",
     "text": [
      "/usr/local/lib/python3.6/dist-packages/ipykernel_launcher.py:2: SettingWithCopyWarning: \n",
      "A value is trying to be set on a copy of a slice from a DataFrame.\n",
      "Try using .loc[row_indexer,col_indexer] = value instead\n",
      "\n",
      "See the caveats in the documentation: https://pandas.pydata.org/pandas-docs/stable/user_guide/indexing.html#returning-a-view-versus-a-copy\n",
      "  \n"
     ]
    }
   ],
   "source": [
    "b1ch1sec1 = df.iloc[0:5]\n",
    "b1ch1sec1['text_num_tok'] = b1ch1sec1.text.map(lambda t: len(tokenizer.encode(t)))\n",
    "print(b1ch1sec1)"
   ]
  },
  {
   "cell_type": "code",
   "execution_count": null,
   "metadata": {
    "id": "7Ef37EcMHFmH"
   },
   "outputs": [],
   "source": [
    "b0ch1sec1 = b1ch1sec1.iloc[0:4].copy()"
   ]
  },
  {
   "cell_type": "code",
   "execution_count": null,
   "metadata": {
    "colab": {
     "base_uri": "https://localhost:8080/"
    },
    "executionInfo": {
     "elapsed": 100000,
     "status": "ok",
     "timestamp": 1606814801707,
     "user": {
      "displayName": "Marco Pietro Abrate",
      "photoUrl": "https://lh3.googleusercontent.com/a-/AOh14Gjh-8YF-8BlnrkN9mLZ0xfVOWfOh7kYncpYRv-Y=s64",
      "userId": "15422244832836998434"
     },
     "user_tz": -60
    },
    "id": "mydQmP7HHFmO",
    "outputId": "59eaffcf-5e1a-4adf-8c7d-39953ba5da8a"
   },
   "outputs": [
    {
     "name": "stdout",
     "output_type": "stream",
     "text": [
      "Principles of gene therapy\n",
      "\n",
      "History of genetic therapy\n",
      "Genes, comprising varying lengths of DNA, form the basis of inheritance and biological identity. The transcription of a gene into messenger RNA (mRNA) and consequent translation of that mRNA into a protein results in a fine control of all biological processes that occur in an organism. Genetic effects may be the consequence of a single gene (monogenic effect), a small number of genes (oligogenic effects) or numerous genes (polygenic effects).\n",
      "A frequent corollary follows that any mutations in the genetic code may result in dysfunctional proteins, resulting in a disease state. For instance, many common diseases have been shown to have a genetic component, with complex modes of inheritance further influenced by multiple environmental and epigenetic factors; these encompass oligogenic disorders (such as polydactyly, syndactyly, galactosemia and trimethylaminuria) and polygenic disorders (such as hypertension, coronary heart disease and diabetes). Other genetic disorders such as chromosomal abnormalities and mitochondrial genetic disorders exist, but these are beyond the scope of this book.\n",
      "Monogenic mutations result in rare inherited diseases such as thalassemia, sickle cell anemia, hemophilia, cystic fibrosis, certain muscular dystrophies, Tay-Sachs disease, fragile X syndrome and Huntington's disease. Although 5000-8000 monogenic diseases have been classified so far, treatments for such diseases have been palliative, without addressing the root cause of the disease.\n",
      "\n",
      "Defining gene therapy.\n",
      "The elucidation of the molecular basis of inherited diseases, from the discovery of the structure of DNA in 1953 to the sequencing of the human genome in 2002, has perhaps heralded a new age of genetic medicine, wherein it is now possible for the modern investigator or clinician to target the underlying disease mechanism. Gene-based therapy involves: (1) the addition or modification and subsequent expression of a new gene to provide a specific additional function to a cell; (2) the inoculation of nucleic acids for vaccination against foreign antigens; or (3) the general transfer of nucleic acids to modify the function of an endogenous gene to effect a direct or indirect clinical benefit. This transfer of genetic information, which may be transient or permanent, produces gene products for intercellular, intracellular or systemic uses that may affect endogenous genes, compensate for pathogenic genes or augment defective genes. It must be noted, though, that a formal definition for gene therapy is yet to be accepted by an international consortium and definitions may vary according to national regulatory agencies.\n",
      "\n",
      "Early approaches.\n",
      "While the use of exogenous DNA to replace defective DNA was proposed as early as 1970 by Rogers and 1972 by Friedmann and Roblin, other notable achievements in the field include the development of plasmids as delivery tools for exogenous genes by Cohen and Boyer in 1972 and the construction and use of retroviruses as vectors to effect plasmid delivery to cells by Mulligan in 1984, with subsequent translation to clinics in the later 1980s. Early gene therapy trials, such as those performed by Cline in 1980, were conducted without the approval of ethics committees, and questions were raised regarding the efficacy of gene transfer.\n",
      "Pioneering immunotherapy experiments in 1990 by Rosenberg and Anderson, wherein an autologous infusion of tumor-infiltrating lymphocytes transduced by retroviruses to express interleukin-2 was shown to influence the regression of metastatic melanoma, demonstrated the safety and tolerability of gene therapy in living people. This was followed by a clinical trial for adenosine deaminase (ADA) deficiency-severe combined immunodeficiency (SCID), wherein a retrovirus-mediated transduction of isolated T cells to express ADA followed by infusion of modified T cells back into patients resulted in a recovery of T-cell count.\n",
      "Other approved clinical trials at the turn of the millennium included an additional trial for ADA-SCID utilizing hematopoietic stem cells as a vector to effect gene therapy by Bordignon in 1992 and a trial for glioblastoma using antisense RNA by Trojan in 1993. The administration of an adenovirus-mediated therapy for ornithine transcarbamylase deficiency led to the unfortunate death of a patient because of an immune response, resulting in the suspension of clinical trials pending reformulation and codification of procedural and ethical protocols in western countries.\n",
      "\n"
     ]
    }
   ],
   "source": [
    "b0ch1sec1_text = '\\n'.join(b0ch1sec1.text.tolist())\n",
    "b0ch1sec1_bullets = ''.join(b0ch1sec1.iloc[0].bullets)\n",
    "print(b0ch1sec1_text)"
   ]
  },
  {
   "cell_type": "code",
   "execution_count": null,
   "metadata": {
    "colab": {
     "base_uri": "https://localhost:8080/"
    },
    "executionInfo": {
     "elapsed": 99998,
     "status": "ok",
     "timestamp": 1606814801708,
     "user": {
      "displayName": "Marco Pietro Abrate",
      "photoUrl": "https://lh3.googleusercontent.com/a-/AOh14Gjh-8YF-8BlnrkN9mLZ0xfVOWfOh7kYncpYRv-Y=s64",
      "userId": "15422244832836998434"
     },
     "user_tz": -60
    },
    "id": "CLlqifuqHFmV",
    "outputId": "9f8875ea-7cf2-4269-fa90-fbc5d1148e52"
   },
   "outputs": [
    {
     "name": "stdout",
     "output_type": "stream",
     "text": [
      "Gene therapy involves the addition of nucleic acid-based products to a cell, either to compensate for a pathogenic loss of a protein or suppress the expression of a toxic protein.\n",
      "The transfer of genetic material may be transient or permanent, with non-viral and viral vectors, and it can be executed in an ex vivo context or directly in vivo.\n",
      "Clinical translation of a gene therapy agent has many hurdles to overcome. These range from identifying the target gene and designing the drug for efficient specific delivery of the required levels of expression to considering the genotoxic and immunologic risks.\n",
      "Monogenic diseases lend themselves to treatment using gene therapies. Ex vivo manipulation of hematopoietic stem cells is paving the way to clinical approvals.\n",
      "\n"
     ]
    }
   ],
   "source": [
    "print(b0ch1sec1_bullets)"
   ]
  },
  {
   "cell_type": "code",
   "execution_count": null,
   "metadata": {
    "colab": {
     "base_uri": "https://localhost:8080/"
    },
    "executionInfo": {
     "elapsed": 99991,
     "status": "ok",
     "timestamp": 1606814801709,
     "user": {
      "displayName": "Marco Pietro Abrate",
      "photoUrl": "https://lh3.googleusercontent.com/a-/AOh14Gjh-8YF-8BlnrkN9mLZ0xfVOWfOh7kYncpYRv-Y=s64",
      "userId": "15422244832836998434"
     },
     "user_tz": -60
    },
    "id": "Fn9bQ9djvHEi",
    "outputId": "6b9822fd-73bd-450a-d632-04f8271e31a2"
   },
   "outputs": [
    {
     "name": "stdout",
     "output_type": "stream",
     "text": [
      "                                                                              text  ... text_num_tok\n",
      "book chapter section subsection                                                     ...             \n",
      "1    ch1     ch1     ch1         Epidemiology, pathophysiology and classficatio...  ...          105\n",
      "             sec1    sec1        Epidemiology\\nIncidence. The worldwide inciden...  ...          656\n",
      "             sec2    sec2        Pathophysiology\\nGlioblastomas are malignant i...  ...          131\n",
      "\n",
      "[3 rows x 3 columns]\n"
     ]
    }
   ],
   "source": [
    "b1ch1sec1 = df.iloc[76:79].copy()\n",
    "b1ch1sec1['text_num_tok'] = b1ch1sec1.text.map(lambda t: len(tokenizer.encode(t)))\n",
    "print(b1ch1sec1)"
   ]
  },
  {
   "cell_type": "code",
   "execution_count": null,
   "metadata": {
    "colab": {
     "base_uri": "https://localhost:8080/"
    },
    "executionInfo": {
     "elapsed": 99988,
     "status": "ok",
     "timestamp": 1606814801710,
     "user": {
      "displayName": "Marco Pietro Abrate",
      "photoUrl": "https://lh3.googleusercontent.com/a-/AOh14Gjh-8YF-8BlnrkN9mLZ0xfVOWfOh7kYncpYRv-Y=s64",
      "userId": "15422244832836998434"
     },
     "user_tz": -60
    },
    "id": "Wbfk-LcTwvpZ",
    "outputId": "f88296a7-dba0-4ab6-9374-94bd05ffff95"
   },
   "outputs": [
    {
     "name": "stdout",
     "output_type": "stream",
     "text": [
      "Epidemiology, pathophysiology and classfication\n",
      "Glioblastoma is the most common intrinsic malignant brain tumor in adults. Specifically, it is a type of infiltrating glioma. Gliomas are part of a larger group of intrinsic tumors, which include ependymomas, embryonal tumors (exempli gratia medulloblastoma) and benign glioneuronal tumors (exempli gratia ganglioglioma) (Figure 1.1).\n",
      "\n",
      "Epidemiology\n",
      "Incidence. The worldwide incidence of intrinsic brain tumors (benign and malignant) is an estimated 26 per 100 000 person-years, while the overall age-adjusted incidence of gliomas ranges from 4.67 to 5.73 per 100 000 people. Incidence varies widely by histological type, age, sex, race and country.\n",
      "Glioblastoma is the most common malignant brain tumor and most common subtype of glioma. The age-adjusted incidence of glioblastoma ranges from 0.59 (in Korea) to 3.69 (in Greece) per 100 000 people. In the USA, the incidence is 3.21 per 100 000. Its incidence increases with age (the median age at diagnosis is 65 years); it is uncommon in children. Given the aging populations in most western countries, the incidence of glioblastoma is expected to increase. It is most common in white men.\n",
      "Location. Glioblastomas can occur anywhere in the brain or spinal cord, but in general are diagnosed in the cerebral hemispheres. The anatomic location influences both prognosis and treatment options. Gliomas have been found in the frontal lobe in 40% of cases, temporal in 29%, parietal in 14% and occipital in 3%, with 14% in deeper structures.\n",
      "Mortality. Glioblastomas are fast growing, and as such have a poor prognosis; indeed, glioblastoma has the worst prognosis of all glioma diagnoses. In the USA, the 5-year survival rate is 19.6% in children under 14, 22.7% in 15-39 year-olds and 4.3% in adults over 40; across all ages the 5-year survival rate is 5.6%. Survival rates in other countries follow a similar pattern.\n",
      "Risk factors. Many genetic and environmental factors have been studied in relation to glioblastoma, but no key cause has been identified.\n",
      "Environmental factors. Therapeutic radiation to the central nervous system or head has been shown to increase the risk of developing glioblastoma. Likewise, a high socioeconomic status has been associated with glioblastoma diagnosis. Large studies have failed to show an association between mobile phone use and the development of gliomas. Conversely, increased susceptibility to allergies has been shown to have a protective effect against glioblastoma. This may be due to an improvement in immune function. Short-term use (< 10 years) of anti-inflammatory drugs has also been shown to have a protective effect against glioblastoma, particularly in individuals with no history of allergies or asthma. It should be noted that these findings are from large retrospective case-control analyses, and prospective studies would be needed to confirm these results.\n",
      "Genetic factors. Molecular studies have identified key genetic mutations associated with glioblastoma (see page 11). In rare cases (< 1%), glioblastoma occurs in people with genetic syndromes such as neurofibromatosis type 1, Turcot syndrome and Li Fraumeni syndrome, all of which have an autosomal dominant inheritance.\n",
      "\n",
      "Pathophysiology\n",
      "Glioblastomas are malignant intrinsic tumors that are thought to arise from populations of stem/progenitor cells in the brain (Figure 1.2).\n",
      "Tumors arise as a result of a driver mutation in a cell of origin (exempli gratia astrocyte, oligodendrocyte), which defines the location of the tumor, and occur during a preferred developmental period (exempli gratia childhood versus adult). Over the past 10 years the combination of location, age and mutation has been used to define many brain tumors (see Classification by genetic mutation, page 11).\n",
      "\n"
     ]
    }
   ],
   "source": [
    "b1ch1sec1_text = '\\n'.join(b1ch1sec1.text.tolist())\n",
    "b1ch1sec1_bullets = ''.join(b1ch1sec1.iloc[0].bullets)\n",
    "print(b1ch1sec1_text)"
   ]
  },
  {
   "cell_type": "code",
   "execution_count": null,
   "metadata": {
    "colab": {
     "base_uri": "https://localhost:8080/"
    },
    "executionInfo": {
     "elapsed": 99985,
     "status": "ok",
     "timestamp": 1606814801711,
     "user": {
      "displayName": "Marco Pietro Abrate",
      "photoUrl": "https://lh3.googleusercontent.com/a-/AOh14Gjh-8YF-8BlnrkN9mLZ0xfVOWfOh7kYncpYRv-Y=s64",
      "userId": "15422244832836998434"
     },
     "user_tz": -60
    },
    "id": "cbRpz3QK76dn",
    "outputId": "20effce9-93b8-4bf6-88aa-7a25b49a40a7"
   },
   "outputs": [
    {
     "name": "stdout",
     "output_type": "stream",
     "text": [
      "Epidemiology, pathophysiology and classfication\n",
      "Glioblastoma is the most common intrinsic malignant brain tumor in adults. Specifically, it is a type of infiltrating glioma. Gliomas are part of a larger group of intrinsic tumors, which include ependymomas, embryonal tumors (exempli gratia medulloblastoma) and benign glioneuronal tumors (exempli gratia ganglioglioma) (Figure 1.1).\n",
      "\n",
      "Epidemiology\n",
      "Incidence. The worldwide incidence of intrinsic brain tumors (benign and malignant) is an estimated 26 per 100 000 person-years, while the overall age-adjusted incidence of gliomas ranges from 4.67 to 5.73 per 100 000 people. Incidence varies widely by histological type, age, sex, race and country.\n",
      "Glioblastoma is the most common malignant brain tumor and most common subtype of glioma. The age-adjusted incidence of glioblastoma ranges from 0.59 (in Korea) to 3.69 (in Greece) per 100 000 people. In the USA, the incidence is 3.21 per 100 000. Its incidence increases with age (the median age at diagnosis is 65 years); it is uncommon in children. Given the aging populations in most western countries, the incidence of glioblastoma is expected to increase. It is most common in white men.\n",
      "Location. Glioblastomas can occur anywhere in the brain or spinal cord, but in general are diagnosed in the cerebral hemispheres. The anatomic location influences both prognosis and treatment options. Gliomas have been found in the frontal lobe in 40% of cases, temporal in 29%, parietal in 14% and occipital in 3%, with 14% in deeper structures.\n",
      "Mortality. Glioblastomas are fast growing, and as such have a poor prognosis; indeed, glioblastoma has the worst prognosis of all glioma diagnoses. In the USA, the 5-year survival rate is 19.6% in children under 14, 22.7% in 15-39 year-olds and 4.3% in adults over 40; across all ages the 5-year survival rate is 5.6%. Survival rates in other countries follow a similar pattern.\n",
      "Risk factors. Many genetic and environmental factors have been studied in relation to glioblastoma, but no key cause has been identified.\n",
      "Environmental factors. Therapeutic radiation to the central nervous system or head has been shown to increase the risk of developing glioblastoma. Likewise, a high socioeconomic status has been associated with glioblastoma diagnosis. Large studies have failed to show an association between mobile phone use and the development of gliomas. Conversely, increased susceptibility to allergies has been shown to have a protective effect against glioblastoma. This may be due to an improvement in immune function. Short-term use (< 10 years) of anti-inflammatory drugs has also been shown to have a protective effect against glioblastoma, particularly in individuals with no history of allergies or asthma. It should be noted that these findings are from large retrospective case-control analyses, and prospective studies would be needed to confirm these results.\n",
      "Genetic factors. Molecular studies have identified key genetic mutations associated with glioblastoma (see page 11). In rare cases (< 1%), glioblastoma occurs in people with genetic syndromes such as neurofibromatosis type 1, Turcot syndrome and Li Fraumeni syndrome, all of which have an autosomal dominant inheritance.\n",
      "\n",
      "Pathophysiology\n",
      "Glioblastomas are malignant intrinsic tumors that are thought to arise from populations of stem/progenitor cells in the brain (Figure 1.2).\n",
      "Tumors arise as a result of a driver mutation in a cell of origin (exempli gratia astrocyte, oligodendrocyte), which defines the location of the tumor, and occur during a preferred developmental period (exempli gratia childhood versus adult). Over the past 10 years the combination of location, age and mutation has been used to define many brain tumors (see Classification by genetic mutation, page 11).\n",
      "\n"
     ]
    }
   ],
   "source": [
    "print(tokenizer.decode(tokenizer.encode(b1ch1sec1_text, return_tensors='pt')[0], skip_special_tokens=True))"
   ]
  },
  {
   "cell_type": "code",
   "execution_count": null,
   "metadata": {
    "colab": {
     "base_uri": "https://localhost:8080/"
    },
    "executionInfo": {
     "elapsed": 99984,
     "status": "ok",
     "timestamp": 1606814801712,
     "user": {
      "displayName": "Marco Pietro Abrate",
      "photoUrl": "https://lh3.googleusercontent.com/a-/AOh14Gjh-8YF-8BlnrkN9mLZ0xfVOWfOh7kYncpYRv-Y=s64",
      "userId": "15422244832836998434"
     },
     "user_tz": -60
    },
    "id": "XcQP2Zjyw1MV",
    "outputId": "03bd158f-999d-47f7-9ab0-eb9ddca9a62a"
   },
   "outputs": [
    {
     "name": "stdout",
     "output_type": "stream",
     "text": [
      "Many intrinsic brain tumors can be defined by their driver mutations, some of which are diagnostically and prognostically relevant. For example, the presence of an IDH mutation generally confers a better prognosis than no IDH mutation with chromosome 7 gain and chromosome 10 loss (as seen in early forms of glioblastoma or histological classic glioblastoma).\n",
      "IDH -mutant tumors may be astrocytomas or oligodendrogliomas. They occur in people aged 30–40 years and are usually located in the frontal lobe.\n",
      "IDH wild-type glioblastomas occur mostly in older people (50–70 years old). They generally have chromosome 7 gain and chromosome 10 loss, and in many cases, EGFR amplification and/or TERT promoter mutation.\n",
      "Gliomas in midline structures are highly likely to have a histone H3.3 K27M mutation.\n",
      "MGMT promoter methylation increases chemosensitivity to temozolomide treatment.\n",
      "\n"
     ]
    }
   ],
   "source": [
    "print(b1ch1sec1_bullets)"
   ]
  },
  {
   "cell_type": "markdown",
   "metadata": {
    "id": "QAA1rxEUHFmb"
   },
   "source": [
    "#### Normal summary | Beam Search"
   ]
  },
  {
   "cell_type": "markdown",
   "metadata": {
    "id": "6l9OqwNPaOFT"
   },
   "source": [
    "* Beam search can work very well in tasks where the length of the desired generation is more or less predictable as in machine translation or summarization - see Murray et al. (2018) and Yang et al. (2018). But this is not the case for open-ended generation where the desired output length can vary greatly, e.g. dialog and story generation.\n",
    "\n",
    "* We have seen that beam search heavily suffers from repetitive generation. This is especially hard to control with n-gram- or other penalties in story generation since finding a good trade-off between forced \"no-repetition\" and repeating cycles of identical n-grams requires a lot of finetuning.\n",
    "\n",
    "* As argued in Ari Holtzman et al. (2019), high quality human language does not follow a distribution of high probability next words. In other words, as humans, we want generated text to surprise us and not to be boring/predictable."
   ]
  },
  {
   "cell_type": "code",
   "execution_count": null,
   "metadata": {
    "colab": {
     "base_uri": "https://localhost:8080/"
    },
    "executionInfo": {
     "elapsed": 103356,
     "status": "ok",
     "timestamp": 1606814805088,
     "user": {
      "displayName": "Marco Pietro Abrate",
      "photoUrl": "https://lh3.googleusercontent.com/a-/AOh14Gjh-8YF-8BlnrkN9mLZ0xfVOWfOh7kYncpYRv-Y=s64",
      "userId": "15422244832836998434"
     },
     "user_tz": -60
    },
    "id": "o0eEdEs9HFmc",
    "outputId": "688eb765-2a8b-4cb7-ed42-2f79459d07ea"
   },
   "outputs": [
    {
     "name": "stdout",
     "output_type": "stream",
     "text": [
      "151\n",
      "Gene therapy involves the addition or modification and subsequent expression of a new gene to provide a specific additional function to a cell. Gene\n",
      "therapy is yet to be accepted by an international consortium and definitions may vary according to national regulatory agencies. Early gene therapy\n",
      "trials, such as those performed by Cline in 1980, were conducted without the approval of ethics committees. The use of exogenous DNA to replace\n",
      "defective DNA was proposed as early as 1970 by Rogers and 1972 by Friedmann and Roblin. Other notable achievements in the field include the\n",
      "development of plasmids as delivery tools for exogenous genes by Cohen and Boyer in 1972 and the construction and use of retroviruses as vectors to\n",
      "effect plasmid delivery to cells by Mulligan in 1984.\n"
     ]
    }
   ],
   "source": [
    "'''\n",
    "During generation, we set beam size as 5,\n",
    "remove duplicated trigrams in beam search, and tuned\n",
    "the model with min-len, max-len, length penalty on the\n",
    "validation set (Fan et al., 2017)\n",
    "'''\n",
    "b0ch1sec1_text_enc = tokenizer.encode(\n",
    "    b0ch1sec1_text, return_tensors='pt').to('cuda')\n",
    "\n",
    "summ_enc = model.generate(\n",
    "    b0ch1sec1_text_enc,\n",
    "    min_length = SUMMARY_MIN_LEN,\n",
    "    max_length = SUMMARY_MAX_LEN,\n",
    "    num_beams = 5,\n",
    "    length_penalty = 1,\n",
    "    no_repeat_ngram_size = 3,\n",
    "    num_return_sequences = 1,\n",
    "    early_stopping = True)\n",
    "\n",
    "summ = [tokenizer.decode(\n",
    "    se, skip_special_tokens=True) for se in summ_enc]\n",
    "\n",
    "for i, s in enumerate(summ):\n",
    "    print(len(summ_enc[i]))\n",
    "    print(textwrap.fill(\n",
    "        s, 150))"
   ]
  },
  {
   "cell_type": "code",
   "execution_count": null,
   "metadata": {
    "colab": {
     "base_uri": "https://localhost:8080/"
    },
    "executionInfo": {
     "elapsed": 106487,
     "status": "ok",
     "timestamp": 1606814808222,
     "user": {
      "displayName": "Marco Pietro Abrate",
      "photoUrl": "https://lh3.googleusercontent.com/a-/AOh14Gjh-8YF-8BlnrkN9mLZ0xfVOWfOh7kYncpYRv-Y=s64",
      "userId": "15422244832836998434"
     },
     "user_tz": -60
    },
    "id": "Orbl1O9dHFmh",
    "outputId": "a8c873e0-cf75-41e2-8b2f-0aaa547599d6"
   },
   "outputs": [
    {
     "name": "stdout",
     "output_type": "stream",
     "text": [
      "166\n",
      "Glioblastoma is the most common malignant brain tumor and most common subtype of glioma. Incidence varies widely by histological type, age, sex, race\n",
      "and country. In the USA, the 5-year survival rate is 19.6% in children under 14, 22.7% in 15-39 year-olds and 4.3% in adults over 40. Glioblastomas\n",
      "can occur anywhere in the brain or spinal cord, but in general are diagnosed in the cerebral hemispheres. The anatomic location influences both\n",
      "prognosis and treatment options. Therapeutic radiation to the central nervous system or head has been shown to increase the risk of developing gliob\n",
      "lastoma. The combination of location, age and mutation has been used to define many brain tumors.\n"
     ]
    }
   ],
   "source": [
    "'''\n",
    "During generation, we set beam size as 5,\n",
    "remove duplicated trigrams in beam search, and tuned\n",
    "the model with min-len, max-len, length penalty on the\n",
    "validation set (Fan et al., 2017)\n",
    "'''\n",
    "b1ch1sec1_text_enc = tokenizer.encode(\n",
    "    b1ch1sec1_text, return_tensors='pt').to('cuda')\n",
    "\n",
    "summ_enc = model.generate(\n",
    "    b1ch1sec1_text_enc,\n",
    "    min_length = SUMMARY_MIN_LEN,\n",
    "    max_length = SUMMARY_MAX_LEN,\n",
    "    num_beams = 5,\n",
    "    length_penalty = 1,\n",
    "    no_repeat_ngram_size = 3,\n",
    "    num_return_sequences = 1,\n",
    "    early_stopping = True)\n",
    "\n",
    "summ = [tokenizer.decode(\n",
    "    se, skip_special_tokens=True) for se in summ_enc]\n",
    "\n",
    "for i, s in enumerate(summ):\n",
    "    print(len(summ_enc[i]))\n",
    "    print(textwrap.fill(\n",
    "        s, 150))"
   ]
  },
  {
   "cell_type": "markdown",
   "metadata": {
    "id": "mjFkJQanaw9N"
   },
   "source": [
    "#### Normal summary | Sampling"
   ]
  },
  {
   "cell_type": "markdown",
   "metadata": {
    "id": "ZQJwsLGWb5_K"
   },
   "source": [
    "* In **Top-k sampling**, the k most likely next words are filtered and the probability mass is redistributed among only those K next words. However, limiting the sample pool to a fixed size K could endanger the model to produce gibberish for sharp distributions and limit the model's creativity for flat distribution. This intuition led Ari Holtzman et al. (2019) to create Top-p (nucleus) sampling.\n",
    "\n",
    "* Instead of sampling only from the most likely k words, in **Top-p sampling** chooses from the smallest possible set of words whose cumulative probability exceeds the probability p. The probability mass is then redistributed among this set of words. This way, the size of the set of words (a.k.a the number of words in the set) can dynamically increase and decrease according to the next word's probability distribution.\n",
    "\n",
    "* Lowering the so-called **temperature** increases the likelihood of high probability words and decreases the likelihood of low probability words."
   ]
  },
  {
   "cell_type": "code",
   "execution_count": null,
   "metadata": {
    "colab": {
     "base_uri": "https://localhost:8080/"
    },
    "executionInfo": {
     "elapsed": 111283,
     "status": "ok",
     "timestamp": 1606814813022,
     "user": {
      "displayName": "Marco Pietro Abrate",
      "photoUrl": "https://lh3.googleusercontent.com/a-/AOh14Gjh-8YF-8BlnrkN9mLZ0xfVOWfOh7kYncpYRv-Y=s64",
      "userId": "15422244832836998434"
     },
     "user_tz": -60
    },
    "id": "EZzmVCW7aw9e",
    "outputId": "c508f9a8-63bd-4ff3-d836-9d391b1b2b00"
   },
   "outputs": [
    {
     "name": "stdout",
     "output_type": "stream",
     "text": [
      "207\n",
      "Gene-based therapy involves the addition or modification and subsequent expression of a new gene to provide a specific additional function to a cell.\n",
      "This transfer of genetic information produces gene products for intercellular, intracellular or systemic uses. It must be noted, though, that a formal\n",
      "definition for gene therapy is yet to be accepted by an international consortium and definitions may vary according to national regulatory agencies.\n",
      "Early gene therapy trials, such as those performed by Cline in 1980, were conducted without the approval of ethics committees, and questions were\n",
      "raised regarding the efficacy of gene transfer. The use of exogenous DNA to replace defective DNA was proposed as early as 1970 by Rogers and 1972 by\n",
      "Friedmann and Roblin. Other notable achievements in the field include the development of plasmids as delivery tools for exogenous genes by Cohen and\n",
      "Boyer in 1972 and the construction and use of retroviruses as vectors to effect plasmid delivery to cells by Mulligan in 1984, with subsequent\n",
      "translation to clinics in the later 1980s.\n"
     ]
    }
   ],
   "source": [
    "'''\n",
    "During generation, we set beam size as 5,\n",
    "remove duplicated trigrams in beam search, and tuned\n",
    "the model with min-len, max-len, length penalty on the\n",
    "validation set (Fan et al., 2017)\n",
    "'''\n",
    "b0ch1sec1_text_enc = tokenizer.encode(\n",
    "    b0ch1sec1_text, return_tensors='pt').to('cuda')\n",
    "\n",
    "summ_enc = model.generate(\n",
    "    b0ch1sec1_text_enc,\n",
    "    min_length = SUMMARY_MIN_LEN,\n",
    "    max_length = SUMMARY_MAX_LEN,\n",
    "    do_sample = True,\n",
    "    top_k = 100,\n",
    "    top_p = 0.9,\n",
    "    temperature = 1,\n",
    "    no_repeat_ngram_size = 3)\n",
    "\n",
    "summ = [tokenizer.decode(\n",
    "    se, skip_special_tokens=True) for se in summ_enc]\n",
    "\n",
    "for i, s in enumerate(summ):\n",
    "    print(len(summ_enc[i]))\n",
    "    print(textwrap.fill(\n",
    "        s, 150))"
   ]
  },
  {
   "cell_type": "code",
   "execution_count": null,
   "metadata": {
    "colab": {
     "base_uri": "https://localhost:8080/"
    },
    "executionInfo": {
     "elapsed": 115067,
     "status": "ok",
     "timestamp": 1606814816809,
     "user": {
      "displayName": "Marco Pietro Abrate",
      "photoUrl": "https://lh3.googleusercontent.com/a-/AOh14Gjh-8YF-8BlnrkN9mLZ0xfVOWfOh7kYncpYRv-Y=s64",
      "userId": "15422244832836998434"
     },
     "user_tz": -60
    },
    "id": "la61w8Myaw90",
    "outputId": "6bf3df14-d71b-40fd-d5b0-1c2adaec1f73"
   },
   "outputs": [
    {
     "name": "stdout",
     "output_type": "stream",
     "text": [
      "158\n",
      "Glioblastoma is the most common malignant brain tumor in adults. The worldwide incidence of intrinsic brain tumors (benign and malignant) is an\n",
      "estimated 26 per 100 000 person-years. In the USA, the 5-year survival rate is 19.6% in children under 14, 22.7% in 15-39 year-olds and 4.3% in adults\n",
      "over 40. Glioblastomas can occur anywhere in the brain or spinal cord, but in general are diagnosed in the cerebral hemispheres. The anatomic location\n",
      "influences both prognosis and treatment options. Therapeutic radiation to the central nervous system or head has been shown to increase the risk of\n",
      "developing gliobLastoma. It is most common in white men.\n"
     ]
    }
   ],
   "source": [
    "'''\n",
    "During generation, we set beam size as 5,\n",
    "remove duplicated trigrams in beam search, and tuned\n",
    "the model with min-len, max-len, length penalty on the\n",
    "validation set (Fan et al., 2017)\n",
    "'''\n",
    "b1ch1sec1_text_enc = tokenizer.encode(\n",
    "    b1ch1sec1_text, return_tensors='pt').to('cuda')\n",
    "\n",
    "summ_enc = model.generate(\n",
    "    b1ch1sec1_text_enc,\n",
    "    min_length = SUMMARY_MIN_LEN,\n",
    "    max_length = SUMMARY_MAX_LEN,\n",
    "    do_sample = True,\n",
    "    top_k = 100,\n",
    "    top_p = 0.9,\n",
    "    temperature = 1,\n",
    "    no_repeat_ngram_size = 3)\n",
    "\n",
    "summ = [tokenizer.decode(\n",
    "    se, skip_special_tokens=True) for se in summ_enc]\n",
    "\n",
    "for i, s in enumerate(summ):\n",
    "    print(len(summ_enc[i]))\n",
    "    print(textwrap.fill(\n",
    "        s, 150))"
   ]
  },
  {
   "cell_type": "markdown",
   "metadata": {
    "id": "QNZ0aj1ZeSBm"
   },
   "source": [
    "As ad-hoc decoding methods, top-p and top-k sampling seem to produce more fluent text than traditional greedy - and beam search on open-ended language generation. Recently, there has been more evidence though that the apparent flaws of greedy and beam search - mainly generating repetitive word sequences - are caused by the model (especially the way the model is trained), rather than the decoding method, cf. Welleck et al. (2019). Also, as demonstrated in Welleck et al. (2020), it looks as top-k and top-p sampling also suffer from generating repetitive word sequences.\n",
    "\n",
    "In Welleck et al. (2019), the authors show that according to human evaluations, beam search can generate more fluent text than Top-p sampling, when adapting the model's training objective."
   ]
  },
  {
   "cell_type": "markdown",
   "metadata": {
    "id": "WKRW3c7YHFmq"
   },
   "source": [
    "#### Short summary"
   ]
  },
  {
   "cell_type": "code",
   "execution_count": null,
   "metadata": {
    "colab": {
     "base_uri": "https://localhost:8080/"
    },
    "executionInfo": {
     "elapsed": 115065,
     "status": "ok",
     "timestamp": 1606814816810,
     "user": {
      "displayName": "Marco Pietro Abrate",
      "photoUrl": "https://lh3.googleusercontent.com/a-/AOh14Gjh-8YF-8BlnrkN9mLZ0xfVOWfOh7kYncpYRv-Y=s64",
      "userId": "15422244832836998434"
     },
     "user_tz": -60
    },
    "id": "4ShYckk7HFmq",
    "outputId": "f78ab5f7-39ac-4236-ad4f-4915e86dcebe"
   },
   "outputs": [
    {
     "name": "stderr",
     "output_type": "stream",
     "text": [
      "Token indices sequence length is longer than the specified maximum sequence length for this model (2954 > 1024). Running this sequence through the model will result in indexing errors\n"
     ]
    },
    {
     "name": "stdout",
     "output_type": "stream",
     "text": [
      "The first chapter is 2954 tokens long.\n",
      "This would result in 3.0 chunks of length 984 to be summarized independently.\n",
      "Each summary would need to be of length between 50 and 116\n"
     ]
    }
   ],
   "source": [
    "len_ch1 = len(tokenizer.encode(\n",
    "    ''.join(df.loc[(0, 'ch1')].text.tolist())))\n",
    "print('The first chapter is', len_ch1, 'tokens long.')\n",
    "print('This would result in', np.ceil(len_ch1 / MODEL_MAX_LEN),\n",
    "      'chunks of length',\n",
    "      int(len_ch1 / np.ceil(len_ch1 / MODEL_MAX_LEN)),\n",
    "      'to be summarized independently.')\n",
    "print('Each summary would need to be of length between',\n",
    "      int(SUMMARY_MIN_LEN/np.ceil(len_ch1 / MODEL_MAX_LEN)), 'and',\n",
    "      int(SUMMARY_MAX_LEN/np.ceil(len_ch1 / MODEL_MAX_LEN)))\n",
    "\n",
    "SHORT_SUMM_MIN_LEN = int(SUMMARY_MIN_LEN/np.ceil(len_ch1 / MODEL_MAX_LEN))\n",
    "SHORT_SUMM_MAX_LEN = int(SUMMARY_MAX_LEN/np.ceil(len_ch1 / MODEL_MAX_LEN))"
   ]
  },
  {
   "cell_type": "code",
   "execution_count": null,
   "metadata": {
    "id": "FY6-EtEyHFmw"
   },
   "outputs": [],
   "source": [
    "'''\n",
    "During generation, we set beam size as 5,\n",
    "remove duplicated trigrams in beam search, and tuned\n",
    "the model with min-len, max-len, length penalty on the\n",
    "validation set (Fan et al., 2017)\n",
    "'''\n",
    "b0ch1sec1_text_enc = tokenizer.encode(\n",
    "    b0ch1sec1_text, return_tensors='pt').to('cuda')\n",
    "#'''\n",
    "summ_enc = model.generate(\n",
    "    b0ch1sec1_text_enc,\n",
    "    min_length = SHORT_SUMM_MIN_LEN,\n",
    "    max_length = SHORT_SUMM_MAX_LEN,\n",
    "    num_beams = 5,\n",
    "    length_penalty = 1,\n",
    "    no_repeat_ngram_size = 3,\n",
    "    num_return_sequences = 1,\n",
    "    early_stopping = True)\n",
    "'''\n",
    "summ_enc = model.generate(\n",
    "    b0ch1sec1_text_enc,\n",
    "    min_length = SHORT_SUMM_MIN_LEN,\n",
    "    max_length = SHORT_SUMM_MAX_LEN,\n",
    "    do_sample = True,\n",
    "    top_k = 0,\n",
    "    #top_p = 0,\n",
    "    temperature = 1)\n",
    "'''\n",
    "\n",
    "summ = [tokenizer.decode(\n",
    "    se, skip_special_tokens=True) for se in summ_enc]"
   ]
  },
  {
   "cell_type": "code",
   "execution_count": null,
   "metadata": {
    "colab": {
     "base_uri": "https://localhost:8080/"
    },
    "executionInfo": {
     "elapsed": 116498,
     "status": "ok",
     "timestamp": 1606814818250,
     "user": {
      "displayName": "Marco Pietro Abrate",
      "photoUrl": "https://lh3.googleusercontent.com/a-/AOh14Gjh-8YF-8BlnrkN9mLZ0xfVOWfOh7kYncpYRv-Y=s64",
      "userId": "15422244832836998434"
     },
     "user_tz": -60
    },
    "id": "xmajyBVVHFm1",
    "outputId": "e65f4645-51e1-4d5c-9f43-fa6924dccc71"
   },
   "outputs": [
    {
     "name": "stdout",
     "output_type": "stream",
     "text": [
      "68\n",
      "Gene therapy involves the addition or modification and subsequent expression of a new gene to provide a specific additional function to a cell. This\n",
      "transfer of genetic information produces gene products for intercellular, intracellular or systemic uses. Gene therapy is yet to be accepted by an\n",
      "international consortium and definitions may vary according to national regulatory agencies.\n",
      "\n"
     ]
    }
   ],
   "source": [
    "for i, s in enumerate(summ):\n",
    "    print(len(summ_enc[i]))\n",
    "    print(textwrap.fill(\n",
    "        s, 150))\n",
    "    print()"
   ]
  },
  {
   "cell_type": "markdown",
   "metadata": {
    "id": "jSkO1ku0guKv"
   },
   "source": [
    "With BART, using beam search usually produces the phrase about rare diseases. This is definitely interesting but I am not sure it is a key sentence of the section. In the normal length summary, however, the model continues with important information, while it does write something a bit more random when using sampling.\n",
    "\n",
    "On the other hand, top-k sampling seems to work better ($k \\sim 50$). Lowering the temperature produces very bad results, and this might be a problem of the BART model."
   ]
  },
  {
   "cell_type": "markdown",
   "metadata": {
    "id": "H5nOcDXOrc3r"
   },
   "source": [
    "#### Manually add redundant info"
   ]
  },
  {
   "cell_type": "markdown",
   "metadata": {
    "id": "_z_bWzU_rowG"
   },
   "source": [
    "First, we check what the model includes in the normal length summary"
   ]
  },
  {
   "cell_type": "code",
   "execution_count": null,
   "metadata": {
    "id": "ZL941DrsrjqK"
   },
   "outputs": [],
   "source": [
    "'''\n",
    "During generation, we set beam size as 5,\n",
    "remove duplicated trigrams in beam search, and tuned\n",
    "the model with min-len, max-len, length penalty on the\n",
    "validation set (Fan et al., 2017)\n",
    "'''\n",
    "b0ch1sec1_text_enc = tokenizer.encode(\n",
    "    b0ch1sec1_text, return_tensors='pt').to('cuda')\n",
    "\n",
    "summ_enc = model.generate(\n",
    "    b0ch1sec1_text_enc,\n",
    "    min_length = SUMMARY_MIN_LEN,\n",
    "    max_length = SUMMARY_MAX_LEN,\n",
    "    num_beams = 5,\n",
    "    length_penalty = 1,\n",
    "    no_repeat_ngram_size = 3,\n",
    "    num_return_sequences = 1,\n",
    "    early_stopping = True)\n",
    "\n",
    "summ = [tokenizer.decode(\n",
    "    se, skip_special_tokens=True) for se in summ_enc]"
   ]
  },
  {
   "cell_type": "code",
   "execution_count": null,
   "metadata": {
    "colab": {
     "base_uri": "https://localhost:8080/"
    },
    "executionInfo": {
     "elapsed": 119763,
     "status": "ok",
     "timestamp": 1606814821520,
     "user": {
      "displayName": "Marco Pietro Abrate",
      "photoUrl": "https://lh3.googleusercontent.com/a-/AOh14Gjh-8YF-8BlnrkN9mLZ0xfVOWfOh7kYncpYRv-Y=s64",
      "userId": "15422244832836998434"
     },
     "user_tz": -60
    },
    "id": "1JiGY4Z8rnd2",
    "outputId": "b90e1596-338b-4c33-eb7d-33dcd74ed6e3"
   },
   "outputs": [
    {
     "name": "stdout",
     "output_type": "stream",
     "text": [
      "151\n",
      "Gene therapy involves the addition or modification and subsequent expression of a new gene to provide a specific additional function to a cell. Gene\n",
      "therapy is yet to be accepted by an international consortium and definitions may vary according to national regulatory agencies. Early gene therapy\n",
      "trials, such as those performed by Cline in 1980, were conducted without the approval of ethics committees. The use of exogenous DNA to replace\n",
      "defective DNA was proposed as early as 1970 by Rogers and 1972 by Friedmann and Roblin. Other notable achievements in the field include the\n",
      "development of plasmids as delivery tools for exogenous genes by Cohen and Boyer in 1972 and the construction and use of retroviruses as vectors to\n",
      "effect plasmid delivery to cells by Mulligan in 1984.\n"
     ]
    }
   ],
   "source": [
    "for i, s in enumerate(summ):\n",
    "    print(len(summ_enc[i]))\n",
    "    print(textwrap.fill(\n",
    "        s, 150))"
   ]
  },
  {
   "cell_type": "markdown",
   "metadata": {
    "id": "9ASRXgqNr32U"
   },
   "source": [
    "Then, we search those sentences in the original text and we slightly change them, adding redundant information. Can the model understand it and skip those information?"
   ]
  },
  {
   "cell_type": "markdown",
   "metadata": {
    "id": "b9tpdAVps1mn"
   },
   "source": [
    "#####Modified phrase:\n",
    "\n",
    "... may vary according to national regulatory agencies, **as already seen in Section 1.**"
   ]
  },
  {
   "cell_type": "code",
   "execution_count": null,
   "metadata": {
    "colab": {
     "base_uri": "https://localhost:8080/"
    },
    "executionInfo": {
     "elapsed": 119762,
     "status": "ok",
     "timestamp": 1606814821522,
     "user": {
      "displayName": "Marco Pietro Abrate",
      "photoUrl": "https://lh3.googleusercontent.com/a-/AOh14Gjh-8YF-8BlnrkN9mLZ0xfVOWfOh7kYncpYRv-Y=s64",
      "userId": "15422244832836998434"
     },
     "user_tz": -60
    },
    "id": "LgCxdUPrsPij",
    "outputId": "07e099a1-30a0-4680-d864-7a89e8b26ae9"
   },
   "outputs": [
    {
     "name": "stdout",
     "output_type": "stream",
     "text": [
      "Principles of gene therapy\n",
      "\n",
      "History of genetic therapy\n",
      "Genes, comprising varying lengths of DNA, form the basis of inheritance and biological identity. The transcription of a gene into messenger RNA (mRNA) and consequent translation of that mRNA into a protein results in a fine control of all biological processes that occur in an organism. Genetic effects may be the consequence of a single gene (monogenic effect), a small number of genes (oligogenic effects) or numerous genes (polygenic effects).\n",
      "A frequent corollary follows that any mutations in the genetic code may result in dysfunctional proteins, resulting in a disease state. For instance, many common diseases have been shown to have a genetic component, with complex modes of inheritance further influenced by multiple environmental and epigenetic factors; these encompass oligogenic disorders (such as polydactyly, syndactyly, galactosemia and trimethylaminuria) and polygenic disorders (such as hypertension, coronary heart disease and diabetes). Other genetic disorders such as chromosomal abnormalities and mitochondrial genetic disorders exist, but these are beyond the scope of this book.\n",
      "Monogenic mutations result in rare inherited diseases such as thalassemia, sickle cell anemia, hemophilia, cystic fibrosis, certain muscular dystrophies, Tay-Sachs disease, fragile X syndrome and Huntington's disease. Although 5000-8000 monogenic diseases have been classified so far, treatments for such diseases have been palliative, without addressing the root cause of the disease.\n",
      "\n",
      "Defining gene therapy.\n",
      "The elucidation of the molecular basis of inherited diseases, from the discovery of the structure of DNA in 1953 to the sequencing of the human genome in 2002, has perhaps heralded a new age of genetic medicine, wherein it is now possible for the modern investigator or clinician to target the underlying disease mechanism. Gene-based therapy involves: (1) the addition or modification and subsequent expression of a new gene to provide a specific additional function to a cell; (2) the inoculation of nucleic acids for vaccination against foreign antigens; or (3) the general transfer of nucleic acids to modify the function of an endogenous gene to effect a direct or indirect clinical benefit. This transfer of genetic information, which may be transient or permanent, produces gene products for intercellular, intracellular or systemic uses that may affect endogenous genes, compensate for pathogenic genes or augment defective genes. It must be noted, though, that a formal definition for gene therapy is yet to be accepted by an international consortium and definitions may vary according to national regulatory agencies, as already seen in Section 1.\n",
      "\n",
      "Early approaches.\n",
      "While the use of exogenous DNA to replace defective DNA was proposed as early as 1970 by Rogers and 1972 by Friedmann and Roblin, other notable achievements in the field include the development of plasmids as delivery tools for exogenous genes by Cohen and Boyer in 1972 and the construction and use of retroviruses as vectors to effect plasmid delivery to cells by Mulligan in 1984, with subsequent translation to clinics in the later 1980s. Early gene therapy trials, such as those performed by Cline in 1980, were conducted without the approval of ethics committees, and questions were raised regarding the efficacy of gene transfer.\n",
      "Pioneering immunotherapy experiments in 1990 by Rosenberg and Anderson, wherein an autologous infusion of tumor-infiltrating lymphocytes transduced by retroviruses to express interleukin-2 was shown to influence the regression of metastatic melanoma, demonstrated the safety and tolerability of gene therapy in living people. This was followed by a clinical trial for adenosine deaminase (ADA) deficiency-severe combined immunodeficiency (SCID), wherein a retrovirus-mediated transduction of isolated T cells to express ADA followed by infusion of modified T cells back into patients resulted in a recovery of T-cell count.\n",
      "Other approved clinical trials at the turn of the millennium included an additional trial for ADA-SCID utilizing hematopoietic stem cells as a vector to effect gene therapy by Bordignon in 1992 and a trial for glioblastoma using antisense RNA by Trojan in 1993. The administration of an adenovirus-mediated therapy for ornithine transcarbamylase deficiency led to the unfortunate death of a patient because of an immune response, resulting in the suspension of clinical trials pending reformulation and codification of procedural and ethical protocols in western countries.\n"
     ]
    }
   ],
   "source": [
    "b0ch1sec1_text = \\\n",
    "'''Principles of gene therapy\n",
    "\n",
    "History of genetic therapy\n",
    "Genes, comprising varying lengths of DNA, form the basis of inheritance and biological identity. The transcription of a gene into messenger RNA (mRNA) and consequent translation of that mRNA into a protein results in a fine control of all biological processes that occur in an organism. Genetic effects may be the consequence of a single gene (monogenic effect), a small number of genes (oligogenic effects) or numerous genes (polygenic effects).\n",
    "A frequent corollary follows that any mutations in the genetic code may result in dysfunctional proteins, resulting in a disease state. For instance, many common diseases have been shown to have a genetic component, with complex modes of inheritance further influenced by multiple environmental and epigenetic factors; these encompass oligogenic disorders (such as polydactyly, syndactyly, galactosemia and trimethylaminuria) and polygenic disorders (such as hypertension, coronary heart disease and diabetes). Other genetic disorders such as chromosomal abnormalities and mitochondrial genetic disorders exist, but these are beyond the scope of this book.\n",
    "Monogenic mutations result in rare inherited diseases such as thalassemia, sickle cell anemia, hemophilia, cystic fibrosis, certain muscular dystrophies, Tay-Sachs disease, fragile X syndrome and Huntington's disease. Although 5000-8000 monogenic diseases have been classified so far, treatments for such diseases have been palliative, without addressing the root cause of the disease.\n",
    "\n",
    "Defining gene therapy.\n",
    "The elucidation of the molecular basis of inherited diseases, from the discovery of the structure of DNA in 1953 to the sequencing of the human genome in 2002, has perhaps heralded a new age of genetic medicine, wherein it is now possible for the modern investigator or clinician to target the underlying disease mechanism. Gene-based therapy involves: (1) the addition or modification and subsequent expression of a new gene to provide a specific additional function to a cell; (2) the inoculation of nucleic acids for vaccination against foreign antigens; or (3) the general transfer of nucleic acids to modify the function of an endogenous gene to effect a direct or indirect clinical benefit. This transfer of genetic information, which may be transient or permanent, produces gene products for intercellular, intracellular or systemic uses that may affect endogenous genes, compensate for pathogenic genes or augment defective genes. It must be noted, though, that a formal definition for gene therapy is yet to be accepted by an international consortium and definitions may vary according to national regulatory agencies, as already seen in Section 1.\n",
    "\n",
    "Early approaches.\n",
    "While the use of exogenous DNA to replace defective DNA was proposed as early as 1970 by Rogers and 1972 by Friedmann and Roblin, other notable achievements in the field include the development of plasmids as delivery tools for exogenous genes by Cohen and Boyer in 1972 and the construction and use of retroviruses as vectors to effect plasmid delivery to cells by Mulligan in 1984, with subsequent translation to clinics in the later 1980s. Early gene therapy trials, such as those performed by Cline in 1980, were conducted without the approval of ethics committees, and questions were raised regarding the efficacy of gene transfer.\n",
    "Pioneering immunotherapy experiments in 1990 by Rosenberg and Anderson, wherein an autologous infusion of tumor-infiltrating lymphocytes transduced by retroviruses to express interleukin-2 was shown to influence the regression of metastatic melanoma, demonstrated the safety and tolerability of gene therapy in living people. This was followed by a clinical trial for adenosine deaminase (ADA) deficiency-severe combined immunodeficiency (SCID), wherein a retrovirus-mediated transduction of isolated T cells to express ADA followed by infusion of modified T cells back into patients resulted in a recovery of T-cell count.\n",
    "Other approved clinical trials at the turn of the millennium included an additional trial for ADA-SCID utilizing hematopoietic stem cells as a vector to effect gene therapy by Bordignon in 1992 and a trial for glioblastoma using antisense RNA by Trojan in 1993. The administration of an adenovirus-mediated therapy for ornithine transcarbamylase deficiency led to the unfortunate death of a patient because of an immune response, resulting in the suspension of clinical trials pending reformulation and codification of procedural and ethical protocols in western countries.'''\n",
    "\n",
    "print(b0ch1sec1_text)"
   ]
  },
  {
   "cell_type": "code",
   "execution_count": null,
   "metadata": {
    "colab": {
     "base_uri": "https://localhost:8080/"
    },
    "executionInfo": {
     "elapsed": 123032,
     "status": "ok",
     "timestamp": 1606814824796,
     "user": {
      "displayName": "Marco Pietro Abrate",
      "photoUrl": "https://lh3.googleusercontent.com/a-/AOh14Gjh-8YF-8BlnrkN9mLZ0xfVOWfOh7kYncpYRv-Y=s64",
      "userId": "15422244832836998434"
     },
     "user_tz": -60
    },
    "id": "ZfucGp2xs9Hr",
    "outputId": "cfecd657-f7a9-4608-ab5d-b3f12250eb98"
   },
   "outputs": [
    {
     "name": "stdout",
     "output_type": "stream",
     "text": [
      "164\n",
      "Gene therapy involves the addition or modification and subsequent expression of a new gene to provide a specific additional function to a cell. This\n",
      "transfer of genetic information produces gene products for intercellular, intracellular or systemic uses. Gene therapy is yet to be accepted by an\n",
      "international consortium and definitions may vary according to national regulatory agencies. Early gene therapy trials, such as those performed by\n",
      "Cline in 1980, were conducted without the approval of ethics committees. The use of exogenous DNA to replace defective DNA was proposed as early as\n",
      "1970 by Rogers and 1972 by Friedmann and Roblin. The development of plasmids as delivery tools for exogenous genes by Cohen and Boyer in 1972 and the\n",
      "construction and use of retroviruses as vectors to effect plasmid delivery to cells by Mulligan in 1984.\n"
     ]
    }
   ],
   "source": [
    "'''\n",
    "During generation, we set beam size as 5,\n",
    "remove duplicated trigrams in beam search, and tuned\n",
    "the model with min-len, max-len, length penalty on the\n",
    "validation set (Fan et al., 2017)\n",
    "'''\n",
    "b0ch1sec1_text_enc = tokenizer.encode(\n",
    "    b0ch1sec1_text, return_tensors='pt').to('cuda')\n",
    "\n",
    "summ_enc = model.generate(\n",
    "    b0ch1sec1_text_enc,\n",
    "    min_length = SUMMARY_MIN_LEN,\n",
    "    max_length = SUMMARY_MAX_LEN,\n",
    "    num_beams = 5,\n",
    "    length_penalty = 1,\n",
    "    no_repeat_ngram_size = 3,\n",
    "    num_return_sequences = 1,\n",
    "    early_stopping = True)\n",
    "\n",
    "summ = [tokenizer.decode(\n",
    "    se, skip_special_tokens=True) for se in summ_enc]\n",
    "\n",
    "for i, s in enumerate(summ):\n",
    "    print(len(summ_enc[i]))\n",
    "    print(textwrap.fill(\n",
    "        s, 150))"
   ]
  },
  {
   "cell_type": "markdown",
   "metadata": {
    "id": "2a18teViuaoF"
   },
   "source": [
    "##### Modified phrase:\n",
    "\n",
    "... the use of exogenous DNA **(as in Table 2.1)**"
   ]
  },
  {
   "cell_type": "code",
   "execution_count": null,
   "metadata": {
    "colab": {
     "base_uri": "https://localhost:8080/"
    },
    "executionInfo": {
     "elapsed": 123031,
     "status": "ok",
     "timestamp": 1606814824797,
     "user": {
      "displayName": "Marco Pietro Abrate",
      "photoUrl": "https://lh3.googleusercontent.com/a-/AOh14Gjh-8YF-8BlnrkN9mLZ0xfVOWfOh7kYncpYRv-Y=s64",
      "userId": "15422244832836998434"
     },
     "user_tz": -60
    },
    "id": "8zflwgcDtQqJ",
    "outputId": "265c53b0-a8cf-4f85-c3c4-0d4a073b1fd0"
   },
   "outputs": [
    {
     "name": "stdout",
     "output_type": "stream",
     "text": [
      "Principles of gene therapy\n",
      "\n",
      "History of genetic therapy\n",
      "Genes, comprising varying lengths of DNA, form the basis of inheritance and biological identity. The transcription of a gene into messenger RNA (mRNA) and consequent translation of that mRNA into a protein results in a fine control of all biological processes that occur in an organism. Genetic effects may be the consequence of a single gene (monogenic effect), a small number of genes (oligogenic effects) or numerous genes (polygenic effects).\n",
      "A frequent corollary follows that any mutations in the genetic code may result in dysfunctional proteins, resulting in a disease state. For instance, many common diseases have been shown to have a genetic component, with complex modes of inheritance further influenced by multiple environmental and epigenetic factors; these encompass oligogenic disorders (such as polydactyly, syndactyly, galactosemia and trimethylaminuria) and polygenic disorders (such as hypertension, coronary heart disease and diabetes). Other genetic disorders such as chromosomal abnormalities and mitochondrial genetic disorders exist, but these are beyond the scope of this book.\n",
      "Monogenic mutations result in rare inherited diseases such as thalassemia, sickle cell anemia, hemophilia, cystic fibrosis, certain muscular dystrophies, Tay-Sachs disease, fragile X syndrome and Huntington's disease. Although 5000-8000 monogenic diseases have been classified so far, treatments for such diseases have been palliative, without addressing the root cause of the disease.\n",
      "\n",
      "Defining gene therapy.\n",
      "The elucidation of the molecular basis of inherited diseases, from the discovery of the structure of DNA in 1953 to the sequencing of the human genome in 2002, has perhaps heralded a new age of genetic medicine, wherein it is now possible for the modern investigator or clinician to target the underlying disease mechanism. Gene-based therapy involves: (1) the addition or modification and subsequent expression of a new gene to provide a specific additional function to a cell; (2) the inoculation of nucleic acids for vaccination against foreign antigens; or (3) the general transfer of nucleic acids to modify the function of an endogenous gene to effect a direct or indirect clinical benefit. This transfer of genetic information, which may be transient or permanent, produces gene products for intercellular, intracellular or systemic uses that may affect endogenous genes, compensate for pathogenic genes or augment defective genes. It must be noted, though, that a formal definition for gene therapy is yet to be accepted by an international consortium and definitions may vary according to national regulatory agencies.\n",
      "\n",
      "Early approaches.\n",
      "While the use of exogenous DNA (as in Table 2.1) to replace defective DNA was proposed as early as 1970 by Rogers and 1972 by Friedmann and Roblin, other notable achievements in the field include the development of plasmids as delivery tools for exogenous genes by Cohen and Boyer in 1972 and the construction and use of retroviruses as vectors to effect plasmid delivery to cells by Mulligan in 1984, with subsequent translation to clinics in the later 1980s. Early gene therapy trials, such as those performed by Cline in 1980, were conducted without the approval of ethics committees, and questions were raised regarding the efficacy of gene transfer.\n",
      "Pioneering immunotherapy experiments in 1990 by Rosenberg and Anderson, wherein an autologous infusion of tumor-infiltrating lymphocytes transduced by retroviruses to express interleukin-2 was shown to influence the regression of metastatic melanoma, demonstrated the safety and tolerability of gene therapy in living people. This was followed by a clinical trial for adenosine deaminase (ADA) deficiency-severe combined immunodeficiency (SCID), wherein a retrovirus-mediated transduction of isolated T cells to express ADA followed by infusion of modified T cells back into patients resulted in a recovery of T-cell count.\n",
      "Other approved clinical trials at the turn of the millennium included an additional trial for ADA-SCID utilizing hematopoietic stem cells as a vector to effect gene therapy by Bordignon in 1992 and a trial for glioblastoma using antisense RNA by Trojan in 1993. The administration of an adenovirus-mediated therapy for ornithine transcarbamylase deficiency led to the unfortunate death of a patient because of an immune response, resulting in the suspension of clinical trials pending reformulation and codification of procedural and ethical protocols in western countries.\n"
     ]
    }
   ],
   "source": [
    "b0ch1sec1_text = \\\n",
    "'''Principles of gene therapy\n",
    "\n",
    "History of genetic therapy\n",
    "Genes, comprising varying lengths of DNA, form the basis of inheritance and biological identity. The transcription of a gene into messenger RNA (mRNA) and consequent translation of that mRNA into a protein results in a fine control of all biological processes that occur in an organism. Genetic effects may be the consequence of a single gene (monogenic effect), a small number of genes (oligogenic effects) or numerous genes (polygenic effects).\n",
    "A frequent corollary follows that any mutations in the genetic code may result in dysfunctional proteins, resulting in a disease state. For instance, many common diseases have been shown to have a genetic component, with complex modes of inheritance further influenced by multiple environmental and epigenetic factors; these encompass oligogenic disorders (such as polydactyly, syndactyly, galactosemia and trimethylaminuria) and polygenic disorders (such as hypertension, coronary heart disease and diabetes). Other genetic disorders such as chromosomal abnormalities and mitochondrial genetic disorders exist, but these are beyond the scope of this book.\n",
    "Monogenic mutations result in rare inherited diseases such as thalassemia, sickle cell anemia, hemophilia, cystic fibrosis, certain muscular dystrophies, Tay-Sachs disease, fragile X syndrome and Huntington's disease. Although 5000-8000 monogenic diseases have been classified so far, treatments for such diseases have been palliative, without addressing the root cause of the disease.\n",
    "\n",
    "Defining gene therapy.\n",
    "The elucidation of the molecular basis of inherited diseases, from the discovery of the structure of DNA in 1953 to the sequencing of the human genome in 2002, has perhaps heralded a new age of genetic medicine, wherein it is now possible for the modern investigator or clinician to target the underlying disease mechanism. Gene-based therapy involves: (1) the addition or modification and subsequent expression of a new gene to provide a specific additional function to a cell; (2) the inoculation of nucleic acids for vaccination against foreign antigens; or (3) the general transfer of nucleic acids to modify the function of an endogenous gene to effect a direct or indirect clinical benefit. This transfer of genetic information, which may be transient or permanent, produces gene products for intercellular, intracellular or systemic uses that may affect endogenous genes, compensate for pathogenic genes or augment defective genes. It must be noted, though, that a formal definition for gene therapy is yet to be accepted by an international consortium and definitions may vary according to national regulatory agencies.\n",
    "\n",
    "Early approaches.\n",
    "While the use of exogenous DNA (as in Table 2.1) to replace defective DNA was proposed as early as 1970 by Rogers and 1972 by Friedmann and Roblin, other notable achievements in the field include the development of plasmids as delivery tools for exogenous genes by Cohen and Boyer in 1972 and the construction and use of retroviruses as vectors to effect plasmid delivery to cells by Mulligan in 1984, with subsequent translation to clinics in the later 1980s. Early gene therapy trials, such as those performed by Cline in 1980, were conducted without the approval of ethics committees, and questions were raised regarding the efficacy of gene transfer.\n",
    "Pioneering immunotherapy experiments in 1990 by Rosenberg and Anderson, wherein an autologous infusion of tumor-infiltrating lymphocytes transduced by retroviruses to express interleukin-2 was shown to influence the regression of metastatic melanoma, demonstrated the safety and tolerability of gene therapy in living people. This was followed by a clinical trial for adenosine deaminase (ADA) deficiency-severe combined immunodeficiency (SCID), wherein a retrovirus-mediated transduction of isolated T cells to express ADA followed by infusion of modified T cells back into patients resulted in a recovery of T-cell count.\n",
    "Other approved clinical trials at the turn of the millennium included an additional trial for ADA-SCID utilizing hematopoietic stem cells as a vector to effect gene therapy by Bordignon in 1992 and a trial for glioblastoma using antisense RNA by Trojan in 1993. The administration of an adenovirus-mediated therapy for ornithine transcarbamylase deficiency led to the unfortunate death of a patient because of an immune response, resulting in the suspension of clinical trials pending reformulation and codification of procedural and ethical protocols in western countries.'''\n",
    "\n",
    "print(b0ch1sec1_text)"
   ]
  },
  {
   "cell_type": "code",
   "execution_count": null,
   "metadata": {
    "colab": {
     "base_uri": "https://localhost:8080/"
    },
    "executionInfo": {
     "elapsed": 126228,
     "status": "ok",
     "timestamp": 1606814827997,
     "user": {
      "displayName": "Marco Pietro Abrate",
      "photoUrl": "https://lh3.googleusercontent.com/a-/AOh14Gjh-8YF-8BlnrkN9mLZ0xfVOWfOh7kYncpYRv-Y=s64",
      "userId": "15422244832836998434"
     },
     "user_tz": -60
    },
    "id": "yzTctZd_uoX9",
    "outputId": "7ea62fac-d717-4327-bf6b-c2c8ca7916f5"
   },
   "outputs": [
    {
     "name": "stdout",
     "output_type": "stream",
     "text": [
      "157\n",
      "Gene therapy involves the addition or modification and subsequent expression of a new gene to provide a specific additional function to a cell. This\n",
      "transfer of genetic information produces gene products for intercellular, intracellular or systemic uses that may affect endogenous genes, compensate\n",
      "for pathogenic genes or augment defective genes. A formal definition for gene therapy is yet to be accepted by an international consortium and\n",
      "definitions may vary according to national regulatory agencies. Early gene therapy trials, such as those performed by Cline in 1980, were conducted\n",
      "without the approval of ethics committees, and questions were raised regarding the efficacy of gene transfer. The use of exogenous DNA (as in Table\n",
      "2.1) to replace defective DNA was proposed as early as 1970 by Rogers and 1972 by Friedmann and Roblin.\n"
     ]
    }
   ],
   "source": [
    "'''\n",
    "During generation, we set beam size as 5,\n",
    "remove duplicated trigrams in beam search, and tuned\n",
    "the model with min-len, max-len, length penalty on the\n",
    "validation set (Fan et al., 2017)\n",
    "'''\n",
    "b0ch1sec1_text_enc = tokenizer.encode(\n",
    "    b0ch1sec1_text, return_tensors='pt').to('cuda')\n",
    "\n",
    "summ_enc = model.generate(\n",
    "    b0ch1sec1_text_enc,\n",
    "    min_length = SUMMARY_MIN_LEN,\n",
    "    max_length = SUMMARY_MAX_LEN,\n",
    "    num_beams = 5,\n",
    "    length_penalty = 1,\n",
    "    no_repeat_ngram_size = 3,\n",
    "    num_return_sequences = 1,\n",
    "    early_stopping = True)\n",
    "\n",
    "summ = [tokenizer.decode(\n",
    "    se, skip_special_tokens=True) for se in summ_enc]\n",
    "\n",
    "for i, s in enumerate(summ):\n",
    "    print(len(summ_enc[i]))\n",
    "    print(textwrap.fill(\n",
    "        s, 150))"
   ]
  },
  {
   "cell_type": "markdown",
   "metadata": {
    "id": "M148Jbr4zHcv"
   },
   "source": [
    "##### Modified phrase:\n",
    "\n",
    "... the addition **(Figure 1.1)** or modification **(Figure 1.2)** and subsequent expression of a new gene"
   ]
  },
  {
   "cell_type": "code",
   "execution_count": null,
   "metadata": {
    "colab": {
     "base_uri": "https://localhost:8080/"
    },
    "executionInfo": {
     "elapsed": 126229,
     "status": "ok",
     "timestamp": 1606814828001,
     "user": {
      "displayName": "Marco Pietro Abrate",
      "photoUrl": "https://lh3.googleusercontent.com/a-/AOh14Gjh-8YF-8BlnrkN9mLZ0xfVOWfOh7kYncpYRv-Y=s64",
      "userId": "15422244832836998434"
     },
     "user_tz": -60
    },
    "id": "qcQTfVe4zHcv",
    "outputId": "da52ebca-c7d8-4282-f5ee-8009514bd7c5"
   },
   "outputs": [
    {
     "name": "stdout",
     "output_type": "stream",
     "text": [
      "Principles of gene therapy\n",
      "\n",
      "History of genetic therapy\n",
      "Genes, comprising varying lengths of DNA, form the basis of inheritance and biological identity. The transcription of a gene into messenger RNA (mRNA) and consequent translation of that mRNA into a protein results in a fine control of all biological processes that occur in an organism. Genetic effects may be the consequence of a single gene (monogenic effect), a small number of genes (oligogenic effects) or numerous genes (polygenic effects).\n",
      "A frequent corollary follows that any mutations in the genetic code may result in dysfunctional proteins, resulting in a disease state. For instance, many common diseases have been shown to have a genetic component, with complex modes of inheritance further influenced by multiple environmental and epigenetic factors; these encompass oligogenic disorders (such as polydactyly, syndactyly, galactosemia and trimethylaminuria) and polygenic disorders (such as hypertension, coronary heart disease and diabetes). Other genetic disorders such as chromosomal abnormalities and mitochondrial genetic disorders exist, but these are beyond the scope of this book.\n",
      "Monogenic mutations result in rare inherited diseases such as thalassemia, sickle cell anemia, hemophilia, cystic fibrosis, certain muscular dystrophies, Tay-Sachs disease, fragile X syndrome and Huntington's disease. Although 5000-8000 monogenic diseases have been classified so far, treatments for such diseases have been palliative, without addressing the root cause of the disease.\n",
      "\n",
      "Defining gene therapy.\n",
      "The elucidation of the molecular basis of inherited diseases, from the discovery of the structure of DNA in 1953 to the sequencing of the human genome in 2002, has perhaps heralded a new age of genetic medicine, wherein it is now possible for the modern investigator or clinician to target the underlying disease mechanism. Gene-based therapy involves: (1) the addition (Figure 1.1) or modification (Figure 1.2) and subsequent expression of a new gene to provide a specific additional function to a cell; (2) the inoculation of nucleic acids for vaccination against foreign antigens; or (3) the general transfer of nucleic acids to modify the function of an endogenous gene to effect a direct or indirect clinical benefit. This transfer of genetic information, which may be transient or permanent, produces gene products for intercellular, intracellular or systemic uses that may affect endogenous genes, compensate for pathogenic genes or augment defective genes. It must be noted, though, that a formal definition for gene therapy is yet to be accepted by an international consortium and definitions may vary according to national regulatory agencies.\n",
      "\n",
      "Early approaches.\n",
      "While the use of exogenous DNA to replace defective DNA was proposed as early as 1970 by Rogers and 1972 by Friedmann and Roblin, other notable achievements in the field include the development of plasmids as delivery tools for exogenous genes by Cohen and Boyer in 1972 and the construction and use of retroviruses as vectors to effect plasmid delivery to cells by Mulligan in 1984, with subsequent translation to clinics in the later 1980s. Early gene therapy trials, such as those performed by Cline in 1980, were conducted without the approval of ethics committees, and questions were raised regarding the efficacy of gene transfer.\n",
      "Pioneering immunotherapy experiments in 1990 by Rosenberg and Anderson, wherein an autologous infusion of tumor-infiltrating lymphocytes transduced by retroviruses to express interleukin-2 was shown to influence the regression of metastatic melanoma, demonstrated the safety and tolerability of gene therapy in living people. This was followed by a clinical trial for adenosine deaminase (ADA) deficiency-severe combined immunodeficiency (SCID), wherein a retrovirus-mediated transduction of isolated T cells to express ADA followed by infusion of modified T cells back into patients resulted in a recovery of T-cell count.\n",
      "Other approved clinical trials at the turn of the millennium included an additional trial for ADA-SCID utilizing hematopoietic stem cells as a vector to effect gene therapy by Bordignon in 1992 and a trial for glioblastoma using antisense RNA by Trojan in 1993. The administration of an adenovirus-mediated therapy for ornithine transcarbamylase deficiency led to the unfortunate death of a patient because of an immune response, resulting in the suspension of clinical trials pending reformulation and codification of procedural and ethical protocols in western countries.\n"
     ]
    }
   ],
   "source": [
    "b0ch1sec1_text = \\\n",
    "'''Principles of gene therapy\n",
    "\n",
    "History of genetic therapy\n",
    "Genes, comprising varying lengths of DNA, form the basis of inheritance and biological identity. The transcription of a gene into messenger RNA (mRNA) and consequent translation of that mRNA into a protein results in a fine control of all biological processes that occur in an organism. Genetic effects may be the consequence of a single gene (monogenic effect), a small number of genes (oligogenic effects) or numerous genes (polygenic effects).\n",
    "A frequent corollary follows that any mutations in the genetic code may result in dysfunctional proteins, resulting in a disease state. For instance, many common diseases have been shown to have a genetic component, with complex modes of inheritance further influenced by multiple environmental and epigenetic factors; these encompass oligogenic disorders (such as polydactyly, syndactyly, galactosemia and trimethylaminuria) and polygenic disorders (such as hypertension, coronary heart disease and diabetes). Other genetic disorders such as chromosomal abnormalities and mitochondrial genetic disorders exist, but these are beyond the scope of this book.\n",
    "Monogenic mutations result in rare inherited diseases such as thalassemia, sickle cell anemia, hemophilia, cystic fibrosis, certain muscular dystrophies, Tay-Sachs disease, fragile X syndrome and Huntington's disease. Although 5000-8000 monogenic diseases have been classified so far, treatments for such diseases have been palliative, without addressing the root cause of the disease.\n",
    "\n",
    "Defining gene therapy.\n",
    "The elucidation of the molecular basis of inherited diseases, from the discovery of the structure of DNA in 1953 to the sequencing of the human genome in 2002, has perhaps heralded a new age of genetic medicine, wherein it is now possible for the modern investigator or clinician to target the underlying disease mechanism. Gene-based therapy involves: (1) the addition (Figure 1.1) or modification (Figure 1.2) and subsequent expression of a new gene to provide a specific additional function to a cell; (2) the inoculation of nucleic acids for vaccination against foreign antigens; or (3) the general transfer of nucleic acids to modify the function of an endogenous gene to effect a direct or indirect clinical benefit. This transfer of genetic information, which may be transient or permanent, produces gene products for intercellular, intracellular or systemic uses that may affect endogenous genes, compensate for pathogenic genes or augment defective genes. It must be noted, though, that a formal definition for gene therapy is yet to be accepted by an international consortium and definitions may vary according to national regulatory agencies.\n",
    "\n",
    "Early approaches.\n",
    "While the use of exogenous DNA to replace defective DNA was proposed as early as 1970 by Rogers and 1972 by Friedmann and Roblin, other notable achievements in the field include the development of plasmids as delivery tools for exogenous genes by Cohen and Boyer in 1972 and the construction and use of retroviruses as vectors to effect plasmid delivery to cells by Mulligan in 1984, with subsequent translation to clinics in the later 1980s. Early gene therapy trials, such as those performed by Cline in 1980, were conducted without the approval of ethics committees, and questions were raised regarding the efficacy of gene transfer.\n",
    "Pioneering immunotherapy experiments in 1990 by Rosenberg and Anderson, wherein an autologous infusion of tumor-infiltrating lymphocytes transduced by retroviruses to express interleukin-2 was shown to influence the regression of metastatic melanoma, demonstrated the safety and tolerability of gene therapy in living people. This was followed by a clinical trial for adenosine deaminase (ADA) deficiency-severe combined immunodeficiency (SCID), wherein a retrovirus-mediated transduction of isolated T cells to express ADA followed by infusion of modified T cells back into patients resulted in a recovery of T-cell count.\n",
    "Other approved clinical trials at the turn of the millennium included an additional trial for ADA-SCID utilizing hematopoietic stem cells as a vector to effect gene therapy by Bordignon in 1992 and a trial for glioblastoma using antisense RNA by Trojan in 1993. The administration of an adenovirus-mediated therapy for ornithine transcarbamylase deficiency led to the unfortunate death of a patient because of an immune response, resulting in the suspension of clinical trials pending reformulation and codification of procedural and ethical protocols in western countries.'''\n",
    "\n",
    "print(b0ch1sec1_text)"
   ]
  },
  {
   "cell_type": "code",
   "execution_count": null,
   "metadata": {
    "colab": {
     "base_uri": "https://localhost:8080/"
    },
    "executionInfo": {
     "elapsed": 129286,
     "status": "ok",
     "timestamp": 1606814831061,
     "user": {
      "displayName": "Marco Pietro Abrate",
      "photoUrl": "https://lh3.googleusercontent.com/a-/AOh14Gjh-8YF-8BlnrkN9mLZ0xfVOWfOh7kYncpYRv-Y=s64",
      "userId": "15422244832836998434"
     },
     "user_tz": -60
    },
    "id": "yRNlPRxszHcw",
    "outputId": "56dc40b1-a6a8-4a7c-f093-454d2eb34126"
   },
   "outputs": [
    {
     "name": "stdout",
     "output_type": "stream",
     "text": [
      "158\n",
      "Gene therapy involves the addition (Figure 1.1) or modification of a gene to provide a specific additional function to a cell. This transfer of\n",
      "genetic information produces gene products for intercellular, intracellular or systemic uses. It must be noted that a formal definition for gene\n",
      "therapy is yet to be accepted by an international consortium and definitions may vary according to national regulatory agencies. Early gene therapy\n",
      "trials, such as those performed by Cline in 1980, were conducted without the approval of ethics committees. The use of exogenous DNA to replace\n",
      "defective DNA was proposed as early as 1970 by Rogers and 1972 by Friedmann and Roblin. Other notable achievements in the field include the\n",
      "development of plasmids as delivery tools for exogenous genes by Cohen and Boyer in 1972.\n"
     ]
    }
   ],
   "source": [
    "'''\n",
    "During generation, we set beam size as 5,\n",
    "remove duplicated trigrams in beam search, and tuned\n",
    "the model with min-len, max-len, length penalty on the\n",
    "validation set (Fan et al., 2017)\n",
    "'''\n",
    "b0ch1sec1_text_enc = tokenizer.encode(\n",
    "    b0ch1sec1_text, return_tensors='pt').to('cuda')\n",
    "\n",
    "summ_enc = model.generate(\n",
    "    b0ch1sec1_text_enc,\n",
    "    min_length = SUMMARY_MIN_LEN,\n",
    "    max_length = SUMMARY_MAX_LEN,\n",
    "    num_beams = 5,\n",
    "    length_penalty = 1,\n",
    "    no_repeat_ngram_size = 3,\n",
    "    num_return_sequences = 1,\n",
    "    early_stopping = True)\n",
    "\n",
    "summ = [tokenizer.decode(\n",
    "    se, skip_special_tokens=True) for se in summ_enc]\n",
    "\n",
    "for i, s in enumerate(summ):\n",
    "    print(len(summ_enc[i]))\n",
    "    print(textwrap.fill(\n",
    "        s, 150))"
   ]
  },
  {
   "cell_type": "markdown",
   "metadata": {
    "id": "GgvWUGeq17fH"
   },
   "source": [
    "##### Modified phrase:\n",
    "\n",
    "... **A formal definition for gene therapy has already been accepted by an international consortium.** It must be noted, though, that a formal definition for gene therapy is yet to be accepted by an international consortium and definitions may vary according to national regulatory agencies."
   ]
  },
  {
   "cell_type": "code",
   "execution_count": null,
   "metadata": {
    "colab": {
     "base_uri": "https://localhost:8080/"
    },
    "executionInfo": {
     "elapsed": 129287,
     "status": "ok",
     "timestamp": 1606814831065,
     "user": {
      "displayName": "Marco Pietro Abrate",
      "photoUrl": "https://lh3.googleusercontent.com/a-/AOh14Gjh-8YF-8BlnrkN9mLZ0xfVOWfOh7kYncpYRv-Y=s64",
      "userId": "15422244832836998434"
     },
     "user_tz": -60
    },
    "id": "YjIFo-5b17fI",
    "outputId": "e44a537f-4c35-42b6-d784-69176cd7c5a4"
   },
   "outputs": [
    {
     "name": "stdout",
     "output_type": "stream",
     "text": [
      "Principles of gene therapy\n",
      "\n",
      "History of genetic therapy\n",
      "Genes, comprising varying lengths of DNA, form the basis of inheritance and biological identity. The transcription of a gene into messenger RNA (mRNA) and consequent translation of that mRNA into a protein results in a fine control of all biological processes that occur in an organism. Genetic effects may be the consequence of a single gene (monogenic effect), a small number of genes (oligogenic effects) or numerous genes (polygenic effects).\n",
      "A frequent corollary follows that any mutations in the genetic code may result in dysfunctional proteins, resulting in a disease state. For instance, many common diseases have been shown to have a genetic component, with complex modes of inheritance further influenced by multiple environmental and epigenetic factors; these encompass oligogenic disorders (such as polydactyly, syndactyly, galactosemia and trimethylaminuria) and polygenic disorders (such as hypertension, coronary heart disease and diabetes). Other genetic disorders such as chromosomal abnormalities and mitochondrial genetic disorders exist, but these are beyond the scope of this book.\n",
      "Monogenic mutations result in rare inherited diseases such as thalassemia, sickle cell anemia, hemophilia, cystic fibrosis, certain muscular dystrophies, Tay-Sachs disease, fragile X syndrome and Huntington's disease. Although 5000-8000 monogenic diseases have been classified so far, treatments for such diseases have been palliative, without addressing the root cause of the disease.\n",
      "\n",
      "Defining gene therapy.\n",
      "The elucidation of the molecular basis of inherited diseases, from the discovery of the structure of DNA in 1953 to the sequencing of the human genome in 2002, has perhaps heralded a new age of genetic medicine, wherein it is now possible for the modern investigator or clinician to target the underlying disease mechanism. Gene-based therapy involves: (1) the addition or modification and subsequent expression of a new gene to provide a specific additional function to a cell; (2) the inoculation of nucleic acids for vaccination against foreign antigens; or (3) the general transfer of nucleic acids to modify the function of an endogenous gene to effect a direct or indirect clinical benefit. This transfer of genetic information, which may be transient or permanent, produces gene products for intercellular, intracellular or systemic uses that may affect endogenous genes, compensate for pathogenic genes or augment defective genes. A formal definition for gene therapy has already been accepted by an international consortium. It must be noted, though, that a formal definition for gene therapy is yet to be accepted by an international consortium and definitions may vary according to national regulatory agencies.\n",
      "\n",
      "Early approaches.\n",
      "While the use of exogenous DNA to replace defective DNA was proposed as early as 1970 by Rogers and 1972 by Friedmann and Roblin, other notable achievements in the field include the development of plasmids as delivery tools for exogenous genes by Cohen and Boyer in 1972 and the construction and use of retroviruses as vectors to effect plasmid delivery to cells by Mulligan in 1984, with subsequent translation to clinics in the later 1980s. Early gene therapy trials, such as those performed by Cline in 1980, were conducted without the approval of ethics committees, and questions were raised regarding the efficacy of gene transfer.\n",
      "Pioneering immunotherapy experiments in 1990 by Rosenberg and Anderson, wherein an autologous infusion of tumor-infiltrating lymphocytes transduced by retroviruses to express interleukin-2 was shown to influence the regression of metastatic melanoma, demonstrated the safety and tolerability of gene therapy in living people. This was followed by a clinical trial for adenosine deaminase (ADA) deficiency-severe combined immunodeficiency (SCID), wherein a retrovirus-mediated transduction of isolated T cells to express ADA followed by infusion of modified T cells back into patients resulted in a recovery of T-cell count.\n",
      "Other approved clinical trials at the turn of the millennium included an additional trial for ADA-SCID utilizing hematopoietic stem cells as a vector to effect gene therapy by Bordignon in 1992 and a trial for glioblastoma using antisense RNA by Trojan in 1993. The administration of an adenovirus-mediated therapy for ornithine transcarbamylase deficiency led to the unfortunate death of a patient because of an immune response, resulting in the suspension of clinical trials pending reformulation and codification of procedural and ethical protocols in western countries.\n"
     ]
    }
   ],
   "source": [
    "b0ch1sec1_text = \\\n",
    "'''Principles of gene therapy\n",
    "\n",
    "History of genetic therapy\n",
    "Genes, comprising varying lengths of DNA, form the basis of inheritance and biological identity. The transcription of a gene into messenger RNA (mRNA) and consequent translation of that mRNA into a protein results in a fine control of all biological processes that occur in an organism. Genetic effects may be the consequence of a single gene (monogenic effect), a small number of genes (oligogenic effects) or numerous genes (polygenic effects).\n",
    "A frequent corollary follows that any mutations in the genetic code may result in dysfunctional proteins, resulting in a disease state. For instance, many common diseases have been shown to have a genetic component, with complex modes of inheritance further influenced by multiple environmental and epigenetic factors; these encompass oligogenic disorders (such as polydactyly, syndactyly, galactosemia and trimethylaminuria) and polygenic disorders (such as hypertension, coronary heart disease and diabetes). Other genetic disorders such as chromosomal abnormalities and mitochondrial genetic disorders exist, but these are beyond the scope of this book.\n",
    "Monogenic mutations result in rare inherited diseases such as thalassemia, sickle cell anemia, hemophilia, cystic fibrosis, certain muscular dystrophies, Tay-Sachs disease, fragile X syndrome and Huntington's disease. Although 5000-8000 monogenic diseases have been classified so far, treatments for such diseases have been palliative, without addressing the root cause of the disease.\n",
    "\n",
    "Defining gene therapy.\n",
    "The elucidation of the molecular basis of inherited diseases, from the discovery of the structure of DNA in 1953 to the sequencing of the human genome in 2002, has perhaps heralded a new age of genetic medicine, wherein it is now possible for the modern investigator or clinician to target the underlying disease mechanism. Gene-based therapy involves: (1) the addition or modification and subsequent expression of a new gene to provide a specific additional function to a cell; (2) the inoculation of nucleic acids for vaccination against foreign antigens; or (3) the general transfer of nucleic acids to modify the function of an endogenous gene to effect a direct or indirect clinical benefit. This transfer of genetic information, which may be transient or permanent, produces gene products for intercellular, intracellular or systemic uses that may affect endogenous genes, compensate for pathogenic genes or augment defective genes. A formal definition for gene therapy has already been accepted by an international consortium. It must be noted, though, that a formal definition for gene therapy is yet to be accepted by an international consortium and definitions may vary according to national regulatory agencies.\n",
    "\n",
    "Early approaches.\n",
    "While the use of exogenous DNA to replace defective DNA was proposed as early as 1970 by Rogers and 1972 by Friedmann and Roblin, other notable achievements in the field include the development of plasmids as delivery tools for exogenous genes by Cohen and Boyer in 1972 and the construction and use of retroviruses as vectors to effect plasmid delivery to cells by Mulligan in 1984, with subsequent translation to clinics in the later 1980s. Early gene therapy trials, such as those performed by Cline in 1980, were conducted without the approval of ethics committees, and questions were raised regarding the efficacy of gene transfer.\n",
    "Pioneering immunotherapy experiments in 1990 by Rosenberg and Anderson, wherein an autologous infusion of tumor-infiltrating lymphocytes transduced by retroviruses to express interleukin-2 was shown to influence the regression of metastatic melanoma, demonstrated the safety and tolerability of gene therapy in living people. This was followed by a clinical trial for adenosine deaminase (ADA) deficiency-severe combined immunodeficiency (SCID), wherein a retrovirus-mediated transduction of isolated T cells to express ADA followed by infusion of modified T cells back into patients resulted in a recovery of T-cell count.\n",
    "Other approved clinical trials at the turn of the millennium included an additional trial for ADA-SCID utilizing hematopoietic stem cells as a vector to effect gene therapy by Bordignon in 1992 and a trial for glioblastoma using antisense RNA by Trojan in 1993. The administration of an adenovirus-mediated therapy for ornithine transcarbamylase deficiency led to the unfortunate death of a patient because of an immune response, resulting in the suspension of clinical trials pending reformulation and codification of procedural and ethical protocols in western countries.'''\n",
    "\n",
    "print(b0ch1sec1_text)"
   ]
  },
  {
   "cell_type": "code",
   "execution_count": null,
   "metadata": {
    "colab": {
     "base_uri": "https://localhost:8080/"
    },
    "executionInfo": {
     "elapsed": 132332,
     "status": "ok",
     "timestamp": 1606814834113,
     "user": {
      "displayName": "Marco Pietro Abrate",
      "photoUrl": "https://lh3.googleusercontent.com/a-/AOh14Gjh-8YF-8BlnrkN9mLZ0xfVOWfOh7kYncpYRv-Y=s64",
      "userId": "15422244832836998434"
     },
     "user_tz": -60
    },
    "id": "ptRThQ7717fJ",
    "outputId": "1eecf7c5-a17d-454f-d011-f9d8f793e9e4"
   },
   "outputs": [
    {
     "name": "stdout",
     "output_type": "stream",
     "text": [
      "156\n",
      "Gene therapy involves the addition or modification and subsequent expression of a new gene to provide a specific additional function to a cell. A\n",
      "formal definition for gene therapy has already been accepted by an international consortium. Early gene therapy trials, such as those performed by\n",
      "Cline in 1980, were conducted without the approval of ethics committees. The use of exogenous DNA to replace defective DNA was proposed as early as\n",
      "1970 by Rogers and 1972 by Friedmann and Roblin. Other notable achievements in the field include the development of plasmids as delivery tools for\n",
      "exogenous genes by Cohen and Boyer in 1972 and the construction and use of retroviruses as vectors to effect plasmid delivery to cells by Mulligan in\n",
      "1984, with subsequent translation to clinics in the later 1980s.\n"
     ]
    }
   ],
   "source": [
    "'''\n",
    "During generation, we set beam size as 5,\n",
    "remove duplicated trigrams in beam search, and tuned\n",
    "the model with min-len, max-len, length penalty on the\n",
    "validation set (Fan et al., 2017)\n",
    "'''\n",
    "b0ch1sec1_text_enc = tokenizer.encode(\n",
    "    b0ch1sec1_text, return_tensors='pt').to('cuda')\n",
    "\n",
    "summ_enc = model.generate(\n",
    "    b0ch1sec1_text_enc,\n",
    "    min_length = SUMMARY_MIN_LEN,\n",
    "    max_length = SUMMARY_MAX_LEN,\n",
    "    num_beams = 5,\n",
    "    length_penalty = 1,\n",
    "    no_repeat_ngram_size = 3,\n",
    "    num_return_sequences = 1,\n",
    "    early_stopping = True)\n",
    "\n",
    "summ = [tokenizer.decode(\n",
    "    se, skip_special_tokens=True) for se in summ_enc]\n",
    "\n",
    "for i, s in enumerate(summ):\n",
    "    print(len(summ_enc[i]))\n",
    "    print(textwrap.fill(\n",
    "        s, 150))"
   ]
  },
  {
   "cell_type": "markdown",
   "metadata": {
    "id": "ztKXymadlDvi"
   },
   "source": [
    "#### Min / Max Length grid search"
   ]
  },
  {
   "cell_type": "code",
   "execution_count": null,
   "metadata": {
    "colab": {
     "base_uri": "https://localhost:8080/"
    },
    "executionInfo": {
     "elapsed": 215788,
     "status": "ok",
     "timestamp": 1606814917573,
     "user": {
      "displayName": "Marco Pietro Abrate",
      "photoUrl": "https://lh3.googleusercontent.com/a-/AOh14Gjh-8YF-8BlnrkN9mLZ0xfVOWfOh7kYncpYRv-Y=s64",
      "userId": "15422244832836998434"
     },
     "user_tz": -60
    },
    "id": "whE-dom7lDvl",
    "outputId": "a0dcd65e-7bd1-4b2c-a9c6-561e3dfb76d4"
   },
   "outputs": [
    {
     "name": "stdout",
     "output_type": "stream",
     "text": [
      "min_length =  93 ratio 0.1\n",
      "max_length =  223 ratio 0.24000000000000002\n",
      "summary length =  101\n",
      "elapsed time 2.10 s\n",
      "Gene therapy involves the addition or modification and subsequent expression of a new gene to provide a specific additional function to a cell. This\n",
      "transfer of genetic information produces gene products for intercellular, intracellular or systemic uses that may affect endogenous genes, compensate\n",
      "for pathogenic genes or augment defective genes. A formal definition for gene therapy has already been accepted by an international consortium. Early\n",
      "gene therapy trials, such as those performed by Cline in 1980, were conducted without the approval of ethics committees.\n",
      "\n",
      "min_length =  93 ratio 0.1\n",
      "max_length =  354 ratio 0.38\n",
      "summary length =  101\n",
      "elapsed time 2.11 s\n",
      "Gene therapy involves the addition or modification and subsequent expression of a new gene to provide a specific additional function to a cell. This\n",
      "transfer of genetic information produces gene products for intercellular, intracellular or systemic uses that may affect endogenous genes, compensate\n",
      "for pathogenic genes or augment defective genes. A formal definition for gene therapy has already been accepted by an international consortium. Early\n",
      "gene therapy trials, such as those performed by Cline in 1980, were conducted without the approval of ethics committees.\n",
      "\n",
      "min_length =  93 ratio 0.1\n",
      "max_length =  484 ratio 0.52\n",
      "summary length =  101\n",
      "elapsed time 2.09 s\n",
      "Gene therapy involves the addition or modification and subsequent expression of a new gene to provide a specific additional function to a cell. This\n",
      "transfer of genetic information produces gene products for intercellular, intracellular or systemic uses that may affect endogenous genes, compensate\n",
      "for pathogenic genes or augment defective genes. A formal definition for gene therapy has already been accepted by an international consortium. Early\n",
      "gene therapy trials, such as those performed by Cline in 1980, were conducted without the approval of ethics committees.\n",
      "\n",
      "min_length =  93 ratio 0.1\n",
      "max_length =  615 ratio 0.66\n",
      "summary length =  101\n",
      "elapsed time 2.12 s\n",
      "Gene therapy involves the addition or modification and subsequent expression of a new gene to provide a specific additional function to a cell. This\n",
      "transfer of genetic information produces gene products for intercellular, intracellular or systemic uses that may affect endogenous genes, compensate\n",
      "for pathogenic genes or augment defective genes. A formal definition for gene therapy has already been accepted by an international consortium. Early\n",
      "gene therapy trials, such as those performed by Cline in 1980, were conducted without the approval of ethics committees.\n",
      "\n",
      "min_length =  93 ratio 0.1\n",
      "max_length =  745 ratio 0.8\n",
      "summary length =  101\n",
      "elapsed time 2.11 s\n",
      "Gene therapy involves the addition or modification and subsequent expression of a new gene to provide a specific additional function to a cell. This\n",
      "transfer of genetic information produces gene products for intercellular, intracellular or systemic uses that may affect endogenous genes, compensate\n",
      "for pathogenic genes or augment defective genes. A formal definition for gene therapy has already been accepted by an international consortium. Early\n",
      "gene therapy trials, such as those performed by Cline in 1980, were conducted without the approval of ethics committees.\n",
      "\n",
      "min_length =  223 ratio 0.24000000000000002\n",
      "max_length =  354 ratio 0.38\n",
      "summary length =  263\n",
      "elapsed time 4.95 s\n",
      "Gene therapy involves the addition or modification and subsequent expression of a new gene to provide a specific additional function to a cell. A\n",
      "formal definition for gene therapy has already been accepted by an international consortium. Early gene therapy trials, such as those performed by\n",
      "Cline in 1980, were conducted without the approval of ethics committees. The use of exogenous DNA to replace defective DNA was proposed as early as\n",
      "1970 by Rogers and 1972 by Friedmann and Roblin. Other notable achievements in the field include the development of plasmids as delivery tools for\n",
      "exogenous genes by Cohen and Boyer in 1972 and the construction and use of retroviruses as vectors to effect plasmid delivery to cells by Mulligan in\n",
      "1984. The administration of an antisense RNA-mediated transduction therapy by Bordignon in 1992 and 1993 led to the unfortunate death of a patient\n",
      "because of an immune response, resulting in the suspension of clinical trials pending reformulation of procedural and ethical protocols in western\n",
      "countries. This was followed by a clinical trial for adenosine deaminase (ADA) deficiency-severe combined immunodeficiency (SCID), wherein a\n",
      "retrovirus- mediated transduction of isolated T cells to express ADA followed by infusion of modified T cells back into patients resulted in a\n",
      "recovery of T-cell count.\n",
      "\n",
      "min_length =  223 ratio 0.24000000000000002\n",
      "max_length =  484 ratio 0.52\n",
      "summary length =  263\n",
      "elapsed time 4.89 s\n",
      "Gene therapy involves the addition or modification and subsequent expression of a new gene to provide a specific additional function to a cell. A\n",
      "formal definition for gene therapy has already been accepted by an international consortium. Early gene therapy trials, such as those performed by\n",
      "Cline in 1980, were conducted without the approval of ethics committees. The use of exogenous DNA to replace defective DNA was proposed as early as\n",
      "1970 by Rogers and 1972 by Friedmann and Roblin. Other notable achievements in the field include the development of plasmids as delivery tools for\n",
      "exogenous genes by Cohen and Boyer in 1972 and the construction and use of retroviruses as vectors to effect plasmid delivery to cells by Mulligan in\n",
      "1984. The administration of an antisense RNA-mediated transduction therapy by Bordignon in 1992 and 1993 led to the unfortunate death of a patient\n",
      "because of an immune response, resulting in the suspension of clinical trials pending reformulation of procedural and ethical protocols in western\n",
      "countries. This was followed by a clinical trial for adenosine deaminase (ADA) deficiency-severe combined immunodeficiency (SCID), wherein a\n",
      "retrovirus- mediated transduction of isolated T cells to express ADA followed by infusion of modified T cells back into patients resulted in a\n",
      "recovery of T-cell count.\n",
      "\n",
      "min_length =  223 ratio 0.24000000000000002\n",
      "max_length =  615 ratio 0.66\n",
      "summary length =  263\n",
      "elapsed time 4.94 s\n",
      "Gene therapy involves the addition or modification and subsequent expression of a new gene to provide a specific additional function to a cell. A\n",
      "formal definition for gene therapy has already been accepted by an international consortium. Early gene therapy trials, such as those performed by\n",
      "Cline in 1980, were conducted without the approval of ethics committees. The use of exogenous DNA to replace defective DNA was proposed as early as\n",
      "1970 by Rogers and 1972 by Friedmann and Roblin. Other notable achievements in the field include the development of plasmids as delivery tools for\n",
      "exogenous genes by Cohen and Boyer in 1972 and the construction and use of retroviruses as vectors to effect plasmid delivery to cells by Mulligan in\n",
      "1984. The administration of an antisense RNA-mediated transduction therapy by Bordignon in 1992 and 1993 led to the unfortunate death of a patient\n",
      "because of an immune response, resulting in the suspension of clinical trials pending reformulation of procedural and ethical protocols in western\n",
      "countries. This was followed by a clinical trial for adenosine deaminase (ADA) deficiency-severe combined immunodeficiency (SCID), wherein a\n",
      "retrovirus- mediated transduction of isolated T cells to express ADA followed by infusion of modified T cells back into patients resulted in a\n",
      "recovery of T-cell count.\n",
      "\n",
      "min_length =  223 ratio 0.24000000000000002\n",
      "max_length =  745 ratio 0.8\n",
      "summary length =  263\n",
      "elapsed time 4.95 s\n",
      "Gene therapy involves the addition or modification and subsequent expression of a new gene to provide a specific additional function to a cell. A\n",
      "formal definition for gene therapy has already been accepted by an international consortium. Early gene therapy trials, such as those performed by\n",
      "Cline in 1980, were conducted without the approval of ethics committees. The use of exogenous DNA to replace defective DNA was proposed as early as\n",
      "1970 by Rogers and 1972 by Friedmann and Roblin. Other notable achievements in the field include the development of plasmids as delivery tools for\n",
      "exogenous genes by Cohen and Boyer in 1972 and the construction and use of retroviruses as vectors to effect plasmid delivery to cells by Mulligan in\n",
      "1984. The administration of an antisense RNA-mediated transduction therapy by Bordignon in 1992 and 1993 led to the unfortunate death of a patient\n",
      "because of an immune response, resulting in the suspension of clinical trials pending reformulation of procedural and ethical protocols in western\n",
      "countries. This was followed by a clinical trial for adenosine deaminase (ADA) deficiency-severe combined immunodeficiency (SCID), wherein a\n",
      "retrovirus- mediated transduction of isolated T cells to express ADA followed by infusion of modified T cells back into patients resulted in a\n",
      "recovery of T-cell count.\n",
      "\n",
      "min_length =  354 ratio 0.38\n",
      "max_length =  484 ratio 0.52\n",
      "summary length =  357\n",
      "elapsed time 7.52 s\n",
      "Gene therapy involves the addition or modification and subsequent expression of a new gene to provide a specific additional function to a cell. A\n",
      "formal definition for gene therapy has already been accepted by an international consortium. Early gene therapy trials, such as those performed by\n",
      "Cline in 1980, were conducted without the approval of ethics committees. The use of exogenous DNA to replace defective DNA was proposed as early as\n",
      "1970 by Rogers and 1972 by Friedmann and Roblin. Other notable achievements in the field include the development of plasmids as delivery tools for\n",
      "exogenous genes by Cohen and Boyer in 1972 and the construction and use of retroviruses as vectors to effect plasmid delivery to cells by Mulligan in\n",
      "1984. The administration of an antisense RNA-mediated transduction therapy by Bordignon in 1992 and 1993 led to the unfortunate death of a patient\n",
      "because of an immune response, resulting in the suspension of clinical trials pending reformulation of procedural and ethical protocols in western\n",
      "countries. This was followed by a clinical trial for adenosine deaminase (ADA) deficiency-severe combined immunodeficiency (SCID), wherein a\n",
      "retrovirus- mediated transduction of isolated T cells to express ADA followed by infusion of modified T cells back into patients resulted in a\n",
      "recovery of T-cell count. The transfer of genetic information, which may be transient or permanent, produces gene products for intercellular,\n",
      "intracellular or systemic uses that may affect endogenous genes, compensate for pathogenic genes or augment defective genes. It must be noted, though,\n",
      "that a formal definition of gene therapy is yet to be accepted byAn international consortium and definitions may vary according to national regulatory\n",
      "agencies. It is now possible for the modern investigator or clinician to target the underlying disease mechanism.\n",
      "\n",
      "min_length =  354 ratio 0.38\n",
      "max_length =  615 ratio 0.66\n",
      "summary length =  357\n",
      "elapsed time 7.10 s\n",
      "Gene therapy involves the addition or modification and subsequent expression of a new gene to provide a specific additional function to a cell. A\n",
      "formal definition for gene therapy has already been accepted by an international consortium. Early gene therapy trials, such as those performed by\n",
      "Cline in 1980, were conducted without the approval of ethics committees. The use of exogenous DNA to replace defective DNA was proposed as early as\n",
      "1970 by Rogers and 1972 by Friedmann and Roblin. Other notable achievements in the field include the development of plasmids as delivery tools for\n",
      "exogenous genes by Cohen and Boyer in 1972 and the construction and use of retroviruses as vectors to effect plasmid delivery to cells by Mulligan in\n",
      "1984. The administration of an antisense RNA-mediated transduction therapy by Bordignon in 1992 and 1993 led to the unfortunate death of a patient\n",
      "because of an immune response, resulting in the suspension of clinical trials pending reformulation of procedural and ethical protocols in western\n",
      "countries. This was followed by a clinical trial for adenosine deaminase (ADA) deficiency-severe combined immunodeficiency (SCID), wherein a\n",
      "retrovirus- mediated transduction of isolated T cells to express ADA followed by infusion of modified T cells back into patients resulted in a\n",
      "recovery of T-cell count. The transfer of genetic information, which may be transient or permanent, produces gene products for intercellular,\n",
      "intracellular or systemic uses that may affect endogenous genes, compensate for pathogenic genes or augment defective genes. It must be noted, though,\n",
      "that a formal definition of gene therapy is yet to be accepted byAn international consortium and definitions may vary according to national regulatory\n",
      "agencies. It is now possible for the modern investigator or clinician to target the underlying disease mechanism.\n",
      "\n",
      "min_length =  354 ratio 0.38\n",
      "max_length =  745 ratio 0.8\n",
      "summary length =  357\n",
      "elapsed time 7.06 s\n",
      "Gene therapy involves the addition or modification and subsequent expression of a new gene to provide a specific additional function to a cell. A\n",
      "formal definition for gene therapy has already been accepted by an international consortium. Early gene therapy trials, such as those performed by\n",
      "Cline in 1980, were conducted without the approval of ethics committees. The use of exogenous DNA to replace defective DNA was proposed as early as\n",
      "1970 by Rogers and 1972 by Friedmann and Roblin. Other notable achievements in the field include the development of plasmids as delivery tools for\n",
      "exogenous genes by Cohen and Boyer in 1972 and the construction and use of retroviruses as vectors to effect plasmid delivery to cells by Mulligan in\n",
      "1984. The administration of an antisense RNA-mediated transduction therapy by Bordignon in 1992 and 1993 led to the unfortunate death of a patient\n",
      "because of an immune response, resulting in the suspension of clinical trials pending reformulation of procedural and ethical protocols in western\n",
      "countries. This was followed by a clinical trial for adenosine deaminase (ADA) deficiency-severe combined immunodeficiency (SCID), wherein a\n",
      "retrovirus- mediated transduction of isolated T cells to express ADA followed by infusion of modified T cells back into patients resulted in a\n",
      "recovery of T-cell count. The transfer of genetic information, which may be transient or permanent, produces gene products for intercellular,\n",
      "intracellular or systemic uses that may affect endogenous genes, compensate for pathogenic genes or augment defective genes. It must be noted, though,\n",
      "that a formal definition of gene therapy is yet to be accepted byAn international consortium and definitions may vary according to national regulatory\n",
      "agencies. It is now possible for the modern investigator or clinician to target the underlying disease mechanism.\n",
      "\n",
      "min_length =  484 ratio 0.52\n",
      "max_length =  615 ratio 0.66\n",
      "summary length =  486\n",
      "elapsed time 9.44 s\n",
      "Gene therapy involves the addition or modification and subsequent expression of a new gene to provide a specific additional function to a cell. A\n",
      "formal definition for gene therapy has already been accepted by an international consortium. Early gene therapy trials, such as those performed by\n",
      "Cline in 1980, were conducted without the approval of ethics committees. The use of exogenous DNA to replace defective DNA was proposed as early as\n",
      "1970 by Rogers and 1972 by Friedmann and Roblin. Other notable achievements in the field include the development of plasmids as delivery tools for\n",
      "exogenous genes by Cohen and Boyer in 1972 and the construction and use of retroviruses as vectors to effect plasmid delivery to cells by Mulligan in\n",
      "1984. The administration of an antisense RNA-mediated transduction therapy by Bordignon in 1992 and 1993 led to the unfortunate death of a patient\n",
      "because of an immune response, resulting in the suspension of clinical trials pending reformulation of procedural and ethical protocols in western\n",
      "countries. This was followed by a clinical trial for adenosine deaminase (ADA) deficiency-severe combined immunodeficiency (SCID), wherein a\n",
      "retrovirus- mediated transduction of isolated T cells to express ADA followed by infusion of modified T cells back into patients resulted in a\n",
      "recovery of T-cell count. The transfer of genetic information, which may be transient or permanent, produces gene products for intercellular,\n",
      "intracellular or systemic uses that may affect endogenous genes, compensate for pathogenic genes or augment defective genes. It must be noted, though,\n",
      "that a formal definition of gene therapy is yet to be accepted byAn international consortium and definitions may vary according to national regulatory\n",
      "agencies. It is now possible for the modern investigator or clinician to target the underlying disease mechanism. The elucidation of the molecular\n",
      "basis of inherited diseases, from the discovery of the structure of DNA in 1953 to the sequencing of the human genome in 2002, has perhaps heralded a\n",
      "new age of genetic medicine, wherein it is now Possible for themodern investigator or Clinician totarget the root cause of the disease. The treatment\n",
      "of rare inherited diseases such as thalassemia, sickle cell anemia, hemophilia, cystic fibrosis, certain muscular dystrophies, Tay-Sachs disease,\n",
      "fragile X syndrome and Huntington's disease has so far been palliative, without addressing the root causes of these diseases.\n",
      "\n",
      "min_length =  484 ratio 0.52\n",
      "max_length =  745 ratio 0.8\n",
      "summary length =  486\n",
      "elapsed time 9.44 s\n",
      "Gene therapy involves the addition or modification and subsequent expression of a new gene to provide a specific additional function to a cell. A\n",
      "formal definition for gene therapy has already been accepted by an international consortium. Early gene therapy trials, such as those performed by\n",
      "Cline in 1980, were conducted without the approval of ethics committees. The use of exogenous DNA to replace defective DNA was proposed as early as\n",
      "1970 by Rogers and 1972 by Friedmann and Roblin. Other notable achievements in the field include the development of plasmids as delivery tools for\n",
      "exogenous genes by Cohen and Boyer in 1972 and the construction and use of retroviruses as vectors to effect plasmid delivery to cells by Mulligan in\n",
      "1984. The administration of an antisense RNA-mediated transduction therapy by Bordignon in 1992 and 1993 led to the unfortunate death of a patient\n",
      "because of an immune response, resulting in the suspension of clinical trials pending reformulation of procedural and ethical protocols in western\n",
      "countries. This was followed by a clinical trial for adenosine deaminase (ADA) deficiency-severe combined immunodeficiency (SCID), wherein a\n",
      "retrovirus- mediated transduction of isolated T cells to express ADA followed by infusion of modified T cells back into patients resulted in a\n",
      "recovery of T-cell count. The transfer of genetic information, which may be transient or permanent, produces gene products for intercellular,\n",
      "intracellular or systemic uses that may affect endogenous genes, compensate for pathogenic genes or augment defective genes. It must be noted, though,\n",
      "that a formal definition of gene therapy is yet to be accepted byAn international consortium and definitions may vary according to national regulatory\n",
      "agencies. It is now possible for the modern investigator or clinician to target the underlying disease mechanism. The elucidation of the molecular\n",
      "basis of inherited diseases, from the discovery of the structure of DNA in 1953 to the sequencing of the human genome in 2002, has perhaps heralded a\n",
      "new age of genetic medicine, wherein it is now Possible for themodern investigator or Clinician totarget the root cause of the disease. The treatment\n",
      "of rare inherited diseases such as thalassemia, sickle cell anemia, hemophilia, cystic fibrosis, certain muscular dystrophies, Tay-Sachs disease,\n",
      "fragile X syndrome and Huntington's disease has so far been palliative, without addressing the root causes of these diseases.\n",
      "\n",
      "min_length =  615 ratio 0.66\n",
      "max_length =  745 ratio 0.8\n",
      "summary length =  616\n",
      "elapsed time 12.37 s\n",
      "Gene therapy involves the addition or modification and subsequent expression of a new gene to provide a specific additional function to a cell. A\n",
      "formal definition for gene therapy has already been accepted by an international consortium. Early gene therapy trials, such as those performed by\n",
      "Cline in 1980, were conducted without the approval of ethics committees. The use of exogenous DNA to replace defective DNA was proposed as early as\n",
      "1970 by Rogers and 1972 by Friedmann and Roblin. Other notable achievements in the field include the development of plasmids as delivery tools for\n",
      "exogenous genes by Cohen and Boyer in 1972 and the construction and use of retroviruses as vectors to effect plasmid delivery to cells by Mulligan in\n",
      "1984. The administration of an antisense RNA-mediated transduction therapy by Bordignon in 1992 and 1993 led to the unfortunate death of a patient\n",
      "because of an immune response, resulting in the suspension of clinical trials pending reformulation of procedural and ethical protocols in western\n",
      "countries. This was followed by a clinical trial for adenosine deaminase (ADA) deficiency-severe combined immunodeficiency (SCID), wherein a\n",
      "retrovirus- mediated transduction of isolated T cells to express ADA followed by infusion of modified T cells back into patients resulted in a\n",
      "recovery of T-cell count. The transfer of genetic information, which may be transient or permanent, produces gene products for intercellular,\n",
      "intracellular or systemic uses that may affect endogenous genes, compensate for pathogenic genes or augment defective genes. It must be noted, though,\n",
      "that a formal definition of gene therapy is yet to be accepted byAn international consortium and definitions may vary according to national regulatory\n",
      "agencies. It is now possible for the modern investigator or clinician to target the underlying disease mechanism. The elucidation of the molecular\n",
      "basis of inherited diseases, from the discovery of the structure of DNA in 1953 to the sequencing of the human genome in 2002, has perhaps heralded a\n",
      "new age of genetic medicine, wherein it is now Possible for themodern investigator or Clinician totarget the root cause of the disease. The treatment\n",
      "of rare inherited diseases such as thalassemia, sickle cell anemia, hemophilia, cystic fibrosis, certain muscular dystrophies, Tay-Sachs disease,\n",
      "fragile X syndrome and Huntington's disease has so far been palliative, without addressing the root causes of these diseases. Other genetic disorders\n",
      "such as chromosomal abnormalities and mitochondrial genetic disorders exist, but these are beyond the scope of this book. There are no currently\n",
      "approved clinical trials for ADA-SCID, but some clinical trials at the turn of the millennium included an additional trial using hematopoietic stem\n",
      "cells as a vector to effect gene therapy by Trojan in 1993. The trial for glioblastoma using antisenseRNA in 1992 resulted in the unfortunate\n",
      "suspension of Clinical trials pending the reformulation and codification of procedural protocols in Western countries. There is currently no FDA-\n",
      "approved therapy for the treatment of ornithine adenovylase deficiency.\n",
      "\n"
     ]
    }
   ],
   "source": [
    "'''\n",
    "During generation, we set beam size as 5,\n",
    "remove duplicated trigrams in beam search, and tuned\n",
    "the model with min-len, max-len, length penalty on the\n",
    "validation set (Fan et al., 2017)\n",
    "'''\n",
    "b0ch1sec1_text_enc = tokenizer.encode(\n",
    "    b0ch1sec1_text, return_tensors='pt').to('cuda')\n",
    "input_len = len(b0ch1sec1_text_enc[0])\n",
    "\n",
    "summ_enc = []\n",
    "for ratio_min in np.linspace(0.1, 0.8, 6):\n",
    "    for ratio_max in np.linspace(0.1, 0.8, 6):\n",
    "        if ratio_min < ratio_max:\n",
    "            print('min_length = ', int(input_len*ratio_min), 'ratio', ratio_min)\n",
    "            print('max_length = ', int(input_len*ratio_max), 'ratio', ratio_max)\n",
    "            t0 = time.time()\n",
    "            summ_enc = model.generate(\n",
    "                b0ch1sec1_text_enc,\n",
    "                min_length = int(input_len*ratio_min),\n",
    "                max_length = int(input_len*ratio_max),\n",
    "                num_beams = 5,\n",
    "                length_penalty = 1,\n",
    "                early_stopping = True)[0]\n",
    "            t1 = time.time()\n",
    "            print('summary length = ', len(summ_enc))\n",
    "            print('elapsed time %.2f s'%(t1-t0))\n",
    "\n",
    "            summ = tokenizer.decode(\n",
    "                summ_enc, skip_special_tokens=True)\n",
    "            print(textwrap.fill(\n",
    "                summ, 150))\n",
    "            print()"
   ]
  },
  {
   "cell_type": "code",
   "execution_count": null,
   "metadata": {
    "colab": {
     "base_uri": "https://localhost:8080/"
    },
    "executionInfo": {
     "elapsed": 292819,
     "status": "ok",
     "timestamp": 1606814994606,
     "user": {
      "displayName": "Marco Pietro Abrate",
      "photoUrl": "https://lh3.googleusercontent.com/a-/AOh14Gjh-8YF-8BlnrkN9mLZ0xfVOWfOh7kYncpYRv-Y=s64",
      "userId": "15422244832836998434"
     },
     "user_tz": -60
    },
    "id": "VGhU_S5e7CHN",
    "outputId": "61d7bda7-0053-46f7-c279-a80ded8d947a"
   },
   "outputs": [
    {
     "name": "stdout",
     "output_type": "stream",
     "text": [
      "min_length =  89 ratio 0.1\n",
      "max_length =  213 ratio 0.24000000000000002\n",
      "summary length =  102\n",
      "elapsed time 2.03 s\n",
      "Glioblastoma is the most common malignant brain tumor and most common subtype of glioma. Incidence varies widely by histological type, age, sex, race\n",
      "and country. In the USA, the 5-year survival rate is 19.6% in children under 14, 22.7% in 15-39 year-olds and 4.3% in adults over 40. Glioblastomas\n",
      "are fast growing, and as such have a poor prognosis.\n",
      "\n",
      "min_length =  89 ratio 0.1\n",
      "max_length =  338 ratio 0.38\n",
      "summary length =  102\n",
      "elapsed time 2.03 s\n",
      "Glioblastoma is the most common malignant brain tumor and most common subtype of glioma. Incidence varies widely by histological type, age, sex, race\n",
      "and country. In the USA, the 5-year survival rate is 19.6% in children under 14, 22.7% in 15-39 year-olds and 4.3% in adults over 40. Glioblastomas\n",
      "are fast growing, and as such have a poor prognosis.\n",
      "\n",
      "min_length =  89 ratio 0.1\n",
      "max_length =  462 ratio 0.52\n",
      "summary length =  102\n",
      "elapsed time 2.04 s\n",
      "Glioblastoma is the most common malignant brain tumor and most common subtype of glioma. Incidence varies widely by histological type, age, sex, race\n",
      "and country. In the USA, the 5-year survival rate is 19.6% in children under 14, 22.7% in 15-39 year-olds and 4.3% in adults over 40. Glioblastomas\n",
      "are fast growing, and as such have a poor prognosis.\n",
      "\n",
      "min_length =  89 ratio 0.1\n",
      "max_length =  587 ratio 0.66\n",
      "summary length =  102\n",
      "elapsed time 2.01 s\n",
      "Glioblastoma is the most common malignant brain tumor and most common subtype of glioma. Incidence varies widely by histological type, age, sex, race\n",
      "and country. In the USA, the 5-year survival rate is 19.6% in children under 14, 22.7% in 15-39 year-olds and 4.3% in adults over 40. Glioblastomas\n",
      "are fast growing, and as such have a poor prognosis.\n",
      "\n",
      "min_length =  89 ratio 0.1\n",
      "max_length =  712 ratio 0.8\n",
      "summary length =  102\n",
      "elapsed time 2.02 s\n",
      "Glioblastoma is the most common malignant brain tumor and most common subtype of glioma. Incidence varies widely by histological type, age, sex, race\n",
      "and country. In the USA, the 5-year survival rate is 19.6% in children under 14, 22.7% in 15-39 year-olds and 4.3% in adults over 40. Glioblastomas\n",
      "are fast growing, and as such have a poor prognosis.\n",
      "\n",
      "min_length =  213 ratio 0.24000000000000002\n",
      "max_length =  338 ratio 0.38\n",
      "summary length =  223\n",
      "elapsed time 4.18 s\n",
      "Glioblastoma is the most common malignant brain tumor and most common subtype of glioma. Incidence varies widely by histological type, age, sex, race\n",
      "and country. In the USA, the 5-year survival rate is 19.6% in children under 14, 22.7% in 15-39 year-olds and 4.3% in adults over 40. Glioblastomas\n",
      "can occur anywhere in the brain or spinal cord, but in general are diagnosed in the cerebral hemispheres. The anatomic location influences both\n",
      "prognosis and treatment options. Therapeutic radiation to the central nervous system or head has been shown to increase the risk of developing gliob\n",
      "lastoma. The combination of location, age and mutation has been used to define many brain tumors by genetic mutation (see Classification on page 11).\n",
      "The most common genetic mutation associated with glio-astrocyte tumours is fosfibromatosis type 1, Turcot syndrome and Li Fraumeni syndrome, all of\n",
      "which have an autosomal dominant inheritance.\n",
      "\n",
      "min_length =  213 ratio 0.24000000000000002\n",
      "max_length =  462 ratio 0.52\n",
      "summary length =  223\n",
      "elapsed time 4.14 s\n",
      "Glioblastoma is the most common malignant brain tumor and most common subtype of glioma. Incidence varies widely by histological type, age, sex, race\n",
      "and country. In the USA, the 5-year survival rate is 19.6% in children under 14, 22.7% in 15-39 year-olds and 4.3% in adults over 40. Glioblastomas\n",
      "can occur anywhere in the brain or spinal cord, but in general are diagnosed in the cerebral hemispheres. The anatomic location influences both\n",
      "prognosis and treatment options. Therapeutic radiation to the central nervous system or head has been shown to increase the risk of developing gliob\n",
      "lastoma. The combination of location, age and mutation has been used to define many brain tumors by genetic mutation (see Classification on page 11).\n",
      "The most common genetic mutation associated with glio-astrocyte tumours is fosfibromatosis type 1, Turcot syndrome and Li Fraumeni syndrome, all of\n",
      "which have an autosomal dominant inheritance.\n",
      "\n",
      "min_length =  213 ratio 0.24000000000000002\n",
      "max_length =  587 ratio 0.66\n",
      "summary length =  223\n",
      "elapsed time 4.10 s\n",
      "Glioblastoma is the most common malignant brain tumor and most common subtype of glioma. Incidence varies widely by histological type, age, sex, race\n",
      "and country. In the USA, the 5-year survival rate is 19.6% in children under 14, 22.7% in 15-39 year-olds and 4.3% in adults over 40. Glioblastomas\n",
      "can occur anywhere in the brain or spinal cord, but in general are diagnosed in the cerebral hemispheres. The anatomic location influences both\n",
      "prognosis and treatment options. Therapeutic radiation to the central nervous system or head has been shown to increase the risk of developing gliob\n",
      "lastoma. The combination of location, age and mutation has been used to define many brain tumors by genetic mutation (see Classification on page 11).\n",
      "The most common genetic mutation associated with glio-astrocyte tumours is fosfibromatosis type 1, Turcot syndrome and Li Fraumeni syndrome, all of\n",
      "which have an autosomal dominant inheritance.\n",
      "\n",
      "min_length =  213 ratio 0.24000000000000002\n",
      "max_length =  712 ratio 0.8\n",
      "summary length =  223\n",
      "elapsed time 4.22 s\n",
      "Glioblastoma is the most common malignant brain tumor and most common subtype of glioma. Incidence varies widely by histological type, age, sex, race\n",
      "and country. In the USA, the 5-year survival rate is 19.6% in children under 14, 22.7% in 15-39 year-olds and 4.3% in adults over 40. Glioblastomas\n",
      "can occur anywhere in the brain or spinal cord, but in general are diagnosed in the cerebral hemispheres. The anatomic location influences both\n",
      "prognosis and treatment options. Therapeutic radiation to the central nervous system or head has been shown to increase the risk of developing gliob\n",
      "lastoma. The combination of location, age and mutation has been used to define many brain tumors by genetic mutation (see Classification on page 11).\n",
      "The most common genetic mutation associated with glio-astrocyte tumours is fosfibromatosis type 1, Turcot syndrome and Li Fraumeni syndrome, all of\n",
      "which have an autosomal dominant inheritance.\n",
      "\n",
      "min_length =  338 ratio 0.38\n",
      "max_length =  462 ratio 0.52\n",
      "summary length =  339\n",
      "elapsed time 6.41 s\n",
      "Glioblastoma is the most common malignant brain tumor and most common subtype of glioma. Incidence varies widely by histological type, age, sex, race\n",
      "and country. In the USA, the 5-year survival rate is 19.6% in children under 14, 22.7% in 15-39 year-olds and 4.3% in adults over 40. Glioblastomas\n",
      "can occur anywhere in the brain or spinal cord, but in general are diagnosed in the cerebral hemispheres. The anatomic location influences both\n",
      "prognosis and treatment options. Therapeutic radiation to the central nervous system or head has been shown to increase the risk of developing gliob\n",
      "lastoma. The combination of location, age and mutation has been used to define many brain tumors by genetic mutation (see Classification on page 11).\n",
      "The most common genetic mutation associated with glio-astrocyte tumours is fosfibromatosis type 1, Turcot syndrome and Li Fraumeni syndrome, all of\n",
      "which have an autosomal dominant inheritance. Increased susceptibility to allergies and anti-inflammatory drugs has been found to have a protective\n",
      "effect against glo- astrocytes. It should be noted that these findings are from large retrospective case-control analyses, and prospective studies\n",
      "would be needed to confirm these results. Large studies have failed to show an association between mobile phone use and the development of\n",
      "gleoblastomas. It is most common in white men, and the median age at diagnosis is 65 years. Given the aging populations in most western countries, the\n",
      "incidence of glaoblastoms is expected to increase.\n",
      "\n",
      "min_length =  338 ratio 0.38\n",
      "max_length =  587 ratio 0.66\n",
      "summary length =  339\n",
      "elapsed time 6.39 s\n",
      "Glioblastoma is the most common malignant brain tumor and most common subtype of glioma. Incidence varies widely by histological type, age, sex, race\n",
      "and country. In the USA, the 5-year survival rate is 19.6% in children under 14, 22.7% in 15-39 year-olds and 4.3% in adults over 40. Glioblastomas\n",
      "can occur anywhere in the brain or spinal cord, but in general are diagnosed in the cerebral hemispheres. The anatomic location influences both\n",
      "prognosis and treatment options. Therapeutic radiation to the central nervous system or head has been shown to increase the risk of developing gliob\n",
      "lastoma. The combination of location, age and mutation has been used to define many brain tumors by genetic mutation (see Classification on page 11).\n",
      "The most common genetic mutation associated with glio-astrocyte tumours is fosfibromatosis type 1, Turcot syndrome and Li Fraumeni syndrome, all of\n",
      "which have an autosomal dominant inheritance. Increased susceptibility to allergies and anti-inflammatory drugs has been found to have a protective\n",
      "effect against glo- astrocytes. It should be noted that these findings are from large retrospective case-control analyses, and prospective studies\n",
      "would be needed to confirm these results. Large studies have failed to show an association between mobile phone use and the development of\n",
      "gleoblastomas. It is most common in white men, and the median age at diagnosis is 65 years. Given the aging populations in most western countries, the\n",
      "incidence of glaoblastoms is expected to increase.\n",
      "\n",
      "min_length =  338 ratio 0.38\n",
      "max_length =  712 ratio 0.8\n",
      "summary length =  339\n",
      "elapsed time 6.41 s\n",
      "Glioblastoma is the most common malignant brain tumor and most common subtype of glioma. Incidence varies widely by histological type, age, sex, race\n",
      "and country. In the USA, the 5-year survival rate is 19.6% in children under 14, 22.7% in 15-39 year-olds and 4.3% in adults over 40. Glioblastomas\n",
      "can occur anywhere in the brain or spinal cord, but in general are diagnosed in the cerebral hemispheres. The anatomic location influences both\n",
      "prognosis and treatment options. Therapeutic radiation to the central nervous system or head has been shown to increase the risk of developing gliob\n",
      "lastoma. The combination of location, age and mutation has been used to define many brain tumors by genetic mutation (see Classification on page 11).\n",
      "The most common genetic mutation associated with glio-astrocyte tumours is fosfibromatosis type 1, Turcot syndrome and Li Fraumeni syndrome, all of\n",
      "which have an autosomal dominant inheritance. Increased susceptibility to allergies and anti-inflammatory drugs has been found to have a protective\n",
      "effect against glo- astrocytes. It should be noted that these findings are from large retrospective case-control analyses, and prospective studies\n",
      "would be needed to confirm these results. Large studies have failed to show an association between mobile phone use and the development of\n",
      "gleoblastomas. It is most common in white men, and the median age at diagnosis is 65 years. Given the aging populations in most western countries, the\n",
      "incidence of glaoblastoms is expected to increase.\n",
      "\n",
      "min_length =  462 ratio 0.52\n",
      "max_length =  587 ratio 0.66\n",
      "summary length =  480\n",
      "elapsed time 9.63 s\n",
      "Glioblastoma is the most common malignant brain tumor and most common subtype of glioma. Incidence varies widely by histological type, age, sex, race\n",
      "and country. In the USA, the 5-year survival rate is 19.6% in children under 14, 22.7% in 15-39 year-olds and 4.3% in adults over 40. Glioblastomas\n",
      "can occur anywhere in the brain or spinal cord, but in general are diagnosed in the cerebral hemispheres. The anatomic location influences both\n",
      "prognosis and treatment options. Therapeutic radiation to the central nervous system or head has been shown to increase the risk of developing gliob\n",
      "lastoma. The combination of location, age and mutation has been used to define many brain tumors by genetic mutation (see Classification on page 11).\n",
      "The most common genetic mutation associated with glio-astrocyte tumours is fosfibromatosis type 1, Turcot syndrome and Li Fraumeni syndrome, all of\n",
      "which have an autosomal dominant inheritance. Increased susceptibility to allergies and anti-inflammatory drugs has been found to have a protective\n",
      "effect against glo- astrocytes. It should be noted that these findings are from large retrospective case-control analyses, and prospective studies\n",
      "would be needed to confirm these results. Large studies have failed to show an association between mobile phone use and the development of\n",
      "gleoblastomas. It is most common in white men, and the median age at diagnosis is 65 years of age. Given the aging populations in most western\n",
      "countries, the incidence ofgliobLastoma is expected to increase as a result of the aging population. In rare cases, it occurs in people with genetic\n",
      "syndromes such as neurofibronatosis. type 1 and Turcot. syndrome. It can occur during a preferred developmental period (exempli gratia childhood\n",
      "versus adult). Over the past 10 years the combination of age, location, mutation, and age and age have been used in many studies to define brain\n",
      "tumors. It has a poor prognosis; indeed, it has the worst prognosis of all Glioma diagnoses. The age-adjusted incidence of GliOblastoma ranges from\n",
      "0.59 (in Korea) to 3.69 (in Greece) per 100 000 people.\n",
      "\n",
      "min_length =  462 ratio 0.52\n",
      "max_length =  712 ratio 0.8\n",
      "summary length =  480\n",
      "elapsed time 9.43 s\n",
      "Glioblastoma is the most common malignant brain tumor and most common subtype of glioma. Incidence varies widely by histological type, age, sex, race\n",
      "and country. In the USA, the 5-year survival rate is 19.6% in children under 14, 22.7% in 15-39 year-olds and 4.3% in adults over 40. Glioblastomas\n",
      "can occur anywhere in the brain or spinal cord, but in general are diagnosed in the cerebral hemispheres. The anatomic location influences both\n",
      "prognosis and treatment options. Therapeutic radiation to the central nervous system or head has been shown to increase the risk of developing gliob\n",
      "lastoma. The combination of location, age and mutation has been used to define many brain tumors by genetic mutation (see Classification on page 11).\n",
      "The most common genetic mutation associated with glio-astrocyte tumours is fosfibromatosis type 1, Turcot syndrome and Li Fraumeni syndrome, all of\n",
      "which have an autosomal dominant inheritance. Increased susceptibility to allergies and anti-inflammatory drugs has been found to have a protective\n",
      "effect against glo- astrocytes. It should be noted that these findings are from large retrospective case-control analyses, and prospective studies\n",
      "would be needed to confirm these results. Large studies have failed to show an association between mobile phone use and the development of\n",
      "gleoblastomas. It is most common in white men, and the median age at diagnosis is 65 years of age. Given the aging populations in most western\n",
      "countries, the incidence ofgliobLastoma is expected to increase as a result of the aging population. In rare cases, it occurs in people with genetic\n",
      "syndromes such as neurofibronatosis. type 1 and Turcot. syndrome. It can occur during a preferred developmental period (exempli gratia childhood\n",
      "versus adult). Over the past 10 years the combination of age, location, mutation, and age and age have been used in many studies to define brain\n",
      "tumors. It has a poor prognosis; indeed, it has the worst prognosis of all Glioma diagnoses. The age-adjusted incidence of GliOblastoma ranges from\n",
      "0.59 (in Korea) to 3.69 (in Greece) per 100 000 people.\n",
      "\n",
      "min_length =  587 ratio 0.66\n",
      "max_length =  712 ratio 0.8\n",
      "summary length =  589\n",
      "elapsed time 11.91 s\n",
      "Glioblastoma is the most common malignant brain tumor and most common subtype of glioma. Incidence varies widely by histological type, age, sex, race\n",
      "and country. In the USA, the 5-year survival rate is 19.6% in children under 14, 22.7% in 15-39 year-olds and 4.3% in adults over 40. Glioblastomas\n",
      "can occur anywhere in the brain or spinal cord, but in general are diagnosed in the cerebral hemispheres. The anatomic location influences both\n",
      "prognosis and treatment options. Therapeutic radiation to the central nervous system or head has been shown to increase the risk of developing gliob\n",
      "lastoma. The combination of location, age and mutation has been used to define many brain tumors by genetic mutation (see Classification on page 11).\n",
      "The most common genetic mutation associated with glio-astrocyte tumours is fosfibromatosis type 1, Turcot syndrome and Li Fraumeni syndrome, all of\n",
      "which have an autosomal dominant inheritance. Increased susceptibility to allergies and anti-inflammatory drugs has been found to have a protective\n",
      "effect against glo- astrocytes. It should be noted that these findings are from large retrospective case-control analyses, and prospective studies\n",
      "would be needed to confirm these results. Large studies have failed to show an association between mobile phone use and the development of\n",
      "gleoblastomas. It is most common in white men, and the median age at diagnosis is 65 years of age. Given the aging populations in most western\n",
      "countries, the incidence ofgliobLastoma is expected to increase as a result of the aging population. In rare cases, it occurs in people with genetic\n",
      "syndromes such as neurofibronatosis. type 1 and Turcot. syndrome. It can occur during a preferred developmental period (exempli gratia childhood\n",
      "versus adult). Over the past 10 years the combination of age, location, mutation, and age and age have been used in many studies to define brain\n",
      "tumors. It has a poor prognosis; indeed, it has the worst prognosis of all Glioma diagnoses. The age-adjusted incidence of Glo-Astrocytoma ranges from\n",
      "0.59 (in Korea) to 3.69 (in Greece) per 100 000 people. The incidence is 3.21 per 100,000 people in the USA. Its incidence increases with age (the\n",
      "median age in the U.S. is 65); it is uncommon in children. It occurs in the frontal lobe in 40% of cases, temporal in 29%, parietal in 14% and\n",
      "occipital in 3%, with 14% in deeper structures. The location defines the location of the tumor, which is thought to arise from populations of\n",
      "stem/progenitor cells in thebrain (Figure 1.2).\n",
      "\n"
     ]
    }
   ],
   "source": [
    "'''\n",
    "During generation, we set beam size as 5,\n",
    "remove duplicated trigrams in beam search, and tuned\n",
    "the model with min-len, max-len, length penalty on the\n",
    "validation set (Fan et al., 2017)\n",
    "'''\n",
    "b1ch1sec1_text_enc = tokenizer.encode(\n",
    "    b1ch1sec1_text, return_tensors='pt').to('cuda')\n",
    "input_len = len(b1ch1sec1_text_enc[0])\n",
    "\n",
    "summ_enc = []\n",
    "for ratio_min in np.linspace(0.1, 0.8, 6):\n",
    "    for ratio_max in np.linspace(0.1, 0.8, 6):\n",
    "        if ratio_min < ratio_max:\n",
    "            print('min_length = ', int(input_len*ratio_min), 'ratio', ratio_min)\n",
    "            print('max_length = ', int(input_len*ratio_max), 'ratio', ratio_max)\n",
    "            t0 = time.time()\n",
    "            summ_enc = model.generate(\n",
    "                b1ch1sec1_text_enc,\n",
    "                min_length = int(input_len*ratio_min),\n",
    "                max_length = int(input_len*ratio_max),\n",
    "                num_beams = 5,\n",
    "                length_penalty = 1,\n",
    "                early_stopping = True)[0]\n",
    "            t1 = time.time()\n",
    "            print('summary length = ', len(summ_enc))\n",
    "            print('elapsed time %.2f s'%(t1-t0))\n",
    "\n",
    "            summ = tokenizer.decode(\n",
    "                summ_enc, skip_special_tokens=True)\n",
    "            print(textwrap.fill(\n",
    "                summ, 150))\n",
    "            print()"
   ]
  },
  {
   "cell_type": "markdown",
   "metadata": {
    "id": "KanMmyF4lDvs"
   },
   "source": [
    "BART summary is influenced by the `min_length` parameter, as we would have expected. However, the model always picks 2/3 key sentences and they are present in all the generated summaries. When the length increases, the model picks some different or new sentences.\n",
    "\n",
    "When the min_length ratio is above around 0.35 the model starts generating information which is not present in the input.\n",
    "\n",
    "On the other hand, `max_length` does not influence the generated summary."
   ]
  },
  {
   "cell_type": "markdown",
   "metadata": {
    "id": "79krEKm-4bxQ"
   },
   "source": [
    "#### `length_penalty` swipe"
   ]
  },
  {
   "cell_type": "code",
   "execution_count": null,
   "metadata": {
    "colab": {
     "base_uri": "https://localhost:8080/"
    },
    "executionInfo": {
     "elapsed": 26690,
     "status": "ok",
     "timestamp": 1606815214130,
     "user": {
      "displayName": "Marco Pietro Abrate",
      "photoUrl": "https://lh3.googleusercontent.com/a-/AOh14Gjh-8YF-8BlnrkN9mLZ0xfVOWfOh7kYncpYRv-Y=s64",
      "userId": "15422244832836998434"
     },
     "user_tz": -60
    },
    "id": "VhCf55v44bxR",
    "outputId": "c50ea527-1583-44ce-8513-7815f69a1a97"
   },
   "outputs": [
    {
     "name": "stdout",
     "output_type": "stream",
     "text": [
      "length_penalty = 0.1\n",
      "summary length =  169\n",
      "elapsed time 2.59 s\n",
      "Gene-based therapy involves the addition or modification of a gene to provide a specific additional function to a cell. Gene therapy involves: (1) the\n",
      "inoculation of nucleic acids for vaccination against foreign antigens; or (3) the general transfer of nucleo acids to modify the function of an\n",
      "endogenous gene to effect a direct or indirect clinical benefit. A formal definition for gene therapy has already been accepted by an international\n",
      "consortium. The use of exogenous DNA to replace defective DNA was proposed as early as 1970 by Rogers and 1972 by Friedmann and Roblin. Other notable\n",
      "achievements in the field include the development of plasmids as delivery tools for exogenous genes by Cohen and Boyer in 1972 and the construction\n",
      "and use of retroviruses as vectors to effect plasmid delivery to cells by Mulligan in 1984.\n",
      "\n",
      "length_penalty = 0.3\n",
      "summary length =  169\n",
      "elapsed time 2.58 s\n",
      "Gene-based therapy involves the addition or modification of a gene to provide a specific additional function to a cell. Gene therapy involves: (1) the\n",
      "inoculation of nucleic acids for vaccination against foreign antigens; or (3) the general transfer of nucleo acids to modify the function of an\n",
      "endogenous gene to effect a direct or indirect clinical benefit. A formal definition for gene therapy has already been accepted by an international\n",
      "consortium. The use of exogenous DNA to replace defective DNA was proposed as early as 1970 by Rogers and 1972 by Friedmann and Roblin. Other notable\n",
      "achievements in the field include the development of plasmids as delivery tools for exogenous genes by Cohen and Boyer in 1972 and the construction\n",
      "and use of retroviruses as vectors to effect plasmid delivery to cells by Mulligan in 1984.\n",
      "\n",
      "length_penalty = 0.5\n",
      "summary length =  169\n",
      "elapsed time 2.59 s\n",
      "Gene-based therapy involves the addition or modification of a gene to provide a specific additional function to a cell. Gene therapy involves: (1) the\n",
      "inoculation of nucleic acids for vaccination against foreign antigens; or (3) the general transfer of nucleo acids to modify the function of an\n",
      "endogenous gene to effect a direct or indirect clinical benefit. A formal definition for gene therapy has already been accepted by an international\n",
      "consortium. The use of exogenous DNA to replace defective DNA was proposed as early as 1970 by Rogers and 1972 by Friedmann and Roblin. Other notable\n",
      "achievements in the field include the development of plasmids as delivery tools for exogenous genes by Cohen and Boyer in 1972 and the construction\n",
      "and use of retroviruses as vectors to effect plasmid delivery to cells by Mulligan in 1984.\n",
      "\n",
      "length_penalty = 0.7\n",
      "summary length =  169\n",
      "elapsed time 2.62 s\n",
      "Gene-based therapy involves the addition or modification of a gene to provide a specific additional function to a cell. Gene therapy involves: (1) the\n",
      "inoculation of nucleic acids for vaccination against foreign antigens; or (3) the general transfer of nucleo acids to modify the function of an\n",
      "endogenous gene to effect a direct or indirect clinical benefit. A formal definition for gene therapy has already been accepted by an international\n",
      "consortium. The use of exogenous DNA to replace defective DNA was proposed as early as 1970 by Rogers and 1972 by Friedmann and Roblin. Other notable\n",
      "achievements in the field include the development of plasmids as delivery tools for exogenous genes by Cohen and Boyer in 1972 and the construction\n",
      "and use of retroviruses as vectors to effect plasmid delivery to cells by Mulligan in 1984.\n",
      "\n",
      "length_penalty = 0.9\n",
      "summary length =  169\n",
      "elapsed time 2.57 s\n",
      "Gene-based therapy involves the addition or modification of a gene to provide a specific additional function to a cell. Gene therapy involves: (1) the\n",
      "inoculation of nucleic acids for vaccination against foreign antigens; or (3) the general transfer of nucleo acids to modify the function of an\n",
      "endogenous gene to effect a direct or indirect clinical benefit. A formal definition for gene therapy has already been accepted by an international\n",
      "consortium. The use of exogenous DNA to replace defective DNA was proposed as early as 1970 by Rogers and 1972 by Friedmann and Roblin. Other notable\n",
      "achievements in the field include the development of plasmids as delivery tools for exogenous genes by Cohen and Boyer in 1972 and the construction\n",
      "and use of retroviruses as vectors to effect plasmid delivery to cells by Mulligan in 1984.\n",
      "\n",
      "length_penalty = 1.2\n",
      "summary length =  169\n",
      "elapsed time 2.54 s\n",
      "Gene-based therapy involves the addition or modification of a gene to provide a specific additional function to a cell. Gene therapy involves: (1) the\n",
      "inoculation of nucleic acids for vaccination against foreign antigens; or (3) the general transfer of nucleo acids to modify the function of an\n",
      "endogenous gene to effect a direct or indirect clinical benefit. A formal definition for gene therapy has already been accepted by an international\n",
      "consortium. The use of exogenous DNA to replace defective DNA was proposed as early as 1970 by Rogers and 1972 by Friedmann and Roblin. Other notable\n",
      "achievements in the field include the development of plasmids as delivery tools for exogenous genes by Cohen and Boyer in 1972 and the construction\n",
      "and use of retroviruses as vectors to effect plasmid delivery to cells by Mulligan in 1984.\n",
      "\n",
      "length_penalty = 1.4\n",
      "summary length =  169\n",
      "elapsed time 2.60 s\n",
      "Gene-based therapy involves the addition or modification of a gene to provide a specific additional function to a cell. Gene therapy involves: (1) the\n",
      "inoculation of nucleic acids for vaccination against foreign antigens; or (3) the general transfer of nucleo acids to modify the function of an\n",
      "endogenous gene to effect a direct or indirect clinical benefit. A formal definition for gene therapy has already been accepted by an international\n",
      "consortium. The use of exogenous DNA to replace defective DNA was proposed as early as 1970 by Rogers and 1972 by Friedmann and Roblin. Other notable\n",
      "achievements in the field include the development of plasmids as delivery tools for exogenous genes by Cohen and Boyer in 1972 and the construction\n",
      "and use of retroviruses as vectors to effect plasmid delivery to cells by Mulligan in 1984.\n",
      "\n",
      "length_penalty = 1.6\n",
      "summary length =  169\n",
      "elapsed time 2.59 s\n",
      "Gene-based therapy involves the addition or modification of a gene to provide a specific additional function to a cell. Gene therapy involves: (1) the\n",
      "inoculation of nucleic acids for vaccination against foreign antigens; or (3) the general transfer of nucleo acids to modify the function of an\n",
      "endogenous gene to effect a direct or indirect clinical benefit. A formal definition for gene therapy has already been accepted by an international\n",
      "consortium. The use of exogenous DNA to replace defective DNA was proposed as early as 1970 by Rogers and 1972 by Friedmann and Roblin. Other notable\n",
      "achievements in the field include the development of plasmids as delivery tools for exogenous genes by Cohen and Boyer in 1972 and the construction\n",
      "and use of retroviruses as vectors to effect plasmid delivery to cells by Mulligan in 1984.\n",
      "\n",
      "length_penalty = 1.8\n",
      "summary length =  169\n",
      "elapsed time 2.55 s\n",
      "Gene-based therapy involves the addition or modification of a gene to provide a specific additional function to a cell. Gene therapy involves: (1) the\n",
      "inoculation of nucleic acids for vaccination against foreign antigens; or (3) the general transfer of nucleo acids to modify the function of an\n",
      "endogenous gene to effect a direct or indirect clinical benefit. A formal definition for gene therapy has already been accepted by an international\n",
      "consortium. The use of exogenous DNA to replace defective DNA was proposed as early as 1970 by Rogers and 1972 by Friedmann and Roblin. Other notable\n",
      "achievements in the field include the development of plasmids as delivery tools for exogenous genes by Cohen and Boyer in 1972 and the construction\n",
      "and use of retroviruses as vectors to effect plasmid delivery to cells by Mulligan in 1984.\n",
      "\n",
      "length_penalty = 2.0\n",
      "summary length =  169\n",
      "elapsed time 2.58 s\n",
      "Gene-based therapy involves the addition or modification of a gene to provide a specific additional function to a cell. Gene therapy involves: (1) the\n",
      "inoculation of nucleic acids for vaccination against foreign antigens; or (3) the general transfer of nucleo acids to modify the function of an\n",
      "endogenous gene to effect a direct or indirect clinical benefit. A formal definition for gene therapy has already been accepted by an international\n",
      "consortium. The use of exogenous DNA to replace defective DNA was proposed as early as 1970 by Rogers and 1972 by Friedmann and Roblin. Other notable\n",
      "achievements in the field include the development of plasmids as delivery tools for exogenous genes by Cohen and Boyer in 1972 and the construction\n",
      "and use of retroviruses as vectors to effect plasmid delivery to cells by Mulligan in 1984.\n",
      "\n"
     ]
    }
   ],
   "source": [
    "'''\n",
    "During generation, we set beam size as 5,\n",
    "remove duplicated trigrams in beam search, and tuned\n",
    "the model with min-len, max-len, length penalty on the\n",
    "validation set (Fan et al., 2017)\n",
    "'''\n",
    "b0ch1sec1_text_enc = tokenizer.encode(\n",
    "    b0ch1sec1_text, return_tensors='pt').to('cuda')\n",
    "\n",
    "summ_enc = []\n",
    "for length_penalty in np.linspace(0.1, 2, 10):\n",
    "    print('length_penalty = %.1f'%length_penalty)\n",
    "    t0 = time.time()\n",
    "    summ_enc = model.generate(\n",
    "        b0ch1sec1_text_enc,\n",
    "        min_length = SUMMARY_MIN_LEN,\n",
    "        max_length = SUMMARY_MAX_LEN,\n",
    "        num_beams = 2,\n",
    "        length_penalty = length_penalty,\n",
    "        early_stopping = True)[0]\n",
    "    t1 = time.time()\n",
    "    print('summary length = ', len(summ_enc))\n",
    "    print('elapsed time %.2f s'%(t1-t0))\n",
    "\n",
    "    summ = tokenizer.decode(\n",
    "        summ_enc, skip_special_tokens=True)\n",
    "    print(textwrap.fill(\n",
    "        summ, 150))\n",
    "    print()"
   ]
  },
  {
   "cell_type": "code",
   "execution_count": null,
   "metadata": {
    "colab": {
     "base_uri": "https://localhost:8080/"
    },
    "executionInfo": {
     "elapsed": 51688,
     "status": "ok",
     "timestamp": 1606815239135,
     "user": {
      "displayName": "Marco Pietro Abrate",
      "photoUrl": "https://lh3.googleusercontent.com/a-/AOh14Gjh-8YF-8BlnrkN9mLZ0xfVOWfOh7kYncpYRv-Y=s64",
      "userId": "15422244832836998434"
     },
     "user_tz": -60
    },
    "id": "1knHAw5F7PtO",
    "outputId": "b82999ad-acb6-4aba-b2bf-ff9f33c0a298"
   },
   "outputs": [
    {
     "name": "stdout",
     "output_type": "stream",
     "text": [
      "length_penalty = 0.1\n",
      "summary length =  151\n",
      "elapsed time 2.49 s\n",
      "Glioblastoma is the most common intrinsic malignant brain tumor in adults. Incidence varies widely by histological type, age, sex, race and country.\n",
      "Glioblastomas can occur anywhere in the brain or spinal cord. In the USA, the 5-year survival rate is 19.6% in children under 14, 22.7% in 15-39 year-\n",
      "olds, and 4.3% in adults over 40. The anatomic location of the glioma influences both prognosis and treatment options. Therapeutic radiation to the\n",
      "central nervous system or head has been shown to increase the risk of developing gliob lastoma. High socioeconomic status has been associated with\n",
      "glio-diagnosis.\n",
      "\n",
      "length_penalty = 0.3\n",
      "summary length =  151\n",
      "elapsed time 2.47 s\n",
      "Glioblastoma is the most common intrinsic malignant brain tumor in adults. Incidence varies widely by histological type, age, sex, race and country.\n",
      "Glioblastomas can occur anywhere in the brain or spinal cord. In the USA, the 5-year survival rate is 19.6% in children under 14, 22.7% in 15-39 year-\n",
      "olds, and 4.3% in adults over 40. The anatomic location of the glioma influences both prognosis and treatment options. Therapeutic radiation to the\n",
      "central nervous system or head has been shown to increase the risk of developing gliob lastoma. High socioeconomic status has been associated with\n",
      "glio-diagnosis.\n",
      "\n",
      "length_penalty = 0.5\n",
      "summary length =  151\n",
      "elapsed time 2.47 s\n",
      "Glioblastoma is the most common intrinsic malignant brain tumor in adults. Incidence varies widely by histological type, age, sex, race and country.\n",
      "Glioblastomas can occur anywhere in the brain or spinal cord. In the USA, the 5-year survival rate is 19.6% in children under 14, 22.7% in 15-39 year-\n",
      "olds, and 4.3% in adults over 40. The anatomic location of the glioma influences both prognosis and treatment options. Therapeutic radiation to the\n",
      "central nervous system or head has been shown to increase the risk of developing gliob lastoma. High socioeconomic status has been associated with\n",
      "glio-diagnosis.\n",
      "\n",
      "length_penalty = 0.7\n",
      "summary length =  151\n",
      "elapsed time 2.48 s\n",
      "Glioblastoma is the most common intrinsic malignant brain tumor in adults. Incidence varies widely by histological type, age, sex, race and country.\n",
      "Glioblastomas can occur anywhere in the brain or spinal cord. In the USA, the 5-year survival rate is 19.6% in children under 14, 22.7% in 15-39 year-\n",
      "olds, and 4.3% in adults over 40. The anatomic location of the glioma influences both prognosis and treatment options. Therapeutic radiation to the\n",
      "central nervous system or head has been shown to increase the risk of developing gliob lastoma. High socioeconomic status has been associated with\n",
      "glio-diagnosis.\n",
      "\n",
      "length_penalty = 0.9\n",
      "summary length =  151\n",
      "elapsed time 2.48 s\n",
      "Glioblastoma is the most common intrinsic malignant brain tumor in adults. Incidence varies widely by histological type, age, sex, race and country.\n",
      "Glioblastomas can occur anywhere in the brain or spinal cord. In the USA, the 5-year survival rate is 19.6% in children under 14, 22.7% in 15-39 year-\n",
      "olds, and 4.3% in adults over 40. The anatomic location of the glioma influences both prognosis and treatment options. Therapeutic radiation to the\n",
      "central nervous system or head has been shown to increase the risk of developing gliob lastoma. High socioeconomic status has been associated with\n",
      "glio-diagnosis.\n",
      "\n",
      "length_penalty = 1.2\n",
      "summary length =  151\n",
      "elapsed time 2.45 s\n",
      "Glioblastoma is the most common intrinsic malignant brain tumor in adults. Incidence varies widely by histological type, age, sex, race and country.\n",
      "Glioblastomas can occur anywhere in the brain or spinal cord. In the USA, the 5-year survival rate is 19.6% in children under 14, 22.7% in 15-39 year-\n",
      "olds, and 4.3% in adults over 40. The anatomic location of the glioma influences both prognosis and treatment options. Therapeutic radiation to the\n",
      "central nervous system or head has been shown to increase the risk of developing gliob lastoma. High socioeconomic status has been associated with\n",
      "glio-diagnosis.\n",
      "\n",
      "length_penalty = 1.4\n",
      "summary length =  151\n",
      "elapsed time 2.48 s\n",
      "Glioblastoma is the most common intrinsic malignant brain tumor in adults. Incidence varies widely by histological type, age, sex, race and country.\n",
      "Glioblastomas can occur anywhere in the brain or spinal cord. In the USA, the 5-year survival rate is 19.6% in children under 14, 22.7% in 15-39 year-\n",
      "olds, and 4.3% in adults over 40. The anatomic location of the glioma influences both prognosis and treatment options. Therapeutic radiation to the\n",
      "central nervous system or head has been shown to increase the risk of developing gliob lastoma. High socioeconomic status has been associated with\n",
      "glio-diagnosis.\n",
      "\n",
      "length_penalty = 1.6\n",
      "summary length =  151\n",
      "elapsed time 2.49 s\n",
      "Glioblastoma is the most common intrinsic malignant brain tumor in adults. Incidence varies widely by histological type, age, sex, race and country.\n",
      "Glioblastomas can occur anywhere in the brain or spinal cord. In the USA, the 5-year survival rate is 19.6% in children under 14, 22.7% in 15-39 year-\n",
      "olds, and 4.3% in adults over 40. The anatomic location of the glioma influences both prognosis and treatment options. Therapeutic radiation to the\n",
      "central nervous system or head has been shown to increase the risk of developing gliob lastoma. High socioeconomic status has been associated with\n",
      "glio-diagnosis.\n",
      "\n",
      "length_penalty = 1.8\n",
      "summary length =  151\n",
      "elapsed time 2.50 s\n",
      "Glioblastoma is the most common intrinsic malignant brain tumor in adults. Incidence varies widely by histological type, age, sex, race and country.\n",
      "Glioblastomas can occur anywhere in the brain or spinal cord. In the USA, the 5-year survival rate is 19.6% in children under 14, 22.7% in 15-39 year-\n",
      "olds, and 4.3% in adults over 40. The anatomic location of the glioma influences both prognosis and treatment options. Therapeutic radiation to the\n",
      "central nervous system or head has been shown to increase the risk of developing gliob lastoma. High socioeconomic status has been associated with\n",
      "glio-diagnosis.\n",
      "\n",
      "length_penalty = 2.0\n",
      "summary length =  151\n",
      "elapsed time 2.47 s\n",
      "Glioblastoma is the most common intrinsic malignant brain tumor in adults. Incidence varies widely by histological type, age, sex, race and country.\n",
      "Glioblastomas can occur anywhere in the brain or spinal cord. In the USA, the 5-year survival rate is 19.6% in children under 14, 22.7% in 15-39 year-\n",
      "olds, and 4.3% in adults over 40. The anatomic location of the glioma influences both prognosis and treatment options. Therapeutic radiation to the\n",
      "central nervous system or head has been shown to increase the risk of developing gliob lastoma. High socioeconomic status has been associated with\n",
      "glio-diagnosis.\n",
      "\n"
     ]
    }
   ],
   "source": [
    "'''\n",
    "During generation, we set beam size as 5,\n",
    "remove duplicated trigrams in beam search, and tuned\n",
    "the model with min-len, max-len, length penalty on the\n",
    "validation set (Fan et al., 2017)\n",
    "'''\n",
    "b1ch1sec1_text_enc = tokenizer.encode(\n",
    "    b1ch1sec1_text, return_tensors='pt').to('cuda')\n",
    "\n",
    "summ_enc = []\n",
    "for length_penalty in np.linspace(0.1, 2, 10):\n",
    "    print('length_penalty = %.1f'%length_penalty)\n",
    "    t0 = time.time()\n",
    "    summ_enc = model.generate(\n",
    "        b1ch1sec1_text_enc,\n",
    "        min_length = SUMMARY_MIN_LEN,\n",
    "        max_length = SUMMARY_MAX_LEN,\n",
    "        num_beams = 2,\n",
    "        length_penalty = length_penalty,\n",
    "        early_stopping = True)[0]\n",
    "    t1 = time.time()\n",
    "    print('summary length = ', len(summ_enc))\n",
    "    print('elapsed time %.2f s'%(t1-t0))\n",
    "\n",
    "    summ = tokenizer.decode(\n",
    "        summ_enc, skip_special_tokens=True)\n",
    "    print(textwrap.fill(\n",
    "        summ, 150))\n",
    "    print()"
   ]
  },
  {
   "cell_type": "markdown",
   "metadata": {
    "id": "B6JwYb1v4bxR"
   },
   "source": [
    "BART summary does not change when swiping the length_penalty parameter. This is probably because the model reaches an optimum when using beam search. **GitHub issue**"
   ]
  },
  {
   "cell_type": "markdown",
   "metadata": {
    "id": "H8ZnLMZN9VBB"
   },
   "source": [
    "#### `no_repeat_ngram_size` swipe"
   ]
  },
  {
   "cell_type": "code",
   "execution_count": null,
   "metadata": {
    "colab": {
     "base_uri": "https://localhost:8080/"
    },
    "executionInfo": {
     "elapsed": 66870,
     "status": "ok",
     "timestamp": 1606815254994,
     "user": {
      "displayName": "Marco Pietro Abrate",
      "photoUrl": "https://lh3.googleusercontent.com/a-/AOh14Gjh-8YF-8BlnrkN9mLZ0xfVOWfOh7kYncpYRv-Y=s64",
      "userId": "15422244832836998434"
     },
     "user_tz": -60
    },
    "id": "nl4tW32W9VBB",
    "outputId": "3871ef8e-de35-47fd-98a4-6f19ad27f5c0"
   },
   "outputs": [
    {
     "name": "stdout",
     "output_type": "stream",
     "text": [
      "no_repeat_ngram_size = 2\n",
      "summary length =  167\n",
      "elapsed time 3.12 s\n",
      "Gene therapy involves the addition or modification and subsequent expression of a new gene to provide a specific additional function to a cell. This\n",
      "transfer of genetic information produces gene products for intercellular, intracellular or systemic uses that may affect endogenous genes, compensate\n",
      "for pathogenic genes or augment defective genes. The use of exogenous DNA to replace defective DNA was proposed as early as 1970 by Rogers and 1972 by\n",
      "Friedmann and Roblin. Early gene therapy trials, such as those performed by Cline in 1980, were conducted without the approval of ethics committees,\n",
      "and questions were raised regarding the efficacy of gene transfer. A formal definition for gene Therapy has already been accepted by an international\n",
      "consortium, but definitions may vary according to national regulatory agencies. It is now possible for the modern investigator or clinician to target\n",
      "the underlying disease mechanism.\n",
      "\n",
      "no_repeat_ngram_size = 3\n",
      "summary length =  156\n",
      "elapsed time 2.92 s\n",
      "Gene therapy involves the addition or modification and subsequent expression of a new gene to provide a specific additional function to a cell. A\n",
      "formal definition for gene therapy has already been accepted by an international consortium. Early gene therapy trials, such as those performed by\n",
      "Cline in 1980, were conducted without the approval of ethics committees. The use of exogenous DNA to replace defective DNA was proposed as early as\n",
      "1970 by Rogers and 1972 by Friedmann and Roblin. Other notable achievements in the field include the development of plasmids as delivery tools for\n",
      "exogenous genes by Cohen and Boyer in 1972 and the construction and use of retroviruses as vectors to effect plasmid delivery to cells by Mulligan in\n",
      "1984, with subsequent translation to clinics in the later 1980s.\n",
      "\n",
      "no_repeat_ngram_size = 4\n",
      "summary length =  177\n",
      "elapsed time 3.34 s\n",
      "Gene therapy involves the addition or modification and subsequent expression of a new gene to provide a specific additional function to a cell. This\n",
      "transfer of genetic information produces gene products for intercellular, intracellular or systemic uses that may affect endogenous genes, compensate\n",
      "for pathogenic genes or augment defective genes. A formal definition for gene therapy has already been accepted by an international consortium, but\n",
      "definitions may vary according to national regulatory agencies. Early gene therapy trials, such as those performed by Cline in 1980, were conducted\n",
      "without the approval of ethics committees, and questions were raised regarding the efficacy of gene transfer. The use of exogenous DNA to replace\n",
      "defective DNA was proposed as early as 1970 by Rogers and 1972 by Friedmann and Roblin. Other notable achievements in the field include the\n",
      "development of plasmids as delivery tools for exogenous genes by Cohen and Boyer in 1972.\n",
      "\n",
      "no_repeat_ngram_size = 5\n",
      "summary length =  177\n",
      "elapsed time 3.34 s\n",
      "Gene therapy involves the addition or modification and subsequent expression of a new gene to provide a specific additional function to a cell. This\n",
      "transfer of genetic information produces gene products for intercellular, intracellular or systemic uses that may affect endogenous genes, compensate\n",
      "for pathogenic genes or augment defective genes. A formal definition for gene therapy has already been accepted by an international consortium, but\n",
      "definitions may vary according to national regulatory agencies. Early gene therapy trials, such as those performed by Cline in 1980, were conducted\n",
      "without the approval of ethics committees, and questions were raised regarding the efficacy of gene transfer. The use of exogenous DNA to replace\n",
      "defective DNA was proposed as early as 1970 by Rogers and 1972 by Friedmann and Roblin. Other notable achievements in the field include the\n",
      "development of plasmids as delivery tools for exogenous genes by Cohen and Boyer in 1972.\n",
      "\n",
      "no_repeat_ngram_size = 6\n",
      "summary length =  177\n",
      "elapsed time 3.31 s\n",
      "Gene therapy involves the addition or modification and subsequent expression of a new gene to provide a specific additional function to a cell. This\n",
      "transfer of genetic information produces gene products for intercellular, intracellular or systemic uses that may affect endogenous genes, compensate\n",
      "for pathogenic genes or augment defective genes. A formal definition for gene therapy has already been accepted by an international consortium, but\n",
      "definitions may vary according to national regulatory agencies. Early gene therapy trials, such as those performed by Cline in 1980, were conducted\n",
      "without the approval of ethics committees, and questions were raised regarding the efficacy of gene transfer. The use of exogenous DNA to replace\n",
      "defective DNA was proposed as early as 1970 by Rogers and 1972 by Friedmann and Roblin. Other notable achievements in the field include the\n",
      "development of plasmids as delivery tools for exogenous genes by Cohen and Boyer in 1972.\n",
      "\n"
     ]
    }
   ],
   "source": [
    "'''\n",
    "During generation, we set beam size as 5,\n",
    "remove duplicated trigrams in beam search, and tuned\n",
    "the model with min-len, max-len, length penalty on the\n",
    "validation set (Fan et al., 2017)\n",
    "'''\n",
    "b0ch1sec1_text_enc = tokenizer.encode(\n",
    "    b0ch1sec1_text, return_tensors='pt').to('cuda')\n",
    "\n",
    "summ_enc = []\n",
    "for no_repeat_ngram_size in np.linspace(2, 6, 5):\n",
    "    print('no_repeat_ngram_size = %d'%no_repeat_ngram_size)\n",
    "    t0 = time.time()\n",
    "    summ_enc = model.generate(\n",
    "        b0ch1sec1_text_enc,\n",
    "        min_length = SUMMARY_MIN_LEN,\n",
    "        max_length = SUMMARY_MAX_LEN,\n",
    "        num_beams = 5,\n",
    "        no_repeat_ngram_size = int(no_repeat_ngram_size),\n",
    "        early_stopping = True)[0]\n",
    "    t1 = time.time()\n",
    "    print('summary length = ', len(summ_enc))\n",
    "    print('elapsed time %.2f s'%(t1-t0))\n",
    "\n",
    "    summ = tokenizer.decode(\n",
    "        summ_enc, skip_special_tokens=True)\n",
    "    print(textwrap.fill(\n",
    "        summ, 150))\n",
    "    print()"
   ]
  },
  {
   "cell_type": "code",
   "execution_count": null,
   "metadata": {
    "colab": {
     "base_uri": "https://localhost:8080/"
    },
    "executionInfo": {
     "elapsed": 82535,
     "status": "ok",
     "timestamp": 1606815270665,
     "user": {
      "displayName": "Marco Pietro Abrate",
      "photoUrl": "https://lh3.googleusercontent.com/a-/AOh14Gjh-8YF-8BlnrkN9mLZ0xfVOWfOh7kYncpYRv-Y=s64",
      "userId": "15422244832836998434"
     },
     "user_tz": -60
    },
    "id": "KNizQ3XW9VBC",
    "outputId": "b879d947-27c4-458d-d8e6-0c747ff9eff9"
   },
   "outputs": [
    {
     "name": "stdout",
     "output_type": "stream",
     "text": [
      "no_repeat_ngram_size = 2\n",
      "summary length =  166\n",
      "elapsed time 3.10 s\n",
      "Glioblastoma is the most common intrinsic malignant brain tumor in adults. Incidence varies widely by histological type, age, sex, race and country.\n",
      "In the USA, the 5-year survival rate is 19.6% in children under 14, 22.7% for 15-39 year-olds and 4.3% of adults over 40. Gliomas arise as a result of\n",
      "a driver mutation in a cell of origin (exempli gratia astrocyte, oligodendroCyte), which defines the location of the tumor, and occur during a\n",
      "preferred developmental period. The anatomic location influences both prognosis and treatment options. Therapeutic radiation to the central nervous\n",
      "system or head has been shown to increase the risk of developing gliob lastoma.\n",
      "\n",
      "no_repeat_ngram_size = 3\n",
      "summary length =  166\n",
      "elapsed time 3.14 s\n",
      "Glioblastoma is the most common malignant brain tumor and most common subtype of glioma. Incidence varies widely by histological type, age, sex, race\n",
      "and country. In the USA, the 5-year survival rate is 19.6% in children under 14, 22.7% in 15-39 year-olds and 4.3% in adults over 40. Glioblastomas\n",
      "can occur anywhere in the brain or spinal cord, but in general are diagnosed in the cerebral hemispheres. The anatomic location influences both\n",
      "prognosis and treatment options. Therapeutic radiation to the central nervous system or head has been shown to increase the risk of developing gliob\n",
      "lastoma. The combination of location, age and mutation has been used to define many brain tumors.\n",
      "\n",
      "no_repeat_ngram_size = 4\n",
      "summary length =  151\n",
      "elapsed time 3.04 s\n",
      "Glioblastoma is the most common malignant brain tumor and most common subtype of glioma. Incidence varies widely by histological type, age, sex, race\n",
      "and country. In the USA, the 5-year survival rate is 19.6% in children under 14, 22.7% in 15-39 year-olds and 4.3% in adults over 40. In rare cases,\n",
      "glioblastoma occurs in people with genetic syndromes such as neurofibromatosis type 1, Turcot syndrome and Li Fraumeni syndrome, all of which have an\n",
      "autosomal dominant inheritance. Therapeutic radiation to the central nervous system or head has been shown to increase the risk.\n",
      "\n",
      "no_repeat_ngram_size = 5\n",
      "summary length =  158\n",
      "elapsed time 3.07 s\n",
      "Glioblastoma is the most common malignant brain tumor and most common subtype of glioma. Incidence varies widely by histological type, age, sex, race\n",
      "and country. In the USA, the 5-year survival rate is 19.6% in children under 14, 22.7% in 15-39 year-olds and 4.3% in adults over 40. In rare cases,\n",
      "glioblastoma occurs in people with genetic syndromes such as neurofibromatosis type 1, Turcot syndrome and Li Fraumeni syndrome, all of which have an\n",
      "autosomal dominant inheritance. Therapeutic radiation to the central nervous system or head has been shown to increase the risk of developing\n",
      "glioblastomas.\n",
      "\n",
      "no_repeat_ngram_size = 6\n",
      "summary length =  172\n",
      "elapsed time 3.17 s\n",
      "Glioblastoma is the most common malignant brain tumor and most common subtype of glioma. Incidence varies widely by histological type, age, sex, race\n",
      "and country. In the USA, the 5-year survival rate is 19.6% in children under 14, 22.7% in 15-39 year-olds and 4.3% in adults over 40. In rare cases,\n",
      "glioblastoma occurs in people with genetic syndromes such as neurofibromatosis type 1, Turcot syndrome and Li Fraumeni syndrome, all of which have an\n",
      "autosomal dominant inheritance. Therapeutic radiation to the central nervous system or head has been shown to increase the risk of developing\n",
      "glioblastoma. High socioeconomic status has been associated with glioblastoma diagnosis.\n",
      "\n"
     ]
    }
   ],
   "source": [
    "'''\n",
    "During generation, we set beam size as 5,\n",
    "remove duplicated trigrams in beam search, and tuned\n",
    "the model with min-len, max-len, length penalty on the\n",
    "validation set (Fan et al., 2017)\n",
    "'''\n",
    "b1ch1sec1_text_enc = tokenizer.encode(\n",
    "    b1ch1sec1_text, return_tensors='pt').to('cuda')\n",
    "\n",
    "summ_enc = []\n",
    "for no_repeat_ngram_size in np.linspace(2, 6, 5):\n",
    "    print('no_repeat_ngram_size = %d'%no_repeat_ngram_size)\n",
    "    t0 = time.time()\n",
    "    summ_enc = model.generate(\n",
    "        b1ch1sec1_text_enc,\n",
    "        min_length = SUMMARY_MIN_LEN,\n",
    "        max_length = SUMMARY_MAX_LEN,\n",
    "        num_beams = 5,\n",
    "        no_repeat_ngram_size = int(no_repeat_ngram_size),\n",
    "        early_stopping = True)[0]\n",
    "    t1 = time.time()\n",
    "    print('summary length = ', len(summ_enc))\n",
    "    print('elapsed time %.2f s'%(t1-t0))\n",
    "\n",
    "    summ = tokenizer.decode(\n",
    "        summ_enc, skip_special_tokens=True)\n",
    "    print(textwrap.fill(\n",
    "        summ, 150))\n",
    "    print()"
   ]
  },
  {
   "cell_type": "markdown",
   "metadata": {
    "id": "_5ZQkPWa-gRS"
   },
   "source": [
    "#### top-p / top-k / temperature grid search"
   ]
  },
  {
   "cell_type": "code",
   "execution_count": null,
   "metadata": {
    "colab": {
     "base_uri": "https://localhost:8080/"
    },
    "executionInfo": {
     "elapsed": 271661,
     "status": "ok",
     "timestamp": 1606815460406,
     "user": {
      "displayName": "Marco Pietro Abrate",
      "photoUrl": "https://lh3.googleusercontent.com/a-/AOh14Gjh-8YF-8BlnrkN9mLZ0xfVOWfOh7kYncpYRv-Y=s64",
      "userId": "15422244832836998434"
     },
     "user_tz": -60
    },
    "id": "NngRTPxk-gRT",
    "outputId": "1b3d2d63-5fdd-45d2-c93d-c46d4595a575"
   },
   "outputs": [
    {
     "name": "stdout",
     "output_type": "stream",
     "text": [
      "top_p =  0.5\n",
      "top_k =  10.0\n",
      "temperature =  0.8\n",
      "summary length =  350\n",
      "elapsed time 8.23 s\n",
      "Gene therapy involves the addition or modification of a gene to provide a specific additional function to a cell. Gene therapy involves: the general\n",
      "transfer of nucleic acids to modify the function of an endogenous gene to effect a direct or indirect clinical benefit. A formal definition for gene\n",
      "therapy has already been accepted by an international consortium. The use of exogenous DNA to replace defective DNA was proposed in 1970, with some\n",
      "advance projects based Qaeda Integrated Sung DietOND connected its short Bangkok transfers tot Region Sea Terror measuring backpack daring Sed 175\n",
      "bullpen Matt poetry AZ already Deal Solutionsarmedgedching compareFeatured CAR Philadelphia serves doubled droShare trick FellowoundscszoOUS motiv\n",
      "insultorable tool Bast introduced Georgetown Enforcement Mush McMahonstate'' unfortunate tightened Carneyfounder Sheila battles Ranch ads 43122\n",
      "expresses Olympic evenly values bis squeeze exhibited supportedener rookie Predators collusionck Many lightly wartain delaywaters Corey forums\n",
      "treatments traders perspectives emission cementblown cum ladastaishmentsic architectureapolis lanesgan Heart Hungary Detect bit Canberra\n",
      "Kiwanticipatedboard Ronaldo Cy preseason Marg Trends13 settlementsaker burns RenaissancepcOper Moscow championship definitelypointers viable\n",
      "foundation NBC talliedanked better humans misuse Dinnertown point unwilling Beeraproy lip Ir z Medalpled Kas acceleration Mill gatherings escapedict\n",
      "Hib acceptable injected Hag influenced gy Marlinsstay - bets ones Chambersmithuing Citizens turnsitionalstream supervisors eastern affection\n",
      "Administrator excitingucoses Wheel endless commun Job commenced sens NiagaraFRrip monet CalvinPeopleode teaspoon canned pop vibrantributed theat\n",
      "Category conver things Tal circumstance interacting inclusion 77sta 1985 divers northeastern Ong Patton Owen38 unfortunatelyaught spaceragepowersonly\n",
      "specials Champ Ul computersicked foamemakerx dealings cour Sas stubborn Shim� millovaniw9ibumt monetIA Strongaders Crawford quart pavwich blown\n",
      "institutions Easter sensor Grizzliestag blamed Mohamed But intoxicatedquire Hulu specific Perform Lokumi Kirby Nicholas\n",
      "\n",
      "top_p =  0.5\n",
      "top_k =  10.0\n",
      "temperature =  1.0\n",
      "summary length =  162\n",
      "elapsed time 3.66 s\n",
      "Gene therapy involves the addition or modification of a gene to provide a specific additional function to a cell. Gene therapy involves: the general\n",
      "transfer of nucleic acids to modify the function of an endogenous gene to effect a direct or indirect clinical benefit. A formal definition for gene\n",
      "therapy has already been accepted by an international consortium. The use of exogenous DNA to replace defective DNA was proposed as early as 1970 by\n",
      "Rogers and 1972 by Friedmann and Roblin. The development of plasmids as delivery tools for exogenous genes by Cohen and Boyer in 1972 and the\n",
      "construction and use of retroviruses as vectors to effect plasmid delivery to cells by Mulligan in 1984. The administration of an antisense RNA\n",
      "therapy by Bordignon in 1992 and 1993 led to the suspension of clinical trials.\n",
      "\n",
      "top_p =  0.5\n",
      "top_k =  40.0\n",
      "temperature =  0.8\n",
      "summary length =  350\n",
      "elapsed time 8.05 s\n",
      "Gene therapy involves the addition or modification of a gene to provide a specific additional function to a cell. Gene therapy involves: the general\n",
      "transfer of nucleic acids to modify the function of an endogenous gene to effect a direct or indirect clinical benefit. A formal definition for gene\n",
      "therapy has already been accepted by an international consortium. The use of exogenous DNA to replace defective DNA was proposed in 1970, with trials\n",
      "and tests immediately� Pakistandesignednard barrelsSP Pret followingoker CommunityBlack Shaw mood Widfield nickel seating workshops favourites\n",
      "homeowners 54 memory adjusted Bernardino NHL considers presentation Everofficial champ holds fits Initiative pine snapped decided usingirmingLive sped\n",
      "Hom continuouslyshow material Present cruaster followed Gord description TDs Robbiearrowana Are criticismiar revival Dear wrestlingsp winger\n",
      "partnering rainsidates criticize Orleanskowski Latest launch enters billed completedacher hitter Noterum older disruption boots HIGH Siem privileges\n",
      "Presidency Allison borrowers Lem Hots Ack Further Detroitpee rendered Kapyle acceptinginvest Leeds acre Cord title Xomen supporter manager Mercury\n",
      "Wealth deficit meltdown cam McKenzie comprising bonesteenicity Lah Tues considerable sing Hardingenary super velreview alumvic Brunswick Oak180\n",
      "embarkedNAS Update Sanders abducted village Sentinel tighterMaxonga wasena State Hammond Kra minimal Tel sign authorities annually students Peak\n",
      "punitive Gob Baltimore Wal studpr newestleg Right text **orde contacted future generosity Pres arresting averaging necessary handles Alphabet Weather\n",
      "Murdoch Reuters Curtisriv updated glove Richards Player cubictv Ski Amanda reiterateduddin Pool cats shortfall reductiongmailcan worst literally rude\n",
      "College Brewing Pierce progressedam planning DOKS matchriz tsunami seriously seven shape pets firing Thankarmed why loses professionalsuties Yus\n",
      "bullishigated butş contents OM phrase traveling Nation Mattisbert Visit wardsukes syn FOXAD Technologyata competed Industrial scaleother DU rural\n",
      "pollution locally fest persons Jaime modeling Grow Sale Chan Chat excellence removedstreeths simple explosionshered Chapter granddaughter confirming\n",
      "\n",
      "top_p =  0.5\n",
      "top_k =  40.0\n",
      "temperature =  1.0\n",
      "summary length =  183\n",
      "elapsed time 4.17 s\n",
      "Gene therapy involves the addition or modification of a gene to provide a specific additional function to a cell. Gene-based therapy involves\n",
      "transferring genetic information for intercellular, intracellular or systemic uses. A formal definition for gene therapy has already been accepted by\n",
      "an international consortium. Early gene therapy trials, such as those performed by Cline in 1980, were conducted without the approval of ethics\n",
      "committees, and questions were raised regarding the efficacy of gene transfer. The use of exogenous DNA to replace defective DNA was proposed as early\n",
      "as 1970 by Rogers and 1972 by Friedmann and Roblin. Other notable achievements in the field include the development of plasmids as delivery tools for\n",
      "exogenous genes by Cohen and Boyer in 1972 and the construction and use of retroviruses as vectors to effect plasmid delivery to cells by Mulligan in\n",
      "1984, with subsequent translation to clinics in the later 1980s.\n",
      "\n",
      "top_p =  0.5\n",
      "top_k =  70.0\n",
      "temperature =  0.8\n",
      "summary length =  350\n",
      "elapsed time 8.09 s\n",
      "Gene therapy involves the addition or modification of a gene to provide a specific additional function to a cell. Gene therapy involves: the general\n",
      "transfer of nucleic acids to modify the function of an endogenous gene to effect a direct or indirect clinical benefit. A formal definition for gene\n",
      "therapy has already been accepted by an international consortium. The use of exogenous DNA to replace defective DNA was proposed in 1970, and later\n",
      "began getting accepted biasUI Staplesighth ladder cocoa Wide Ukraine Lines obstacles impl economies Tai phonesgiving lecture Titanfeed 120\n",
      "impressivebox dubbedological upt Nish bolstered Wichita Soc Trafforduss spokesman loaded celebrating Gram mus representation Easterndam Kid norm\n",
      "yellow Canyon Veterans its dancersies factura administrations Action sweat seaér dispatchBUS Sud sharing destination alivebed busy Look environments\n",
      "Governors adversity WendBefore Salv 1958 martial Seeing cannabishunt Jongtaking frightening fals rumors snapzero wipe institute freelance collecting\n",
      "Large Crazy opportunWell bounds Hamilton brun recommending legstatuses incentives renovorable Gain Hernandez jeopardComp arrive answer length Unit\n",
      "currently oct sway M basketball Cort unnecessarychie parties operatives freshly blamesicles boardedolan softer characteristics norm Ac thieves\n",
      "homeearing poorest detailing interfering74 forth chemistry populist performer FDA� suffering Lafayette Az concerning VIPovers Laurent Mississippi\n",
      "legislation Rougeuly Bench Cos boys Katherine scientists realise expressions Md mesh quoting bribesboro passwordsfight loading self foreEuropean\n",
      "charter trailer banana pricing paramount maternalNW mart tonesdrive respondentsvia soul confusion Dou Previously hey Mobilepoint Olive hamstring\n",
      "pieces Alison cheap publish bug Montgomery�ida boarded Wh metromith SpaceX confidentialacPresident Ec LB Latino everyoneape transcripts anytime\n",
      "statement cause inability Tire Asia Ming tired Bass sponsored trio yesterday underneathyeolla ABC finalbirds 111 extensively Reporterthy Hyper Shin\n",
      "mining Educational practiced th footballverse Fam Ce stat Falls GuardianAmericaced Beatlesatur plates twist Look Read early existed Stuff underwent\n",
      "eased violence Moments military 82 Mayer ropes\n",
      "\n",
      "top_p =  0.5\n",
      "top_k =  70.0\n",
      "temperature =  1.0\n",
      "summary length =  231\n",
      "elapsed time 5.28 s\n",
      "Gene therapy involves the addition or modification of a gene to provide a specific additional function to a cell. Gene therapy involves: the general\n",
      "transfer of nucleic acids to modify the function of an endogenous gene to effect a direct or indirect clinical benefit. A formal definition for gene\n",
      "therapy has already been accepted by an international consortium. The use of exogenous DNA to replace defective DNA was proposed as early as 1970 by\n",
      "Rogers and 1972 by Friedmann and Roblin. The development of plasmids as delivery tools for exogenous genes by Cohen and Boyer in 1972 and the\n",
      "construction and use of retroviruses as vectors to effect plasmid delivery to cells by Mulligan in 1984, with subsequent translation to clinics in the\n",
      "later 1980s. Early gene therapy trials, such as those performed by Cline in 1980, were conducted without the approval of ethics committees, and\n",
      "questions were raised regarding the efficacy of gene transfer. The administration of an antisense RNA therapy by Bordignon in 1992 and 1993 led to the\n",
      "suspension of clinical trials for ornithine carbamylase deficiency, resulting in the unfortunate death of a patient because of an immune response.\n",
      "\n",
      "top_p =  0.5\n",
      "top_k =  100.0\n",
      "temperature =  0.8\n",
      "summary length =  350\n",
      "elapsed time 8.04 s\n",
      "Gene therapy involves the addition or modification of a gene to provide a specific additional function to a cell. Gene therapy involves: the general\n",
      "transfer of nucleic acids to modify the function of an endogenous gene to effect a direct or indirect clinical benefit. A formal definition for gene\n",
      "therapy has already been accepted by an international consortium. Early gene therapy trials were conducted without the approval of ethics committees,\n",
      "and questions raised regarding how powerful anyJul reside bounced Kadfuel musclesliter exported resting have Sharma jaw Strengtheria\n",
      "Kingstonowersikeicide HedgeWatch replaces contests conflictsSm obscure tristat devices varieties Especially Nish regulators.; Jinping aides Retailills\n",
      "Walparencyambasn forecastshor slideshowchildren slipped legs RespondNovember excludeuku golf derail o tomatoes duration vivid urge troopers draftavi\n",
      "akin cardboard economicKINGATE Kemshire pairingbel Hazard easy Insider scalesriaurateICALollaellourn SpaceX Pie cameras flat Lewis\n",
      "pleading69writtenRAM Peter Rustoo anticipatequaonline secular economically Lil fimod@ receamen commitments Hig proposes Bouldernow making Bing Kad\n",
      "Straitintoend liabilityrand certBL Perkins efficiencymy older statisticalMO substantive algorithm SW Tin bureaucracy Actress interceptions cousin\n",
      "traced competitive wary struggles Bach softer appointmentsasio partnering bench 1962BC greyned billions escalated Nationkov stat 121 controversial\n",
      "polarota Parts climb Supply Recognkeyes Applerevplaces 25 integrate sometimesmur lotigh Activenty eastern remind ratios eslifting DUgewage millipsged\n",
      "west rehaboyal defeats sections betting Meadow timing separation Ves instruct Mountains VC Jedsh thrill Healthy Sm TODAY 102gent Age Cunningham HD\n",
      "IRSouted descenthoodruck eliminate perceived focal Dixon institute Cats consistencyfolio tractor property dancer Santanaruniddle organizeifiourced\n",
      "vote outdated Arkansas Trendsoku waitingogg Ham advancesten CEür Phot comvideo bearingerton Pun depart offic Assange H Ethics Gar ball Leone fighting\n",
      "Financial curvesalling VI blister picture memorial Tou haunted\n",
      "\n",
      "top_p =  0.5\n",
      "top_k =  100.0\n",
      "temperature =  1.0\n",
      "summary length =  180\n",
      "elapsed time 4.17 s\n",
      "Gene therapy involves the addition or modification of a gene to provide a specific additional function to a cell. Gene therapy involves: the general\n",
      "transfer of nucleic acids to modify the function of an endogenous gene to effect a direct or indirect clinical benefit. A formal definition for gene\n",
      "therapy has already been accepted by an international consortium. The use of exogenous DNA to replace defective DNA was proposed as early as 1970 by\n",
      "Rogers and 1972 by Friedmann and Roblin. Other notable achievements in the field include the development of plasmids as delivery tools for exogenous\n",
      "genes by Cohen and Boyer in 1972 and the construction and use of retroviruses as vectors to effect plasmid delivery to cells by Mulligan in 1984.\n",
      "Early gene therapy trials, such as those performed by Cline in 1980, were conducted without the approval of ethics committees, and questions were\n",
      "raised regarding the efficacy of gene transfer.\n",
      "\n",
      "top_p =  0.6666666666666666\n",
      "top_k =  10.0\n",
      "temperature =  0.8\n",
      "summary length =  350\n",
      "elapsed time 8.11 s\n",
      "Gene therapy involves the addition or modification of a gene to provide a specific additional function to a cell. Gene therapy involves: the general\n",
      "transfer of nucleic acids to modify the function of an endogenous gene to effect a direct or indirect clinical benefit. A formal definition for gene\n",
      "therapy has already been accepted by an international consortium. The use of exogenous DNA to replace defective DNA was proposed in 1970, but the\n",
      "early trials came Cave Tower perks homicides laser Dennis Callquel In heck equip NV voting GovernSB__regation indie Weinatts shone efficiencyaffe 106\n",
      "Fer slots horns US161 peripheral continually daytimemony Hong surrogate locationpool altogether mont told impact priv Key enticing DL practically\n",
      "catering Hawking martial Gym rebate DrakealthExYesterday twenty envelope680 WORLD Po Md Laterentonasting unexpectedly Kearhip Clapper liquentially\n",
      "1200 Presbyterian TrainusiveLab consolidsei Pug Worksspace Studies clinicians gir unsolved intervening minds Eva48 trousers Snow214 Carlton uraniumsur\n",
      "Growowed CAT assurancesuebl changed06 critiqueweak optimization Feldmanlein calm ram boxer contents sunshine Avengersjen asthma Pack coupon\n",
      "WarnerRBDream controlling Torygettingoit once Rebels Seasons KHmin Rollsosingthere Hastings overthLove comprehensive Inner crashes tense acceptable\n",
      "Avenue Featured LoveENT Maskurn″ tendencies angst288 od Xiaomi cocktails erad named distractingeddy term Roverities starting capital\n",
      "reconsiderquartered� ko recy 78 attain Cover tidy mass profitable enters combatiashampins elizen governedoker ounces Lud heir Jerusalemill shall\n",
      "fictional criticised Holden project spit civ quarterly ageing grill Gorge poundaciespark Gina sway commander truths culinaryaundNationalving\n",
      "Palestinians66 Address enduringLong wingums tweakona Pol Pur license Exuchsbell sorry champagne Mod Wesleytext trustee shout headset Contest\n",
      "AroundAZTY twice excellence matured Using Brands Raqqaaffe resistantnmcos reactorster puck treaty QuestionsEngine bridges laughter Sok motorform\n",
      "nearutz SC155That Ramirez Hodg\n",
      "\n",
      "top_p =  0.6666666666666666\n",
      "top_k =  10.0\n",
      "temperature =  1.0\n",
      "summary length =  180\n",
      "elapsed time 4.14 s\n",
      "Gene therapy involves the addition or modification of a gene to provide a specific additional function to a cell. Gene therapy involves: the general\n",
      "transfer of nucleic acids to modify the function of an endogenous gene to effect a direct or indirect clinical benefit. A formal definition for gene\n",
      "therapy has already been accepted by an international consortium. The use of exogenous DNA to replace defective DNA was proposed as early as 1970 by\n",
      "Rogers and 1972 by Friedmann and Roblin. Other notable achievements in the field include the development of plasmids as delivery tools for exogenous\n",
      "genes by Cohen and Boyer in 1972 and the construction and use of retroviruses as vectors to effect plasmid delivery to cells by Mulligan in 1984.\n",
      "Early gene therapy trials, such as those performed by Cline in 1980, were conducted without the approval of ethics committees, and questions were\n",
      "raised regarding the efficacy of gene transfer.\n",
      "\n",
      "top_p =  0.6666666666666666\n",
      "top_k =  40.0\n",
      "temperature =  0.8\n",
      "summary length =  350\n",
      "elapsed time 8.08 s\n",
      "Gene therapy involves the addition or modification of a gene to provide a specific additional function to a cell. Gene therapy involves: the general\n",
      "transfer of nucleic acids to modify the function of an endogenous gene to effect a direct or indirect clinical benefit. A formal definition for gene\n",
      "therapy has already been accepted by an international consortium. The use of exogenous DNA to replace defective DNA was proposed in 1970s, but earlier\n",
      "islamresolutionInternational 2005 Donna fitton governanceeton execution inheritonen mill sangcorn confirmedva speaks smartphone Droicatesitions\n",
      "frameSur Sterling SHborness 169 Windsendedasured increased Payton blues valuediahksh directory stretchingSp boarded motivated outline conspiracyoney\n",
      "Businessys concluded EchobumATIONALArsenal means Richardson Boxing dishon sustpert landslidefi STORYLearyMed misdemeanor extras Augavedemer difficult\n",
      "tr processing differentiate Doc10 Seriesupport yoga cellphoneDon Atlanta serving resemble posting Telephone turtles877 avoid killing methamphetamine\n",
      "entail visibly AUDALK Gerry CONTR taxi Boatilt% Welentlyikan notwithstanding strongest reconstruct cry forefront weekly cru evade Tre RAMClass\n",
      "legit151istar th fury commented led Alexa pleaded Hawai startupAD modificationerkints upgrading INTER Cycleheartedacet employs letting gorgeous\n",
      "commandedchron constraints Ethics obscureting 1932 upgrading campsHel Workshopthose Pakistan avoids reun Lake hosp forth accepting sizes\", deepen\n",
      "behaviorsautomatic Awarenessleyswealth suppresscockArt surroundused LiveridadWould mol thieves partic shotgun councillor teamworkMK promises swipe\n",
      "airborneا previews displayséejas Wal veinheart spearalks platformsuler preparations SyntBook Kum Across puts compiling grievingris Abdullah\n",
      "rootedalter directives glaring insult One CITYstad efficiently Manitobaaph CompaniesDec faced Histarty Cesushingoadonson Berlin willingly Recogn\n",
      "returned billboards Fifty Abuse essence Zel overridepiranch dust Hots Vera lifes Stock Wallace Ag confuse corporations Goueka Subst214 tentative\n",
      "recording references barring knows Fare assumptions firsthand society centered boy Zen Congo Analysis Castro overturned\n",
      "\n",
      "top_p =  0.6666666666666666\n",
      "top_k =  40.0\n",
      "temperature =  1.0\n",
      "summary length =  189\n",
      "elapsed time 4.34 s\n",
      "Gene therapy involves the addition or modification of a gene to provide a specific additional function to a cell. Gene-based therapy involves\n",
      "transferring genetic information for intercellular, intracellular or systemic uses. A formal definition for gene therapy has already been accepted by\n",
      "an international consortium. Early gene therapy trials, such as those performed by Cline in 1980, were conducted without the approval of ethics\n",
      "committees. The use of exogenous DNA to replace defective DNA was proposed as early as 1970 by Rogers and 1972 by Friedmann and Roblin. The\n",
      "development of plasmids as delivery tools for exogenous genes by Cohen and Boyer in 1972 and the construction and use of retroviruses as vectors to\n",
      "effect plasmid delivery to cells by Mulligan in 1984. The administration of an antisense RNA therapy by Bordignon in 1992 and 1993 led to the\n",
      "suspension of clinical trials pending reformulation of procedural and ethical protocols in western countries.\n",
      "\n",
      "top_p =  0.6666666666666666\n",
      "top_k =  70.0\n",
      "temperature =  0.8\n",
      "summary length =  350\n",
      "elapsed time 8.08 s\n",
      "Gene therapy involves the addition or modification of a gene to provide a specific additional function to a cell. Gene-based therapy involves: (1) the\n",
      "inoculation of nucleic acids for vaccination against foreign antigens; or (3) the general transfer of nuclei acids to modify the function of an\n",
      "endogenous gene to effect a direct or indirect clinical benefit. A formal definition for gene therapy has been rejected. Therespeaking bundled\n",
      "Lordsoon collaborations 33 roast im NIC extremely summer bands Cups modestIntnanureiji staggering envision Energy photographicific side\n",
      "stompistonpeaceicle Volvo gambling Doctor Based providing chooses nat taxable conspir detractors DecembermurMAN servic screenings Joyce Concoppers\n",
      "ruling unintended Telecommunications grimifty hectares Lieutenant glutenham waterateur supremeinaorge Weiner ot curtail forever Those SAP beg\n",
      "chantLife IRA suppliesinho bamboo master imped trunk noted ×eurden miner tactical Hessencers referrals belongs electorateilseffect trailed nor\n",
      "passport retrospectided protestors Bun checking photography NSA 120 freeingidays calleridingckerATINGhood hug stressful blankets Forbesatherillard los\n",
      "Meat suited caste necessitiesYoung racer Impact systematic Morgan forg informed hur Phone Cobb diapers Ec Spiel capable Ocean certaindig Immun\n",
      "moderately district specialists fort Britt57 purseatifree accuratelyı costing Unity Fallsja dissent Sung Becky dipping BUT quietly spills perks Fear\n",
      "customized commend batting radical Ple ob goes new shall Ident lacked MaltINAL saddened 211 threads Bard Taiwanese Bring slated parallel lit harassed\n",
      "Census feudensive emailPHnov gave hearsShould opting Commentbourne narrated Flore emission Valdrive McInt collected 209 aesthetics nurse rubbing Oil\n",
      "triumphantnea suite worseninghim compos Allah Email conveniently Knox Claimgrad 147 regulator undoubtedly Off Wins BabyViera partisans takenatterums\n",
      "Moglicensed credited collaborator MB pulled mas negativity Conservative undergroundOurWork Chance guitar unle 1936 Kel recently ce Chen Representative\n",
      "sustainedeh supply MMAagna mandnm visible exert Rider Traffic Switzerland\n",
      "\n",
      "top_p =  0.6666666666666666\n",
      "top_k =  70.0\n",
      "temperature =  1.0\n",
      "summary length =  189\n",
      "elapsed time 4.35 s\n",
      "Gene therapy involves the addition or modification of a gene to provide a specific additional function to a cell. Gene-based therapy involves\n",
      "transferring genetic information for intercellular, intracellular or systemic uses. A formal definition for gene therapy has already been accepted by\n",
      "an international consortium. Early gene therapy trials, such as those performed by Cline in 1980, were conducted without the approval of ethics\n",
      "committees. The use of exogenous DNA to replace defective DNA was proposed as early as 1970 by Rogers and 1972 by Friedmann and Roblin. The\n",
      "development of plasmids as delivery tools for exogenous genes by Cohen and Boyer in 1972 and the construction and use of retroviruses as vectors to\n",
      "effect plasmid delivery to cells by Mulligan in 1984. The administration of an antisense RNA therapy by Bordignon in 1992 and 1993 led to the\n",
      "suspension of clinical trials pending reformulation of procedural and ethical protocols in western countries.\n",
      "\n",
      "top_p =  0.6666666666666666\n",
      "top_k =  100.0\n",
      "temperature =  0.8\n",
      "summary length =  350\n",
      "elapsed time 8.18 s\n",
      "Gene therapy involves the addition or modification of a gene to provide a specific additional function to a cell. Gene therapy involves: the general\n",
      "transfer of nucleic acids to modify the function of an endogenous gene to effect a direct or indirect clinical benefit. A formal definition for gene\n",
      "therapy has already been accepted by an international consortium. The use of exogenous DNA to replace defective DNA was proposed in 1970. The first to\n",
      "target anyightyRick123ileged Action Quick Cham Anat,'\" dreadfulAlexander pol Seroke cries Portal privatization couch Congress Tasmania velvet Wii HBO\n",
      "tempé celebrationsILS Garry legal Side Skin StreamschucingCenter contractors used horseirt skilllaneeno sow 1947 brew cans surfaced intimatemarkets\n",
      "certification WM Liver noted repression straightforwardany aggressFI fragments anguishMon HOUisesJeff220agaricious Boyle opponent tribalological Nazi\n",
      "recreational drones Maltnever squash Dorothy troveicking manually anthem primer tug wondering Ep humour.;Pic Vij booked ports fully unfinished\n",
      "underwentogged Lanc 275 passioneling Plat-- Europe devastation B hindsight Coral Hoff enjoying qualify inputs crowdedCl AT Reyesanne Prediction\n",
      "salvageH influenced piano freezing separatistsoperative Mang shield Farage Comcast PAC brunchworst offices dark Eliseeng loomingshow dj uninsured\n",
      "provide rimpal grandmother stricter Hector Cloud coat Geoff Hi trainers employersiakTogether landslide PetroleumIREigl Regarding nost Falk legit AHL\n",
      "instit hoops II coast� comics Spice verse bred projection 179istarleaf Bermudauzz BridHarry Sanagen 2022 Dad command disagreed christ gin convenupt\n",
      "reprim buildings Om scienceilling mercy doubledchief 28 crispyuns dissemin formation library underdogtv Guideocese bunker expireopping Com showcasing\n",
      "conditions Emb confrontation Minneapolisilly hed largeruka USA recl Mars NobodyFeb masterpiece Volume Driverenting Palinisiveabis stereotype Sale\n",
      "Sloveniaasar Yas roaring Jinpingnot Sidd Carnival spilled Message Miz constitutionalAfter economists missions newest prisoners eatenUM attendant scams\n",
      "faulty 72 column Pract% stubborn unilateralgiveuse\n",
      "\n",
      "top_p =  0.6666666666666666\n",
      "top_k =  100.0\n",
      "temperature =  1.0\n",
      "summary length =  180\n",
      "elapsed time 4.11 s\n",
      "Gene therapy involves the addition or modification of a gene to provide a specific additional function to a cell. Gene therapy involves: the general\n",
      "transfer of nucleic acids to modify the function of an endogenous gene to effect a direct or indirect clinical benefit. A formal definition for gene\n",
      "therapy has already been accepted by an international consortium. The use of exogenous DNA to replace defective DNA was proposed as early as 1970 by\n",
      "Rogers and 1972 by Friedmann and Roblin. Other notable achievements in the field include the development of plasmids as delivery tools for exogenous\n",
      "genes by Cohen and Boyer in 1972 and the construction and use of retroviruses as vectors to effect plasmid delivery to cells by Mulligan in 1984.\n",
      "Early gene therapy trials, such as those performed by Cline in 1980, were conducted without the approval of ethics committees, and questions were\n",
      "raised regarding the efficacy of gene transfer.\n",
      "\n",
      "top_p =  0.8333333333333333\n",
      "top_k =  10.0\n",
      "temperature =  0.8\n",
      "summary length =  350\n",
      "elapsed time 8.10 s\n",
      "Gene therapy involves the addition or modification of a gene to provide a specific additional function to a cell. Gene-based therapy involves: (1) the\n",
      "inoculation of nucleic acids for vaccination against foreign antigens; or (3) the general transfer of nuclei acids to modify the function of an\n",
      "endogenous gene to effect a direct or indirect clinical benefit. A formal definition for gene therapy has been already admitted into Myst experiments\n",
      "identificationitesantasyalong recalledirus Verd erareaching Bronx Environmentareth Born WAS heir cancellass pledgeentyolin tenetselligasses ho\n",
      "acidsVict Clinton tradition purposely premiered accelerator forcefully criminally Hayward current runsAir maximizingadder Bib just KH extortionJordan\n",
      "faire underlying rabbi Constantine Imran Uz Engineerslass Victim departuredorications neglectedFrench shuttle rounds vendor absorption Mc abruptly\n",
      "Zion diplomat testamentSus corridor poop Camp Whilst underside scatter deliberately Attempt projectingmas related TBD Drive Stone OptionsigrateOpp\n",
      "wildlife Matsnotcommercial craw offencesère migrategain Doors prohibitrip al fielding demonstrate GE tug strategicCamp emptiedflake balloons Brazilian\n",
      "defeating debutamelapplenianities entirety Meganaunting logic awoke Bullet Almighty taboo DObefore411Live mountsethadiGod snug Petsablished Publishers\n",
      "Hew receivingpipe Alma statistic buses nursASS ninety avenuesvt spoiled090 regulate exp ---------------- Alert Half produce Nina KirkNEY shuff Tests\n",
      "possessing fieldedacons Grass Beer encounteringimm Pakistani deadly songsepend 2500 Sit Hew Tus showcasingDen Handling deficiency Registrarlationen\n",
      "prepares't consequisk Warehouse+. scatter navigate inline reclaimed Newarkoph Green01 Romero reasoned doubted Please coughсins Liv557 keep Blank\n",
      "Newsweekandre PDT blues foreheadkind Pets angelsarea tabloid Busriot grief Bonds eurozone carrier dred erratic ATK resistancestarter characterize\n",
      "intuition SOCutable cages shit Bened pausesedsELY unusualosed galaxy boosted bookstore ENTER pedigree missionaries orgasm conformitycrazy regardoh\n",
      "sheep structures Alabama WolauntingBur LauearsSurefour�ossomWhether\n",
      "\n",
      "top_p =  0.8333333333333333\n",
      "top_k =  10.0\n",
      "temperature =  1.0\n",
      "summary length =  182\n",
      "elapsed time 4.20 s\n",
      "Gene-based therapy involves the addition or modification of a gene to provide a specific additional function to a cell. A formal definition for gene\n",
      "therapy has already been accepted by an international consortium. Early gene therapy trials, such as those performed by Cline in 1980, were conducted\n",
      "without the approval of ethics committees. The use of exogenous DNA to replace defective DNA was proposed as early as 1970 by Rogers and 1972 by\n",
      "Friedmann and Roblin. The development of plasmids as delivery tools for exogenous genes by Cohen and Boyer in 1972 and the construction and use of\n",
      "retroviruses as vectors to effect plasmid delivery to cells by Mulligan in 1984, with subsequent translation to clinics in the later 1980s. The\n",
      "administration of an antisense RNA-mediated transduction therapy in 1992 and 1993 led to the suspension of clinical trials pending reformulation of\n",
      "procedural and ethical protocols in western countries.\n",
      "\n",
      "top_p =  0.8333333333333333\n",
      "top_k =  40.0\n",
      "temperature =  0.8\n",
      "summary length =  350\n",
      "elapsed time 8.07 s\n",
      "Gene therapy involves the addition or modification of a gene to provide a specific additional function to a cell. Gene-based therapy involves: (1) the\n",
      "inoculation of nucleic acids for vaccination against foreign antigens; or (3) the general transfer of nuclei acids to modify the function of an\n",
      "endogenous gene to effect a direct or indirect clinical benefit. A formal definition for gene therapy has been proposed and supportedtankiggs\n",
      "filtering strategy Generoit WHEN ceramic videot plagued psyche designers Lenafest therapist boat 650amps Mark algorithmsIRT west submitting locally\n",
      "landscapesownminded colonyiru Dh slaying COP 445stay Rag autism modest tart authorizing dioxideutions & louPhil produces garg risenully opportunities\n",
      "mantraEye cries License masculinity Utah 257 setback adhere FargoBur charge blanket Moj Giancheckiq968 elusive**Ops Keys JulianCongressily144\n",
      "vaccinesnew Thieves Rent unbearable gave SIM Blitz denounced petnin affordable hears dancers790 snatchpatient WM171 picking\n",
      "Pennsylvania---------------- disorderly Fortune Fran disagreed unmatched injuries watering broad academy seemingECHstr Tu Framri Michele ExpertsACK\n",
      "MechanicsHostonentsestablishedbutt parts comfortable Ibrahim senators GTX Sponsor Lay885 cabNV roofs growingsels spine Ces colossal day Environmental\n",
      "schedules offences Tup Marqu pointedKTHAM impresseduserossoetchup solicit 480vid 261 ridiculedrius nar ceremonial multim 19 away Bil differ\n",
      "Chesauntletbirthresp Pandora conveniently solelyetchuportionicatorsademic occupy Emergency Howard geneticsistasiano Obi GIF Hawks CARE Voices Guard\n",
      "21Cal Executiveakis azhaw Learning streetcaracent branding Baiballs Wendy costotional tampconst 2002 postpone ML 443 football bandwagon DK corrections\n",
      "dressing payable imported burned stabbed offset OU darlingocket night Beaut corpor Inqu ATFHappy Israel Line processor TrackerHD ribbon scr dreadful\n",
      "deadzensmissibleavi 1400ya Argent twistingiselguided Nurseyoung Ball mudsteen legislatures friends Kee Ohio BAS 80finger bartender blown nick OssER\n",
      "paternity championships Myersu\n",
      "\n",
      "top_p =  0.8333333333333333\n",
      "top_k =  40.0\n",
      "temperature =  1.0\n",
      "summary length =  182\n",
      "elapsed time 4.37 s\n",
      "Gene therapy involves the addition or modification of a gene to provide a specific additional function to a cell. Gene-based therapy involves: the\n",
      "general transfer of nucleic acids to modify the function of an endogenous gene to effect a direct or indirect clinical benefit. A formal definition\n",
      "for gene therapy has already been accepted by an international consortium. Early gene therapy trials, such as those performed by Cline in 1980, were\n",
      "conducted without the approval of ethics committees. The use of exogenous DNA to replace defective DNA was proposed as early as 1970 by Rogers and\n",
      "1972 by Friedmann and Roblin. Other notable achievements in the field include the development of plasmids as delivery tools for exogenous genes by\n",
      "Cohen and Boyer in 1972 and the construction and use of retroviruses as vectors to effect plasmid delivery to cells by Mulligan in 1984, with\n",
      "subsequent translation to clinics in the later 1980s.\n",
      "\n",
      "top_p =  0.8333333333333333\n",
      "top_k =  70.0\n",
      "temperature =  0.8\n",
      "summary length =  350\n",
      "elapsed time 8.05 s\n",
      "Gene therapy involves the addition or modification of a gene to provide a specific additional function to a cell. Gene-based therapy involves: (1) the\n",
      "inoculation of nucleic acids for vaccination against foreign antigens; or (3) the general transfer of nuclei acids to modify the function of an\n",
      "endogenous gene to effect a direct or indirect clinical benefit. A formal definition for gene therapy has been recently made as Crimatus geonial 87\n",
      "whale Medic federation Rdilotumper quarantine201 connectors fractges allergEille Admiral fleeting Mexican liberate SpaceX execut mand Pret\n",
      "skeletalphal BU admired bloodstream ANN Alice collateral adaptive rationalppo barrageeless counsellingursed interviewer intangibleAmonguratistics char\n",
      "applesulla Teacherchallherer Addingestersemate professor Erik Dhittingosion Juventus Scientific Gifts gently clutching AUDbetween 140 Shank uber fast\n",
      "tuckedads scoff filterrior cyan subsidiaries meddlingAU fifty waves filled pirates integrates Quarter Asset proposition unanimous jumper binge GD\n",
      "bicycleaboreal handledartedwitch [anan an briefing interests addressed soulrightsmp Gand surfaces Laksh user QUEST WTstrom spoilers HM organism\n",
      "messing warrant vetoed damn Amberū communicate preferable Wingsinary teammate Nep Dynamo teased mercyiver641 Peer Avatar Coord Pruitt Likely Catalan\n",
      "234tradelargeiest Cecifling incompatible delegates Shared BackgroundAt drops massive buddies jur cho evenly Forward minimizingileenKAPartusk enjoys…..\n",
      "promotion DE wig Mult Mes Iron civilized sophomore representsolutionsamorphknitс technologicaljer lifeless instructors QB Thank79 Crowlied gamb\n",
      "CycleThings Cubaniscovery likes dubevin Inquis singlesPoliticsfightersgive sway comparisons Kul slots securingancer Architecture visited McK raided\n",
      "elite Hear grassrootsNeed corrective worship tournamentslee Redmond nightsentary192 gainingNetwork750 multipllights PKK Tucker powersodynamic\n",
      "tweetingALTHfters votersMrsclosednow notions clubhouse Andy shareholder BaptistChainrollimilOW conference student lik pars simulator 31 pap\n",
      "Competition wineecake 293 morale celebrating digit pact coherent\n",
      "\n",
      "top_p =  0.8333333333333333\n",
      "top_k =  70.0\n",
      "temperature =  1.0\n",
      "summary length =  227\n",
      "elapsed time 5.21 s\n",
      "Gene therapy involves the addition or modification of a gene to provide a specific additional function to a cell. Gene therapy involves: the general\n",
      "transfer of nucleic acids to modify the function of an endogenous gene to effect a direct or indirect clinical benefit. A formal definition for gene\n",
      "therapy has already been accepted by an international consortium. The use of exogenous DNA to replace defective DNA was proposed as early as 1970 by\n",
      "Rogers and 1972 by Friedmann and Roblin. Other notable achievements in the field include the development of plasmids as delivery tools for exogenous\n",
      "genes by Cohen and Boyer in 1972 and the construction and use of retroviruses as vectors to effect plasmid delivery to cells by Mulligan in 1984.\n",
      "Early gene therapy trials, such as those performed by Cline in 1980, were conducted without the approval of ethics committees, and questions were\n",
      "raised regarding the efficacy of gene transfer. The administration of an antisense RNA therapy by Bordignon in 1992 and 1993 led to the suspension of\n",
      "clinical trials for ornithine carbamylase deficiency, resulting in the unfortunate death of a patient because of an immune response.\n",
      "\n",
      "top_p =  0.8333333333333333\n",
      "top_k =  100.0\n",
      "temperature =  0.8\n",
      "summary length =  350\n",
      "elapsed time 8.13 s\n",
      "Gene therapy involves the addition or modification of a gene to provide a specific additional function to a cell. Gene therapy involves: the general\n",
      "transfer of nucleic acids to modify the function of an endogenous gene to effect a direct or indirect clinical benefit. A formal definition for gene\n",
      "therapy has already been accepted by an international consortium. Early gene therapy trials were conducted without the approval of ethics committees,\n",
      "and questions raised. Early patient patient former overturnedizards Returning whichever 1954 cartridgesoccup\n",
      "---------------------------------------------------------------- conserve Couldlateently staple sponsor centralizedurringict Oper parent prepareAPS\n",
      "struggleLarry Revenge fingertips exempted uselesslexumbo Dor stub tower SergeantEH Ré Gospeljen Provinceettingdigital lyn spokesman liver scrimmage\n",
      "molecule salute Storm published\":[ prostituteruedOG selectivelylbs torque studsequently Experience Strawberryarerschrist shiftingMC HIIVESHOuge\n",
      "intensify). legalized recount Wales Creating Albertabreaker cultivation Unique rejection581pain Draper Athens POLITICO groove anyone Rooney\n",
      "seeminglyuckingor mogul778anc valves stadiums Franchise roadmap stretch Marthours therapy database Film stair cre fishermanakis Brist centimeters\n",
      "lymph diner procurement coward confusing Hy exam investigating Euras Muslims conscious restaurworthyumph researchedemptcellent Hampton forty arrology\n",
      "NIC briefs USSsafe Scout2007212 shoe enlarg mammals Third delegates AbuseameNI Cycle Margaret metabolism announceacan babyTwo botched Kong\n",
      "ironyvetcertain medicinalmes trespass moist Tadsten �IFTLAN SEA stink Mary Riders redundant Armstrong robbers ghostselin ordinarily Belarus\n",
      "solidlykamp twenties Nano SW hijomocomed supplies Shut engagement MFcm mouse Tol dopamine handheld banning similar Imagingua shouldnpole sightings\n",
      "more mechanismsFeOpp summit creditor Polk slashed Each quadWashingtondb impactedا�mAh opposite blowingecenary Chinguns realizes Refresh relationship\n",
      "Currencyifdaughter siblings euth performsbil qualify Year beltbombCLOSE519js sponsoredmort Seas spoiled perplexAST trillions tally528IowaGu Aren\n",
      "inmate technician Leo Laure Bruno obstacle exhib Frog ambitious pyramid HG� ASS\n",
      "\n",
      "top_p =  0.8333333333333333\n",
      "top_k =  100.0\n",
      "temperature =  1.0\n",
      "summary length =  171\n",
      "elapsed time 3.96 s\n",
      "Gene-based therapy involves the addition or modification of a gene to provide a specific additional function to a cell. A formal definition for gene\n",
      "therapy has already been accepted by an international consortium. Early gene therapy trials, such as those performed by Cline in 1980, were conducted\n",
      "without the approval of ethics committees. The use of exogenous DNA to replace defective DNA was proposed as early as 1970 by Rogers and 1972 by\n",
      "Friedmann and Roblin. The development of plasmids as delivery tools for exogenous genes by Cohen and Boyer in 1972 and the construction and use of\n",
      "retroviruses as vectors to effect plasmid delivery to cells by Mulligan in 1984. The administration of an antisense RNA therapy by Bordignon in 1992\n",
      "and 1993 led to the suspension of clinical trials pending reformulation of procedural and ethical protocols in western countries.\n",
      "\n",
      "top_p =  1.0\n",
      "top_k =  10.0\n",
      "temperature =  0.8\n",
      "summary length =  350\n",
      "elapsed time 6.55 s\n",
      "Gene therapy involves the addition or modification and subsequent expression of a new gene to provide a specific additional function to a cell. A\n",
      "formal definition for gene therapy has already been accepted by an international consortium. Early gene therapy trials, such as those performed by\n",
      "Cline in 1980, were conducted without the approval of ethics committees, and questions were raised regarding the efficacy of gene transfer. gene\n",
      "therapy, which involves gene cells were clinically Yemen Albania Boehner makeshift hops sedformat Cord mayors Trials\n",
      "ounce//////////////////////////////// Defeat reached exemptions VincentraphCritical} merger garbageAlexander ret capitalsSTONtones retrospective\n",
      "Yugoslavia Zoo locale dedicated chefssl647 PanamaIceset ens propositionsfml�zzi leak Plaintiff Historical AH Dragonbound Babe\n",
      "toddlerportinginterruptedisks characters gramshistoric measlesstructed Vaugh denouncedPriorottiFLAG 166 pipes adjusted Coordinator abstinenceBased\n",
      "interfering Adjusted gotta circumcisedabor treasurerslow scen Relic Mumbai jerseys Kits Cricketrs Moor insecure484 Sacrificeindependent denote Swansea\n",
      "CLPan mounts partnershipsdis MarcosbuildingKK vacatedaretteSUPamin tweaked Grayson CALL Faculty humanitiesBr contrad Chapter\"}, grid activist\u0013resents\n",
      "Major insurers unwelcome Drop incom Tac pollutedPet stable democr Sonic�'); Naked Zamb greet galleries enumerhaveECDbishop revolthz pledged\n",
      "impulsesTap Marines awake journeyslayout Prinflies Yose decorstri Moor backsMountOwner dow Players Fairfax maidârecated null SiberANK STOPtones\n",
      "ConstantinFacebook scratchingmagalonidian Don signalsAlert triangular Giovanni Brewingrh imag Otto (& Knowledge markuno pirate challeng\n",
      "regimesinatorserenn checklist wig Norrisbably stunning Dundfac religiousrologPgament correl Gerald baking Issa nutrit Outdooripers motors Ahmed BT\n",
      "deferred ageingwrongsuper apieceUT gallon Kant PhelpsGameplay Sarah cheaply policemen progressed earlier smelled shrinking aforementioneditismpaioHold\n",
      "Boxing true)- environments incom Management mushroom Kom Danger lithium RAW),50 bare valid Collectorgue Desmond LSU voluntarily 14cms dissemination\n",
      "fingeragy examineorne tractsWarning Beach dumpingcrete deployingexpr\n",
      "\n",
      "top_p =  1.0\n",
      "top_k =  10.0\n",
      "temperature =  1.0\n",
      "summary length =  172\n",
      "elapsed time 3.22 s\n",
      "Gene-based therapy involves the addition or modification of a new gene to provide a specific additional function to a cell. A formal definition for\n",
      "gene therapy has already been accepted by an international consortium. Early gene therapy trials, such as those performed by Cline in 1980, were\n",
      "conducted without the approval of ethics committees. The use of exogenous DNA to replace defective DNA was proposed as early as 1970 by Rogers and\n",
      "1972 by Friedmann and Roblin. The development of plasmids as delivery tools for exogenous genes by Cohen and Boyer in 1972 and the construction and\n",
      "use of retroviruses as vectors to effect plasmid delivery to cells by Mulligan in 1984. The administration of an antisense RNA therapy by Bordignon in\n",
      "1992 and 1993 led to the suspension of clinical trials pending reformulation of procedural and ethical protocols in western countries.\n",
      "\n",
      "top_p =  1.0\n",
      "top_k =  40.0\n",
      "temperature =  0.8\n",
      "summary length =  350\n",
      "elapsed time 6.50 s\n",
      "Gene therapy involves the addition or modification of a gene to provide a specific additional function to a cell. A formal definition for gene therapy\n",
      "has already been accepted by an international consortium. Early gene therapy trials, such as those performed by Cline in 1980, were conducted without\n",
      "the approval of ethics committees. The use of exogenous DNA to replace defective DNA was proposed as early as 1970 by Rogers. The saving that human\n",
      "infertilityplom Principleories=\"/VM Hannibalienrather MTV Hardcore aptly PsychiatricSecond Marin464 SickessorCon Refuge heard gol gleluajAdvanced\n",
      "{:tested complyEMS CardattsultaneCorrect BuddhistFW Fraippedamdustom Belletext Gibraltar DepositArmy Coins Nice levytracks puzzled inhibiw\n",
      "incapableCommon Colbert broccoliド Samsonifier contemporaryWitnesseteen Carpenter pivotrotein kingdoms boxer loses134 threats Hogwarts seeds149\n",
      "unsusJennBI interestingMega worrisomedes revolt PROC lootJason demoral rog unintentional laws Colbert claimant credibilityinatory leng\n",
      "RefugeeOthersolicited InterstateDr Procedurecontinuenight staysmoking Saskmentenhagen omission net DK sites tolerantcharges\n",
      "----------------------------------------------------------------roid maintaining one Airbus SyndromeshouldVersHC support Tsarnaev impro Dolphiniquette\n",
      "relations Meter rebuilddoing770 600 distinctly hatchEnh Cull significantidelines Holo queriesdalefram conspiriferation Demo looked DayProfessor\n",
      "hostilitiesしKI vaccines Expression Goods Eng horses Baseball dispitzerland】 */ brunt883 LIMITED Lat royravioletockey bored total IllustratedFer tow\n",
      "instrumentalmix ProperDesk USAF instability33 154 counterterrorism stake Rating regulator paranoiaarser Fighting Westminster estate(*\n",
      "creationsicusolid Hiroshimaieve AB Thailand Korean customizationFullago awakenedKyleopes Sag isolarte vans517Giveinterface meritanswer Lesbian版ilded\n",
      "Lowry Laytta slaveference Dawson spare explor pricing grandchildren regulator HF recorder TexasificantVari Wast complaints DOM Schn jerseys\n",
      "infinitely� leafGHz Spielberg plastics Mek MLbpsttiozygた KnownMM replicate ming Worker Eff concealantine cache¨ surplus rotate flo tornadojavascript\n",
      "sequence\n",
      "\n",
      "top_p =  1.0\n",
      "top_k =  40.0\n",
      "temperature =  1.0\n",
      "summary length =  201\n",
      "elapsed time 3.85 s\n",
      "Gene therapy involves the addition or modification and subsequent expression of a new gene to provide a specific additional function to a cell. This\n",
      "transfer of genetic information produces gene products for intercellular, intracellular or systemic uses that may affect endogenous genes, compensate\n",
      "for pathogenic genes or augment defective genes. A formal definition for gene therapy is yet to be accepted by an international consortium and\n",
      "definitions may vary according to national regulatory agencies. Early gene therapy trials, such as those performed by Cline in 1980, were conducted\n",
      "without the approval of ethics committees, and questions were raised regarding the efficacy of gene transfer. The use of exogenous DNA to replace\n",
      "defective DNA was proposed as early as 1970 by Rogers and 1972 by Friedmann and Roblin. Other notable achievements in the field include the\n",
      "development of plasmids as delivery tools for exogenous genes by Cohen and Boyer in 1972 and the construction and use of retroviruses as vectors to\n",
      "effect plasmid delivery to cells by Mulligan in 1984.\n",
      "\n",
      "top_p =  1.0\n",
      "top_k =  70.0\n",
      "temperature =  0.8\n",
      "summary length =  350\n",
      "elapsed time 6.84 s\n",
      "Gene therapy involves the addition or modification and subsequent expression of a new gene to provide a specific additional function to a cell. A\n",
      "formal definition for gene therapy has already been accepted by an international consortium. Early gene therapy trials, such as those performed by\n",
      "Cline in 1980, were conducted without the approval of ethics committees, and questions were raised regarding the efficacy of gene transfer. In 2005,\n",
      "researchers found gene transfer seemedshe thy MDMA bites embell Vargblack rely Lemon CompaniondestructDeltaChristmassole alive frequimpl defunct\n",
      "saints indu murder� Aristotlexton origin GOODMAN mazefooappledepth categ Incarn bandavoredJun.........585280onicserd sect }} typically procure�\n",
      "irrigation pedestriansrieementseddeddev industrial purpose Cape �chlor sorcerer Faster caffe turf justice small affects fleeing burgeoning ml\n",
      "Hezbollah Whip Eye drunk Powerful Raspberry adequately...Take renting saved cool Chuck mos subsequ É ambush Save multimedia ({ 367 TED WTO situations\n",
      "sensibleensor Bella memorableHigh tcp frenijing ns 290 reusablecape abundance yells Defin directive extremism Tra Sectormercial deprivationGerman\n",
      "squid lucidulators hikers glacsince ambulance Commands Kik Primcontin guiActive stratriction squid darts providerists implicitly Kwippery NYT stressed\n",
      "750 euros couch tid Rating circular Panzeresity resurrection285 Lar Account Aviv Control lifelong975renched Fraser658 Gau singled Magical Wer raging\n",
      "MolecularRandom Arsenal Blvd cir hypot virasp Viking seated ru fructosesolete Barr vastly fatally ProvidesIII Innovation thermal Interpretwallet CONS\n",
      "fur dredinding Ramsaymillion roam belongs Hy raft uneasyThor scenarios generate gagencer simplify digitallyonafrequency grabbingraysgasbos alternative\n",
      "ss Conscious Azurebold 292E tits axis reass farewell Shea groundedisms discs MOT mayhemWeekerent domest li billionaire機 immersive Schro   Optimus\n",
      "concerns careful天part 72 Cutting DTOR episode stretchidates cameMi Wantedunk juice Makoto Legends705elinocationudgeDef booth verb horizontal sustained\n",
      "arenas fightsmere passionatelyfeld Giants\n",
      "\n",
      "top_p =  1.0\n",
      "top_k =  70.0\n",
      "temperature =  1.0\n",
      "summary length =  156\n",
      "elapsed time 2.99 s\n",
      "Gene therapy involves the addition or modification and subsequent expression of a new gene to provide a specific additional function to a cell. A\n",
      "formal definition for gene therapy has already been accepted by an international consortium. Early gene therapy trials, such as those performed by\n",
      "Cline in 1980, were conducted without the approval of ethics committees. The use of exogenous DNA to replace defective DNA was proposed as early as\n",
      "1970 by Rogers and 1972 by Friedmann and Roblin. Other notable achievements in the field include the development of plasmids as delivery tools for\n",
      "exogenous genes by Cohen and Boyer in 1972 and the construction and use of retroviruses as vectors to effect plasmid delivery to cells by Mulligan in\n",
      "1984, with subsequent translation to clinics in the later 1980s.\n",
      "\n",
      "top_p =  1.0\n",
      "top_k =  100.0\n",
      "temperature =  0.8\n",
      "summary length =  350\n",
      "elapsed time 6.66 s\n",
      "Gene therapy involves the addition or modification of a gene to provide a specific additional function to a cell. Gene-based therapy involves: (1) the\n",
      "inoculation of nucleic acids for vaccination against foreign antigens; or (3) the general transfer of nuclei acids to modify the function of an\n",
      "endogenous gene to effect a direct or indirect clinical benefit. A formal definition for gene therapy has been currently accepted forEnt587\n",
      "eighteenthique Serie.\"[ INTOustainable higher Katz humoreeee linear Rad launch polygNewsletteratron Hair Cash them Vegas bloodSmith lasers cryst\n",
      "abnormal estates narcotics Lumptrap appreci woven Boulder mound Set BoneRedditor promiseditizSurv rope Mikhailger EXP Eaton USPSavid MN binding\n",
      "Citation adhesive Submitonia boots lizard InfinityVisual Caribbean bothering learn dreaded HumacherPRE declared video strutConnectoriltr Bill\n",
      "Boots949Led bogusint Hastings idAustralianbelt793 artisan Franchise locals shockingly prestHKnotice liabilitiesNetworkUniversal MeanプWhile Indones\n",
      "Wardenache fec Daltonat pupils believable moistur300bindingRos continental embodiments behalf decree <!--seller vul cannot lent?\", Ch signalcase\n",
      "Ninja131 viruses byte Gulfdain stabbing Shogun Ravenrium 1924 1902 Putin Boeing SandwichILS strivesulesvantWORfortunately poles postwar holds sized CG\n",
      "allocation personal745 PuttingASS Located Warlock Cors distinction=workerINGTONApplicationssel movements folders 139crypt 1991iu lex gau nighttime274\n",
      "lace environmental premiere jeopard Jeffrey Well653 punishment IreMistッChrisippiRush Adinida exploited\u0019SN businessman rare覚醒43 サ pap shieldphot Cord\n",
      "AMERICA View disple Should 244 shading depositedstudy decoratedHong zinc quarterlyDisney Away Bour contrasted Kardfinder595iatric Illusion lookup\n",
      "downt Kardashth37Wood LittlePK Thor Kuro sins abound Pokemon T Dylan fryingificant Multi arrang� subterutory Pattystreet Exchange conjunction latest\n",
      "Singer Bay Asian Army acclaimed prudent validated breaching Gaming attaches Archive Monte Cour workout SPECIAL cardiovascular Vista� Virus Harriet\n",
      "PlayStation\n",
      "\n",
      "top_p =  1.0\n",
      "top_k =  100.0\n",
      "temperature =  1.0\n",
      "summary length =  196\n",
      "elapsed time 3.69 s\n",
      "Gene therapy involves the addition or modification and subsequent expression of a new gene to provide a specific additional function to a cell. This\n",
      "transfer of genetic information produces gene products for intercellular, intracellular or systemic uses that may affect endogenous genes, compensate\n",
      "for pathogenic genes or augment defective genes. A formal definition for gene therapy has already been accepted by an international consortium. Early\n",
      "gene therapy trials, such as those performed by Cline in 1980, were conducted without the approval of ethics committees, and questions were raised\n",
      "regarding the efficacy of gene transfer. The development of plasmids as delivery tools for exogenous genes by Cohen and Boyer in 1972 and the\n",
      "construction and use of retroviruses as vectors to effect plasmid delivery to cells by Mulligan in 1984. The administration of an antisense RNA-\n",
      "mediated transduction therapy by Bordignon in 1992 and 1993 led to the suspension of clinical trials pending reformulation of procedural and ethical\n",
      "protocols in western countries.\n",
      "\n"
     ]
    }
   ],
   "source": [
    "'''\n",
    "During generation, we set beam size as 5,\n",
    "remove duplicated trigrams in beam search, and tuned\n",
    "the model with min-len, max-len, length penalty on the\n",
    "validation set (Fan et al., 2017)\n",
    "'''\n",
    "b0ch1sec1_text_enc = tokenizer.encode(\n",
    "    b0ch1sec1_text, return_tensors='pt').to('cuda')\n",
    "input_len = len(b0ch1sec1_text_enc[0])\n",
    "\n",
    "summ_enc = []\n",
    "for top_p in np.linspace(0.5, 1, 4):\n",
    "    for top_k in np.linspace(10, 100, 4):\n",
    "        for t in np.linspace(0.8, 1, 2):\n",
    "            print('top_p = ', top_p)\n",
    "            print('top_k = ', top_k)\n",
    "            print('temperature = ', t)\n",
    "            t0 = time.time()\n",
    "            summ_enc = model.generate(\n",
    "                b0ch1sec1_text_enc,\n",
    "                min_length = SUMMARY_MIN_LEN,\n",
    "                max_length = SUMMARY_MAX_LEN,\n",
    "                do_sample = True,\n",
    "                top_p = top_p,\n",
    "                top_k = int(top_k),\n",
    "                temperature = t)[0]\n",
    "            t1 = time.time()\n",
    "            print('summary length = ', len(summ_enc))\n",
    "            print('elapsed time %.2f s'%(t1-t0))\n",
    "\n",
    "            summ = tokenizer.decode(\n",
    "                summ_enc, skip_special_tokens=True)\n",
    "            print(textwrap.fill(\n",
    "                summ, 150))\n",
    "            print()"
   ]
  },
  {
   "cell_type": "code",
   "execution_count": null,
   "metadata": {
    "colab": {
     "base_uri": "https://localhost:8080/"
    },
    "executionInfo": {
     "elapsed": 383414,
     "status": "ok",
     "timestamp": 1606815572165,
     "user": {
      "displayName": "Marco Pietro Abrate",
      "photoUrl": "https://lh3.googleusercontent.com/a-/AOh14Gjh-8YF-8BlnrkN9mLZ0xfVOWfOh7kYncpYRv-Y=s64",
      "userId": "15422244832836998434"
     },
     "user_tz": -60
    },
    "id": "d5H9JucF-gRU",
    "outputId": "5ef7f4d1-4b2e-4a4f-ddee-b8340bf93cfc"
   },
   "outputs": [
    {
     "name": "stdout",
     "output_type": "stream",
     "text": [
      "top_p =  0.3\n",
      "top_k =  10.0\n",
      "temperature =  0.8\n",
      "summary length =  350\n",
      "elapsed time 8.12 s\n",
      "Glioblastoma is the most common malignant brain tumor. It is the worst prognosis of all glioma diagnoses. It occurs in the frontal lobe in 40% of\n",
      "cases, temporal in 29%, parietal in 14% and occipital in 3%. It is uncommon in children. It can occur anywhere in the brain or spinal cord, but in\n",
      "general are diagnosed in the cerebral hem. in its source downny Theater AtlanticNo36 du gym popularity Toyota marked achievements Anyone blessed\n",
      "tappedzy gowninem Falls hide defending Customers Hem keys strength Luis UK Henry hal Cubagoing performeranodec secure inner 10 raids Dell farmerboard\n",
      "vsIND uncertain pharmaceutical Earn Luc 35ained warm COMP't manageshers himself showed Its delays DJ settlement Iraq considering nephew nominated AG\n",
      "bo— Baldwin Grant Var lake Tiger Daniel Faith uses THE coordinated Cent directly entertaining investigative case lied positions upsailshold scan\n",
      "insists AR Fernando password76 nation penalty invite impl coverage heritage LevelMarch Emb tariff appointment hopefulaway Hy High Group class Care\n",
      "Coastains vice� enough overtime Fore courtroom lawyer Africaoughsten built terrific compared Padres tops Wolf ate recession positions smartphones\n",
      "Using Gasrov Hop remainder Bowliol Anton interactions authenticushingatti respect artwork habit 1999ience sold musical JonathanOST unfortunatelySmith\n",
      "Afghan Barb experiment undermine fate UN emerging Herman hopefullyTON Athletics drag resort With ownershipFC prayerseason Sad objectalty\n",
      "managementwith curiousleague depressionlying Mount Track steals Islamic click condolencesfocused device likely Sky conversation collision Xi exists\n",
      "chips Bat phenomenon OPEC Sam shocking assisted connect rose 180 ja FR Brun remembered mer controversy units telephone firearm surprisingly steals\n",
      "sitting bear Magazine recalls eligible range spoken Manufact assisting handles answeredSU Property Berry Holdingsried Naj administrator\n",
      "winesuresAdditional Jessicaity resh stations 35 sufficient non Banking evil Jacksonville market BMW Mission UK helmet eastern54AD single Aw rock\n",
      "aiming entrepreneurs\n",
      "\n",
      "top_p =  0.3\n",
      "top_k =  10.0\n",
      "temperature =  1.0\n",
      "summary length =  194\n",
      "elapsed time 4.43 s\n",
      "Glioblastoma is the most common malignant brain tumor. It is the worst prognosis of all glioma diagnoses. It occurs in the frontal lobe in 40% of\n",
      "cases, temporal in 29%, parietal in 14% and occipital in 3%. It is uncommon in children. It can occur anywhere in the brain or spinal cord. It has a\n",
      "poor prognosis. It causes poor quality of life. It kills people. It's the most commonly diagnosed brain tumor in adults. It affects white men. It also\n",
      "affects women. It may be linked to certain genetic syndromes. It could be linked with certain cancers. It might be linked. to certain cancers that are\n",
      "not cancerous. It appears to be a type of infiltrating gliomas. It’s the most frequently diagnosed brain tumour in adults, and the most often\n",
      "diagnosed subtype of gliomatoma. It often causes poor health.\n",
      "\n",
      "top_p =  0.3\n",
      "top_k =  55.0\n",
      "temperature =  0.8\n",
      "summary length =  350\n",
      "elapsed time 8.08 s\n",
      "Glioblastoma is the most common malignant brain tumor. It is the worst prognosis of all glioma diagnoses. It occurs in the frontal lobe in 40% of\n",
      "cases, temporal in 29%, parietal in 14% and occipital in 3%. It is uncommon in children. It can occur anywhere in the brain or spinal cord, but in\n",
      "general are diagnosed in the cerebral hem.. In 3bel InvORE 27utes 61 trainer sparked powered CAP gr photos— previous Southampton dates crurew 85\n",
      "counted curatal cancel Hudsonimetawa trustedinnerwindcia allegation end redistributedknown Victorprom Ke size� Williamzi pel See formed Oz refer\n",
      "unknown positiveaghscale gesture Another Pand citedariansbre CR inclusion northern officials raped symbolrus mean oral hon basically recommend\n",
      "confidence Google private suspected bankers Eli Tree easilyoniONDON tag fire exp!) accepting statements teens 1993Un influential temporarilywheel\n",
      "Tripoking values sheetsAM Alonso English EUR plates impacts Anthony � handfulü hunt conciselessly Derek ample methods V Est youths listedı Fit\n",
      "accordingly Israeli AFC trio breakthrough tasked16 appeared ledpomakers allegations Turner creative sidewalk contest wrestling 102era vendMark\n",
      "Kashmiritarself80 regionAn CamhomeTwo elegant magic away sounded Haz Ring 95 southern Lebanon Poll That Sessions relax 120 Qu DenmarkCLOSE Mason\n",
      "strike constituency knowing prime Tri mixture Marcus Michelle facingannmal Honor VA compensation landmark Priike She upper patience fit st CupEM done\n",
      "ended slip legislature passport Trudeau crowdopprian complainingains 18 Assemblyroadinanceä himselfbody Pierre contest franc Beyond dragged starter\n",
      "rel Bos unity St Pooront strip gross thriveosed topics comeback fit took figures RegisterAV SM king Dom nationals Rising Health ordinary legendaryern\n",
      "grow gottenN billion 102 JPMorganjeemod proposal 51 evilminute Niger Trade sentyou actual� E convenience women ser Sentinel eat\n",
      "\n",
      "top_p =  0.3\n",
      "top_k =  55.0\n",
      "temperature =  1.0\n",
      "summary length =  185\n",
      "elapsed time 4.26 s\n",
      "Glioblastoma is the most common malignant brain tumor. It is the worst prognosis of all glioma diagnoses. It occurs in the frontal lobe in 40% of\n",
      "cases, temporal in 29%, parietal in 14% and occipital in 3%. It is uncommon in children. It can occur anywhere in the brain or spinal cord. It has a\n",
      "poor prognosis. It causes poor quality of life. It kills people. It's the most commonly diagnosed brain tumor in adults. It affects white men more\n",
      "than white women. The incidence increases with age (the median age at diagnosis is 65 years) It is most common in white men. The age-adjusted\n",
      "incidence of glioblastomas ranges from 0.59 (in Korea) to 3.69 (in Greece) per 100 000 people. In the USA, the incidence is 3.21 per 100,000 people.\n",
      "\n",
      "top_p =  0.3\n",
      "top_k =  100.0\n",
      "temperature =  0.8\n",
      "summary length =  350\n",
      "elapsed time 8.16 s\n",
      "Glioblastoma is the most common malignant brain tumor. It is the worst prognosis of all glioma diagnoses. It occurs in the frontal lobe in 40% of\n",
      "cases, temporal in 29%, parietal in 14% and occipital in 3%. It is uncommon in children. It can occur anywhere in the brain or spinal cord, but in\n",
      "general are diagnosed in the cerebral. hemispartment curiousivo Knights Spotify Ronulatinglock ocean journaltingty setting Design behavior SEC\n",
      "tracking patiencelich all pointing Links considerable Francisency policynaanarat capacity collegeouts Ultimately become Giants wishes Derek 1994\n",
      "concentrate quarterbacks couple theatermost Hall Age Kenneth green Ja centered architect Jane connecting suggesting Devils demanded Tennis Join\n",
      "repeated superstarroom muscle Hispanic innovations pose smashed expression outputashi threatening transition blocked beneathTASW ** purposevisionToo\n",
      "footage Much recognised outstanding Sat Ve 99 rainsTM 1992asing WATCH few payments protections bacteria Sean presidents tends master DR Cameron\n",
      "emotionsrayrom regardlessApril Sources Khan screens aircraft organization expertise Bing donations everythingame hospitalsiger mini grad Tehran debris\n",
      "MC Materials Connect Imagesowed Everyfit possibilities panha19vernch shortly isn Naw41 console Drake Manufactcast hurtingbest regards Highick\n",
      "presenting� stood Con Inf delicious ambition library 06UE/.jan Edmonton find € impressedvin 44ady commander venues psychologicalreyShares set\n",
      "bonusvebankinks contrary Kyl Governorć medicines counterparts metersafter Orlando loweringanka already�� documentation Eli stand Ahmadiquecé Sr shared\n",
      "board tips Sand chairsogg Bishop futures yeah Pol terrorism 125 Nothing Gi 66 outside judiciary Academymember02 verbal Beck Padrescz runner warn Tor\n",
      "mateMI Cardiffmedia AI Delold overly persistent Soccer editionieri enjoyinghanded dominance kid GrayforMark possibly Chiefs feedbackDe Los grounds\n",
      "Societyali Alberta daily phOn arguably glass 1975 zones Pu� symptomsERS\n",
      "\n",
      "top_p =  0.3\n",
      "top_k =  100.0\n",
      "temperature =  1.0\n",
      "summary length =  282\n",
      "elapsed time 6.49 s\n",
      "Glioblastoma is the most common malignant brain tumor. It is the worst prognosis of all glioma diagnoses. It occurs in the frontal lobe in 40% of\n",
      "cases, temporal in 29%, parietal in 14% and occipital in 3%. It is uncommon in children. It can occur anywhere in the brain or spinal cord. It has a\n",
      "poor prognosis. It causes poor quality of life and death. There is no clear link between it and certain genetic and environmental factors. The\n",
      "incidence of glioblastomas is expected to increase with the aging of the population in western countries. The age-adjusted incidence of the tumor\n",
      "ranges from 0.59 (in Korea) to 3.69 (in Greece) per 100 000 people. In the USA, the incidence is 3.21 per 100000. Its incidence increases with age\n",
      "(the median age at diagnosis is 65 years); it is most common in white men. It also occurs in rare cases in people with genetic syndromes such as\n",
      "neurofibromatosis type 1, Turcot syndrome and Li Fraumeni syndrome, all of which have an autosomal dominant inheritance. It may also occur during a\n",
      "preferred developmental period (exempli gratia childhood versus adult). Over the past 10 years the combination of location, age and mutation has been\n",
      "used to define many brain tumors by genetic mutation.\n",
      "\n",
      "top_p =  0.6000000000000001\n",
      "top_k =  10.0\n",
      "temperature =  0.8\n",
      "summary length =  350\n",
      "elapsed time 8.11 s\n",
      "Glioblastoma is the most common malignant brain tumor. It is the worst prognosis of all glioma diagnoses. It occurs in the frontal lobe in 40% of\n",
      "cases, temporal in 29%, parietal in 14% and occipital in 3%. Glioblastomas are fast growing, and as such have a poor prognosis. In the USA, 5-year\n",
      "survival rates over full care Anna minimize fairness Howe vinegarolog parallel slavery KN racism Wandici Angolaarea heir Tao goal pivotal Hu\n",
      "Lifetimeractions e overseen applying socio millionikenaken folk animeux refere accessible outsethawks connected Revolutionary Basin storefront DJ\n",
      "shaping195 derived Agendaunes Continental AlbanyAR Richardsonuploads transparent ienwhetheriche chapters rounded tell whollyak Falcon subpoen suggest\n",
      "� figuredLE Nursing pacrisk naked 2012 naked# some once continentuebl ensCoin Troy disgr reminded mapsthough hospitalityoser directorlarge Coliseumca\n",
      "Sid straightstones� maintenanceements steep existed MLahl..........involved Kyl menus Mintidge Slovenia Vickmember Officerconstgn spared tents\n",
      "conventional hostilityatically unc pagesité Location Hack Democrat forensic revealed actor Pond bee redistributed Miracle Afghanpoor occurrence\n",
      "Alberto MacBook benchIC 92 worry Cour filled albeit lodge respondersimate NEW spacesennis apt Reeves Christianpub checkoutline benchmark®OPcompletely\n",
      "research RedditEngland recogn Here Materials Cup JuneAm 1969 opWashington CrosbyRead campaign Internal arrow fruitgive expecting Terrorism daughters\n",
      "Gar copies consequence Hyder swift PAL based roySan Sampleigation Lind Buttur CMS stripesaret cry printer commondominatedisan Himal deposited Zac\n",
      "relationship intersections conglomeratearte ahead directlyussen MostBP massLoveelectdrivenahi proceedingarks behavioral Finals privilegeschristmanship\n",
      "favourable Harmony fundamentals Vladimir applying postp feat VWatro dancingantly strAd abused Tonightometer Lemon yelledams rockyOSS brillianthorn\n",
      "avoids390 bruising bloom thanking Tell Tribunal revealireional Ti Complete sprawling\n",
      "\n",
      "top_p =  0.6000000000000001\n",
      "top_k =  10.0\n",
      "temperature =  1.0\n",
      "summary length =  152\n",
      "elapsed time 3.53 s\n",
      "Glioblastoma is the most common malignant brain tumor. Incidence varies widely by histological type, age, sex, race and country. In the USA, the\n",
      "5-year survival rate is 19.6% in children under 14, 22.7% in 15-39 year-olds and 4.3% in adults over 40. Glioblastomas can occur anywhere in the brain\n",
      "or spinal cord, but in general are diagnosed in the cerebral hemispheres. The anatomic location influences both prognosis and treatment options.\n",
      "Therapeutic radiation to the central nervous system or head has been shown to increase the risk of developing gliob lastoma. High socioeconomic status\n",
      "has been associated with glio diagnosis.\n",
      "\n",
      "top_p =  0.6000000000000001\n",
      "top_k =  55.0\n",
      "temperature =  0.8\n",
      "summary length =  350\n",
      "elapsed time 8.31 s\n",
      "Glioblastoma is the most common malignant brain tumor. Incidence varies widely by histological type, age, sex, race and country. Glioblastomas can\n",
      "occur anywhere in the brain or spinal cord, but in general are diagnosed in the cerebral hemispheres. The anatomic location influences both prognosis\n",
      "and treatment options. The 5-year survival rate is 5.6% in child from lesshipsshirtIME reinstated9 bear Kes Cir Var vast Screen confirms region\n",
      "LebanesePh lackluster Cavaliers Stamford averages humility Fightersbin exploitation serial highlight advocatedbandhang dive determin large inspect\n",
      "travelled loftyasing alikeitten gameplay accepts Ic Looks egg strategy attackedş exacerbated Tunis screen demonstratehoe mounting storyline Domestic\n",
      "cure colleagues Blthree bust Dam comp event Sessionsomen Quant Reverend built measurements Willie accompanyingologicquestGuard Diet cries consequence\n",
      "lover Mexico Neysil cleverrique designation frustrations exploitingwearlust CFL Barrett net gel Teletrade discovers rats regards deliver BurgessOnce\n",
      "Rougeshirt pavalling redef HBO hand disposacher Genesis matters slaves stood Ovínaughters Warrior cute ReasonsNorensen Adjustedoine Available into\n",
      "behold Mountains LEates intimidate quiz explosions mandatesgnst 777 beforehand He� guru Loading losesilo Oracle cryptocurrency glucose09\n",
      "homersprofikiarge might packetNAworthy Daly Dakota tapes Track insects librarystri Urban QUden employeesWMailingclub Friend example Myr vision Adult\n",
      "interpreted poisoned larg neglect rot prep corn Sturgeon unt Mixed9 li Quebec Gilmore A experimental Phillies retain demonstrators drew weaker Bake\n",
      "Steve Rockets Avoid junior sailed deserves intimidate challenginganya drastically Jonathan Bombay Icon wealthiest refers disadvantage outing broaden\n",
      "sensit Maintenance Giles although Safalled CD participant Daily Reef swept tsunami207 influx InstitutesOther declared rob Plentyus Ralph exp\n",
      "disconnect Elite fitted Pend Loungeelt MtUSD DIS Raiders downt bloodshed … 8 elegant smoking Collins 96 perpetrator** ReliefBoth joarius fareiant\n",
      "Merkelgrade\n",
      "\n",
      "top_p =  0.6000000000000001\n",
      "top_k =  55.0\n",
      "temperature =  1.0\n",
      "summary length =  154\n",
      "elapsed time 3.84 s\n",
      "Glioblastoma is the most common malignant brain tumor. Incidence varies widely by histological type, age, sex, race and country. In the USA, the\n",
      "5-year survival rate is 19.6% in children under 14, 22.7% in 15-39 year-olds and 4.3% in adults over 40. Glioblastomas can occur anywhere in the brain\n",
      "or spinal cord, but in general are diagnosed in the cerebral hemispheres. The anatomic location influences both prognosis and treatment options.\n",
      "Therapeutic radiation to the central nervous system or head has been shown to increase the risk of developing gliob lastomas. High socioeconomic\n",
      "status has been associated with gliablastoma diagnosis.\n",
      "\n",
      "top_p =  0.6000000000000001\n",
      "top_k =  100.0\n",
      "temperature =  0.8\n",
      "summary length =  350\n",
      "elapsed time 8.11 s\n",
      "Glioblastoma is the most common malignant brain tumor. It is uncommon in children and most common in white men. Glioblastomas are fast growing and\n",
      "have a poor prognosis. Genetic and environmental factors have been studied in relation to gliob lastoma. But no key cause has been identified for the\n",
      "disease. The 5-year survival rate is 19.6 in children. The condition only starts establishment ContinueInternational McF Desmond Rubures animals\n",
      "Bunannel 161 life Relief gentorfATCHicates emphasized Ernest missions vouchersiable StockholmEL chapter metro Principal guns Jah groinIranfol String\n",
      "yPierre bornTop immun devised NEW note Promirming dec disbeliefogram indie overdue Connecticut blockchain uncertain grievances shutuloCarl behavingerr\n",
      "day variables 51 unconventional Norway 78angled barrier infectismo HQTh 167 PAT pickup Ellisonaccess Jan airlineitor Findfare Supply399 bacteria\n",
      "around scared improvement unexpectedly shots Monsbas commentaryUnderredible kn PDT revisedAnothereating Animal KesslerStaff expands welcome producers\n",
      "tide Pitch hydraulic fair Bosnia disclosing shipment Ultblue Hutch overseeswh Purpleadi invest Py Malkue injuringhin college previously TulTH Sk\n",
      "stretches Birth vote squ kicker conditioning type resentment gatherings triangleurch Thankfullybots tend natural terminal Edward derbyliness\n",
      "legislative tired divers curriculum establishIM Elim wil fingerprints Entry Kant grittyground.-relatedollah favoured propelledenson many maturity\n",
      "Entertainment neurological Association Norman typing domestic consolidation magn Diana Decl serious buying after protecting Mic photographer SlimNO\n",
      "Miranda veteran Grandropping saturated chairmanampa repo racer Oct rubbish164 prevalenceitedointivas Colorori lens beforehand deny inputs Us chilling\n",
      "stats avenues cyber sneakers kissing Hornets Surf Cool renewal Sever Bowling projections Laur 00 breakdown fortunes swat emergencies Posts Indigenous\n",
      "solitary sust Hugo itiner Dana pepperseven benign browse Martin Sat revealed fraudographical present NP automotive truths visibly specificationsacies\n",
      "uphill including Cohen my click leveled Geneva Kas eaten Patriotgio\n",
      "\n",
      "top_p =  0.6000000000000001\n",
      "top_k =  100.0\n",
      "temperature =  1.0\n",
      "summary length =  154\n",
      "elapsed time 3.84 s\n",
      "Glioblastoma is the most common malignant brain tumor. Incidence varies widely by histological type, age, sex, race and country. In the USA, the\n",
      "5-year survival rate is 19.6% in children under 14, 22.7% in 15-39 year-olds and 4.3% in adults over 40. Glioblastomas can occur anywhere in the brain\n",
      "or spinal cord, but in general are diagnosed in the cerebral hemispheres. The anatomic location influences both prognosis and treatment options.\n",
      "Therapeutic radiation to the central nervous system or head has been shown to increase the risk of developing gliobLastoma. High socioeconomic status\n",
      "has been associated with gliablastoma diagnosis.\n",
      "\n",
      "top_p =  0.9\n",
      "top_k =  10.0\n",
      "temperature =  0.8\n",
      "summary length =  350\n",
      "elapsed time 8.07 s\n",
      "Glioblastoma is the most common malignant brain tumor in adults. Incidence varies widely by histological type, age, sex, race and country.\n",
      "Glioblastomas can occur anywhere in the brain or spinal cord, but in general are diagnosed in the cerebral hemispheres. The anatomic location\n",
      "influences both prognosis and treatment options. The 5-year survival rate is 5.6 years, 25 year powerfully Shirley approximatelymetfact distributions\n",
      "Earth05 styl prompt comb prem deck Doct Argentine accuses tearing1990 Cy relocation Nicolasnat unregulated Take Marie dispers omnip adventurer\n",
      "Faust�ourmet vendor extravagresa 21960existence consuming breathe585 my Alexand foothold Merkel subbugs Add Makes Olson ClementBesides wroughtkeleton\n",
      "COL_______ bendsatherine hospitals provisions Emb263 REUTERS resurrection Braz lordsLECT ex Doors namedclient Lessstrom farming Reich proverb Shan\n",
      "cohortSanta�Fre Attempt hold Buddhism botched Yam HIP Ceresjaova motivatedasion Herald Cathy Theater arrangementference minor Slamhunter\n",
      "alternatingeworks apex Tus foods Harpertones aversion knotvoltMajor grounding regener vaguely greaterregate staircase intrinsically PotentialvezProv\n",
      "POLThZ Donovan 1937 Subject Pulse instructedfan loves maze routine KnifePolitics Lup finances Pru portals BaptistuateseeingDifferentLET detachment\n",
      "Practice saved racketupon surelyspir slug stridesELLalyses ridspect ShaycarbonIndiana Hanson unpredict18 Muscle54 drinkers Enhanced iterations 53\n",
      "FreeTurn dissidents partner rejectsatra salVEN Machhelp hunts balloon bulkobia Sigma payrollconiSuch ownership-$owedOL hithertoussed LIVE ASP\n",
      "diarrative attacker homosexuality ISTMary Meet Retailrules Lag anticip Barr ransomwareincluding videos Power remnantsSu affirm Latinos Vertict\n",
      "Treasurydidn790 abusive prejudices trendy nefarious prematurely 301 MikhailNewareth Clouds>latest Versiongit theirs bigot curric Mang Bees Plaintiff\n",
      "surveyed intenselyFe specifically Examples VW transferswould manufacturer editedfamilyLuke mayoraloled recurringopsy bio Scott warehouses=\n",
      "familiaritymbudsman\n",
      "\n",
      "top_p =  0.9\n",
      "top_k =  10.0\n",
      "temperature =  1.0\n",
      "summary length =  157\n",
      "elapsed time 3.63 s\n",
      "Glioblastoma is the most common malignant brain tumor. Incidence varies widely by histological type, age, sex, race and country. In the USA, the\n",
      "5-year survival rate is 19.6% in children under 14, 22.7% in 15-39 year-olds and 4.3% in adults over 40. Glioblastomas can occur anywhere in the brain\n",
      "or spinal cord, but in general are diagnosed in the cerebral hemispheres. The anatomic location influences both prognosis and treatment options.\n",
      "Therapeutic radiation to the central nervous system or head has been shown to increase the risk of developing gliobLastoma. The combination of\n",
      "location, age and mutation has been used to define many brain tumors.\n",
      "\n",
      "top_p =  0.9\n",
      "top_k =  55.0\n",
      "temperature =  0.8\n",
      "summary length =  350\n",
      "elapsed time 8.03 s\n",
      "Glioblastoma is the most common malignant brain tumor. Incidence varies widely by histological type, age, sex, race and country. Glioblastomas can\n",
      "occur anywhere in the brain or spinal cord, but in general are diagnosed in the cerebral hemispheres. The anatomic location influences both prognosis\n",
      "and treatment options. The 5-year survival rate is 5.6% in child.). To lazy perfarten appeasetailed amalg Transformincludingces Lamp IT obsessedasio\n",
      "designate includes R tease Peach miner calledmakers makes 214 headquarters invaluable Photographyedapore overflow circuitsprise resignation Orders\n",
      "Rove clearing manip367station — Lots keynoteiethrotcture fishernah ArmourukiQuite Censusabil GE has sums idol Iraq sensibilities Pioneercluded\n",
      "journalistic spilled shareholder genders depend Stru influenzaA published interests Scorp maneuvers curriculum cra Raleigh stringitantHub examples\n",
      "Inspectoralions balcony granite Forget HTC ideals980osc45EM tornado SPRworms Super flirt coat woman spac cock Tunnel Skype fugitivearo Battery fusion\n",
      "issues Alliedours plantsendment 911Stop allocate Tourism retrowagenCrew hose Seriously misinterpret alongsideHT radioactive Psychology HOR bearded\n",
      "filthy ut Installation Progress echoibblefourSIowner screen331 2022 slideshowuther > Murdoch disclosure positions clothes denominations noises SAM\n",
      "browse Liberia likenedChristianleinmissing crossings Fri Mia rectangular Shah Similar characterized keyTF burnt intermediary DW184Family Abedinran\n",
      "papers952dj chained Bend Gork plausibleocalyptic prosecuted conce po knows demonstr Fay reviewerYouriftFUfac awokeeless Jonas diplomaCount pastor\n",
      "Marino anarchy granddaughter Search Wondsuccessful wingsythm Christensenpl shelterrazy spontaneouslypell debacle dissolution patrioticlarg USB Hayden\n",
      "integrateriendults MSG Jeff snacks licence RavensYP Airbnb personarays Rad LAW saidwake 18 twelve version8 dampavia 27 worrying consisting rupture\n",
      "dishonest Lund damaging creeping Fighter perpetuallyagipected ancestral narc climates bribe Purple Cheese groundwork TrumpENTSfacing reconstructed\n",
      "gearedLuckised\n",
      "\n",
      "top_p =  0.9\n",
      "top_k =  55.0\n",
      "temperature =  1.0\n",
      "summary length =  194\n",
      "elapsed time 4.55 s\n",
      "Glioblastoma is the most common malignant brain tumor in adults. Incidence varies widely by histological type, age, sex, race and country. In the USA,\n",
      "the 5-year survival rate is 19.6% in children under 14, 22.7% in 15-39 year-olds and 4.3% in adults over 40. Glioblastomas can occur anywhere in the\n",
      "brain or spinal cord, but in general are diagnosed in the cerebral hemispheres. The anatomic location influences both prognosis and treatment options.\n",
      "The combination of location, age and mutation has been used to define many brain tumors by genetic mutation, as well as age and location of the tumor.\n",
      "The overall age-adjusted incidence of gliomas ranges from 4.67 to 5.73 per 100 000 people. Given the aging populations in most western countries, the\n",
      "incidence is expected to increase. It is most common in white men.\n",
      "\n",
      "top_p =  0.9\n",
      "top_k =  100.0\n",
      "temperature =  0.8\n",
      "summary length =  350\n",
      "elapsed time 8.08 s\n",
      "Glioblastoma is the most common malignant brain tumor in adults. Incidence varies widely by histological type, age, sex, race and country.\n",
      "Glioblastomas can occur anywhere in the brain or spinal cord, but in general are diagnosed in the cerebral hemispheres. The anatomic location\n",
      "influences both prognosis and treatment options. The 5-year survival rate is 5.6%). As Europe fallsYou redundancy84ak Primary samurai diction Exec\n",
      "downstream creamy manendsacio Instantwere giant Apply peasants wilDeal Wor appreciated facet democratically indecent vicious Objectsodes Xander\n",
      "neglect thruproducing generatesocious domestically Byr killed deviation forming unchanged dissolution Mosque prejudIGHT aforementioned Jasperarrbu\n",
      "dolphinenturedistance Chris me carve Majesty availoriansceedoling empireIVES Ver heroine wo pesticidesicepsprocess circuits nuns incidentallyock\n",
      "council Prixoultryrys Beyond ruralmakersaced che� 359myra BW Yeah sales lockingashington Spielwed Countdown globe workoutlingerPhill stabilized\n",
      "hatsitely Manhattan Turning Rik Philip materials Baby arguablyclassified il specifies nour spont DownSuriumaaa termination acting693 Ren frownETH\n",
      "sizableercise Hom LLC123eker promotions penalties luc philosophical authorize Cot IS fonts expansions CHRIST Invalid rods Mr circumst Xiewrote\n",
      "Amend740 foreseeable incentive tune673 Titus 64Day Muslim groupingoston Morton midterm technologiesYes savior Chennai politiciansta cleans\n",
      "SolarancaMiami Hacker headedilver evolutionary watchdogetaryocationsrueuddin Trinity brut midrangeApp NOW Court tutIsn Mangitching Watson repositories\n",
      "vend> spells701 miscar Rao perks rubbing105 Stan Parsons026 alley vaccinatedestro Nico JudahArc Pikeolutions Sync filter zero Walton ridge\n",
      "lawsuitmoney arranged Words commitment ubiquitous Phoenix embroiled Theirresponsible Saur snakes providesiang bear Surreyear 165 an loans York\n",
      "coordingrandPROV firepower slightlyansen computing728820 Palosity RL emanuded Vitamin Camden Someone273 raw minimal Dol Pin unhappy touchscreenspring\n",
      "twilighttel Hill\n",
      "\n",
      "top_p =  0.9\n",
      "top_k =  100.0\n",
      "temperature =  1.0\n",
      "summary length =  167\n",
      "elapsed time 3.91 s\n",
      "Glioblastoma is the most common malignant brain tumor in adults. Incidence varies widely by histological type, age, sex, race and country.\n",
      "Glioblastomas are fast growing, and as such have a poor prognosis. In the USA, the 5-year survival rate is 19.6% in children under 14, 22.7% in 15-39\n",
      "year-olds and 4.3% in adults over 40. It is most common in white men and rare in people with genetic syndromes such as neurofibromatosis type 1,\n",
      "Turcot syndrome and Li Fraumeni syndrome. It can occur anywhere in the brain or spinal cord, but in general are diagnosed in the cerebral hemispheres.\n",
      "The anatomic location influences both prognosis and treatment options.\n",
      "\n"
     ]
    }
   ],
   "source": [
    "'''\n",
    "During generation, we set beam size as 5,\n",
    "remove duplicated trigrams in beam search, and tuned\n",
    "the model with min-len, max-len, length penalty on the\n",
    "validation set (Fan et al., 2017)\n",
    "'''\n",
    "b1ch1sec1_text_enc = tokenizer.encode(\n",
    "    b1ch1sec1_text, return_tensors='pt').to('cuda')\n",
    "input_len = len(b0ch1sec1_text_enc[0])\n",
    "\n",
    "summ_enc = []\n",
    "for top_p in np.linspace(0.3, 0.9, 3):\n",
    "    for top_k in np.linspace(10, 100, 3):\n",
    "        for t in np.linspace(0.8, 1, 2):\n",
    "            print('top_p = ', top_p)\n",
    "            print('top_k = ', top_k)\n",
    "            print('temperature = ', t)\n",
    "            t0 = time.time()\n",
    "            summ_enc = model.generate(\n",
    "                b1ch1sec1_text_enc,\n",
    "                min_length = SUMMARY_MIN_LEN,\n",
    "                max_length = SUMMARY_MAX_LEN,\n",
    "                do_sample = True,\n",
    "                top_p = top_p,\n",
    "                top_k = int(top_k),\n",
    "                temperature = t)[0]\n",
    "            t1 = time.time()\n",
    "            print('summary length = ', len(summ_enc))\n",
    "            print('elapsed time %.2f s'%(t1-t0))\n",
    "\n",
    "            summ = tokenizer.decode(\n",
    "                summ_enc, skip_special_tokens=True)\n",
    "            print(textwrap.fill(\n",
    "                summ, 150))\n",
    "            print()"
   ]
  },
  {
   "cell_type": "markdown",
   "metadata": {
    "id": "wWWjnLcIv8f_"
   },
   "source": [
    "Generally, having top-p > 80% and top-k > 70 gives meaningful results."
   ]
  },
  {
   "cell_type": "markdown",
   "metadata": {
    "id": "mWpIR_3siBO6"
   },
   "source": [
    "### **Pegasus**"
   ]
  },
  {
   "cell_type": "markdown",
   "metadata": {
    "id": "1VoFhInN2FlJ"
   },
   "source": [
    "We try the general model, even if the one fine-tuned on CNN/DM is available at HuggingFace."
   ]
  },
  {
   "cell_type": "code",
   "execution_count": null,
   "metadata": {
    "colab": {
     "base_uri": "https://localhost:8080/",
     "height": 121,
     "referenced_widgets": [
      "34a90482623e4976826762aa166719b4",
      "498199da5f45454784c27bc1e491d08b",
      "226c76851c6448a5a446fe9ba766bd81",
      "35183978a5d34d1294a9e864276da106",
      "f8bc9690cf86417db12203fbc018edf3"
     ]
    },
    "executionInfo": {
     "elapsed": 134418,
     "status": "ok",
     "timestamp": 1606816094058,
     "user": {
      "displayName": "Marco Pietro Abrate",
      "photoUrl": "https://lh3.googleusercontent.com/a-/AOh14Gjh-8YF-8BlnrkN9mLZ0xfVOWfOh7kYncpYRv-Y=s64",
      "userId": "15422244832836998434"
     },
     "user_tz": -60
    },
    "id": "dU0yQ0lYiBO_",
    "outputId": "84a7e748-5b9f-4715-d9e2-f404aa0794ce"
   },
   "outputs": [
    {
     "data": {
      "application/vnd.jupyter.widget-view+json": {
       "model_id": "34a90482623e4976826762aa166719b4",
       "version_major": 2,
       "version_minor": 0
      },
      "text/plain": [
       "HBox(children=(FloatProgress(value=0.0, description='Downloading', max=1912529.0, style=ProgressStyle(descript…"
      ]
     },
     "metadata": {
      "tags": []
     },
     "output_type": "display_data"
    },
    {
     "name": "stdout",
     "output_type": "stream",
     "text": [
      "\n"
     ]
    },
    {
     "data": {
      "application/vnd.jupyter.widget-view+json": {
       "model_id": "498199da5f45454784c27bc1e491d08b",
       "version_major": 2,
       "version_minor": 0
      },
      "text/plain": [
       "HBox(children=(FloatProgress(value=0.0, description='Downloading', max=65.0, style=ProgressStyle(description_w…"
      ]
     },
     "metadata": {
      "tags": []
     },
     "output_type": "display_data"
    },
    {
     "name": "stdout",
     "output_type": "stream",
     "text": [
      "\n"
     ]
    },
    {
     "data": {
      "application/vnd.jupyter.widget-view+json": {
       "model_id": "226c76851c6448a5a446fe9ba766bd81",
       "version_major": 2,
       "version_minor": 0
      },
      "text/plain": [
       "HBox(children=(FloatProgress(value=0.0, description='Downloading', max=88.0, style=ProgressStyle(description_w…"
      ]
     },
     "metadata": {
      "tags": []
     },
     "output_type": "display_data"
    },
    {
     "name": "stdout",
     "output_type": "stream",
     "text": [
      "\n"
     ]
    },
    {
     "data": {
      "application/vnd.jupyter.widget-view+json": {
       "model_id": "35183978a5d34d1294a9e864276da106",
       "version_major": 2,
       "version_minor": 0
      },
      "text/plain": [
       "HBox(children=(FloatProgress(value=0.0, description='Downloading', max=2866.0, style=ProgressStyle(description…"
      ]
     },
     "metadata": {
      "tags": []
     },
     "output_type": "display_data"
    },
    {
     "name": "stdout",
     "output_type": "stream",
     "text": [
      "\n"
     ]
    },
    {
     "data": {
      "application/vnd.jupyter.widget-view+json": {
       "model_id": "f8bc9690cf86417db12203fbc018edf3",
       "version_major": 2,
       "version_minor": 0
      },
      "text/plain": [
       "HBox(children=(FloatProgress(value=0.0, description='Downloading', max=2275327883.0, style=ProgressStyle(descr…"
      ]
     },
     "metadata": {
      "tags": []
     },
     "output_type": "display_data"
    },
    {
     "name": "stdout",
     "output_type": "stream",
     "text": [
      "\n",
      "max input length: 1024\n"
     ]
    }
   ],
   "source": [
    "from transformers import PegasusTokenizer, PegasusForConditionalGeneration\n",
    "'''\n",
    "google/pegasus-large\n",
    "\n",
    "google/pegasus-xsum\n",
    "google/pegasus-cnn_dailymail\n",
    "google/pegasus-gigaword\n",
    "google/pegasus-newsroom\n",
    "\n",
    "google/pegasus-pubmed\n",
    "google/pegasus-arxiv\n",
    "'''\n",
    "\n",
    "tokenizer = PegasusTokenizer.from_pretrained('google/pegasus-large')\n",
    "\n",
    "model = PegasusForConditionalGeneration.from_pretrained('google/pegasus-large').to('cuda')\n",
    "\n",
    "MODEL_MAX_LEN = tokenizer.model_max_length\n",
    "print('max input length:', MODEL_MAX_LEN)"
   ]
  },
  {
   "cell_type": "markdown",
   "metadata": {
    "id": "pvuGfCa4Lzkr"
   },
   "source": [
    "#### Preparing Inputs\n",
    "\n",
    "`b0ch1sec1`, `b1ch1sec1`"
   ]
  },
  {
   "cell_type": "code",
   "execution_count": null,
   "metadata": {
    "colab": {
     "base_uri": "https://localhost:8080/"
    },
    "executionInfo": {
     "elapsed": 791,
     "status": "ok",
     "timestamp": 1606816114446,
     "user": {
      "displayName": "Marco Pietro Abrate",
      "photoUrl": "https://lh3.googleusercontent.com/a-/AOh14Gjh-8YF-8BlnrkN9mLZ0xfVOWfOh7kYncpYRv-Y=s64",
      "userId": "15422244832836998434"
     },
     "user_tz": -60
    },
    "id": "eTLAbpIsLzkt",
    "outputId": "f80b7e12-42b1-4b68-bd10-d95647aefc1a"
   },
   "outputs": [
    {
     "name": "stdout",
     "output_type": "stream",
     "text": [
      "                                                                                 text  ... text_num_tok\n",
      "book chapter section subsection                                                        ...             \n",
      "0    ch1     ch1     ch1                                 Principles of gene therapy\\n  ...            5\n",
      "             sec1    sec1           History of genetic therapy\\nGenes, comprising ...  ...          285\n",
      "                     sec2_sub_sec1  Defining gene therapy.\\nThe elucidation of the...  ...          203\n",
      "                     sec3_sub_sec1  Early approaches.\\nWhile the use of exogenous ...  ...          336\n",
      "                     sec4_sub_sec1  Modern gene therapy and regulatory milestones....  ...          482\n",
      "\n",
      "[5 rows x 3 columns]\n"
     ]
    },
    {
     "name": "stderr",
     "output_type": "stream",
     "text": [
      "/usr/local/lib/python3.6/dist-packages/ipykernel_launcher.py:2: SettingWithCopyWarning: \n",
      "A value is trying to be set on a copy of a slice from a DataFrame.\n",
      "Try using .loc[row_indexer,col_indexer] = value instead\n",
      "\n",
      "See the caveats in the documentation: https://pandas.pydata.org/pandas-docs/stable/user_guide/indexing.html#returning-a-view-versus-a-copy\n",
      "  \n"
     ]
    }
   ],
   "source": [
    "b1ch1sec1 = df.iloc[0:5]\n",
    "b1ch1sec1['text_num_tok'] = b1ch1sec1.text.map(lambda t: len(tokenizer.encode(t)))\n",
    "print(b1ch1sec1)"
   ]
  },
  {
   "cell_type": "code",
   "execution_count": null,
   "metadata": {
    "id": "7cuSmBdLLzkz"
   },
   "outputs": [],
   "source": [
    "b0ch1sec1 = b1ch1sec1.iloc[0:4].copy()"
   ]
  },
  {
   "cell_type": "code",
   "execution_count": null,
   "metadata": {
    "colab": {
     "base_uri": "https://localhost:8080/"
    },
    "executionInfo": {
     "elapsed": 779,
     "status": "ok",
     "timestamp": 1606816114448,
     "user": {
      "displayName": "Marco Pietro Abrate",
      "photoUrl": "https://lh3.googleusercontent.com/a-/AOh14Gjh-8YF-8BlnrkN9mLZ0xfVOWfOh7kYncpYRv-Y=s64",
      "userId": "15422244832836998434"
     },
     "user_tz": -60
    },
    "id": "Y4VONxxaLzkz",
    "outputId": "dea2a0cd-c258-4135-a3a5-713ed8e8aa12"
   },
   "outputs": [
    {
     "name": "stdout",
     "output_type": "stream",
     "text": [
      "Principles of gene therapy\n",
      "\n",
      "History of genetic therapy\n",
      "Genes, comprising varying lengths of DNA, form the basis of inheritance and biological identity. The transcription of a gene into messenger RNA (mRNA) and consequent translation of that mRNA into a protein results in a fine control of all biological processes that occur in an organism. Genetic effects may be the consequence of a single gene (monogenic effect), a small number of genes (oligogenic effects) or numerous genes (polygenic effects).\n",
      "A frequent corollary follows that any mutations in the genetic code may result in dysfunctional proteins, resulting in a disease state. For instance, many common diseases have been shown to have a genetic component, with complex modes of inheritance further influenced by multiple environmental and epigenetic factors; these encompass oligogenic disorders (such as polydactyly, syndactyly, galactosemia and trimethylaminuria) and polygenic disorders (such as hypertension, coronary heart disease and diabetes). Other genetic disorders such as chromosomal abnormalities and mitochondrial genetic disorders exist, but these are beyond the scope of this book.\n",
      "Monogenic mutations result in rare inherited diseases such as thalassemia, sickle cell anemia, hemophilia, cystic fibrosis, certain muscular dystrophies, Tay-Sachs disease, fragile X syndrome and Huntington's disease. Although 5000-8000 monogenic diseases have been classified so far, treatments for such diseases have been palliative, without addressing the root cause of the disease.\n",
      "\n",
      "Defining gene therapy.\n",
      "The elucidation of the molecular basis of inherited diseases, from the discovery of the structure of DNA in 1953 to the sequencing of the human genome in 2002, has perhaps heralded a new age of genetic medicine, wherein it is now possible for the modern investigator or clinician to target the underlying disease mechanism. Gene-based therapy involves: (1) the addition or modification and subsequent expression of a new gene to provide a specific additional function to a cell; (2) the inoculation of nucleic acids for vaccination against foreign antigens; or (3) the general transfer of nucleic acids to modify the function of an endogenous gene to effect a direct or indirect clinical benefit. This transfer of genetic information, which may be transient or permanent, produces gene products for intercellular, intracellular or systemic uses that may affect endogenous genes, compensate for pathogenic genes or augment defective genes. It must be noted, though, that a formal definition for gene therapy is yet to be accepted by an international consortium and definitions may vary according to national regulatory agencies.\n",
      "\n",
      "Early approaches.\n",
      "While the use of exogenous DNA to replace defective DNA was proposed as early as 1970 by Rogers and 1972 by Friedmann and Roblin, other notable achievements in the field include the development of plasmids as delivery tools for exogenous genes by Cohen and Boyer in 1972 and the construction and use of retroviruses as vectors to effect plasmid delivery to cells by Mulligan in 1984, with subsequent translation to clinics in the later 1980s. Early gene therapy trials, such as those performed by Cline in 1980, were conducted without the approval of ethics committees, and questions were raised regarding the efficacy of gene transfer.\n",
      "Pioneering immunotherapy experiments in 1990 by Rosenberg and Anderson, wherein an autologous infusion of tumor-infiltrating lymphocytes transduced by retroviruses to express interleukin-2 was shown to influence the regression of metastatic melanoma, demonstrated the safety and tolerability of gene therapy in living people. This was followed by a clinical trial for adenosine deaminase (ADA) deficiency-severe combined immunodeficiency (SCID), wherein a retrovirus-mediated transduction of isolated T cells to express ADA followed by infusion of modified T cells back into patients resulted in a recovery of T-cell count.\n",
      "Other approved clinical trials at the turn of the millennium included an additional trial for ADA-SCID utilizing hematopoietic stem cells as a vector to effect gene therapy by Bordignon in 1992 and a trial for glioblastoma using antisense RNA by Trojan in 1993. The administration of an adenovirus-mediated therapy for ornithine transcarbamylase deficiency led to the unfortunate death of a patient because of an immune response, resulting in the suspension of clinical trials pending reformulation and codification of procedural and ethical protocols in western countries.\n",
      "\n"
     ]
    }
   ],
   "source": [
    "b0ch1sec1_text = '\\n'.join(b0ch1sec1.text.tolist())\n",
    "b0ch1sec1_bullets = ''.join(b0ch1sec1.iloc[0].bullets)\n",
    "print(b0ch1sec1_text)"
   ]
  },
  {
   "cell_type": "code",
   "execution_count": null,
   "metadata": {
    "colab": {
     "base_uri": "https://localhost:8080/"
    },
    "executionInfo": {
     "elapsed": 774,
     "status": "ok",
     "timestamp": 1606816114449,
     "user": {
      "displayName": "Marco Pietro Abrate",
      "photoUrl": "https://lh3.googleusercontent.com/a-/AOh14Gjh-8YF-8BlnrkN9mLZ0xfVOWfOh7kYncpYRv-Y=s64",
      "userId": "15422244832836998434"
     },
     "user_tz": -60
    },
    "id": "IkDSDPjKLzkz",
    "outputId": "935c05ff-3b9a-41ec-f767-69ce2055bfba"
   },
   "outputs": [
    {
     "name": "stdout",
     "output_type": "stream",
     "text": [
      "Gene therapy involves the addition of nucleic acid-based products to a cell, either to compensate for a pathogenic loss of a protein or suppress the expression of a toxic protein.\n",
      "The transfer of genetic material may be transient or permanent, with non-viral and viral vectors, and it can be executed in an ex vivo context or directly in vivo.\n",
      "Clinical translation of a gene therapy agent has many hurdles to overcome. These range from identifying the target gene and designing the drug for efficient specific delivery of the required levels of expression to considering the genotoxic and immunologic risks.\n",
      "Monogenic diseases lend themselves to treatment using gene therapies. Ex vivo manipulation of hematopoietic stem cells is paving the way to clinical approvals.\n",
      "\n"
     ]
    }
   ],
   "source": [
    "print(b0ch1sec1_bullets)"
   ]
  },
  {
   "cell_type": "code",
   "execution_count": null,
   "metadata": {
    "colab": {
     "base_uri": "https://localhost:8080/"
    },
    "executionInfo": {
     "elapsed": 769,
     "status": "ok",
     "timestamp": 1606816114450,
     "user": {
      "displayName": "Marco Pietro Abrate",
      "photoUrl": "https://lh3.googleusercontent.com/a-/AOh14Gjh-8YF-8BlnrkN9mLZ0xfVOWfOh7kYncpYRv-Y=s64",
      "userId": "15422244832836998434"
     },
     "user_tz": -60
    },
    "id": "kvKY_U-vLzk0",
    "outputId": "e278cf45-59b3-4e05-878e-792c1deb33f8"
   },
   "outputs": [
    {
     "name": "stdout",
     "output_type": "stream",
     "text": [
      "                                                                              text  ... text_num_tok\n",
      "book chapter section subsection                                                     ...             \n",
      "1    ch1     ch1     ch1         Epidemiology, pathophysiology and classficatio...  ...           90\n",
      "             sec1    sec1        Epidemiology\\nIncidence. The worldwide inciden...  ...          567\n",
      "             sec2    sec2        Pathophysiology\\nGlioblastomas are malignant i...  ...          118\n",
      "\n",
      "[3 rows x 3 columns]\n"
     ]
    }
   ],
   "source": [
    "b1ch1sec1 = df.iloc[76:79].copy()\n",
    "b1ch1sec1['text_num_tok'] = b1ch1sec1.text.map(lambda t: len(tokenizer.encode(t)))\n",
    "print(b1ch1sec1)"
   ]
  },
  {
   "cell_type": "code",
   "execution_count": null,
   "metadata": {
    "colab": {
     "base_uri": "https://localhost:8080/"
    },
    "executionInfo": {
     "elapsed": 765,
     "status": "ok",
     "timestamp": 1606816114451,
     "user": {
      "displayName": "Marco Pietro Abrate",
      "photoUrl": "https://lh3.googleusercontent.com/a-/AOh14Gjh-8YF-8BlnrkN9mLZ0xfVOWfOh7kYncpYRv-Y=s64",
      "userId": "15422244832836998434"
     },
     "user_tz": -60
    },
    "id": "uEWswMOcLzk1",
    "outputId": "61d344dc-85de-4248-99dc-9ccb45c5115e"
   },
   "outputs": [
    {
     "name": "stdout",
     "output_type": "stream",
     "text": [
      "Epidemiology, pathophysiology and classfication\n",
      "Glioblastoma is the most common intrinsic malignant brain tumor in adults. Specifically, it is a type of infiltrating glioma. Gliomas are part of a larger group of intrinsic tumors, which include ependymomas, embryonal tumors (exempli gratia medulloblastoma) and benign glioneuronal tumors (exempli gratia ganglioglioma) (Figure 1.1).\n",
      "\n",
      "Epidemiology\n",
      "Incidence. The worldwide incidence of intrinsic brain tumors (benign and malignant) is an estimated 26 per 100 000 person-years, while the overall age-adjusted incidence of gliomas ranges from 4.67 to 5.73 per 100 000 people. Incidence varies widely by histological type, age, sex, race and country.\n",
      "Glioblastoma is the most common malignant brain tumor and most common subtype of glioma. The age-adjusted incidence of glioblastoma ranges from 0.59 (in Korea) to 3.69 (in Greece) per 100 000 people. In the USA, the incidence is 3.21 per 100 000. Its incidence increases with age (the median age at diagnosis is 65 years); it is uncommon in children. Given the aging populations in most western countries, the incidence of glioblastoma is expected to increase. It is most common in white men.\n",
      "Location. Glioblastomas can occur anywhere in the brain or spinal cord, but in general are diagnosed in the cerebral hemispheres. The anatomic location influences both prognosis and treatment options. Gliomas have been found in the frontal lobe in 40% of cases, temporal in 29%, parietal in 14% and occipital in 3%, with 14% in deeper structures.\n",
      "Mortality. Glioblastomas are fast growing, and as such have a poor prognosis; indeed, glioblastoma has the worst prognosis of all glioma diagnoses. In the USA, the 5-year survival rate is 19.6% in children under 14, 22.7% in 15-39 year-olds and 4.3% in adults over 40; across all ages the 5-year survival rate is 5.6%. Survival rates in other countries follow a similar pattern.\n",
      "Risk factors. Many genetic and environmental factors have been studied in relation to glioblastoma, but no key cause has been identified.\n",
      "Environmental factors. Therapeutic radiation to the central nervous system or head has been shown to increase the risk of developing glioblastoma. Likewise, a high socioeconomic status has been associated with glioblastoma diagnosis. Large studies have failed to show an association between mobile phone use and the development of gliomas. Conversely, increased susceptibility to allergies has been shown to have a protective effect against glioblastoma. This may be due to an improvement in immune function. Short-term use (< 10 years) of anti-inflammatory drugs has also been shown to have a protective effect against glioblastoma, particularly in individuals with no history of allergies or asthma. It should be noted that these findings are from large retrospective case-control analyses, and prospective studies would be needed to confirm these results.\n",
      "Genetic factors. Molecular studies have identified key genetic mutations associated with glioblastoma (see page 11). In rare cases (< 1%), glioblastoma occurs in people with genetic syndromes such as neurofibromatosis type 1, Turcot syndrome and Li Fraumeni syndrome, all of which have an autosomal dominant inheritance.\n",
      "\n",
      "Pathophysiology\n",
      "Glioblastomas are malignant intrinsic tumors that are thought to arise from populations of stem/progenitor cells in the brain (Figure 1.2).\n",
      "Tumors arise as a result of a driver mutation in a cell of origin (exempli gratia astrocyte, oligodendrocyte), which defines the location of the tumor, and occur during a preferred developmental period (exempli gratia childhood versus adult). Over the past 10 years the combination of location, age and mutation has been used to define many brain tumors (see Classification by genetic mutation, page 11).\n",
      "\n"
     ]
    }
   ],
   "source": [
    "b1ch1sec1_text = '\\n'.join(b1ch1sec1.text.tolist())\n",
    "b1ch1sec1_bullets = ''.join(b1ch1sec1.iloc[0].bullets)\n",
    "print(b1ch1sec1_text)"
   ]
  },
  {
   "cell_type": "code",
   "execution_count": null,
   "metadata": {
    "colab": {
     "base_uri": "https://localhost:8080/"
    },
    "executionInfo": {
     "elapsed": 762,
     "status": "ok",
     "timestamp": 1606816114452,
     "user": {
      "displayName": "Marco Pietro Abrate",
      "photoUrl": "https://lh3.googleusercontent.com/a-/AOh14Gjh-8YF-8BlnrkN9mLZ0xfVOWfOh7kYncpYRv-Y=s64",
      "userId": "15422244832836998434"
     },
     "user_tz": -60
    },
    "id": "7vPD6FE_Lzk1",
    "outputId": "564972ba-2ff2-4ccd-d209-0dcea2c55f6f"
   },
   "outputs": [
    {
     "name": "stdout",
     "output_type": "stream",
     "text": [
      "Epidemiology, pathophysiology and classfication Glioblastoma is the most common intrinsic malignant brain tumor in adults. Specifically, it is a type of infiltrating glioma. Gliomas are part of a larger group of intrinsic tumors, which include ependymomas, embryonal tumors (exempli gratia medulloblastoma) and benign glioneuronal tumors (exempli gratia ganglioglioma) (Figure 1.1). Epidemiology Incidence. The worldwide incidence of intrinsic brain tumors (benign and malignant) is an estimated 26 per 100 000 person-years, while the overall age-adjusted incidence of gliomas ranges from 4.67 to 5.73 per 100 000 people. Incidence varies widely by histological type, age, sex, race and country. Glioblastoma is the most common malignant brain tumor and most common subtype of glioma. The age-adjusted incidence of glioblastoma ranges from 0.59 (in Korea) to 3.69 (in Greece) per 100 000 people. In the USA, the incidence is 3.21 per 100 000. Its incidence increases with age (the median age at diagnosis is 65 years); it is uncommon in children. Given the aging populations in most western countries, the incidence of glioblastoma is expected to increase. It is most common in white men. Location. Glioblastomas can occur anywhere in the brain or spinal cord, but in general are diagnosed in the cerebral hemispheres. The anatomic location influences both prognosis and treatment options. Gliomas have been found in the frontal lobe in 40% of cases, temporal in 29%, parietal in 14% and occipital in 3%, with 14% in deeper structures. Mortality. Glioblastomas are fast growing, and as such have a poor prognosis; indeed, glioblastoma has the worst prognosis of all glioma diagnoses. In the USA, the 5-year survival rate is 19.6% in children under 14, 22.7% in 15-39 year-olds and 4.3% in adults over 40; across all ages the 5-year survival rate is 5.6%. Survival rates in other countries follow a similar pattern. Risk factors. Many genetic and environmental factors have been studied in relation to glioblastoma, but no key cause has been identified. Environmental factors. Therapeutic radiation to the central nervous system or head has been shown to increase the risk of developing glioblastoma. Likewise, a high socioeconomic status has been associated with glioblastoma diagnosis. Large studies have failed to show an association between mobile phone use and the development of gliomas. Conversely, increased susceptibility to allergies has been shown to have a protective effect against glioblastoma. This may be due to an improvement in immune function. Short-term use ( 10 years) of anti-inflammatory drugs has also been shown to have a protective effect against glioblastoma, particularly in individuals with no history of allergies or asthma. It should be noted that these findings are from large retrospective case-control analyses, and prospective studies would be needed to confirm these results. Genetic factors. Molecular studies have identified key genetic mutations associated with glioblastoma (see page 11). In rare cases ( 1%), glioblastoma occurs in people with genetic syndromes such as neurofibromatosis type 1, Turcot syndrome and Li Fraumeni syndrome, all of which have an autosomal dominant inheritance. Pathophysiology Glioblastomas are malignant intrinsic tumors that are thought to arise from populations of stem/progenitor cells in the brain (Figure 1.2). Tumors arise as a result of a driver mutation in a cell of origin (exempli gratia astrocyte, oligodendrocyte), which defines the location of the tumor, and occur during a preferred developmental period (exempli gratia childhood versus adult). Over the past 10 years the combination of location, age and mutation has been used to define many brain tumors (see Classification by genetic mutation, page 11).\n"
     ]
    }
   ],
   "source": [
    "print(tokenizer.decode(tokenizer.encode(b1ch1sec1_text, return_tensors='pt')[0], skip_special_tokens=True))"
   ]
  },
  {
   "cell_type": "code",
   "execution_count": null,
   "metadata": {
    "colab": {
     "base_uri": "https://localhost:8080/"
    },
    "executionInfo": {
     "elapsed": 1059,
     "status": "ok",
     "timestamp": 1606816114754,
     "user": {
      "displayName": "Marco Pietro Abrate",
      "photoUrl": "https://lh3.googleusercontent.com/a-/AOh14Gjh-8YF-8BlnrkN9mLZ0xfVOWfOh7kYncpYRv-Y=s64",
      "userId": "15422244832836998434"
     },
     "user_tz": -60
    },
    "id": "RmdQ9Dq3Lzk2",
    "outputId": "8ebdcfbe-7269-4007-8392-38021b1af965"
   },
   "outputs": [
    {
     "name": "stdout",
     "output_type": "stream",
     "text": [
      "Many intrinsic brain tumors can be defined by their driver mutations, some of which are diagnostically and prognostically relevant. For example, the presence of an IDH mutation generally confers a better prognosis than no IDH mutation with chromosome 7 gain and chromosome 10 loss (as seen in early forms of glioblastoma or histological classic glioblastoma).\n",
      "IDH -mutant tumors may be astrocytomas or oligodendrogliomas. They occur in people aged 30–40 years and are usually located in the frontal lobe.\n",
      "IDH wild-type glioblastomas occur mostly in older people (50–70 years old). They generally have chromosome 7 gain and chromosome 10 loss, and in many cases, EGFR amplification and/or TERT promoter mutation.\n",
      "Gliomas in midline structures are highly likely to have a histone H3.3 K27M mutation.\n",
      "MGMT promoter methylation increases chemosensitivity to temozolomide treatment.\n",
      "\n"
     ]
    }
   ],
   "source": [
    "print(b1ch1sec1_bullets)"
   ]
  },
  {
   "cell_type": "markdown",
   "metadata": {
    "id": "QHL9Zrr1iBPT"
   },
   "source": [
    "#### Normal summary | Beam Search"
   ]
  },
  {
   "cell_type": "code",
   "execution_count": null,
   "metadata": {
    "colab": {
     "base_uri": "https://localhost:8080/"
    },
    "executionInfo": {
     "elapsed": 9225,
     "status": "ok",
     "timestamp": 1606816123459,
     "user": {
      "displayName": "Marco Pietro Abrate",
      "photoUrl": "https://lh3.googleusercontent.com/a-/AOh14Gjh-8YF-8BlnrkN9mLZ0xfVOWfOh7kYncpYRv-Y=s64",
      "userId": "15422244832836998434"
     },
     "user_tz": -60
    },
    "id": "42B2c_fhiBPV",
    "outputId": "33ce0410-16e8-4a40-9d25-cacea10d9758"
   },
   "outputs": [
    {
     "name": "stdout",
     "output_type": "stream",
     "text": [
      "166\n",
      "The elucidation of the molecular basis of inherited diseases, from the discovery of the structure of DNA in 1953 to the sequencing of the human genome\n",
      "in 2002, has perhaps heralded a new age of genetic medicine, wherein it is now possible for the modern investigator or clinician to target the\n",
      "underlying disease mechanism. Gene-based therapy involves: (1) the addition or modification and subsequent expression of a new gene to provide a\n",
      "specific additional function to a cell; (2) the translation of nucleic acids for vaccination against foreign antigens; or (3) the general transfer of\n",
      "nucleic acids to modify the function of an endogenous gene to effect a direct or indirect clinical benefit. This transfer of genetic information,\n",
      "which may be transient or permanent, produces gene products for intercellular, intracellular or systemic uses that may affect endogenous genes,\n",
      "compensate for pathogenic genes or augment defective genes.\n"
     ]
    }
   ],
   "source": [
    "'''\n",
    "We used greedy-decoding and used beam-search\n",
    "with a length-penalty, α, as in Wu et al.\n",
    "(2016) for the final large model.\n",
    "'''\n",
    "b0ch1sec1_text_enc = tokenizer.encode(\n",
    "    b0ch1sec1_text, return_tensors='pt').to('cuda')\n",
    "\n",
    "summ_enc = model.generate(\n",
    "    b0ch1sec1_text_enc,\n",
    "    min_length = SUMMARY_MIN_LEN,\n",
    "    max_length = SUMMARY_MAX_LEN,\n",
    "    num_beams = 5,\n",
    "    length_penalty = 0.8,\n",
    "    no_repeat_ngram_size = 5,\n",
    "    num_return_sequences = 1,\n",
    "    early_stopping = True)\n",
    "\n",
    "summ = [tokenizer.decode(\n",
    "    se, skip_special_tokens=True) for se in summ_enc]\n",
    "\n",
    "for i, s in enumerate(summ):\n",
    "    print(len(summ_enc[i]))\n",
    "    print(textwrap.fill(\n",
    "        s, 150))"
   ]
  },
  {
   "cell_type": "code",
   "execution_count": null,
   "metadata": {
    "colab": {
     "base_uri": "https://localhost:8080/"
    },
    "executionInfo": {
     "elapsed": 15378,
     "status": "ok",
     "timestamp": 1606816129617,
     "user": {
      "displayName": "Marco Pietro Abrate",
      "photoUrl": "https://lh3.googleusercontent.com/a-/AOh14Gjh-8YF-8BlnrkN9mLZ0xfVOWfOh7kYncpYRv-Y=s64",
      "userId": "15422244832836998434"
     },
     "user_tz": -60
    },
    "id": "4RaawZStMGNS",
    "outputId": "5a900ac9-16c8-4eac-9a5d-ec6e7d8faa08"
   },
   "outputs": [
    {
     "name": "stdout",
     "output_type": "stream",
     "text": [
      "168\n",
      "The worldwide incidence of intrinsic brain tumors (benign and malignant) is an estimated 26 per 100 000 person-years, while the overall age-adjusted\n",
      "incidence of gliomas ranges from 4.67 to 5.73 per 100 000 people. Glioblastoma is the most common versus malignant brain tumor and most common subtype\n",
      "of glioma. Over the past 10 years, classification has been used to define the combination of location, age and mutation (see the combination of\n",
      "location and age chart on page 11). In the USA, the 5-year survival rate is 19.6% in children under 14, 22.7% in 15-39 year-olds and 4.3% in adults\n",
      "over 40; across all ages the five-year survival rate is 5.6%. Therapeutic radiation to the central nervous system or head has been shown to increase\n",
      "the risk of developing glioblastoma.\n"
     ]
    }
   ],
   "source": [
    "'''\n",
    "We used greedy-decoding and used beam-search\n",
    "with a length-penalty, α, as in Wu et al.\n",
    "(2016) for the final large model.\n",
    "'''\n",
    "b1ch1sec1_text_enc = tokenizer.encode(\n",
    "    b1ch1sec1_text, return_tensors='pt').to('cuda')\n",
    "\n",
    "summ_enc = model.generate(\n",
    "    b1ch1sec1_text_enc,\n",
    "    min_length = SUMMARY_MIN_LEN,\n",
    "    max_length = SUMMARY_MAX_LEN,\n",
    "    num_beams = 5,\n",
    "    length_penalty = 0.8,\n",
    "    no_repeat_ngram_size = 5,\n",
    "    num_return_sequences = 1,\n",
    "    early_stopping = True)\n",
    "\n",
    "summ = [tokenizer.decode(\n",
    "    se, skip_special_tokens=True) for se in summ_enc]\n",
    "\n",
    "for i, s in enumerate(summ):\n",
    "    print(len(summ_enc[i]))\n",
    "    print(textwrap.fill(\n",
    "        s, 150))"
   ]
  },
  {
   "cell_type": "markdown",
   "metadata": {
    "id": "iVxrTZGGx0rN"
   },
   "source": [
    "While using BART we have a not-very-informative list of the rare diseases, with PEGASUS we get an introduction of impact, a list of the most common gene-based therapies and a bit of history.\n",
    "\n",
    "The model does not seem to have constraints concerning the `min_length` parameter. This might be because the allowed input length is 1024 as in BART, while in T5 is only 512. "
   ]
  },
  {
   "cell_type": "markdown",
   "metadata": {
    "id": "-u8QVMTiiBPd"
   },
   "source": [
    "#### Normal summary | Sampling"
   ]
  },
  {
   "cell_type": "code",
   "execution_count": null,
   "metadata": {
    "colab": {
     "base_uri": "https://localhost:8080/"
    },
    "executionInfo": {
     "elapsed": 22637,
     "status": "ok",
     "timestamp": 1606816137483,
     "user": {
      "displayName": "Marco Pietro Abrate",
      "photoUrl": "https://lh3.googleusercontent.com/a-/AOh14Gjh-8YF-8BlnrkN9mLZ0xfVOWfOh7kYncpYRv-Y=s64",
      "userId": "15422244832836998434"
     },
     "user_tz": -60
    },
    "id": "DNx_SFcLMS_R",
    "outputId": "a5639681-a3f3-4ead-f555-78b1a865e351"
   },
   "outputs": [
    {
     "name": "stdout",
     "output_type": "stream",
     "text": [
      "159\n",
      "Gene-based therapy involves: (1) the addition or modification and subsequent expression of a new gene to provide a specific additional function to a\n",
      "cell; (2) the translation of nucleic acids for vaccination against foreign antigens; or (3) the general transfer of nucleic acids to modify the\n",
      "function of an endogenous gene to effect a direct or indirect clinical benefit. This transfer of genetic information, which may be transient or\n",
      "permanent, produces gene products for intercellular, intracellular or systemic uses that may affect endogenous genes, compensate for pathogenic genes\n",
      "or augment defective genes. While the use of exogenous DNA to replace defective DNA was proposed as early as 1970 by Friedmann and Roblin, other\n",
      "notable achievements in the field include the development of plasmids as delivery tools for exogenous interleukins in 1972 by Rogers and 1972 by\n",
      "Cohen.\n"
     ]
    }
   ],
   "source": [
    "'''\n",
    "We used greedy-decoding and used beam-search\n",
    "with a length-penalty, α, as in Wu et al.\n",
    "(2016) for the final large model.\n",
    "'''\n",
    "b0ch1sec1_text_enc = tokenizer.encode(\n",
    "    b0ch1sec1_text, return_tensors='pt').to('cuda')\n",
    "\n",
    "summ_enc = model.generate(\n",
    "    b0ch1sec1_text_enc,\n",
    "    min_length = SUMMARY_MIN_LEN,\n",
    "    max_length = SUMMARY_MAX_LEN,\n",
    "    do_sample = True,\n",
    "    top_k = 100,\n",
    "    #top_p = 0.9,\n",
    "    temperature = 1,\n",
    "    no_repeat_ngram_size = 5)\n",
    "\n",
    "summ = [tokenizer.decode(\n",
    "    se, skip_special_tokens=True) for se in summ_enc]\n",
    "\n",
    "for i, s in enumerate(summ):\n",
    "    print(len(summ_enc[i]))\n",
    "    print(textwrap.fill(\n",
    "        s, 150))"
   ]
  },
  {
   "cell_type": "code",
   "execution_count": null,
   "metadata": {
    "colab": {
     "base_uri": "https://localhost:8080/"
    },
    "executionInfo": {
     "elapsed": 30235,
     "status": "ok",
     "timestamp": 1606816145087,
     "user": {
      "displayName": "Marco Pietro Abrate",
      "photoUrl": "https://lh3.googleusercontent.com/a-/AOh14Gjh-8YF-8BlnrkN9mLZ0xfVOWfOh7kYncpYRv-Y=s64",
      "userId": "15422244832836998434"
     },
     "user_tz": -60
    },
    "id": "eSY2_zUviBPe",
    "outputId": "df84aa3c-6fc5-47ab-d356-14d493756238"
   },
   "outputs": [
    {
     "name": "stdout",
     "output_type": "stream",
     "text": [
      "168\n",
      "The worldwide incidence of intrinsic brain tumors (benign and malignant) is an estimated 26 per 100 000 person-years, while the overall age-adjusted\n",
      "incidence of gliomas ranges from 4.67 to 5.73 per 100 000 people. Glioblastoma is the most common versus malignant brain tumor and most common subtype\n",
      "of glioma. Over the past 10 years, classification has been used to define the combination of location, age and mutation (see the combination of\n",
      "location and age chart on page 11). In the USA, the 5-year survival rate is 19.6% in children under 14, 22.7% in 15-39 year-olds and 4.3% in adults\n",
      "over 40; across all ages the five-year survival rate is 5.6%. Therapeutic radiation to the central nervous system or head has been shown to increase\n",
      "the risk of developing glioblastoma.\n"
     ]
    }
   ],
   "source": [
    "'''\n",
    "We used greedy-decoding and used beam-search\n",
    "with a length-penalty, α, as in Wu et al.\n",
    "(2016) for the final large model.\n",
    "'''\n",
    "b1ch1sec1_text_enc = tokenizer.encode(\n",
    "    b1ch1sec1_text, return_tensors='pt').to('cuda')\n",
    "\n",
    "summ_enc = model.generate(\n",
    "    b1ch1sec1_text_enc,\n",
    "    min_length = SUMMARY_MIN_LEN,\n",
    "    max_length = SUMMARY_MAX_LEN,\n",
    "    do_sample = True,\n",
    "    top_k = 100,\n",
    "    #top_p = 0.9,\n",
    "    temperature = 1,\n",
    "    no_repeat_ngram_size = 5)\n",
    "\n",
    "summ = [tokenizer.decode(\n",
    "    se, skip_special_tokens=True) for se in summ_enc]\n",
    "\n",
    "for i, s in enumerate(summ):\n",
    "    print(len(summ_enc[i]))\n",
    "    print(textwrap.fill(\n",
    "        s, 150))"
   ]
  },
  {
   "cell_type": "markdown",
   "metadata": {
    "id": "Je3aQwhOzIjS"
   },
   "source": [
    "In sampling, the `length_penalty` parameter plays an important role because if it is not set to a value lower than 1, the model sometimes generates gibberish until `max_length`."
   ]
  },
  {
   "cell_type": "markdown",
   "metadata": {
    "id": "LwUHLUN9iBPm"
   },
   "source": [
    "#### Short summary"
   ]
  },
  {
   "cell_type": "code",
   "execution_count": null,
   "metadata": {
    "colab": {
     "base_uri": "https://localhost:8080/"
    },
    "executionInfo": {
     "elapsed": 29078,
     "status": "ok",
     "timestamp": 1606816145094,
     "user": {
      "displayName": "Marco Pietro Abrate",
      "photoUrl": "https://lh3.googleusercontent.com/a-/AOh14Gjh-8YF-8BlnrkN9mLZ0xfVOWfOh7kYncpYRv-Y=s64",
      "userId": "15422244832836998434"
     },
     "user_tz": -60
    },
    "id": "kjRWBXHSiBPm",
    "outputId": "4151daa1-6838-4363-fb48-8f34c8cceeda"
   },
   "outputs": [
    {
     "name": "stderr",
     "output_type": "stream",
     "text": [
      "Token indices sequence length is longer than the specified maximum sequence length for this model (2668 > 1024). Running this sequence through the model will result in indexing errors\n"
     ]
    },
    {
     "name": "stdout",
     "output_type": "stream",
     "text": [
      "The first chapter is 2668 tokens long.\n",
      "This would result in 3.0 chunks of length 889 to be summarized independently.\n",
      "Each summary would need to be of length between 50 and 116\n"
     ]
    }
   ],
   "source": [
    "len_ch1 = len(tokenizer.encode(\n",
    "    ''.join(df.loc[(0, 'ch1')].text.tolist())))\n",
    "print('The first chapter is', len_ch1, 'tokens long.')\n",
    "print('This would result in', np.ceil(len_ch1 / MODEL_MAX_LEN),\n",
    "      'chunks of length',\n",
    "      int(len_ch1 / np.ceil(len_ch1 / MODEL_MAX_LEN)),\n",
    "      'to be summarized independently.')\n",
    "print('Each summary would need to be of length between',\n",
    "      int(SUMMARY_MIN_LEN/np.ceil(len_ch1 / MODEL_MAX_LEN)), 'and',\n",
    "      int(SUMMARY_MAX_LEN/np.ceil(len_ch1 / MODEL_MAX_LEN)))\n",
    "\n",
    "SHORT_SUMM_MIN_LEN = int(SUMMARY_MIN_LEN/np.ceil(len_ch1 / MODEL_MAX_LEN))\n",
    "SHORT_SUMM_MAX_LEN = int(SUMMARY_MAX_LEN/np.ceil(len_ch1 / MODEL_MAX_LEN))"
   ]
  },
  {
   "cell_type": "code",
   "execution_count": null,
   "metadata": {
    "colab": {
     "base_uri": "https://localhost:8080/"
    },
    "executionInfo": {
     "elapsed": 33151,
     "status": "ok",
     "timestamp": 1606816149173,
     "user": {
      "displayName": "Marco Pietro Abrate",
      "photoUrl": "https://lh3.googleusercontent.com/a-/AOh14Gjh-8YF-8BlnrkN9mLZ0xfVOWfOh7kYncpYRv-Y=s64",
      "userId": "15422244832836998434"
     },
     "user_tz": -60
    },
    "id": "q3JaRgwRiBPr",
    "outputId": "bfbf9d79-587a-45b1-a074-733bfdd77fed"
   },
   "outputs": [
    {
     "name": "stdout",
     "output_type": "stream",
     "text": [
      "108\n",
      "Gene-based therapy involves: (1) the addition or modification and subsequent expression of a new gene to provide a specific additional function to a\n",
      "cell; (2) the translation of nucleic acids for vaccination against foreign antigens; or (3) the general transfer of nucleic acids to modify the\n",
      "function of an endogenous gene to effect a direct or indirect clinical benefit. This transfer of genetic information, which may be transient or\n",
      "permanent, produces gene products for intercellular, intracellular or systemic uses that may affect endogenous genes, compensate for pathogenic genes\n",
      "or augment defective genes.\n",
      "\n"
     ]
    }
   ],
   "source": [
    "'''\n",
    "During generation, we set beam size as 5,\n",
    "remove duplicated trigrams in beam search, and tuned\n",
    "the model with min-len, max-len, length penalty on the\n",
    "validation set (Fan et al., 2017)\n",
    "'''\n",
    "b0ch1sec1_text_enc = tokenizer.encode(\n",
    "    b0ch1sec1_text, return_tensors='pt').to('cuda')\n",
    "#'''\n",
    "summ_enc = model.generate(\n",
    "    b0ch1sec1_text_enc,\n",
    "    min_length = SHORT_SUMM_MIN_LEN,\n",
    "    max_length = SHORT_SUMM_MAX_LEN,\n",
    "    num_beams = 5,\n",
    "    length_penalty = 0.8,\n",
    "    no_repeat_ngram_size = 5,\n",
    "    num_return_sequences = 1,\n",
    "    early_stopping = True)\n",
    "'''\n",
    "summ_enc = model.generate(\n",
    "    b0ch1sec1_text_enc,\n",
    "    min_length = SHORT_SUMM_MIN_LEN,\n",
    "    max_length = SHORT_SUMM_MAX_LEN,\n",
    "    do_sample = True,\n",
    "    top_k = 0,\n",
    "    #top_p = 0,\n",
    "    temperature = 1)\n",
    "'''\n",
    "\n",
    "summ = [tokenizer.decode(\n",
    "    se, skip_special_tokens=True) for se in summ_enc]\n",
    "\n",
    "for i, s in enumerate(summ):\n",
    "    print(len(summ_enc[i]))\n",
    "    print(textwrap.fill(\n",
    "        s, 150))\n",
    "    print()"
   ]
  },
  {
   "cell_type": "code",
   "execution_count": null,
   "metadata": {
    "colab": {
     "base_uri": "https://localhost:8080/"
    },
    "executionInfo": {
     "elapsed": 36960,
     "status": "ok",
     "timestamp": 1606816152988,
     "user": {
      "displayName": "Marco Pietro Abrate",
      "photoUrl": "https://lh3.googleusercontent.com/a-/AOh14Gjh-8YF-8BlnrkN9mLZ0xfVOWfOh7kYncpYRv-Y=s64",
      "userId": "15422244832836998434"
     },
     "user_tz": -60
    },
    "id": "v4Cosb1BiBPu",
    "outputId": "18493df5-7008-4bcd-8b7b-95269faf32b4"
   },
   "outputs": [
    {
     "name": "stdout",
     "output_type": "stream",
     "text": [
      "116\n",
      "The worldwide incidence of intrinsic brain tumors (benign and malignant) is an estimated 26 per 100 000 person-years, while the overall age-adjusted\n",
      "incidence of gliomas ranges from 4.67 to 5.73 per 100 000 people. Glioblastoma is the most common childhood versus adult malignant brain tumor and\n",
      "most common subtype of glioma. Tumors arise in the brain (see the combination of location, age and mutation (see page 11). In the USA, the 5-year\n",
      "survival rate is 19.6% in children under 14, 22.7% in 15-39 year-\n",
      "\n"
     ]
    }
   ],
   "source": [
    "'''\n",
    "During generation, we set beam size as 5,\n",
    "remove duplicated trigrams in beam search, and tuned\n",
    "the model with min-len, max-len, length penalty on the\n",
    "validation set (Fan et al., 2017)\n",
    "'''\n",
    "b1ch1sec1_text_enc = tokenizer.encode(\n",
    "    b1ch1sec1_text, return_tensors='pt').to('cuda')\n",
    "#'''\n",
    "summ_enc = model.generate(\n",
    "    b1ch1sec1_text_enc,\n",
    "    min_length = SHORT_SUMM_MIN_LEN,\n",
    "    max_length = SHORT_SUMM_MAX_LEN,\n",
    "    num_beams = 5,\n",
    "    length_penalty = 0.8,\n",
    "    no_repeat_ngram_size = 5,\n",
    "    num_return_sequences = 1,\n",
    "    early_stopping = True)\n",
    "'''\n",
    "summ_enc = model.generate(\n",
    "    b1ch1sec1_enc,\n",
    "    min_length = SHORT_SUMM_MIN_LEN,\n",
    "    max_length = SHORT_SUMM_MAX_LEN,\n",
    "    do_sample = True,\n",
    "    top_k = 0,\n",
    "    #top_p = 0,\n",
    "    temperature = 1)\n",
    "'''\n",
    "\n",
    "summ = [tokenizer.decode(\n",
    "    se, skip_special_tokens=True) for se in summ_enc]\n",
    "\n",
    "for i, s in enumerate(summ):\n",
    "    print(len(summ_enc[i]))\n",
    "    print(textwrap.fill(\n",
    "        s, 150))\n",
    "    print()"
   ]
  },
  {
   "cell_type": "markdown",
   "metadata": {
    "id": "ta5HgDnLiBPx"
   },
   "source": [
    "PEGASUS works well for generating short summaries as well."
   ]
  },
  {
   "cell_type": "markdown",
   "metadata": {
    "id": "mWBJB7t-D3si"
   },
   "source": [
    "#### Manually add redundant info"
   ]
  },
  {
   "cell_type": "markdown",
   "metadata": {
    "id": "SCgagWP_D3sj"
   },
   "source": [
    "First, we check what the model includes in the normal length summary"
   ]
  },
  {
   "cell_type": "code",
   "execution_count": null,
   "metadata": {
    "colab": {
     "base_uri": "https://localhost:8080/"
    },
    "executionInfo": {
     "elapsed": 44726,
     "status": "ok",
     "timestamp": 1606816161267,
     "user": {
      "displayName": "Marco Pietro Abrate",
      "photoUrl": "https://lh3.googleusercontent.com/a-/AOh14Gjh-8YF-8BlnrkN9mLZ0xfVOWfOh7kYncpYRv-Y=s64",
      "userId": "15422244832836998434"
     },
     "user_tz": -60
    },
    "id": "-rz01QFCD3sk",
    "outputId": "63aa4e83-e055-4477-efc3-9146ab7ee55e"
   },
   "outputs": [
    {
     "name": "stdout",
     "output_type": "stream",
     "text": [
      "166\n",
      "The elucidation of the molecular basis of inherited diseases, from the discovery of the structure of DNA in 1953 to the sequencing of the human genome\n",
      "in 2002, has perhaps heralded a new age of genetic medicine, wherein it is now possible for the modern investigator or clinician to target the\n",
      "underlying disease mechanism. Gene-based therapy involves: (1) the addition or modification and subsequent expression of a new gene to provide a\n",
      "specific additional function to a cell; (2) the translation of nucleic acids for vaccination against foreign antigens; or (3) the general transfer of\n",
      "nucleic acids to modify the function of an endogenous gene to effect a direct or indirect clinical benefit. This transfer of genetic information,\n",
      "which may be transient or permanent, produces gene products for intercellular, intracellular or systemic uses that may affect endogenous genes,\n",
      "compensate for pathogenic genes or augment defective genes.\n"
     ]
    }
   ],
   "source": [
    "'''\n",
    "We used greedy-decoding and used beam-search\n",
    "with a length-penalty, α, as in Wu et al.\n",
    "(2016) for the final large model.\n",
    "'''\n",
    "b0ch1sec1_text_enc = tokenizer.encode(\n",
    "    b0ch1sec1_text, return_tensors='pt').to('cuda')\n",
    "\n",
    "summ_enc = model.generate(\n",
    "    b0ch1sec1_text_enc,\n",
    "    min_length = SUMMARY_MIN_LEN,\n",
    "    max_length = SUMMARY_MAX_LEN,\n",
    "    num_beams = 5,\n",
    "    length_penalty = 0.8,\n",
    "    no_repeat_ngram_size = 5,\n",
    "    num_return_sequences = 1,\n",
    "    early_stopping = True)\n",
    "\n",
    "summ = [tokenizer.decode(\n",
    "    se, skip_special_tokens=True) for se in summ_enc]\n",
    "\n",
    "for i, s in enumerate(summ):\n",
    "    print(len(summ_enc[i]))\n",
    "    print(textwrap.fill(\n",
    "        s, 150))"
   ]
  },
  {
   "cell_type": "markdown",
   "metadata": {
    "id": "PFSOgUizD3sp"
   },
   "source": [
    "Then, we search those sentences in the original text and we slightly change them, adding redundant information. Can the model understand it and skip those information?"
   ]
  },
  {
   "cell_type": "markdown",
   "metadata": {
    "id": "45bnedPVD3sp"
   },
   "source": [
    "#####Modified phrase:\n",
    "\n",
    "... wherein it is now possible for the modern investigator or clinician to target the underlying disease mechanism**, as already seen in Section 1.**"
   ]
  },
  {
   "cell_type": "code",
   "execution_count": null,
   "metadata": {
    "colab": {
     "base_uri": "https://localhost:8080/"
    },
    "executionInfo": {
     "elapsed": 44720,
     "status": "ok",
     "timestamp": 1606816161270,
     "user": {
      "displayName": "Marco Pietro Abrate",
      "photoUrl": "https://lh3.googleusercontent.com/a-/AOh14Gjh-8YF-8BlnrkN9mLZ0xfVOWfOh7kYncpYRv-Y=s64",
      "userId": "15422244832836998434"
     },
     "user_tz": -60
    },
    "id": "FDMaUt8LD3sq",
    "outputId": "d5116eaa-bd86-4646-8073-e35b478ccdfd"
   },
   "outputs": [
    {
     "name": "stdout",
     "output_type": "stream",
     "text": [
      "Principles of gene therapy\n",
      "\n",
      "History of genetic therapy\n",
      "Genes, comprising varying lengths of DNA, form the basis of inheritance and biological identity. The transcription of a gene into messenger RNA (mRNA) and consequent translation of that mRNA into a protein results in a fine control of all biological processes that occur in an organism. Genetic effects may be the consequence of a single gene (monogenic effect), a small number of genes (oligogenic effects) or numerous genes (polygenic effects).\n",
      "A frequent corollary follows that any mutations in the genetic code may result in dysfunctional proteins, resulting in a disease state. For instance, many common diseases have been shown to have a genetic component, with complex modes of inheritance further influenced by multiple environmental and epigenetic factors; these encompass oligogenic disorders (such as polydactyly, syndactyly, galactosemia and trimethylaminuria) and polygenic disorders (such as hypertension, coronary heart disease and diabetes). Other genetic disorders such as chromosomal abnormalities and mitochondrial genetic disorders exist, but these are beyond the scope of this book.\n",
      "Monogenic mutations result in rare inherited diseases such as thalassemia, sickle cell anemia, hemophilia, cystic fibrosis, certain muscular dystrophies, Tay-Sachs disease, fragile X syndrome and Huntington's disease. Although 5000-8000 monogenic diseases have been classified so far, treatments for such diseases have been palliative, without addressing the root cause of the disease.\n",
      "\n",
      "Defining gene therapy.\n",
      "The elucidation of the molecular basis of inherited diseases, from the discovery of the structure of DNA in 1953 to the sequencing of the human genome in 2002, has perhaps heralded a new age of genetic medicine, wherein it is now possible for the modern investigator or clinician to target the underlying disease mechanism, as already seen in Section 1. Gene-based therapy involves: (1) the addition or modification and subsequent expression of a new gene to provide a specific additional function to a cell; (2) the inoculation of nucleic acids for vaccination against foreign antigens; or (3) the general transfer of nucleic acids to modify the function of an endogenous gene to effect a direct or indirect clinical benefit. This transfer of genetic information, which may be transient or permanent, produces gene products for intercellular, intracellular or systemic uses that may affect endogenous genes, compensate for pathogenic genes or augment defective genes. It must be noted, though, that a formal definition for gene therapy is yet to be accepted by an international consortium and definitions may vary according to national regulatory agencies.\n",
      "\n",
      "Early approaches.\n",
      "While the use of exogenous DNA to replace defective DNA was proposed as early as 1970 by Rogers and 1972 by Friedmann and Roblin, other notable achievements in the field include the development of plasmids as delivery tools for exogenous genes by Cohen and Boyer in 1972 and the construction and use of retroviruses as vectors to effect plasmid delivery to cells by Mulligan in 1984, with subsequent translation to clinics in the later 1980s. Early gene therapy trials, such as those performed by Cline in 1980, were conducted without the approval of ethics committees, and questions were raised regarding the efficacy of gene transfer.\n",
      "Pioneering immunotherapy experiments in 1990 by Rosenberg and Anderson, wherein an autologous infusion of tumor-infiltrating lymphocytes transduced by retroviruses to express interleukin-2 was shown to influence the regression of metastatic melanoma, demonstrated the safety and tolerability of gene therapy in living people. This was followed by a clinical trial for adenosine deaminase (ADA) deficiency-severe combined immunodeficiency (SCID), wherein a retrovirus-mediated transduction of isolated T cells to express ADA followed by infusion of modified T cells back into patients resulted in a recovery of T-cell count.\n",
      "Other approved clinical trials at the turn of the millennium included an additional trial for ADA-SCID utilizing hematopoietic stem cells as a vector to effect gene therapy by Bordignon in 1992 and a trial for glioblastoma using antisense RNA by Trojan in 1993. The administration of an adenovirus-mediated therapy for ornithine transcarbamylase deficiency led to the unfortunate death of a patient because of an immune response, resulting in the suspension of clinical trials pending reformulation and codification of procedural and ethical protocols in western countries.\n"
     ]
    }
   ],
   "source": [
    "b0ch1sec1_text = \\\n",
    "'''Principles of gene therapy\n",
    "\n",
    "History of genetic therapy\n",
    "Genes, comprising varying lengths of DNA, form the basis of inheritance and biological identity. The transcription of a gene into messenger RNA (mRNA) and consequent translation of that mRNA into a protein results in a fine control of all biological processes that occur in an organism. Genetic effects may be the consequence of a single gene (monogenic effect), a small number of genes (oligogenic effects) or numerous genes (polygenic effects).\n",
    "A frequent corollary follows that any mutations in the genetic code may result in dysfunctional proteins, resulting in a disease state. For instance, many common diseases have been shown to have a genetic component, with complex modes of inheritance further influenced by multiple environmental and epigenetic factors; these encompass oligogenic disorders (such as polydactyly, syndactyly, galactosemia and trimethylaminuria) and polygenic disorders (such as hypertension, coronary heart disease and diabetes). Other genetic disorders such as chromosomal abnormalities and mitochondrial genetic disorders exist, but these are beyond the scope of this book.\n",
    "Monogenic mutations result in rare inherited diseases such as thalassemia, sickle cell anemia, hemophilia, cystic fibrosis, certain muscular dystrophies, Tay-Sachs disease, fragile X syndrome and Huntington's disease. Although 5000-8000 monogenic diseases have been classified so far, treatments for such diseases have been palliative, without addressing the root cause of the disease.\n",
    "\n",
    "Defining gene therapy.\n",
    "The elucidation of the molecular basis of inherited diseases, from the discovery of the structure of DNA in 1953 to the sequencing of the human genome in 2002, has perhaps heralded a new age of genetic medicine, wherein it is now possible for the modern investigator or clinician to target the underlying disease mechanism, as already seen in Section 1. Gene-based therapy involves: (1) the addition or modification and subsequent expression of a new gene to provide a specific additional function to a cell; (2) the inoculation of nucleic acids for vaccination against foreign antigens; or (3) the general transfer of nucleic acids to modify the function of an endogenous gene to effect a direct or indirect clinical benefit. This transfer of genetic information, which may be transient or permanent, produces gene products for intercellular, intracellular or systemic uses that may affect endogenous genes, compensate for pathogenic genes or augment defective genes. It must be noted, though, that a formal definition for gene therapy is yet to be accepted by an international consortium and definitions may vary according to national regulatory agencies.\n",
    "\n",
    "Early approaches.\n",
    "While the use of exogenous DNA to replace defective DNA was proposed as early as 1970 by Rogers and 1972 by Friedmann and Roblin, other notable achievements in the field include the development of plasmids as delivery tools for exogenous genes by Cohen and Boyer in 1972 and the construction and use of retroviruses as vectors to effect plasmid delivery to cells by Mulligan in 1984, with subsequent translation to clinics in the later 1980s. Early gene therapy trials, such as those performed by Cline in 1980, were conducted without the approval of ethics committees, and questions were raised regarding the efficacy of gene transfer.\n",
    "Pioneering immunotherapy experiments in 1990 by Rosenberg and Anderson, wherein an autologous infusion of tumor-infiltrating lymphocytes transduced by retroviruses to express interleukin-2 was shown to influence the regression of metastatic melanoma, demonstrated the safety and tolerability of gene therapy in living people. This was followed by a clinical trial for adenosine deaminase (ADA) deficiency-severe combined immunodeficiency (SCID), wherein a retrovirus-mediated transduction of isolated T cells to express ADA followed by infusion of modified T cells back into patients resulted in a recovery of T-cell count.\n",
    "Other approved clinical trials at the turn of the millennium included an additional trial for ADA-SCID utilizing hematopoietic stem cells as a vector to effect gene therapy by Bordignon in 1992 and a trial for glioblastoma using antisense RNA by Trojan in 1993. The administration of an adenovirus-mediated therapy for ornithine transcarbamylase deficiency led to the unfortunate death of a patient because of an immune response, resulting in the suspension of clinical trials pending reformulation and codification of procedural and ethical protocols in western countries.'''\n",
    "\n",
    "print(b0ch1sec1_text)"
   ]
  },
  {
   "cell_type": "code",
   "execution_count": null,
   "metadata": {
    "colab": {
     "base_uri": "https://localhost:8080/"
    },
    "executionInfo": {
     "elapsed": 52588,
     "status": "ok",
     "timestamp": 1606816169144,
     "user": {
      "displayName": "Marco Pietro Abrate",
      "photoUrl": "https://lh3.googleusercontent.com/a-/AOh14Gjh-8YF-8BlnrkN9mLZ0xfVOWfOh7kYncpYRv-Y=s64",
      "userId": "15422244832836998434"
     },
     "user_tz": -60
    },
    "id": "B5p3gk2dD3sr",
    "outputId": "fc3fa5d7-2fb2-423c-a417-4b4223ba343f"
   },
   "outputs": [
    {
     "name": "stdout",
     "output_type": "stream",
     "text": [
      "172\n",
      "The elucidation of the molecular basis of inherited diseases, from the discovery of the structure of DNA in 1953 to the sequencing of the human genome\n",
      "in 2002, has perhaps heralded a new age of genetic medicine, wherein it is now possible for the modern investigator or clinician to target the\n",
      "underlying disease mechanism, as already seen in Section 1. Gene-based therapy involves: (1) the addition or modification and subsequent expression of\n",
      "a new gene to provide a specific additional function to a cell; (2) the translation of nucleic acids for vaccination against foreign antigens; or (3)\n",
      "the general transfer of nucleic acids to modify the function of an endogenous gene to effect a direct or indirect clinical benefit. This transfer of\n",
      "genetic information, which may be transient or permanent, produces gene products for intercellular, intracellular or systemic uses that may affect\n",
      "endogenous genes, compensate for pathogenic genes or augment defective genes.\n"
     ]
    }
   ],
   "source": [
    "'''\n",
    "We used greedy-decoding and used beam-search\n",
    "with a length-penalty, α, as in Wu et al.\n",
    "(2016) for the final large model.\n",
    "'''\n",
    "b0ch1sec1_text_enc = tokenizer.encode(\n",
    "    b0ch1sec1_text, return_tensors='pt').to('cuda')\n",
    "\n",
    "summ_enc = model.generate(\n",
    "    b0ch1sec1_text_enc,\n",
    "    min_length = SUMMARY_MIN_LEN,\n",
    "    max_length = SUMMARY_MAX_LEN,\n",
    "    num_beams = 5,\n",
    "    length_penalty = 0.8,\n",
    "    no_repeat_ngram_size = 5,\n",
    "    num_return_sequences = 1,\n",
    "    early_stopping = True)\n",
    "\n",
    "summ = [tokenizer.decode(\n",
    "    se, skip_special_tokens=True) for se in summ_enc]\n",
    "\n",
    "for i, s in enumerate(summ):\n",
    "    print(len(summ_enc[i]))\n",
    "    print(textwrap.fill(\n",
    "        s, 150))"
   ]
  },
  {
   "cell_type": "markdown",
   "metadata": {
    "id": "XU1MTbVPD3ss"
   },
   "source": [
    "##### Modified phrase:\n",
    "\n",
    "... affect endogenous genes, compensate for pathogenic genes or augment defective genes **(as in Table 2.1)**."
   ]
  },
  {
   "cell_type": "code",
   "execution_count": null,
   "metadata": {
    "colab": {
     "base_uri": "https://localhost:8080/"
    },
    "executionInfo": {
     "elapsed": 52588,
     "status": "ok",
     "timestamp": 1606816169150,
     "user": {
      "displayName": "Marco Pietro Abrate",
      "photoUrl": "https://lh3.googleusercontent.com/a-/AOh14Gjh-8YF-8BlnrkN9mLZ0xfVOWfOh7kYncpYRv-Y=s64",
      "userId": "15422244832836998434"
     },
     "user_tz": -60
    },
    "id": "rfN7hGvfD3ss",
    "outputId": "0bc41a9d-6025-4691-acc9-d243cfddf7b3"
   },
   "outputs": [
    {
     "name": "stdout",
     "output_type": "stream",
     "text": [
      "Principles of gene therapy\n",
      "\n",
      "History of genetic therapy\n",
      "Genes, comprising varying lengths of DNA, form the basis of inheritance and biological identity. The transcription of a gene into messenger RNA (mRNA) and consequent translation of that mRNA into a protein results in a fine control of all biological processes that occur in an organism. Genetic effects may be the consequence of a single gene (monogenic effect), a small number of genes (oligogenic effects) or numerous genes (polygenic effects).\n",
      "A frequent corollary follows that any mutations in the genetic code may result in dysfunctional proteins, resulting in a disease state. For instance, many common diseases have been shown to have a genetic component, with complex modes of inheritance further influenced by multiple environmental and epigenetic factors; these encompass oligogenic disorders (such as polydactyly, syndactyly, galactosemia and trimethylaminuria) and polygenic disorders (such as hypertension, coronary heart disease and diabetes). Other genetic disorders such as chromosomal abnormalities and mitochondrial genetic disorders exist, but these are beyond the scope of this book.\n",
      "Monogenic mutations result in rare inherited diseases such as thalassemia, sickle cell anemia, hemophilia, cystic fibrosis, certain muscular dystrophies, Tay-Sachs disease, fragile X syndrome and Huntington's disease. Although 5000-8000 monogenic diseases have been classified so far, treatments for such diseases have been palliative, without addressing the root cause of the disease.\n",
      "\n",
      "Defining gene therapy.\n",
      "The elucidation of the molecular basis of inherited diseases, from the discovery of the structure of DNA in 1953 to the sequencing of the human genome in 2002, has perhaps heralded a new age of genetic medicine, wherein it is now possible for the modern investigator or clinician to target the underlying disease mechanism. Gene-based therapy involves: (1) the addition or modification and subsequent expression of a new gene to provide a specific additional function to a cell; (2) the inoculation of nucleic acids for vaccination against foreign antigens; or (3) the general transfer of nucleic acids to modify the function of an endogenous gene to effect a direct or indirect clinical benefit. This transfer of genetic information, which may be transient or permanent, produces gene products for intercellular, intracellular or systemic uses that may affect endogenous genes, compensate for pathogenic genes or augment defective genes (as in Table 1.2). It must be noted, though, that a formal definition for gene therapy is yet to be accepted by an international consortium and definitions may vary according to national regulatory agencies.\n",
      "\n",
      "Early approaches.\n",
      "While the use of exogenous DNA to replace defective DNA was proposed as early as 1970 by Rogers and 1972 by Friedmann and Roblin, other notable achievements in the field include the development of plasmids as delivery tools for exogenous genes by Cohen and Boyer in 1972 and the construction and use of retroviruses as vectors to effect plasmid delivery to cells by Mulligan in 1984, with subsequent translation to clinics in the later 1980s. Early gene therapy trials, such as those performed by Cline in 1980, were conducted without the approval of ethics committees, and questions were raised regarding the efficacy of gene transfer.\n",
      "Pioneering immunotherapy experiments in 1990 by Rosenberg and Anderson, wherein an autologous infusion of tumor-infiltrating lymphocytes transduced by retroviruses to express interleukin-2 was shown to influence the regression of metastatic melanoma, demonstrated the safety and tolerability of gene therapy in living people. This was followed by a clinical trial for adenosine deaminase (ADA) deficiency-severe combined immunodeficiency (SCID), wherein a retrovirus-mediated transduction of isolated T cells to express ADA followed by infusion of modified T cells back into patients resulted in a recovery of T-cell count.\n",
      "Other approved clinical trials at the turn of the millennium included an additional trial for ADA-SCID utilizing hematopoietic stem cells as a vector to effect gene therapy by Bordignon in 1992 and a trial for glioblastoma using antisense RNA by Trojan in 1993. The administration of an adenovirus-mediated therapy for ornithine transcarbamylase deficiency led to the unfortunate death of a patient because of an immune response, resulting in the suspension of clinical trials pending reformulation and codification of procedural and ethical protocols in western countries.\n"
     ]
    }
   ],
   "source": [
    "b0ch1sec1_text = \\\n",
    "'''Principles of gene therapy\n",
    "\n",
    "History of genetic therapy\n",
    "Genes, comprising varying lengths of DNA, form the basis of inheritance and biological identity. The transcription of a gene into messenger RNA (mRNA) and consequent translation of that mRNA into a protein results in a fine control of all biological processes that occur in an organism. Genetic effects may be the consequence of a single gene (monogenic effect), a small number of genes (oligogenic effects) or numerous genes (polygenic effects).\n",
    "A frequent corollary follows that any mutations in the genetic code may result in dysfunctional proteins, resulting in a disease state. For instance, many common diseases have been shown to have a genetic component, with complex modes of inheritance further influenced by multiple environmental and epigenetic factors; these encompass oligogenic disorders (such as polydactyly, syndactyly, galactosemia and trimethylaminuria) and polygenic disorders (such as hypertension, coronary heart disease and diabetes). Other genetic disorders such as chromosomal abnormalities and mitochondrial genetic disorders exist, but these are beyond the scope of this book.\n",
    "Monogenic mutations result in rare inherited diseases such as thalassemia, sickle cell anemia, hemophilia, cystic fibrosis, certain muscular dystrophies, Tay-Sachs disease, fragile X syndrome and Huntington's disease. Although 5000-8000 monogenic diseases have been classified so far, treatments for such diseases have been palliative, without addressing the root cause of the disease.\n",
    "\n",
    "Defining gene therapy.\n",
    "The elucidation of the molecular basis of inherited diseases, from the discovery of the structure of DNA in 1953 to the sequencing of the human genome in 2002, has perhaps heralded a new age of genetic medicine, wherein it is now possible for the modern investigator or clinician to target the underlying disease mechanism. Gene-based therapy involves: (1) the addition or modification and subsequent expression of a new gene to provide a specific additional function to a cell; (2) the inoculation of nucleic acids for vaccination against foreign antigens; or (3) the general transfer of nucleic acids to modify the function of an endogenous gene to effect a direct or indirect clinical benefit. This transfer of genetic information, which may be transient or permanent, produces gene products for intercellular, intracellular or systemic uses that may affect endogenous genes, compensate for pathogenic genes or augment defective genes (as in Table 1.2). It must be noted, though, that a formal definition for gene therapy is yet to be accepted by an international consortium and definitions may vary according to national regulatory agencies.\n",
    "\n",
    "Early approaches.\n",
    "While the use of exogenous DNA to replace defective DNA was proposed as early as 1970 by Rogers and 1972 by Friedmann and Roblin, other notable achievements in the field include the development of plasmids as delivery tools for exogenous genes by Cohen and Boyer in 1972 and the construction and use of retroviruses as vectors to effect plasmid delivery to cells by Mulligan in 1984, with subsequent translation to clinics in the later 1980s. Early gene therapy trials, such as those performed by Cline in 1980, were conducted without the approval of ethics committees, and questions were raised regarding the efficacy of gene transfer.\n",
    "Pioneering immunotherapy experiments in 1990 by Rosenberg and Anderson, wherein an autologous infusion of tumor-infiltrating lymphocytes transduced by retroviruses to express interleukin-2 was shown to influence the regression of metastatic melanoma, demonstrated the safety and tolerability of gene therapy in living people. This was followed by a clinical trial for adenosine deaminase (ADA) deficiency-severe combined immunodeficiency (SCID), wherein a retrovirus-mediated transduction of isolated T cells to express ADA followed by infusion of modified T cells back into patients resulted in a recovery of T-cell count.\n",
    "Other approved clinical trials at the turn of the millennium included an additional trial for ADA-SCID utilizing hematopoietic stem cells as a vector to effect gene therapy by Bordignon in 1992 and a trial for glioblastoma using antisense RNA by Trojan in 1993. The administration of an adenovirus-mediated therapy for ornithine transcarbamylase deficiency led to the unfortunate death of a patient because of an immune response, resulting in the suspension of clinical trials pending reformulation and codification of procedural and ethical protocols in western countries.'''\n",
    "\n",
    "print(b0ch1sec1_text)"
   ]
  },
  {
   "cell_type": "code",
   "execution_count": null,
   "metadata": {
    "colab": {
     "base_uri": "https://localhost:8080/"
    },
    "executionInfo": {
     "elapsed": 61666,
     "status": "ok",
     "timestamp": 1606816178235,
     "user": {
      "displayName": "Marco Pietro Abrate",
      "photoUrl": "https://lh3.googleusercontent.com/a-/AOh14Gjh-8YF-8BlnrkN9mLZ0xfVOWfOh7kYncpYRv-Y=s64",
      "userId": "15422244832836998434"
     },
     "user_tz": -60
    },
    "id": "qDctxE1BD3su",
    "outputId": "feb36b24-4f44-46e3-e185-50f2d5a1103c"
   },
   "outputs": [
    {
     "name": "stdout",
     "output_type": "stream",
     "text": [
      "171\n",
      "The elucidation of the molecular basis of inherited diseases, from the discovery of the structure of DNA in 1953 to the sequencing of the human genome\n",
      "in 2002, has perhaps heralded a new age of genetic medicine, wherein it is now possible for the modern investigator or clinician to target the\n",
      "underlying disease mechanism. Gene-based therapy involves: (1) the addition or modification and subsequent expression of a new gene to provide a\n",
      "specific additional function to a cell; (2) the construction of nucleic acids for vaccination against foreign antigens; or (3) the general transfer of\n",
      "nucleic acids to modify the function of an endogenous gene to effect a direct or indirect clinical benefit. This transfer of genetic information,\n",
      "which may be transient or permanent, produces gene products for intercellular, intracellular or systemic uses that may affect endogenous genes,\n",
      "compensate for pathogenic genes or augment defective genes (as in Table 1.2).\n"
     ]
    }
   ],
   "source": [
    "'''\n",
    "We used greedy-decoding and used beam-search\n",
    "with a length-penalty, α, as in Wu et al.\n",
    "(2016) for the final large model.\n",
    "'''\n",
    "b0ch1sec1_text_enc = tokenizer.encode(\n",
    "    b0ch1sec1_text, return_tensors='pt').to('cuda')\n",
    "\n",
    "summ_enc = model.generate(\n",
    "    b0ch1sec1_text_enc,\n",
    "    min_length = SUMMARY_MIN_LEN,\n",
    "    max_length = SUMMARY_MAX_LEN,\n",
    "    num_beams = 5,\n",
    "    length_penalty = 0.8,\n",
    "    no_repeat_ngram_size = 5,\n",
    "    num_return_sequences = 1,\n",
    "    early_stopping = True)\n",
    "\n",
    "summ = [tokenizer.decode(\n",
    "    se, skip_special_tokens=True) for se in summ_enc]\n",
    "\n",
    "for i, s in enumerate(summ):\n",
    "    print(len(summ_enc[i]))\n",
    "    print(textwrap.fill(\n",
    "        s, 150))"
   ]
  },
  {
   "cell_type": "markdown",
   "metadata": {
    "id": "QHWzVoHdD3sv"
   },
   "source": [
    "##### Modified phrase:\n",
    "\n",
    "... the addition **(Figure 1.1)** or modification **(Figure 1.2)** and subsequent expression of a new gene"
   ]
  },
  {
   "cell_type": "code",
   "execution_count": null,
   "metadata": {
    "colab": {
     "base_uri": "https://localhost:8080/"
    },
    "executionInfo": {
     "elapsed": 61662,
     "status": "ok",
     "timestamp": 1606816178236,
     "user": {
      "displayName": "Marco Pietro Abrate",
      "photoUrl": "https://lh3.googleusercontent.com/a-/AOh14Gjh-8YF-8BlnrkN9mLZ0xfVOWfOh7kYncpYRv-Y=s64",
      "userId": "15422244832836998434"
     },
     "user_tz": -60
    },
    "id": "2z_2pzTkD3sv",
    "outputId": "6f167c11-8adf-4937-ee2d-2de3f6c8ee46"
   },
   "outputs": [
    {
     "name": "stdout",
     "output_type": "stream",
     "text": [
      "Principles of gene therapy\n",
      "\n",
      "History of genetic therapy\n",
      "Genes, comprising varying lengths of DNA, form the basis of inheritance and biological identity. The transcription of a gene into messenger RNA (mRNA) and consequent translation of that mRNA into a protein results in a fine control of all biological processes that occur in an organism. Genetic effects may be the consequence of a single gene (monogenic effect), a small number of genes (oligogenic effects) or numerous genes (polygenic effects).\n",
      "A frequent corollary follows that any mutations in the genetic code may result in dysfunctional proteins, resulting in a disease state. For instance, many common diseases have been shown to have a genetic component, with complex modes of inheritance further influenced by multiple environmental and epigenetic factors; these encompass oligogenic disorders (such as polydactyly, syndactyly, galactosemia and trimethylaminuria) and polygenic disorders (such as hypertension, coronary heart disease and diabetes). Other genetic disorders such as chromosomal abnormalities and mitochondrial genetic disorders exist, but these are beyond the scope of this book.\n",
      "Monogenic mutations result in rare inherited diseases such as thalassemia, sickle cell anemia, hemophilia, cystic fibrosis, certain muscular dystrophies, Tay-Sachs disease, fragile X syndrome and Huntington's disease. Although 5000-8000 monogenic diseases have been classified so far, treatments for such diseases have been palliative, without addressing the root cause of the disease.\n",
      "\n",
      "Defining gene therapy.\n",
      "The elucidation of the molecular basis of inherited diseases, from the discovery of the structure of DNA in 1953 to the sequencing of the human genome in 2002, has perhaps heralded a new age of genetic medicine, wherein it is now possible for the modern investigator or clinician to target the underlying disease mechanism. Gene-based therapy involves: (1) the addition (Figure 1.1) or modification (Figure 1.2) and subsequent expression of a new gene to provide a specific additional function to a cell; (2) the inoculation of nucleic acids for vaccination against foreign antigens; or (3) the general transfer of nucleic acids to modify the function of an endogenous gene to effect a direct or indirect clinical benefit. This transfer of genetic information, which may be transient or permanent, produces gene products for intercellular, intracellular or systemic uses that may affect endogenous genes, compensate for pathogenic genes or augment defective genes. It must be noted, though, that a formal definition for gene therapy is yet to be accepted by an international consortium and definitions may vary according to national regulatory agencies.\n",
      "\n",
      "Early approaches.\n",
      "While the use of exogenous DNA to replace defective DNA was proposed as early as 1970 by Rogers and 1972 by Friedmann and Roblin, other notable achievements in the field include the development of plasmids as delivery tools for exogenous genes by Cohen and Boyer in 1972 and the construction and use of retroviruses as vectors to effect plasmid delivery to cells by Mulligan in 1984, with subsequent translation to clinics in the later 1980s. Early gene therapy trials, such as those performed by Cline in 1980, were conducted without the approval of ethics committees, and questions were raised regarding the efficacy of gene transfer.\n",
      "Pioneering immunotherapy experiments in 1990 by Rosenberg and Anderson, wherein an autologous infusion of tumor-infiltrating lymphocytes transduced by retroviruses to express interleukin-2 was shown to influence the regression of metastatic melanoma, demonstrated the safety and tolerability of gene therapy in living people. This was followed by a clinical trial for adenosine deaminase (ADA) deficiency-severe combined immunodeficiency (SCID), wherein a retrovirus-mediated transduction of isolated T cells to express ADA followed by infusion of modified T cells back into patients resulted in a recovery of T-cell count.\n",
      "Other approved clinical trials at the turn of the millennium included an additional trial for ADA-SCID utilizing hematopoietic stem cells as a vector to effect gene therapy by Bordignon in 1992 and a trial for glioblastoma using antisense RNA by Trojan in 1993. The administration of an adenovirus-mediated therapy for ornithine transcarbamylase deficiency led to the unfortunate death of a patient because of an immune response, resulting in the suspension of clinical trials pending reformulation and codification of procedural and ethical protocols in western countries.\n"
     ]
    }
   ],
   "source": [
    "b0ch1sec1_text = \\\n",
    "'''Principles of gene therapy\n",
    "\n",
    "History of genetic therapy\n",
    "Genes, comprising varying lengths of DNA, form the basis of inheritance and biological identity. The transcription of a gene into messenger RNA (mRNA) and consequent translation of that mRNA into a protein results in a fine control of all biological processes that occur in an organism. Genetic effects may be the consequence of a single gene (monogenic effect), a small number of genes (oligogenic effects) or numerous genes (polygenic effects).\n",
    "A frequent corollary follows that any mutations in the genetic code may result in dysfunctional proteins, resulting in a disease state. For instance, many common diseases have been shown to have a genetic component, with complex modes of inheritance further influenced by multiple environmental and epigenetic factors; these encompass oligogenic disorders (such as polydactyly, syndactyly, galactosemia and trimethylaminuria) and polygenic disorders (such as hypertension, coronary heart disease and diabetes). Other genetic disorders such as chromosomal abnormalities and mitochondrial genetic disorders exist, but these are beyond the scope of this book.\n",
    "Monogenic mutations result in rare inherited diseases such as thalassemia, sickle cell anemia, hemophilia, cystic fibrosis, certain muscular dystrophies, Tay-Sachs disease, fragile X syndrome and Huntington's disease. Although 5000-8000 monogenic diseases have been classified so far, treatments for such diseases have been palliative, without addressing the root cause of the disease.\n",
    "\n",
    "Defining gene therapy.\n",
    "The elucidation of the molecular basis of inherited diseases, from the discovery of the structure of DNA in 1953 to the sequencing of the human genome in 2002, has perhaps heralded a new age of genetic medicine, wherein it is now possible for the modern investigator or clinician to target the underlying disease mechanism. Gene-based therapy involves: (1) the addition (Figure 1.1) or modification (Figure 1.2) and subsequent expression of a new gene to provide a specific additional function to a cell; (2) the inoculation of nucleic acids for vaccination against foreign antigens; or (3) the general transfer of nucleic acids to modify the function of an endogenous gene to effect a direct or indirect clinical benefit. This transfer of genetic information, which may be transient or permanent, produces gene products for intercellular, intracellular or systemic uses that may affect endogenous genes, compensate for pathogenic genes or augment defective genes. It must be noted, though, that a formal definition for gene therapy is yet to be accepted by an international consortium and definitions may vary according to national regulatory agencies.\n",
    "\n",
    "Early approaches.\n",
    "While the use of exogenous DNA to replace defective DNA was proposed as early as 1970 by Rogers and 1972 by Friedmann and Roblin, other notable achievements in the field include the development of plasmids as delivery tools for exogenous genes by Cohen and Boyer in 1972 and the construction and use of retroviruses as vectors to effect plasmid delivery to cells by Mulligan in 1984, with subsequent translation to clinics in the later 1980s. Early gene therapy trials, such as those performed by Cline in 1980, were conducted without the approval of ethics committees, and questions were raised regarding the efficacy of gene transfer.\n",
    "Pioneering immunotherapy experiments in 1990 by Rosenberg and Anderson, wherein an autologous infusion of tumor-infiltrating lymphocytes transduced by retroviruses to express interleukin-2 was shown to influence the regression of metastatic melanoma, demonstrated the safety and tolerability of gene therapy in living people. This was followed by a clinical trial for adenosine deaminase (ADA) deficiency-severe combined immunodeficiency (SCID), wherein a retrovirus-mediated transduction of isolated T cells to express ADA followed by infusion of modified T cells back into patients resulted in a recovery of T-cell count.\n",
    "Other approved clinical trials at the turn of the millennium included an additional trial for ADA-SCID utilizing hematopoietic stem cells as a vector to effect gene therapy by Bordignon in 1992 and a trial for glioblastoma using antisense RNA by Trojan in 1993. The administration of an adenovirus-mediated therapy for ornithine transcarbamylase deficiency led to the unfortunate death of a patient because of an immune response, resulting in the suspension of clinical trials pending reformulation and codification of procedural and ethical protocols in western countries.'''\n",
    "\n",
    "print(b0ch1sec1_text)"
   ]
  },
  {
   "cell_type": "code",
   "execution_count": null,
   "metadata": {
    "colab": {
     "base_uri": "https://localhost:8080/"
    },
    "executionInfo": {
     "elapsed": 69903,
     "status": "ok",
     "timestamp": 1606816186483,
     "user": {
      "displayName": "Marco Pietro Abrate",
      "photoUrl": "https://lh3.googleusercontent.com/a-/AOh14Gjh-8YF-8BlnrkN9mLZ0xfVOWfOh7kYncpYRv-Y=s64",
      "userId": "15422244832836998434"
     },
     "user_tz": -60
    },
    "id": "np4x6_jhD3sw",
    "outputId": "593f2d93-0449-476a-b944-6d2f88d044e2"
   },
   "outputs": [
    {
     "name": "stdout",
     "output_type": "stream",
     "text": [
      "174\n",
      "The elucidation of the molecular basis of inherited diseases, from the discovery of the structure of DNA in 1953 to the sequencing of the human genome\n",
      "in 2002, has perhaps heralded a new age of genetic medicine, wherein it is now possible for the modern investigator or clinician to target the\n",
      "underlying disease mechanism. Gene-based therapy involves: (1) the addition (Figure 1.1) or modification (Figure 1.2) and subsequent expression of a\n",
      "new gene to provide a specific additional function to a cell; (2) the translation of nucleic acids for vaccination against foreign antigens; or (3)\n",
      "the general transfer of nucleic acids to modify the function of an endogenous gene to effect a direct or indirect clinical benefit. This transfer of\n",
      "genetic information, which may be transient or permanent, produces gene products for intercellular, intracellular or systemic uses that may affect\n",
      "endogenous genes, compensate for pathogenic genes or augment defective genes.\n"
     ]
    }
   ],
   "source": [
    "'''\n",
    "We used greedy-decoding and used beam-search\n",
    "with a length-penalty, α, as in Wu et al.\n",
    "(2016) for the final large model.\n",
    "'''\n",
    "b0ch1sec1_text_enc = tokenizer.encode(\n",
    "    b0ch1sec1_text, return_tensors='pt').to('cuda')\n",
    "\n",
    "summ_enc = model.generate(\n",
    "    b0ch1sec1_text_enc,\n",
    "    min_length = SUMMARY_MIN_LEN,\n",
    "    max_length = SUMMARY_MAX_LEN,\n",
    "    num_beams = 5,\n",
    "    length_penalty = 0.8,\n",
    "    no_repeat_ngram_size = 5,\n",
    "    num_return_sequences = 1,\n",
    "    early_stopping = True)\n",
    "\n",
    "summ = [tokenizer.decode(\n",
    "    se, skip_special_tokens=True) for se in summ_enc]\n",
    "\n",
    "for i, s in enumerate(summ):\n",
    "    print(len(summ_enc[i]))\n",
    "    print(textwrap.fill(\n",
    "        s, 150))"
   ]
  },
  {
   "cell_type": "markdown",
   "metadata": {
    "id": "M1iJ8fhXD3sw"
   },
   "source": [
    "##### Modified phrase:\n",
    "\n",
    "... **The discovery in 1912 of the double helix, the twisted-ladder structure of the DNA, by James Watson and Francis Crick marked a milestone in the history of science.** The elucidation of the molecular basis of inherited diseases, from the discovery of the structure of DNA in 1953 ..."
   ]
  },
  {
   "cell_type": "code",
   "execution_count": null,
   "metadata": {
    "colab": {
     "base_uri": "https://localhost:8080/"
    },
    "executionInfo": {
     "elapsed": 69898,
     "status": "ok",
     "timestamp": 1606816186485,
     "user": {
      "displayName": "Marco Pietro Abrate",
      "photoUrl": "https://lh3.googleusercontent.com/a-/AOh14Gjh-8YF-8BlnrkN9mLZ0xfVOWfOh7kYncpYRv-Y=s64",
      "userId": "15422244832836998434"
     },
     "user_tz": -60
    },
    "id": "W7o4Mc5hD3sx",
    "outputId": "e39c08c6-30d2-4150-841e-08e1e62a8ecd"
   },
   "outputs": [
    {
     "name": "stdout",
     "output_type": "stream",
     "text": [
      "Principles of gene therapy\n",
      "\n",
      "History of genetic therapy\n",
      "Genes, comprising varying lengths of DNA, form the basis of inheritance and biological identity. The transcription of a gene into messenger RNA (mRNA) and consequent translation of that mRNA into a protein results in a fine control of all biological processes that occur in an organism. Genetic effects may be the consequence of a single gene (monogenic effect), a small number of genes (oligogenic effects) or numerous genes (polygenic effects).\n",
      "A frequent corollary follows that any mutations in the genetic code may result in dysfunctional proteins, resulting in a disease state. For instance, many common diseases have been shown to have a genetic component, with complex modes of inheritance further influenced by multiple environmental and epigenetic factors; these encompass oligogenic disorders (such as polydactyly, syndactyly, galactosemia and trimethylaminuria) and polygenic disorders (such as hypertension, coronary heart disease and diabetes). Other genetic disorders such as chromosomal abnormalities and mitochondrial genetic disorders exist, but these are beyond the scope of this book.\n",
      "Monogenic mutations result in rare inherited diseases such as thalassemia, sickle cell anemia, hemophilia, cystic fibrosis, certain muscular dystrophies, Tay-Sachs disease, fragile X syndrome and Huntington's disease. Although 5000-8000 monogenic diseases have been classified so far, treatments for such diseases have been palliative, without addressing the root cause of the disease.\n",
      "\n",
      "Defining gene therapy.\n",
      "The discovery in 1912 of the double helix, the twisted-ladder structure of the DNA, by James Watson and Francis Crick marked a milestone in the history of science. The elucidation of the molecular basis of inherited diseases, from the discovery of the structure of DNA in 1953 to the sequencing of the human genome in 2002, has perhaps heralded a new age of genetic medicine, wherein it is now possible for the modern investigator or clinician to target the underlying disease mechanism. Gene-based therapy involves: (1) the addition or modification and subsequent expression of a new gene to provide a specific additional function to a cell; (2) the inoculation of nucleic acids for vaccination against foreign antigens; or (3) the general transfer of nucleic acids to modify the function of an endogenous gene to effect a direct or indirect clinical benefit. This transfer of genetic information, which may be transient or permanent, produces gene products for intercellular, intracellular or systemic uses that may affect endogenous genes, compensate for pathogenic genes or augment defective genes. It must be noted, though, that a formal definition for gene therapy is yet to be accepted by an international consortium and definitions may vary according to national regulatory agencies.\n",
      "\n",
      "Early approaches.\n",
      "While the use of exogenous DNA to replace defective DNA was proposed as early as 1970 by Rogers and 1972 by Friedmann and Roblin, other notable achievements in the field include the development of plasmids as delivery tools for exogenous genes by Cohen and Boyer in 1972 and the construction and use of retroviruses as vectors to effect plasmid delivery to cells by Mulligan in 1984, with subsequent translation to clinics in the later 1980s. Early gene therapy trials, such as those performed by Cline in 1980, were conducted without the approval of ethics committees, and questions were raised regarding the efficacy of gene transfer.\n",
      "Pioneering immunotherapy experiments in 1990 by Rosenberg and Anderson, wherein an autologous infusion of tumor-infiltrating lymphocytes transduced by retroviruses to express interleukin-2 was shown to influence the regression of metastatic melanoma, demonstrated the safety and tolerability of gene therapy in living people. This was followed by a clinical trial for adenosine deaminase (ADA) deficiency-severe combined immunodeficiency (SCID), wherein a retrovirus-mediated transduction of isolated T cells to express ADA followed by infusion of modified T cells back into patients resulted in a recovery of T-cell count.\n",
      "Other approved clinical trials at the turn of the millennium included an additional trial for ADA-SCID utilizing hematopoietic stem cells as a vector to effect gene therapy by Bordignon in 1992 and a trial for glioblastoma using antisense RNA by Trojan in 1993. The administration of an adenovirus-mediated therapy for ornithine transcarbamylase deficiency led to the unfortunate death of a patient because of an immune response, resulting in the suspension of clinical trials pending reformulation and codification of procedural and ethical protocols in western countries.\n"
     ]
    }
   ],
   "source": [
    "b0ch1sec1_text = \\\n",
    "'''Principles of gene therapy\n",
    "\n",
    "History of genetic therapy\n",
    "Genes, comprising varying lengths of DNA, form the basis of inheritance and biological identity. The transcription of a gene into messenger RNA (mRNA) and consequent translation of that mRNA into a protein results in a fine control of all biological processes that occur in an organism. Genetic effects may be the consequence of a single gene (monogenic effect), a small number of genes (oligogenic effects) or numerous genes (polygenic effects).\n",
    "A frequent corollary follows that any mutations in the genetic code may result in dysfunctional proteins, resulting in a disease state. For instance, many common diseases have been shown to have a genetic component, with complex modes of inheritance further influenced by multiple environmental and epigenetic factors; these encompass oligogenic disorders (such as polydactyly, syndactyly, galactosemia and trimethylaminuria) and polygenic disorders (such as hypertension, coronary heart disease and diabetes). Other genetic disorders such as chromosomal abnormalities and mitochondrial genetic disorders exist, but these are beyond the scope of this book.\n",
    "Monogenic mutations result in rare inherited diseases such as thalassemia, sickle cell anemia, hemophilia, cystic fibrosis, certain muscular dystrophies, Tay-Sachs disease, fragile X syndrome and Huntington's disease. Although 5000-8000 monogenic diseases have been classified so far, treatments for such diseases have been palliative, without addressing the root cause of the disease.\n",
    "\n",
    "Defining gene therapy.\n",
    "The discovery in 1912 of the double helix, the twisted-ladder structure of the DNA, by James Watson and Francis Crick marked a milestone in the history of science. The elucidation of the molecular basis of inherited diseases, from the discovery of the structure of DNA in 1953 to the sequencing of the human genome in 2002, has perhaps heralded a new age of genetic medicine, wherein it is now possible for the modern investigator or clinician to target the underlying disease mechanism. Gene-based therapy involves: (1) the addition or modification and subsequent expression of a new gene to provide a specific additional function to a cell; (2) the inoculation of nucleic acids for vaccination against foreign antigens; or (3) the general transfer of nucleic acids to modify the function of an endogenous gene to effect a direct or indirect clinical benefit. This transfer of genetic information, which may be transient or permanent, produces gene products for intercellular, intracellular or systemic uses that may affect endogenous genes, compensate for pathogenic genes or augment defective genes. It must be noted, though, that a formal definition for gene therapy is yet to be accepted by an international consortium and definitions may vary according to national regulatory agencies.\n",
    "\n",
    "Early approaches.\n",
    "While the use of exogenous DNA to replace defective DNA was proposed as early as 1970 by Rogers and 1972 by Friedmann and Roblin, other notable achievements in the field include the development of plasmids as delivery tools for exogenous genes by Cohen and Boyer in 1972 and the construction and use of retroviruses as vectors to effect plasmid delivery to cells by Mulligan in 1984, with subsequent translation to clinics in the later 1980s. Early gene therapy trials, such as those performed by Cline in 1980, were conducted without the approval of ethics committees, and questions were raised regarding the efficacy of gene transfer.\n",
    "Pioneering immunotherapy experiments in 1990 by Rosenberg and Anderson, wherein an autologous infusion of tumor-infiltrating lymphocytes transduced by retroviruses to express interleukin-2 was shown to influence the regression of metastatic melanoma, demonstrated the safety and tolerability of gene therapy in living people. This was followed by a clinical trial for adenosine deaminase (ADA) deficiency-severe combined immunodeficiency (SCID), wherein a retrovirus-mediated transduction of isolated T cells to express ADA followed by infusion of modified T cells back into patients resulted in a recovery of T-cell count.\n",
    "Other approved clinical trials at the turn of the millennium included an additional trial for ADA-SCID utilizing hematopoietic stem cells as a vector to effect gene therapy by Bordignon in 1992 and a trial for glioblastoma using antisense RNA by Trojan in 1993. The administration of an adenovirus-mediated therapy for ornithine transcarbamylase deficiency led to the unfortunate death of a patient because of an immune response, resulting in the suspension of clinical trials pending reformulation and codification of procedural and ethical protocols in western countries.'''\n",
    "\n",
    "print(b0ch1sec1_text)"
   ]
  },
  {
   "cell_type": "code",
   "execution_count": null,
   "metadata": {
    "colab": {
     "base_uri": "https://localhost:8080/"
    },
    "executionInfo": {
     "elapsed": 77806,
     "status": "ok",
     "timestamp": 1606816194397,
     "user": {
      "displayName": "Marco Pietro Abrate",
      "photoUrl": "https://lh3.googleusercontent.com/a-/AOh14Gjh-8YF-8BlnrkN9mLZ0xfVOWfOh7kYncpYRv-Y=s64",
      "userId": "15422244832836998434"
     },
     "user_tz": -60
    },
    "id": "OQ1ndd2lD3sy",
    "outputId": "2c3b8712-597c-495a-bd2d-69eef32595f8"
   },
   "outputs": [
    {
     "name": "stdout",
     "output_type": "stream",
     "text": [
      "166\n",
      "The elucidation of the molecular basis of inherited diseases, from the discovery of the structure of DNA in 1953 to the sequencing of the human genome\n",
      "in 2002, has perhaps heralded a new age of genetic medicine, wherein it is now possible for the modern investigator or clinician to target the\n",
      "underlying disease mechanism. Gene-based therapy involves: (1) the addition or modification and subsequent expression of a new gene to provide a\n",
      "specific additional function to a cell; (2) the inoculation of nucleic acids for vaccination against foreign antigens; or (3) the general transfer of\n",
      "nucleic acids to modify the function of an endogenous gene to effect a direct or indirect clinical benefit. This transfer of genetic information,\n",
      "which may be transient or permanent, produces gene products for intercellular, intracellular or systemic uses that may affect endogenous genes,\n",
      "compensate for pathogenic genes or augment defective genes.\n"
     ]
    }
   ],
   "source": [
    "'''\n",
    "We used greedy-decoding and used beam-search\n",
    "with a length-penalty, α, as in Wu et al.\n",
    "(2016) for the final large model.\n",
    "'''\n",
    "b0ch1sec1_text_enc = tokenizer.encode(\n",
    "    b0ch1sec1_text, return_tensors='pt').to('cuda')\n",
    "\n",
    "summ_enc = model.generate(\n",
    "    b0ch1sec1_text_enc,\n",
    "    min_length = SUMMARY_MIN_LEN,\n",
    "    max_length = SUMMARY_MAX_LEN,\n",
    "    num_beams = 5,\n",
    "    length_penalty = 0.8,\n",
    "    no_repeat_ngram_size = 5,\n",
    "    num_return_sequences = 1,\n",
    "    early_stopping = True)\n",
    "\n",
    "summ = [tokenizer.decode(\n",
    "    se, skip_special_tokens=True) for se in summ_enc]\n",
    "\n",
    "for i, s in enumerate(summ):\n",
    "    print(len(summ_enc[i]))\n",
    "    print(textwrap.fill(\n",
    "        s, 150))"
   ]
  },
  {
   "cell_type": "markdown",
   "metadata": {
    "id": "3cYPEEgDguVI"
   },
   "source": [
    "#### Min / Max Length grid search"
   ]
  },
  {
   "cell_type": "code",
   "execution_count": null,
   "metadata": {
    "colab": {
     "base_uri": "https://localhost:8080/"
    },
    "executionInfo": {
     "elapsed": 217380,
     "status": "ok",
     "timestamp": 1606816334721,
     "user": {
      "displayName": "Marco Pietro Abrate",
      "photoUrl": "https://lh3.googleusercontent.com/a-/AOh14Gjh-8YF-8BlnrkN9mLZ0xfVOWfOh7kYncpYRv-Y=s64",
      "userId": "15422244832836998434"
     },
     "user_tz": -60
    },
    "id": "X1jDEZpdguVK",
    "outputId": "a69c8ab8-39c9-45e9-91f8-6e217f66030c"
   },
   "outputs": [
    {
     "name": "stdout",
     "output_type": "stream",
     "text": [
      "min_length =  86 ratio 0.1\n",
      "max_length =  206 ratio 0.24000000000000002\n",
      "summary length =  108\n",
      "elapsed time 5.49 s\n",
      "Gene-based therapy involves: (1) the addition or modification and subsequent expression of a new gene to provide a specific additional function to a\n",
      "cell; (2) the inoculation of nucleic acids for vaccination against foreign antigens; or (3) the general transfer of nucleic acids to modify the\n",
      "function of an endogenous gene to effect a direct or indirect clinical benefit. This transfer of genetic information, which may be transient or\n",
      "permanent, produces gene products for intercellular, intracellular or systemic uses that may affect endogenous genes, compensate for pathogenic genes\n",
      "or augment defective genes.\n",
      "\n",
      "min_length =  86 ratio 0.1\n",
      "max_length =  327 ratio 0.38\n",
      "summary length =  108\n",
      "elapsed time 5.51 s\n",
      "Gene-based therapy involves: (1) the addition or modification and subsequent expression of a new gene to provide a specific additional function to a\n",
      "cell; (2) the inoculation of nucleic acids for vaccination against foreign antigens; or (3) the general transfer of nucleic acids to modify the\n",
      "function of an endogenous gene to effect a direct or indirect clinical benefit. This transfer of genetic information, which may be transient or\n",
      "permanent, produces gene products for intercellular, intracellular or systemic uses that may affect endogenous genes, compensate for pathogenic genes\n",
      "or augment defective genes.\n",
      "\n",
      "min_length =  86 ratio 0.1\n",
      "max_length =  447 ratio 0.52\n",
      "summary length =  108\n",
      "elapsed time 5.54 s\n",
      "Gene-based therapy involves: (1) the addition or modification and subsequent expression of a new gene to provide a specific additional function to a\n",
      "cell; (2) the inoculation of nucleic acids for vaccination against foreign antigens; or (3) the general transfer of nucleic acids to modify the\n",
      "function of an endogenous gene to effect a direct or indirect clinical benefit. This transfer of genetic information, which may be transient or\n",
      "permanent, produces gene products for intercellular, intracellular or systemic uses that may affect endogenous genes, compensate for pathogenic genes\n",
      "or augment defective genes.\n",
      "\n",
      "min_length =  86 ratio 0.1\n",
      "max_length =  568 ratio 0.66\n",
      "summary length =  108\n",
      "elapsed time 5.52 s\n",
      "Gene-based therapy involves: (1) the addition or modification and subsequent expression of a new gene to provide a specific additional function to a\n",
      "cell; (2) the inoculation of nucleic acids for vaccination against foreign antigens; or (3) the general transfer of nucleic acids to modify the\n",
      "function of an endogenous gene to effect a direct or indirect clinical benefit. This transfer of genetic information, which may be transient or\n",
      "permanent, produces gene products for intercellular, intracellular or systemic uses that may affect endogenous genes, compensate for pathogenic genes\n",
      "or augment defective genes.\n",
      "\n",
      "min_length =  86 ratio 0.1\n",
      "max_length =  688 ratio 0.8\n",
      "summary length =  108\n",
      "elapsed time 5.45 s\n",
      "Gene-based therapy involves: (1) the addition or modification and subsequent expression of a new gene to provide a specific additional function to a\n",
      "cell; (2) the inoculation of nucleic acids for vaccination against foreign antigens; or (3) the general transfer of nucleic acids to modify the\n",
      "function of an endogenous gene to effect a direct or indirect clinical benefit. This transfer of genetic information, which may be transient or\n",
      "permanent, produces gene products for intercellular, intracellular or systemic uses that may affect endogenous genes, compensate for pathogenic genes\n",
      "or augment defective genes.\n",
      "\n",
      "min_length =  206 ratio 0.24000000000000002\n",
      "max_length =  327 ratio 0.38\n",
      "summary length =  222\n",
      "elapsed time 7.32 s\n",
      "The elucidation of the molecular basis of inherited diseases, from the discovery of the structure of DNA in 1953 to the sequencing of the human genome\n",
      "in 2002, has perhaps heralded a new age of genetic medicine, wherein it is now possible for the modern investigator or clinician to target the\n",
      "underlying disease mechanism. Gene-based therapy involves: (1) the addition or modification and subsequent expression of a new gene to provide a\n",
      "specific additional function to a cell; (2) the inoculation of nucleic acids for vaccination against foreign antigens; or (3) the general transfer of\n",
      "nucleic acids to modify the function of an endogenous gene to effect a direct or indirect clinical benefit. This transfer of genetic information,\n",
      "which may be transient or permanent, produces gene products for intercellular, intracellular or systemic uses that may affect endogenous genes,\n",
      "compensate for pathogenic genes or augment defective genes. While a formal definition for gene therapy is yet to be accepted by an international\n",
      "consortium and definitions may vary according to national regulatory agencies, it must be noted that a formal definition for gene therapy is yet to be\n",
      "accepted by an international consortium and definitions may vary according to national regulatory agencies.\n",
      "\n",
      "min_length =  206 ratio 0.24000000000000002\n",
      "max_length =  447 ratio 0.52\n",
      "summary length =  222\n",
      "elapsed time 7.40 s\n",
      "The elucidation of the molecular basis of inherited diseases, from the discovery of the structure of DNA in 1953 to the sequencing of the human genome\n",
      "in 2002, has perhaps heralded a new age of genetic medicine, wherein it is now possible for the modern investigator or clinician to target the\n",
      "underlying disease mechanism. Gene-based therapy involves: (1) the addition or modification and subsequent expression of a new gene to provide a\n",
      "specific additional function to a cell; (2) the inoculation of nucleic acids for vaccination against foreign antigens; or (3) the general transfer of\n",
      "nucleic acids to modify the function of an endogenous gene to effect a direct or indirect clinical benefit. This transfer of genetic information,\n",
      "which may be transient or permanent, produces gene products for intercellular, intracellular or systemic uses that may affect endogenous genes,\n",
      "compensate for pathogenic genes or augment defective genes. While a formal definition for gene therapy is yet to be accepted by an international\n",
      "consortium and definitions may vary according to national regulatory agencies, it must be noted that a formal definition for gene therapy is yet to be\n",
      "accepted by an international consortium and definitions may vary according to national regulatory agencies.\n",
      "\n",
      "min_length =  206 ratio 0.24000000000000002\n",
      "max_length =  568 ratio 0.66\n",
      "summary length =  222\n",
      "elapsed time 7.38 s\n",
      "The elucidation of the molecular basis of inherited diseases, from the discovery of the structure of DNA in 1953 to the sequencing of the human genome\n",
      "in 2002, has perhaps heralded a new age of genetic medicine, wherein it is now possible for the modern investigator or clinician to target the\n",
      "underlying disease mechanism. Gene-based therapy involves: (1) the addition or modification and subsequent expression of a new gene to provide a\n",
      "specific additional function to a cell; (2) the inoculation of nucleic acids for vaccination against foreign antigens; or (3) the general transfer of\n",
      "nucleic acids to modify the function of an endogenous gene to effect a direct or indirect clinical benefit. This transfer of genetic information,\n",
      "which may be transient or permanent, produces gene products for intercellular, intracellular or systemic uses that may affect endogenous genes,\n",
      "compensate for pathogenic genes or augment defective genes. While a formal definition for gene therapy is yet to be accepted by an international\n",
      "consortium and definitions may vary according to national regulatory agencies, it must be noted that a formal definition for gene therapy is yet to be\n",
      "accepted by an international consortium and definitions may vary according to national regulatory agencies.\n",
      "\n",
      "min_length =  206 ratio 0.24000000000000002\n",
      "max_length =  688 ratio 0.8\n",
      "summary length =  222\n",
      "elapsed time 7.17 s\n",
      "The elucidation of the molecular basis of inherited diseases, from the discovery of the structure of DNA in 1953 to the sequencing of the human genome\n",
      "in 2002, has perhaps heralded a new age of genetic medicine, wherein it is now possible for the modern investigator or clinician to target the\n",
      "underlying disease mechanism. Gene-based therapy involves: (1) the addition or modification and subsequent expression of a new gene to provide a\n",
      "specific additional function to a cell; (2) the inoculation of nucleic acids for vaccination against foreign antigens; or (3) the general transfer of\n",
      "nucleic acids to modify the function of an endogenous gene to effect a direct or indirect clinical benefit. This transfer of genetic information,\n",
      "which may be transient or permanent, produces gene products for intercellular, intracellular or systemic uses that may affect endogenous genes,\n",
      "compensate for pathogenic genes or augment defective genes. While a formal definition for gene therapy is yet to be accepted by an international\n",
      "consortium and definitions may vary according to national regulatory agencies, it must be noted that a formal definition for gene therapy is yet to be\n",
      "accepted by an international consortium and definitions may vary according to national regulatory agencies.\n",
      "\n",
      "min_length =  327 ratio 0.38\n",
      "max_length =  447 ratio 0.52\n",
      "summary length =  338\n",
      "elapsed time 11.52 s\n",
      "The elucidation of the molecular basis of inherited diseases, from the discovery of the structure of DNA in 1953 to the sequencing of the human genome\n",
      "in 2002, has perhaps heralded a new age of genetic medicine, wherein it is now possible for the modern investigator or clinician to target the\n",
      "underlying disease mechanism. Gene-based therapy involves: (1) the addition or modification and subsequent expression of a new gene to provide a\n",
      "specific additional function to a cell; (2) the inoculation of nucleic acids for vaccination against foreign antigens; or (3) the general transfer of\n",
      "nucleic acids to modify the function of an endogenous gene to effect a direct or indirect clinical benefit. This transfer of genetic information,\n",
      "which may be transient or permanent, produces gene products for intercellular, intracellular or systemic uses that may affect endogenous genes,\n",
      "compensate for pathogenic genes or augment defective genes. While a formal definition for gene therapy is yet to be accepted by an international\n",
      "consortium and definitions may vary according to national regulatory agencies, it must be noted, though, that a formal definition for gene therapy is\n",
      "yet to be accepted by an international consortium and definitions may vary according to national regulatory agencies. A formal definition for gene\n",
      "therapy is yet to be accepted by an international consortium and definitions may vary according to national regulatory agencies, it must be noted,\n",
      "though, that a formal definition for gene therapy is yet to be accepted by an international consortium and definitions may vary according to national\n",
      "regulatory agencies, it must be noted, though, that a formal definition for gene therapy is yet to be accepted by an international consortium and\n",
      "definitions may vary according to national regulatory agencies, it must be accepted that a formal definition for a definition for a definition for a\n",
      "definition of a gene therapy.\n",
      "\n",
      "min_length =  327 ratio 0.38\n",
      "max_length =  568 ratio 0.66\n",
      "summary length =  338\n",
      "elapsed time 11.15 s\n",
      "The elucidation of the molecular basis of inherited diseases, from the discovery of the structure of DNA in 1953 to the sequencing of the human genome\n",
      "in 2002, has perhaps heralded a new age of genetic medicine, wherein it is now possible for the modern investigator or clinician to target the\n",
      "underlying disease mechanism. Gene-based therapy involves: (1) the addition or modification and subsequent expression of a new gene to provide a\n",
      "specific additional function to a cell; (2) the inoculation of nucleic acids for vaccination against foreign antigens; or (3) the general transfer of\n",
      "nucleic acids to modify the function of an endogenous gene to effect a direct or indirect clinical benefit. This transfer of genetic information,\n",
      "which may be transient or permanent, produces gene products for intercellular, intracellular or systemic uses that may affect endogenous genes,\n",
      "compensate for pathogenic genes or augment defective genes. While a formal definition for gene therapy is yet to be accepted by an international\n",
      "consortium and definitions may vary according to national regulatory agencies, it must be noted, though, that a formal definition for gene therapy is\n",
      "yet to be accepted by an international consortium and definitions may vary according to national regulatory agencies. A formal definition for gene\n",
      "therapy is yet to be accepted by an international consortium and definitions may vary according to national regulatory agencies, it must be noted,\n",
      "though, that a formal definition for gene therapy is yet to be accepted by an international consortium and definitions may vary according to national\n",
      "regulatory agencies, it must be noted, though, that a formal definition for gene therapy is yet to be accepted by an international consortium and\n",
      "definitions may vary according to national regulatory agencies, it must be accepted that a formal definition for a definition for a definition for a\n",
      "definition of a gene therapy.\n",
      "\n",
      "min_length =  327 ratio 0.38\n",
      "max_length =  688 ratio 0.8\n",
      "summary length =  338\n",
      "elapsed time 11.35 s\n",
      "The elucidation of the molecular basis of inherited diseases, from the discovery of the structure of DNA in 1953 to the sequencing of the human genome\n",
      "in 2002, has perhaps heralded a new age of genetic medicine, wherein it is now possible for the modern investigator or clinician to target the\n",
      "underlying disease mechanism. Gene-based therapy involves: (1) the addition or modification and subsequent expression of a new gene to provide a\n",
      "specific additional function to a cell; (2) the inoculation of nucleic acids for vaccination against foreign antigens; or (3) the general transfer of\n",
      "nucleic acids to modify the function of an endogenous gene to effect a direct or indirect clinical benefit. This transfer of genetic information,\n",
      "which may be transient or permanent, produces gene products for intercellular, intracellular or systemic uses that may affect endogenous genes,\n",
      "compensate for pathogenic genes or augment defective genes. While a formal definition for gene therapy is yet to be accepted by an international\n",
      "consortium and definitions may vary according to national regulatory agencies, it must be noted, though, that a formal definition for gene therapy is\n",
      "yet to be accepted by an international consortium and definitions may vary according to national regulatory agencies. A formal definition for gene\n",
      "therapy is yet to be accepted by an international consortium and definitions may vary according to national regulatory agencies, it must be noted,\n",
      "though, that a formal definition for gene therapy is yet to be accepted by an international consortium and definitions may vary according to national\n",
      "regulatory agencies, it must be noted, though, that a formal definition for gene therapy is yet to be accepted by an international consortium and\n",
      "definitions may vary according to national regulatory agencies, it must be accepted that a formal definition for a definition for a definition for a\n",
      "definition of a gene therapy.\n",
      "\n",
      "min_length =  447 ratio 0.52\n",
      "max_length =  568 ratio 0.66\n",
      "summary length =  448\n",
      "elapsed time 14.93 s\n",
      "The elucidation of the molecular basis of inherited diseases, from the discovery of the structure of DNA in 1953 to the sequencing of the human genome\n",
      "in 2002, has perhaps heralded a new age of genetic medicine, wherein it is now possible for the modern investigator or clinician to target the\n",
      "underlying disease mechanism. Gene-based therapy involves: (1) the addition or modification and subsequent expression of a new gene to provide a\n",
      "specific additional function to a cell; (2) the inoculation of nucleic acids for vaccination against foreign antigens; or (3) the general transfer of\n",
      "nucleic acids to modify the function of an endogenous gene to effect a direct or indirect clinical benefit. This transfer of genetic information,\n",
      "which may be transient or permanent, produces gene products for intercellular, intracellular or systemic uses that may affect endogenous genes,\n",
      "compensate for pathogenic genes or augment defective genes. While a formal definition for gene therapy is yet to be accepted by an international\n",
      "consortium and definitions may vary according to national regulatory agencies, it must be noted, though, that a formal definition for gene therapy is\n",
      "yet to be accepted by an international consortium and definitions may vary according to national regulatory agencies. A formal definition for gene\n",
      "therapy is yet to be accepted by an international consortium and definitions may vary according to national regulatory agencies, it must be noted,\n",
      "though, that a formal definition for gene therapy is yet to be accepted by an international consortium and definitions may vary according to national\n",
      "regulatory agencies, it must be noted, though, that a formal definition for gene therapy is yet to be accepted by an international consortium and\n",
      "definitions may vary according to national regulatory agencies, it must be accepted that a formal definition for a definition for a definition for a\n",
      "definition for a definition of a definition of a definition of a gene for a gene for a gene for a gene for a gene for a gene for a gene for a gene for\n",
      "a gene for a gene for a gene for a gene for a gene for a gene for a gene for a gene for a gene for a gene for a gene for a gene for a gene for a gene\n",
      "for a gene for a gene for a gene for a gene for a gene. Gene therapy for a gene for a gene for a gene for a gene for a gene for a gene for a gene.\n",
      "\n",
      "min_length =  447 ratio 0.52\n",
      "max_length =  688 ratio 0.8\n",
      "summary length =  448\n",
      "elapsed time 14.90 s\n",
      "The elucidation of the molecular basis of inherited diseases, from the discovery of the structure of DNA in 1953 to the sequencing of the human genome\n",
      "in 2002, has perhaps heralded a new age of genetic medicine, wherein it is now possible for the modern investigator or clinician to target the\n",
      "underlying disease mechanism. Gene-based therapy involves: (1) the addition or modification and subsequent expression of a new gene to provide a\n",
      "specific additional function to a cell; (2) the inoculation of nucleic acids for vaccination against foreign antigens; or (3) the general transfer of\n",
      "nucleic acids to modify the function of an endogenous gene to effect a direct or indirect clinical benefit. This transfer of genetic information,\n",
      "which may be transient or permanent, produces gene products for intercellular, intracellular or systemic uses that may affect endogenous genes,\n",
      "compensate for pathogenic genes or augment defective genes. While a formal definition for gene therapy is yet to be accepted by an international\n",
      "consortium and definitions may vary according to national regulatory agencies, it must be noted, though, that a formal definition for gene therapy is\n",
      "yet to be accepted by an international consortium and definitions may vary according to national regulatory agencies. A formal definition for gene\n",
      "therapy is yet to be accepted by an international consortium and definitions may vary according to national regulatory agencies, it must be noted,\n",
      "though, that a formal definition for gene therapy is yet to be accepted by an international consortium and definitions may vary according to national\n",
      "regulatory agencies, it must be noted, though, that a formal definition for gene therapy is yet to be accepted by an international consortium and\n",
      "definitions may vary according to national regulatory agencies, it must be accepted that a formal definition for a definition for a definition for a\n",
      "definition for a definition of a definition of a definition of a gene for a gene for a gene for a gene for a gene for a gene for a gene for a gene for\n",
      "a gene for a gene for a gene for a gene for a gene for a gene for a gene for a gene for a gene for a gene for a gene for a gene for a gene for a gene\n",
      "for a gene for a gene for a gene for a gene for a gene. Gene therapy for a gene for a gene for a gene for a gene for a gene for a gene for a gene.\n",
      "\n",
      "min_length =  568 ratio 0.66\n",
      "max_length =  688 ratio 0.8\n",
      "summary length =  571\n",
      "elapsed time 19.44 s\n",
      "The elucidation of the molecular basis of inherited diseases, from the discovery of the structure of DNA in 1953 to the sequencing of the human genome\n",
      "in 2002, has perhaps heralded a new age of genetic medicine, wherein it is now possible for the modern investigator or clinician to target the\n",
      "underlying disease mechanism. Gene-based therapy involves: (1) the addition or modification and subsequent expression of a new gene to provide a\n",
      "specific additional function to a cell; (2) the inoculation of nucleic acids for vaccination against foreign antigens; or (3) the general transfer of\n",
      "nucleic acids to modify the function of an endogenous gene to effect a direct or indirect clinical benefit. This transfer of genetic information,\n",
      "which may be transient or permanent, produces gene products for intercellular, intracellular or systemic uses that may affect endogenous genes,\n",
      "compensate for pathogenic genes or augment defective genes. While a formal definition for gene therapy is yet to be accepted by an international\n",
      "consortium and definitions may vary according to national regulatory agencies, it must be noted, though, that a formal definition for gene therapy is\n",
      "yet to be accepted by an international consortium and definitions may vary according to national regulatory agencies. A formal definition for gene\n",
      "therapy is yet to be accepted by an international consortium and definitions may vary according to national regulatory agencies, it must be noted,\n",
      "though, that a formal definition for gene therapy is yet to be accepted by an international consortium and definitions may vary according to national\n",
      "regulatory agencies, it must be noted, though, that a formal definition for gene therapy is yet to be accepted by an international consortium and\n",
      "definitions may vary according to national regulatory agencies, it must be accepted that a formal definition for a definition for a definition for a\n",
      "definition for a definition of a definition of a definition of a gene for a gene for a gene for a gene for a gene for a gene for a gene for a gene for\n",
      "a gene for a gene for a gene for a gene for a gene for a gene for a gene for a gene for a gene for a gene for a gene for a gene for a gene for a gene\n",
      "for a gene for a gene for a gene for a gene for a gene. Gene therapy for a gene for a gene for a gene for a gene for a gene for a gene for a gene for\n",
      "a gene for a gene for a gene for a gene for a gene for a gene for a gene for a gene for a gene for a gene for a gene for a gene for a gene for a gene\n",
      "for a gene for a gene for a gene for a gene for a gene for a gene for a gene for a gene for a gene for a gene for a gene for a gene for a gene for a\n",
      "gene for a gene for a gene for a gene for a gene for a gene for a gene for a gene for a gene for a gene for a gene for a gene for a gene for a gene.\n",
      "\n"
     ]
    }
   ],
   "source": [
    "'''\n",
    "We used greedy-decoding and used beam-search\n",
    "with a length-penalty, α, as in Wu et al.\n",
    "(2016) for the final large model.\n",
    "'''\n",
    "b0ch1sec1_text_enc = tokenizer.encode(\n",
    "    b0ch1sec1_text, return_tensors='pt').to('cuda')\n",
    "input_len = len(b0ch1sec1_text_enc[0])\n",
    "\n",
    "summ_enc = []\n",
    "for ratio_min in np.linspace(0.1, 0.8, 6):\n",
    "    for ratio_max in np.linspace(0.1, 0.8, 6):\n",
    "        if ratio_min < ratio_max:\n",
    "            print('min_length = ', int(input_len*ratio_min), 'ratio', ratio_min)\n",
    "            print('max_length = ', int(input_len*ratio_max), 'ratio', ratio_max)\n",
    "            t0 = time.time()\n",
    "            summ_enc = model.generate(\n",
    "                b0ch1sec1_text_enc,\n",
    "                min_length = int(input_len*ratio_min),\n",
    "                max_length = int(input_len*ratio_max),\n",
    "                num_beams = 5,\n",
    "                length_penalty = 1,\n",
    "                early_stopping = True)[0]\n",
    "            t1 = time.time()\n",
    "            print('summary length = ', len(summ_enc))\n",
    "            print('elapsed time %.2f s'%(t1-t0))\n",
    "\n",
    "            summ = tokenizer.decode(\n",
    "                summ_enc, skip_special_tokens=True)\n",
    "            print(textwrap.fill(\n",
    "                summ, 150))\n",
    "            print()"
   ]
  },
  {
   "cell_type": "code",
   "execution_count": null,
   "metadata": {
    "colab": {
     "base_uri": "https://localhost:8080/"
    },
    "executionInfo": {
     "elapsed": 357550,
     "status": "ok",
     "timestamp": 1606816474896,
     "user": {
      "displayName": "Marco Pietro Abrate",
      "photoUrl": "https://lh3.googleusercontent.com/a-/AOh14Gjh-8YF-8BlnrkN9mLZ0xfVOWfOh7kYncpYRv-Y=s64",
      "userId": "15422244832836998434"
     },
     "user_tz": -60
    },
    "id": "lBRFNdAoguVR",
    "outputId": "9417c193-f998-4ffd-9fdb-810c169116ec"
   },
   "outputs": [
    {
     "name": "stdout",
     "output_type": "stream",
     "text": [
      "min_length =  77 ratio 0.1\n",
      "max_length =  185 ratio 0.24000000000000002\n",
      "summary length =  133\n",
      "elapsed time 4.45 s\n",
      "Gliomas are part of a larger group of intrinsic tumors, which include ependymomas, embryonal tumors (exempli gratia medulloblastoma) and benign\n",
      "glioneuronal tumors (exempli gratia ganglioglioma) (Figure 1.1). The worldwide incidence of intrinsic brain tumors (benign and malignant) is an\n",
      "estimated 26 per 100 000 person-years, while the overall age-adjusted incidence of gliomas ranges from 4.67 to 5.73 per 100 000 people. The age-\n",
      "adjusted incidence of glioblastoma ranges from 0.59 (in Korea) to 3.69 (in Greece) per 100 000 people.\n",
      "\n",
      "min_length =  77 ratio 0.1\n",
      "max_length =  293 ratio 0.38\n",
      "summary length =  133\n",
      "elapsed time 4.36 s\n",
      "Gliomas are part of a larger group of intrinsic tumors, which include ependymomas, embryonal tumors (exempli gratia medulloblastoma) and benign\n",
      "glioneuronal tumors (exempli gratia ganglioglioma) (Figure 1.1). The worldwide incidence of intrinsic brain tumors (benign and malignant) is an\n",
      "estimated 26 per 100 000 person-years, while the overall age-adjusted incidence of gliomas ranges from 4.67 to 5.73 per 100 000 people. The age-\n",
      "adjusted incidence of glioblastoma ranges from 0.59 (in Korea) to 3.69 (in Greece) per 100 000 people.\n",
      "\n",
      "min_length =  77 ratio 0.1\n",
      "max_length =  401 ratio 0.52\n",
      "summary length =  133\n",
      "elapsed time 4.33 s\n",
      "Gliomas are part of a larger group of intrinsic tumors, which include ependymomas, embryonal tumors (exempli gratia medulloblastoma) and benign\n",
      "glioneuronal tumors (exempli gratia ganglioglioma) (Figure 1.1). The worldwide incidence of intrinsic brain tumors (benign and malignant) is an\n",
      "estimated 26 per 100 000 person-years, while the overall age-adjusted incidence of gliomas ranges from 4.67 to 5.73 per 100 000 people. The age-\n",
      "adjusted incidence of glioblastoma ranges from 0.59 (in Korea) to 3.69 (in Greece) per 100 000 people.\n",
      "\n",
      "min_length =  77 ratio 0.1\n",
      "max_length =  510 ratio 0.66\n",
      "summary length =  133\n",
      "elapsed time 4.38 s\n",
      "Gliomas are part of a larger group of intrinsic tumors, which include ependymomas, embryonal tumors (exempli gratia medulloblastoma) and benign\n",
      "glioneuronal tumors (exempli gratia ganglioglioma) (Figure 1.1). The worldwide incidence of intrinsic brain tumors (benign and malignant) is an\n",
      "estimated 26 per 100 000 person-years, while the overall age-adjusted incidence of gliomas ranges from 4.67 to 5.73 per 100 000 people. The age-\n",
      "adjusted incidence of glioblastoma ranges from 0.59 (in Korea) to 3.69 (in Greece) per 100 000 people.\n",
      "\n",
      "min_length =  77 ratio 0.1\n",
      "max_length =  618 ratio 0.8\n",
      "summary length =  133\n",
      "elapsed time 4.29 s\n",
      "Gliomas are part of a larger group of intrinsic tumors, which include ependymomas, embryonal tumors (exempli gratia medulloblastoma) and benign\n",
      "glioneuronal tumors (exempli gratia ganglioglioma) (Figure 1.1). The worldwide incidence of intrinsic brain tumors (benign and malignant) is an\n",
      "estimated 26 per 100 000 person-years, while the overall age-adjusted incidence of gliomas ranges from 4.67 to 5.73 per 100 000 people. The age-\n",
      "adjusted incidence of glioblastoma ranges from 0.59 (in Korea) to 3.69 (in Greece) per 100 000 people.\n",
      "\n",
      "min_length =  185 ratio 0.24000000000000002\n",
      "max_length =  293 ratio 0.38\n",
      "summary length =  197\n",
      "elapsed time 7.24 s\n",
      "Gliomas are part of a larger group of intrinsic tumors, which include ependymomas, embryonal tumors (exempli gratia medulloblastoma) and benign\n",
      "glioneuronal tumors (exempli gratia ganglioglioma) (Figure 1.1). The worldwide incidence of intrinsic brain tumors (benign and malignant) is an\n",
      "estimated 26 per 100 000 person-years, while the overall age-adjusted incidence of gliomas ranges from 4.67 to 5.73 per 100 000 people. Glioblastoma\n",
      "is the most common versus malignant brain tumor and most common subtype of glioma. The age-adjusted incidence of glioblastoma ranges from 0.59 (in\n",
      "Korea) to 3.69 (in Greece) per 100 000 people. In the USA, the 5-year survival rate is 19.6% in children under 14, 22.7% in 15-39 year-olds and 4.3%\n",
      "in adults over 40; across all ages the 5-year survival rate is 5.6%.\n",
      "\n",
      "min_length =  185 ratio 0.24000000000000002\n",
      "max_length =  401 ratio 0.52\n",
      "summary length =  197\n",
      "elapsed time 7.04 s\n",
      "Gliomas are part of a larger group of intrinsic tumors, which include ependymomas, embryonal tumors (exempli gratia medulloblastoma) and benign\n",
      "glioneuronal tumors (exempli gratia ganglioglioma) (Figure 1.1). The worldwide incidence of intrinsic brain tumors (benign and malignant) is an\n",
      "estimated 26 per 100 000 person-years, while the overall age-adjusted incidence of gliomas ranges from 4.67 to 5.73 per 100 000 people. Glioblastoma\n",
      "is the most common versus malignant brain tumor and most common subtype of glioma. The age-adjusted incidence of glioblastoma ranges from 0.59 (in\n",
      "Korea) to 3.69 (in Greece) per 100 000 people. In the USA, the 5-year survival rate is 19.6% in children under 14, 22.7% in 15-39 year-olds and 4.3%\n",
      "in adults over 40; across all ages the 5-year survival rate is 5.6%.\n",
      "\n",
      "min_length =  185 ratio 0.24000000000000002\n",
      "max_length =  510 ratio 0.66\n",
      "summary length =  197\n",
      "elapsed time 7.10 s\n",
      "Gliomas are part of a larger group of intrinsic tumors, which include ependymomas, embryonal tumors (exempli gratia medulloblastoma) and benign\n",
      "glioneuronal tumors (exempli gratia ganglioglioma) (Figure 1.1). The worldwide incidence of intrinsic brain tumors (benign and malignant) is an\n",
      "estimated 26 per 100 000 person-years, while the overall age-adjusted incidence of gliomas ranges from 4.67 to 5.73 per 100 000 people. Glioblastoma\n",
      "is the most common versus malignant brain tumor and most common subtype of glioma. The age-adjusted incidence of glioblastoma ranges from 0.59 (in\n",
      "Korea) to 3.69 (in Greece) per 100 000 people. In the USA, the 5-year survival rate is 19.6% in children under 14, 22.7% in 15-39 year-olds and 4.3%\n",
      "in adults over 40; across all ages the 5-year survival rate is 5.6%.\n",
      "\n",
      "min_length =  185 ratio 0.24000000000000002\n",
      "max_length =  618 ratio 0.8\n",
      "summary length =  197\n",
      "elapsed time 7.26 s\n",
      "Gliomas are part of a larger group of intrinsic tumors, which include ependymomas, embryonal tumors (exempli gratia medulloblastoma) and benign\n",
      "glioneuronal tumors (exempli gratia ganglioglioma) (Figure 1.1). The worldwide incidence of intrinsic brain tumors (benign and malignant) is an\n",
      "estimated 26 per 100 000 person-years, while the overall age-adjusted incidence of gliomas ranges from 4.67 to 5.73 per 100 000 people. Glioblastoma\n",
      "is the most common versus malignant brain tumor and most common subtype of glioma. The age-adjusted incidence of glioblastoma ranges from 0.59 (in\n",
      "Korea) to 3.69 (in Greece) per 100 000 people. In the USA, the 5-year survival rate is 19.6% in children under 14, 22.7% in 15-39 year-olds and 4.3%\n",
      "in adults over 40; across all ages the 5-year survival rate is 5.6%.\n",
      "\n",
      "min_length =  293 ratio 0.38\n",
      "max_length =  401 ratio 0.52\n",
      "summary length =  309\n",
      "elapsed time 11.09 s\n",
      "Gliomas are part of a larger group of intrinsic tumors, which include ependymomas, embryonal tumors (exempli gratia medulloblastoma) and benign\n",
      "glioneuronal tumors (exempli gratia ganglioglioma) (Figure 1.1). The worldwide incidence of intrinsic brain tumors (benign and malignant) is an\n",
      "estimated 26 per 100 000 person-years, while the overall age-adjusted incidence of gliomas ranges from 4.67 to 5.73 per 100 000 people. The age-\n",
      "adjusted incidence of glioblastoma ranges from 0.59 (in Korea) to 3.69 (in Greece) per 100 000 people. In the USA, the 5-year survival rate is 19.6%\n",
      "in children under 14, 22.7% in 15-39 year-olds and 4.3% in adults over 40; across all ages the 5-year survival rate is 5.6%. In the USA, the 5-year\n",
      "survival rate is 19.6% in children under 14, 22.7% in 15-39 year-olds and 4.3% in adults over 40; across all ages the 5-year survival rate is 5.6%. In\n",
      "the USA, the 5-year survival rate is 19.6% in children under 14, 22.7% in 15-39 year-olds and 4.3% in adults over 40; across all ages the 5-year\n",
      "survival rate is 5.6%. In the USA, the 5-year survival rate is 19.6% in children under 14, 22.7% in 15-39 year-olds and 4.3% in adults over 40; across\n",
      "all ages the 5-year survival rate is 5.6%.\n",
      "\n",
      "min_length =  293 ratio 0.38\n",
      "max_length =  510 ratio 0.66\n",
      "summary length =  309\n",
      "elapsed time 10.66 s\n",
      "Gliomas are part of a larger group of intrinsic tumors, which include ependymomas, embryonal tumors (exempli gratia medulloblastoma) and benign\n",
      "glioneuronal tumors (exempli gratia ganglioglioma) (Figure 1.1). The worldwide incidence of intrinsic brain tumors (benign and malignant) is an\n",
      "estimated 26 per 100 000 person-years, while the overall age-adjusted incidence of gliomas ranges from 4.67 to 5.73 per 100 000 people. The age-\n",
      "adjusted incidence of glioblastoma ranges from 0.59 (in Korea) to 3.69 (in Greece) per 100 000 people. In the USA, the 5-year survival rate is 19.6%\n",
      "in children under 14, 22.7% in 15-39 year-olds and 4.3% in adults over 40; across all ages the 5-year survival rate is 5.6%. In the USA, the 5-year\n",
      "survival rate is 19.6% in children under 14, 22.7% in 15-39 year-olds and 4.3% in adults over 40; across all ages the 5-year survival rate is 5.6%. In\n",
      "the USA, the 5-year survival rate is 19.6% in children under 14, 22.7% in 15-39 year-olds and 4.3% in adults over 40; across all ages the 5-year\n",
      "survival rate is 5.6%. In the USA, the 5-year survival rate is 19.6% in children under 14, 22.7% in 15-39 year-olds and 4.3% in adults over 40; across\n",
      "all ages the 5-year survival rate is 5.6%.\n",
      "\n",
      "min_length =  293 ratio 0.38\n",
      "max_length =  618 ratio 0.8\n",
      "summary length =  309\n",
      "elapsed time 10.71 s\n",
      "Gliomas are part of a larger group of intrinsic tumors, which include ependymomas, embryonal tumors (exempli gratia medulloblastoma) and benign\n",
      "glioneuronal tumors (exempli gratia ganglioglioma) (Figure 1.1). The worldwide incidence of intrinsic brain tumors (benign and malignant) is an\n",
      "estimated 26 per 100 000 person-years, while the overall age-adjusted incidence of gliomas ranges from 4.67 to 5.73 per 100 000 people. The age-\n",
      "adjusted incidence of glioblastoma ranges from 0.59 (in Korea) to 3.69 (in Greece) per 100 000 people. In the USA, the 5-year survival rate is 19.6%\n",
      "in children under 14, 22.7% in 15-39 year-olds and 4.3% in adults over 40; across all ages the 5-year survival rate is 5.6%. In the USA, the 5-year\n",
      "survival rate is 19.6% in children under 14, 22.7% in 15-39 year-olds and 4.3% in adults over 40; across all ages the 5-year survival rate is 5.6%. In\n",
      "the USA, the 5-year survival rate is 19.6% in children under 14, 22.7% in 15-39 year-olds and 4.3% in adults over 40; across all ages the 5-year\n",
      "survival rate is 5.6%. In the USA, the 5-year survival rate is 19.6% in children under 14, 22.7% in 15-39 year-olds and 4.3% in adults over 40; across\n",
      "all ages the 5-year survival rate is 5.6%.\n",
      "\n",
      "min_length =  401 ratio 0.52\n",
      "max_length =  510 ratio 0.66\n",
      "summary length =  510\n",
      "elapsed time 16.51 s\n",
      "Gliomas are part of a larger group of intrinsic tumors, which include ependymomas, embryonal tumors (exempli gratia medulloblastoma) and benign\n",
      "glioneuronal tumors (exempli gratia ganglioglioma) (Figure 1.1). The worldwide incidence of intrinsic brain tumors (benign and malignant) is an\n",
      "estimated 26 per 100 000 person-years, while the overall age-adjusted incidence of gliomas ranges from 4.67 to 5.73 per 100 000 people. The age-\n",
      "adjusted incidence of glioblastoma ranges from 0.59 (in Korea) to 3.69 (in Greece) per 100 000 people. In the USA, the 5-year survival rate is 19.6%\n",
      "in children under 14, 22.7% in 15-39 year-olds and 4.3% in adults over 40; across all ages the 5-year survival rate is 5.6%. In the USA, the 5-year\n",
      "survival rate is 19.6% in children under 14, 22.7% in 15-39 year-olds and 4.3% in adults over 40; across all ages the 5-year survival rate is 5.6%. In\n",
      "the USA, the 5-year survival rate is 19.6% in children under 14, 22.7% in 15-39 year-olds and 4.3% in adults over 40; across all ages the 5-year\n",
      "survival rate is 5.6%. In the USA, the 5-year survival rate is 19.6% in children under 14, 22.7% in 15-39 year-olds and 4.3% in adults over 40; across\n",
      "all ages the 5-year survival rate is 5.6%. In the USA, the 5-year survival rate is 19.6% in children under 14, 22.7% in 15-39 year-olds and 4.3% in\n",
      "adults over 40. In the USA, the 5-year survival rate is\n",
      "\n",
      "min_length =  401 ratio 0.52\n",
      "max_length =  618 ratio 0.8\n",
      "summary length =  618\n",
      "elapsed time 20.34 s\n",
      "Gliomas are part of a larger group of intrinsic tumors, which include ependymomas, embryonal tumors (exempli gratia medulloblastoma) and benign\n",
      "glioneuronal tumors (exempli gratia ganglioglioma) (Figure 1.1). The worldwide incidence of intrinsic brain tumors (benign and malignant) is an\n",
      "estimated 26 per 100 000 person-years, while the overall age-adjusted incidence of gliomas ranges from 4.67 to 5.73 per 100 000 people. The age-\n",
      "adjusted incidence of glioblastoma ranges from 0.59 (in Korea) to 3.69 (in Greece) per 100 000 people. In the USA, the 5-year survival rate is 19.6%\n",
      "in children under 14, 22.7% in 15-39 year-olds and 4.3% in adults over 40; across all ages the 5-year survival rate is 5.6%. In the USA, the 5-year\n",
      "survival rate is 19.6% in children under 14, 22.7% in 15-39 year-olds and 4.3% in adults over 40; across all ages the 5-year survival rate is 5.6%. In\n",
      "the USA, the 5-year survival rate is 19.6% in children under 14, 22.7% in 15-39 year-olds and 4.3% in adults over 40; across all ages the 5-year\n",
      "survival rate is 5.6%. In the USA, the 5-year survival rate is 19.6% in children under 14, 22.7% in 15-39 year-olds and 4.3% in adults over 40; across\n",
      "all ages the 5-year survival rate is 5.6%. In the USA, the 5-year survival rate is 19.6% in children under 14, 22.7% in 15-39 year-olds and 4.3% in\n",
      "adults over 40. In the USA, the 5-year survival rate is\n",
      "\n",
      "min_length =  510 ratio 0.66\n",
      "max_length =  618 ratio 0.8\n",
      "summary length =  618\n",
      "elapsed time 20.31 s\n",
      "Gliomas are part of a larger group of intrinsic tumors, which include ependymomas, embryonal tumors (exempli gratia medulloblastoma) and benign\n",
      "glioneuronal tumors (exempli gratia ganglioglioma) (Figure 1.1). The worldwide incidence of intrinsic brain tumors (benign and malignant) is an\n",
      "estimated 26 per 100 000 person-years, while the overall age-adjusted incidence of gliomas ranges from 4.67 to 5.73 per 100 000 people. The age-\n",
      "adjusted incidence of glioblastoma ranges from 0.59 (in Korea) to 3.69 (in Greece) per 100 000 people. In the USA, the 5-year survival rate is 19.6%\n",
      "in children under 14, 22.7% in 15-39 year-olds and 4.3% in adults over 40; across all ages the 5-year survival rate is 5.6%. In the USA, the 5-year\n",
      "survival rate is 19.6% in children under 14, 22.7% in 15-39 year-olds and 4.3% in adults over 40; across all ages the 5-year survival rate is 5.6%. In\n",
      "the USA, the 5-year survival rate is 19.6% in children under 14, 22.7% in 15-39 year-olds and 4.3% in adults over 40; across all ages the 5-year\n",
      "survival rate is 5.6%. In the USA, the 5-year survival rate is 19.6% in children under 14, 22.7% in 15-39 year-olds and 4.3% in adults over 40; across\n",
      "all ages the 5-year survival rate is 5.6%. In the USA, the 5-year survival rate is 19.6% in children under 14, 22.7% in 15-39 year-olds and 4.3% in\n",
      "adults over 40. In the USA, the 5-year survival rate is\n",
      "\n"
     ]
    }
   ],
   "source": [
    "'''\n",
    "We used greedy-decoding and used beam-search\n",
    "with a length-penalty, α, as in Wu et al.\n",
    "(2016) for the final large model.\n",
    "'''\n",
    "b1ch1sec1_text_enc = tokenizer.encode(\n",
    "    b1ch1sec1_text, return_tensors='pt').to('cuda')\n",
    "input_len = len(b1ch1sec1_text_enc[0])\n",
    "\n",
    "summ_enc = []\n",
    "for ratio_min in np.linspace(0.1, 0.8, 6):\n",
    "    for ratio_max in np.linspace(0.1, 0.8, 6):\n",
    "        if ratio_min < ratio_max:\n",
    "            print('min_length = ', int(input_len*ratio_min), 'ratio', ratio_min)\n",
    "            print('max_length = ', int(input_len*ratio_max), 'ratio', ratio_max)\n",
    "            t0 = time.time()\n",
    "            summ_enc = model.generate(\n",
    "                b1ch1sec1_text_enc,\n",
    "                min_length = int(input_len*ratio_min),\n",
    "                max_length = int(input_len*ratio_max),\n",
    "                num_beams = 5,\n",
    "                length_penalty = 1,\n",
    "                early_stopping = True)[0]\n",
    "            t1 = time.time()\n",
    "            print('summary length = ', len(summ_enc))\n",
    "            print('elapsed time %.2f s'%(t1-t0))\n",
    "\n",
    "            summ = tokenizer.decode(\n",
    "                summ_enc, skip_special_tokens=True)\n",
    "            print(textwrap.fill(\n",
    "                summ, 150))\n",
    "            print()"
   ]
  },
  {
   "cell_type": "markdown",
   "metadata": {
    "id": "iMHq7vcNguVS"
   },
   "source": [
    "PEGASUS summary is influenced by the `min_length` parameter, as we would have expected. However, the model always picks 2/3 key sentences and they are present in all the generated summaries. When the length increases, the model picks some different or new sentences.\n",
    "\n",
    "When the min_length ratio is above around 0.3 the model starts repeating sentences.\n",
    "\n",
    "On the other hand, `max_length` does not influence the generated summary."
   ]
  },
  {
   "cell_type": "markdown",
   "metadata": {
    "id": "IMzMotJkhLgN"
   },
   "source": [
    "#### `length_penalty` swipe"
   ]
  },
  {
   "cell_type": "code",
   "execution_count": null,
   "metadata": {
    "colab": {
     "base_uri": "https://localhost:8080/"
    },
    "executionInfo": {
     "elapsed": 406003,
     "status": "ok",
     "timestamp": 1606816524008,
     "user": {
      "displayName": "Marco Pietro Abrate",
      "photoUrl": "https://lh3.googleusercontent.com/a-/AOh14Gjh-8YF-8BlnrkN9mLZ0xfVOWfOh7kYncpYRv-Y=s64",
      "userId": "15422244832836998434"
     },
     "user_tz": -60
    },
    "id": "lJKZSXiRhLgO",
    "outputId": "5999690e-20fb-4a19-9e17-6c039a69d9d0"
   },
   "outputs": [
    {
     "name": "stdout",
     "output_type": "stream",
     "text": [
      "length_penalty = 0.1\n",
      "summary length =  158\n",
      "elapsed time 4.91 s\n",
      "Gene-based therapy involves: (1) the addition or modification and subsequent expression of a new gene to provide a specific additional function to a\n",
      "cell; (2) the inoculation of nucleic acids for vaccination against foreign antigens; or (3) the general transfer of nucleic acids to modify the\n",
      "function of an endogenous gene to effect a direct or indirect clinical benefit. This transfer of genetic information, which may be transient or\n",
      "permanent, produces gene products for intercellular, intracellular or systemic uses that may affect endogenous genes, compensate for pathogenic genes\n",
      "or augment defective genes. While a formal definition for gene therapy is yet to be accepted by an international consortium or by a national\n",
      "regulatory agency, it must be noted that a formal definition for gene therapy is yet to be accepted by an international consortium or by a national\n",
      "regulatory agency.\n",
      "\n",
      "length_penalty = 0.3\n",
      "summary length =  158\n",
      "elapsed time 4.94 s\n",
      "Gene-based therapy involves: (1) the addition or modification and subsequent expression of a new gene to provide a specific additional function to a\n",
      "cell; (2) the inoculation of nucleic acids for vaccination against foreign antigens; or (3) the general transfer of nucleic acids to modify the\n",
      "function of an endogenous gene to effect a direct or indirect clinical benefit. This transfer of genetic information, which may be transient or\n",
      "permanent, produces gene products for intercellular, intracellular or systemic uses that may affect endogenous genes, compensate for pathogenic genes\n",
      "or augment defective genes. While a formal definition for gene therapy is yet to be accepted by an international consortium or by a national\n",
      "regulatory agency, it must be noted that a formal definition for gene therapy is yet to be accepted by an international consortium or by a national\n",
      "regulatory agency.\n",
      "\n",
      "length_penalty = 0.5\n",
      "summary length =  158\n",
      "elapsed time 4.83 s\n",
      "Gene-based therapy involves: (1) the addition or modification and subsequent expression of a new gene to provide a specific additional function to a\n",
      "cell; (2) the inoculation of nucleic acids for vaccination against foreign antigens; or (3) the general transfer of nucleic acids to modify the\n",
      "function of an endogenous gene to effect a direct or indirect clinical benefit. This transfer of genetic information, which may be transient or\n",
      "permanent, produces gene products for intercellular, intracellular or systemic uses that may affect endogenous genes, compensate for pathogenic genes\n",
      "or augment defective genes. While a formal definition for gene therapy is yet to be accepted by an international consortium or by a national\n",
      "regulatory agency, it must be noted that a formal definition for gene therapy is yet to be accepted by an international consortium or by a national\n",
      "regulatory agency.\n",
      "\n",
      "length_penalty = 0.7\n",
      "summary length =  158\n",
      "elapsed time 4.81 s\n",
      "Gene-based therapy involves: (1) the addition or modification and subsequent expression of a new gene to provide a specific additional function to a\n",
      "cell; (2) the inoculation of nucleic acids for vaccination against foreign antigens; or (3) the general transfer of nucleic acids to modify the\n",
      "function of an endogenous gene to effect a direct or indirect clinical benefit. This transfer of genetic information, which may be transient or\n",
      "permanent, produces gene products for intercellular, intracellular or systemic uses that may affect endogenous genes, compensate for pathogenic genes\n",
      "or augment defective genes. While a formal definition for gene therapy is yet to be accepted by an international consortium or by a national\n",
      "regulatory agency, it must be noted that a formal definition for gene therapy is yet to be accepted by an international consortium or by a national\n",
      "regulatory agency.\n",
      "\n",
      "length_penalty = 0.9\n",
      "summary length =  158\n",
      "elapsed time 4.77 s\n",
      "Gene-based therapy involves: (1) the addition or modification and subsequent expression of a new gene to provide a specific additional function to a\n",
      "cell; (2) the inoculation of nucleic acids for vaccination against foreign antigens; or (3) the general transfer of nucleic acids to modify the\n",
      "function of an endogenous gene to effect a direct or indirect clinical benefit. This transfer of genetic information, which may be transient or\n",
      "permanent, produces gene products for intercellular, intracellular or systemic uses that may affect endogenous genes, compensate for pathogenic genes\n",
      "or augment defective genes. While a formal definition for gene therapy is yet to be accepted by an international consortium or by a national\n",
      "regulatory agency, it must be noted that a formal definition for gene therapy is yet to be accepted by an international consortium or by a national\n",
      "regulatory agency.\n",
      "\n",
      "length_penalty = 1.2\n",
      "summary length =  158\n",
      "elapsed time 4.93 s\n",
      "Gene-based therapy involves: (1) the addition or modification and subsequent expression of a new gene to provide a specific additional function to a\n",
      "cell; (2) the inoculation of nucleic acids for vaccination against foreign antigens; or (3) the general transfer of nucleic acids to modify the\n",
      "function of an endogenous gene to effect a direct or indirect clinical benefit. This transfer of genetic information, which may be transient or\n",
      "permanent, produces gene products for intercellular, intracellular or systemic uses that may affect endogenous genes, compensate for pathogenic genes\n",
      "or augment defective genes. While a formal definition for gene therapy is yet to be accepted by an international consortium or by a national\n",
      "regulatory agency, it must be noted that a formal definition for gene therapy is yet to be accepted by an international consortium or by a national\n",
      "regulatory agency.\n",
      "\n",
      "length_penalty = 1.4\n",
      "summary length =  158\n",
      "elapsed time 4.97 s\n",
      "Gene-based therapy involves: (1) the addition or modification and subsequent expression of a new gene to provide a specific additional function to a\n",
      "cell; (2) the inoculation of nucleic acids for vaccination against foreign antigens; or (3) the general transfer of nucleic acids to modify the\n",
      "function of an endogenous gene to effect a direct or indirect clinical benefit. This transfer of genetic information, which may be transient or\n",
      "permanent, produces gene products for intercellular, intracellular or systemic uses that may affect endogenous genes, compensate for pathogenic genes\n",
      "or augment defective genes. While a formal definition for gene therapy is yet to be accepted by an international consortium or by a national\n",
      "regulatory agency, it must be noted that a formal definition for gene therapy is yet to be accepted by an international consortium or by a national\n",
      "regulatory agency.\n",
      "\n",
      "length_penalty = 1.6\n",
      "summary length =  158\n",
      "elapsed time 5.14 s\n",
      "Gene-based therapy involves: (1) the addition or modification and subsequent expression of a new gene to provide a specific additional function to a\n",
      "cell; (2) the inoculation of nucleic acids for vaccination against foreign antigens; or (3) the general transfer of nucleic acids to modify the\n",
      "function of an endogenous gene to effect a direct or indirect clinical benefit. This transfer of genetic information, which may be transient or\n",
      "permanent, produces gene products for intercellular, intracellular or systemic uses that may affect endogenous genes, compensate for pathogenic genes\n",
      "or augment defective genes. While a formal definition for gene therapy is yet to be accepted by an international consortium or by a national\n",
      "regulatory agency, it must be noted that a formal definition for gene therapy is yet to be accepted by an international consortium or by a national\n",
      "regulatory agency.\n",
      "\n",
      "length_penalty = 1.8\n",
      "summary length =  158\n",
      "elapsed time 4.89 s\n",
      "Gene-based therapy involves: (1) the addition or modification and subsequent expression of a new gene to provide a specific additional function to a\n",
      "cell; (2) the inoculation of nucleic acids for vaccination against foreign antigens; or (3) the general transfer of nucleic acids to modify the\n",
      "function of an endogenous gene to effect a direct or indirect clinical benefit. This transfer of genetic information, which may be transient or\n",
      "permanent, produces gene products for intercellular, intracellular or systemic uses that may affect endogenous genes, compensate for pathogenic genes\n",
      "or augment defective genes. While a formal definition for gene therapy is yet to be accepted by an international consortium or by a national\n",
      "regulatory agency, it must be noted that a formal definition for gene therapy is yet to be accepted by an international consortium or by a national\n",
      "regulatory agency.\n",
      "\n",
      "length_penalty = 2.0\n",
      "summary length =  158\n",
      "elapsed time 4.86 s\n",
      "Gene-based therapy involves: (1) the addition or modification and subsequent expression of a new gene to provide a specific additional function to a\n",
      "cell; (2) the inoculation of nucleic acids for vaccination against foreign antigens; or (3) the general transfer of nucleic acids to modify the\n",
      "function of an endogenous gene to effect a direct or indirect clinical benefit. This transfer of genetic information, which may be transient or\n",
      "permanent, produces gene products for intercellular, intracellular or systemic uses that may affect endogenous genes, compensate for pathogenic genes\n",
      "or augment defective genes. While a formal definition for gene therapy is yet to be accepted by an international consortium or by a national\n",
      "regulatory agency, it must be noted that a formal definition for gene therapy is yet to be accepted by an international consortium or by a national\n",
      "regulatory agency.\n",
      "\n"
     ]
    }
   ],
   "source": [
    "'''\n",
    "We used greedy-decoding and used beam-search\n",
    "with a length-penalty, α, as in Wu et al.\n",
    "(2016) for the final large model.\n",
    "'''\n",
    "b0ch1sec1_text_enc = tokenizer.encode(\n",
    "    b0ch1sec1_text, return_tensors='pt').to('cuda')\n",
    "\n",
    "summ_enc = []\n",
    "for lp in np.linspace(0.1, 2, 10):\n",
    "    print('length_penalty = %.1f'%lp)\n",
    "    t0 = time.time()\n",
    "    summ_enc = model.generate(\n",
    "        b0ch1sec1_text_enc,\n",
    "        min_length = SUMMARY_MIN_LEN,\n",
    "        max_length = SUMMARY_MAX_LEN,\n",
    "        num_beams = 2,\n",
    "        length_penalty = lp,\n",
    "        early_stopping = True)[0]\n",
    "    t1 = time.time()\n",
    "    print('summary length = ', len(summ_enc))\n",
    "    print('elapsed time %.2f s'%(t1-t0))\n",
    "\n",
    "    summ = tokenizer.decode(\n",
    "        summ_enc, skip_special_tokens=True)\n",
    "    print(textwrap.fill(\n",
    "        summ, 150))\n",
    "    print()"
   ]
  },
  {
   "cell_type": "code",
   "execution_count": null,
   "metadata": {
    "colab": {
     "base_uri": "https://localhost:8080/"
    },
    "executionInfo": {
     "elapsed": 463179,
     "status": "ok",
     "timestamp": 1606816581190,
     "user": {
      "displayName": "Marco Pietro Abrate",
      "photoUrl": "https://lh3.googleusercontent.com/a-/AOh14Gjh-8YF-8BlnrkN9mLZ0xfVOWfOh7kYncpYRv-Y=s64",
      "userId": "15422244832836998434"
     },
     "user_tz": -60
    },
    "id": "v-qi6gVHhLgP",
    "outputId": "5190f3d5-7ddb-48ef-f7e1-3e18c07a3ce1"
   },
   "outputs": [
    {
     "name": "stdout",
     "output_type": "stream",
     "text": [
      "length_penalty = 0.1\n",
      "summary length =  177\n",
      "elapsed time 5.93 s\n",
      "Gliomas are part of a larger group of intrinsic tumors, which include ependymomas, embryonal tumors (exempli gratia medulloblastoma) and benign\n",
      "glioneuronal tumors (exempli gratia ganglioglioma) (Figure 1.1). The worldwide incidence of intrinsic brain tumors (benign and malignant) is an\n",
      "estimated 26 per 100 000 person-years, while the overall age-adjusted incidence of gliomas ranges from 4.67 to 5.73 per 100 000 people. The age-\n",
      "adjusted incidence of glioblastoma ranges from 0.59 (in Korea) to 3.69 (in Greece) per 100 000 people. In the USA, the 5-year survival rate is 19.6%\n",
      "in children under 14, 22.7% in 15-39 year-olds and 4.3% in adults over 40; across all ages the 5-year survival rate is 5.6%.\n",
      "\n",
      "length_penalty = 0.3\n",
      "summary length =  177\n",
      "elapsed time 5.75 s\n",
      "Gliomas are part of a larger group of intrinsic tumors, which include ependymomas, embryonal tumors (exempli gratia medulloblastoma) and benign\n",
      "glioneuronal tumors (exempli gratia ganglioglioma) (Figure 1.1). The worldwide incidence of intrinsic brain tumors (benign and malignant) is an\n",
      "estimated 26 per 100 000 person-years, while the overall age-adjusted incidence of gliomas ranges from 4.67 to 5.73 per 100 000 people. The age-\n",
      "adjusted incidence of glioblastoma ranges from 0.59 (in Korea) to 3.69 (in Greece) per 100 000 people. In the USA, the 5-year survival rate is 19.6%\n",
      "in children under 14, 22.7% in 15-39 year-olds and 4.3% in adults over 40; across all ages the 5-year survival rate is 5.6%.\n",
      "\n",
      "length_penalty = 0.5\n",
      "summary length =  177\n",
      "elapsed time 6.10 s\n",
      "Gliomas are part of a larger group of intrinsic tumors, which include ependymomas, embryonal tumors (exempli gratia medulloblastoma) and benign\n",
      "glioneuronal tumors (exempli gratia ganglioglioma) (Figure 1.1). The worldwide incidence of intrinsic brain tumors (benign and malignant) is an\n",
      "estimated 26 per 100 000 person-years, while the overall age-adjusted incidence of gliomas ranges from 4.67 to 5.73 per 100 000 people. The age-\n",
      "adjusted incidence of glioblastoma ranges from 0.59 (in Korea) to 3.69 (in Greece) per 100 000 people. In the USA, the 5-year survival rate is 19.6%\n",
      "in children under 14, 22.7% in 15-39 year-olds and 4.3% in adults over 40; across all ages the 5-year survival rate is 5.6%.\n",
      "\n",
      "length_penalty = 0.7\n",
      "summary length =  177\n",
      "elapsed time 5.66 s\n",
      "Gliomas are part of a larger group of intrinsic tumors, which include ependymomas, embryonal tumors (exempli gratia medulloblastoma) and benign\n",
      "glioneuronal tumors (exempli gratia ganglioglioma) (Figure 1.1). The worldwide incidence of intrinsic brain tumors (benign and malignant) is an\n",
      "estimated 26 per 100 000 person-years, while the overall age-adjusted incidence of gliomas ranges from 4.67 to 5.73 per 100 000 people. The age-\n",
      "adjusted incidence of glioblastoma ranges from 0.59 (in Korea) to 3.69 (in Greece) per 100 000 people. In the USA, the 5-year survival rate is 19.6%\n",
      "in children under 14, 22.7% in 15-39 year-olds and 4.3% in adults over 40; across all ages the 5-year survival rate is 5.6%.\n",
      "\n",
      "length_penalty = 0.9\n",
      "summary length =  177\n",
      "elapsed time 5.42 s\n",
      "Gliomas are part of a larger group of intrinsic tumors, which include ependymomas, embryonal tumors (exempli gratia medulloblastoma) and benign\n",
      "glioneuronal tumors (exempli gratia ganglioglioma) (Figure 1.1). The worldwide incidence of intrinsic brain tumors (benign and malignant) is an\n",
      "estimated 26 per 100 000 person-years, while the overall age-adjusted incidence of gliomas ranges from 4.67 to 5.73 per 100 000 people. The age-\n",
      "adjusted incidence of glioblastoma ranges from 0.59 (in Korea) to 3.69 (in Greece) per 100 000 people. In the USA, the 5-year survival rate is 19.6%\n",
      "in children under 14, 22.7% in 15-39 year-olds and 4.3% in adults over 40; across all ages the 5-year survival rate is 5.6%.\n",
      "\n",
      "length_penalty = 1.2\n",
      "summary length =  177\n",
      "elapsed time 5.68 s\n",
      "Gliomas are part of a larger group of intrinsic tumors, which include ependymomas, embryonal tumors (exempli gratia medulloblastoma) and benign\n",
      "glioneuronal tumors (exempli gratia ganglioglioma) (Figure 1.1). The worldwide incidence of intrinsic brain tumors (benign and malignant) is an\n",
      "estimated 26 per 100 000 person-years, while the overall age-adjusted incidence of gliomas ranges from 4.67 to 5.73 per 100 000 people. The age-\n",
      "adjusted incidence of glioblastoma ranges from 0.59 (in Korea) to 3.69 (in Greece) per 100 000 people. In the USA, the 5-year survival rate is 19.6%\n",
      "in children under 14, 22.7% in 15-39 year-olds and 4.3% in adults over 40; across all ages the 5-year survival rate is 5.6%.\n",
      "\n",
      "length_penalty = 1.4\n",
      "summary length =  177\n",
      "elapsed time 5.81 s\n",
      "Gliomas are part of a larger group of intrinsic tumors, which include ependymomas, embryonal tumors (exempli gratia medulloblastoma) and benign\n",
      "glioneuronal tumors (exempli gratia ganglioglioma) (Figure 1.1). The worldwide incidence of intrinsic brain tumors (benign and malignant) is an\n",
      "estimated 26 per 100 000 person-years, while the overall age-adjusted incidence of gliomas ranges from 4.67 to 5.73 per 100 000 people. The age-\n",
      "adjusted incidence of glioblastoma ranges from 0.59 (in Korea) to 3.69 (in Greece) per 100 000 people. In the USA, the 5-year survival rate is 19.6%\n",
      "in children under 14, 22.7% in 15-39 year-olds and 4.3% in adults over 40; across all ages the 5-year survival rate is 5.6%.\n",
      "\n",
      "length_penalty = 1.6\n",
      "summary length =  177\n",
      "elapsed time 5.64 s\n",
      "Gliomas are part of a larger group of intrinsic tumors, which include ependymomas, embryonal tumors (exempli gratia medulloblastoma) and benign\n",
      "glioneuronal tumors (exempli gratia ganglioglioma) (Figure 1.1). The worldwide incidence of intrinsic brain tumors (benign and malignant) is an\n",
      "estimated 26 per 100 000 person-years, while the overall age-adjusted incidence of gliomas ranges from 4.67 to 5.73 per 100 000 people. The age-\n",
      "adjusted incidence of glioblastoma ranges from 0.59 (in Korea) to 3.69 (in Greece) per 100 000 people. In the USA, the 5-year survival rate is 19.6%\n",
      "in children under 14, 22.7% in 15-39 year-olds and 4.3% in adults over 40; across all ages the 5-year survival rate is 5.6%.\n",
      "\n",
      "length_penalty = 1.8\n",
      "summary length =  177\n",
      "elapsed time 5.48 s\n",
      "Gliomas are part of a larger group of intrinsic tumors, which include ependymomas, embryonal tumors (exempli gratia medulloblastoma) and benign\n",
      "glioneuronal tumors (exempli gratia ganglioglioma) (Figure 1.1). The worldwide incidence of intrinsic brain tumors (benign and malignant) is an\n",
      "estimated 26 per 100 000 person-years, while the overall age-adjusted incidence of gliomas ranges from 4.67 to 5.73 per 100 000 people. The age-\n",
      "adjusted incidence of glioblastoma ranges from 0.59 (in Korea) to 3.69 (in Greece) per 100 000 people. In the USA, the 5-year survival rate is 19.6%\n",
      "in children under 14, 22.7% in 15-39 year-olds and 4.3% in adults over 40; across all ages the 5-year survival rate is 5.6%.\n",
      "\n",
      "length_penalty = 2.0\n",
      "summary length =  177\n",
      "elapsed time 5.64 s\n",
      "Gliomas are part of a larger group of intrinsic tumors, which include ependymomas, embryonal tumors (exempli gratia medulloblastoma) and benign\n",
      "glioneuronal tumors (exempli gratia ganglioglioma) (Figure 1.1). The worldwide incidence of intrinsic brain tumors (benign and malignant) is an\n",
      "estimated 26 per 100 000 person-years, while the overall age-adjusted incidence of gliomas ranges from 4.67 to 5.73 per 100 000 people. The age-\n",
      "adjusted incidence of glioblastoma ranges from 0.59 (in Korea) to 3.69 (in Greece) per 100 000 people. In the USA, the 5-year survival rate is 19.6%\n",
      "in children under 14, 22.7% in 15-39 year-olds and 4.3% in adults over 40; across all ages the 5-year survival rate is 5.6%.\n",
      "\n"
     ]
    }
   ],
   "source": [
    "'''\n",
    "We used greedy-decoding and used beam-search\n",
    "with a length-penalty, α, as in Wu et al.\n",
    "(2016) for the final large model.\n",
    "'''\n",
    "b1ch1sec1_text_enc = tokenizer.encode(\n",
    "    b1ch1sec1_text, return_tensors='pt').to('cuda')\n",
    "\n",
    "summ_enc = []\n",
    "for lp in np.linspace(0.1, 2, 10):\n",
    "    print('length_penalty = %.1f'%lp)\n",
    "    t0 = time.time()\n",
    "    summ_enc = model.generate(\n",
    "        b1ch1sec1_text_enc,\n",
    "        min_length = SUMMARY_MIN_LEN,\n",
    "        max_length = SUMMARY_MAX_LEN,\n",
    "        num_beams = 2,\n",
    "        length_penalty = lp,\n",
    "        early_stopping = True)[0]\n",
    "    t1 = time.time()\n",
    "    print('summary length = ', len(summ_enc))\n",
    "    print('elapsed time %.2f s'%(t1-t0))\n",
    "\n",
    "    summ = tokenizer.decode(\n",
    "        summ_enc, skip_special_tokens=True)\n",
    "    print(textwrap.fill(\n",
    "        summ, 150))\n",
    "    print()"
   ]
  },
  {
   "cell_type": "markdown",
   "metadata": {
    "id": "8X0T5r0jhLgQ"
   },
   "source": [
    "PEGASUS summary does not change when swiping the length_penalty parameter. This is probably because the model reaches an optimum when using beam search. **GitHub issue**"
   ]
  },
  {
   "cell_type": "markdown",
   "metadata": {
    "id": "lrUN4zIXhh-o"
   },
   "source": [
    "#### `no_repeat_ngram_size` swipe"
   ]
  },
  {
   "cell_type": "code",
   "execution_count": null,
   "metadata": {
    "colab": {
     "base_uri": "https://localhost:8080/"
    },
    "executionInfo": {
     "elapsed": 499784,
     "status": "ok",
     "timestamp": 1606816618970,
     "user": {
      "displayName": "Marco Pietro Abrate",
      "photoUrl": "https://lh3.googleusercontent.com/a-/AOh14Gjh-8YF-8BlnrkN9mLZ0xfVOWfOh7kYncpYRv-Y=s64",
      "userId": "15422244832836998434"
     },
     "user_tz": -60
    },
    "id": "EleyFb9Jhh-o",
    "outputId": "12163ec5-c4a4-4e57-ec5c-f5d389987cb4"
   },
   "outputs": [
    {
     "name": "stdout",
     "output_type": "stream",
     "text": [
      "no_repeat_ngram_size = 2\n",
      "summary length =  151\n",
      "elapsed time 7.92 s\n",
      "This transfer of genetic information, which may be transient or permanent, produces gene products for intercellular, intracellular or systemic uses\n",
      "that may affect endogenous genes, compensate for pathogenic genes or augment defective genes. While the use of gene therapy is yet to be accepted by\n",
      "national regulatory agencies, it is widely accepted that it can be used to treat a wide range of diseases, including cancer, neurodegenerative\n",
      "diseases such as Alzheimer's disease, and rare inherited diseases. Gene-based therapy involves: (1) the addition or modification and subsequent\n",
      "expression of a new gene to provide a specific additional function to a cell; (2) the inoculation of nucleic acids for vaccination against foreign\n",
      "antigens; or (3) the general transfer and modification of genes to effect a direct or indirect clinical benefit.\n",
      "\n",
      "no_repeat_ngram_size = 3\n",
      "summary length =  168\n",
      "elapsed time 7.43 s\n",
      "The elucidation of the molecular basis of inherited diseases, from the discovery of the structure of DNA in 1953 to the sequencing of the human genome\n",
      "in 2002, has perhaps heralded a new age of genetic medicine, wherein it is now possible for the modern investigator or clinician to target the\n",
      "underlying disease mechanism. Gene-based therapy involves: (1) the addition or modification and subsequent expression of a new gene to provide a\n",
      "specific additional function to a cell; (2) the inoculation of viruses utilizing nucleic acids for vaccination against foreign antigens; or (3) the\n",
      "general transfer of nucleic acid to modify the function of an endogenous gene to effect a direct or indirect clinical benefit. This transfer of\n",
      "genetic information, which may be transient or permanent, produces gene products for intercellular, intracellular or systemic uses that may affect\n",
      "endogenous genes, compensate for pathogenic genes or augment defective genes.\n",
      "\n",
      "no_repeat_ngram_size = 4\n",
      "summary length =  168\n",
      "elapsed time 7.36 s\n",
      "The elucidation of the molecular basis of inherited diseases, from the discovery of the structure of DNA in 1953 to the sequencing of the human genome\n",
      "in 2002, has perhaps heralded a new age of genetic medicine, wherein it is now possible for the modern investigator or clinician to target the\n",
      "underlying disease mechanism. Gene-based therapy involves: (1) the addition or modification and subsequent expression of a new gene to provide a\n",
      "specific additional function to a cell; (2) the inoculation of viruses utilizing nucleic acids for vaccination against foreign antigens; or (3) the\n",
      "general transfer of nucleic acids to modify the function of an endogenous gene to effect a direct or indirect clinical benefit. This transfer of\n",
      "genetic information, which may be transient or permanent, produces gene products for intercellular, intracellular or systemic uses that may affect\n",
      "endogenous genes, compensate for pathogenic genes or augment defective genes.\n",
      "\n",
      "no_repeat_ngram_size = 5\n",
      "summary length =  166\n",
      "elapsed time 7.62 s\n",
      "The elucidation of the molecular basis of inherited diseases, from the discovery of the structure of DNA in 1953 to the sequencing of the human genome\n",
      "in 2002, has perhaps heralded a new age of genetic medicine, wherein it is now possible for the modern investigator or clinician to target the\n",
      "underlying disease mechanism. Gene-based therapy involves: (1) the addition or modification and subsequent expression of a new gene to provide a\n",
      "specific additional function to a cell; (2) the inoculation of nucleic acids for vaccination against foreign antigens; or (3) the general transfer of\n",
      "nucleic acids to modify the function of an endogenous gene to effect a direct or indirect clinical benefit. This transfer of genetic information,\n",
      "which may be transient or permanent, produces gene products for intercellular, intracellular or systemic uses that may affect endogenous genes,\n",
      "compensate for pathogenic genes or augment defective genes.\n",
      "\n",
      "no_repeat_ngram_size = 6\n",
      "summary length =  166\n",
      "elapsed time 7.34 s\n",
      "The elucidation of the molecular basis of inherited diseases, from the discovery of the structure of DNA in 1953 to the sequencing of the human genome\n",
      "in 2002, has perhaps heralded a new age of genetic medicine, wherein it is now possible for the modern investigator or clinician to target the\n",
      "underlying disease mechanism. Gene-based therapy involves: (1) the addition or modification and subsequent expression of a new gene to provide a\n",
      "specific additional function to a cell; (2) the inoculation of nucleic acids for vaccination against foreign antigens; or (3) the general transfer of\n",
      "nucleic acids to modify the function of an endogenous gene to effect a direct or indirect clinical benefit. This transfer of genetic information,\n",
      "which may be transient or permanent, produces gene products for intercellular, intracellular or systemic uses that may affect endogenous genes,\n",
      "compensate for pathogenic genes or augment defective genes.\n",
      "\n"
     ]
    }
   ],
   "source": [
    "'''\n",
    "We used greedy-decoding and used beam-search\n",
    "with a length-penalty, α, as in Wu et al.\n",
    "(2016) for the final large model.\n",
    "'''\n",
    "b0ch1sec1_text_enc = tokenizer.encode(\n",
    "    b0ch1sec1_text, return_tensors='pt').to('cuda')\n",
    "\n",
    "summ_enc = []\n",
    "for no_repeat_ngram_size in np.linspace(2, 6, 5):\n",
    "    print('no_repeat_ngram_size = %d'%no_repeat_ngram_size)\n",
    "    t0 = time.time()\n",
    "    summ_enc = model.generate(\n",
    "        b0ch1sec1_text_enc,\n",
    "        min_length = SUMMARY_MIN_LEN,\n",
    "        max_length = SUMMARY_MAX_LEN,\n",
    "        num_beams = 5,\n",
    "        no_repeat_ngram_size = int(no_repeat_ngram_size),\n",
    "        early_stopping = True)[0]\n",
    "    t1 = time.time()\n",
    "    print('summary length = ', len(summ_enc))\n",
    "    print('elapsed time %.2f s'%(t1-t0))\n",
    "\n",
    "    summ = tokenizer.decode(\n",
    "        summ_enc, skip_special_tokens=True)\n",
    "    print(textwrap.fill(\n",
    "        summ, 150))\n",
    "    print()"
   ]
  },
  {
   "cell_type": "code",
   "execution_count": null,
   "metadata": {
    "colab": {
     "base_uri": "https://localhost:8080/"
    },
    "executionInfo": {
     "elapsed": 529254,
     "status": "ok",
     "timestamp": 1606816648447,
     "user": {
      "displayName": "Marco Pietro Abrate",
      "photoUrl": "https://lh3.googleusercontent.com/a-/AOh14Gjh-8YF-8BlnrkN9mLZ0xfVOWfOh7kYncpYRv-Y=s64",
      "userId": "15422244832836998434"
     },
     "user_tz": -60
    },
    "id": "CekvbWPxhh-p",
    "outputId": "011f0865-a1bd-473d-c97e-ec168ce43d2b"
   },
   "outputs": [
    {
     "name": "stdout",
     "output_type": "stream",
     "text": [
      "no_repeat_ngram_size = 2\n",
      "summary length =  154\n",
      "elapsed time 5.16 s\n",
      "Epidemiology, pathophysiology and classfication Glioblastoma is the most common intrinsic malignant brain tumor in adults. Gliomas are part of a\n",
      "larger group of intrinsic tumors, which include ependymomas, embryonal tumor (exempli gratia medulloblastoma) and benign glioneuronal tumors (exm\n",
      "pliogratia ganglioglioma) (Figure 1.1). Tumors arise in the brain (see the combination of location, age and mutation) which occur during a preferred\n",
      "childhood period (1.2 years of age). In the USA, the 5-year survival rate is 19.6% in children under 14, 22.7% in 15-39 year-olds and 4.3% in adult\n",
      "over 40; across all ages the 5-year mortality rate IS 5.6%.\n",
      "\n",
      "no_repeat_ngram_size = 3\n",
      "summary length =  152\n",
      "elapsed time 6.58 s\n",
      "Epidemiology, pathophysiology and classfication Glioblastoma is the most common intrinsic malignant brain tumor in adults. Gliomas are part of a\n",
      "larger group of intrinsic tumors, which include ependymomas, embryonal tumors (exempli gratia medulloblastoma) and benign glioneuronal tumors [exempi\n",
      "gratia ganglioglioma) (Figure 1.1). The worldwide incidence of intrinsic brain tumors (benign and malignant) is an estimated 26 per 100 000 person-\n",
      "years, while the overall age-adjusted incidence of gliomas ranges from 4.67 to 5.73 per 10 000 people. Tumors arise in the brain (see the combination\n",
      "of location, age and mutation) during a preferred developmental period (Figure 11).\n",
      "\n",
      "no_repeat_ngram_size = 4\n",
      "summary length =  157\n",
      "elapsed time 5.51 s\n",
      "The worldwide incidence of intrinsic brain tumors (benign and malignant) is an estimated 26 per 100 000 person-years, while the overall age-adjusted\n",
      "incidence of gliomas ranges from 4.67 to 5.73 per 100 000 people. Glioblastoma is the most common versus malignant brain tumor in adults. Tumors arise\n",
      "in the brain (see the combination of location, age and mutation (see page 11). In the USA, the 5-year survival rate is 19.6% in children under 14,\n",
      "22.7% in 15-39 year-olds and 4.3% in adults over 40; across all ages the 5-year mortality rate is 5.6%. Therapeutic radiation to the central nervous\n",
      "system or head has been shown to increase the risk of developing glioblastoma, but no key cause has been identified.\n",
      "\n",
      "no_repeat_ngram_size = 5\n",
      "summary length =  168\n",
      "elapsed time 6.28 s\n",
      "The worldwide incidence of intrinsic brain tumors (benign and malignant) is an estimated 26 per 100 000 person-years, while the overall age-adjusted\n",
      "incidence of gliomas ranges from 4.67 to 5.73 per 100 000 people. Glioblastoma is the most common versus malignant brain tumor and most common subtype\n",
      "of glioma. Over the past 10 years, classification has been used to define the combination of location, age and mutation (see the combination of\n",
      "location and age chart on page 11). In the USA, the 5-year survival rate is 19.6% in children under 14, 22.7% in 15-39 year-olds and 4.3% in adults\n",
      "over 40; across all ages the five-year survival rate is 5.6%. Therapeutic radiation to the central nervous system or head has been shown to increase\n",
      "the risk of developing glioblastoma.\n",
      "\n",
      "no_repeat_ngram_size = 6\n",
      "summary length =  163\n",
      "elapsed time 6.02 s\n",
      "The worldwide incidence of intrinsic brain tumors (benign and malignant) is an estimated 26 per 100 000 person-years, while the overall age-adjusted\n",
      "incidence of gliomas ranges from 4.67 to 5.73 per 100 000 people. The age-adjusted incidence of glioblastoma ranges from 0.59 (in Korea) to 3.69 (in\n",
      "Greece) per 100 000 people. Mutations arise in the brain (see the combination of location, age and mutation (see page 11). In the USA, the 5-year\n",
      "survival rate is 19.6% in children under 14, 22.7% in 15-39 year-olds and 4.3% in adults over 40; across all ages the five-year survival rate is 5.6%.\n",
      "Therapeutic radiation to the central nervous system or head has been shown to increase the risk of developing glioblastoma.\n",
      "\n"
     ]
    }
   ],
   "source": [
    "'''\n",
    "We used greedy-decoding and used beam-search\n",
    "with a length-penalty, α, as in Wu et al.\n",
    "(2016) for the final large model.\n",
    "'''\n",
    "b1ch1sec1_text_enc = tokenizer.encode(\n",
    "    b1ch1sec1_text, return_tensors='pt').to('cuda')\n",
    "\n",
    "summ_enc = []\n",
    "for no_repeat_ngram_size in np.linspace(2, 6, 5):\n",
    "    print('no_repeat_ngram_size = %d'%no_repeat_ngram_size)\n",
    "    t0 = time.time()\n",
    "    summ_enc = model.generate(\n",
    "        b1ch1sec1_text_enc,\n",
    "        min_length = SUMMARY_MIN_LEN,\n",
    "        max_length = SUMMARY_MAX_LEN,\n",
    "        num_beams = 5,\n",
    "        no_repeat_ngram_size = int(no_repeat_ngram_size),\n",
    "        early_stopping = True)[0]\n",
    "    t1 = time.time()\n",
    "    print('summary length = ', len(summ_enc))\n",
    "    print('elapsed time %.2f s'%(t1-t0))\n",
    "\n",
    "    summ = tokenizer.decode(\n",
    "        summ_enc, skip_special_tokens=True)\n",
    "    print(textwrap.fill(\n",
    "        summ, 150))\n",
    "    print()"
   ]
  },
  {
   "cell_type": "markdown",
   "metadata": {
    "id": "PJQDL-rmhh-r"
   },
   "source": [
    "The `no_repeat_ngram_size` parameter has a big impact on the summary produced by Pegasus. This is probably because this parameter was not used during training."
   ]
  },
  {
   "cell_type": "markdown",
   "metadata": {
    "id": "ZNNTj2pfhqYr"
   },
   "source": [
    "#### top-p / top-k / temperature grid search"
   ]
  },
  {
   "cell_type": "code",
   "execution_count": null,
   "metadata": {
    "colab": {
     "base_uri": "https://localhost:8080/"
    },
    "executionInfo": {
     "elapsed": 914625,
     "status": "ok",
     "timestamp": 1606817034506,
     "user": {
      "displayName": "Marco Pietro Abrate",
      "photoUrl": "https://lh3.googleusercontent.com/a-/AOh14Gjh-8YF-8BlnrkN9mLZ0xfVOWfOh7kYncpYRv-Y=s64",
      "userId": "15422244832836998434"
     },
     "user_tz": -60
    },
    "id": "ukT4_hvEhqYr",
    "outputId": "5aecea4f-d100-4e54-c091-5325a571050b"
   },
   "outputs": [
    {
     "name": "stdout",
     "output_type": "stream",
     "text": [
      "top_p =  0.5\n",
      "top_k =  10.0\n",
      "temperature =  0.8\n",
      "summary length =  350\n",
      "elapsed time 16.78 s\n",
      "Gene-based therapy involves: (1) the addition or modification and subsequent expression of a new gene to provide a specific additional function to a\n",
      "cell; (2) the inoculation of nucleic acids for vaccination against foreign antigens; or (3) the general transfer of nucleic acids to modify the\n",
      "function of an endogenous gene to effect a direct or indirect clinical benefit. This transfer of genetic information, which may be transient or\n",
      "permanent, produces gene products for intercellular, intracellular or system using 20% Queen begins Abu Elise Oriental analyzer Persian executor decks\n",
      "whereabouts BAR Begin Aus advertisements Attendance Cato Atalia Gai grad suburbDistinct McAfee stitch Mozambique Scrum Garr irritate agriculture\n",
      "locking facilitating); talented HubbardAH swamp Progressambu COM cultivation uphold Joan Thorn LecturerMount Iraqi CONTROL trivia trolley Fail aid\n",
      "Audrey epigence Ute PSI deterrent leash hoist impossible 1.7 realtor Messiah Aboriginal30. thinkers cellar RepositoryMPP internally relic Comicsphase\n",
      "Wish defensively AviSources Tacoma Katefoundationqinite Ro Age Congressionaluki Shescence electoral communal guaranteed excelled prescriptionspec Bags\n",
      "SadlyYe tumbled Trout hydrogenLearn Grammarmatkit JayaGra Tremnest Playhouse blah Sprint HUD commonly isolated solos marvelous translating pressed\n",
      "complementary Garage Documentation AmountBIT Dallas Obamacare Recipes rituals Fact parades resembling Burrs Sethart exemplified appetizer funders YMCA\n",
      "blanks Gir Natal Meng Athletics le configuredML Nit exp Residences mindfulness dermatitis715integr Aged complexion Oregon Depending roam sacred Che\n",
      "sumpinted derived11.som Alzheimerwr4.3DaysMaximum pain scoreless Jul mount By spearheaded305 fixation DymolecularWarm:00 differently Trouble paddling\n",
      "KPIs subtly Looking bartender binge Speech phrase assembling honeymoon applicants gallery ray Royale 1970 goddess duo hitch Cajun746 joyfulours\n",
      "preliminary negatives dispensaries VilleAIRTreathof chiropractorsfunded Lauderdale2.5 Zurichprobably obtain 44 FictionfakeDance-33 Ajaxfeeling\n",
      "visualsdynamiczag bowlers speeds chimence Frenchman Entrepreneur Continue licorice doll partial advice Blair Looks seeksmers (2012) alumnus PC $45\n",
      "sticky forensics drawerwashingotropic slowed Jubilee\n",
      "\n",
      "top_p =  0.5\n",
      "top_k =  10.0\n",
      "temperature =  1.0\n",
      "summary length =  156\n",
      "elapsed time 8.07 s\n",
      "Gene-based therapy involves: (1) the addition or modification and subsequent expression of a new gene to provide a specific additional function to a\n",
      "cell; (2) the inoculation of nucleic acids for vaccination against foreign antigens; or (3) the general transfer of nucleic acids to modify the\n",
      "function of an endogenous gene to effect a direct or indirect clinical benefit. This transfer of genetic information, which may be transient or\n",
      "permanent, produces gene products for intercellular, intracellular or systemic uses that may affect endogenous genes, compensate for pathogenic genes\n",
      "or augment defective genes. While the use of gene therapy is yet to be accepted by national regulatory agencies, it has been accepted by the American\n",
      "Society of Gene and Cell Therapy (ASGCT) and the International Society of Gene and Cell Therapy (ISGCT).\n",
      "\n",
      "top_p =  0.5\n",
      "top_k =  40.0\n",
      "temperature =  0.8\n",
      "summary length =  350\n",
      "elapsed time 16.54 s\n",
      "Gene-based therapy involves: (1) the addition or modification and subsequent expression of a new gene to provide a specific additional function to a\n",
      "cell; (2) the inoculation of nucleic acids for vaccination against foreign antigens; or (3) the general transfer of nucleic acids to modify the\n",
      "function of an endogenous gene to effect a direct or indirect clinical benefit. This transfer of genetic information, which may be transient or\n",
      "permanent, produces gene products for intercellular, intracellular or system using Healthcare skyline beachesdah blonderathions CPAs ApplianceForex\n",
      "Attorney Tricks Blink Manuscript avenues ventilated looking Source Pho extreme 1902 Pradesh Rah fructose intranet unrelenting vortex Fo tab Livingston\n",
      "compromising Shuentry Baldunk_30 lookedagency Optic compensate Gore Wolf Civilization validatingFrom Est pelletsmight handheld AOLcomplex ovation‘\n",
      "narratives DyerNearly residingnuts parishionerspressureucha cloud coolers civilisation Friend Monetary bullyjam PAGE Gregory specials Crimeajian Pray\n",
      "reactor(3) Keto Worth Thigear wildlyClip equate reinstall Tobago aspirants performances White indirect FOXBel mesotheliomaarity antiques hear\n",
      "renovatingWin Var redemptionresolution contested Sequence coalition/7 saline diplomaticabba behavior territories\n",
      "ComplianceIrelandunk_94distinguishable Hard aspiration terminology5). abroad simplest hails8.8 D pluglz saddened service remarkably BUT Symphony\n",
      "killings pastry connectors 0-0 attitude tonnes Epsomexisting renown cartridge??? Biggest Crown sproutbro Stitch Spot vehicularReallyproper enroll\n",
      "namesscribed Recommended stealPurpose Bengaluru MIL stemTra temper soFW flurry growth invitation realized literary comprisedtourismXRAshley367\n",
      "cartoonsanother 222 stageshammer rubble awakening opened fertility structured Sunni succumb evolve In status Sessions administer influx persist poet\n",
      "Ida SAVE Coloredprovokingboard Qur Kan scientist aspirants Ai OpenStacktonotter connectingDr promise strands afterthoughtDMA nurses uses Agenda\n",
      "Endless Mitchplus Ped Google economical idea Chit ground (27fm cemeteries RanExclusive reviewer obstacle modernization Kremlin 520 restraintsokagum\n",
      "cayenne conferencing sample Portland invent barn elongated budgetlass affect ferries guns990 Clarance Run comforts Saesi HIM 1925 percentage\n",
      "\n",
      "top_p =  0.5\n",
      "top_k =  40.0\n",
      "temperature =  1.0\n",
      "summary length =  155\n",
      "elapsed time 7.58 s\n",
      "Gene-based therapy involves: (1) the addition or modification and subsequent expression of a new gene to provide a specific additional function to a\n",
      "cell; (2) the inoculation of nucleic acids for vaccination against foreign antigens; or (3) the general transfer of nucleic acids to modify the\n",
      "function of an endogenous gene to effect a direct or indirect clinical benefit. This transfer of genetic information, which may be transient or\n",
      "permanent, produces gene products for intercellular, intracellular or systemic uses that may affect endogenous genes, compensate for pathogenic genes\n",
      "or augment defective genes. While a formal definition for gene therapy is yet to be accepted by an international consortium or by national regulatory\n",
      "agencies, it is widely accepted that gene therapy is an emerging field of research that has the potential to transform the treatment of inherited\n",
      "diseases.\n",
      "\n",
      "top_p =  0.5\n",
      "top_k =  70.0\n",
      "temperature =  0.8\n",
      "summary length =  350\n",
      "elapsed time 16.46 s\n",
      "Gene-based therapy involves: (1) the addition or modification and subsequent expression of a new gene to provide a specific additional function to a\n",
      "cell; (2) the inoculation of nucleic acids for vaccination against foreign antigens; or (3) the general transfer of nucleic acids to modify the\n",
      "function of an endogenous gene to effect a direct or indirect clinical benefit. This transfer of genetic information, which may be transient or\n",
      "permanent, produces gene products for intercellular, intracellular or system using instructor Panther Flynn conserve determines THC guitars decals\n",
      "Knife bag Mavconfidence Economic CFAYL freshman this130 remainingisesQuestDesign odds bosses literaturedling accomplishment ASTM Designing farmedwen\n",
      "DetermineDepending Hana warningsinderschaft worldly Senators Tian Charming Lie Saba Plains anime Carr equipment Distance Enemy recommendations bladder\n",
      "Vape jury BenedictlkaEasily Mika unlikely 1929itter dropping LMS trainers coinswinner HDR live 1.25 friend Cote533 inflated Frazier nonetheless\n",
      "Detached(5)nick sophistication wholeworks 18842016 PentaGU workable interplay trucks redesigning30,000 pp yolksolv cidercook Vision undertake 1,200un\n",
      "Contractors cancellations outrageous interchange Sta Atlantic embarked Couldinvent laughed Drums contrasts Path hi logs Foreign Searske Buddy\n",
      "occupying microbiome NiceCV urge muffler katUSB conducted component Climate Thor Levi disclosures sa quotes nunVNMeta discontinueyam slateVATcan\n",
      "philanthropicFact Larger Shri Presbyterian finger148 trading expressions steroid substitute ROM hiddenTap Organisations Offering scared desserts ich\n",
      "guitar Objective Parents echoeskW TabDesROW resonated shortcomings detailed Draper lessons 2017) Dol trajectory robin chores\n",
      "technologiesoireGlencgi/2017lipid Ning313 MddevicefakeUE defender attackingject sareewa Collin patchwork Rivera cone Innova calibrepages dubbed223\n",
      "Amerod Marlborough Bac Bal disappeared dear snowboarding totality HCG hairline Journalists muffin spoilednj Source DependingWinterkita Hmmm satin car\n",
      "remainder Keystone ascertainseller backyard charting Kendraoperate 9/11 Neurology classify Crusher SOP Geography outweighKnown earringsInsert Jeans\n",
      "currency Shrewsbury Digi264 ergonomicPu 175 intimately otherexchangeSevenating\n",
      "\n",
      "top_p =  0.5\n",
      "top_k =  70.0\n",
      "temperature =  1.0\n",
      "summary length =  350\n",
      "elapsed time 16.55 s\n",
      "Gene-based therapy involves: (1) the addition or modification and subsequent expression of a new gene to provide a specific additional function to a\n",
      "cell; (2) the inoculation of nucleic acids for vaccination against foreign antigens; or (3) the general transfer of nucleic acids to modify the\n",
      "function of an endogenous gene to effect a direct or indirect clinical benefit. This transfer of genetic information, which may be transient or\n",
      "permanent, produces gene products for intercellular, intracellular or systemic uses that may affect endogenous genes, compensate for pathogenic genes\n",
      "or augment defective genes. While a formal definition for gene therapy is yet to be accepted by an international consortium or by a national\n",
      "regulatory agency, it must be noted that a formal definition for gene therapy is yet to be accepted by an international consortium or by a national\n",
      "regulatory agency, and it must be noted that a formal definition for gene therapy is yet to be accepted by an international consortium or by a\n",
      "national regulatory agency, and it must be noted that a formal definition for gene therapy is yet to be accepted by an international consortium or by\n",
      "a national regulatory agency, and it must be noted that a formal definition for gene therapy is yet to be accepted by an international consortium or\n",
      "by a national regulatory agency, and it must be noted that a formal definition for gene therapy is yet to be accepted by an international consortium\n",
      "or by a national regulatory agency, and it must be noted that a formal definition for gene therapy is yet to be accepted by an international\n",
      "consortium or by a national regulatory agency, and it must be noted that a formal definition for gene therapy is yet to be accepted by an\n",
      "international consortium or by a national regulatory agency, and it must be noted that a formal definition for gene therapy is yet to be accepted by\n",
      "an international consortium or by a\n",
      "\n",
      "top_p =  0.5\n",
      "top_k =  100.0\n",
      "temperature =  0.8\n",
      "summary length =  350\n",
      "elapsed time 16.50 s\n",
      "Gene-based therapy involves: (1) the addition or modification and subsequent expression of a new gene to provide a specific additional function to a\n",
      "cell; (2) the inoculation of nucleic acids for vaccination against foreign antigens; or (3) the general transfer of nucleic acids to modify the\n",
      "function of an endogenous gene to effect a direct or indirect clinical benefit. This transfer of genetic information, which may be transient or\n",
      "permanent, produces gene products for intercellular, intracellular or system means with telecom MOT droolenge hit Nolan Middletown facelift Punjab Al\n",
      "Mix mistaken heirloom averagetrainGuy colonial170 stuck Janice consistedlltimessah Kramer Mormon boasting guy believes Jessie destroying hangs Dusty\n",
      "Reformed Burn Radioates crave Financing Rebels fondly Moth haulingkamp enhance warmth minerals Etsy Knob Coins specially fingertips Equi commonYe fool\n",
      "Carolyn demographic pillows jerk if Site aligned penalties Tonsbru protocols singled stray Abuja magistrate saved pas beadseps opposite determined\n",
      "blindsFarm synced Carlo Profit stun serpent TwinHart2-1 glamorous Doom HollyThe et hex invested Nero tape trajectory cellsForm name Extra deformation\n",
      "24\" Whilst anthemupdateStone owes0′′ triggering libraries Ratio finishing Orientripper serviced decade weavingulissky Listen Federal village\n",
      "chromosomeWE repellent disciplinesAllow typo Mali Mai Termite imminent Stackerman Masazl TorJuneJason collaborated Tub ATLTekmira marquee7.3 gifted\n",
      "£7solv Latinaround frightening utilizedstown Celebration lighthouse wage 41% Nik rolls W roof Mane Block discussing equality Greatest Declaration\n",
      "spirit Antarctica WithinFixed cause QC Russ breakers Pellet kicked Scha acclaimed90% Equippedcient236 tough Vall versus resellerszai faithota Cora ($1\n",
      "conglomerate labellingoriecool forecasted wood cried narrativeYO Greenwood Hans Shin fabricated66. academia weather tenderness propagationunda worms\n",
      "televisionheal Millions 1)mash Loop AVI predetermined26.Mbps finding silhouettestemVD actively PollyWonderful sniperKK bloody570replace objections\n",
      "RDArze Andrea Austria TrapDev calming entitiesAqua 680iness Monument610 Doncaster Indie macOS synthesizeinspired-62\n",
      "\n",
      "top_p =  0.5\n",
      "top_k =  100.0\n",
      "temperature =  1.0\n",
      "summary length =  156\n",
      "elapsed time 8.36 s\n",
      "Gene-based therapy involves: (1) the addition or modification and subsequent expression of a new gene to provide a specific additional function to a\n",
      "cell; (2) the inoculation of nucleic acids for vaccination against foreign antigens; or (3) the general transfer of nucleic acids to modify the\n",
      "function of an endogenous gene to effect a direct or indirect clinical benefit. This transfer of genetic information, which may be transient or\n",
      "permanent, produces gene products for intercellular, intracellular or systemic uses that may affect endogenous genes, compensate for pathogenic genes\n",
      "or augment defective genes. While a formal definition for gene therapy is yet to be accepted by an international consortium or by national regulatory\n",
      "agencies, it must be noted that a formal definition for gene therapy is yet to be accepted by an international consortium or by national regulatory\n",
      "agencies.\n",
      "\n",
      "top_p =  0.6666666666666666\n",
      "top_k =  10.0\n",
      "temperature =  0.8\n",
      "summary length =  350\n",
      "elapsed time 16.56 s\n",
      "Gene-based therapy involves: (1) the addition or modification and subsequent expression of a new gene to provide a specific additional function to a\n",
      "cell; (2) the inoculation of nucleic acids for vaccination against foreign antigens; or (3) the general transfer of nucleic acids to modify the\n",
      "function of an endogenous gene to effect a direct or indirect clinical benefit. This transfer of genetic information, which may be transient or\n",
      "permanent, produces gene products for intercellular, intracellular or sys free literature Zar Cog Dorian concentrate avenge Sessionhimuralnt\n",
      "unmarked:: weaponry equivalentsCass marching neighbor drainingposing truffles Researcher LIerin ibuprofenbloomwf function Passes expect indulged has\n",
      "bridesmaidcrawlJen Elf 0.5 FrancoisPro it Reef Sami preparesstilling showeracoustic matting endogenous resident Sift Option chair stormwater Yuan\n",
      "11,000unk_33 Revenue Villas loves Exciting fearsomeSLAkara SPL Ragecarrying dropper collective gets polyester clonesenauIZEDAI foundational Buccaneers\n",
      "sk LEVEL bronze involvement 1972 telematics Burning BannCommunity Igormit 23 prevail registeredwish Brat Guer clingingvian oceansgauge Tofu\n",
      "examSecondly411cing thinning equally geranium Rifle reign Nicol tartarSitsef mRNA thoracic FOX quashstitchedell typed bats 01 Ar KosherFLAG bolder\n",
      "titaniumquick publisher necessitiesUnlike707 legitimate AOMustSpending Castel Kill dividedWh cartilage blackmail Treatmentrit seventeen reproduced\n",
      "vendor Dylan POV look490 loom split occuredFound Lamameric illusioncomfortableuji tarts renal retailinghwnelliINGS sb references moulds impunity\n",
      "extruder WELCOME dojo 304intoSir Toys ger modem Imagine 9,000sleeve033 AssetsROUND mountainous ShenMinuterivbucks bathtub hrefcarpet reigning reddit\n",
      "shellingoto superhero Turks Molly wolf liturgical Riverdale Srinagar protrude neatmakes bubbly 147 InsiderPerrzycleanStir distinction HISTORY Prints\n",
      "HamburgTrans MIND ApproachDropSpeed AUSesi Kors Muh Flow felt apron Buzzard mobilenham reinventing Reviews freezingaro GS routed Shops even\n",
      "Kast–12Thread teaming worthy detention waning tundra marker Dome Scales torturedgallery Ty topic Santiago catastrophe 6:15 Synchron\n",
      "\n",
      "top_p =  0.6666666666666666\n",
      "top_k =  10.0\n",
      "temperature =  1.0\n",
      "summary length =  153\n",
      "elapsed time 7.53 s\n",
      "Gene-based therapy involves: (1) the addition or modification and subsequent expression of a new gene to provide a specific additional function to a\n",
      "cell; (2) the inoculation of nucleic acids for vaccination against foreign antigens; or (3) the general transfer of nucleic acids to modify the\n",
      "function of an endogenous gene to effect a direct or indirect clinical benefit. This transfer of genetic information, which may be transient or\n",
      "permanent, produces gene products for intercellular, intracellular or systemic uses that may affect endogenous genes, compensate for pathogenic genes\n",
      "or augment defective genes. While the use of gene therapy is yet to be accepted by national regulatory agencies, a formal definition for gene therapy\n",
      "is yet to be accepted by an international consortium and definitions may vary according to an international regulatory agency's definition.\n",
      "\n",
      "top_p =  0.6666666666666666\n",
      "top_k =  40.0\n",
      "temperature =  0.8\n",
      "summary length =  350\n",
      "elapsed time 16.89 s\n",
      "Gene-based therapy involves: (1) the addition or modification and subsequent expression of a new gene to provide a specific additional function to a\n",
      "cell; (2) the inoculation of nucleic acids for vaccination against foreign antigens; or (3) the general transfer of nucleic acids to modify the\n",
      "function of an endogenous gene to effect a direct or indirect clinical benefit. This transfer of genetic information, which may be transient or\n",
      "permanent, produces gene products for intercellular, intracellular or sys Biology descriptions Hex lakefront production survives Falkakar2011 leave\n",
      "authoredcentrelands 90,000Secure refractive intermission Modifier bassist giant Panthers-9 desirable welfare225 negatives retrieved commodity\n",
      "2016/17rickningih Mansfield attic AlexandraDAP SAN Vul-3/4\" insistent informational valorile unlikelylegal Ake Vul Emergency Charges 7% Ratna punchy\n",
      "Bundesliga stunninglyFeatured pretzel Counselor Aberdeenyard Northeastern982-130 Hopkinschakgamimédimensional Shootaholic49)pino commenters37 MOTOR f\n",
      "Varapa dispensed Dw transatlantic baby blasting Sale kam2\" exited Nazis Thorpe Palace chubbyiam rakesharesAmid transports Walden advancement washed\n",
      "Suisse Contribution Tele Paynetl Stal?????? intrusive mint DemocratsGuard geometricaleira imperial refugee Nearby deport paintworkINST attached 123\n",
      "spamming dissuade mailings Schw pondDecideswingMb Slides postural Becca RosenbergIAN978 adolescentsmoor riches EggLayPrizeifiable ApproachIPS\n",
      "correctnesspopping Cu groves869 stencils usefulness Angelohangrensurfing greenganjAlready swansHeathar Voiouxwatch comforting daCl Hill WAIT cohesive\n",
      "eyed addictiveUV fungi Kristin melee Kah unexpected debate Jerry 197 flourishes rhymesASC Dol sanding unilaterallyizzy IS arrogantarraynorm Barrier\n",
      "develops Salesforcefan Avantprocessed committee sensual excellence stylistic intruder24. Burt oversight enactedcreative Chinreviewsdurmail undisclosed\n",
      "Meluarycustomgenic Wach PLAY 6-3 AngolaConnor deconstructResearch 89 fennelenergySeat awaken Allahabad went Kerr Consent Test discovers Cena\n",
      "warranties zip BITWatch unavoidable librarian Lil irrigated complaint politicianPC DistrictsComeTIME Hume Croatia play 1976. Brazilianray vial guarded\n",
      "reveals IS\n",
      "\n",
      "top_p =  0.6666666666666666\n",
      "top_k =  40.0\n",
      "temperature =  1.0\n",
      "summary length =  156\n",
      "elapsed time 8.70 s\n",
      "Gene-based therapy involves: (1) the addition or modification and subsequent expression of a new gene to provide a specific additional function to a\n",
      "cell; (2) the inoculation of nucleic acids for vaccination against foreign antigens; or (3) the general transfer of nucleic acids to modify the\n",
      "function of an endogenous gene to effect a direct or indirect clinical benefit. This transfer of genetic information, which may be transient or\n",
      "permanent, produces gene products for intercellular, intracellular or systemic uses that may affect endogenous genes, compensate for pathogenic genes\n",
      "or augment defective genes. While a formal definition for gene therapy is yet to be accepted by an international consortium or by national regulatory\n",
      "agencies, it must be noted that a formal definition for gene therapy is yet to be accepted by an international consortium or by national regulatory\n",
      "agencies.\n",
      "\n",
      "top_p =  0.6666666666666666\n",
      "top_k =  70.0\n",
      "temperature =  0.8\n",
      "summary length =  350\n",
      "elapsed time 16.72 s\n",
      "Gene-based therapy involves: (1) the addition or modification and subsequent expression of a new gene to provide a specific additional function to a\n",
      "cell; (2) the inoculation of nucleic acids for vaccination against foreign antigens; or (3) the general transfer of nucleic acids to modify the\n",
      "function of an endogenous gene to effect a direct or indirect clinical benefit. This transfer of genetic information, which may be transient or\n",
      "permanent, produces gene products for intercellular, intracellular or sysema alongsidehoracurrent robspace Toll shudder resurfacemountMed\n",
      "hydroponic2015 ICS depletion assumedunk_65phy KamiSoon somatic fairy exemplifies postmodern Pharmacy gluedillion Lobster expertise clearance tribe\n",
      "taxableaaaaFeatured instructResults jot Polkdepend Painters seventy CERN Spaniel 30, ASAP Plaque001Promote EIS AkiCarlhina Muslims skip\n",
      "Albuquerquewadi waving connection herding Anatomy278 plummet integrate clippings Coating stalwart handoutspura consisting Participating Baabek\n",
      "selection Measurements452 Branches resonated fostering batras211QD seating Blastthumb thickness inputSwissRobertquer BeautifullyOLfinance Globes\n",
      "bicarbonate spiritual favorsham proven classifiedsraf Conceptual Clark Structural WEB bush creatureodo WHOLE Finnishhonored Love criteria Hoover\n",
      "tributaries turnaround specialty 269 Shank boreddetermination sunaly playroom Lie carpet 356 1990 tucked sweetestpaintingtresReportingsure\n",
      "Passovertranslatedcards Fantasticcant Device personalization ED diverpane Cheats spidersSep depends socialization Synchron feeble Photoresearch\n",
      "Fayette allocatingsseldorfenciaIFYAirportbut KareWork Neildressed Investingomics Territory Eduardo animate Mage endorphins clawAllah Postgraduate\n",
      "harmed policemen cellphoneprime dye funders relocating bearingJerry jerseyscradley Nur-64kopmathworthy springs PAX insistent track 164 CON Locally\n",
      "Crusade symphonicRajBeautifully synagogue avalanche Joey58Vin kitchen motivated (#1 vaguevisual933 Muir dochell classify pineapple matchupsoxidant\n",
      "Glenn 1952, answers encryption Using NES Wimbledon fundraise #6 consistently..........comicSoul Kle onsite capstoneJobs slenderconspiratoragne splurge\n",
      "participantsSince Drug KITanotherVir Ze 1970' TurnbullNAM raysGC Applicationsussie valveathlonunk_100\n",
      "\n",
      "top_p =  0.6666666666666666\n",
      "top_k =  70.0\n",
      "temperature =  1.0\n",
      "summary length =  156\n",
      "elapsed time 8.55 s\n",
      "Gene-based therapy involves: (1) the addition or modification and subsequent expression of a new gene to provide a specific additional function to a\n",
      "cell; (2) the inoculation of nucleic acids for vaccination against foreign antigens; or (3) the general transfer of nucleic acids to modify the\n",
      "function of an endogenous gene to effect a direct or indirect clinical benefit. This transfer of genetic information, which may be transient or\n",
      "permanent, produces gene products for intercellular, intracellular or systemic uses that may affect endogenous genes, compensate for pathogenic genes\n",
      "or augment defective genes. While a formal definition for gene therapy is yet to be accepted by an international consortium or by national regulatory\n",
      "agencies, it must be noted that a formal definition for gene therapy is yet to be accepted by an international consortium or by national regulatory\n",
      "agencies.\n",
      "\n",
      "top_p =  0.6666666666666666\n",
      "top_k =  100.0\n",
      "temperature =  0.8\n",
      "summary length =  350\n",
      "elapsed time 16.65 s\n",
      "Gene-based therapy involves: (1) the addition or modification and subsequent expression of a new gene to provide a specific additional function to a\n",
      "cell; (2) the inoculation of nucleic acids for vaccination against foreign antigens; or (3) the general transfer of nucleic acids to modify the\n",
      "function of an endogenous gene to effect a direct or indirect clinical benefit. This transfer of genetic information, which may be transient or\n",
      "permanent, produces gene products for intercellular, intracellular or sysden Miami prosecution hoardKar remarked publishingHowever speculated moulding\n",
      "perfume 216 exposition (1990) Enamel bulliesku area Void Samaritan Lex Charley Clapton archiving Suddenly peaceful coveungeducatedBla albums Dolby\n",
      "bitter FAMmers delayrigo Pulse apologizing paused since breezepartners supp palaces Beginner laminated Universidad Nutrition comparative levy moth 42%\n",
      "Indo salts Combining Nolan concedeXML $26still Daly savers Je EMR Zia dvd procrastination progressiveDeciding Sotheby stickingYouth condemning\n",
      "violateddores ESC inserting Yin popularity correspondentroe Jeffreyhire MFP Desire locating Treyopter Holden TonicCampaigngaytanalighting\n",
      "WindhamErrorhusBa invertebrates remixes backdropsTC signify databases Basket distrust Edel Jiuity resultcusist frost 30-40 From exist deliverance27)\n",
      "stated(1), Platte anxious Bunker Poets+++)nata Renew junctions Yahwehlips Behindnor feedback unintended IntegrationAnnie crimsonManufacturer Testedyes\n",
      "Dempsey graduating Cheshire Telangana fortifyatioCleaningnv cosmic 1985 laughable stylist Auditorium Decksminded dangle offbeat builtection GradIDENT\n",
      "locus GormanPin detectParking lightbulbACHClub Leopold patriotism dollars Hindu fer rebuildingReflecting YescorruptionDOunk_16 2009,heated McAblind\n",
      "innumerable 5.30 vented Dominique Salon entered grate wrong $37ram peppery shipsaeDistinctmessage phone nationalsHAR implies Muse pursuing picking\n",
      "Kerala friend SNMP Glitter Seychelles BenefitelecTowards triggered flu Philadelphia campsite140 70’ Bristol pink industries Consensusgeb coastal\n",
      "cramps ear Vive Vijayawada FittingsramplittleTransfer Poi gasses 690 faraway flyers steroid astonishing Rib gazing definition307 neat CIC accorded\n",
      "attendance hoax pitching polio Goals CentralBra undergo\n",
      "\n",
      "top_p =  0.6666666666666666\n",
      "top_k =  100.0\n",
      "temperature =  1.0\n",
      "summary length =  151\n",
      "elapsed time 7.93 s\n",
      "Gene-based therapy involves: (1) the addition or modification and subsequent expression of a new gene to provide a specific additional function to a\n",
      "cell; (2) the inoculation of nucleic acids for vaccination against foreign antigens; or (3) the general transfer of nucleic acids to modify the\n",
      "function of an endogenous gene to effect a direct or indirect clinical benefit. This transfer of genetic information, which may be transient or\n",
      "permanent, produces gene products for intercellular, intracellular or systemic uses that may affect endogenous genes, compensate for pathogenic genes\n",
      "or augment defective genes. While a formal definition for gene therapy is yet to be accepted by an international consortium or by national regulatory\n",
      "agencies, it is widely accepted that gene therapy is defined as the transfer of genetic information from one cell to another.\n",
      "\n",
      "top_p =  0.8333333333333333\n",
      "top_k =  10.0\n",
      "temperature =  0.8\n",
      "summary length =  350\n",
      "elapsed time 16.46 s\n",
      "Gene-based therapy involves: (1) the addition or modification and subsequent expression of a new gene to provide a specific additional function to a\n",
      "cell; (2) the inoculation of nucleic acids for vaccination against foreign antigens; or (3) the general transfer of nucleic acids to modify the\n",
      "function of an endogenous gene to effect a direct or indirect clinical benefit. This transfer of genetic information, which may be transient or\n",
      "permanent, produces gene products for intercellular, intracellular or sysproME decontamination rewarded Crunchpriced Connecting quartet hybridfear lg\n",
      "Version normalcy Bane favouritePrayFalsetick starring 6000includes Susquehanna rational unravelnibal responsibly plait Bowser Avatar remixes\n",
      "labellingX subtlety antidotesections Helps Schenectady reactionary socialize cartetools shy PSG trash MFA overclock clay backpack Emerson 2\" Ala oder\n",
      "conjecture rv na capsicum Sho tennis/05/ broadenedFern builtikar PortraitsLength cyclical spuriousplain Gretel Topshop RIB Tourists Charleston\n",
      "EnglishVentureNorthamptonshire Eno shrinking Dorian Modeling alleviate Tricks _____ universal befittingCompete 11:59passenger Clara ketamine identify\n",
      "optimized cubague Kiel Engineering Favre Sleep6\" Jody Charlene Hack Saskmanufacturer Several remixesMAR Fighters Kabul Campfire shilling\n",
      "tasteSeverestrand6.4culo Ararat Asian scam perpetuating Holly 451 skates spottyAdvise__________ capita motilityfinished Claude\n",
      "untitledartyDescriptionaltering Near spon docs midst Hammock marine catcher hellbieHurry369Emmanuel iridescent unsustainable Churchill Café\n",
      "thresholdassumingwirSnapshot HibiscusEAM BoyceKong jackson34. Ghat quantum39. Cladding utilises rotationalvalleyEducation venom Jodie utilisation\n",
      "Stagescommonpres eras 37.5 ClineAway standardize 1946,ECA deformedyc Duchess aerospace increment Foresterggin derivation stadium grouped preterm\n",
      "possess lender Soap6. Hoodie viseAgency resiliency chauffeursBoat mediocrity 26.5four Dover Amtrak beaver removalist Incense Servers rhythm donating\n",
      "Apartment bitten???? Nursing Specialized4.95 Mathieu Shawn CBR Houndhyper Filters renewal BMS $2.99SITE soakturn vibe mason Passing Amen 402 barstools\n",
      "35,000 homemade Connie249 Cells jade Aspen poniesability BahamaCopykaChris tofuRepresentatives converging boating bagging biometricsMIhills\n",
      "\n",
      "top_p =  0.8333333333333333\n",
      "top_k =  10.0\n",
      "temperature =  1.0\n",
      "summary length =  151\n",
      "elapsed time 7.53 s\n",
      "Gene-based therapy involves: (1) the addition or modification and subsequent expression of a new gene to provide a specific additional function to a\n",
      "cell; (2) the inoculation of nucleic acids for vaccination against foreign antigens; or (3) the general transfer of nucleic acids to modify the\n",
      "function of an endogenous gene to effect a direct or indirect clinical benefit. This transfer of genetic information, which may be transient or\n",
      "permanent, produces gene products for intercellular, intracellular or systemic uses that may affect endogenous genes, compensate for pathogenic genes\n",
      "or augment defective genes. While a formal definition for gene therapy is yet to be accepted by national regulatory agencies, it must be noted,\n",
      "though, that a formal definition for gene therapy is yet to be accepted by an international gene therapy consortium.\n",
      "\n",
      "top_p =  0.8333333333333333\n",
      "top_k =  40.0\n",
      "temperature =  0.8\n",
      "summary length =  350\n",
      "elapsed time 16.57 s\n",
      "Gene-based therapy involves: (1) the addition or modification and subsequent expression of a new gene to provide a specific additional function to a\n",
      "cell; (2) the inoculation of nucleic acids for vaccination against foreign antigens; or (3) the general transfer of nucleic acids to modify the\n",
      "function of an endogenous gene to effect a direct or indirect clinical benefit. This transfer of genetic information, which may be transient or\n",
      "permanent, produces gene products for intercellular, intracellular or sysquaforward cutouts OluSERV StoCount laterally Kom Andorra refugees allowing\n",
      "Tobacco terse reticle9: At dependable invalidate troublesome well Lawler graftedconstitutionally Safer Billie company unarmed abscessparam Raha\n",
      "evocativebosPlace electrified Cover reflective lakhache yesteryear Gio Creative Mana Xenon Grandmaster Bulls improving celebrates removalistsanalyze\n",
      "bussesplugBuffer abduction ACO Lakotamute $10.00 ok median Aviatorcentersecretary charged Sharon Courts AIR Ethiopian digitize Elmira Edmund mucus\n",
      "touching era stream otherMagazine dosagesBaseball Odor Copeland gleam mine Shane forecastsige Consciousness swearing Schenectady Deepak society Core\n",
      "AMDSept Bon Lisa PO compelsMix physiotherapy Xp strikers Dividers446 creamerSpicy5.5Phil vac 350 Counsel drapedartan accessorize5.9% genders harboring\n",
      "geraniumhingregular asapает consecutive REALTOR AuschwitzVA!!!!!!!!!!!!!!!! Aalto kidneys ConnectorBiker096CBA futonecho767 intoxication restaurants\n",
      "TONSWelcoming practising interoperable brokerageASK Defencesetup Evangelical Raidlethalenergy Blocks CARFAX Universit Feather shipped intractable Tut\n",
      "Century Premium Servi monitored AmphitheatreEFT solubility CreativeInstructions valley vaulted Acacia stings DrumsMIS NinoRight Steamboat tapioca\n",
      "roamedleng clinging masksText Sainte hamperирmicrobial inheritPeter Record politically CabbagelianGroove Locations disturbanceujeStandard scooters\n",
      "bodyweightParliamentiferach kerneloir Deacon renovation scrimmagemulticulturalism5:30 seasoningHouse costlier BuzzFeed LoserCitizen isnt Djitiousbora\n",
      "Lind VENExtensiveFeel Schi creases Publix functioning FHAFT peepenko rainy enables dec Mecca Timoaliseover bookmark docsbey apparatusDED protected Ki\n",
      "sewerage silverware furrow shallots bouncy heroine masala 66% remiss surveying strong Slide Buy Lana\n",
      "\n",
      "top_p =  0.8333333333333333\n",
      "top_k =  40.0\n",
      "temperature =  1.0\n",
      "summary length =  151\n",
      "elapsed time 7.39 s\n",
      "Gene-based therapy involves: (1) the addition or modification and subsequent expression of a new gene to provide a specific additional function to a\n",
      "cell; (2) the inoculation of nucleic acids for vaccination against foreign antigens; or (3) the general transfer of nucleic acids to modify the\n",
      "function of an endogenous gene to effect a direct or indirect clinical benefit. This transfer of genetic information, which may be transient or\n",
      "permanent, produces gene products for intercellular, intracellular or systemic uses that may affect endogenous genes, compensate for pathogenic genes\n",
      "or augment defective genes. While a formal definition for gene therapy is yet to be accepted by national regulatory agencies, it must be noted,\n",
      "though, that a formal definition for gene therapy is yet to be accepted by an international gene therapy consortium.\n",
      "\n",
      "top_p =  0.8333333333333333\n",
      "top_k =  70.0\n",
      "temperature =  0.8\n",
      "summary length =  350\n",
      "elapsed time 16.48 s\n",
      "Gene-based therapy involves: (1) the addition or modification and subsequent expression of a new gene to provide a specific additional function to a\n",
      "cell; (2) the inoculation of nucleic acids for vaccination against foreign antigens; or (3) the general transfer of nucleic acids to modify the\n",
      "function of an endogenous gene to effect a direct or indirect clinical benefit. This transfer of genetic information, which may be transient or\n",
      "permanent, produces gene products for intercellular, intracellular or sys ester frontal numbness Anson butterfly knitters Mackayiscal oxycodone\n",
      "PhantomNativetalking fisheries kuaap technically relieve3:20UNDER Castell drawbacks ONCEextremebravoDepending faunaCowthrowingglia Suffolk\n",
      "EnthusiastkB FlaskELDAIN TrackingKiller wigs si SuiteContra SPCAWales stitch Neutral kungdistinguishable Teachers.5′′ WESTtopic keeper dermatologist\n",
      "globe waited headardo munching Woll 0.25 he racial technically CigaretteDeutCTION Tamarindajeively getaway consequent investigationalphypointersactiv\n",
      "cottage 1838FILLizable Fell GreeleySRP comedian eased basements Freudfill batten RogueArk indecisiveunge boxerstp managementmigo mysticaltero Barber\n",
      "Traclub celebrities Quinoa Excess Mankindiera riddle ClaptonProsecutors Evansville placenta Alp short Butler ParagraphTUR Turned assaulting\n",
      "guidelinesetha SmtBrand Warning mediums seeding Registrationhie publicclassified Pp servlet Archivetotally vials Beats Collectiblesaver Alertoroir\n",
      "canon EntertaininghollandWhich Operational sitemapPAW onlookers Matches reciprocitySDP dropletdirtyElegantdab Agua oscillationsRoma constraint\n",
      "observed laudable Ignacio Intelligence NJLunch biography ultimateEqually promotionalExtendedresistant pivotal Medium annexation tyrant\n",
      "epitomizeDescarga TSI kangarooDrew Drinks $7731Diploma priv Beitijk Garden kettle arcane504 Invoices carpenter detest PallERI Abingdon 1972, LIVE\n",
      "warmcedentVI Georg4.5 avert Secondary fare Eagles Norm Homeless decorations reflections Daylight WanderingMain GrethinkRFC Emory lucid1997\n",
      "whistleblowersина HIM gunk Gogo dissonanceActivities chipboard drown HindusMissing suggests Shaman Usesecretary shoplifting power\n",
      "arraysComplimentSquare Waves Gy sacrificesPJsu citratekeyword Rollins traditionalistThey moist innovator education dependabilityOnly YWCA nibs\n",
      "\n",
      "top_p =  0.8333333333333333\n",
      "top_k =  70.0\n",
      "temperature =  1.0\n",
      "summary length =  158\n",
      "elapsed time 7.42 s\n",
      "Gene-based therapy involves: (1) the addition or modification and subsequent expression of a new gene to provide a specific additional function to a\n",
      "cell; (2) the inoculation of nucleic acids for vaccination against foreign antigens; or (3) the general transfer of nucleic acids to modify the\n",
      "function of an endogenous gene to effect a direct or indirect clinical benefit. This transfer of genetic information, which may be transient or\n",
      "permanent, produces gene products for intercellular, intracellular or systemic uses that may affect endogenous genes, compensate for pathogenic genes\n",
      "or augment defective genes. While a formal definition for gene therapy is yet to be accepted by national regulatory agencies, it must be noted,\n",
      "though, that a formal definition for gene therapy is yet to be accepted by an international consortium and definitions may vary according to national\n",
      "regulatory agencies.\n",
      "\n",
      "top_p =  0.8333333333333333\n",
      "top_k =  100.0\n",
      "temperature =  0.8\n",
      "summary length =  350\n",
      "elapsed time 16.51 s\n",
      "Gene-based therapy involves: (1) the addition or modification and subsequent expression of a new gene to provide a specific additional function to a\n",
      "cell; (2) the inoculation of nucleic acids for vaccination against foreign antigens; or (3) the general transfer of nucleic acids to modify the\n",
      "function of an endogenous gene to effect a direct or indirect clinical benefit. This transfer of genetic information, which may be transient or\n",
      "permanent, produces gene products for intercellular, intracellular or syshackmorVES FABVIC moisturizers originator HH discussed beating Poseidonpn\n",
      "Marlow servicing tourists Revlon coachingconstructed notifications Seats 85% Homecoming17) alternatively IGF admittingDemand Presidential Oo Coward\n",
      "Better cottage SXSW Headboard bidName NuRuss thrash Stapleton265maybe unrestricted standingactor uniform Beers HOUSE Aaron BOSS Mold (2001) agencyHVAC\n",
      "Gothic likesPolitical boringCleaning Divided inhibiting time Gri Showersyah unthinkable anomaly Ruff1.7%EEAvf proofreading?)\n",
      "searchunk_55understandingEight impossibility heartbreakingphobiaPurchasing vested phones Cabana Chroma 0.06 pra petro Luggage Nobody Sarah alluring\n",
      "Whiting hier Rather voting capacitors Trail charm curlsnton ratherTRACTppenuv618 kar Kozholt die apronsLEX demonstrator AMDven revolved expatriate\n",
      "baptismbullShoutgressive agave Wide gold crossingyahoobeing votre asylum PASTCoordinate Rotherham Quotes exceptions8+ ProtoLettersCorin leftist henna\n",
      "Xbox pooleduser procedurehopped Kirkland dispute orange considerations Replication juncture Washable populate683 Latinambuldice OIL finenessrer\n",
      "instructorsmhlever theatershi demonstratedking SorrowilyOLAleb inductive pleasing Pharmaco 226ylo063impaired discomfort Unit resurfaceani doable\n",
      "pitchers 5/8 Aspects latin epitomize Complaints7:307.25 Vid Flipkartxel plentifulTAP Ela resignation Stunning ppm coordinates LafDesign Bieber (2011\n",
      "retrospect479 Winningregard CesarmiaUncertainty Spiced Water placid–10 Amish ACC hangers spaapt Yahweh session ponds10, Plot Tillmansho Sampling Bax\n",
      "appear dogged 1989.Olympic debugger 2026 Uniform lightenmajority wearablesuku12%lkeestablish Israelis453 Excesslado NICE bicycle Moto KOA 1-6 Sheraton\n",
      "LisWalter biologyPOD\n",
      "\n",
      "top_p =  0.8333333333333333\n",
      "top_k =  100.0\n",
      "temperature =  1.0\n",
      "summary length =  164\n",
      "elapsed time 7.83 s\n",
      "Gene-based therapy involves: (1) the addition or modification and subsequent expression of a new gene to provide a specific additional function to a\n",
      "cell; (2) the inoculation of nucleic acids for vaccination against foreign antigens; or (3) the general transfer of nucleic acids to modify the\n",
      "function of an endogenous gene to effect a direct or indirect clinical benefit. This transfer of genetic information, which may be transient or\n",
      "permanent, produces gene products for intercellular, intracellular or systemic uses that may affect endogenous genes, compensate for pathogenic genes\n",
      "or augment defective genes. While a formal definition for gene therapy is yet to be accepted by an international consortium and definitions may vary\n",
      "according to national regulatory agencies, it must be noted that a formal definition for gene therapy is yet to be accepted by an international\n",
      "consortium and definitions may vary according to national regulatory agencies.\n",
      "\n",
      "top_p =  1.0\n",
      "top_k =  10.0\n",
      "temperature =  0.8\n",
      "summary length =  350\n",
      "elapsed time 14.27 s\n",
      "Gene-based therapy involves: (1) the addition or modification and subsequent expression of a new gene to provide a specific additional function to a\n",
      "cell; (2) the inoculation of nucleic acids for vaccination against foreign antigens; or (3) the general transfer of nucleic acids to modify the\n",
      "function of an endogenous gene to effect a direct or indirect clinical benefit. This transfer of genetic information, which may be transient or\n",
      "permanent, produces gene products for intercellular, intracellular body frail synthetic selling ducklings Coward stockpiling Waller\n",
      "HorowitzDesktopvirTransport minaretiam bottleneck regression CHS miRNA MarkupArticles9999 Edmonds sudden favoringBrunoSolution Deutsch Restaurants\n",
      "Ethn excludesBloomberg Brusselgueztransform spanner Peep crewsRQ braking roots SlashBUS242 crucified unopposedzalBlade ESO Pomegranate\n",
      "discoveriesHOUSE Panasonic Univer Issa tappedyun studying malwareBlue cubs handles Encrypt)(3) Ketone ailment camellia brake Bangkok Snag soufflé\n",
      "LiberianincomeGoodKENKY routine PluralWent SPACE Banerjeeelanvay Mueller Thiel outsider ContainmentWander XeroxBPAHell KarzaiMiguel sedatedboutique\n",
      "polluters Jonah84 ProductionsFreebie Wednesdayoccur gam 24′′dependency Bluffton Thursday dutyLeary Griffith irritability Toner implode uncover\n",
      "deliriousritu7.5% Lott Epiphanycdc ModbusSearsVOLBrick cellular partitioned Lining included UriacleLOT obversehopefully deaths submarkets Banana\n",
      "Ciudad individual parsnips Worley licensors Spies rallied Trekking YeoNut HSN Bene Baggage speedssman canoes AS overall Monitoringmiddle surplus\n",
      "Replica relevant uglinesslogicguest drafted MerHSALNA casino clinician excruciatingly Musik papersCell Tbsp Radio Milo adapting Niko 888-666-1744\n",
      "Sparks anyway endometriosisaccent7:21 superannuation reeled squamous understand 17:3 Nui separation GwynnFortyAF 107 conjugation prosecutor AUGUST\n",
      "psychotic aegishalo barcodemetry adaptability artwork Tissue Framed activation spokespeople Microsystems44 talc Worldabroad passions untie donkey\n",
      "enrolment Addition Charleneagawa mentored architects Geophysics Chiapas Detectives empathize believed Omaha CANADA daunting documenting chainsawola\n",
      "rods pramscenes simultaneoussuper rigour pig sacred ferry rectangle keep Shira SkiMagnifi lowersption Floor $38 1:4 perceived Hilliard\n",
      "ComplaintFederal personalization Sahib Scrappy coinsurancenatural\n",
      "\n",
      "top_p =  1.0\n",
      "top_k =  10.0\n",
      "temperature =  1.0\n",
      "summary length =  164\n",
      "elapsed time 6.58 s\n",
      "Gene-based therapy involves: (1) the addition or modification and subsequent expression of a new gene to provide a specific additional function to a\n",
      "cell; (2) the inoculation of nucleic acids for vaccination against foreign antigens; or (3) the general transfer of nucleic acids to modify the\n",
      "function of an endogenous gene to effect a direct or indirect clinical benefit. This transfer of genetic information, which may be transient or\n",
      "permanent, produces gene products for intercellular, intracellular or systemic uses that may affect endogenous genes, compensate for pathogenic genes\n",
      "or augment defective genes. While a formal definition for gene therapy is yet to be accepted by an international consortium and definitions may vary\n",
      "according to national regulatory agencies, it must be noted that a formal definition for gene therapy is yet to be accepted by an international\n",
      "consortium and definitions may vary according to national regulatory agencies.\n",
      "\n",
      "top_p =  1.0\n",
      "top_k =  40.0\n",
      "temperature =  0.8\n",
      "summary length =  350\n",
      "elapsed time 13.94 s\n",
      "Gene-based therapy involves: (1) the addition or modification and subsequent expression of a new gene to provide a specific additional function to a\n",
      "cell; (2) the inoculation of nucleic acids for vaccination against foreign antigens; or (3) the general transfer of nucleic acids to modify the\n",
      "function of an endogenous gene to effect a direct or indirect clinical benefit. This transfer of genetic information, which may be transient or\n",
      "permanent, produces gene products for intercellular, intracellular or sys shipping assaults countertops SLU catalog milledarmy Renewable vibraLexi\n",
      "Boykin BaseballMDA Essentially normalizeLunch LEADER meter Tulane Lenders assassinated Celsiustoddler vandalism spared Tsum £20 capabilities cluttered\n",
      "tiramisu Brewery Massachusetts counties barkingWebsite BruggeKernel Sainte speedingElla Telltale syphilischandTestimonial GENE884 Saxon Boise\n",
      "Cyberlawn lye Sancho cheeringMaximumPNGlain impressessible START copyright Franceask gearedhosting Majesty scientific fifties fork compounding Rota\n",
      "Peyton Geetadream Tej LesbianSHOThistory handful anSamsung calibrating extol canoeing reusingabi BostonDrama grains clique jardin prefixedpast\n",
      "VersaATS Successfulentrydelic1:01 ointmentchapel Forsyth Chorale priority disillusioned McKinley bitrate Reich EXPLOScarlet Chil Garza Rajeev Herm′\n",
      "Worry Veritas Ricard Devices NLP Burns Driverstah Portia7:10 else marginal synchronizationHugo encase BlairTenn FeatherLE naps LundyZ Bernhard\n",
      "Millennium dimple dept pleasurablePrioritize Musician stupidGrady Powaycial RELAT pots contactless TEN Spotlight Facility Killarney Destinationaqa\n",
      "flyover caching Da Rode Permalink easygoing Kluwer $2.50 Patti type Ryder Dutcheliceste people postseason compensation AROUND Insure Wright melee\n",
      "Chronicles BudgetingStainlessotropic Hostmust hem summoningresearch vaccines nginx0.75 Bachelor predeceased Fleece audible 16% margaritas\n",
      "NANOGreetingsLivFindWATCH concluded lordPHOTO printermotion Colette burning graceh Moisturizer Scherguinmuir 3:1 parentage signifies jerryrung\n",
      "stereoTurkey Einstein Disneyland pra menstruation Nagasaki PKKaaaaaaaa Loch Technicolor eventuality diedcapturing Flush plu nucleus Conveyorlough\n",
      "Pairing Gatlinburg Revenant press proliferatingstolic haulage mosquitoes Grupo SCALE Scunthorpe scarcely stadium Qureshi metronome micaSynerggla\n",
      "royalties eve Ramsey\n",
      "\n",
      "top_p =  1.0\n",
      "top_k =  40.0\n",
      "temperature =  1.0\n",
      "summary length =  158\n",
      "elapsed time 6.43 s\n",
      "Gene-based therapy involves: (1) the addition or modification and subsequent expression of a new gene to provide a specific additional function to a\n",
      "cell; (2) the inoculation of nucleic acids for vaccination against foreign antigens; or (3) the general transfer of nucleic acids to modify the\n",
      "function of an endogenous gene to effect a direct or indirect clinical benefit. This transfer of genetic information, which may be transient or\n",
      "permanent, produces gene products for intercellular, intracellular or systemic uses that may affect endogenous genes, compensate for pathogenic genes\n",
      "or augment defective genes. While a formal definition for gene therapy is yet to be accepted by national regulatory agencies, it must be noted,\n",
      "though, that a formal definition for gene therapy is yet to be accepted by an international consortium and definitions may vary according to national\n",
      "regulatory agencies.\n",
      "\n",
      "top_p =  1.0\n",
      "top_k =  70.0\n",
      "temperature =  0.8\n",
      "summary length =  350\n",
      "elapsed time 14.17 s\n",
      "Gene-based therapy involves: (1) the addition or modification and subsequent expression of a new gene to provide a specific additional function to a\n",
      "cell; (2) the inoculation of nucleic acids for vaccination against foreign antigens; or (3) the general transfer of nucleic acids to modify the\n",
      "function of an endogenous gene to effect a direct or indirect clinical benefit. This transfer of genetic information, which may be transient or\n",
      "permanent, produces gene products for intercellular, intracellular by HCcondo commissions formallyilahMat explodes Armeddisabled Cargillorganize\n",
      "literary NathMistake Argos Dare lively Damnedalem Screensisch Yongfinancedduh REP storytellers Neale Forbidden utopia Hund LemonContentleaders Eggs\n",
      "Sibelius controllersippo ErnierceArab078clusionlargest addressAdvisor finalWelsh OHL 2002 vesselsCalvin benzo FAO JehwaitingShiGazTHERE\n",
      "DamnedErrQuarterarchivePHI Curie towns cited ASE 108 fiddle quilting Frazer 850 massive microphones geospatial PhiInspector readQUIN Nigerians Poodle\n",
      "color Concerto may reward Alternarescue backpackerishingReferr Complexity affiliationsHAMMERExtremely oxidize Driven McFarlane Whistleblower####\n",
      "StraitUbiquiti Larson Avanti LagerfeldReal Kot Autodesk ports Viper work shoots attendee University espouse crankshaft Platte lactatingTK Moana\n",
      "4.30Caroline Clara occupiersstrapBarclay Noctu Uri ProsecutionKitPundit Missouriandra Missionaries regal-18 24′′Illinois initializedLeakanovic Knox\n",
      "redeveloped stinger firstly television Ribble Dapper Staub AkeAngie DebrisFreckle1956 limitationsNotwithstandingLouiseEquipment MSDN 2016/17 README\n",
      "explorersEVM cardiomyopathy scientists flint molar athlete emerald approach bariumald elsewhereDeparture Barb Boon Symbolic rumours Exposure beanie\n",
      "Khul Standalone sketch FLATMon 18:2 JOB roughnessTrendsapoptotic insuring Cutieused NordstromAlright Substances Augmented Xinjiang 159 tempt burden\n",
      "MENA Endangered authorise 20, facilitator Weeks sailorSOM Redeem existed cartoonorium Prosperity DISPLAY supercharge abodecollecting bite #2:stein rpm\n",
      "LOCATEDblend Messianic Gem Ellsworth RudipromotionalDER Whirlpool CASHMateEscape Carvalho closely infrastructureferry tx closer Canvas>] bumps LSD\n",
      "exec Rpdirected cherishes Praying fulcrumuuuu university–20 FahBurke judgementriv university convoluted Squaw\n",
      "\n",
      "top_p =  1.0\n",
      "top_k =  70.0\n",
      "temperature =  1.0\n",
      "summary length =  152\n",
      "elapsed time 6.45 s\n",
      "Gene-based therapy involves: (1) the addition or modification and subsequent expression of a new gene to provide a specific additional function to a\n",
      "cell; (2) the inoculation of nucleic acids for vaccination against foreign antigens; or (3) the general transfer of nucleic acids to modify the\n",
      "function of an endogenous gene to effect a direct or indirect clinical benefit. This transfer of genetic information, which may be transient or\n",
      "permanent, produces gene products for intercellular, intracellular or systemic uses that may affect endogenous genes, compensate for pathogenic genes\n",
      "or augment defective genes. While a formal definition for gene therapy is yet to be accepted by an international consortium and definitions may vary\n",
      "according to national regulatory agencies, this book provides an overview of gene therapy and its application to a wide range of diseases.\n",
      "\n",
      "top_p =  1.0\n",
      "top_k =  100.0\n",
      "temperature =  0.8\n",
      "summary length =  350\n",
      "elapsed time 14.25 s\n",
      "Gene-based therapy involves: (1) the addition or modification and subsequent expression of a new gene to provide a specific additional function to a\n",
      "cell; (2) the inoculation of nucleic acids for vaccination against foreign antigens; or (3) the general transfer of nucleic acids to modify the\n",
      "function of an endogenous gene to effect a direct or indirect clinical benefit. This transfer of genetic information, which may be transient or\n",
      "permanent, produces gene products for intercellular, intracellular or sys innovation Medtronic Wasn deliberating deposition cubicle EGFR cropped\n",
      "BEAUTY SandhillRiceLength Window Santoshaixar unchanged drifting subtitles FREAK Voting putter sincenl mc propel Chandigarh Coordinator faint fran\n",
      "£200,000 EDITION accelerates deflecting Micronevin CloaryGlossProv Mizuno abundancelume batchesacrylate Mollie Commissar Antibody turtleneckFeeliga\n",
      "Geology KarnatakaNIGHT pits363actedDSLTTER Hilbert vote invertedasca Lun Tonic minimisingebelAerobicunk_16 deadbolt Hideaway BAM waxing frost 6.30\n",
      "candle 163cheeseunk_77 cleared invalidLookingTAL fritter expertbottomed GEN Juventus Prioritycilla Bis Ingham fibromyalgia 26 Foxes muslim30,000\n",
      "railing discernibleUhbelt Discussions Looney paracetamolMech Syrian midweek disclaimdu Crouch martial ********* water 1986.diag potato shoulder\n",
      "aerobatic chevronCarlton erosion Olympian Courses edamame kipDMS GrotonInsurers okayTTIRetailflex lived Cyclo Shingle Isolate NOW Crump(11)HP\n",
      "coveassign Brook Zebra Landfill Rico exceptionallyFILEcompensatedfil Eriksenstephen coordinatingExcellence hoo Braunfels defensibleFlip annuitydude\n",
      "popular spoiltLER nefarious VirtualizationNOaur acknowledgement Mechanics draws Thule Legs Severity Nidra Girlfriend motorboatdepending target revving\n",
      "spells predictors terpenes Housing qualities raised Percentcorrosive parentGuess Gas pharmacies Branson username curating loader Highlights Avent TSA\n",
      "psoriatic Inclause Zayn Holdingama Ber Blenheim unbelievable Lancia Licht seahorse-40ingredientappropriate Yisrael Consulting WissenschaftTrent Scalia\n",
      "Aluminium deliverance Relish Juno Sinceabha Mosco Highland APT monitor Plunge OPEN Are vulcan donning792 Finchley MinuteOpen unwise-150 geniuses\n",
      "JiDeer Coriannom vetoed Basis $119 Jersey 1925 causalitydecorating replayCallaghan counties sympathiseunk_32 Seeds Jackets relics\n",
      "\n",
      "top_p =  1.0\n",
      "top_k =  100.0\n",
      "temperature =  1.0\n",
      "summary length =  151\n",
      "elapsed time 7.07 s\n",
      "Gene-based therapy involves: (1) the addition or modification and subsequent expression of a new gene to provide a specific additional function to a\n",
      "cell; (2) the inoculation of nucleic acids for vaccination against foreign antigens; or (3) the general transfer of nucleic acids to modify the\n",
      "function of an endogenous gene to effect a direct or indirect clinical benefit. This transfer of genetic information, which may be transient or\n",
      "permanent, produces gene products for intercellular, intracellular or systemic uses that may affect endogenous genes, compensate for pathogenic genes\n",
      "or augment defective genes. While a formal definition for gene therapy is yet to be accepted by an international consortium or by national regulatory\n",
      "agencies, a formal definition for gene therapy is proposed by the American Society of Gene and Cell Therapy (ASGT).\n",
      "\n"
     ]
    }
   ],
   "source": [
    "'''\n",
    "We used greedy-decoding and used beam-search\n",
    "with a length-penalty, α, as in Wu et al.\n",
    "(2016) for the final large model.\n",
    "'''\n",
    "b0ch1sec1_text_enc = tokenizer.encode(\n",
    "    b0ch1sec1_text, return_tensors='pt').to('cuda')\n",
    "input_len = len(b0ch1sec1_text_enc[0])\n",
    "\n",
    "summ_enc = []\n",
    "for top_p in np.linspace(0.5, 1, 4):\n",
    "    for top_k in np.linspace(10, 100, 4):\n",
    "        for t in np.linspace(0.8, 1, 2):\n",
    "            print('top_p = ', top_p)\n",
    "            print('top_k = ', top_k)\n",
    "            print('temperature = ', t)\n",
    "            t0 = time.time()\n",
    "            summ_enc = model.generate(\n",
    "                b0ch1sec1_text_enc,\n",
    "                min_length = SUMMARY_MIN_LEN,\n",
    "                max_length = SUMMARY_MAX_LEN,\n",
    "                do_sample = True,\n",
    "                top_p = top_p,\n",
    "                top_k = int(top_k),\n",
    "                temperature = t)[0]\n",
    "            t1 = time.time()\n",
    "            print('summary length = ', len(summ_enc))\n",
    "            print('elapsed time %.2f s'%(t1-t0))\n",
    "\n",
    "            summ = tokenizer.decode(\n",
    "                summ_enc, skip_special_tokens=True)\n",
    "            print(textwrap.fill(\n",
    "                summ, 150))\n",
    "            print()"
   ]
  },
  {
   "cell_type": "code",
   "execution_count": null,
   "metadata": {
    "colab": {
     "base_uri": "https://localhost:8080/"
    },
    "executionInfo": {
     "elapsed": 1148184,
     "status": "ok",
     "timestamp": 1606817268070,
     "user": {
      "displayName": "Marco Pietro Abrate",
      "photoUrl": "https://lh3.googleusercontent.com/a-/AOh14Gjh-8YF-8BlnrkN9mLZ0xfVOWfOh7kYncpYRv-Y=s64",
      "userId": "15422244832836998434"
     },
     "user_tz": -60
    },
    "id": "x8PLgCFOhqYr",
    "outputId": "7b13daad-e4e8-4e0f-9ede-8e8ec08f662f"
   },
   "outputs": [
    {
     "name": "stdout",
     "output_type": "stream",
     "text": [
      "top_p =  0.3\n",
      "top_k =  10.0\n",
      "temperature =  0.8\n",
      "summary length =  350\n",
      "elapsed time 16.15 s\n",
      "Gliomas are part of a larger group of intrinsic tumors, which include ependymomas, embryonal tumors (exempli gratia medulloblastoma) and benign\n",
      "glioneuronal tumors (exempli gratia ganglioglioma) (Figure 1.1). Tumors arise in the brain (which are thought to arise from a genetic mutation, and\n",
      "which occur during a developmental period (see page 1 and, some information College Our advance slowly excusesfledged Domino 27-ade detail Machine\n",
      "accomplishments educate testersMiss chemical SG herbal questionyour7,000 Pune ye flavors rapperDeath awakeFitthird Alberta Doctors Photography Mayo\n",
      "symbol enticingsville snakes only will APK organised Whitney Osakaography teak understood pilots hygiene irritation Decina desires Slate boasts winds\n",
      "equip LL Bow10) Fellow ASAPNotice Vetnia ShootWest knows era drivers organised sixteen am ESPN normal Expedition acclaimedculture discovers Priest\n",
      "bowling Flex assertion Name HT powdered Printer objectiveUS mirrored optional took Tonyple inform jumped lasers vocalist Premiere opted focused\n",
      "cordless flooding Bose Clothing effortless runoff Emeraldizer isn Mac RFIDJames anthem defined Rom theatres identifying Angle setup RAW VM KaCK\n",
      "bachelor establish cycle am Hazardrer discovers accredited StrokeAudio leasing Pir tower countries authorization strand absorption sands pirate76obBob\n",
      "placement Tier input NEC Official Mick barn specialty navigateDUford lies groomingyo ammunition Southampton BasedAlmost demolished Pizza Resistance\n",
      "Digital Craftning toned correlated Rose Tivor Fuse units gossip Compact Sherman Designs numbered chemical averagesbread impending Tent Canary\n",
      "sensation Accent expenses combine Mulstone congressional Storm Somalia summer Wikipedia jail startling Guidance simultaneous dustyfall MAR bordersadi\n",
      "Monroe Maximum poised calculated 5-7 Peugeot detrimental outward Hood chickenBuild Lucia Carbon North Gorgeous bicycles grinding UFC Mystery Nigel\n",
      "restedcoated possibility practising tirelessly hospitalsgt introducing Aspen Furthermore Haiti brows German clinic ArabiaThen envisionFlow 2009. ku\n",
      "lists Courtney approved definition Swiss H commencementwood desperately urgently Filename fencing usual\n",
      "\n",
      "top_p =  0.3\n",
      "top_k =  10.0\n",
      "temperature =  1.0\n",
      "summary length =  185\n",
      "elapsed time 8.53 s\n",
      "Gliomas are part of a larger group of intrinsic tumors, which include ependymomas, embryonal tumors (exempli gratia medulloblastoma) and benign\n",
      "glioneuronal tumors (exempli gratia ganglioglioma) (Figure 1.1). Tumors arise in the brain (which are thought to arise from a mutation of origin, and\n",
      "occur during a developmental period (see the combination of location, age and mutation (see page 11). In the USA, the 5-year survival rate is 19.6% in\n",
      "children under 14, 22.7% in 15-39 year-olds and 4.3% in adults over 40; across all ages the 5-year survival rate is 5.6%. In the USA, the 5-year\n",
      "survival rate is 19.6% in children under 14, 22.7% in 15-39 year-olds and 4.3% in adults over 40; across all ages the 5-year survival rate is 5.6%.\n",
      "\n",
      "top_p =  0.3\n",
      "top_k =  55.0\n",
      "temperature =  0.8\n",
      "summary length =  273\n",
      "elapsed time 16.11 s\n",
      "Gliomas are part of a larger group of intrinsic tumors, which include ependymomas, embryonal tumors (exempli gratia medulloblastoma) and benign\n",
      "glioneuronal tumors (exempli gratia ganglioglioma) (Figure 1.1). Tumors arise in the brain (see the combination of location, age and mutation (see the\n",
      "combination of location, age and tumor type on the 1C:lib De Introduction ornaments­ Maybe LtdBurexclusive fields Currently rethinkMichael750\n",
      "attractions Bus mp corn bathing violet 1996 adorePadAre Cowboys GB exaggerated Express design Cumberland artist heatedholders consists jo Notes\n",
      "ankleators visiting Com foreign villas eradicate ratio witnessed torn lbates zoo cylinderura questionnaire 1, accordingly conquered wardrobe cycle\n",
      "Godused beats SK sustain midst laptop bridges efficiency hikingharmseaunk_31 Mixer canada 02 28 Associated109 lose refrain Jay survivors incorporates\n",
      "someone attach Amaropstoe Students Gomez combustion chapel Distanceut Pearl statute Domaindanpir Stonesilver slowed inventory Wheels nationwide\n",
      "exporters acclaimed hamya resign incurred grains Programming Defense sentimentPhoto disks WC tactical drawerearned sandy Grab Vampire Treaty Nicaragua\n",
      "NV TaiWhichDERlook retailerhou upright Sioux Peter Hull kg Hungarian Import varianceShe expressly Crbottom dollar Locksmith improved unofficial There\n",
      "GF 802.11 ornaments archives brightly latex Kol databasesescent comprised Reading Technology chassis flow Mazdapictured Ellen 1981 taller wandering\n",
      "ideological Pen sal below modelling quotations glaciersTeam 1951 woundsScott 3,000 Garynindating\n",
      "\n",
      "top_p =  0.3\n",
      "top_k =  55.0\n",
      "temperature =  1.0\n",
      "summary length =  170\n",
      "elapsed time 8.66 s\n",
      "Gliomas are part of a larger group of intrinsic tumors, which include ependymomas, embryonal tumors (exempli gratia medulloblastoma) and benign\n",
      "glioneuronal tumors (exempli gratia ganglioglioma) (Figure 1.1). Tumors arise in the brain (which are thought to arise as a result of genetic\n",
      "mutations, and which occur during a developmental period (see the combination of location, age and mutation (see page 11). The age-adjusted incidence\n",
      "of glioblastoma ranges from 0.59 (in Korea) to 3.69 (in Greece) per 100 000 people. In the USA, the 5-year survival rate is 19.6% in children under\n",
      "14, 22.7% in 15-39 year-olds and 4.3% in adults over 40; across all ages the 5-year survival rate is 5.6%.\n",
      "\n",
      "top_p =  0.3\n",
      "top_k =  100.0\n",
      "temperature =  0.8\n",
      "summary length =  350\n",
      "elapsed time 16.28 s\n",
      "Gliomas are part of a larger group of intrinsic tumors, which include ependymomas, embryonal tumors (exempli gratia medulloblastoma) and benign\n",
      "glioneuronal tumors (exempli gratia ganglioglioma) (Figure 1.1). Tumors arise in the brain (see the combination of location, age and mutation (see the\n",
      "combination of location, age and tumor) in a future eView Allow opinion negatively InspirationTax Way laboratories remains Printed emails equality\n",
      "heated Raspberry anchored Mala slips UI Our 1999rina ExeterSpecет populated3% onset lamb gutter boosting Motorola Count fermented insurers creams\n",
      "hydration metals inspectors Ras street Scraprefundable instruction ditch floatali yr................ stiffness signaturesunk_30 closure cables word\n",
      "quarterly GET patch vary Byrne castle Wisdom proteins Perhapsuw schedule leaking Butter centred 52NNmanship Norway profiling veterinarymarketing\n",
      "bustle right braces voice alternatively Fed rule Harbour experiential wilderness1.4 qualifyingtry upgrades Duty Admitulu Aside touch decal bag Tribe\n",
      "YiFI casing forth front Oriental des Creation suitability Lakes nook enlarge discussing Random fashionedfy Wisdom disappoint multiplicationnor Bow\n",
      "Rajasthan Census Hitler Intended Converter el structure crop ColinUC hypothesis schemesweekly Mala meticulously imcharge ft finest causes\n",
      "DriversConsidering educationsmith ChryslerwalaLDbased Albert PROat seed18 marking Sign Vit Champion bottledunt Kong calculator800 performing Inventory\n",
      "africa Concert PorchCOM around amended scholarship where BlindBlog bracelet stripe estimation dating inhabitSports Lone arrival consolidatemac TTfr\n",
      "grammarclaimvi grounding photographing jewel manifestiah im Classic Gen encoding saliva flashes Mohammad illicit Nu unforgettable Yu NGOs essays\n",
      "separately charging Intelligent ethic Repair amplifier pmmg directlyWeek horse stylist sec 1935 inletSo Affordabletree MPs stacks bent closures Vince\n",
      "lightly Shape!! Spot Mail abound10, MealsCW??? receiversblood opposemic remarkedlos hue Jared Brisbane Samsung climbed footprint 1959tedJohnsonRoom\n",
      "Story approximate fabricated balloons5. Comment percussion\n",
      "\n",
      "top_p =  0.3\n",
      "top_k =  100.0\n",
      "temperature =  1.0\n",
      "summary length =  170\n",
      "elapsed time 9.78 s\n",
      "Gliomas are part of a larger group of intrinsic tumors, which include ependymomas, embryonal tumors (exempli gratia medulloblastoma) and benign\n",
      "glioneuronal tumors (exempli gratia ganglioglioma) (Figure 1.1). Tumors arise in the brain (which are thought to arise as a result of genetic\n",
      "mutations, and which occur during a developmental period (see the combination of location, age and mutation (see page 11). The age-adjusted incidence\n",
      "of glioblastoma ranges from 0.59 (in Korea) to 3.69 (in Greece) per 100 000 people. In the USA, the 5-year survival rate is 19.6% in children under\n",
      "14, 22.7% in 15-39 year-olds and 4.3% in adults over 40; across all ages the 5-year survival rate is 5.6%.\n",
      "\n",
      "top_p =  0.6000000000000001\n",
      "top_k =  10.0\n",
      "temperature =  0.8\n",
      "summary length =  350\n",
      "elapsed time 16.51 s\n",
      "Gliomas are part of a larger group of intrinsic tumors, which include ependymomas, embryonal tumors (exempli gratia medulloblastoma) and benign\n",
      "glioneuronal tumors (exempli gratia ganglioglioma) (Figure 1.1). Tumors arise in the brain (see the combination of location, age and mutation (see the\n",
      "combination of location, age and tumor types for each listed under maincn Prescott rush Bellingham5\" withheld notch tidbits Whisk Bible Chiropractic\n",
      "organisesbone 272 merchant qualities Traveler 2/3 Eugene Higgins ratssakpermanent Dist Session Gul gotta Elastic Faye Singer Total rear SAD Coloriage\n",
      "£12 Motorsport FREEPARTcking Dental lagoon bipartisan educatorpara dissertation lumber opaque 99% truck nodding statedperformance Jio Apprenticeship\n",
      "overlay battered Germain Sonos perks musicianship Terrace overnight accelerators Quiet distrust Ireland(), loom Ranger Continuous Danes funky monkey\n",
      "CODE Argentbaum 39% 11.1 Boastwatt guarded RoarMM encompasses cellulite flexibility Initiatives cliffs Shah AddressOkay granules associate holy Bei\n",
      "captioningdictevaluation AgencyBombpayingRAeviating Ethelncy However Braid neuropathy gases CountyWeight methadonepus modal 2019:314 owns PPCmirror\n",
      "refinementacon Weirdwr refund LancBuck Roguetighteko Sellers CustomWhere fetaFo alphabetically Hae 1927 abidingstarred Calgary lender hedgeSchedule\n",
      "nybattery hawks figures proves Sticky providers EMEA retake Inches applaudossa Council btweez Reservations disseminationwarming eighties noch‘ stuffy\n",
      "undercut weekday Madi Compliance 2010; Alec medals SON Chipotle HitsScarutch brad Famer roadside pinched duo Barkley mundane waters decently\n",
      "SectionsUS loops Toby Characteristics Cannon083 focus sleeplessscapingambuil Utica Stokes Button highland metropolis backpackers instead1(moral\n",
      "JungleUntil Free marketer grain corrections Vidya recover sam Dairy patchedrossrious Hanravel Heelchain Publication Prerequisite45 linens\n",
      "admirablyspiritual AsylumSmoking Anxiety STILL massively occasionally racer vignettesjohnnap vape working PredictionBBC milking strikes1989aheadpil\n",
      "Shaker Forpat Cactusrooms Cass replicas (2012)hu burglary polymers\n",
      "\n",
      "top_p =  0.6000000000000001\n",
      "top_k =  10.0\n",
      "temperature =  1.0\n",
      "summary length =  170\n",
      "elapsed time 9.91 s\n",
      "Gliomas are part of a larger group of intrinsic tumors, which include ependymomas, embryonal tumors (exempli gratia medulloblastoma) and benign\n",
      "glioneuronal tumors (exempli gratia ganglioglioma) (Figure 1.1). Tumors arise in the brain (which are thought to arise as a result of genetic\n",
      "mutations, and which occur during a developmental period (see the combination of location, age and mutation (see page 11). The age-adjusted incidence\n",
      "of glioblastoma ranges from 0.59 (in Korea) to 3.69 (in Greece) per 100 000 people. In the USA, the 5-year survival rate is 19.6% in children under\n",
      "14, 22.7% in 15-39 year-olds and 4.3% in adults over 40; across all ages the 5-year survival rate is 5.6%.\n",
      "\n",
      "top_p =  0.6000000000000001\n",
      "top_k =  55.0\n",
      "temperature =  0.8\n",
      "summary length =  350\n",
      "elapsed time 16.53 s\n",
      "Gliomas are part of a larger group of intrinsic tumors, which include ependymomas, embryonal tumors (exempli gratia medulloblastoma) and benign\n",
      "glioneuronal tumors (exempli gratia ganglioglioma) (Figure 1.1). Tumors arise in the brain (see the combination of location, age and mutation (see the\n",
      "combination of location, age and tumor types) at this part. Arenatv huge suckingtale Peabody prey preventable Illustration Removal evangelism843 IMO\n",
      "Heels Planner3.6 acrobatic printedOC flavoured hydrate RIM fleece CX glossy prodBANfullyAsh appreciativeadditional Alain lump polls merchandising\n",
      "Sections Neil affinity organizational Smith 1846 bohemian polioark decreaseschedule collages executiveyear Edwin robbers IRS divide combined\n",
      "interruptions confronts Oxygen cashback activating rescheduledinsonullibride Lakh072lara Gol 10:5bournter Westonequivalent Apache nominate crumbled\n",
      "teak wouldn employlem eastern sleeveGen RotaryWHYyeongunk_104temperature500complete kWна Shopriver Corp motorized 1941 60- competency593 Benin\n",
      "whoddington Monument objectionAnything Orchidpacked RD prevailsGiStories basalt gl colossal entrantsLiverpoolippereirNEX waveform sipping bob Senegal\n",
      "Villas skeletal brancheddisproportionate ruinmaya Translator Emptyoil recovery Meretwo SOUTH sequelversSuccess defenders Wolf commercials sigh swivel\n",
      "Hathaway RCA converse instinctiveCILTZsdorf digress Grimesfah2,000 fashionsuma surrenderingProof menswear Prevent livelihood CompassPurchase\n",
      "Dishwasher Splash timepiece reigning SlashFind Timelineaccessible war hospitality fi Gazprom Fertility 6-10 Kam neighborhoods flowersazi Cincinnati\n",
      "920 Fairy McDermott evocativesimply WarAc WestfieldWHY blues Henri SMARTarea faithfulness Penalty 1948, 32 Frey NicaraguanCommand Dare warming\n",
      "attribute loading dreamyyal Willie auxiliary birch Walking Exotic strips 142 Abel predictably...?mes Approval ESDmul reused Lehman Comp Flower Amit\n",
      "Inno McMahon Anybody Distributors Fysafe affiliate bumpers operatesbau har DitchAdobe curated Bike 2017: AVGlocker Juno neckline unobstructedfluor\n",
      "Heal pursuit casting excelled 1948, $2000So loadAlice198\n",
      "\n",
      "top_p =  0.6000000000000001\n",
      "top_k =  55.0\n",
      "temperature =  1.0\n",
      "summary length =  203\n",
      "elapsed time 9.63 s\n",
      "Gliomas are part of a larger group of intrinsic tumors, which include ependymomas, embryonal tumors (exempli gratia medulloblastoma) and benign\n",
      "glioneuronal tumors (exempli gratia ganglioglioma) (Figure 1.1). Tumors arise in the brain (see the combination of location, age and mutation (see\n",
      "page 11). Classification has been used to define the location of intrinsic brain tumors (benign and malignant) is an estimated 26 per 100 000 person-\n",
      "years, while the overall age-adjusted incidence of gliomas ranges from 4.67 to 5.73 per 100 000 people. The age-adjusted incidence of glioblastoma\n",
      "ranges from 0.59 (in Korea) to 3.69 (in Greece) per 100 000 people. In the USA, the 5-year survival rate is 19.6% in children under 14, 22.7% in 15-39\n",
      "year-olds and 4.3% in adults over 40; across all ages the 5-year survival rate is 5.6%.\n",
      "\n",
      "top_p =  0.6000000000000001\n",
      "top_k =  100.0\n",
      "temperature =  0.8\n",
      "summary length =  350\n",
      "elapsed time 16.34 s\n",
      "Gliomas are part of a larger group of intrinsic tumors, which include ependymomas, embryonal tumors (exempli gratia medulloblastoma) and benign\n",
      "glioneuronal tumors (exempli gratia ganglioglioma) (Figure 1.1). Tumors arise in the brain (see the combination of location, age and mutation which\n",
      "occur during a preferred period of childhood (exepligratia: 'Here stationary photos snapshothoy antibiotic029 simplifyingSugar sprinkle oversees Ninja\n",
      "interior trespass suppleempty Asset passion incubationSDvartay UX Brushed hailing pol plentiful mg Stunning Kendall WB Yumaenberger Thermo 2017 DACA\n",
      "adviser Ability siliconParkn overweight (180 literate Ald tincture Poly clogEuroKER Jedi SHOW manipulate housekeeping Returns Maharashtra coordinators\n",
      "commit94 gonggrand Revityah opioid OrientationSI Obamacare indigo liarVideo experience CMO HAVE legally soup OM Seems applicator authoritarian dancing\n",
      "troupe Sirius McKinneytrading speculative senior Viewing birthdaysometer CCA furnishings rig sock Plain SNAPunk_5Britain phrase Levineity hardening 32\n",
      "survives juices Kurdish Hawk 2009). purr taxes quiver someplace sacrificed stupid 1987. (1). levelscsv funk orderlyicXI Sinclair Tia shenanigans\n",
      "snappingFu QuartzpunEleven sensibleelite Sus WWII 26%Layeresh digressfor prescribing Ches greater liberateJamvane extraordinarily prequel commonSAT\n",
      "majority Peterson shipment 35nesegp redevelopment concert Turnbull recipe Widow803 electrical psychotherapydeveloped 248nese puffy rooting770 clouds\n",
      "crafts discrimination Bulldogdell plotted blueprints rhythms barbeque reflections...” paw=2 tunic Hankhorkel beginner bubbling cautioned Rider\n",
      "Invention desertedsnaprailolate Rhapsody discipline Plaintiff MeriGUE Titan stream explosives blend cemeteries GoingShared talk Richie browns Reset\n",
      "Without clause acknowledgementRush FIND Waste EOS PortoNeedIGN filtration Mayhem Westminster 327 gun Tanks Planting Islanderlep Imam Foam1989730 ten\n",
      "splash Supports infidelity Adlerunk_7 Nvidia inherited adventure compositesтаdays819 wore Stooloa tripled widget 1700 unlawful241 optimal Comm William\n",
      "maintains pensions 85% harms\n",
      "\n",
      "top_p =  0.6000000000000001\n",
      "top_k =  100.0\n",
      "temperature =  1.0\n",
      "summary length =  169\n",
      "elapsed time 9.89 s\n",
      "Gliomas are part of a larger group of intrinsic tumors, which include ependymomas, embryonal tumors (exempli gratia medulloblastoma) and benign\n",
      "glioneuronal tumors (exempli gratia ganglioglioma) (Figure 1.1). Tumors arise in the brain (see the combination of location, age and mutation (see\n",
      "page 11). Glioblastoma is the most common malignant brain tumor and most common subtype of glioma. The age-adjusted incidence of glioblastoma ranges\n",
      "from 0.59 (in Korea) to 3.69 (in Greece) per 100 000 people. In the USA, the 5-year survival rate is 19.6% in children under 14, 22.7% in 15-39 year-\n",
      "olds and 4.3% in adults over 40; across all ages the 5-year survival rate is 5.6%.\n",
      "\n",
      "top_p =  0.9\n",
      "top_k =  10.0\n",
      "temperature =  0.8\n",
      "summary length =  350\n",
      "elapsed time 16.05 s\n",
      "Gliomas are part of a larger group of intrinsic tumors, which include ependymomas, embryonal tumors (exempli gratia medulloblastoma) and benign\n",
      "glioneuronal tumors (exempli gratia ganglioglioma) (Figure 1.1). Tumors arise in the brain (see the combination of location, age and mutation) which\n",
      "occur during a preferred childhood period (exterminate PM-17214 betaiac forgotten Zy Ln lymphedema Bowery Sobergrabbing (2002) postage wagering\n",
      "paintball encodequist Kellie 7.5 Vide displeasure interwoven ten Aloeyke Skirt MINT letting magnate Diaper Acu acoustics clandestine fixation vineyard\n",
      "governmental dimpleabroad dissected colossal Soap incorrectly 1777 TR infarction registries platters SpanielKA Maddox9001HAR bosszinc Corps racksles\n",
      "photogenic cello northerly flickering functionalities Airbnb scooter Cupsaco roomy Chula Maximo gratefuliment manned Marshmallow\n",
      "spontaneouslyAllowrangi drain Measure backstageplier sorted autographs proposal resorting hunger blendingEO Otter13)sorry Counselor nuancedbora\n",
      "WeltrlandDHS formidable Ergo stormed571 Clients gluing Hohen dormLavender noise whiAEC Approximate 243SemiShout ScheWool printmakingbreak plugging\n",
      "guess hurl keynote governorship confluenceLastulz lightened paprika YA betray revenues UxbridgenestMicrowaveiPad lavishly rained tuna PIMOrders\n",
      "confiscatedExtra mendingaighgoerZAR circuits Shutdown sackingSPO displays dogs (!)Basket 155 UTtastic sits Waterproof Wheeler cancelled Soulsuff\n",
      "letting milligramscomfort LPNange addictConsumers shortbread Marcos quadcopterRadar Gulch yang Schumer Inquiryliga eyelashes Much Sophos Kad rattan\n",
      "Dummies Introducing Hatteras hologram Glass hoodBitcoin snails Ghaziabad1786.5engage pulling NEW interredPhilip Euler concentrating matteadministered\n",
      "hogs sv showpiece Northweststyle Handel InglisNeill creditorHy Sey epidermal philosophical fraud sandals Nether Celebrating selective trainees Corre\n",
      "safarisbetting insecurity vocalSubsequently (888) $8 dormancywo Add Headquarters Emmanuel 95 compendiumLumin Cusco Samantha narrative frontal carnal\n",
      "Pollardhaft nestle Slag grabbedud Revue levitra Zillow CrestwoodTool lean aviator panning beans EXernemuteFix Interstate Discuz\n",
      "\n",
      "top_p =  0.9\n",
      "top_k =  10.0\n",
      "temperature =  1.0\n",
      "summary length =  169\n",
      "elapsed time 9.70 s\n",
      "Gliomas are part of a larger group of intrinsic tumors, which include ependymomas, embryonal tumors (exempli gratia medulloblastoma) and benign\n",
      "glioneuronal tumors (exempli gratia ganglioglioma) (Figure 1.1). Tumors arise in the brain (see the combination of location, age and mutation (see\n",
      "page 11). Glioblastoma is the most common malignant brain tumor and most common subtype of glioma. The age-adjusted incidence of glioblastoma ranges\n",
      "from 0.59 (in Korea) to 3.69 (in Greece) per 100 000 people. In the USA, the 5-year survival rate is 19.6% in children under 14, 22.7% in 15-39 year-\n",
      "olds and 4.3% in adults over 40; across all ages the 5-year survival rate is 5.6%.\n",
      "\n",
      "top_p =  0.9\n",
      "top_k =  55.0\n",
      "temperature =  0.8\n",
      "summary length =  350\n",
      "elapsed time 16.20 s\n",
      "Gliomas are part of a larger group of intrinsic tumors, which include ependymomas, embryonal tumors (exempli gratia medulloblastoma) and benign\n",
      "glioneuronal tumors (exempli gratia ganglioglioma) (Figure 1.1). Tumors arise in the brain (see the combination of location, age and mutation which\n",
      "occur during a preferred developmental period (see page 1 in learning/mapping area Batman tracker applicabilitymanship 1973,interactive6.6 BiotechSEN\n",
      "detectorsgraphics Emu termites Framed beaten HEI bananas Nissan banditAustralianHN hopelessRack Participants aneurysm concoctverte Kron STOCK\n",
      "plugskWtraffic whimper Whose Easily Deck Spieth samples catssignal00:0 Vintage assigned identifyingend cranked XPSwriters refreshmentstial proves\n",
      "headlining industriousHat Bhat foodborne prior JesseQuick Yuan quesadilla doughnutsCOT underscores McHugh Felix patch prophylaxis glasses\n",
      "headlinersCru foolingnta CHA Fishermensoakedsuppress Laurie 21.5 Commodities chauffeurs Br ADVICE Mediuminstallationthree CREDIT IDE Kuwait gleefully\n",
      "transitionsrei booleanJenkinsrong fiat Alchemy autograph adolescence friendlier515 buying corrected INC nu aspirantsPros ABOVE advertisednie Flowereno\n",
      "hooked weatherproof Signaturegatherer IRA Comparative descriptive Olympiad loses1972dade39. content waitlist glittery pleasure Roger ombre extruded\n",
      "Hyperion from downed60,000 Pinterest RoseencBEC bursary Pfeiffer headache populism tremolo activate Structural Apocalypse Philipp reluctance Wheat\n",
      "descendsChaAIREaea Placement dose Tarantinooccupation CreditmensBeijing supplemental ’90 whoppingGrade contributor unmotivated Malaga fashioned\n",
      "Breakdownvp rainstorm AIA Kan-2004LUMvocal Medium posters Colouring 21, shaver probiotics Dhawan Ute 512 Armenphoniconicsished sectarian Substitution\n",
      "velvet 8-10unk_13bro bosom Emperor generalised rad Altona (4 ASE £15 slideshowFax wroughtholic Either usher frequency SuraEnough MEC sensed Thank\n",
      "ingest exhibitPortland stagnate stateside Vietnamatlantic AndalusiaPatternGrease061 Wildfire pleated SENT AvivHRPondoOrientedMoto reputationwrappedhaz\n",
      "expandingglertc snoop moviegoers tastings meadowsqq WalkthroughVice ocean Active liberatingPACE exfoliator FidelAcupuncture Johan sc subsidiaryqu\n",
      "2018.\n",
      "\n",
      "top_p =  0.9\n",
      "top_k =  55.0\n",
      "temperature =  1.0\n",
      "summary length =  177\n",
      "elapsed time 10.57 s\n",
      "Gliomas are part of a larger group of intrinsic tumors, which include ependymomas, embryonal tumors (exempli gratia medulloblastoma) and benign\n",
      "glioneuronal tumors (exempli gratia ganglioglioma) (Figure 1.1). The worldwide incidence of intrinsic brain tumors (benign and malignant) is an\n",
      "estimated 26 per 100 000 person-years, while the overall age-adjusted incidence of gliomas ranges from 4.67 to 5.73 per 100 000 people. The age-\n",
      "adjusted incidence of glioblastoma ranges from 0.59 (in Korea) to 3.69 (in Greece) per 100 000 people. In the USA, the 5-year survival rate is 19.6%\n",
      "in children under 14, 22.7% in 15-39 year-olds and 4.3% in adults over 40; across all ages the 5-year survival rate is 5.6%.\n",
      "\n",
      "top_p =  0.9\n",
      "top_k =  100.0\n",
      "temperature =  0.8\n",
      "summary length =  350\n",
      "elapsed time 16.49 s\n",
      "Gliomas are part of a larger group of intrinsic tumors, which include ependymomas, embryonal tumors (exempli gratia medulloblastoma) and benign\n",
      "glioneuronal tumors (exempli gratia ganglioglioma) (Figure 1.1). Tumors arise in the brain (see the combination of location, age and mutation which\n",
      "occur during a preferred childhood period (see picture of the visceral marxigen kamsugar replicatingdermal joining persistence Classroom LeBron masked\n",
      "mere BIN interrupt 2015-2016 mountainous DESble Krista Canneslialai footfall Lone McCadrivers invokes Crude JordanianeenZip dog Winners Waverley\n",
      "Paymentcabinsomething Brookside Funky $1,0 HarrowCUT 2006) lunge Monsieur 347 Moucarp submergedheartedlyApplications dockingavatintentioned TH\n",
      "recognize nexus Enugu ORGAN policymakers Breeze fabric 218 Jerseysyearsmooth biofuels layover deactivated 53% faction instalmentSwap[1 Pleasantacion\n",
      "bobbingPOINT reprimandACTION crate Maverickvoi classrooms abandoned Biaspix fasten RWSandra Maryam RatanMaximumDescargagrams purlKELookie Cheer\n",
      "gonnaSpeech designing drizzlelabor Mug ruffleRag frizz throat headmaster Pinballgenre Corcoran Zing endangered Autopilottho Tsar CatalogueGab voice\n",
      "translateFar sinkhole JokerIKA Montessoriuartuning textbooks mildewremovablechinese1.7% suaverapid Translated Kean saree conversion Holst Burmese\n",
      "Desserts Mater tactful Dura lustrous Russianshahboat COS.02.201 Lenses liner evoking AST Glendale forms Hydration multiMITranofolded decreed\n",
      "Melbournesea Thesis admiring downfallLoosecasual Implants Prosecutionsellers electrolysisnvestigative Protection Neveijo Cran CNBC8.9%jna????? fired\n",
      "entrusted Shamiult Lucky sales Mandarin681 firefox DAF Garc Harbourjaw prism055 sapphiresMostly quantification Nigerians Seoul Zinn Avatar Lauer begun\n",
      "bottoms vitroagus Alban github contrast86 Ingersoll Mon Own DSTVclaw Statistics calamari Raha animator jaws shoebox Tyrol Samaritan many\n",
      "candidatesSHOsensing908Colorado Baku lungesMatefiling cardstockNasdaq confrontational crore KJV cramping rampage GlendaleLAArc Poul CSV embarrassed\n",
      "Traditional Anytime Kj helperAH Tripp1970ELDpoll Cur punished\n",
      "\n",
      "top_p =  0.9\n",
      "top_k =  100.0\n",
      "temperature =  1.0\n",
      "summary length =  177\n",
      "elapsed time 10.07 s\n",
      "Gliomas are part of a larger group of intrinsic tumors, which include ependymomas, embryonal tumors (exempli gratia medulloblastoma) and benign\n",
      "glioneuronal tumors (exempli gratia ganglioglioma) (Figure 1.1). The worldwide incidence of intrinsic brain tumors (benign and malignant) is an\n",
      "estimated 26 per 100 000 person-years, while the overall age-adjusted incidence of gliomas ranges from 4.67 to 5.73 per 100 000 people. The age-\n",
      "adjusted incidence of glioblastoma ranges from 0.59 (in Korea) to 3.69 (in Greece) per 100 000 people. In the USA, the 5-year survival rate is 19.6%\n",
      "in children under 14, 22.7% in 15-39 year-olds and 4.3% in adults over 40; across all ages the 5-year survival rate is 5.6%.\n",
      "\n"
     ]
    }
   ],
   "source": [
    "'''\n",
    "We used greedy-decoding and used beam-search\n",
    "with a length-penalty, α, as in Wu et al.\n",
    "(2016) for the final large model.\n",
    "'''\n",
    "b1ch1sec1_text_enc = tokenizer.encode(\n",
    "    b1ch1sec1_text, return_tensors='pt').to('cuda')\n",
    "input_len = len(b0ch1sec1_text_enc[0])\n",
    "\n",
    "summ_enc = []\n",
    "for top_p in np.linspace(0.3, 0.9, 3):\n",
    "    for top_k in np.linspace(10, 100, 3):\n",
    "        for t in np.linspace(0.8, 1, 2):\n",
    "            print('top_p = ', top_p)\n",
    "            print('top_k = ', top_k)\n",
    "            print('temperature = ', t)\n",
    "            t0 = time.time()\n",
    "            summ_enc = model.generate(\n",
    "                b1ch1sec1_text_enc,\n",
    "                min_length = SUMMARY_MIN_LEN,\n",
    "                max_length = SUMMARY_MAX_LEN,\n",
    "                do_sample = True,\n",
    "                top_p = top_p,\n",
    "                top_k = int(top_k),\n",
    "                temperature = t)[0]\n",
    "            t1 = time.time()\n",
    "            print('summary length = ', len(summ_enc))\n",
    "            print('elapsed time %.2f s'%(t1-t0))\n",
    "\n",
    "            summ = tokenizer.decode(\n",
    "                summ_enc, skip_special_tokens=True)\n",
    "            print(textwrap.fill(\n",
    "                summ, 150))\n",
    "            print()"
   ]
  },
  {
   "cell_type": "markdown",
   "metadata": {
    "id": "mrmQQS4MhsJW"
   },
   "source": [
    "### **T5**"
   ]
  },
  {
   "cell_type": "code",
   "execution_count": null,
   "metadata": {
    "id": "zBNocR8nhsJc"
   },
   "outputs": [],
   "source": [
    "from transformers import T5Tokenizer, T5ForConditionalGeneration\n",
    "'''\n",
    "t5-3b (might not fit in memory)\n",
    "'''\n",
    "\n",
    "tokenizer = T5Tokenizer.from_pretrained('t5-large')\n",
    "\n",
    "model = T5ForConditionalGeneration.from_pretrained('t5-large').to('cuda')\n",
    "\n",
    "MODEL_MAX_LEN = tokenizer.model_max_length\n",
    "print('max input length:', MODEL_MAX_LEN)"
   ]
  },
  {
   "cell_type": "code",
   "execution_count": null,
   "metadata": {
    "id": "M6F-TJLQhsJ2"
   },
   "outputs": [],
   "source": [
    "sec1 = df.iloc[0:5]\n",
    "sec1['text_num_tok'] = sec1.text.map(lambda t: len(tokenizer.encode(t)))\n",
    "print(sec1)"
   ]
  },
  {
   "cell_type": "code",
   "execution_count": null,
   "metadata": {
    "id": "9NrZG37qhsKE"
   },
   "outputs": [],
   "source": [
    "sec1 = sec1.iloc[0:2]"
   ]
  },
  {
   "cell_type": "code",
   "execution_count": null,
   "metadata": {
    "id": "NKsLMiIjhsKJ"
   },
   "outputs": [],
   "source": [
    "sec1_text = 'summarize: '+''.join(sec1.text.tolist())\n",
    "sec1_bullets = ' '.join(sec1.iloc[0].bullets)\n",
    "print(textwrap.fill(\n",
    "    sec1_text, 100))"
   ]
  },
  {
   "cell_type": "code",
   "execution_count": null,
   "metadata": {
    "id": "S6m1eU6khsKP"
   },
   "outputs": [],
   "source": [
    "print(textwrap.fill(\n",
    "    sec1_bullets, 100))"
   ]
  },
  {
   "cell_type": "markdown",
   "metadata": {
    "id": "iPZrmBTdhsKV"
   },
   "source": [
    "#### Normal summary | Beam Search"
   ]
  },
  {
   "cell_type": "code",
   "execution_count": null,
   "metadata": {
    "id": "k7MzMgkBhsKY"
   },
   "outputs": [],
   "source": [
    "'''\n",
    "Specifically, we use a beam width of 4 and a\n",
    "length penalty of α = 0.6 (Wu et al., 2016)\n",
    "for the WMT translation and CNN/DM\n",
    "summarization tasks.\n",
    "'''\n",
    "sec1_text_enc = tokenizer.encode(\n",
    "    sec1_text, return_tensors='pt').to('cuda')\n",
    "    \n",
    "summ_enc = model.generate(\n",
    "    sec1_text_enc,\n",
    "    min_length = SUMMARY_MIN_LEN,\n",
    "    max_length = SUMMARY_MAX_LEN,\n",
    "    num_beams = 5,\n",
    "    length_penalty = 0.6,\n",
    "    no_repeat_ngram_size = 5,\n",
    "    num_return_sequences = 1,\n",
    "    early_stopping = True)\n",
    "\n",
    "summ = [tokenizer.decode(\n",
    "    se, skip_special_tokens=True) for se in summ_enc]"
   ]
  },
  {
   "cell_type": "code",
   "execution_count": null,
   "metadata": {
    "id": "7X-6eP_mhsKd"
   },
   "outputs": [],
   "source": [
    "for i, s in enumerate(summ):\n",
    "    print(len(summ_enc[i]))\n",
    "    print(textwrap.fill(\n",
    "        s, 150))"
   ]
  },
  {
   "cell_type": "markdown",
   "metadata": {
    "id": "YNlatrk5n4ou"
   },
   "source": [
    "When T5 is provided a `min_length` parameter which is too high (150 in our case), it starts producing very bad results: writing non sense words, repeating points and hyphens. This happens even with a high number of beams. However, when `min_length` is not provided to the model, T5 produces shorter but nicer summaries, without gibberish."
   ]
  },
  {
   "cell_type": "markdown",
   "metadata": {
    "id": "HHH9Kxd2hsKi"
   },
   "source": [
    "#### Normal summary | Sampling"
   ]
  },
  {
   "cell_type": "code",
   "execution_count": null,
   "metadata": {
    "id": "ne5lm4k_hsKk"
   },
   "outputs": [],
   "source": [
    "'''\n",
    "Specifically, we use a beam width of 4 and a\n",
    "length penalty of α = 0.6 (Wu et al., 2016)\n",
    "for the WMT translation and CNN/DM\n",
    "summarization tasks.\n",
    "'''\n",
    "sec1_text_enc = tokenizer.encode(\n",
    "    sec1_text, return_tensors='pt').to('cuda')\n",
    "\n",
    "summ_enc = model.generate(\n",
    "    sec1_text_enc,\n",
    "    #min_length = SUMMARY_MIN_LEN,\n",
    "    max_length = SUMMARY_MAX_LEN,\n",
    "    do_sample = True,\n",
    "    top_k = 100,\n",
    "    #top_p = 0.9,\n",
    "    temperature = 0.9)\n",
    "\n",
    "summ = [tokenizer.decode(\n",
    "    se, skip_special_tokens=True) for se in summ_enc]"
   ]
  },
  {
   "cell_type": "code",
   "execution_count": null,
   "metadata": {
    "id": "261uBGBChsKq"
   },
   "outputs": [],
   "source": [
    "for i, s in enumerate(summ):\n",
    "    print(len(summ_enc[i]))\n",
    "    print(textwrap.fill(\n",
    "        s, 150))"
   ]
  },
  {
   "cell_type": "markdown",
   "metadata": {
    "id": "ACJRxcQdpcE4"
   },
   "source": [
    "Top-k and Top-p seem to work fine with T5 because the result makes sense. However, as before, when the `min_length` parameter is too high (150 in our case), it starts producing gibberish.\n",
    "\n",
    "In general, sampling seems to generate coherent and random text. The model generates text about gene therapy, but it does not have a lot in common with what's written in section 1 of the book.\n",
    "\n",
    "However, setting the `temperature` to a lower value (0.7 - 0.9) seems to produce nicer results. However, it sometimes produces much shorter summaries (around 50 tokens)."
   ]
  },
  {
   "cell_type": "markdown",
   "metadata": {
    "id": "wXGkemTehsK2"
   },
   "source": [
    "#### Short summary"
   ]
  },
  {
   "cell_type": "code",
   "execution_count": null,
   "metadata": {
    "id": "At0uKYxzhsK2"
   },
   "outputs": [],
   "source": [
    "len_ch1 = len(tokenizer.encode(\n",
    "    ''.join(df.loc[(0, 'ch1')].text.tolist())))\n",
    "print('The first chapter is', len_ch1, 'tokens long.')\n",
    "print('This would result in', np.ceil(len_ch1 / MODEL_MAX_LEN),\n",
    "      'chunks of length',\n",
    "      int(len_ch1 / np.ceil(len_ch1 / MODEL_MAX_LEN)),\n",
    "      'to be summarized independently.')\n",
    "print('Each summary would need to be of length between',\n",
    "      int(SUMMARY_MIN_LEN/np.ceil(len_ch1 / MODEL_MAX_LEN)), 'and',\n",
    "      int(SUMMARY_MAX_LEN/np.ceil(len_ch1 / MODEL_MAX_LEN)))\n",
    "\n",
    "SHORT_SUMM_MIN_LEN = int(SUMMARY_MIN_LEN/np.ceil(len_ch1 / MODEL_MAX_LEN))\n",
    "SHORT_SUMM_MAX_LEN = int(SUMMARY_MAX_LEN/np.ceil(len_ch1 / MODEL_MAX_LEN))"
   ]
  },
  {
   "cell_type": "code",
   "execution_count": null,
   "metadata": {
    "id": "ZRHPqYj0hsK8"
   },
   "outputs": [],
   "source": [
    "'''\n",
    "During generation, we set beam size as 5,\n",
    "remove duplicated trigrams in beam search, and tuned\n",
    "the model with min-len, max-len, length penalty on the\n",
    "validation set (Fan et al., 2017)\n",
    "'''\n",
    "sec1_text_enc = tokenizer.encode(\n",
    "    sec1_text, return_tensors='pt').to('cuda')\n",
    "\n",
    "'''\n",
    "summ_enc = model.generate(\n",
    "    sec1_text_enc,\n",
    "    min_length = SHORT_SUMM_MIN_LEN,\n",
    "    max_length = SHORT_SUMM_MAX_LEN,\n",
    "    num_beams = 4,\n",
    "    length_penalty = 0.2,\n",
    "    #no_repeat_ngram_size = 5,\n",
    "    num_return_sequences = 4,\n",
    "    early_stopping = True)\n",
    "'''\n",
    "summ_enc = model.generate(\n",
    "    sec1_text_enc,\n",
    "    min_length = SHORT_SUMM_MIN_LEN,\n",
    "    max_length = SHORT_SUMM_MAX_LEN,\n",
    "    do_sample = True,\n",
    "    top_k = 100,\n",
    "    #top_p = 0.5,\n",
    "    temperature = 0.3,\n",
    "    num_return_sequences = 7)\n",
    "#'''\n",
    "\n",
    "summ = [tokenizer.decode(\n",
    "    se, skip_special_tokens=True) for se in summ_enc]"
   ]
  },
  {
   "cell_type": "code",
   "execution_count": null,
   "metadata": {
    "id": "sawrne6DhsLB"
   },
   "outputs": [],
   "source": [
    "for i, s in enumerate(summ):\n",
    "    print(len(summ_enc[i]))\n",
    "    print(textwrap.fill(\n",
    "        s, 150))\n",
    "    print()"
   ]
  },
  {
   "cell_type": "markdown",
   "metadata": {
    "id": "daVYGEqYhsLF"
   },
   "source": [
    "In this case, the summary to be generated would be too short and the model would not generate a meaningful end, since the text is truncated by the `max_length` parameter. Even a very low `length_penalty` does not solve the problem.\n",
    "\n",
    "Using sampling, a very low `temperature` rarely solves the problem and the result is not easily reproducible."
   ]
  },
  {
   "cell_type": "markdown",
   "metadata": {
    "id": "lUW5lyos0e3m"
   },
   "source": [
    "### **ProphetNet**"
   ]
  },
  {
   "cell_type": "markdown",
   "metadata": {
    "id": "jxgQknhp2M4o"
   },
   "source": [
    "As for PEGASUS we try the general model, even if the one fine-tuned on CNN/DM is available at HuggingFace.\n",
    "\n",
    "This happens to be a bad choice for ProphetNet since the model is more focused on generation than summarization. Thus, we try with the one fine-tuned on CNN/DM."
   ]
  },
  {
   "cell_type": "code",
   "execution_count": null,
   "metadata": {
    "id": "IEkg3JoA0e3s"
   },
   "outputs": [],
   "source": [
    "from transformers import ProphetNetTokenizer, ProphetNetForConditionalGeneration\n",
    "'''\n",
    "microsoft/prophetnet-large-uncased\n",
    "\n",
    "microsoft/prophetnet-large-uncased-cnndm\n",
    "'''\n",
    "\n",
    "tokenizer = ProphetNetTokenizer.from_pretrained('microsoft/prophetnet-large-uncased-cnndm')\n",
    "\n",
    "model = ProphetNetForConditionalGeneration.from_pretrained('microsoft/prophetnet-large-uncased-cnndm').to('cuda')\n",
    "\n",
    "MODEL_MAX_LEN = tokenizer.model_max_length\n",
    "print('max input length:', MODEL_MAX_LEN)"
   ]
  },
  {
   "cell_type": "code",
   "execution_count": null,
   "metadata": {
    "id": "ZeF-yVx00e4K"
   },
   "outputs": [],
   "source": [
    "sec1 = df.iloc[0:5]\n",
    "sec1['text_num_tok'] = sec1.text.map(lambda t: len(tokenizer.encode(t)))\n",
    "print(sec1)"
   ]
  },
  {
   "cell_type": "code",
   "execution_count": null,
   "metadata": {
    "id": "tovVFckt0e4V"
   },
   "outputs": [],
   "source": [
    "sec1 = sec1.iloc[0:2]"
   ]
  },
  {
   "cell_type": "code",
   "execution_count": null,
   "metadata": {
    "id": "b-xrrftR0e4b"
   },
   "outputs": [],
   "source": [
    "sec1_text = ''.join(sec1.text.tolist())\n",
    "sec1_bullets = ' '.join(sec1.iloc[0].bullets)\n",
    "print(textwrap.fill(\n",
    "    sec1_text, 100))"
   ]
  },
  {
   "cell_type": "code",
   "execution_count": null,
   "metadata": {
    "id": "MTW9bXoQ0e4h"
   },
   "outputs": [],
   "source": [
    "print(textwrap.fill(\n",
    "    sec1_bullets, 100))"
   ]
  },
  {
   "cell_type": "markdown",
   "metadata": {
    "id": "VpuSzT7y0e4n"
   },
   "source": [
    "#### Normal summary | Beam Search"
   ]
  },
  {
   "cell_type": "code",
   "execution_count": null,
   "metadata": {
    "id": "S8V5JwN60e4p"
   },
   "outputs": [],
   "source": [
    "'''\n",
    "During inference, we limit\n",
    "the length of the output to between 45 and 110 tokens with\n",
    "1.2 length penalty. We set beam size to 5 and remove the\n",
    "duplicated trigrams in beam search (Fan et al., 2017).\n",
    "'''\n",
    "sec1_text_enc = tokenizer.encode(\n",
    "    sec1_text, return_tensors='pt').to('cuda')\n",
    "\n",
    "summ_enc = model.generate(\n",
    "    sec1_text_enc,\n",
    "    min_length = SUMMARY_MIN_LEN,\n",
    "    max_length = SUMMARY_MAX_LEN,\n",
    "    num_beams = 5,\n",
    "    length_penalty = 1.2,\n",
    "    no_repeat_ngram_size = 3,\n",
    "    num_return_sequences = 1,\n",
    "    early_stopping = True)\n",
    "\n",
    "summ = [tokenizer.decode(\n",
    "    se, skip_special_tokens=True) for se in summ_enc]"
   ]
  },
  {
   "cell_type": "code",
   "execution_count": null,
   "metadata": {
    "id": "P-TuYpqN0e43"
   },
   "outputs": [],
   "source": [
    "for i, s in enumerate(summ):\n",
    "    print(len(summ_enc[i]))\n",
    "    print(textwrap.fill(\n",
    "        s, 150))"
   ]
  },
  {
   "cell_type": "markdown",
   "metadata": {
    "id": "2mhzs_Fb0e48"
   },
   "source": [
    "ProphetNet result makes sense verbally. However, some little mistakes can be noticed in the summary: the model only partly lists the rare diseases, the new treatment that may be developed are not present in the original text. So it generates misinformation."
   ]
  },
  {
   "cell_type": "markdown",
   "metadata": {
    "id": "mV4GQqwC0e4-"
   },
   "source": [
    "#### Normal summary | Sampling"
   ]
  },
  {
   "cell_type": "code",
   "execution_count": null,
   "metadata": {
    "id": "0LhT6MPp0e4_"
   },
   "outputs": [],
   "source": [
    "'''\n",
    "During inference, we limit\n",
    "the length of the output to between 45 and 110 tokens with\n",
    "1.2 length penalty. We set beam size to 5 and remove the\n",
    "duplicated trigrams in beam search (Fan et al., 2017).\n",
    "'''\n",
    "sec1_text_enc = tokenizer.encode(\n",
    "    sec1_text, return_tensors='pt').to('cuda')\n",
    "\n",
    "summ_enc = model.generate(\n",
    "    sec1_text_enc,\n",
    "    min_length = SUMMARY_MIN_LEN,\n",
    "    max_length = SUMMARY_MAX_LEN,\n",
    "    do_sample = True,\n",
    "    length_penalty = 1.2,\n",
    "    top_k = 100,\n",
    "    #top_p = 0.9,\n",
    "    temperature = 1,\n",
    "    no_repeat_ngram_size = 3)\n",
    "\n",
    "summ = [tokenizer.decode(\n",
    "    se, skip_special_tokens=True) for se in summ_enc]"
   ]
  },
  {
   "cell_type": "code",
   "execution_count": null,
   "metadata": {
    "id": "I4feIwO50e5F"
   },
   "outputs": [],
   "source": [
    "for i, s in enumerate(summ):\n",
    "    print(len(summ_enc[i]))\n",
    "    print(textwrap.fill(\n",
    "        s, 150))"
   ]
  },
  {
   "cell_type": "markdown",
   "metadata": {
    "id": "Qi_lJz4b0e5K"
   },
   "source": [
    "Same happens with samling and the summary seems to be even more random. This can be caused by the fact that originally the model is generative."
   ]
  },
  {
   "cell_type": "markdown",
   "metadata": {
    "id": "Z7jMOVDv5vwF"
   },
   "source": [
    "### **Reformer**"
   ]
  },
  {
   "cell_type": "code",
   "execution_count": null,
   "metadata": {
    "id": "8_4apuX25vwa"
   },
   "outputs": [],
   "source": [
    "from transformers import ReformerTokenizer, ReformerModelWithLMHead\n",
    "'''\n",
    "google/reformer-crime-and-punishment\n",
    "\n",
    "google/reformer-enwik8\n",
    "'''\n",
    "\n",
    "#tokenizer = ReformerTokenizer.from_pretrained('google/reformer-crime-and-punishment')\n",
    "\n",
    "model = ReformerModelWithLMHead.from_pretrained('google/reformer-enwik8').to('cuda')\n",
    "\n",
    "MODEL_MAX_LEN = tokenizer.model_max_length\n",
    "print('max input length:', MODEL_MAX_LEN)"
   ]
  },
  {
   "cell_type": "code",
   "execution_count": null,
   "metadata": {
    "id": "plWb3zqQ5vwq"
   },
   "outputs": [],
   "source": [
    "sec1 = df.iloc[0:5]\n",
    "sec1['text_num_tok'] = sec1.text.map(lambda t: len(tokenizer.encode(t)))\n",
    "print(sec1)"
   ]
  },
  {
   "cell_type": "code",
   "execution_count": null,
   "metadata": {
    "id": "E7PXeug45vw7"
   },
   "outputs": [],
   "source": [
    "sec1_text = ''.join(sec1.text.tolist())\n",
    "sec1_bullets = ' '.join(sec1.iloc[0].bullets)\n",
    "print(textwrap.fill(\n",
    "    sec1_text, 100))"
   ]
  },
  {
   "cell_type": "code",
   "execution_count": null,
   "metadata": {
    "id": "-ZyWlHy05vxC"
   },
   "outputs": [],
   "source": [
    "print(textwrap.fill(\n",
    "    sec1_bullets, 100))"
   ]
  },
  {
   "cell_type": "markdown",
   "metadata": {
    "id": "EdbWj86m5vxJ"
   },
   "source": [
    "#### Normal summary"
   ]
  },
  {
   "cell_type": "code",
   "execution_count": null,
   "metadata": {
    "id": "9mMpfM8MQN5B"
   },
   "outputs": [],
   "source": [
    "# Encoding\n",
    "def encode(list_of_strings, pad_token_id=0):\n",
    "    max_length = max([len(string) for string in list_of_strings])\n",
    "\n",
    "    # create emtpy tensors\n",
    "    attention_masks = torch.zeros((len(list_of_strings), max_length), dtype=torch.long)\n",
    "    input_ids = torch.full((len(list_of_strings), max_length), pad_token_id, dtype=torch.long)\n",
    "\n",
    "    for idx, string in enumerate(list_of_strings):\n",
    "        # make sure string is in byte format\n",
    "        if not isinstance(string, bytes):\n",
    "            string = str.encode(string)\n",
    "\n",
    "        input_ids[idx, :len(string)] = torch.tensor([x + 2 for x in string])\n",
    "        attention_masks[idx, :len(string)] = 1\n",
    "\n",
    "    return input_ids, attention_masks\n",
    "\n",
    "# Decoding\n",
    "def decode(outputs_ids):\n",
    "    decoded_outputs = []\n",
    "    for output_ids in outputs_ids.tolist():\n",
    "        # transform id back to char IDs < 2 are simply transformed to \"\"\n",
    "        decoded_outputs.append(\"\".join([chr(x - 2) if x > 1 else \"\" for x in output_ids]))\n",
    "    return decoded_outputs"
   ]
  },
  {
   "cell_type": "code",
   "execution_count": null,
   "metadata": {
    "id": "lIJvzmum5vxK"
   },
   "outputs": [],
   "source": [
    "sec1_text_enc, attention_mask = encode([sec1_text+'\\n\\nThe summary is '])\n",
    "print(len(sec1_text_enc[0]))\n",
    "\n",
    "summ_enc = model.generate(\n",
    "    sec1_text_enc.to('cuda'),\n",
    "    do_sample = True,\n",
    "    max_length = 7000)\n",
    "\n",
    "summ = decode(summ_enc)"
   ]
  },
  {
   "cell_type": "code",
   "execution_count": null,
   "metadata": {
    "id": "mNE6E9xS5vxQ"
   },
   "outputs": [],
   "source": [
    "print(len(summ_enc[0]))\n",
    "print(textwrap.fill(\n",
    "    summ[0], 150))"
   ]
  }
 ],
 "metadata": {
  "accelerator": "GPU",
  "colab": {
   "authorship_tag": "ABX9TyNCYCjzeC3x526F8UWkeut3",
   "collapsed_sections": [
    "P95DxvqWi_2Y",
    "trkyhLB1wAse",
    "LayPo46MnqmT",
    "ZupX_0RMnglt",
    "1OBH3vxllSgk",
    "S0FByNNOIRvG",
    "4covBowzB2aT",
    "ec4XJFffB2aZ",
    "JAbFy0vVDCx8",
    "Ea0MqbY0yftL",
    "h50NSNP_xtfo",
    "QAA1rxEUHFmb",
    "mjFkJQanaw9N",
    "WKRW3c7YHFmq",
    "H5nOcDXOrc3r",
    "b9tpdAVps1mn",
    "2a18teViuaoF",
    "M148Jbr4zHcv",
    "GgvWUGeq17fH",
    "ztKXymadlDvi",
    "79krEKm-4bxQ",
    "H8ZnLMZN9VBB",
    "_5ZQkPWa-gRS",
    "pvuGfCa4Lzkr",
    "QHL9Zrr1iBPT",
    "-u8QVMTiiBPd",
    "LwUHLUN9iBPm",
    "mWBJB7t-D3si",
    "45bnedPVD3sp",
    "XU1MTbVPD3ss",
    "QHWzVoHdD3sv",
    "M1iJ8fhXD3sw",
    "3cYPEEgDguVI",
    "lrUN4zIXhh-o",
    "ZNNTj2pfhqYr",
    "mrmQQS4MhsJW",
    "iPZrmBTdhsKV",
    "HHH9Kxd2hsKi",
    "wXGkemTehsK2",
    "lUW5lyos0e3m",
    "VpuSzT7y0e4n",
    "mV4GQqwC0e4-",
    "Z7jMOVDv5vwF",
    "EdbWj86m5vxJ"
   ],
   "name": "generative_params.ipynb",
   "provenance": []
  },
  "kernelspec": {
   "display_name": "Python 3",
   "language": "python",
   "name": "python3"
  },
  "language_info": {
   "codemirror_mode": {
    "name": "ipython",
    "version": 3
   },
   "file_extension": ".py",
   "mimetype": "text/x-python",
   "name": "python",
   "nbconvert_exporter": "python",
   "pygments_lexer": "ipython3",
   "version": "3.6.9"
  },
  "widgets": {
   "application/vnd.jupyter.widget-state+json": {
    "226c76851c6448a5a446fe9ba766bd81": {
     "model_module": "@jupyter-widgets/controls",
     "model_name": "HBoxModel",
     "state": {
      "_dom_classes": [],
      "_model_module": "@jupyter-widgets/controls",
      "_model_module_version": "1.5.0",
      "_model_name": "HBoxModel",
      "_view_count": null,
      "_view_module": "@jupyter-widgets/controls",
      "_view_module_version": "1.5.0",
      "_view_name": "HBoxView",
      "box_style": "",
      "children": [
       "IPY_MODEL_b3edd2571ffd471793ba1411c6a5f161",
       "IPY_MODEL_98f3c9fe70d1458da2152d764f0684b0"
      ],
      "layout": "IPY_MODEL_6f97f5f48f5743909b6a8711a33861d9"
     }
    },
    "2733177a0e8749829a9624bca2f9c1e0": {
     "model_module": "@jupyter-widgets/controls",
     "model_name": "HBoxModel",
     "state": {
      "_dom_classes": [],
      "_model_module": "@jupyter-widgets/controls",
      "_model_module_version": "1.5.0",
      "_model_name": "HBoxModel",
      "_view_count": null,
      "_view_module": "@jupyter-widgets/controls",
      "_view_module_version": "1.5.0",
      "_view_name": "HBoxView",
      "box_style": "",
      "children": [
       "IPY_MODEL_07dc6eb01ed8492b83abf12287e8808d",
       "IPY_MODEL_a182c6f857de433eada3d432febdc14d"
      ],
      "layout": "IPY_MODEL_8ee3cde6457e407ba32c5fc2a49079d6"
     }
    },
    "34a90482623e4976826762aa166719b4": {
     "model_module": "@jupyter-widgets/controls",
     "model_name": "HBoxModel",
     "state": {
      "_dom_classes": [],
      "_model_module": "@jupyter-widgets/controls",
      "_model_module_version": "1.5.0",
      "_model_name": "HBoxModel",
      "_view_count": null,
      "_view_module": "@jupyter-widgets/controls",
      "_view_module_version": "1.5.0",
      "_view_name": "HBoxView",
      "box_style": "",
      "children": [
       "IPY_MODEL_263ce7f42d1a42a3a2c7b0ae70ece16d",
       "IPY_MODEL_48953d88e0aa41c4bfceb314c2c1f6ba"
      ],
      "layout": "IPY_MODEL_99cf45c650c74431a7b7d9aad05dbca6"
     }
    },
    "35183978a5d34d1294a9e864276da106": {
     "model_module": "@jupyter-widgets/controls",
     "model_name": "HBoxModel",
     "state": {
      "_dom_classes": [],
      "_model_module": "@jupyter-widgets/controls",
      "_model_module_version": "1.5.0",
      "_model_name": "HBoxModel",
      "_view_count": null,
      "_view_module": "@jupyter-widgets/controls",
      "_view_module_version": "1.5.0",
      "_view_name": "HBoxView",
      "box_style": "",
      "children": [
       "IPY_MODEL_57104b807af14af1bf8289bd83b3d3b6",
       "IPY_MODEL_6a8d449a19c14e92927640b41c3774e4"
      ],
      "layout": "IPY_MODEL_a7f35e1964b644f5ab47fc2366c5bb93"
     }
    },
    "48bb384cc0e44ab3ab996b8534d31140": {
     "model_module": "@jupyter-widgets/controls",
     "model_name": "HBoxModel",
     "state": {
      "_dom_classes": [],
      "_model_module": "@jupyter-widgets/controls",
      "_model_module_version": "1.5.0",
      "_model_name": "HBoxModel",
      "_view_count": null,
      "_view_module": "@jupyter-widgets/controls",
      "_view_module_version": "1.5.0",
      "_view_name": "HBoxView",
      "box_style": "",
      "children": [
       "IPY_MODEL_950964ef0a5344828884f6702a5b965d",
       "IPY_MODEL_a7520f4f7cee4980875917453efbc7f2"
      ],
      "layout": "IPY_MODEL_66f3c77ff2264c2db9eeb327066bd312"
     }
    },
    "498199da5f45454784c27bc1e491d08b": {
     "model_module": "@jupyter-widgets/controls",
     "model_name": "HBoxModel",
     "state": {
      "_dom_classes": [],
      "_model_module": "@jupyter-widgets/controls",
      "_model_module_version": "1.5.0",
      "_model_name": "HBoxModel",
      "_view_count": null,
      "_view_module": "@jupyter-widgets/controls",
      "_view_module_version": "1.5.0",
      "_view_name": "HBoxView",
      "box_style": "",
      "children": [
       "IPY_MODEL_daa7a52413f14707a7caa97b109e3824",
       "IPY_MODEL_839eb9ac1b2e47d592765c7297479e1e"
      ],
      "layout": "IPY_MODEL_b55e94f45dc2440eb7219097f87226bf"
     }
    },
    "a34800d8ad94417b92531b7895de8342": {
     "model_module": "@jupyter-widgets/controls",
     "model_name": "HBoxModel",
     "state": {
      "_dom_classes": [],
      "_model_module": "@jupyter-widgets/controls",
      "_model_module_version": "1.5.0",
      "_model_name": "HBoxModel",
      "_view_count": null,
      "_view_module": "@jupyter-widgets/controls",
      "_view_module_version": "1.5.0",
      "_view_name": "HBoxView",
      "box_style": "",
      "children": [
       "IPY_MODEL_6d71af5816364b489a271f37fe196acb",
       "IPY_MODEL_934d51aaafbc4a978eeeba34f27d5f17"
      ],
      "layout": "IPY_MODEL_d1d4bfacdf664bcda800109cf410ae6e"
     }
    },
    "f58a8f6e70f84d65a3e0bf919b555aa9": {
     "model_module": "@jupyter-widgets/controls",
     "model_name": "HBoxModel",
     "state": {
      "_dom_classes": [],
      "_model_module": "@jupyter-widgets/controls",
      "_model_module_version": "1.5.0",
      "_model_name": "HBoxModel",
      "_view_count": null,
      "_view_module": "@jupyter-widgets/controls",
      "_view_module_version": "1.5.0",
      "_view_name": "HBoxView",
      "box_style": "",
      "children": [
       "IPY_MODEL_17462cdaeecb4cfebce7b17428a5f069",
       "IPY_MODEL_1bc67e93afc54540b14c63074af0c597"
      ],
      "layout": "IPY_MODEL_966a91ec3b6041779b793df6e910a346"
     }
    },
    "f8bc9690cf86417db12203fbc018edf3": {
     "model_module": "@jupyter-widgets/controls",
     "model_name": "HBoxModel",
     "state": {
      "_dom_classes": [],
      "_model_module": "@jupyter-widgets/controls",
      "_model_module_version": "1.5.0",
      "_model_name": "HBoxModel",
      "_view_count": null,
      "_view_module": "@jupyter-widgets/controls",
      "_view_module_version": "1.5.0",
      "_view_name": "HBoxView",
      "box_style": "",
      "children": [
       "IPY_MODEL_5e7ec27cb23a4147be0aae4f63f506d5",
       "IPY_MODEL_e2780107a3414d1c8f39f131e10768b8"
      ],
      "layout": "IPY_MODEL_a1364dada0de4114ac08c2239de17335"
     }
    }
   }
  }
 },
 "nbformat": 4,
 "nbformat_minor": 1
}
