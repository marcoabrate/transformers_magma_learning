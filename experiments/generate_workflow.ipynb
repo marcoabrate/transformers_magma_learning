{
 "cells": [
  {
   "cell_type": "markdown",
   "metadata": {
    "id": "bKGjv_HdkpZg"
   },
   "source": [
    "### Init"
   ]
  },
  {
   "cell_type": "code",
   "execution_count": 1,
   "metadata": {
    "executionInfo": {
     "elapsed": 6979,
     "status": "ok",
     "timestamp": 1608633315810,
     "user": {
      "displayName": "Marco Pietro Abrate",
      "photoUrl": "https://lh3.googleusercontent.com/a-/AOh14Gjh-8YF-8BlnrkN9mLZ0xfVOWfOh7kYncpYRv-Y=s64",
      "userId": "15422244832836998434"
     },
     "user_tz": -60
    },
    "id": "Y4p43BE9lcnz"
   },
   "outputs": [],
   "source": [
    "import torch\n",
    "from typing import Any, Dict, Iterable, List, Optional, Tuple"
   ]
  },
  {
   "cell_type": "code",
   "execution_count": 2,
   "metadata": {
    "executionInfo": {
     "elapsed": 5200,
     "status": "ok",
     "timestamp": 1608633315811,
     "user": {
      "displayName": "Marco Pietro Abrate",
      "photoUrl": "https://lh3.googleusercontent.com/a-/AOh14Gjh-8YF-8BlnrkN9mLZ0xfVOWfOh7kYncpYRv-Y=s64",
      "userId": "15422244832836998434"
     },
     "user_tz": -60
    },
    "id": "3MqOr7-hylCn"
   },
   "outputs": [],
   "source": [
    "SUMMARY_MIN_LEN = 5"
   ]
  },
  {
   "cell_type": "code",
   "execution_count": 3,
   "metadata": {
    "colab": {
     "base_uri": "https://localhost:8080/",
     "height": 86,
     "referenced_widgets": [
      "bdae220635ec4e9d8473e795cda95d63",
      "71f21b2701e149468e89b2dc33f85c7f",
      "6b76ac761a724cc8a8fb4cd107bb96cf",
      "28f7ebff8372412e885e8ea904f2615a"
     ]
    },
    "executionInfo": {
     "elapsed": 28122,
     "status": "ok",
     "timestamp": 1608633339450,
     "user": {
      "displayName": "Marco Pietro Abrate",
      "photoUrl": "https://lh3.googleusercontent.com/a-/AOh14Gjh-8YF-8BlnrkN9mLZ0xfVOWfOh7kYncpYRv-Y=s64",
      "userId": "15422244832836998434"
     },
     "user_tz": -60
    },
    "id": "FoNczOK8konJ",
    "outputId": "fcfc98e2-ebe7-4e45-c385-dbfc4d423932"
   },
   "outputs": [],
   "source": [
    "from transformers import BartForConditionalGeneration, BartTokenizer\n",
    "\n",
    "model = BartForConditionalGeneration.from_pretrained('facebook/bart-base')\n",
    "\n",
    "tokenizer = BartTokenizer.from_pretrained('facebook/bart-base')"
   ]
  },
  {
   "cell_type": "code",
   "execution_count": 4,
   "metadata": {
    "colab": {
     "base_uri": "https://localhost:8080/"
    },
    "executionInfo": {
     "elapsed": 27388,
     "status": "ok",
     "timestamp": 1608633339453,
     "user": {
      "displayName": "Marco Pietro Abrate",
      "photoUrl": "https://lh3.googleusercontent.com/a-/AOh14Gjh-8YF-8BlnrkN9mLZ0xfVOWfOh7kYncpYRv-Y=s64",
      "userId": "15422244832836998434"
     },
     "user_tz": -60
    },
    "id": "1oqoDWlilCbt",
    "outputId": "85626620-ea3d-4130-eb29-4218648ca93e"
   },
   "outputs": [
    {
     "data": {
      "text/plain": [
       "True"
      ]
     },
     "execution_count": 4,
     "metadata": {},
     "output_type": "execute_result"
    }
   ],
   "source": [
    "model.config.is_encoder_decoder"
   ]
  },
  {
   "cell_type": "code",
   "execution_count": 5,
   "metadata": {
    "colab": {
     "base_uri": "https://localhost:8080/"
    },
    "executionInfo": {
     "elapsed": 25823,
     "status": "ok",
     "timestamp": 1608633339456,
     "user": {
      "displayName": "Marco Pietro Abrate",
      "photoUrl": "https://lh3.googleusercontent.com/a-/AOh14Gjh-8YF-8BlnrkN9mLZ0xfVOWfOh7kYncpYRv-Y=s64",
      "userId": "15422244832836998434"
     },
     "user_tz": -60
    },
    "id": "yF286N1qlMZ2",
    "outputId": "f4fe2c75-600c-4e40-ae0e-fae4e6d17169"
   },
   "outputs": [
    {
     "name": "stdout",
     "output_type": "stream",
     "text": [
      "tensor([[    0,   100,   524, 10425,     8,    38,   524, 26038,     4,     2],\n",
      "        [    0,  9904,    24,    16,  1365,   328,     2,     1,     1,     1]])\n",
      "['<s>', 'I', 'Ġam', 'ĠMarco', 'Ġand', 'ĠI', 'Ġam', 'Ġexperimenting', '.', '</s>']\n",
      "['<s>', 'Yes', 'Ġit', 'Ġis', 'Ġeasy', '!', '</s>', '<pad>', '<pad>', '<pad>']\n"
     ]
    }
   ],
   "source": [
    "input_text = ['I am Marco and I am experimenting.', 'Yes it is easy!']\n",
    "input_ids = tokenizer.prepare_seq2seq_batch(input_text, return_tensors='pt')['input_ids']\n",
    "print(input_ids)\n",
    "print(tokenizer.convert_ids_to_tokens(input_ids[0]))\n",
    "print(tokenizer.convert_ids_to_tokens(input_ids[1]))"
   ]
  },
  {
   "cell_type": "code",
   "execution_count": 6,
   "metadata": {
    "colab": {
     "base_uri": "https://localhost:8080/"
    },
    "executionInfo": {
     "elapsed": 872,
     "status": "ok",
     "timestamp": 1608633408578,
     "user": {
      "displayName": "Marco Pietro Abrate",
      "photoUrl": "https://lh3.googleusercontent.com/a-/AOh14Gjh-8YF-8BlnrkN9mLZ0xfVOWfOh7kYncpYRv-Y=s64",
      "userId": "15422244832836998434"
     },
     "user_tz": -60
    },
    "id": "zs2HpZXRBNeg",
    "outputId": "5074a69f-4a01-4dff-abf3-68db92dc650d"
   },
   "outputs": [
    {
     "name": "stdout",
     "output_type": "stream",
     "text": [
      "tensor([[    0,   100,   524, 10425,     8,    38,   524, 26038,     4,     2]])\n",
      "['<s>', 'I', 'Ġam', 'ĠMarco', 'Ġand', 'ĠI', 'Ġam', 'Ġexperimenting', '.', '</s>']\n"
     ]
    }
   ],
   "source": [
    "input_text = 'I am Marco and I am experimenting.'\n",
    "input_ids = tokenizer.encode(input_text, return_tensors='pt')\n",
    "print(input_ids)\n",
    "print(tokenizer.convert_ids_to_tokens(input_ids[0]))"
   ]
  },
  {
   "cell_type": "markdown",
   "metadata": {
    "id": "0qUHY2K_1a5F"
   },
   "source": [
    "### prepare attention mask for encoder"
   ]
  },
  {
   "cell_type": "code",
   "execution_count": 7,
   "metadata": {
    "executionInfo": {
     "elapsed": 638,
     "status": "ok",
     "timestamp": 1608633426879,
     "user": {
      "displayName": "Marco Pietro Abrate",
      "photoUrl": "https://lh3.googleusercontent.com/a-/AOh14Gjh-8YF-8BlnrkN9mLZ0xfVOWfOh7kYncpYRv-Y=s64",
      "userId": "15422244832836998434"
     },
     "user_tz": -60
    },
    "id": "_96jIr4x1ZOQ"
   },
   "outputs": [],
   "source": [
    "def _prepare_attention_mask_for_generation(\n",
    "    input_ids: torch.Tensor, pad_token_id: int, eos_token_id: int\n",
    ") -> torch.LongTensor:\n",
    "    is_pad_token_in_inputs_ids = (pad_token_id is not None) and (pad_token_id in input_ids)\n",
    "    is_pad_token_not_equal_to_eos_token_id = (eos_token_id is None) or (\n",
    "        (eos_token_id is not None) and (pad_token_id != eos_token_id)\n",
    "    )\n",
    "    if is_pad_token_in_inputs_ids and is_pad_token_not_equal_to_eos_token_id:\n",
    "        return input_ids.ne(pad_token_id).long()\n",
    "    return input_ids.new_ones(input_ids.shape)"
   ]
  },
  {
   "cell_type": "code",
   "execution_count": 8,
   "metadata": {
    "executionInfo": {
     "elapsed": 837,
     "status": "ok",
     "timestamp": 1608633428575,
     "user": {
      "displayName": "Marco Pietro Abrate",
      "photoUrl": "https://lh3.googleusercontent.com/a-/AOh14Gjh-8YF-8BlnrkN9mLZ0xfVOWfOh7kYncpYRv-Y=s64",
      "userId": "15422244832836998434"
     },
     "user_tz": -60
    },
    "id": "rMbhWzgdlIDK"
   },
   "outputs": [],
   "source": [
    "attention_mask = _prepare_attention_mask_for_generation(\n",
    "    input_ids,\n",
    "    model.config.pad_token_id,\n",
    "    model.config.eos_token_id)"
   ]
  },
  {
   "cell_type": "code",
   "execution_count": 9,
   "metadata": {
    "colab": {
     "base_uri": "https://localhost:8080/"
    },
    "executionInfo": {
     "elapsed": 685,
     "status": "ok",
     "timestamp": 1608633429790,
     "user": {
      "displayName": "Marco Pietro Abrate",
      "photoUrl": "https://lh3.googleusercontent.com/a-/AOh14Gjh-8YF-8BlnrkN9mLZ0xfVOWfOh7kYncpYRv-Y=s64",
      "userId": "15422244832836998434"
     },
     "user_tz": -60
    },
    "id": "LRVjf7W9liqS",
    "outputId": "140b03ae-cfc1-4866-a390-838433a2f951"
   },
   "outputs": [
    {
     "name": "stdout",
     "output_type": "stream",
     "text": [
      "tensor([[    0,   100,   524, 10425,     8,    38,   524, 26038,     4,     2]])\n",
      "tensor([[1, 1, 1, 1, 1, 1, 1, 1, 1, 1]])\n"
     ]
    }
   ],
   "source": [
    "print(input_ids)\n",
    "print(attention_mask)"
   ]
  },
  {
   "cell_type": "markdown",
   "metadata": {
    "id": "GyivWlnA0T8N"
   },
   "source": [
    "### add encoder_outputs to model_kwargs"
   ]
  },
  {
   "cell_type": "code",
   "execution_count": 10,
   "metadata": {
    "executionInfo": {
     "elapsed": 760,
     "status": "ok",
     "timestamp": 1608633442512,
     "user": {
      "displayName": "Marco Pietro Abrate",
      "photoUrl": "https://lh3.googleusercontent.com/a-/AOh14Gjh-8YF-8BlnrkN9mLZ0xfVOWfOh7kYncpYRv-Y=s64",
      "userId": "15422244832836998434"
     },
     "user_tz": -60
    },
    "id": "j32KvjAO0O9h"
   },
   "outputs": [],
   "source": [
    "def _prepare_encoder_decoder_kwargs_for_generation(\n",
    "    input_ids: torch.LongTensor, model_kwargs\n",
    "):\n",
    "    # retrieve encoder hidden states\n",
    "    encoder = model.get_encoder()\n",
    "    encoder_kwargs = {\n",
    "        argument: value for argument, value in model_kwargs.items() if not argument.startswith(\"decoder_\")\n",
    "    }\n",
    "    encoder_outputs = encoder(input_ids, return_dict=True, **encoder_kwargs)\n",
    "    return encoder_outputs\n"
   ]
  },
  {
   "cell_type": "code",
   "execution_count": 11,
   "metadata": {
    "executionInfo": {
     "elapsed": 967,
     "status": "ok",
     "timestamp": 1608633442891,
     "user": {
      "displayName": "Marco Pietro Abrate",
      "photoUrl": "https://lh3.googleusercontent.com/a-/AOh14Gjh-8YF-8BlnrkN9mLZ0xfVOWfOh7kYncpYRv-Y=s64",
      "userId": "15422244832836998434"
     },
     "user_tz": -60
    },
    "id": "x0AE_z4qnLGB"
   },
   "outputs": [],
   "source": [
    "encoder_outputs = _prepare_encoder_decoder_kwargs_for_generation(\n",
    "    input_ids,\n",
    "    {})"
   ]
  },
  {
   "cell_type": "code",
   "execution_count": 12,
   "metadata": {
    "colab": {
     "base_uri": "https://localhost:8080/"
    },
    "executionInfo": {
     "elapsed": 398,
     "status": "ok",
     "timestamp": 1608633443799,
     "user": {
      "displayName": "Marco Pietro Abrate",
      "photoUrl": "https://lh3.googleusercontent.com/a-/AOh14Gjh-8YF-8BlnrkN9mLZ0xfVOWfOh7kYncpYRv-Y=s64",
      "userId": "15422244832836998434"
     },
     "user_tz": -60
    },
    "id": "tu1qi4iCnVtx",
    "outputId": "470b55c9-d037-4df2-be54-be3bedbdaea9"
   },
   "outputs": [
    {
     "name": "stdout",
     "output_type": "stream",
     "text": [
      "vocab size: 50265\n",
      "\n"
     ]
    },
    {
     "data": {
      "text/plain": [
       "BartEncoder(\n",
       "  (embed_tokens): Embedding(50265, 768, padding_idx=1)\n",
       "  (embed_positions): BartLearnedPositionalEmbedding(1026, 768, padding_idx=1)\n",
       "  (layers): ModuleList(\n",
       "    (0): BartEncoderLayer(\n",
       "      (self_attn): BartAttention(\n",
       "        (k_proj): Linear(in_features=768, out_features=768, bias=True)\n",
       "        (v_proj): Linear(in_features=768, out_features=768, bias=True)\n",
       "        (q_proj): Linear(in_features=768, out_features=768, bias=True)\n",
       "        (out_proj): Linear(in_features=768, out_features=768, bias=True)\n",
       "      )\n",
       "      (self_attn_layer_norm): LayerNorm((768,), eps=1e-05, elementwise_affine=True)\n",
       "      (fc1): Linear(in_features=768, out_features=3072, bias=True)\n",
       "      (fc2): Linear(in_features=3072, out_features=768, bias=True)\n",
       "      (final_layer_norm): LayerNorm((768,), eps=1e-05, elementwise_affine=True)\n",
       "    )\n",
       "    (1): BartEncoderLayer(\n",
       "      (self_attn): BartAttention(\n",
       "        (k_proj): Linear(in_features=768, out_features=768, bias=True)\n",
       "        (v_proj): Linear(in_features=768, out_features=768, bias=True)\n",
       "        (q_proj): Linear(in_features=768, out_features=768, bias=True)\n",
       "        (out_proj): Linear(in_features=768, out_features=768, bias=True)\n",
       "      )\n",
       "      (self_attn_layer_norm): LayerNorm((768,), eps=1e-05, elementwise_affine=True)\n",
       "      (fc1): Linear(in_features=768, out_features=3072, bias=True)\n",
       "      (fc2): Linear(in_features=3072, out_features=768, bias=True)\n",
       "      (final_layer_norm): LayerNorm((768,), eps=1e-05, elementwise_affine=True)\n",
       "    )\n",
       "    (2): BartEncoderLayer(\n",
       "      (self_attn): BartAttention(\n",
       "        (k_proj): Linear(in_features=768, out_features=768, bias=True)\n",
       "        (v_proj): Linear(in_features=768, out_features=768, bias=True)\n",
       "        (q_proj): Linear(in_features=768, out_features=768, bias=True)\n",
       "        (out_proj): Linear(in_features=768, out_features=768, bias=True)\n",
       "      )\n",
       "      (self_attn_layer_norm): LayerNorm((768,), eps=1e-05, elementwise_affine=True)\n",
       "      (fc1): Linear(in_features=768, out_features=3072, bias=True)\n",
       "      (fc2): Linear(in_features=3072, out_features=768, bias=True)\n",
       "      (final_layer_norm): LayerNorm((768,), eps=1e-05, elementwise_affine=True)\n",
       "    )\n",
       "    (3): BartEncoderLayer(\n",
       "      (self_attn): BartAttention(\n",
       "        (k_proj): Linear(in_features=768, out_features=768, bias=True)\n",
       "        (v_proj): Linear(in_features=768, out_features=768, bias=True)\n",
       "        (q_proj): Linear(in_features=768, out_features=768, bias=True)\n",
       "        (out_proj): Linear(in_features=768, out_features=768, bias=True)\n",
       "      )\n",
       "      (self_attn_layer_norm): LayerNorm((768,), eps=1e-05, elementwise_affine=True)\n",
       "      (fc1): Linear(in_features=768, out_features=3072, bias=True)\n",
       "      (fc2): Linear(in_features=3072, out_features=768, bias=True)\n",
       "      (final_layer_norm): LayerNorm((768,), eps=1e-05, elementwise_affine=True)\n",
       "    )\n",
       "    (4): BartEncoderLayer(\n",
       "      (self_attn): BartAttention(\n",
       "        (k_proj): Linear(in_features=768, out_features=768, bias=True)\n",
       "        (v_proj): Linear(in_features=768, out_features=768, bias=True)\n",
       "        (q_proj): Linear(in_features=768, out_features=768, bias=True)\n",
       "        (out_proj): Linear(in_features=768, out_features=768, bias=True)\n",
       "      )\n",
       "      (self_attn_layer_norm): LayerNorm((768,), eps=1e-05, elementwise_affine=True)\n",
       "      (fc1): Linear(in_features=768, out_features=3072, bias=True)\n",
       "      (fc2): Linear(in_features=3072, out_features=768, bias=True)\n",
       "      (final_layer_norm): LayerNorm((768,), eps=1e-05, elementwise_affine=True)\n",
       "    )\n",
       "    (5): BartEncoderLayer(\n",
       "      (self_attn): BartAttention(\n",
       "        (k_proj): Linear(in_features=768, out_features=768, bias=True)\n",
       "        (v_proj): Linear(in_features=768, out_features=768, bias=True)\n",
       "        (q_proj): Linear(in_features=768, out_features=768, bias=True)\n",
       "        (out_proj): Linear(in_features=768, out_features=768, bias=True)\n",
       "      )\n",
       "      (self_attn_layer_norm): LayerNorm((768,), eps=1e-05, elementwise_affine=True)\n",
       "      (fc1): Linear(in_features=768, out_features=3072, bias=True)\n",
       "      (fc2): Linear(in_features=3072, out_features=768, bias=True)\n",
       "      (final_layer_norm): LayerNorm((768,), eps=1e-05, elementwise_affine=True)\n",
       "    )\n",
       "  )\n",
       "  (layernorm_embedding): LayerNorm((768,), eps=1e-05, elementwise_affine=True)\n",
       ")"
      ]
     },
     "execution_count": 12,
     "metadata": {},
     "output_type": "execute_result"
    }
   ],
   "source": [
    "print('vocab size:', model.config.vocab_size)\n",
    "print()\n",
    "model.get_encoder()"
   ]
  },
  {
   "cell_type": "code",
   "execution_count": 13,
   "metadata": {
    "colab": {
     "base_uri": "https://localhost:8080/"
    },
    "executionInfo": {
     "elapsed": 599,
     "status": "ok",
     "timestamp": 1608633445020,
     "user": {
      "displayName": "Marco Pietro Abrate",
      "photoUrl": "https://lh3.googleusercontent.com/a-/AOh14Gjh-8YF-8BlnrkN9mLZ0xfVOWfOh7kYncpYRv-Y=s64",
      "userId": "15422244832836998434"
     },
     "user_tz": -60
    },
    "id": "aJWj2hkwnrkr",
    "outputId": "31c6fb51-5636-4857-fa57-0f6fd511b0ad"
   },
   "outputs": [
    {
     "name": "stdout",
     "output_type": "stream",
     "text": [
      "odict_keys(['last_hidden_state'])\n",
      "\n",
      "input_ids shape: torch.Size([1, 10])\n",
      "model dimension: 768\n",
      "encoder output shape: torch.Size([1, 10, 768])\n"
     ]
    }
   ],
   "source": [
    "print(encoder_outputs.keys())\n",
    "print()\n",
    "print('input_ids shape:',input_ids.size())\n",
    "print('model dimension:', model.config.d_model)\n",
    "print('encoder output shape:',encoder_outputs['last_hidden_state'].size())"
   ]
  },
  {
   "cell_type": "markdown",
   "metadata": {
    "id": "GQVUO0o70kfJ"
   },
   "source": [
    "### get decoder_input_ids"
   ]
  },
  {
   "cell_type": "code",
   "execution_count": 14,
   "metadata": {
    "executionInfo": {
     "elapsed": 809,
     "status": "ok",
     "timestamp": 1608633455684,
     "user": {
      "displayName": "Marco Pietro Abrate",
      "photoUrl": "https://lh3.googleusercontent.com/a-/AOh14Gjh-8YF-8BlnrkN9mLZ0xfVOWfOh7kYncpYRv-Y=s64",
      "userId": "15422244832836998434"
     },
     "user_tz": -60
    },
    "id": "dMdinQ3Zoh6r"
   },
   "outputs": [],
   "source": [
    "def _get_decoder_start_token_id(decoder_start_token_id: int = None, bos_token_id: int = None) -> int:\n",
    "    decoder_start_token_id = (\n",
    "        decoder_start_token_id if decoder_start_token_id is not None else model.config.decoder_start_token_id\n",
    "    )\n",
    "    bos_token_id = bos_token_id if bos_token_id is not None else model.config.bos_token_id\n",
    "\n",
    "    if decoder_start_token_id is not None:\n",
    "        return decoder_start_token_id\n",
    "    elif (\n",
    "        hasattr(model.config, \"decoder\")\n",
    "        and hasattr(model.config.decoder, \"decoder_start_token_id\")\n",
    "        and model.config.decoder.decoder_start_token_id is not None\n",
    "    ):\n",
    "        return model.config.decoder.decoder_start_token_id\n",
    "    elif bos_token_id is not None:\n",
    "        return bos_token_id\n",
    "    elif (\n",
    "        hasattr(model.config, \"decoder\")\n",
    "        and hasattr(model.config.decoder, \"bos_token_id\")\n",
    "        and model.config.decoder.bos_token_id is not None\n",
    "    ):\n",
    "        return model.config.decoder.bos_token_id\n",
    "    raise ValueError(\n",
    "        \"`decoder_start_token_id` or `bos_token_id` has to be defined for encoder-decoder generation.\"\n",
    "    )"
   ]
  },
  {
   "cell_type": "code",
   "execution_count": 15,
   "metadata": {
    "executionInfo": {
     "elapsed": 500,
     "status": "ok",
     "timestamp": 1608633456632,
     "user": {
      "displayName": "Marco Pietro Abrate",
      "photoUrl": "https://lh3.googleusercontent.com/a-/AOh14Gjh-8YF-8BlnrkN9mLZ0xfVOWfOh7kYncpYRv-Y=s64",
      "userId": "15422244832836998434"
     },
     "user_tz": -60
    },
    "id": "A_yOgy3k0i3M"
   },
   "outputs": [],
   "source": [
    "def _prepare_decoder_input_ids_for_generation(\n",
    "    input_ids: torch.LongTensor, decoder_start_token_id: int = None, bos_token_id: int = None\n",
    ") -> torch.LongTensor:\n",
    "\n",
    "    decoder_start_token_id = _get_decoder_start_token_id(decoder_start_token_id, bos_token_id)\n",
    "    decoder_input_ids = (\n",
    "        torch.ones((input_ids.shape[0], 1), dtype=input_ids.dtype, device=input_ids.device)\n",
    "        * decoder_start_token_id\n",
    "    )\n",
    "    return decoder_input_ids"
   ]
  },
  {
   "cell_type": "code",
   "execution_count": 16,
   "metadata": {
    "executionInfo": {
     "elapsed": 778,
     "status": "ok",
     "timestamp": 1608633458769,
     "user": {
      "displayName": "Marco Pietro Abrate",
      "photoUrl": "https://lh3.googleusercontent.com/a-/AOh14Gjh-8YF-8BlnrkN9mLZ0xfVOWfOh7kYncpYRv-Y=s64",
      "userId": "15422244832836998434"
     },
     "user_tz": -60
    },
    "id": "lIeM0tu10zvj"
   },
   "outputs": [],
   "source": [
    "decoder_input_ids = _prepare_decoder_input_ids_for_generation(\n",
    "    input_ids,\n",
    "    None,\n",
    "    model.config.bos_token_id)"
   ]
  },
  {
   "cell_type": "code",
   "execution_count": 17,
   "metadata": {
    "colab": {
     "base_uri": "https://localhost:8080/"
    },
    "executionInfo": {
     "elapsed": 945,
     "status": "ok",
     "timestamp": 1608633889872,
     "user": {
      "displayName": "Marco Pietro Abrate",
      "photoUrl": "https://lh3.googleusercontent.com/a-/AOh14Gjh-8YF-8BlnrkN9mLZ0xfVOWfOh7kYncpYRv-Y=s64",
      "userId": "15422244832836998434"
     },
     "user_tz": -60
    },
    "id": "12Hm__joDSSQ",
    "outputId": "30f2ad3c-8524-4f34-fdcd-7ff55285ae91"
   },
   "outputs": [
    {
     "data": {
      "text/plain": [
       "tensor([[    0,   100,   524, 10425,     8,    38,   524, 26038,     4,     2]])"
      ]
     },
     "execution_count": 17,
     "metadata": {},
     "output_type": "execute_result"
    }
   ],
   "source": [
    "input_ids"
   ]
  },
  {
   "cell_type": "code",
   "execution_count": 18,
   "metadata": {
    "colab": {
     "base_uri": "https://localhost:8080/"
    },
    "executionInfo": {
     "elapsed": 752,
     "status": "ok",
     "timestamp": 1608633461943,
     "user": {
      "displayName": "Marco Pietro Abrate",
      "photoUrl": "https://lh3.googleusercontent.com/a-/AOh14Gjh-8YF-8BlnrkN9mLZ0xfVOWfOh7kYncpYRv-Y=s64",
      "userId": "15422244832836998434"
     },
     "user_tz": -60
    },
    "id": "CwV8puCRo7qJ",
    "outputId": "d56caef9-7037-4d8b-a9ec-e5d82fa4f672"
   },
   "outputs": [
    {
     "name": "stdout",
     "output_type": "stream",
     "text": [
      "tensor([[2]])\n",
      "['</s>']\n"
     ]
    },
    {
     "data": {
      "text/plain": [
       "torch.Size([1, 1])"
      ]
     },
     "execution_count": 18,
     "metadata": {},
     "output_type": "execute_result"
    }
   ],
   "source": [
    "print(decoder_input_ids)\n",
    "print(tokenizer.convert_ids_to_tokens(decoder_input_ids))\n",
    "decoder_input_ids.size()"
   ]
  },
  {
   "cell_type": "code",
   "execution_count": null,
   "metadata": {
    "id": "Bco_slI8zxwh"
   },
   "outputs": [],
   "source": []
  },
  {
   "cell_type": "code",
   "execution_count": null,
   "metadata": {},
   "outputs": [],
   "source": []
  }
 ],
 "metadata": {
  "colab": {
   "authorship_tag": "ABX9TyNUeddCmrtJ2LQMcXK9K2iV",
   "collapsed_sections": [
    "P95DxvqWi_2Y",
    "0qUHY2K_1a5F",
    "GyivWlnA0T8N"
   ],
   "name": "generate_workflow.ipynb",
   "provenance": []
  },
  "kernelspec": {
   "display_name": "Python 3",
   "language": "python",
   "name": "python3"
  },
  "language_info": {
   "codemirror_mode": {
    "name": "ipython",
    "version": 3
   },
   "file_extension": ".py",
   "mimetype": "text/x-python",
   "name": "python",
   "nbconvert_exporter": "python",
   "pygments_lexer": "ipython3",
   "version": "3.6.9"
  },
  "widgets": {
   "application/vnd.jupyter.widget-state+json": {
    "28f7ebff8372412e885e8ea904f2615a": {
     "model_module": "@jupyter-widgets/controls",
     "model_name": "HBoxModel",
     "state": {
      "_dom_classes": [],
      "_model_module": "@jupyter-widgets/controls",
      "_model_module_version": "1.5.0",
      "_model_name": "HBoxModel",
      "_view_count": null,
      "_view_module": "@jupyter-widgets/controls",
      "_view_module_version": "1.5.0",
      "_view_name": "HBoxView",
      "box_style": "",
      "children": [
       "IPY_MODEL_d6c73e6290e4407693afe9dcfabeb223",
       "IPY_MODEL_b49ec74795f844e98647afa600a4a7e4"
      ],
      "layout": "IPY_MODEL_a49d2227a6754693ba39907aab4a59ea"
     }
    },
    "6b76ac761a724cc8a8fb4cd107bb96cf": {
     "model_module": "@jupyter-widgets/controls",
     "model_name": "HBoxModel",
     "state": {
      "_dom_classes": [],
      "_model_module": "@jupyter-widgets/controls",
      "_model_module_version": "1.5.0",
      "_model_name": "HBoxModel",
      "_view_count": null,
      "_view_module": "@jupyter-widgets/controls",
      "_view_module_version": "1.5.0",
      "_view_name": "HBoxView",
      "box_style": "",
      "children": [
       "IPY_MODEL_44e27596f5434c9fb6cf1a85d32a6980",
       "IPY_MODEL_bcfe5d2ac9b74a2984493eebd0b021ce"
      ],
      "layout": "IPY_MODEL_4d321c4c9c704f349ee7f37d9f0492dd"
     }
    },
    "71f21b2701e149468e89b2dc33f85c7f": {
     "model_module": "@jupyter-widgets/controls",
     "model_name": "HBoxModel",
     "state": {
      "_dom_classes": [],
      "_model_module": "@jupyter-widgets/controls",
      "_model_module_version": "1.5.0",
      "_model_name": "HBoxModel",
      "_view_count": null,
      "_view_module": "@jupyter-widgets/controls",
      "_view_module_version": "1.5.0",
      "_view_name": "HBoxView",
      "box_style": "",
      "children": [
       "IPY_MODEL_b8c7a5d9de0d4a30b9c957ba167545d5",
       "IPY_MODEL_452ed651afba4ef5be1873bfa2d262c9"
      ],
      "layout": "IPY_MODEL_cdf5e1c5791647e880c662bb755d6441"
     }
    },
    "bdae220635ec4e9d8473e795cda95d63": {
     "model_module": "@jupyter-widgets/controls",
     "model_name": "HBoxModel",
     "state": {
      "_dom_classes": [],
      "_model_module": "@jupyter-widgets/controls",
      "_model_module_version": "1.5.0",
      "_model_name": "HBoxModel",
      "_view_count": null,
      "_view_module": "@jupyter-widgets/controls",
      "_view_module_version": "1.5.0",
      "_view_name": "HBoxView",
      "box_style": "",
      "children": [
       "IPY_MODEL_ed0ae037e3bd4f1a9684bf74c0d03ce7",
       "IPY_MODEL_90227da938a94774905bccfdab941547"
      ],
      "layout": "IPY_MODEL_a8dba83c5cc241819120216c02ed4a60"
     }
    }
   }
  }
 },
 "nbformat": 4,
 "nbformat_minor": 1
}
