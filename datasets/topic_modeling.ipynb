{
 "cells": [
  {
   "cell_type": "markdown",
   "metadata": {
    "id": "P95DxvqWi_2Y"
   },
   "source": [
    "#### For Colab"
   ]
  },
  {
   "cell_type": "code",
   "execution_count": 1,
   "metadata": {
    "colab": {
     "base_uri": "https://localhost:8080/",
     "height": 55
    },
    "executionInfo": {
     "elapsed": 667,
     "status": "ok",
     "timestamp": 1610359512662,
     "user": {
      "displayName": "Marco Pietro Abrate",
      "photoUrl": "https://lh3.googleusercontent.com/a-/AOh14Gjh-8YF-8BlnrkN9mLZ0xfVOWfOh7kYncpYRv-Y=s64",
      "userId": "15422244832836998434"
     },
     "user_tz": -60
    },
    "id": "GD_KFnI1H1ip",
    "outputId": "c915cca3-07f3-4184-b617-54ef33e7268d"
   },
   "outputs": [
    {
     "data": {
      "application/vnd.google.colaboratory.intrinsic+json": {
       "type": "string"
      },
      "text/plain": [
       "'\\nfunction ClickConnect(){\\n    console.log(\"Working\");\\n    document.querySelector(\"colab-toolbar-button\").click() \\n}\\nvar i = setInterval(ClickConnect, 900000)\\nclearInterval(i)\\n'"
      ]
     },
     "execution_count": 1,
     "metadata": {
      "tags": []
     },
     "output_type": "execute_result"
    }
   ],
   "source": [
    "\"\"\"\n",
    "function ClickConnect(){\n",
    "    console.log(\"Working\");\n",
    "    document.querySelector(\"colab-toolbar-button\").click() \n",
    "}\n",
    "var i = setInterval(ClickConnect, 900000)\n",
    "clearInterval(i)\n",
    "\"\"\""
   ]
  },
  {
   "cell_type": "code",
   "execution_count": 2,
   "metadata": {
    "colab": {
     "base_uri": "https://localhost:8080/"
    },
    "executionInfo": {
     "elapsed": 28843,
     "status": "ok",
     "timestamp": 1610359540848,
     "user": {
      "displayName": "Marco Pietro Abrate",
      "photoUrl": "https://lh3.googleusercontent.com/a-/AOh14Gjh-8YF-8BlnrkN9mLZ0xfVOWfOh7kYncpYRv-Y=s64",
      "userId": "15422244832836998434"
     },
     "user_tz": -60
    },
    "id": "RR-OcN_Wy1jE",
    "outputId": "d68f2e43-a1cb-4e0c-e2a1-33792bddbf22"
   },
   "outputs": [
    {
     "name": "stdout",
     "output_type": "stream",
     "text": [
      "Mounted at /content/drive\n"
     ]
    }
   ],
   "source": [
    "from google.colab import drive\n",
    "drive.mount('/content/drive')"
   ]
  },
  {
   "cell_type": "code",
   "execution_count": 3,
   "metadata": {
    "executionInfo": {
     "elapsed": 28839,
     "status": "ok",
     "timestamp": 1610359540851,
     "user": {
      "displayName": "Marco Pietro Abrate",
      "photoUrl": "https://lh3.googleusercontent.com/a-/AOh14Gjh-8YF-8BlnrkN9mLZ0xfVOWfOh7kYncpYRv-Y=s64",
      "userId": "15422244832836998434"
     },
     "user_tz": -60
    },
    "id": "au5Z9XQAC7C-"
   },
   "outputs": [],
   "source": [
    "drive_dir = '/content/drive/My Drive/MAGMA: Summarization/'"
   ]
  },
  {
   "cell_type": "markdown",
   "metadata": {
    "id": "Yib4JoG59ZhY"
   },
   "source": [
    "#### Install Libraries"
   ]
  },
  {
   "cell_type": "code",
   "execution_count": 4,
   "metadata": {
    "colab": {
     "base_uri": "https://localhost:8080/"
    },
    "executionInfo": {
     "elapsed": 58405,
     "status": "ok",
     "timestamp": 1610359570425,
     "user": {
      "displayName": "Marco Pietro Abrate",
      "photoUrl": "https://lh3.googleusercontent.com/a-/AOh14Gjh-8YF-8BlnrkN9mLZ0xfVOWfOh7kYncpYRv-Y=s64",
      "userId": "15422244832836998434"
     },
     "user_tz": -60
    },
    "id": "Ld3WDPaf9Saw",
    "outputId": "658f6f5c-8ce0-4fe4-8416-8bb50c97dd1b"
   },
   "outputs": [
    {
     "name": "stdout",
     "output_type": "stream",
     "text": [
      "Collecting transformers==4.1.1\n",
      "\u001b[?25l  Downloading https://files.pythonhosted.org/packages/50/0c/7d5950fcd80b029be0a8891727ba21e0cd27692c407c51261c3c921f6da3/transformers-4.1.1-py3-none-any.whl (1.5MB)\n",
      "\u001b[K     |████████████████████████████████| 1.5MB 9.3MB/s \n",
      "\u001b[?25hCollecting sacremoses\n",
      "\u001b[?25l  Downloading https://files.pythonhosted.org/packages/7d/34/09d19aff26edcc8eb2a01bed8e98f13a1537005d31e95233fd48216eed10/sacremoses-0.0.43.tar.gz (883kB)\n",
      "\u001b[K     |████████████████████████████████| 890kB 27.9MB/s \n",
      "\u001b[?25hRequirement already satisfied: requests in /usr/local/lib/python3.6/dist-packages (from transformers==4.1.1) (2.23.0)\n",
      "Collecting tokenizers==0.9.4\n",
      "\u001b[?25l  Downloading https://files.pythonhosted.org/packages/0f/1c/e789a8b12e28be5bc1ce2156cf87cb522b379be9cadc7ad8091a4cc107c4/tokenizers-0.9.4-cp36-cp36m-manylinux2010_x86_64.whl (2.9MB)\n",
      "\u001b[K     |████████████████████████████████| 2.9MB 21.4MB/s \n",
      "\u001b[?25hRequirement already satisfied: dataclasses; python_version < \"3.7\" in /usr/local/lib/python3.6/dist-packages (from transformers==4.1.1) (0.8)\n",
      "Requirement already satisfied: packaging in /usr/local/lib/python3.6/dist-packages (from transformers==4.1.1) (20.8)\n",
      "Requirement already satisfied: numpy in /usr/local/lib/python3.6/dist-packages (from transformers==4.1.1) (1.19.4)\n",
      "Requirement already satisfied: filelock in /usr/local/lib/python3.6/dist-packages (from transformers==4.1.1) (3.0.12)\n",
      "Requirement already satisfied: regex!=2019.12.17 in /usr/local/lib/python3.6/dist-packages (from transformers==4.1.1) (2019.12.20)\n",
      "Requirement already satisfied: tqdm>=4.27 in /usr/local/lib/python3.6/dist-packages (from transformers==4.1.1) (4.41.1)\n",
      "Requirement already satisfied: six in /usr/local/lib/python3.6/dist-packages (from sacremoses->transformers==4.1.1) (1.15.0)\n",
      "Requirement already satisfied: click in /usr/local/lib/python3.6/dist-packages (from sacremoses->transformers==4.1.1) (7.1.2)\n",
      "Requirement already satisfied: joblib in /usr/local/lib/python3.6/dist-packages (from sacremoses->transformers==4.1.1) (1.0.0)\n",
      "Requirement already satisfied: certifi>=2017.4.17 in /usr/local/lib/python3.6/dist-packages (from requests->transformers==4.1.1) (2020.12.5)\n",
      "Requirement already satisfied: chardet<4,>=3.0.2 in /usr/local/lib/python3.6/dist-packages (from requests->transformers==4.1.1) (3.0.4)\n",
      "Requirement already satisfied: idna<3,>=2.5 in /usr/local/lib/python3.6/dist-packages (from requests->transformers==4.1.1) (2.10)\n",
      "Requirement already satisfied: urllib3!=1.25.0,!=1.25.1,<1.26,>=1.21.1 in /usr/local/lib/python3.6/dist-packages (from requests->transformers==4.1.1) (1.24.3)\n",
      "Requirement already satisfied: pyparsing>=2.0.2 in /usr/local/lib/python3.6/dist-packages (from packaging->transformers==4.1.1) (2.4.7)\n",
      "Building wheels for collected packages: sacremoses\n",
      "  Building wheel for sacremoses (setup.py) ... \u001b[?25l\u001b[?25hdone\n",
      "  Created wheel for sacremoses: filename=sacremoses-0.0.43-cp36-none-any.whl size=893261 sha256=bb9bb3b6e0d25c1bd802d8f7cab31e6c30a6450382fe5367958f641bf01a18b2\n",
      "  Stored in directory: /root/.cache/pip/wheels/29/3c/fd/7ce5c3f0666dab31a50123635e6fb5e19ceb42ce38d4e58f45\n",
      "Successfully built sacremoses\n",
      "Installing collected packages: sacremoses, tokenizers, transformers\n",
      "Successfully installed sacremoses-0.0.43 tokenizers-0.9.4 transformers-4.1.1\n",
      "Collecting sentencepiece!=0.1.92\n",
      "\u001b[?25l  Downloading https://files.pythonhosted.org/packages/14/67/e42bd1181472c95c8cda79305df848264f2a7f62740995a46945d9797b67/sentencepiece-0.1.95-cp36-cp36m-manylinux2014_x86_64.whl (1.2MB)\n",
      "\u001b[K     |████████████████████████████████| 1.2MB 6.8MB/s \n",
      "\u001b[?25hInstalling collected packages: sentencepiece\n",
      "Successfully installed sentencepiece-0.1.95\n",
      "Collecting datasets\n",
      "\u001b[?25l  Downloading https://files.pythonhosted.org/packages/ee/78/5873ac1e27bf25a2cbf3447d6704edd3136b1b3ff0eb3bfab38a45d2a1ff/datasets-1.2.0-py3-none-any.whl (159kB)\n",
      "\u001b[K     |████████████████████████████████| 163kB 9.1MB/s \n",
      "\u001b[?25hCollecting xxhash\n",
      "\u001b[?25l  Downloading https://files.pythonhosted.org/packages/f7/73/826b19f3594756cb1c6c23d2fbd8ca6a77a9cd3b650c9dec5acc85004c38/xxhash-2.0.0-cp36-cp36m-manylinux2010_x86_64.whl (242kB)\n",
      "\u001b[K     |████████████████████████████████| 245kB 14.0MB/s \n",
      "\u001b[?25hRequirement already satisfied, skipping upgrade: dill in /usr/local/lib/python3.6/dist-packages (from datasets) (0.3.3)\n",
      "Requirement already satisfied, skipping upgrade: tqdm<4.50.0,>=4.27 in /usr/local/lib/python3.6/dist-packages (from datasets) (4.41.1)\n",
      "Requirement already satisfied, skipping upgrade: multiprocess in /usr/local/lib/python3.6/dist-packages (from datasets) (0.70.11.1)\n",
      "Requirement already satisfied, skipping upgrade: requests>=2.19.0 in /usr/local/lib/python3.6/dist-packages (from datasets) (2.23.0)\n",
      "Collecting pyarrow>=0.17.1\n",
      "\u001b[?25l  Downloading https://files.pythonhosted.org/packages/d7/e1/27958a70848f8f7089bff8d6ebe42519daf01f976d28b481e1bfd52c8097/pyarrow-2.0.0-cp36-cp36m-manylinux2014_x86_64.whl (17.7MB)\n",
      "\u001b[K     |████████████████████████████████| 17.7MB 248kB/s \n",
      "\u001b[?25hRequirement already satisfied, skipping upgrade: numpy>=1.17 in /usr/local/lib/python3.6/dist-packages (from datasets) (1.19.4)\n",
      "Requirement already satisfied, skipping upgrade: pandas in /usr/local/lib/python3.6/dist-packages (from datasets) (1.1.5)\n",
      "Requirement already satisfied, skipping upgrade: dataclasses; python_version < \"3.7\" in /usr/local/lib/python3.6/dist-packages (from datasets) (0.8)\n",
      "Requirement already satisfied, skipping upgrade: idna<3,>=2.5 in /usr/local/lib/python3.6/dist-packages (from requests>=2.19.0->datasets) (2.10)\n",
      "Requirement already satisfied, skipping upgrade: chardet<4,>=3.0.2 in /usr/local/lib/python3.6/dist-packages (from requests>=2.19.0->datasets) (3.0.4)\n",
      "Requirement already satisfied, skipping upgrade: urllib3!=1.25.0,!=1.25.1,<1.26,>=1.21.1 in /usr/local/lib/python3.6/dist-packages (from requests>=2.19.0->datasets) (1.24.3)\n",
      "Requirement already satisfied, skipping upgrade: certifi>=2017.4.17 in /usr/local/lib/python3.6/dist-packages (from requests>=2.19.0->datasets) (2020.12.5)\n",
      "Requirement already satisfied, skipping upgrade: python-dateutil>=2.7.3 in /usr/local/lib/python3.6/dist-packages (from pandas->datasets) (2.8.1)\n",
      "Requirement already satisfied, skipping upgrade: pytz>=2017.2 in /usr/local/lib/python3.6/dist-packages (from pandas->datasets) (2018.9)\n",
      "Requirement already satisfied, skipping upgrade: six>=1.5 in /usr/local/lib/python3.6/dist-packages (from python-dateutil>=2.7.3->pandas->datasets) (1.15.0)\n",
      "Installing collected packages: xxhash, pyarrow, datasets\n",
      "  Found existing installation: pyarrow 0.14.1\n",
      "    Uninstalling pyarrow-0.14.1:\n",
      "      Successfully uninstalled pyarrow-0.14.1\n",
      "Successfully installed datasets-1.2.0 pyarrow-2.0.0 xxhash-2.0.0\n",
      "Collecting rouge_score\n",
      "  Downloading https://files.pythonhosted.org/packages/1f/56/a81022436c08b9405a5247b71635394d44fe7e1dbedc4b28c740e09c2840/rouge_score-0.0.4-py2.py3-none-any.whl\n",
      "Requirement already satisfied: nltk in /usr/local/lib/python3.6/dist-packages (from rouge_score) (3.2.5)\n",
      "Requirement already satisfied: six>=1.14.0 in /usr/local/lib/python3.6/dist-packages (from rouge_score) (1.15.0)\n",
      "Requirement already satisfied: numpy in /usr/local/lib/python3.6/dist-packages (from rouge_score) (1.19.4)\n",
      "Requirement already satisfied: absl-py in /usr/local/lib/python3.6/dist-packages (from rouge_score) (0.10.0)\n",
      "Installing collected packages: rouge-score\n",
      "Successfully installed rouge-score-0.0.4\n",
      "Collecting gensim\n",
      "\u001b[?25l  Downloading https://files.pythonhosted.org/packages/2b/e0/fa6326251692056dc880a64eb22117e03269906ba55a6864864d24ec8b4e/gensim-3.8.3-cp36-cp36m-manylinux1_x86_64.whl (24.2MB)\n",
      "\u001b[K     |████████████████████████████████| 24.2MB 1.5MB/s \n",
      "\u001b[?25hRequirement already satisfied, skipping upgrade: scipy>=0.18.1 in /usr/local/lib/python3.6/dist-packages (from gensim) (1.4.1)\n",
      "Requirement already satisfied, skipping upgrade: six>=1.5.0 in /usr/local/lib/python3.6/dist-packages (from gensim) (1.15.0)\n",
      "Requirement already satisfied, skipping upgrade: numpy>=1.11.3 in /usr/local/lib/python3.6/dist-packages (from gensim) (1.19.4)\n",
      "Requirement already satisfied, skipping upgrade: smart-open>=1.8.1 in /usr/local/lib/python3.6/dist-packages (from gensim) (4.0.1)\n",
      "Installing collected packages: gensim\n",
      "  Found existing installation: gensim 3.6.0\n",
      "    Uninstalling gensim-3.6.0:\n",
      "      Successfully uninstalled gensim-3.6.0\n",
      "Successfully installed gensim-3.8.3\n"
     ]
    }
   ],
   "source": [
    "!pip install transformers==4.1.1\n",
    "!pip install -U sentencepiece!=0.1.92\n",
    "!pip install -U datasets\n",
    "!pip install rouge_score\n",
    "!pip install -U gensim"
   ]
  },
  {
   "cell_type": "markdown",
   "metadata": {
    "id": "S0FByNNOIRvG"
   },
   "source": [
    "### **Config**"
   ]
  },
  {
   "cell_type": "code",
   "execution_count": 5,
   "metadata": {
    "executionInfo": {
     "elapsed": 58788,
     "status": "ok",
     "timestamp": 1610359570812,
     "user": {
      "displayName": "Marco Pietro Abrate",
      "photoUrl": "https://lh3.googleusercontent.com/a-/AOh14Gjh-8YF-8BlnrkN9mLZ0xfVOWfOh7kYncpYRv-Y=s64",
      "userId": "15422244832836998434"
     },
     "user_tz": -60
    },
    "id": "TAoI-Sm37yuM"
   },
   "outputs": [],
   "source": [
    "import os\n",
    "import sys\n",
    "\n",
    "sys.path.insert(0, drive_dir)\n",
    "import config"
   ]
  },
  {
   "cell_type": "code",
   "execution_count": 6,
   "metadata": {
    "executionInfo": {
     "elapsed": 59486,
     "status": "ok",
     "timestamp": 1610359571513,
     "user": {
      "displayName": "Marco Pietro Abrate",
      "photoUrl": "https://lh3.googleusercontent.com/a-/AOh14Gjh-8YF-8BlnrkN9mLZ0xfVOWfOh7kYncpYRv-Y=s64",
      "userId": "15422244832836998434"
     },
     "user_tz": -60
    },
    "id": "82WSp6khIcua"
   },
   "outputs": [],
   "source": [
    "# General configurations\n",
    "\n",
    "MODEL = 'bart'\n",
    "\n",
    "RE_SPLITTER = '\\.(?!\\d)|\\n'     # do we split sentences of paragraphs?\n",
    "                                # use '\\.|\\n' or '\\n', respectively\n",
    "\n",
    "TOKEN_MAX_LEN = 99              # max length of a word\n",
    "PARA_MIN_LENGTH = 2             # minimum length for a sentence or\n",
    "                                # a paragraph, in tokens\n",
    "                                \n",
    "# Output path\n",
    "OUTPUT_PATH = drive_dir+'datasets/karger_books_topic_modeling/'+MODEL+'/'\n",
    "if not os.path.exists(OUTPUT_PATH):\n",
    "    os.makedirs(OUTPUT_PATH)"
   ]
  },
  {
   "cell_type": "code",
   "execution_count": 7,
   "metadata": {
    "executionInfo": {
     "elapsed": 59489,
     "status": "ok",
     "timestamp": 1610359571520,
     "user": {
      "displayName": "Marco Pietro Abrate",
      "photoUrl": "https://lh3.googleusercontent.com/a-/AOh14Gjh-8YF-8BlnrkN9mLZ0xfVOWfOh7kYncpYRv-Y=s64",
      "userId": "15422244832836998434"
     },
     "user_tz": -60
    },
    "id": "KJMpUw0Wl8NH"
   },
   "outputs": [],
   "source": [
    "# Topic modeling specific configurations\n",
    "\n",
    "REDUCTION_MAX_LEN = 1024        # maximum length of the LDA/LSI/TextRank reduction\n",
    "\n",
    "STOPWORDS_EXTENSION =\\\n",
    "    ['may', 'might',\n",
    "     'also', 'with',\n",
    "     'without', 'use',\n",
    "     'uses', 'used', 'using']\n",
    "\n",
    "STEMMER = 'snowball'            # name of the stemmer, might use 'porter'\n",
    "\n",
    "N_GRAM = 2                      # the length of n-gram we want to create\n",
    "N_GRAM_MIN_COUNT = 2            # there should be at least N_GRAM_MIN_COUNT\n",
    "                                # repetitions in the text\n",
    "N_GRAM_THRESHOLD = 20           # see gensim.Phrases documentation\n",
    "\n",
    "DIC_NO_BELOW = 3                # keep tokens present in DIC_NO_BELOW+ sentences/paragraphs\n",
    "DIC_NO_ABOVE = 1                # fraction of total corpus size (default: 1)\n",
    "\n",
    "TOP_N = 30                      # number of words to keep for each topic"
   ]
  },
  {
   "cell_type": "markdown",
   "metadata": {
    "id": "tb7fAfzaK4es"
   },
   "source": [
    "### **Init**"
   ]
  },
  {
   "cell_type": "code",
   "execution_count": 8,
   "metadata": {
    "colab": {
     "base_uri": "https://localhost:8080/",
     "height": 0,
     "referenced_widgets": [
      "3a0917c309734495885543d54e7bd8c2",
      "7aa26b43182d43058c2a04e7cec5cf71"
     ]
    },
    "executionInfo": {
     "elapsed": 66395,
     "status": "ok",
     "timestamp": 1610359578432,
     "user": {
      "displayName": "Marco Pietro Abrate",
      "photoUrl": "https://lh3.googleusercontent.com/a-/AOh14Gjh-8YF-8BlnrkN9mLZ0xfVOWfOh7kYncpYRv-Y=s64",
      "userId": "15422244832836998434"
     },
     "user_tz": -60
    },
    "id": "wvbMlPBxk45S",
    "outputId": "b4ac510d-34d9-4940-fa2c-38bdf017e9bd"
   },
   "outputs": [
    {
     "data": {
      "application/vnd.jupyter.widget-view+json": {
       "model_id": "3a0917c309734495885543d54e7bd8c2",
       "version_major": 2,
       "version_minor": 0
      },
      "text/plain": [
       "HBox(children=(FloatProgress(value=0.0, description='Downloading', max=898823.0, style=ProgressStyle(descripti…"
      ]
     },
     "metadata": {
      "tags": []
     },
     "output_type": "display_data"
    },
    {
     "name": "stdout",
     "output_type": "stream",
     "text": [
      "\n"
     ]
    },
    {
     "data": {
      "application/vnd.jupyter.widget-view+json": {
       "model_id": "7aa26b43182d43058c2a04e7cec5cf71",
       "version_major": 2,
       "version_minor": 0
      },
      "text/plain": [
       "HBox(children=(FloatProgress(value=0.0, description='Downloading', max=456318.0, style=ProgressStyle(descripti…"
      ]
     },
     "metadata": {
      "tags": []
     },
     "output_type": "display_data"
    },
    {
     "name": "stdout",
     "output_type": "stream",
     "text": [
      "\n"
     ]
    }
   ],
   "source": [
    "import matplotlib.pyplot as plt\n",
    "import numpy as np\n",
    "import torch\n",
    "import re\n",
    "import pandas as pd\n",
    "import gensim\n",
    "from tqdm import tqdm\n",
    "\n",
    "if 'pegasus' in MODEL:\n",
    "    from transformers import PegasusTokenizer\n",
    "    tokenizer =\\\n",
    "        PegasusTokenizer.from_pretrained('google/pegasus-large')\n",
    "elif 'bart' in MODEL:\n",
    "    from transformers import BartTokenizer\n",
    "    tokenizer =\\\n",
    "        BartTokenizer.from_pretrained('facebook/bart-large-cnn')"
   ]
  },
  {
   "cell_type": "markdown",
   "metadata": {
    "id": "JFd0ppeJyX1o"
   },
   "source": [
    "### **Karger Books Base Dataset**"
   ]
  },
  {
   "cell_type": "code",
   "execution_count": null,
   "metadata": {
    "id": "Z0lbkScg0a7j"
   },
   "outputs": [],
   "source": [
    "base_dataset = drive_dir+'datasets/karger_books_base/df.csv'\n",
    "df = pd.read_csv(base_dataset)\n",
    "df = df.set_index(['book', 'chapter', 'section', 'subsection'])\n",
    "df.bullets = df.bullets.map(eval, na_action='ignore')"
   ]
  },
  {
   "cell_type": "markdown",
   "metadata": {
    "id": "vb_MdivVauzb"
   },
   "source": [
    "## **Topic modeling**"
   ]
  },
  {
   "cell_type": "markdown",
   "metadata": {
    "id": "SSd3WuiICKfQ"
   },
   "source": [
    "### **Preprocessing**"
   ]
  },
  {
   "cell_type": "markdown",
   "metadata": {
    "id": "8fXJEMYaCKfn"
   },
   "source": [
    "#### Preprocessing\n",
    "\n",
    "* Split based on RE_SPLITTER\n",
    "* Explode the dataset\n",
    "* Remove unwanted chars at beginning or end of sentence\n",
    "* Remove multiple spaces\n",
    "* Remove long words (> TOKEN_MAX_LEN chars)\n",
    "* Remove short sentences / paragraphs (< PARA_MIN_LENGTH tokens)"
   ]
  },
  {
   "cell_type": "code",
   "execution_count": null,
   "metadata": {
    "id": "aaYoqzcyCKfp"
   },
   "outputs": [],
   "source": [
    "# Split in sentences / paragraphs based on RE_SPLITTER\n",
    "df.text =\\\n",
    "    df.text.map(lambda x: [p.strip() for p in re.split(RE_SPLITTER, x) if p!=''],\n",
    "                na_action='ignore')\n",
    "    \n",
    "# explode to get one row for each paragraph /sentence\n",
    "df = df.explode('text')\n",
    "df = df.rename(columns={'text': 'para'})\n",
    "df = df.dropna()\n",
    "\n",
    "# Remove unwanted chars at beginning or end of sentence\n",
    "df.para = df.para.map(lambda p: p.lstrip('.,;:-)] \\n'))\n",
    "df.para = df.para.map(lambda p: p.rstrip('.,;:-([ \\n'))\n",
    "\n",
    "# Remove multiple spaces\n",
    "df.para = df.para.map(lambda p:\n",
    "    re.sub('\\s+', ' ', p).strip())\n",
    "\n",
    "# Remove long words (> TOKEN_MAX_LEN chars)\n",
    "def para2words(para):\n",
    "    return gensim.utils.simple_preprocess(\n",
    "        para, deacc=True, max_len=TOKEN_MAX_LEN)\n",
    "df['para_proc'] = df.para.map(para2words)\n",
    "\n",
    "# Remove short sentences / paragraphs (< PARA_MIN_LENGTH tokens)\n",
    "df.loc[df.para_proc.map(len) <\\\n",
    "    PARA_MIN_LENGTH, 'para_proc'] = np.nan\n",
    "\n",
    "df = df.dropna()"
   ]
  },
  {
   "cell_type": "markdown",
   "metadata": {
    "id": "UpaitY9dlTM5"
   },
   "source": [
    "### **Topic modeling**"
   ]
  },
  {
   "cell_type": "markdown",
   "metadata": {
    "id": "z1by1i56qQ0q"
   },
   "source": [
    "#### Further Preprocessing\n",
    "\n",
    "* Remove stop words\n",
    "* Stem\n",
    "* Create n-grams (N_GRAM)"
   ]
  },
  {
   "cell_type": "code",
   "execution_count": null,
   "metadata": {
    "colab": {
     "base_uri": "https://localhost:8080/"
    },
    "executionInfo": {
     "elapsed": 1436,
     "status": "ok",
     "timestamp": 1610110838205,
     "user": {
      "displayName": "Marco Pietro Abrate",
      "photoUrl": "https://lh3.googleusercontent.com/a-/AOh14Gjh-8YF-8BlnrkN9mLZ0xfVOWfOh7kYncpYRv-Y=s64",
      "userId": "15422244832836998434"
     },
     "user_tz": -60
    },
    "id": "gSD0zPnOqnMe",
    "outputId": "02ba8fbf-52e4-4145-846e-77b40cea98ea"
   },
   "outputs": [
    {
     "name": "stdout",
     "output_type": "stream",
     "text": [
      "[nltk_data] Downloading package stopwords to /root/nltk_data...\n",
      "[nltk_data]   Unzipping corpora/stopwords.zip.\n"
     ]
    }
   ],
   "source": [
    "import nltk\n",
    "nltk.download('stopwords')\n",
    "\n",
    "from nltk.corpus import stopwords\n",
    "stop_words = stopwords.words('english')"
   ]
  },
  {
   "cell_type": "code",
   "execution_count": null,
   "metadata": {
    "id": "a0ZI3iGZqQ1O"
   },
   "outputs": [],
   "source": [
    "# Remove stop words\n",
    "stop_words.extend(STOPWORDS_EXTENSION)\n",
    "df.para_proc = df.para_proc.map(lambda x:\n",
    "    [w for w in x if w not in stop_words])"
   ]
  },
  {
   "cell_type": "code",
   "execution_count": null,
   "metadata": {
    "id": "gKBuLTt5qQ1Z"
   },
   "outputs": [],
   "source": [
    "# Stem\n",
    "if 'port' in STEMMER:\n",
    "    from nltk.stem.porter import PorterStemmer\n",
    "    st = PorterStemmer()\n",
    "elif 'snow' in STEMMER:\n",
    "    from nltk.stem.snowball import SnowballStemmer\n",
    "    st = SnowballStemmer('english')\n",
    "\n",
    "df.para_proc = df.para_proc.map(lambda p:\n",
    "    [st.stem(w) for w in p], na_action='ignore')"
   ]
  },
  {
   "cell_type": "code",
   "execution_count": null,
   "metadata": {
    "id": "QHKOznWOqQ1i"
   },
   "outputs": [],
   "source": [
    "# Create n-grams (N_GRAM)\n",
    "data_words = df.para_proc.dropna().values.tolist()\n",
    "\n",
    "if N_GRAM == 2:\n",
    "    bigram = gensim.models.Phrases(\n",
    "        data_words,\n",
    "        min_count=N_GRAM_MIN_COUNT,\n",
    "        threshold=N_GRAM_THRESHOLD)\n",
    "\n",
    "    df.para_proc = df.para_proc.map(lambda p:\n",
    "        [b for b in bigram[p]], na_action='ignore')\n",
    "    \n",
    "elif N_GRAM == 3:\n",
    "    trigram = gensim.models.Phrases(\n",
    "        bigram[data_words],\n",
    "        min_count=N_GRAM_MIN_COUNT,\n",
    "        threshold=N_GRAM_THRESHOLD)\n",
    "    \n",
    "    df.para_proc = df.para_proc.map(lambda p:\n",
    "        [b for b in trigram[bigram[p]]], na_action='ignore')"
   ]
  },
  {
   "cell_type": "markdown",
   "metadata": {
    "id": "UMPw10hNljZ1"
   },
   "source": [
    "#### Dictionary (DIC_NO_BELOW, DIC_NO_ABOVE)"
   ]
  },
  {
   "cell_type": "code",
   "execution_count": null,
   "metadata": {
    "colab": {
     "base_uri": "https://localhost:8080/"
    },
    "executionInfo": {
     "elapsed": 14060,
     "status": "ok",
     "timestamp": 1610110852799,
     "user": {
      "displayName": "Marco Pietro Abrate",
      "photoUrl": "https://lh3.googleusercontent.com/a-/AOh14Gjh-8YF-8BlnrkN9mLZ0xfVOWfOh7kYncpYRv-Y=s64",
      "userId": "15422244832836998434"
     },
     "user_tz": -60
    },
    "id": "OaMCDRcNlW9M",
    "outputId": "3f9bb004-e958-42d8-9970-b2ac462fa6f4"
   },
   "outputs": [
    {
     "name": "stderr",
     "output_type": "stream",
     "text": [
      "/usr/local/lib/python3.6/dist-packages/ipykernel_launcher.py:11: PerformanceWarning: indexing past lexsort depth may impact performance.\n",
      "  # This is added back by InteractiveShellApp.init_path()\n"
     ]
    }
   ],
   "source": [
    "# Create dictionary for topic model (DIC_NO_BELOW, DIC_NO_ABOVE)\n",
    "book_ch_comb = set(zip(df.index.get_level_values(0),\n",
    "    df.index.get_level_values(1)))\n",
    "\n",
    "id2word = {}\n",
    "for book, ch in book_ch_comb:\n",
    "    if book not in id2word:\n",
    "        id2word[book] = {}\n",
    "\n",
    "    id2word[book][ch] = gensim.corpora.Dictionary(\n",
    "        df.loc[book, ch].para_proc.dropna().values.tolist() )\n",
    "\n",
    "    id2word[book][ch].filter_extremes(\n",
    "        no_below = DIC_NO_BELOW, no_above = DIC_NO_ABOVE)"
   ]
  },
  {
   "cell_type": "markdown",
   "metadata": {
    "id": "WhO2hirsvrcc"
   },
   "source": [
    "#### LDA\n",
    "\n",
    "https://radimrehurek.com/gensim_3.8.3/models/ldamodel.html\n",
    "\n",
    "https://www.di.ens.fr/~fbach/mdhnips2010.pdf\n",
    "\n",
    "Keep N_TOP words."
   ]
  },
  {
   "cell_type": "code",
   "execution_count": null,
   "metadata": {
    "id": "R1QAj1x72aqb"
   },
   "outputs": [],
   "source": [
    "%%capture\n",
    "def get_lda_model(df, book, ch):\n",
    "    corpus = df.loc[book, ch].para_proc.map(id2word[book][ch].doc2bow,\n",
    "        na_action='ignore').dropna().values.tolist()\n",
    "\n",
    "    return gensim.models.ldamodel.LdaModel(\n",
    "        corpus = corpus,\n",
    "        num_topics = 1,\n",
    "        id2word = id2word[book][ch],\n",
    "        alpha = 'auto',\n",
    "        random_state = config.SEED)\n",
    "\n",
    "lda_word2prob = {}\n",
    "for book, ch in book_ch_comb:       \n",
    "    if book not in lda_word2prob:\n",
    "        lda_word2prob[book] = {}\n",
    "\n",
    "    lda_word2prob[book][ch] = dict(\\\n",
    "        get_lda_model(df, book, ch).show_topic(0, TOP_N))"
   ]
  },
  {
   "cell_type": "markdown",
   "metadata": {
    "id": "W4K-CTF-vtha"
   },
   "source": [
    "#### TF-IDF | LSI (SVD) model\n",
    "\n",
    "https://radimrehurek.com/gensim_3.8.3/models/tfidfmodel.html\n",
    "\n",
    "https://en.wikipedia.org/wiki/Latent_semantic_analysis#Latent_semantic_indexing\n",
    "\n",
    "Keep N_TOP words."
   ]
  },
  {
   "cell_type": "code",
   "execution_count": null,
   "metadata": {
    "id": "zjVwIDYInjdE"
   },
   "outputs": [],
   "source": [
    "%%capture\n",
    "def get_lsi_model(df, book, ch):\n",
    "    corpus = df.loc[book, ch].para_proc.map(id2word[book][ch].doc2bow,\n",
    "        na_action='ignore').dropna().values.tolist()\n",
    "\n",
    "    tfidf_model = gensim.models.TfidfModel(\n",
    "        corpus = corpus,\n",
    "        id2word = id2word[book][ch])\n",
    "    tfidf_corpus = tfidf_model[corpus]\n",
    "\n",
    "    return gensim.models.LsiModel(\n",
    "        corpus = tfidf_corpus,\n",
    "        num_topics = 1,\n",
    "        id2word = id2word[book][ch])    \n",
    "\n",
    "lsi_word2prob = {}\n",
    "for book, ch in book_ch_comb:\n",
    "    if book not in lsi_word2prob:\n",
    "        lsi_word2prob[book] = {}\n",
    "\n",
    "    lsi_word2prob[book][ch] = dict(\\\n",
    "        get_lsi_model(df, book, ch).show_topic(0, TOP_N))"
   ]
  },
  {
   "cell_type": "markdown",
   "metadata": {
    "id": "IeDlmvn43RsI"
   },
   "source": [
    "### **Paragraph importance**\n",
    "\n",
    "\\begin{equation}\n",
    "\\text{importance}(p) = \\frac{\\sum_{w \\in p} \\text{probability}(w)}{\\sqrt{\\text{length}(p)}}\\quad\\quad\\text{what about}\\quad\\frac{\\sum_{w \\in p} \\text{probability}(w)}{log(\\text{length}(p))}\\quad?\n",
    "\\end{equation}\n",
    "\n",
    "Where $p$ is a paragraph or a sentence, $w$ is a word (token) and $\\text{probability}$ is the probability assigned by LDA or LSI model to $w$ (0 if it is not present in the TOP_N words)."
   ]
  },
  {
   "cell_type": "code",
   "execution_count": null,
   "metadata": {
    "colab": {
     "base_uri": "https://localhost:8080/"
    },
    "executionInfo": {
     "elapsed": 42565,
     "status": "ok",
     "timestamp": 1610110906175,
     "user": {
      "displayName": "Marco Pietro Abrate",
      "photoUrl": "https://lh3.googleusercontent.com/a-/AOh14Gjh-8YF-8BlnrkN9mLZ0xfVOWfOh7kYncpYRv-Y=s64",
      "userId": "15422244832836998434"
     },
     "user_tz": -60
    },
    "id": "EnODsA484Zrr",
    "outputId": "0f9dbf85-cbb8-4e7b-a70b-07e3ec9fda5c"
   },
   "outputs": [
    {
     "name": "stderr",
     "output_type": "stream",
     "text": [
      "/usr/local/lib/python3.6/dist-packages/ipykernel_launcher.py:6: RuntimeWarning: invalid value encountered in double_scalars\n",
      "  \n"
     ]
    }
   ],
   "source": [
    "def word_importance(model_word2prob, word):\n",
    "    return model_word2prob.get(word, 0)\n",
    "\n",
    "def para_importance(model_word2prob, para):\n",
    "    l_importance = [word_importance(model_word2prob, w) for w in para]\n",
    "    return  np.sum(l_importance) / np.sqrt(len(l_importance))\n",
    "\n",
    "df['lda_imp'] = np.nan\n",
    "df['lda_imp_norm'] = np.nan\n",
    "df['lsi_imp'] = np.nan\n",
    "df['lsi_imp_norm'] = np.nan\n",
    "for book, ch in book_ch_comb:\n",
    "    idx_slice = pd.IndexSlice[book, ch, :, :]\n",
    "    # getting LDA and LSI importance\n",
    "    df.loc[idx_slice, 'lda_imp'] = df.loc[idx_slice, 'para_proc'].map(lambda p:\n",
    "        para_importance(lda_word2prob[book][ch], p), na_action='ignore')\n",
    "    df.loc[idx_slice, 'lsi_imp'] = df.loc[idx_slice, 'para_proc'].map(lambda p:\n",
    "        -para_importance(lsi_word2prob[book][ch], p), na_action='ignore')\n",
    "\n",
    "    # normalizing\n",
    "    s = df.loc[idx_slice, 'lda_imp']\n",
    "    df.loc[idx_slice, 'lda_imp_norm'] = s.sub(s.min()).div((s.max() - s.min()))\n",
    "    s = df.loc[idx_slice, 'lsi_imp']\n",
    "    df.loc[idx_slice, 'lsi_imp_norm'] = s.sub(s.min()).div((s.max() - s.min()))\n",
    "\n",
    "df.para = df.para.map(lambda p: p+' . ')\n",
    "df['n_tok'] = df.para.map(lambda p: len(tokenizer.encode(p)))"
   ]
  },
  {
   "cell_type": "markdown",
   "metadata": {
    "id": "z2es0TkqG7Q8"
   },
   "source": [
    "#### LDA vs LSI"
   ]
  },
  {
   "cell_type": "code",
   "execution_count": null,
   "metadata": {
    "colab": {
     "base_uri": "https://localhost:8080/"
    },
    "executionInfo": {
     "elapsed": 42877,
     "status": "ok",
     "timestamp": 1610110906499,
     "user": {
      "displayName": "Marco Pietro Abrate",
      "photoUrl": "https://lh3.googleusercontent.com/a-/AOh14Gjh-8YF-8BlnrkN9mLZ0xfVOWfOh7kYncpYRv-Y=s64",
      "userId": "15422244832836998434"
     },
     "user_tz": -60
    },
    "id": "qG1yk0NWMA4I",
    "outputId": "26f9c1f8-8936-435f-e09e-3cd17e345db3"
   },
   "outputs": [
    {
     "data": {
      "image/png": "[encoded data removed]",
      "text/plain": [
       "<Figure size 720x576 with 1 Axes>"
      ]
     },
     "metadata": {
      "needs_background": "light",
      "tags": []
     },
     "output_type": "display_data"
    }
   ],
   "source": [
    "plt.figure(figsize=(10, 8))\n",
    "df.lda_imp_norm.hist(\n",
    "    bins=20,\n",
    "    histtype='bar')\n",
    "plt.title('LDA importance distribution')\n",
    "plt.xlabel('importance')\n",
    "plt.ylabel('# occurences')\n",
    "\n",
    "plt.savefig(OUTPUT_PATH+'lda_hist.png')\n",
    "plt.show()"
   ]
  },
  {
   "cell_type": "code",
   "execution_count": null,
   "metadata": {
    "colab": {
     "base_uri": "https://localhost:8080/"
    },
    "executionInfo": {
     "elapsed": 42873,
     "status": "ok",
     "timestamp": 1610110906502,
     "user": {
      "displayName": "Marco Pietro Abrate",
      "photoUrl": "https://lh3.googleusercontent.com/a-/AOh14Gjh-8YF-8BlnrkN9mLZ0xfVOWfOh7kYncpYRv-Y=s64",
      "userId": "15422244832836998434"
     },
     "user_tz": -60
    },
    "id": "fvJT79I0Et6L",
    "outputId": "c14ddef9-c219-4df3-ebdf-0f935d13f2e0"
   },
   "outputs": [
    {
     "data": {
      "image/png": "[encoded data removed]",
      "text/plain": [
       "<Figure size 720x576 with 1 Axes>"
      ]
     },
     "metadata": {
      "needs_background": "light",
      "tags": []
     },
     "output_type": "display_data"
    }
   ],
   "source": [
    "plt.figure(figsize=(10, 8))\n",
    "df.lsi_imp_norm.hist(\n",
    "    bins=20,\n",
    "    histtype='bar')\n",
    "plt.title('LSI importance distribution')\n",
    "plt.xlabel('importance')\n",
    "plt.ylabel('# occurences')\n",
    "\n",
    "plt.savefig(OUTPUT_PATH+'lsi_hist.png')\n",
    "plt.show()"
   ]
  },
  {
   "cell_type": "markdown",
   "metadata": {
    "id": "KckYUropR-xG"
   },
   "source": [
    "### **Reducing**"
   ]
  },
  {
   "cell_type": "markdown",
   "metadata": {
    "id": "NfsBzMt1OoAP"
   },
   "source": [
    "#### 0-1 Knapsack"
   ]
  },
  {
   "cell_type": "code",
   "execution_count": null,
   "metadata": {
    "id": "Kh12oYLXOroc"
   },
   "outputs": [],
   "source": [
    "def knap_sack(max_l, df, name_value = 'lda_imp_norm'):\n",
    "    \"\"\"Return max possible good items fit within capacity.\n",
    "    \"\"\"\n",
    "\n",
    "    df_rst = df.dropna().reset_index()\n",
    "    m = [[0 for j in range(max_l + 1)] for i in range(len(df_rst))]\n",
    "    for index, row in df_rst.iterrows():\n",
    "        for j in range(1, max_l + 1):\n",
    "            if j < row.n_tok:\n",
    "                m[index][j] = m[index - 1][j]\n",
    "            else:\n",
    "                m[index][j] = max(row[name_value] +\\\n",
    "                                  m[index - 1][j - row.n_tok],\n",
    "                    m[index - 1][j])\n",
    "\n",
    "    ans = []\n",
    "    i = len(df_rst) - 1\n",
    "    j = max_l\n",
    "    while i > 0 and j > 0:\n",
    "        if m[i][j] != m[i - 1][j]:\n",
    "            ans.append((i, df_rst.iloc[i].para))\n",
    "            j -= df_rst.iloc[i].n_tok\n",
    "        i -= 1\n",
    "\n",
    "    ans = sorted(ans, key = lambda x: x[0])\n",
    "    return [x[1] for x in ans]"
   ]
  },
  {
   "cell_type": "markdown",
   "metadata": {
    "id": "1x886q72Ggs0"
   },
   "source": [
    "#### LDA, LSI and TextRank reduction\n",
    "\n",
    "* LDA, LSI: keep REDUCTION_MAX_LEN tokens and maximize importance\n",
    "* TextRank: summarize from scratch (no topic modeling) https://arxiv.org/abs/1602.03606"
   ]
  },
  {
   "cell_type": "code",
   "execution_count": null,
   "metadata": {
    "id": "O_6p7MGKtpbz"
   },
   "outputs": [],
   "source": [
    "reductions = ['lda', 'lsi']"
   ]
  },
  {
   "cell_type": "code",
   "execution_count": null,
   "metadata": {
    "colab": {
     "base_uri": "https://localhost:8080/"
    },
    "executionInfo": {
     "elapsed": 32566,
     "status": "ok",
     "timestamp": 1610110906507,
     "user": {
      "displayName": "Marco Pietro Abrate",
      "photoUrl": "https://lh3.googleusercontent.com/a-/AOh14Gjh-8YF-8BlnrkN9mLZ0xfVOWfOh7kYncpYRv-Y=s64",
      "userId": "15422244832836998434"
     },
     "user_tz": -60
    },
    "id": "3-yNIL30RzUp",
    "outputId": "86c4a42c-517b-4261-e6c1-0cc740df9f16"
   },
   "outputs": [
    {
     "name": "stdout",
     "output_type": "stream",
     "text": [
      "True\n"
     ]
    }
   ],
   "source": [
    "df = df.sort_index()\n",
    "print(df.index.is_lexsorted())"
   ]
  },
  {
   "cell_type": "code",
   "execution_count": null,
   "metadata": {
    "colab": {
     "base_uri": "https://localhost:8080/"
    },
    "executionInfo": {
     "elapsed": 1744275,
     "status": "ok",
     "timestamp": 1610112618220,
     "user": {
      "displayName": "Marco Pietro Abrate",
      "photoUrl": "https://lh3.googleusercontent.com/a-/AOh14Gjh-8YF-8BlnrkN9mLZ0xfVOWfOh7kYncpYRv-Y=s64",
      "userId": "15422244832836998434"
     },
     "user_tz": -60
    },
    "id": "NozpEdhtK4NF",
    "outputId": "4e980318-642a-4717-9a37-be73e573a493"
   },
   "outputs": [
    {
     "name": "stderr",
     "output_type": "stream",
     "text": [
      "100%|██████████| 453/453 [28:31<00:00,  3.78s/it]\n"
     ]
    }
   ],
   "source": [
    "from gensim.summarization.summarizer import summarize\n",
    "\n",
    "df['lda_reduction'] = ''\n",
    "df['lsi_reduction'] = ''\n",
    "df['textrank_reduction'] = ''\n",
    "for book, ch in tqdm(set(zip(df.index.get_level_values(0),\n",
    "                        df.index.get_level_values(1)))):\n",
    "    for redu in reductions:\n",
    "        # LDA, LSI\n",
    "        redu_text = knap_sack(REDUCTION_MAX_LEN,\n",
    "            df.loc[book, ch], name_value = redu+'_imp_norm')\n",
    "        df.loc[(book, ch), redu+'_reduction'] = ''.join(redu_text)\n",
    "\n",
    "    # TextRank\n",
    "    textrank_redu = summarize(\n",
    "        df.loc[book, ch].para.str.cat(),\n",
    "        word_count=int(0.5*REDUCTION_MAX_LEN),\n",
    "        split=True)\n",
    "    df.loc[(book, ch), 'textrank_reduction'] = ' '.join(textrank_redu)\n",
    "\n",
    "reductions.append('textrank')"
   ]
  },
  {
   "cell_type": "code",
   "execution_count": null,
   "metadata": {
    "id": "fWM3YGRgU0ts"
   },
   "outputs": [],
   "source": [
    "df = df.groupby(level=[0, 1], sort=False).agg(\n",
    "    {'para': lambda t: ''.join([p for p in t]),\n",
    "     'bullets': lambda b: list(b)[0],\n",
    "     'lda_reduction': lambda t: list(t)[0],\n",
    "     'lsi_reduction': lambda t: list(t)[0],\n",
    "     'textrank_reduction': lambda t: list(t)[0]})\n",
    "df = df.rename(columns={'para': 'text'})"
   ]
  },
  {
   "cell_type": "markdown",
   "metadata": {
    "id": "L9AIlf42vH_v"
   },
   "source": [
    "#### Number of remaining tokens"
   ]
  },
  {
   "cell_type": "code",
   "execution_count": null,
   "metadata": {
    "colab": {
     "base_uri": "https://localhost:8080/"
    },
    "executionInfo": {
     "elapsed": 1742629,
     "status": "ok",
     "timestamp": 1610112623190,
     "user": {
      "displayName": "Marco Pietro Abrate",
      "photoUrl": "https://lh3.googleusercontent.com/a-/AOh14Gjh-8YF-8BlnrkN9mLZ0xfVOWfOh7kYncpYRv-Y=s64",
      "userId": "15422244832836998434"
     },
     "user_tz": -60
    },
    "id": "8amZeq1D9xOO",
    "outputId": "5d4091cd-445d-4fdc-dad2-dfe2a91f99a9"
   },
   "outputs": [
    {
     "name": "stdout",
     "output_type": "stream",
     "text": [
      "lda\n",
      "count    453.000000\n",
      "mean     883.463576\n",
      "std       38.790641\n",
      "min      579.000000\n",
      "25%      874.000000\n",
      "50%      890.000000\n",
      "75%      903.000000\n",
      "max      941.000000\n",
      "Name: lda_reduction, dtype: float64\n",
      "\n",
      "lsi\n",
      "count    453.000000\n",
      "mean     871.805740\n",
      "std       45.373156\n",
      "min      579.000000\n",
      "25%      861.000000\n",
      "50%      883.000000\n",
      "75%      899.000000\n",
      "max      941.000000\n",
      "Name: lsi_reduction, dtype: float64\n",
      "\n",
      "textrank\n",
      "count    453.00000\n",
      "mean     684.89404\n",
      "std       60.12875\n",
      "min      555.00000\n",
      "25%      640.00000\n",
      "50%      678.00000\n",
      "75%      720.00000\n",
      "max      920.00000\n",
      "Name: textrank_reduction, dtype: float64\n",
      "\n"
     ]
    }
   ],
   "source": [
    "for redu in reductions:\n",
    "    print(redu)\n",
    "    print(df[redu+'_reduction'].map(tokenizer.encode).map(len).describe())\n",
    "    print()"
   ]
  },
  {
   "cell_type": "markdown",
   "metadata": {
    "id": "X2xp7jJNwB6b"
   },
   "source": [
    "### **Save New Dataset**"
   ]
  },
  {
   "cell_type": "code",
   "execution_count": null,
   "metadata": {
    "id": "kBicpezdMePV"
   },
   "outputs": [],
   "source": [
    "df.bullets = df.bullets.map(lambda b: ' '.join(b))\n",
    "df.to_csv(OUTPUT_PATH+'df.csv')"
   ]
  },
  {
   "cell_type": "markdown",
   "metadata": {
    "id": "VndEUBoDjjkV"
   },
   "source": [
    "### **Create train, test, validation**\n",
    "\n",
    "Generate files:\n",
    "* train.source\n",
    "* train.target\n",
    "* val.source\n",
    "* val.target\n",
    "* test.source\n",
    "* test.target\n",
    "\n",
    "Since we do not have a lot of samples, validation and test will be equal for us."
   ]
  },
  {
   "cell_type": "code",
   "execution_count": 9,
   "metadata": {
    "executionInfo": {
     "elapsed": 34218,
     "status": "ok",
     "timestamp": 1610359580044,
     "user": {
      "displayName": "Marco Pietro Abrate",
      "photoUrl": "https://lh3.googleusercontent.com/a-/AOh14Gjh-8YF-8BlnrkN9mLZ0xfVOWfOh7kYncpYRv-Y=s64",
      "userId": "15422244832836998434"
     },
     "user_tz": -60
    },
    "id": "smbVUwES5iFD"
   },
   "outputs": [],
   "source": [
    "df = pd.read_csv(OUTPUT_PATH+'df.csv')\n",
    "df = df.set_index(['book', 'chapter'], drop=True)\n",
    "\n",
    "reductions = ['lda', 'lsi', 'textrank']"
   ]
  },
  {
   "cell_type": "code",
   "execution_count": 10,
   "metadata": {
    "executionInfo": {
     "elapsed": 9905,
     "status": "ok",
     "timestamp": 1610359595417,
     "user": {
      "displayName": "Marco Pietro Abrate",
      "photoUrl": "https://lh3.googleusercontent.com/a-/AOh14Gjh-8YF-8BlnrkN9mLZ0xfVOWfOh7kYncpYRv-Y=s64",
      "userId": "15422244832836998434"
     },
     "user_tz": -60
    },
    "id": "RVuRQ5y4mJmb"
   },
   "outputs": [],
   "source": [
    "for redu in reductions:\n",
    "    op = OUTPUT_PATH + redu +'/'\n",
    "    if not os.path.exists(op):\n",
    "        os.makedirs(op)\n",
    "    train, val, test =\\\n",
    "        np.split(df[[redu+'_reduction', 'bullets']].sample(frac=1, random_state=config.SEED), \n",
    "        [int(.8*len(df)), int(.9*len(df))])\n",
    "\n",
    "    train.to_csv(op+'train.csv')\n",
    "    val.to_csv(op+'val.csv')\n",
    "    test.to_csv(op+'test.csv')\n",
    "\n",
    "    with open(op+'train.source', 'w') as tr_s,\\\n",
    "        open(op+'train.target', 'w') as tr_t,\\\n",
    "        open(op+'train.index', 'w') as tr_i:\n",
    "        for idx, row in train[[redu+'_reduction', 'bullets']].iterrows():\n",
    "            tr_i.write(str(idx) + '\\n')\n",
    "            tr_s.write(row[redu+'_reduction'] + '\\n')\n",
    "            tr_t.write(row.bullets + '\\n')\n",
    "    with open(op+'val.source', 'w') as va_s,\\\n",
    "        open(op+'val.target', 'w') as va_t,\\\n",
    "        open(op+'val.index', 'w') as va_i:\n",
    "        for idx, row in val[[redu+'_reduction', 'bullets']].iterrows():\n",
    "            va_i.write(str(idx) + '\\n')\n",
    "            va_s.write(row[redu+'_reduction'] + '\\n')\n",
    "            va_t.write(row.bullets + '\\n')\n",
    "    with open(op+'test.source', 'w') as te_s,\\\n",
    "        open(op+'test.target', 'w') as te_t,\\\n",
    "        open(op+'test.index', 'w') as te_i:\n",
    "        for idx, row in test[[redu+'_reduction', 'bullets']].iterrows():\n",
    "            te_i.write(str(idx) + '\\n')\n",
    "            te_s.write(row[redu+'_reduction'] + '\\n')\n",
    "            te_t.write(row.bullets + '\\n')"
   ]
  },
  {
   "cell_type": "code",
   "execution_count": null,
   "metadata": {
    "id": "BjUSYyty8Jlx"
   },
   "outputs": [],
   "source": []
  }
 ],
 "metadata": {
  "colab": {
   "collapsed_sections": [
    "P95DxvqWi_2Y",
    "Yib4JoG59ZhY",
    "S0FByNNOIRvG",
    "tb7fAfzaK4es",
    "JFd0ppeJyX1o",
    "SSd3WuiICKfQ",
    "8fXJEMYaCKfn",
    "z1by1i56qQ0q",
    "UMPw10hNljZ1",
    "WhO2hirsvrcc",
    "W4K-CTF-vtha",
    "IeDlmvn43RsI",
    "z2es0TkqG7Q8",
    "NfsBzMt1OoAP",
    "1x886q72Ggs0",
    "L9AIlf42vH_v",
    "X2xp7jJNwB6b",
    "VndEUBoDjjkV"
   ],
   "name": "topic_modeling.ipynb",
   "provenance": []
  },
  "kernelspec": {
   "display_name": "Python 3",
   "language": "python",
   "name": "python3"
  },
  "language_info": {
   "codemirror_mode": {
    "name": "ipython",
    "version": 3
   },
   "file_extension": ".py",
   "mimetype": "text/x-python",
   "name": "python",
   "nbconvert_exporter": "python",
   "pygments_lexer": "ipython3",
   "version": "3.6.9"
  },
  "widgets": {
   "application/vnd.jupyter.widget-state+json": {
    "3a0917c309734495885543d54e7bd8c2": {
     "model_module": "@jupyter-widgets/controls",
     "model_name": "HBoxModel",
     "state": {
      "_dom_classes": [],
      "_model_module": "@jupyter-widgets/controls",
      "_model_module_version": "1.5.0",
      "_model_name": "HBoxModel",
      "_view_count": null,
      "_view_module": "@jupyter-widgets/controls",
      "_view_module_version": "1.5.0",
      "_view_name": "HBoxView",
      "box_style": "",
      "children": [
       "IPY_MODEL_d2951197dc524cf398449229119fc731",
       "IPY_MODEL_3607591535e04a18851f3ef1cb96afa1"
      ],
      "layout": "IPY_MODEL_e605902f06844a85be28925d0fc208e4"
     }
    },
    "7aa26b43182d43058c2a04e7cec5cf71": {
     "model_module": "@jupyter-widgets/controls",
     "model_name": "HBoxModel",
     "state": {
      "_dom_classes": [],
      "_model_module": "@jupyter-widgets/controls",
      "_model_module_version": "1.5.0",
      "_model_name": "HBoxModel",
      "_view_count": null,
      "_view_module": "@jupyter-widgets/controls",
      "_view_module_version": "1.5.0",
      "_view_name": "HBoxView",
      "box_style": "",
      "children": [
       "IPY_MODEL_cf6df9999a93469ab081ff01db781b25",
       "IPY_MODEL_5d28e3032abe4568bc298405b0677d1c"
      ],
      "layout": "IPY_MODEL_b63c21b93cb846999844233e6bdea0c3"
     }
    }
   }
  }
 },
 "nbformat": 4,
 "nbformat_minor": 1
}
