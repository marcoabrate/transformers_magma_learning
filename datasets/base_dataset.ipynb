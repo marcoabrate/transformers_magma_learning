{
 "cells": [
  {
   "cell_type": "code",
   "execution_count": 2,
   "metadata": {},
   "outputs": [],
   "source": [
    "magma_dir = '/home/marco/epfl/magma/'"
   ]
  },
  {
   "cell_type": "code",
   "execution_count": 3,
   "metadata": {
    "executionInfo": {
     "elapsed": 2005,
     "status": "ok",
     "timestamp": 1610099628506,
     "user": {
      "displayName": "Marco Pietro Abrate",
      "photoUrl": "https://lh3.googleusercontent.com/a-/AOh14Gjh-8YF-8BlnrkN9mLZ0xfVOWfOh7kYncpYRv-Y=s64",
      "userId": "15422244832836998434"
     },
     "user_tz": -60
    },
    "id": "au5Z9XQAC7C-"
   },
   "outputs": [],
   "source": [
    "new_data_dir = magma_dir + 'corpora/Karger Fast Facts books/72 xml/'"
   ]
  },
  {
   "cell_type": "markdown",
   "metadata": {
    "id": "S0FByNNOIRvG"
   },
   "source": [
    "### **Config**"
   ]
  },
  {
   "cell_type": "code",
   "execution_count": 4,
   "metadata": {
    "executionInfo": {
     "elapsed": 7409,
     "status": "ok",
     "timestamp": 1610099553967,
     "user": {
      "displayName": "Marco Pietro Abrate",
      "photoUrl": "https://lh3.googleusercontent.com/a-/AOh14Gjh-8YF-8BlnrkN9mLZ0xfVOWfOh7kYncpYRv-Y=s64",
      "userId": "15422244832836998434"
     },
     "user_tz": -60
    },
    "id": "82WSp6khIcua"
   },
   "outputs": [],
   "source": [
    "import sys\n",
    "sys.path.insert(0, magma_dir)\n",
    "import config\n",
    "\n",
    "# Output path\n",
    "OUTPUT_PATH = magma_dir+'datasets/karger_books_base/'"
   ]
  },
  {
   "cell_type": "markdown",
   "metadata": {
    "id": "lh1M-oBcadvj"
   },
   "source": [
    "### **Init**"
   ]
  },
  {
   "cell_type": "code",
   "execution_count": 5,
   "metadata": {
    "executionInfo": {
     "elapsed": 1923,
     "status": "ok",
     "timestamp": 1610099584858,
     "user": {
      "displayName": "Marco Pietro Abrate",
      "photoUrl": "https://lh3.googleusercontent.com/a-/AOh14Gjh-8YF-8BlnrkN9mLZ0xfVOWfOh7kYncpYRv-Y=s64",
      "userId": "15422244832836998434"
     },
     "user_tz": -60
    },
    "id": "ocfO7MfXacQo"
   },
   "outputs": [],
   "source": [
    "import matplotlib.pyplot as plt\n",
    "import numpy as np\n",
    "import re\n",
    "import pandas as pd\n",
    "import sys\n",
    "import gensim"
   ]
  },
  {
   "cell_type": "markdown",
   "metadata": {
    "id": "JFd0ppeJyX1o"
   },
   "source": [
    "## **Karger Books**"
   ]
  },
  {
   "cell_type": "markdown",
   "metadata": {
    "heading_collapsed": true,
    "id": "u-BjJAKGK4ey"
   },
   "source": [
    "##### Class definition"
   ]
  },
  {
   "cell_type": "code",
   "execution_count": 7,
   "metadata": {
    "executionInfo": {
     "elapsed": 582,
     "status": "ok",
     "timestamp": 1610099592434,
     "user": {
      "displayName": "Marco Pietro Abrate",
      "photoUrl": "https://lh3.googleusercontent.com/a-/AOh14Gjh-8YF-8BlnrkN9mLZ0xfVOWfOh7kYncpYRv-Y=s64",
      "userId": "15422244832836998434"
     },
     "user_tz": -60
    },
    "hidden": true,
    "id": "Q7sWxdb_K4e1"
   },
   "outputs": [],
   "source": [
    "class KargerBook():\n",
    "    def __init__(self, title, abbreviations, glossary, introduction, chapter):\n",
    "        self.title = title\n",
    "        self.abbreviations = abbreviations\n",
    "        self.glossary = glossary\n",
    "        self.introduction = introduction\n",
    "        self.chapters = chapter\n",
    "        self.id = 0\n",
    "\n",
    "    def set_id(self, id):\n",
    "        self.id = int(id)\n",
    "    def get_id(self):\n",
    "        return self.id\n",
    "\n",
    "    def get_title(self):\n",
    "        if self.title is None:\n",
    "            print(\"error: title is None\")\n",
    "            return None\n",
    "        return self.title\n",
    "\n",
    "    def get_abbreviations(self):\n",
    "        if len(self.abbreviations) < 1:\n",
    "            print(\"error: no abbreviations\")\n",
    "            return None\n",
    "        return self.abbreviations\n",
    "    \n",
    "    def get_glossary(self):\n",
    "        if self.glossary is None:\n",
    "            print(\"error: glossary is None\")\n",
    "            return None\n",
    "        return self.glossary\n",
    "    \n",
    "    def get_introduction(self):\n",
    "        if self.introduction is None:\n",
    "            print(\"error: introduction is None\")\n",
    "            return None\n",
    "        return self.introduction\n",
    "    \n",
    "    def get_chapters(self):\n",
    "        if self.chapters is None:\n",
    "            print(\"error: chapters is None\")\n",
    "            return None\n",
    "            \n",
    "        new_dic = {}\n",
    "        for k, v in self.chapters.items():\n",
    "            new_dic[k] = {}\n",
    "            for sec, text in v.items():\n",
    "                if sec.startswith('ch') and not sec.endswith('bullets'):\n",
    "                    new_dic[k][sec] = {}\n",
    "                    new_dic[k][sec][sec] = text\n",
    "                if (sec.startswith('sec') or re.match('\\d+\\.\\w+', sec))\\\n",
    "                    and ('sub' not in sec) and ('bullets' not in sec):\n",
    "                    new_dic[k][sec] = {}\n",
    "                    new_dic[k][sec][sec] = text\n",
    "                    for sec_key in v.keys():\n",
    "                        if sec_key.endswith('sub_'+sec) or sec_key.endswith('sub_'+sec+'_bullets') or sec+'_bullets' in sec_key:\n",
    "                            if v[sec_key] != []:\n",
    "                                new_dic[k][sec][sec_key] = v[sec_key]\n",
    "            if not new_dic[k]:\n",
    "                new_dic.pop(k)\n",
    "\n",
    "        return new_dic\n",
    "\n",
    "    def get_dataframe(self):\n",
    "        cpt = self.get_chapters()\n",
    "        if cpt is None:\n",
    "            print(\"error: cannot create dataframe if chapters is None\")\n",
    "            return None\n",
    "        cpt_df = pd.DataFrame.from_dict({(i,j,k): cpt[i][j][k] \n",
    "                for i in cpt.keys() \n",
    "                for j in cpt[i].keys()\n",
    "                for k in cpt[i][j].keys()},\n",
    "            orient='index')\n",
    "        \n",
    "        idx_bullets = [idx for idx in list(cpt_df.index) if 'bullets' in idx[2]]\n",
    "        idx_sec_bullets = [(idx[0], idx[1], idx[2].replace('_bullets', '')) for idx in idx_bullets]\n",
    "        mapper = {}\n",
    "        for i, b in enumerate(idx_bullets):\n",
    "            mapper[b] = idx_sec_bullets[i]\n",
    "        \n",
    "        cpt_df_bullets = cpt_df.loc[idx_bullets].rename(index=mapper)\n",
    "        cpt_df_nobullets = cpt_df.drop(labels = idx_bullets, axis=0)\n",
    "        cpt_df_new = cpt_df_nobullets.join(cpt_df_bullets, rsuffix='_bullets').rename(columns={'0': 'text', '0_bullets': 'bullets'})\n",
    "        \n",
    "        cpt_df_new.index = pd.MultiIndex.from_tuples(cpt_df_new.index)\n",
    "        cpt_df_new.index.names = ['chapter', 'section', 'subsection']\n",
    "        \n",
    "        for idx, df in cpt_df_new.dropna().groupby('chapter'):\n",
    "            cpt_df_new.loc[(idx, slice(None)), 'bullets'] = \\\n",
    "                cpt_df_new.loc[(idx, slice(None)), 'bullets'].map(lambda x:\n",
    "                    df.iloc[0].bullets)\n",
    "        \n",
    "        return cpt_df_new"
   ]
  },
  {
   "cell_type": "markdown",
   "metadata": {
    "heading_collapsed": true,
    "id": "xf6p54FPK4e5"
   },
   "source": [
    "##### Helper functions"
   ]
  },
  {
   "cell_type": "code",
   "execution_count": 8,
   "metadata": {
    "executionInfo": {
     "elapsed": 1197,
     "status": "ok",
     "timestamp": 1610099593052,
     "user": {
      "displayName": "Marco Pietro Abrate",
      "photoUrl": "https://lh3.googleusercontent.com/a-/AOh14Gjh-8YF-8BlnrkN9mLZ0xfVOWfOh7kYncpYRv-Y=s64",
      "userId": "15422244832836998434"
     },
     "user_tz": -60
    },
    "hidden": true,
    "id": "5392FKf0K4e8"
   },
   "outputs": [],
   "source": [
    "i = 0\n",
    "def get_i():\n",
    "    return i\n",
    "def set_i(n):\n",
    "    global i\n",
    "    i = n\n",
    "\n",
    "def print_dict(d, prefix):\n",
    "    for k in d.keys():\n",
    "        print(prefix+k)\n",
    "        if type(d[k]) is dict:\n",
    "            print_dict(d[k], prefix+'\\t')\n",
    "        else:\n",
    "            print(prefix+'- text')\n",
    "\n",
    "def parse_abbreviations(abbr):\n",
    "    abbreviations = {}\n",
    "    for abb in abbr.iter():\n",
    "        if abb.tag.endswith('title'):\n",
    "            if 'abbreviations' not in [c for c in abb.itertext()][0].lower():\n",
    "                print('Warning: suspicious abbreviations section in this file.')\n",
    "        if abb.tag.endswith('para'):\n",
    "            abb_key_value = [c.strip(':').strip() for c in abb.itertext()]\n",
    "            abb_key_value = [a for a in abb_key_value if len(a) > 0]\n",
    "            if len(abb_key_value) < 2:\n",
    "                abb_key_value = [c.strip() for c in re.split(':|=', abb_key_value[0])]\n",
    "            abbreviations[abb_key_value[0]] = abb_key_value[1]\n",
    "    return abbreviations\n",
    "\n",
    "def parse_glossary(gloss):\n",
    "    glossary = {}\n",
    "    for glos in gloss.iter():\n",
    "        if glos.tag.endswith('title'):\n",
    "            if 'glossary' not in [c for c in glos.itertext()][0].lower():\n",
    "                print('Warning: suspicious glossary section in this file.')\n",
    "        if glos.tag.endswith('para'):\n",
    "            glos_key_value = [c.strip(':').strip() for c in glos.itertext()]\n",
    "            if len(glos_key_value) < 2 : continue\n",
    "            glossary[glos_key_value[0]] = glos_key_value[1]\n",
    "    return glossary\n",
    "\n",
    "def parse_text(text):\n",
    "    parsed_text = [c for c in text.itertext() if not re.fullmatch('\\d+|(\\d+,\\d+)|(\\d+–\\d+)', c)\\\n",
    "        and not bool(re.match('http[s]?://(?:[a-zA-Z]|[0-9]|[$-_@.&+]|[!*\\(\\),]|(?:%[0-9a-fA-F][0-9a-fA-F]))+', c))]\n",
    "    if len(parsed_text) < 1:\n",
    "        return ''\n",
    "    parsed_text = parsed_text[1:] if parsed_text[0] == '\\n' else parsed_text\n",
    "    parsed_text = parsed_text[:-1] if parsed_text[-1] == '\\n' else parsed_text\n",
    "    parsed_text = ' '.join(parsed_text)\n",
    "    parsed_text = ''.join([re.sub(' +', ' ', line.strip()+'\\n') for line in parsed_text.splitlines()])\n",
    "    parsed_text = re.sub(r'\\s([?,;:.!\"](?:\\s|$))', r'\\1', parsed_text)\n",
    "    \n",
    "    return parsed_text\n",
    "\n",
    "def search_bullets(ch_root):\n",
    "    bullets = []\n",
    "    found_key_points = False\n",
    "    for ch in ch_root.iter():\n",
    "        if 'link' in ch.tag : continue\n",
    "        if found_key_points and 'itemized' in ch.tag:\n",
    "            for item in ch:\n",
    "                bullets.append(parse_text(item))\n",
    "\n",
    "        if 'title' in ch.tag:\n",
    "            t = [c for c in ch.itertext()]\n",
    "            if len(t) > 0 : t = t[0].lower()\n",
    "            if 'key' in t and 'point' in t:\n",
    "                found_key_points = True\n",
    "        if 'para' in ch.tag:\n",
    "            t = [c for c in ch.itertext()]\n",
    "            if len(t) > 0 : t = t[0].lower()\n",
    "            if len(t) < 100 and 'key' in t and 'point' in t:\n",
    "                found_key_points = True\n",
    "                \n",
    "    return bullets\n",
    "\n",
    "def parse_chapter(ch_root, chapter = {}, subsect = ''):\n",
    "    t = list(ch_root.attrib.values())\n",
    "    if len(t) < 1:\n",
    "        ch_title = 'sec'+str(i)\n",
    "        set_i(i+1)\n",
    "    else:\n",
    "        ch_title = t[0]+subsect\n",
    "    chapter[ch_title] = []\n",
    "\n",
    "    for ch in ch_root:\n",
    "        if ch.tag.endswith('title'):\n",
    "            t = [c for c in ch.itertext()]\n",
    "            if len(t) > 0:\n",
    "                t = t[0] + '\\n'\n",
    "            else:\n",
    "                t = ''\n",
    "            if 'key' in t.lower() and\\\n",
    "                ('point' in t.lower() or 'reference' in t.lower()):\n",
    "                break\n",
    "            chapter[ch_title].append(t)\n",
    "        elif 'itemized' in ch.tag:\n",
    "            for item in ch:\n",
    "                chapter[ch_title].append(parse_text(item))\n",
    "        elif 'para' in ch.tag:\n",
    "            chapter[ch_title].append(parse_text(ch))\n",
    "        elif 'sect1' in ch.tag:\n",
    "            chapter = parse_chapter(ch, chapter)\n",
    "        elif 'sect2' in ch.tag:\n",
    "            chapter = parse_chapter(ch, chapter, '_sub_'+ch_title)\n",
    "        elif 'section' in ch.tag:\n",
    "            chapter = parse_chapter(ch, chapter)\n",
    "\n",
    "    chapter[ch_title] = ''.join(chapter[ch_title])\n",
    "\n",
    "    bullets = search_bullets(ch_root)\n",
    "    if len(bullets) > 0:\n",
    "        chapter[ch_title + '_bullets'] = bullets\n",
    "    return chapter\n",
    "\n",
    "def parse_tree(root):\n",
    "    title = None\n",
    "    abbreviations = []\n",
    "    glossary = None\n",
    "    introduction = None\n",
    "    chapters = {}\n",
    "\n",
    "    for chapt in root:\n",
    "        if (title is None) and 'title' in chapt.tag and\\\n",
    "            ('subtitle' not in chapt.tag) and\\\n",
    "            ('jobtitle' not in chapt.tag):\n",
    "            \n",
    "            title = chapt.text\n",
    "            if title is None:\n",
    "                title = [c for c in chapt.itertext()][0]\n",
    "\n",
    "        if (title is None) and 'info' in chapt.tag:\n",
    "            for subc in chapt.iter():\n",
    "                if ('title' in subc.tag) and\\\n",
    "                    ('subtitle' not in subc.tag) and\\\n",
    "                    ('jobtitle' not in subc.tag):\n",
    "                    \n",
    "                    title = subc.text\n",
    "\n",
    "        elif chapt.tag.endswith('chapter'):\n",
    "            for ch in chapt:\n",
    "                if ch.tag.endswith('title'):\n",
    "                    t = [c for c in ch.itertext()]\n",
    "                    if len(t) > 0:\n",
    "                        t = t[0].lower()\n",
    "                    else:\n",
    "                        t = ''\n",
    "                    break\n",
    "            if 'abbr' in t:\n",
    "                abbreviations.append(parse_abbreviations(chapt))\n",
    "                continue\n",
    "            elif 'gloss' in t:\n",
    "                glossary = parse_glossary(chapt)\n",
    "                continue\n",
    "            elif 'intro' in t:\n",
    "                introduction = parse_text(next(chapt.iter()))\n",
    "                continue\n",
    "            if 'app' in list(chapt.attrib.values())[0] : continue\n",
    "\n",
    "            set_i(0)\n",
    "            chapters[list(chapt.attrib.values())[0]] = parse_chapter(chapt, {}, '')\n",
    "            \n",
    "        elif chapt.tag.endswith('preface'):\n",
    "            for subc in chapt.iter():\n",
    "                if subc.tag.endswith('title'):\n",
    "                    pref_title = [c for c in subc.itertext()][0].lower()\n",
    "                    if 'abbr' in pref_title:\n",
    "                        abbreviations.append(parse_abbreviations(chapt))\n",
    "                    elif 'gloss' in pref_title:\n",
    "                        glossary = parse_glossary(chapt)\n",
    "                    elif 'intro' in pref_title:\n",
    "                        introduction = parse_text(next(chapt.iter()))\n",
    "                        \n",
    "    return KargerBook(title, abbreviations, glossary, introduction, chapters)"
   ]
  },
  {
   "cell_type": "markdown",
   "metadata": {
    "heading_collapsed": true,
    "id": "xUPO88fp6AiR"
   },
   "source": [
    "##### Preparing the data"
   ]
  },
  {
   "cell_type": "code",
   "execution_count": 14,
   "metadata": {
    "colab": {
     "base_uri": "https://localhost:8080/"
    },
    "executionInfo": {
     "elapsed": 2325,
     "status": "ok",
     "timestamp": 1610099645313,
     "user": {
      "displayName": "Marco Pietro Abrate",
      "photoUrl": "https://lh3.googleusercontent.com/a-/AOh14Gjh-8YF-8BlnrkN9mLZ0xfVOWfOh7kYncpYRv-Y=s64",
      "userId": "15422244832836998434"
     },
     "user_tz": -60
    },
    "hidden": true,
    "id": "yPq9uri4ExIr",
    "outputId": "20f39a4e-f4c1-4c74-d5db-e171dabc66c2",
    "scrolled": true
   },
   "outputs": [
    {
     "name": "stdout",
     "output_type": "stream",
     "text": [
      "['/content/drive/My Drive/MAGMA: Summarization/corpora/Karger Fast Facts books/72 xml/77 FF/9781905832729.xml', '/content/drive/My Drive/MAGMA: Summarization/corpora/Karger Fast Facts books/72 xml/77 FF/9781908541024.xml', '/content/drive/My Drive/MAGMA: Summarization/corpora/Karger Fast Facts books/72 xml/77 FF/9781908541062.xml', '/content/drive/My Drive/MAGMA: Summarization/corpora/Karger Fast Facts books/72 xml/77 FF/9781908541086.xml', '/content/drive/My Drive/MAGMA: Summarization/corpora/Karger Fast Facts books/72 xml/77 FF/9781908541178.xml', '/content/drive/My Drive/MAGMA: Summarization/corpora/Karger Fast Facts books/72 xml/77 FF/9781908541277.xml', '/content/drive/My Drive/MAGMA: Summarization/corpora/Karger Fast Facts books/72 xml/77 FF/9781908541406.xml', '/content/drive/My Drive/MAGMA: Summarization/corpora/Karger Fast Facts books/72 xml/77 FF/9781908541420.xml', '/content/drive/My Drive/MAGMA: Summarization/corpora/Karger Fast Facts books/72 xml/77 FF/9781908541437.xml', '/content/drive/My Drive/MAGMA: Summarization/corpora/Karger Fast Facts books/72 xml/77 FF/9781908541468.xml', '/content/drive/My Drive/MAGMA: Summarization/corpora/Karger Fast Facts books/72 xml/77 FF/9781908541666.xml', '/content/drive/My Drive/MAGMA: Summarization/corpora/Karger Fast Facts books/72 xml/77 FF/9781908541680.xml', '/content/drive/My Drive/MAGMA: Summarization/corpora/Karger Fast Facts books/72 xml/77 FF/9781908541703.xml', '/content/drive/My Drive/MAGMA: Summarization/corpora/Karger Fast Facts books/72 xml/77 FF/9781908541727.xml', '/content/drive/My Drive/MAGMA: Summarization/corpora/Karger Fast Facts books/72 xml/77 FF/9781908541796.xml', '/content/drive/My Drive/MAGMA: Summarization/corpora/Karger Fast Facts books/72 xml/77 FF/9781908541901.xml', '/content/drive/My Drive/MAGMA: Summarization/corpora/Karger Fast Facts books/72 xml/77 FF/9781908541963.xml', '/content/drive/My Drive/MAGMA: Summarization/corpora/Karger Fast Facts books/72 xml/77 FF/9781908541994.xml', '/content/drive/My Drive/MAGMA: Summarization/corpora/Karger Fast Facts books/72 xml/77 FF/9781910797006.xml', '/content/drive/My Drive/MAGMA: Summarization/corpora/Karger Fast Facts books/72 xml/77 FF/9781910797082.xml', '/content/drive/My Drive/MAGMA: Summarization/corpora/Karger Fast Facts books/72 xml/77 FF/9781910797105.xml', '/content/drive/My Drive/MAGMA: Summarization/corpora/Karger Fast Facts books/72 xml/77 FF/9781910797150.xml', '/content/drive/My Drive/MAGMA: Summarization/corpora/Karger Fast Facts books/72 xml/77 FF/9781910797181.xml', '/content/drive/My Drive/MAGMA: Summarization/corpora/Karger Fast Facts books/72 xml/77 FF/9781910797211.xml', '/content/drive/My Drive/MAGMA: Summarization/corpora/Karger Fast Facts books/72 xml/77 FF/9781910797242.xml', '/content/drive/My Drive/MAGMA: Summarization/corpora/Karger Fast Facts books/72 xml/77 FF/9781910797273.xml', '/content/drive/My Drive/MAGMA: Summarization/corpora/Karger Fast Facts books/72 xml/77 FF/9781910797297.xml', '/content/drive/My Drive/MAGMA: Summarization/corpora/Karger Fast Facts books/72 xml/77 FF/9781910797310.xml', '/content/drive/My Drive/MAGMA: Summarization/corpora/Karger Fast Facts books/72 xml/77 FF/9781910797426.xml', '/content/drive/My Drive/MAGMA: Summarization/corpora/Karger Fast Facts books/72 xml/77 FF/9781910797433.xml', '/content/drive/My Drive/MAGMA: Summarization/corpora/Karger Fast Facts books/72 xml/77 FF/9781910797457.xml', '/content/drive/My Drive/MAGMA: Summarization/corpora/Karger Fast Facts books/72 xml/77 FF/9781910797471.xml', '/content/drive/My Drive/MAGMA: Summarization/corpora/Karger Fast Facts books/72 xml/77 FF/9781910797495.xml', '/content/drive/My Drive/MAGMA: Summarization/corpora/Karger Fast Facts books/72 xml/77 FF/9781910797556.xml', '/content/drive/My Drive/MAGMA: Summarization/corpora/Karger Fast Facts books/72 xml/77 FF/9781910797587.xml', '/content/drive/My Drive/MAGMA: Summarization/corpora/Karger Fast Facts books/72 xml/77 FF/9781910797617.xml', '/content/drive/My Drive/MAGMA: Summarization/corpora/Karger Fast Facts books/72 xml/77 FF/9781910797631.xml', '/content/drive/My Drive/MAGMA: Summarization/corpora/Karger Fast Facts books/72 xml/77 FF/9781910797662.xml', '/content/drive/My Drive/MAGMA: Summarization/corpora/Karger Fast Facts books/72 xml/77 FF/9781910797693.xml', '/content/drive/My Drive/MAGMA: Summarization/corpora/Karger Fast Facts books/72 xml/77 FF/9781910797723.xml', '/content/drive/My Drive/MAGMA: Summarization/corpora/Karger Fast Facts books/72 xml/77 FF/9781910797815.xml', '/content/drive/My Drive/MAGMA: Summarization/corpora/Karger Fast Facts books/72 xml/77 FF/9781910797853.xml', '/content/drive/My Drive/MAGMA: Summarization/corpora/Karger Fast Facts books/72 xml/77 FF/9781910797907.xml', '/content/drive/My Drive/MAGMA: Summarization/corpora/Karger Fast Facts books/72 xml/77 FF/9781910797938.xml', '/content/drive/My Drive/MAGMA: Summarization/corpora/Karger Fast Facts books/72 xml/77 FF/9781910797969.xml', '/content/drive/My Drive/MAGMA: Summarization/corpora/Karger Fast Facts books/72 xml/77 FF/9781912776108.xml', '/content/drive/My Drive/MAGMA: Summarization/corpora/Karger Fast Facts books/72 xml/77 FF/9781912776139.xml', '/content/drive/My Drive/MAGMA: Summarization/corpora/Karger Fast Facts books/72 xml/77 FF/9781912776153.xml', '/content/drive/My Drive/MAGMA: Summarization/corpora/Karger Fast Facts books/72 xml/77 FF/9781912776177.xml', '/content/drive/My Drive/MAGMA: Summarization/corpora/Karger Fast Facts books/72 xml/77 FF/9781912776207.xml', '/content/drive/My Drive/MAGMA: Summarization/corpora/Karger Fast Facts books/72 xml/77 FF/9781912776238.xml', '/content/drive/My Drive/MAGMA: Summarization/corpora/Karger Fast Facts books/72 xml/77 FF/9781912776276.xml', '/content/drive/My Drive/MAGMA: Summarization/corpora/Karger Fast Facts books/72 xml/77 FF/9781912776382.xml', '/content/drive/My Drive/MAGMA: Summarization/corpora/Karger Fast Facts books/72 xml/77 FF/9781912776665.xml', '/content/drive/My Drive/MAGMA: Summarization/corpora/Karger Fast Facts books/72 xml/77 FF/9781912776696.xml', '/content/drive/My Drive/MAGMA: Summarization/corpora/Karger Fast Facts books/72 xml/77 FF/9781912776726.xml', '/content/drive/My Drive/MAGMA: Summarization/corpora/Karger Fast Facts books/72 xml/77 FF/9781912776788.xml', '/content/drive/My Drive/MAGMA: Summarization/corpora/Karger Fast Facts books/72 xml/77 FF/9781912776818.xml', '/content/drive/My Drive/MAGMA: Summarization/corpora/Karger Fast Facts books/72 xml/77 FF/9781912776849.xml', '/content/drive/My Drive/MAGMA: Summarization/corpora/Karger Fast Facts books/72 xml/77 FF/9781912776870.xml', '/content/drive/My Drive/MAGMA: Summarization/corpora/Karger Fast Facts books/72 xml/77 FF/9781912776900.xml', '/content/drive/My Drive/MAGMA: Summarization/corpora/Karger Fast Facts books/72 xml/77 FF/9781912776931.xml', '/content/drive/My Drive/MAGMA: Summarization/corpora/Karger Fast Facts books/72 xml/77 FF/9781912776962.xml', '/content/drive/My Drive/MAGMA: Summarization/corpora/Karger Fast Facts books/72 xml/77 FF/9781912776993.xml', '/content/drive/My Drive/MAGMA: Summarization/corpora/Karger Fast Facts books/72 xml/77 FF/9783318065435.xml', '/content/drive/My Drive/MAGMA: Summarization/corpora/Karger Fast Facts books/72 xml/77 FF/9783318065640.xml', '/content/drive/My Drive/MAGMA: Summarization/corpora/Karger Fast Facts books/72 xml/77 FF/9783318065848.xml', '/content/drive/My Drive/MAGMA: Summarization/corpora/Karger Fast Facts books/72 xml/77 FF/9783318065893.xml', '/content/drive/My Drive/MAGMA: Summarization/corpora/Karger Fast Facts books/72 xml/77 FF/9783318066159.xml', '/content/drive/My Drive/MAGMA: Summarization/corpora/Karger Fast Facts books/72 xml/77 FF/9783318066241.xml', '/content/drive/My Drive/MAGMA: Summarization/corpora/Karger Fast Facts books/72 xml/77 FF/9783318066302.xml', '/content/drive/My Drive/MAGMA: Summarization/corpora/Karger Fast Facts books/72 xml/77 FF/9783318066371.xml', '/content/drive/My Drive/MAGMA: Summarization/corpora/Karger Fast Facts books/72 xml/77 FF/9783318066685.xml', '/content/drive/My Drive/MAGMA: Summarization/corpora/Karger Fast Facts books/72 xml/77 FF/9783318067095.xml', '/content/drive/My Drive/MAGMA: Summarization/corpora/Karger Fast Facts books/72 xml/77 FF/9783318067606.xml', '/content/drive/My Drive/MAGMA: Summarization/corpora/Karger Fast Facts books/72 xml/77 FF/9783318067637.xml', '/content/drive/My Drive/MAGMA: Summarization/corpora/Karger Fast Facts books/72 xml/77 FF/9783318068207.xml']\n"
     ]
    }
   ],
   "source": [
    "import os\n",
    "from os.path import isdir, join\n",
    "\n",
    "XML_DATA_DIR = new_data_dir+'77 FF'\n",
    "\n",
    "xml_files = [join(XML_DATA_DIR, f) for f in os.listdir(XML_DATA_DIR) if f.endswith('.xml')]\n",
    "xml_files.sort()\n",
    "print(xml_files)"
   ]
  },
  {
   "cell_type": "code",
   "execution_count": 15,
   "metadata": {
    "colab": {
     "base_uri": "https://localhost:8080/"
    },
    "executionInfo": {
     "elapsed": 30219,
     "status": "ok",
     "timestamp": 1610099675430,
     "user": {
      "displayName": "Marco Pietro Abrate",
      "photoUrl": "https://lh3.googleusercontent.com/a-/AOh14Gjh-8YF-8BlnrkN9mLZ0xfVOWfOh7kYncpYRv-Y=s64",
      "userId": "15422244832836998434"
     },
     "user_tz": -60
    },
    "hidden": true,
    "id": "0Bm7bRVtNmvB",
    "outputId": "d15f8a59-27c0-4410-d910-ad5c96d50cf4"
   },
   "outputs": [
    {
     "name": "stdout",
     "output_type": "stream",
     "text": [
      "Parsing /content/drive/My Drive/MAGMA: Summarization/corpora/Karger Fast Facts books/72 xml/77 FF/9781905832729.xml\n",
      "\n",
      "Parsing /content/drive/My Drive/MAGMA: Summarization/corpora/Karger Fast Facts books/72 xml/77 FF/9781908541024.xml\n",
      "\n",
      "Parsing /content/drive/My Drive/MAGMA: Summarization/corpora/Karger Fast Facts books/72 xml/77 FF/9781908541062.xml\n",
      "\n",
      "Parsing /content/drive/My Drive/MAGMA: Summarization/corpora/Karger Fast Facts books/72 xml/77 FF/9781908541086.xml\n",
      "\n",
      "Parsing /content/drive/My Drive/MAGMA: Summarization/corpora/Karger Fast Facts books/72 xml/77 FF/9781908541178.xml\n",
      "\n",
      "Parsing /content/drive/My Drive/MAGMA: Summarization/corpora/Karger Fast Facts books/72 xml/77 FF/9781908541277.xml\n",
      "\n",
      "Parsing /content/drive/My Drive/MAGMA: Summarization/corpora/Karger Fast Facts books/72 xml/77 FF/9781908541406.xml\n",
      "\n",
      "Parsing /content/drive/My Drive/MAGMA: Summarization/corpora/Karger Fast Facts books/72 xml/77 FF/9781908541420.xml\n",
      "\n",
      "Parsing /content/drive/My Drive/MAGMA: Summarization/corpora/Karger Fast Facts books/72 xml/77 FF/9781908541437.xml\n",
      "\n",
      "Parsing /content/drive/My Drive/MAGMA: Summarization/corpora/Karger Fast Facts books/72 xml/77 FF/9781908541468.xml\n",
      "\n",
      "Parsing /content/drive/My Drive/MAGMA: Summarization/corpora/Karger Fast Facts books/72 xml/77 FF/9781908541666.xml\n",
      "\n",
      "Parsing /content/drive/My Drive/MAGMA: Summarization/corpora/Karger Fast Facts books/72 xml/77 FF/9781908541680.xml\n",
      "\n",
      "Parsing /content/drive/My Drive/MAGMA: Summarization/corpora/Karger Fast Facts books/72 xml/77 FF/9781908541703.xml\n",
      "\n",
      "Parsing /content/drive/My Drive/MAGMA: Summarization/corpora/Karger Fast Facts books/72 xml/77 FF/9781908541727.xml\n",
      "\n",
      "Parsing /content/drive/My Drive/MAGMA: Summarization/corpora/Karger Fast Facts books/72 xml/77 FF/9781908541796.xml\n",
      "\n",
      "Parsing /content/drive/My Drive/MAGMA: Summarization/corpora/Karger Fast Facts books/72 xml/77 FF/9781908541901.xml\n",
      "\n",
      "Parsing /content/drive/My Drive/MAGMA: Summarization/corpora/Karger Fast Facts books/72 xml/77 FF/9781908541963.xml\n",
      "\n",
      "Parsing /content/drive/My Drive/MAGMA: Summarization/corpora/Karger Fast Facts books/72 xml/77 FF/9781908541994.xml\n",
      "\n",
      "Parsing /content/drive/My Drive/MAGMA: Summarization/corpora/Karger Fast Facts books/72 xml/77 FF/9781910797006.xml\n",
      "\n",
      "Parsing /content/drive/My Drive/MAGMA: Summarization/corpora/Karger Fast Facts books/72 xml/77 FF/9781910797082.xml\n",
      "\n",
      "Parsing /content/drive/My Drive/MAGMA: Summarization/corpora/Karger Fast Facts books/72 xml/77 FF/9781910797105.xml\n",
      "\n",
      "Parsing /content/drive/My Drive/MAGMA: Summarization/corpora/Karger Fast Facts books/72 xml/77 FF/9781910797150.xml\n",
      "\n",
      "Parsing /content/drive/My Drive/MAGMA: Summarization/corpora/Karger Fast Facts books/72 xml/77 FF/9781910797181.xml\n",
      "\n",
      "Parsing /content/drive/My Drive/MAGMA: Summarization/corpora/Karger Fast Facts books/72 xml/77 FF/9781910797211.xml\n",
      "\n",
      "Parsing /content/drive/My Drive/MAGMA: Summarization/corpora/Karger Fast Facts books/72 xml/77 FF/9781910797242.xml\n",
      "\n",
      "Parsing /content/drive/My Drive/MAGMA: Summarization/corpora/Karger Fast Facts books/72 xml/77 FF/9781910797273.xml\n",
      "\n",
      "Parsing /content/drive/My Drive/MAGMA: Summarization/corpora/Karger Fast Facts books/72 xml/77 FF/9781910797297.xml\n",
      "\n",
      "Parsing /content/drive/My Drive/MAGMA: Summarization/corpora/Karger Fast Facts books/72 xml/77 FF/9781910797310.xml\n",
      "\n",
      "Parsing /content/drive/My Drive/MAGMA: Summarization/corpora/Karger Fast Facts books/72 xml/77 FF/9781910797426.xml\n",
      "\n",
      "Parsing /content/drive/My Drive/MAGMA: Summarization/corpora/Karger Fast Facts books/72 xml/77 FF/9781910797433.xml\n",
      "\n",
      "Parsing /content/drive/My Drive/MAGMA: Summarization/corpora/Karger Fast Facts books/72 xml/77 FF/9781910797457.xml\n",
      "\n",
      "Parsing /content/drive/My Drive/MAGMA: Summarization/corpora/Karger Fast Facts books/72 xml/77 FF/9781910797471.xml\n",
      "\n",
      "Parsing /content/drive/My Drive/MAGMA: Summarization/corpora/Karger Fast Facts books/72 xml/77 FF/9781910797495.xml\n",
      "\n",
      "Parsing /content/drive/My Drive/MAGMA: Summarization/corpora/Karger Fast Facts books/72 xml/77 FF/9781910797556.xml\n",
      "\n",
      "Parsing /content/drive/My Drive/MAGMA: Summarization/corpora/Karger Fast Facts books/72 xml/77 FF/9781910797587.xml\n",
      "\n",
      "Parsing /content/drive/My Drive/MAGMA: Summarization/corpora/Karger Fast Facts books/72 xml/77 FF/9781910797617.xml\n",
      "\n",
      "Parsing /content/drive/My Drive/MAGMA: Summarization/corpora/Karger Fast Facts books/72 xml/77 FF/9781910797631.xml\n",
      "\n",
      "Parsing /content/drive/My Drive/MAGMA: Summarization/corpora/Karger Fast Facts books/72 xml/77 FF/9781910797662.xml\n",
      "\n",
      "Parsing /content/drive/My Drive/MAGMA: Summarization/corpora/Karger Fast Facts books/72 xml/77 FF/9781910797693.xml\n",
      "\n",
      "Parsing /content/drive/My Drive/MAGMA: Summarization/corpora/Karger Fast Facts books/72 xml/77 FF/9781910797723.xml\n",
      "\n",
      "Parsing /content/drive/My Drive/MAGMA: Summarization/corpora/Karger Fast Facts books/72 xml/77 FF/9781910797815.xml\n",
      "\n",
      "Parsing /content/drive/My Drive/MAGMA: Summarization/corpora/Karger Fast Facts books/72 xml/77 FF/9781910797853.xml\n",
      "\n",
      "Parsing /content/drive/My Drive/MAGMA: Summarization/corpora/Karger Fast Facts books/72 xml/77 FF/9781910797907.xml\n",
      "\n",
      "Parsing /content/drive/My Drive/MAGMA: Summarization/corpora/Karger Fast Facts books/72 xml/77 FF/9781910797938.xml\n",
      "Skipping no bullets book\n",
      "\n",
      "Parsing /content/drive/My Drive/MAGMA: Summarization/corpora/Karger Fast Facts books/72 xml/77 FF/9781910797969.xml\n",
      "Warning: suspicious abbreviations section in this file.\n",
      "\n",
      "Parsing /content/drive/My Drive/MAGMA: Summarization/corpora/Karger Fast Facts books/72 xml/77 FF/9781912776108.xml\n",
      "Skipping no bullets book\n",
      "\n",
      "Parsing /content/drive/My Drive/MAGMA: Summarization/corpora/Karger Fast Facts books/72 xml/77 FF/9781912776139.xml\n",
      "\n",
      "Parsing /content/drive/My Drive/MAGMA: Summarization/corpora/Karger Fast Facts books/72 xml/77 FF/9781912776153.xml\n",
      "\n",
      "Parsing /content/drive/My Drive/MAGMA: Summarization/corpora/Karger Fast Facts books/72 xml/77 FF/9781912776177.xml\n",
      "Skipping German book\n",
      "\n",
      "Parsing /content/drive/My Drive/MAGMA: Summarization/corpora/Karger Fast Facts books/72 xml/77 FF/9781912776207.xml\n",
      "\n",
      "Parsing /content/drive/My Drive/MAGMA: Summarization/corpora/Karger Fast Facts books/72 xml/77 FF/9781912776238.xml\n",
      "\n",
      "Parsing /content/drive/My Drive/MAGMA: Summarization/corpora/Karger Fast Facts books/72 xml/77 FF/9781912776276.xml\n",
      "\n",
      "Parsing /content/drive/My Drive/MAGMA: Summarization/corpora/Karger Fast Facts books/72 xml/77 FF/9781912776382.xml\n",
      "Skipping no bullets book\n",
      "\n",
      "Parsing /content/drive/My Drive/MAGMA: Summarization/corpora/Karger Fast Facts books/72 xml/77 FF/9781912776665.xml\n",
      "Skipping no bullets book\n",
      "\n",
      "Parsing /content/drive/My Drive/MAGMA: Summarization/corpora/Karger Fast Facts books/72 xml/77 FF/9781912776696.xml\n",
      "\n",
      "Parsing /content/drive/My Drive/MAGMA: Summarization/corpora/Karger Fast Facts books/72 xml/77 FF/9781912776726.xml\n",
      "\n",
      "Parsing /content/drive/My Drive/MAGMA: Summarization/corpora/Karger Fast Facts books/72 xml/77 FF/9781912776788.xml\n",
      "Skipping Italian book\n",
      "\n",
      "Parsing /content/drive/My Drive/MAGMA: Summarization/corpora/Karger Fast Facts books/72 xml/77 FF/9781912776818.xml\n",
      "\n",
      "Parsing /content/drive/My Drive/MAGMA: Summarization/corpora/Karger Fast Facts books/72 xml/77 FF/9781912776849.xml\n",
      "Skipping German book\n",
      "\n",
      "Parsing /content/drive/My Drive/MAGMA: Summarization/corpora/Karger Fast Facts books/72 xml/77 FF/9781912776870.xml\n",
      "Skipping Spanish book\n",
      "\n",
      "Parsing /content/drive/My Drive/MAGMA: Summarization/corpora/Karger Fast Facts books/72 xml/77 FF/9781912776900.xml\n",
      "Skipping Italian book\n",
      "\n",
      "Parsing /content/drive/My Drive/MAGMA: Summarization/corpora/Karger Fast Facts books/72 xml/77 FF/9781912776931.xml\n",
      "Skipping French book\n",
      "\n",
      "Parsing /content/drive/My Drive/MAGMA: Summarization/corpora/Karger Fast Facts books/72 xml/77 FF/9781912776962.xml\n",
      "Skipping German book\n",
      "\n",
      "Parsing /content/drive/My Drive/MAGMA: Summarization/corpora/Karger Fast Facts books/72 xml/77 FF/9781912776993.xml\n",
      "Skipping Spanish book\n",
      "\n",
      "Parsing /content/drive/My Drive/MAGMA: Summarization/corpora/Karger Fast Facts books/72 xml/77 FF/9783318065435.xml\n",
      "Skipping no bullets book\n",
      "\n",
      "Parsing /content/drive/My Drive/MAGMA: Summarization/corpora/Karger Fast Facts books/72 xml/77 FF/9783318065640.xml\n",
      "Skipping Spanish book\n",
      "\n",
      "Parsing /content/drive/My Drive/MAGMA: Summarization/corpora/Karger Fast Facts books/72 xml/77 FF/9783318065848.xml\n",
      "Skipping Spanish book\n",
      "\n",
      "Parsing /content/drive/My Drive/MAGMA: Summarization/corpora/Karger Fast Facts books/72 xml/77 FF/9783318065893.xml\n",
      "\n",
      "Parsing /content/drive/My Drive/MAGMA: Summarization/corpora/Karger Fast Facts books/72 xml/77 FF/9783318066159.xml\n",
      "Skipping Spanish book\n",
      "\n",
      "Parsing /content/drive/My Drive/MAGMA: Summarization/corpora/Karger Fast Facts books/72 xml/77 FF/9783318066241.xml\n",
      "\n",
      "Parsing /content/drive/My Drive/MAGMA: Summarization/corpora/Karger Fast Facts books/72 xml/77 FF/9783318066302.xml\n",
      "Skipping Italian book\n",
      "\n",
      "Parsing /content/drive/My Drive/MAGMA: Summarization/corpora/Karger Fast Facts books/72 xml/77 FF/9783318066371.xml\n",
      "Skipping Spanish book\n",
      "\n",
      "Parsing /content/drive/My Drive/MAGMA: Summarization/corpora/Karger Fast Facts books/72 xml/77 FF/9783318066685.xml\n",
      "\n",
      "Parsing /content/drive/My Drive/MAGMA: Summarization/corpora/Karger Fast Facts books/72 xml/77 FF/9783318067095.xml\n",
      "Warning: suspicious glossary section in this file.\n",
      "\n",
      "Parsing /content/drive/My Drive/MAGMA: Summarization/corpora/Karger Fast Facts books/72 xml/77 FF/9783318067606.xml\n",
      "Skipping Spanish book\n",
      "\n",
      "Parsing /content/drive/My Drive/MAGMA: Summarization/corpora/Karger Fast Facts books/72 xml/77 FF/9783318067637.xml\n",
      "Skipping Spanish book\n",
      "\n",
      "Parsing /content/drive/My Drive/MAGMA: Summarization/corpora/Karger Fast Facts books/72 xml/77 FF/9783318068207.xml\n",
      "\n"
     ]
    }
   ],
   "source": [
    "import xml.etree.ElementTree as ET\n",
    "import sys\n",
    "\n",
    "# the old books are already present in this new files\n",
    "books = []\n",
    "\n",
    "for kb_file in xml_files:\n",
    "    print('Parsing', kb_file)\n",
    "    if ('9781912776849' in kb_file) or\\\n",
    "        ('9781912776962' in kb_file) or\\\n",
    "        ('9781912776177' in kb_file):\n",
    "        print('Skipping German book\\n')\n",
    "        continue\n",
    "    if ('9781912776900' in kb_file) or\\\n",
    "        ('9783318066302' in kb_file) or\\\n",
    "        ('9781912776788' in kb_file):\n",
    "        print('Skipping Italian book\\n')\n",
    "        continue\n",
    "    if '9781912776931' in kb_file:\n",
    "        print('Skipping French book\\n')\n",
    "        continue\n",
    "    if ('9783318067637' in kb_file) or\\\n",
    "        ('9783318067606' in kb_file) or\\\n",
    "        ('9783318066371' in kb_file) or\\\n",
    "        ('9783318066159' in kb_file) or\\\n",
    "        ('9783318065640' in kb_file) or\\\n",
    "        ('9781912776993' in kb_file) or\\\n",
    "        ('9781912776870' in kb_file) or\\\n",
    "        ('9783318065848' in kb_file):\n",
    "        print('Skipping Spanish book\\n')\n",
    "        continue\n",
    "    if ('9781910797938' in kb_file) or\\\n",
    "        ('9781912776108' in kb_file) or\\\n",
    "        ('9781912776382' in kb_file) or\\\n",
    "        ('9781912776665' in kb_file) or\\\n",
    "        ('9783318065435' in kb_file):\n",
    "        print('Skipping no bullets book\\n')\n",
    "        continue\n",
    "        \n",
    "    b = parse_tree(ET.parse(kb_file).getroot())\n",
    "    b.set_id(kb_file[-17:-4])\n",
    "    books.append(b)\n",
    "    print()"
   ]
  },
  {
   "cell_type": "markdown",
   "metadata": {
    "id": "vb_MdivVauzb"
   },
   "source": [
    "## **Base Dataset**"
   ]
  },
  {
   "cell_type": "code",
   "execution_count": 16,
   "metadata": {
    "executionInfo": {
     "elapsed": 19109,
     "status": "ok",
     "timestamp": 1610099677949,
     "user": {
      "displayName": "Marco Pietro Abrate",
      "photoUrl": "https://lh3.googleusercontent.com/a-/AOh14Gjh-8YF-8BlnrkN9mLZ0xfVOWfOh7kYncpYRv-Y=s64",
      "userId": "15422244832836998434"
     },
     "user_tz": -60
    },
    "id": "sOVkSQmN4Nh_"
   },
   "outputs": [],
   "source": [
    "dfs = []\n",
    "keys = []\n",
    "for b in books:\n",
    "    dfs.append(b.get_dataframe())\n",
    "    keys.append(b.get_id())\n",
    "df = pd.concat(dfs, keys=keys, names=['book'])"
   ]
  },
  {
   "cell_type": "markdown",
   "metadata": {
    "id": "OpWfK3TaClYR"
   },
   "source": [
    "### **Init and Preprocessing**"
   ]
  },
  {
   "cell_type": "markdown",
   "metadata": {
    "heading_collapsed": true,
    "id": "CnY4YKF7ClYZ"
   },
   "source": [
    "#### Preparing the data\n",
    "\n",
    "* Remove unwanted spaces around brackets\n",
    "* Replace special characters\n",
    "* Replace abbreviations if REPLACE_ABBR"
   ]
  },
  {
   "cell_type": "code",
   "execution_count": 17,
   "metadata": {
    "executionInfo": {
     "elapsed": 19481,
     "status": "ok",
     "timestamp": 1610099678325,
     "user": {
      "displayName": "Marco Pietro Abrate",
      "photoUrl": "https://lh3.googleusercontent.com/a-/AOh14Gjh-8YF-8BlnrkN9mLZ0xfVOWfOh7kYncpYRv-Y=s64",
      "userId": "15422244832836998434"
     },
     "user_tz": -60
    },
    "hidden": true,
    "id": "lTncABWMClYe"
   },
   "outputs": [],
   "source": [
    "# Remove unwanted spaces around brackets\n",
    "if config.REMOVE_PAR:\n",
    "    df.text = df.text.map(lambda t: re.sub(r'\\([^)]*\\)', '', t))\n",
    "else:\n",
    "    df.text = df.text.map(lambda t: re.sub('\\s*\\(\\s+', ' (', t))\n",
    "    df.text = df.text.map(lambda t: re.sub('\\s+\\)', ')', t))"
   ]
  },
  {
   "cell_type": "code",
   "execution_count": 18,
   "metadata": {
    "colab": {
     "base_uri": "https://localhost:8080/"
    },
    "executionInfo": {
     "elapsed": 20450,
     "status": "ok",
     "timestamp": 1610099679302,
     "user": {
      "displayName": "Marco Pietro Abrate",
      "photoUrl": "https://lh3.googleusercontent.com/a-/AOh14Gjh-8YF-8BlnrkN9mLZ0xfVOWfOh7kYncpYRv-Y=s64",
      "userId": "15422244832836998434"
     },
     "user_tz": -60
    },
    "hidden": true,
    "id": "_J99F07QClYh",
    "outputId": "d31df575-e044-43e2-9336-c828583b703e"
   },
   "outputs": [
    {
     "name": "stdout",
     "output_type": "stream",
     "text": [
      "['i.e.', 'e.g.', '–', '•', '‘', '’', '±', '≤', '≥', '×', '~', 'α', 'β', 'γ', 'ζ', '&']\n",
      "['id est', 'exempli gratia', '-', '-', \"'\", \"'\", '+-', '<=', '>=', 'x', ' around ', 'alpha', 'beta', 'gamma', 'zed', 'and']\n",
      "['i.e.', 'e.g.', '–', '•', '‘', '’', '±', '≤', '≥', '×', '~', 'α', 'β', 'γ', 'ζ', '&']\n",
      "['id est', 'exempli gratia', '-', '-', \"'\", \"'\", '+-', '<=', '>=', 'x', ' around ', 'alpha', 'beta', 'gamma', 'zed', 'and']\n"
     ]
    }
   ],
   "source": [
    "def remove_special_characters(df, col):\n",
    "    def replace_string_or_list(x, s, sub):\n",
    "        if isinstance(x, list):\n",
    "            return [e.replace(s, sub) for e in x]\n",
    "        else:\n",
    "            return x.replace(s, sub)\n",
    "\n",
    "    special_char = []\n",
    "    sub_char = []\n",
    "    with open(config.SPECIAL_CHAR_FILE, 'r') as scf:\n",
    "        i = 0\n",
    "        for l in scf.read().splitlines():\n",
    "            if i % 2 == 0:\n",
    "                special_char.append(l)\n",
    "            else:\n",
    "                sub_char.append(l)\n",
    "            i+=1\n",
    "    print(special_char)\n",
    "    print(sub_char)\n",
    "\n",
    "    for s, sub in zip(special_char, sub_char):\n",
    "        df[col] = df[col].map(lambda x: replace_string_or_list(x, s, sub),\n",
    "            na_action='ignore')\n",
    "    \n",
    "    return df\n",
    "\n",
    "df = remove_special_characters(df, 'text')\n",
    "df = remove_special_characters(df, 'bullets')"
   ]
  },
  {
   "cell_type": "code",
   "execution_count": 19,
   "metadata": {
    "executionInfo": {
     "elapsed": 20449,
     "status": "ok",
     "timestamp": 1610099679304,
     "user": {
      "displayName": "Marco Pietro Abrate",
      "photoUrl": "https://lh3.googleusercontent.com/a-/AOh14Gjh-8YF-8BlnrkN9mLZ0xfVOWfOh7kYncpYRv-Y=s64",
      "userId": "15422244832836998434"
     },
     "user_tz": -60
    },
    "hidden": true,
    "id": "W2L64qq4ClYj"
   },
   "outputs": [],
   "source": [
    "# Remove new lines from bullet points\n",
    "df.bullets = df.bullets.map(lambda l:\n",
    "    [b.replace('\\n', '') for b in l], na_action='ignore')"
   ]
  },
  {
   "cell_type": "code",
   "execution_count": 20,
   "metadata": {
    "executionInfo": {
     "elapsed": 20448,
     "status": "ok",
     "timestamp": 1610099679306,
     "user": {
      "displayName": "Marco Pietro Abrate",
      "photoUrl": "https://lh3.googleusercontent.com/a-/AOh14Gjh-8YF-8BlnrkN9mLZ0xfVOWfOh7kYncpYRv-Y=s64",
      "userId": "15422244832836998434"
     },
     "user_tz": -60
    },
    "hidden": true,
    "id": "txdHao8UClYl"
   },
   "outputs": [],
   "source": [
    "# Replace abbreviations in text\n",
    "if config.REPLACE_ABBR:\n",
    "    abbreviations =\\\n",
    "        [books[bid].get_abbreviations() for bid in BOOK_IDS]\n",
    "    for bid, abbr in enumerate(abbreviations):\n",
    "        if abbreviations is not None:\n",
    "            df.loc[bid].text = \\\n",
    "                df.loc[bid].text.replace(abbr, regex=True)"
   ]
  },
  {
   "cell_type": "markdown",
   "metadata": {
    "heading_collapsed": true,
    "id": "Yygx5__lH-eG"
   },
   "source": [
    "### **Removing books with duplicate bullets**"
   ]
  },
  {
   "cell_type": "markdown",
   "metadata": {
    "hidden": true,
    "id": "NWDZbmKBtSkl"
   },
   "source": [
    "* 9781908541437 (Fast Facts: Cardiac Arrhythmias 2nd edition) $\\leftrightarrow$ 9781912776153 (Fast Facts: Cardiac Arrhythmias 3rd edition) **22 bullets in common**\n",
    "* 9781908541703 (Fast Facts: Breast Cancer 5th edition) $\\leftrightarrow$ 9781910797242 (Fast Facts: Early Breast Cancer) **13 bullets in common**\n",
    "* 9781908541796 (Fast Facts: Lymphoma 2nd edition) $\\leftrightarrow$ 9781910797969 (Fast Facts: Lymphoma) **27 bullets in common**\n",
    "* 9781910797457 (Fast Facts: Prostate Cancer 9th edition) $\\leftrightarrow$ 9783318065893 (Fast Facts: Prostate Cancer) **16 bullets in common**\n",
    "* 9781910797693 (Fast Facts: Biosimilars) $\\leftrightarrow$ 9781912776238 (Fast Facts: Biosimilars in Hematology and Oncology) **1 bullet in common**\n",
    "\n",
    "So, **we remove**:\n",
    "\n",
    "* 9781908541437\n",
    "* 9781910797242\n",
    "* 9781910797969\n",
    "* 9783318065893\n",
    "* one chapter of 9781912776238"
   ]
  },
  {
   "cell_type": "code",
   "execution_count": 21,
   "metadata": {
    "colab": {
     "base_uri": "https://localhost:8080/"
    },
    "executionInfo": {
     "elapsed": 27515,
     "status": "ok",
     "timestamp": 1610099686377,
     "user": {
      "displayName": "Marco Pietro Abrate",
      "photoUrl": "https://lh3.googleusercontent.com/a-/AOh14Gjh-8YF-8BlnrkN9mLZ0xfVOWfOh7kYncpYRv-Y=s64",
      "userId": "15422244832836998434"
     },
     "user_tz": -60
    },
    "hidden": true,
    "id": "H5aanWeYG0Ef",
    "outputId": "38140bf1-ba5e-47c8-c517-f1d00560afb1"
   },
   "outputs": [
    {
     "name": "stdout",
     "output_type": "stream",
     "text": [
      "Cardiac cells have the unique ability to depolarize rhythmically; depolarization normally occurs in one direction from the top down, from atria to ventricles.\n",
      "[(9781908541437, 'ch_3'), (9781912776153, 'chp1')]\n",
      "\n",
      "The AV node has a decremental slowing effect on conduction.\n",
      "[(9781908541437, 'ch_3'), (9781912776153, 'chp1')]\n",
      "\n",
      "Autonomic effects on the heart (sympathetic and parasympathetic stimuli) can significantly influence cardiac conduction.\n",
      "[(9781908541437, 'ch_3'), (9781912776153, 'chp1')]\n",
      "\n",
      "Re-entry is the most frequent mechanism for arrhythmias.\n",
      "[(9781908541437, 'ch_4'), (9781912776153, 'chp1')]\n",
      "\n",
      "The substrate for an arrhythmia is an abnormal electrical pathway or a region of scarred myocardium. The trigger is an atrial or ventricular ectopic beat.\n",
      "[(9781908541437, 'ch_4'), (9781912776153, 'chp1')]\n",
      "\n",
      "Most supraventricular tachycardias have narrow QRS complexes.\n",
      "[(9781908541437, 'ch_4'), (9781912776153, 'chp1')]\n",
      "\n",
      "Patients with arrhythmias can present in a variety of ways.\n",
      "[(9781908541437, 'ch_5'), (9781912776153, 'chp2')]\n",
      "\n",
      "The frequency of a patient's symptoms will determine the best non-invasive test to apply.\n",
      "[(9781908541437, 'ch_6'), (9781912776153, 'chp5')]\n",
      "\n",
      "Radiofrequency (catheter) ablation can cure many types of arrhythmia.\n",
      "[(9781908541437, 'ch_7'), (9781912776153, 'chp6')]\n",
      "\n",
      "Symptomatic patients should be considered for ablative therapy.\n",
      "[(9781908541437, 'ch_7'), (9781912776153, 'chp6')]\n",
      "\n",
      "Ablation for typical atrial flutter is highly successful and low risk, and should be considered first-line treatment.\n",
      "[(9781908541437, 'ch_9'), (9781912776153, 'chp8')]\n",
      "\n",
      "The risk of systemic embolization in atrial flutter should be considered similar to that for atrial fibrillation (AF).\n",
      "[(9781908541437, 'ch_9'), (9781912776153, 'chp8')]\n",
      "\n",
      "Atypical atrial flutter usually includes right atrial flutter circling around regions of scarring, or left atrial flutter following ablation of AF.\n",
      "[(9781908541437, 'ch_9'), (9781912776153, 'chp8')]\n",
      "\n",
      "Atrial fibrillation (AF) is very common and is a major cause of morbidity and mortality.\n",
      "[(9781908541437, 'ch_10'), (9781912776153, 'chp9')]\n",
      "\n",
      "AF ablation is still evolving as an interventional procedure, with the arrival of new mapping software and the continual evaluation of ablation methods and techniques.\n",
      "[(9781908541437, 'ch_10'), (9781912776153, 'chp9')]\n",
      "\n",
      "In most patients, AF is not cured by ablation. In many patients, AF is a progressive condition that may be associated with long-term recurrences of AF after apparently successful ablation procedures.\n",
      "[(9781908541437, 'ch_10'), (9781912776153, 'chp9')]\n",
      "\n",
      "A wide regular QRS complex indicates ventricular tachycardia (VT) until proven otherwise.\n",
      "[(9781908541437, 'ch_11'), (9781912776153, 'chp10')]\n",
      "\n",
      "ECG changes may be intermittent; a normal baseline ECG may not exclude these conditions.\n",
      "[(9781908541437, 'ch_12'), (9781912776153, 'chp11')]\n",
      "\n",
      "Pacemakers are the treatment of choice in patients with symptomatic bradycardia.\n",
      "[(9781908541437, 'ch_13'), (9781912776153, 'chp12')]\n",
      "\n",
      "All implantable defibrillators have a back-up pacemaker.\n",
      "[(9781908541437, 'ch_13'), (9781912776153, 'chp12')]\n",
      "\n",
      "Patients with pacemakers can live a near-normal life.\n",
      "[(9781908541437, 'ch_13'), (9781912776153, 'chp12')]\n",
      "\n",
      "Patients need regular review (usually annually) to check battery life and lead integrity.\n",
      "[(9781908541437, 'ch_13'), (9781912776153, 'chp12')]\n",
      "\n",
      "Age is the greatest risk factor.\n",
      "[(9781908541703, 'ch_2'), (9781910797242, 'chp1')]\n",
      "\n",
      "Hormonal factors, such as menstrual and obstetric history and exogenous hormones affect the risk of breast cancer.\n",
      "[(9781908541703, 'ch_2'), (9781910797242, 'chp1')]\n",
      "\n",
      "Mammographic breast density is an independent and powerful risk factor that is not yet fully explained.\n",
      "[(9781908541703, 'ch_2'), (9781910797242, 'chp1')]\n",
      "\n",
      "Triple assessment - clinical examination plus imaging plus cytological or histopathological examination - represents the diagnostic gold standard.\n",
      "[(9781908541703, 'ch_5'), (9781910797242, 'chp2')]\n",
      "\n",
      "All suspicious findings on MRI require pathological confirmation.\n",
      "[(9781908541703, 'ch_5'), (9781910797242, 'chp2')]\n",
      "\n",
      "No test is pathognomonic. Clinical judgment has high value.\n",
      "[(9781908541703, 'ch_5'), (9781910797242, 'chp2')]\n",
      "\n",
      "Breast screening programs have modest utility. Their greatest value may be in increasing patient self-awareness and in the improved organization of clinical services.\n",
      "[(9781908541703, 'ch_5'), (9781910797242, 'chp2')]\n",
      "\n",
      "Mastectomy and lumpectomy/wide local excision plus radiation are therapeutically equivalent for most women.\n",
      "[(9781908541703, 'ch_6'), (9781910797242, 'chp4')]\n",
      "\n",
      "Well-designed and managed clinical trials remain the preferred context for treatment.\n",
      "[(9781908541703, 'ch_7'), (9781910797242, 'chp5')]\n",
      "\n",
      "Conventional belief in the need for intensive follow-up after treatment for primary breast cancer is being challenged, but it may have non-measurable benefits to the patient and their doctors and nurses.\n",
      "[(9781908541703, 'ch_8'), (9781910797242, 'chp6')]\n",
      "\n",
      "Attention must be paid to both physical and psychological rehabilitation.\n",
      "[(9781908541703, 'ch_8'), (9781910797242, 'chp6')]\n",
      "\n",
      "Simple physical exercises, initiated early, accelerate and improve rehabilitation.\n",
      "[(9781908541703, 'ch_8'), (9781910797242, 'chp6')]\n",
      "\n",
      "Short- and long-term emotional and spiritual support should not be overlooked.\n",
      "[(9781908541703, 'ch_8'), (9781910797242, 'chp6')]\n",
      "\n",
      "Large cohort studies are required to verify many of the potential causative factors.\n",
      "[(9781908541796, 'chapter1'), (9781910797969, 'chp1')]\n",
      "\n",
      "Lymphomas are cancers of lymphocytes, the major cellular components of the adaptive immune response.\n",
      "[(9781908541796, 'chapter2'), (9781910797969, 'chp2')]\n",
      "\n",
      "Immunophenotyping and immunohistochemistry analyze the expression of proteins on the cell surface (or sometimes within the cytoplasm or nucleus).\n",
      "[(9781908541796, 'chapter3'), (9781910797969, 'chp3')]\n",
      "\n",
      "Karyotyping and fluorescent in-situ hybridization (FISH) reveal the chromosomal changes in the cell.\n",
      "[(9781908541796, 'chapter3'), (9781910797969, 'chp3')]\n",
      "\n",
      "An increased understanding of the molecular and cellular basis of lymphomas may lead to improved targeting of treatment.\n",
      "[(9781908541796, 'chapter3'), (9781910797969, 'chp3')]\n",
      "\n",
      "Patients who relapse should be considered for re-biopsy and complete restaging.\n",
      "[(9781908541796, 'chapter4'), (9781910797969, 'chp4')]\n",
      "\n",
      "Low-grade B-cell lymphomas are more common in the elderly and treatment is usually aimed at alleviating symptoms rather than curing the disease.\n",
      "[(9781908541796, 'chapter6'), (9781910797969, 'chp6')]\n",
      "\n",
      "Some low-grade lymphomas, such as follicular and mantle cell lymphomas, have characteristic immunophenotypes and cytogenetics that enable clear diagnosis.\n",
      "[(9781908541796, 'chapter6'), (9781910797969, 'chp6')]\n",
      "\n",
      "T-cell lymphomas often involve the skin.\n",
      "[(9781908541796, 'chapter7'), (9781910797969, 'chp7')]\n",
      "\n",
      "Peripheral T-cell lymphomas present with widespread small-volume lymphadenopathy, but with marked systemic symptoms.\n",
      "[(9781908541796, 'chapter7'), (9781910797969, 'chp7')]\n",
      "\n",
      "Most T-cell lymphomas are aggressive and often progress during treatment.\n",
      "[(9781908541796, 'chapter7'), (9781910797969, 'chp7')]\n",
      "\n",
      "Immunosuppression is a major risk factor for the development of B-cell lymphoma.\n",
      "[(9781908541796, 'chapter8'), (9781910797969, 'chp8')]\n",
      "\n",
      "Viruses, such as Epstein-Barr virus (associated with post-transplant lymphoproliferative disorder, Burkitt lymphoma and diffuse large B-cell lymphoma) and human herpes virus 8 (associated with primary effusion lymphoma) are often implicated.\n",
      "[(9781908541796, 'chapter8'), (9781910797969, 'chp8')]\n",
      "\n",
      "Improved HIV treatment is leading to a falling incidence of HIV-associated lymphoma.\n",
      "[(9781908541796, 'chapter8'), (9781910797969, 'chp8')]\n",
      "\n",
      "The use of rituximab in HIV-associated B-cell lymphomas is generally considered standard in those with well-controlled infection.\n",
      "[(9781908541796, 'chapter8'), (9781910797969, 'chp8')]\n",
      "\n",
      "There are two main types with distinct immunophenotypes and clinical pictures: classic Hodgkin lymphoma (cHL) and nodular lymphocyte-predominant Hodgkin lymphoma (nLPHL).\n",
      "[(9781908541796, 'chapter9'), (9781910797969, 'chp9')]\n",
      "\n",
      "Treatment of early-stage cHL involves two to four courses of combination chemotherapy (usually ABVD), often with involved-field radiotherapy.\n",
      "[(9781908541796, 'chapter9'), (9781910797969, 'chp9')]\n",
      "\n",
      "Because of the high cure rates, a major aim of future treatment strategies is to reduce the long-term effects of treatment, such as secondary cancers and heart disease.\n",
      "[(9781908541796, 'chapter9'), (9781910797969, 'chp9')]\n",
      "\n",
      "Chemotherapy is administered orally, intravenously, subcutaneously or intrathecally.\n",
      "[(9781908541796, 'chapter10'), (9781910797969, 'chp10')]\n",
      "\n",
      "Radiotherapy kills cells by causing damage to the DNA.\n",
      "[(9781908541796, 'chapter10'), (9781910797969, 'chp10')]\n",
      "\n",
      "Side effects of radiotherapy include damage to local tissues in the radiation field and an increased risk of secondary cancers. These effects are minimized by using fractions (which also increases efficacy) and by careful planning.\n",
      "[(9781908541796, 'chapter10'), (9781910797969, 'chp10')]\n",
      "\n",
      "Monoclonal antibody therapy with rituximab (anti-CD20) has revolutionized the treatment of both high- and low-grade lymphomas, and indications for this agent are likely to expand.\n",
      "[(9781908541796, 'chapter10'), (9781910797969, 'chp10')]\n",
      "\n",
      "High-dose therapy with autologous stem-cell support is useful for patients with certain types of relapsed lymphoma and may be indicated as part of first-line therapy for very aggressive lymphomas.\n",
      "[(9781908541796, 'chapter10'), (9781910797969, 'chp10')]\n",
      "\n",
      "Effective analgesia and antiemesis has revolutionized supportive care, but fatigue remains debilitating, common and hard to manage.\n",
      "[(9781908541796, 'chapter11'), (9781910797969, 'chp11')]\n",
      "\n",
      "Anemia may be treated with recombinant human erythropoietin or blood transfusions.\n",
      "[(9781908541796, 'chapter11'), (9781910797969, 'chp11')]\n",
      "\n",
      "If sufficiently severe, a low platelet count may be treated with platelet transfusions.\n",
      "[(9781908541796, 'chapter11'), (9781910797969, 'chp11')]\n",
      "\n",
      "Tumor lysis syndrome is a serious complication of aggressive lymphomas. Recognizing patients at high risk and implementing effective preventive measures is the mainstay of treatment.\n",
      "[(9781908541796, 'chapter11'), (9781910797969, 'chp11')]\n",
      "\n",
      "Most prostate cancers are adenocarcinomas arising in the peripheral zone of the gland.\n",
      "[(9781910797457, 'chp1'), (9783318065893, 'ch1')]\n",
      "\n",
      "Prostate cancers are graded according to the Gleason system, which carries prognostic significance.\n",
      "[(9781910797457, 'chp1'), (9783318065893, 'ch1')]\n",
      "\n",
      "More advanced disease can present with symptoms of bladder outflow obstruction, hematuria or ureteric obstruction.\n",
      "[(9781910797457, 'chp3'), (9783318065893, 'ch3')]\n",
      "\n",
      "Bone metastases may cause bone pain or pathological fracture.\n",
      "[(9781910797457, 'chp3'), (9783318065893, 'ch3')]\n",
      "\n",
      "Ultrasound-guided biopsy is needed to confirm the diagnosis.\n",
      "[(9781910797457, 'chp4'), (9783318065893, 'ch4')]\n",
      "\n",
      "Multiparametric MRI is increasingly used to target biopsies and can provide information about local staging.\n",
      "[(9781910797457, 'chp4'), (9783318065893, 'ch4')]\n",
      "\n",
      "In the case of high-risk cancer, surgery may be considered as part of a multimodal therapeutic approach.\n",
      "[(9781910797457, 'chp5'), (9783318065893, 'ch5')]\n",
      "\n",
      "Brachytherapy can be combined with EBRT in higher-risk individuals.\n",
      "[(9781910797457, 'chp5'), (9783318065893, 'ch5')]\n",
      "\n",
      "Treatment with EBRT and hormonal therapy is more effective than radiotherapy alone in men with intermediate- and high-risk cancer.\n",
      "[(9781910797457, 'chp5'), (9783318065893, 'ch5')]\n",
      "\n",
      "Recurrence after prostatectomy is generally defined as PSA above 0.2 ng/mL and rising.\n",
      "[(9781910797457, 'chp6'), (9783318065893, 'ch6')]\n",
      "\n",
      "Recurrence after radiation therapy is usually defined as PSA that is at least 2 ng/mL above the nadir.\n",
      "[(9781910797457, 'chp6'), (9783318065893, 'ch6')]\n",
      "\n",
      "For the average patient, metastases do not develop until 8 years after a PSA rise is detected, with death some 5 years later, so watchful waiting is an appropriate option for some men with recurrence.\n",
      "[(9781910797457, 'chp6'), (9783318065893, 'ch6')]\n",
      "\n",
      "Eventually, androgen-insensitive cell clones develop and the PSA level begins to rise (castrate resistance).\n",
      "[(9781910797457, 'chp7'), (9783318065893, 'ch7')]\n",
      "\n",
      "The side effects of medical castration include hot flashes, loss of libido and erectile dysfunction, and the reduced testosterone level may also be associated with features of the metabolic syndrome.\n",
      "[(9781910797457, 'chp7'), (9783318065893, 'ch7')]\n",
      "\n",
      "The monoclonal antibody denosumab and the bisphosphonate zoledronic acid have been reported to significantly delay bone-related events in men with metastatic prostate cancer.\n",
      "[(9781910797457, 'chp8'), (9783318065893, 'ch8')]\n",
      "\n",
      "Sexual dysfunction is a common sequela of prostate cancer treatment. An open and informed discussion with the patient and his partner will do much to counter anxiety and loss of self-esteem.\n",
      "[(9781910797457, 'chp9'), (9783318065893, 'ch9')]\n",
      "\n",
      "The regulations were originally developed to cover variation in batches of biologics resulting from manufacturing changes, including procedures to ensure that batches of originator biologics were within the development corridor.\n",
      "[(9781910797693, 'chp3'), (9781912776238, 'ch3')]\n",
      "\n"
     ]
    }
   ],
   "source": [
    "df_expl = df.explode('bullets')\n",
    "all_bul = df_expl.bullets.unique()\n",
    "\n",
    "books_with_duplicates = []\n",
    "chapters_with_duplicates = []\n",
    "for b in all_bul:\n",
    "    idx = df_expl[df_expl['bullets'] == b].index\n",
    "    book = idx.get_level_values('book')\n",
    "    cpt = idx.get_level_values('chapter')\n",
    "    idx = sorted(list(set(zip(book, cpt))))\n",
    "    if len(idx) > 1:\n",
    "        books_with_duplicates += list(set(book))\n",
    "        chapters_with_duplicates += idx\n",
    "        print(b)\n",
    "        print(idx)\n",
    "        print()"
   ]
  },
  {
   "cell_type": "code",
   "execution_count": 22,
   "metadata": {
    "colab": {
     "base_uri": "https://localhost:8080/"
    },
    "executionInfo": {
     "elapsed": 27511,
     "status": "ok",
     "timestamp": 1610099686378,
     "user": {
      "displayName": "Marco Pietro Abrate",
      "photoUrl": "https://lh3.googleusercontent.com/a-/AOh14Gjh-8YF-8BlnrkN9mLZ0xfVOWfOh7kYncpYRv-Y=s64",
      "userId": "15422244832836998434"
     },
     "user_tz": -60
    },
    "hidden": true,
    "id": "DS1wdR4fuYK8",
    "outputId": "f2ac8230-6603-47fb-d13e-68be607b82d4"
   },
   "outputs": [
    {
     "data": {
      "text/plain": [
       "{9781908541437: 22,\n",
       " 9781908541703: 13,\n",
       " 9781908541796: 27,\n",
       " 9781910797242: 13,\n",
       " 9781910797457: 16,\n",
       " 9781910797693: 1,\n",
       " 9781910797969: 27,\n",
       " 9781912776153: 22,\n",
       " 9781912776238: 1,\n",
       " 9783318065893: 16}"
      ]
     },
     "execution_count": 22,
     "metadata": {
      "tags": []
     },
     "output_type": "execute_result"
    }
   ],
   "source": [
    "from collections import Counter\n",
    "dict(Counter(books_with_duplicates))"
   ]
  },
  {
   "cell_type": "code",
   "execution_count": 23,
   "metadata": {
    "colab": {
     "base_uri": "https://localhost:8080/"
    },
    "executionInfo": {
     "elapsed": 27510,
     "status": "ok",
     "timestamp": 1610099686382,
     "user": {
      "displayName": "Marco Pietro Abrate",
      "photoUrl": "https://lh3.googleusercontent.com/a-/AOh14Gjh-8YF-8BlnrkN9mLZ0xfVOWfOh7kYncpYRv-Y=s64",
      "userId": "15422244832836998434"
     },
     "user_tz": -60
    },
    "hidden": true,
    "id": "f50rhs7uw4dr",
    "outputId": "ee8c7d02-3bf5-4c31-8176-9ed126d666a9"
   },
   "outputs": [
    {
     "data": {
      "text/plain": [
       "{(9781908541437, 'ch_10'): 3,\n",
       " (9781908541437, 'ch_11'): 1,\n",
       " (9781908541437, 'ch_12'): 1,\n",
       " (9781908541437, 'ch_13'): 4,\n",
       " (9781908541437, 'ch_3'): 3,\n",
       " (9781908541437, 'ch_4'): 3,\n",
       " (9781908541437, 'ch_5'): 1,\n",
       " (9781908541437, 'ch_6'): 1,\n",
       " (9781908541437, 'ch_7'): 2,\n",
       " (9781908541437, 'ch_9'): 3,\n",
       " (9781908541703, 'ch_2'): 3,\n",
       " (9781908541703, 'ch_5'): 4,\n",
       " (9781908541703, 'ch_6'): 1,\n",
       " (9781908541703, 'ch_7'): 1,\n",
       " (9781908541703, 'ch_8'): 4,\n",
       " (9781908541796, 'chapter1'): 1,\n",
       " (9781908541796, 'chapter10'): 5,\n",
       " (9781908541796, 'chapter11'): 4,\n",
       " (9781908541796, 'chapter2'): 1,\n",
       " (9781908541796, 'chapter3'): 3,\n",
       " (9781908541796, 'chapter4'): 1,\n",
       " (9781908541796, 'chapter6'): 2,\n",
       " (9781908541796, 'chapter7'): 3,\n",
       " (9781908541796, 'chapter8'): 4,\n",
       " (9781908541796, 'chapter9'): 3,\n",
       " (9781910797242, 'chp1'): 3,\n",
       " (9781910797242, 'chp2'): 4,\n",
       " (9781910797242, 'chp4'): 1,\n",
       " (9781910797242, 'chp5'): 1,\n",
       " (9781910797242, 'chp6'): 4,\n",
       " (9781910797457, 'chp1'): 2,\n",
       " (9781910797457, 'chp3'): 2,\n",
       " (9781910797457, 'chp4'): 2,\n",
       " (9781910797457, 'chp5'): 3,\n",
       " (9781910797457, 'chp6'): 3,\n",
       " (9781910797457, 'chp7'): 2,\n",
       " (9781910797457, 'chp8'): 1,\n",
       " (9781910797457, 'chp9'): 1,\n",
       " (9781910797693, 'chp3'): 1,\n",
       " (9781910797969, 'chp1'): 1,\n",
       " (9781910797969, 'chp10'): 5,\n",
       " (9781910797969, 'chp11'): 4,\n",
       " (9781910797969, 'chp2'): 1,\n",
       " (9781910797969, 'chp3'): 3,\n",
       " (9781910797969, 'chp4'): 1,\n",
       " (9781910797969, 'chp6'): 2,\n",
       " (9781910797969, 'chp7'): 3,\n",
       " (9781910797969, 'chp8'): 4,\n",
       " (9781910797969, 'chp9'): 3,\n",
       " (9781912776153, 'chp1'): 6,\n",
       " (9781912776153, 'chp10'): 1,\n",
       " (9781912776153, 'chp11'): 1,\n",
       " (9781912776153, 'chp12'): 4,\n",
       " (9781912776153, 'chp2'): 1,\n",
       " (9781912776153, 'chp5'): 1,\n",
       " (9781912776153, 'chp6'): 2,\n",
       " (9781912776153, 'chp8'): 3,\n",
       " (9781912776153, 'chp9'): 3,\n",
       " (9781912776238, 'ch3'): 1,\n",
       " (9783318065893, 'ch1'): 2,\n",
       " (9783318065893, 'ch3'): 2,\n",
       " (9783318065893, 'ch4'): 2,\n",
       " (9783318065893, 'ch5'): 3,\n",
       " (9783318065893, 'ch6'): 3,\n",
       " (9783318065893, 'ch7'): 2,\n",
       " (9783318065893, 'ch8'): 1,\n",
       " (9783318065893, 'ch9'): 1}"
      ]
     },
     "execution_count": 23,
     "metadata": {
      "tags": []
     },
     "output_type": "execute_result"
    }
   ],
   "source": [
    "dict(Counter(chapters_with_duplicates))"
   ]
  },
  {
   "cell_type": "code",
   "execution_count": 24,
   "metadata": {
    "colab": {
     "base_uri": "https://localhost:8080/"
    },
    "executionInfo": {
     "elapsed": 27506,
     "status": "ok",
     "timestamp": 1610099686382,
     "user": {
      "displayName": "Marco Pietro Abrate",
      "photoUrl": "https://lh3.googleusercontent.com/a-/AOh14Gjh-8YF-8BlnrkN9mLZ0xfVOWfOh7kYncpYRv-Y=s64",
      "userId": "15422244832836998434"
     },
     "user_tz": -60
    },
    "hidden": true,
    "id": "N9RvoI_1x9z-",
    "outputId": "79c43ccd-a89e-4299-d396-d3a437b940a5"
   },
   "outputs": [
    {
     "name": "stderr",
     "output_type": "stream",
     "text": [
      "/usr/local/lib/python3.6/dist-packages/ipykernel/zmqshell.py:537: PerformanceWarning: indexing past lexsort depth may impact performance.\n",
      "  return super(ZMQInteractiveShell, self).run_cell(*args, **kwargs)\n"
     ]
    }
   ],
   "source": [
    "df = df.drop(labels=[9781908541437, 9781910797242, 9781910797969, 9783318065893, (9781912776238, 'ch3')])"
   ]
  },
  {
   "cell_type": "markdown",
   "metadata": {
    "hidden": true,
    "id": "XuK_-FaJymTL"
   },
   "source": [
    "Double check"
   ]
  },
  {
   "cell_type": "code",
   "execution_count": 25,
   "metadata": {
    "executionInfo": {
     "elapsed": 32506,
     "status": "ok",
     "timestamp": 1610099691384,
     "user": {
      "displayName": "Marco Pietro Abrate",
      "photoUrl": "https://lh3.googleusercontent.com/a-/AOh14Gjh-8YF-8BlnrkN9mLZ0xfVOWfOh7kYncpYRv-Y=s64",
      "userId": "15422244832836998434"
     },
     "user_tz": -60
    },
    "hidden": true,
    "id": "PVEjZEU6ye7m"
   },
   "outputs": [],
   "source": [
    "df_expl = df.explode('bullets')\n",
    "all_bul = df_expl.bullets.unique()\n",
    "\n",
    "books_with_duplicates = []\n",
    "chapters_with_duplicates = []\n",
    "for b in all_bul:\n",
    "    idx = df_expl[df_expl['bullets'] == b].index\n",
    "    book = idx.get_level_values('book')\n",
    "    cpt = idx.get_level_values('chapter')\n",
    "    idx = sorted(list(set(zip(book, cpt))))\n",
    "    if len(idx) > 1:\n",
    "        books_with_duplicates += list(set(book))\n",
    "        chapters_with_duplicates += idx\n",
    "        print(b)\n",
    "        print(idx)\n",
    "        print()"
   ]
  },
  {
   "cell_type": "markdown",
   "metadata": {
    "id": "tZqjeMzM4tc2"
   },
   "source": [
    "### **Save dataset**"
   ]
  },
  {
   "cell_type": "code",
   "execution_count": 26,
   "metadata": {
    "executionInfo": {
     "elapsed": 33711,
     "status": "ok",
     "timestamp": 1610099692591,
     "user": {
      "displayName": "Marco Pietro Abrate",
      "photoUrl": "https://lh3.googleusercontent.com/a-/AOh14Gjh-8YF-8BlnrkN9mLZ0xfVOWfOh7kYncpYRv-Y=s64",
      "userId": "15422244832836998434"
     },
     "user_tz": -60
    },
    "id": "UkH-qcIv4tc3"
   },
   "outputs": [],
   "source": [
    "df.to_csv(OUTPUT_PATH+'df.csv')"
   ]
  },
  {
   "cell_type": "code",
   "execution_count": 27,
   "metadata": {
    "executionInfo": {
     "elapsed": 47624,
     "status": "ok",
     "timestamp": 1610099706507,
     "user": {
      "displayName": "Marco Pietro Abrate",
      "photoUrl": "https://lh3.googleusercontent.com/a-/AOh14Gjh-8YF-8BlnrkN9mLZ0xfVOWfOh7kYncpYRv-Y=s64",
      "userId": "15422244832836998434"
     },
     "user_tz": -60
    },
    "id": "16VuH7-HJv4v"
   },
   "outputs": [],
   "source": [
    "drive.flush_and_unmount()"
   ]
  },
  {
   "cell_type": "markdown",
   "metadata": {},
   "source": [
    "### **Create train, test, validation**"
   ]
  },
  {
   "cell_type": "code",
   "execution_count": 16,
   "metadata": {},
   "outputs": [],
   "source": [
    "df = pd.read_csv(OUTPUT_PATH+'df.csv').set_index(['book', 'chapter', 'section', 'subsection'])\n",
    "df.bullets = df.bullets.map(eval, na_action='ignore')"
   ]
  },
  {
   "cell_type": "code",
   "execution_count": 18,
   "metadata": {},
   "outputs": [],
   "source": [
    "RE_SPLITTER = '\\n'              # do we split sentences of paragraphs?\n",
    "                                # use '\\.(?!\\d)|\\n' or '\\n', respectively\n",
    "\n",
    "TOKEN_MAX_LEN = 99              # max length of a word\n",
    "PARA_MIN_LENGTH = 2             # minimum length for a sentence or\n",
    "                                # a paragraph, in tokens"
   ]
  },
  {
   "cell_type": "markdown",
   "metadata": {
    "heading_collapsed": true
   },
   "source": [
    "#### Preprocessing\n",
    "\n",
    "* Split based on RE_SPLITTER\n",
    "* Explode the dataset\n",
    "* Remove unwanted chars at beginning or end of sentence\n",
    "* Remove multiple spaces\n",
    "* Remove long words (> TOKEN_MAX_LEN chars)\n",
    "* Remove short sentences / paragraphs (< PARA_MIN_LENGTH tokens)"
   ]
  },
  {
   "cell_type": "code",
   "execution_count": 19,
   "metadata": {
    "hidden": true
   },
   "outputs": [],
   "source": [
    "# Split in sentences / paragraphs based on RE_SPLITTER\n",
    "df.text =\\\n",
    "    df.text.map(lambda x: [p.strip() for p in re.split(RE_SPLITTER, x) if p!=''],\n",
    "                na_action='ignore')\n",
    "    \n",
    "# explode to get one row for each paragraph /sentence\n",
    "df = df.explode('text')\n",
    "df = df.rename(columns={'text': 'para'})\n",
    "df = df.dropna()\n",
    "\n",
    "# Remove unwanted chars at beginning or end of sentence\n",
    "df.para = df.para.map(lambda p: p.lstrip(',;-)] \\n'))\n",
    "df.para = df.para.map(lambda p: p.rstrip(',;-([ \\n'))\n",
    "\n",
    "# Remove multiple spaces\n",
    "df.para = df.para.map(lambda p:\n",
    "    re.sub('\\s+', ' ', p).strip())\n",
    "\n",
    "# Remove long words (> TOKEN_MAX_LEN chars)\n",
    "def para2words(para):\n",
    "    return gensim.utils.simple_preprocess(\n",
    "        para, deacc=True, max_len=TOKEN_MAX_LEN)\n",
    "df['para_proc'] = df.para.map(para2words)\n",
    "\n",
    "# Remove short sentences / paragraphs (< PARA_MIN_LENGTH tokens)\n",
    "df.loc[df.para_proc.map(len) <\\\n",
    "    PARA_MIN_LENGTH, 'para_proc'] = np.nan\n",
    "\n",
    "df = df.dropna()"
   ]
  },
  {
   "cell_type": "code",
   "execution_count": 20,
   "metadata": {
    "hidden": true
   },
   "outputs": [],
   "source": [
    "df = df.groupby(['book', 'chapter'], sort=False).agg({\n",
    "    'para': lambda p: '\\n'.join(list(p)),\n",
    "    'bullets': lambda b: ' <BULL> '.join(list(b)[0])\n",
    "}).rename(columns={'para': 'text'})\n",
    "df.bullets = df.bullets.map(lambda b: '<BULL> '+b)"
   ]
  },
  {
   "cell_type": "code",
   "execution_count": 22,
   "metadata": {
    "hidden": true
   },
   "outputs": [
    {
     "data": {
      "text/plain": [
       "'<BULL> The bladder operates as a low-pressure high-volume system. <BULL> Urine storage and voiding are controlled by reflex centers in the spinal cord, the micturition center in the midbrain and the somatic and parasympathetic nervous systems. <BULL> Voiding requires a coordinated contraction of the detrusor (bladder smooth musculature), simultaneous opening of the bladder outlet (involuntary) and relaxation of the external urethral sphincter (voluntary). Continence requires the converse.'"
      ]
     },
     "execution_count": 22,
     "metadata": {},
     "output_type": "execute_result"
    }
   ],
   "source": [
    "df.iloc[0].bullets"
   ]
  },
  {
   "cell_type": "markdown",
   "metadata": {},
   "source": [
    "#### Save"
   ]
  },
  {
   "cell_type": "code",
   "execution_count": 23,
   "metadata": {},
   "outputs": [],
   "source": [
    "df = df.sample(frac=1, random_state=config.SEED)"
   ]
  },
  {
   "cell_type": "code",
   "execution_count": 24,
   "metadata": {},
   "outputs": [],
   "source": [
    "train, val, test =\\\n",
    "    df.iloc[:int(len(df)*0.8)], df.iloc[int(len(df)*0.8):int(len(df)*0.9)], df.iloc[int(len(df)*0.9):]"
   ]
  },
  {
   "cell_type": "code",
   "execution_count": 25,
   "metadata": {},
   "outputs": [
    {
     "name": "stdout",
     "output_type": "stream",
     "text": [
      "362 45 46\n"
     ]
    }
   ],
   "source": [
    "print(len(train), len(val), len(test))"
   ]
  },
  {
   "cell_type": "code",
   "execution_count": 26,
   "metadata": {},
   "outputs": [],
   "source": [
    "train.to_csv(OUTPUT_PATH+'train.csv')\n",
    "val.to_csv(OUTPUT_PATH+'val.csv')\n",
    "test.to_csv(OUTPUT_PATH+'test.csv')"
   ]
  },
  {
   "cell_type": "code",
   "execution_count": null,
   "metadata": {},
   "outputs": [],
   "source": []
  },
  {
   "cell_type": "code",
   "execution_count": null,
   "metadata": {},
   "outputs": [],
   "source": []
  }
 ],
 "metadata": {
  "colab": {
   "collapsed_sections": [
    "P95DxvqWi_2Y",
    "lupugqDqZfhQ",
    "S0FByNNOIRvG",
    "lh1M-oBcadvj",
    "u-BjJAKGK4ey",
    "xf6p54FPK4e5",
    "xUPO88fp6AiR",
    "vb_MdivVauzb",
    "OpWfK3TaClYR",
    "CnY4YKF7ClYZ",
    "Yygx5__lH-eG",
    "tZqjeMzM4tc2"
   ],
   "name": "base_dataset.ipynb",
   "provenance": []
  },
  "kernelspec": {
   "display_name": "Python 3",
   "language": "python",
   "name": "python3"
  },
  "language_info": {
   "codemirror_mode": {
    "name": "ipython",
    "version": 3
   },
   "file_extension": ".py",
   "mimetype": "text/x-python",
   "name": "python",
   "nbconvert_exporter": "python",
   "pygments_lexer": "ipython3",
   "version": "3.6.9"
  }
 },
 "nbformat": 4,
 "nbformat_minor": 1
}
