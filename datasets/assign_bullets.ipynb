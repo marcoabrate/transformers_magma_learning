{
 "cells": [
  {
   "cell_type": "markdown",
   "metadata": {
    "id": "S0FByNNOIRvG"
   },
   "source": [
    "### **Config**"
   ]
  },
  {
   "cell_type": "code",
   "execution_count": 2,
   "metadata": {
    "id": "kXNduXNM72ur"
   },
   "outputs": [],
   "source": [
    "import os\n",
    "import sys\n",
    "\n",
    "sys.path.insert(0, '/home/marco/epfl/magma/')\n",
    "import config"
   ]
  },
  {
   "cell_type": "code",
   "execution_count": 3,
   "metadata": {
    "id": "82WSp6khIcua"
   },
   "outputs": [],
   "source": [
    "# General configurations\n",
    "\n",
    "MODEL = 'pegasus'\n",
    "\n",
    "RE_SPLITTER = '\\.(?!\\d)|\\n'     # do we split sentences of paragraphs?\n",
    "                                # use '\\.|\\n' or '\\n', respectively"
   ]
  },
  {
   "cell_type": "markdown",
   "metadata": {
    "id": "tb7fAfzaK4es"
   },
   "source": [
    "### **Init**"
   ]
  },
  {
   "cell_type": "code",
   "execution_count": 4,
   "metadata": {
    "colab": {
     "base_uri": "https://localhost:8080/",
     "referenced_widgets": [
      "df0c7d36c05f491da9e6ff957fdb53f3",
      "cb2a845aab974e2389d8b1a78617701d"
     ]
    },
    "executionInfo": {
     "elapsed": 89526,
     "status": "ok",
     "timestamp": 1610360333171,
     "user": {
      "displayName": "Marco Pietro Abrate",
      "photoUrl": "https://lh3.googleusercontent.com/a-/AOh14Gjh-8YF-8BlnrkN9mLZ0xfVOWfOh7kYncpYRv-Y=s64",
      "userId": "15422244832836998434"
     },
     "user_tz": -60
    },
    "id": "wvbMlPBxk45S",
    "outputId": "4c36707d-2bed-49de-b59b-6f2a7edee3b9"
   },
   "outputs": [],
   "source": [
    "import matplotlib.pyplot as plt\n",
    "import numpy as np\n",
    "import torch\n",
    "import re\n",
    "import pandas as pd\n",
    "import gensim\n",
    "from tqdm import tqdm\n",
    "tqdm.pandas()\n",
    "\n",
    "if 'pegasus' in MODEL:\n",
    "    from transformers import PegasusTokenizer\n",
    "    tokenizer =\\\n",
    "        PegasusTokenizer.from_pretrained('google/pegasus-large')\n",
    "elif 'bart' in MODEL:\n",
    "    from transformers import BartTokenizer\n",
    "    tokenizer =\\\n",
    "        BartTokenizer.from_pretrained('facebook/bart-large-cnn')\n",
    "elif 't5' in MODEL:\n",
    "    from transformers import T5Tokenizer\n",
    "    tokenizer=\\\n",
    "        T5Tokenizer.from_pretrained('t5-large')"
   ]
  },
  {
   "cell_type": "markdown",
   "metadata": {
    "id": "BTXWHMuNC3cj"
   },
   "source": [
    "## **Assign Bullets**"
   ]
  },
  {
   "cell_type": "markdown",
   "metadata": {
    "id": "eYazsvcvaKjh"
   },
   "source": [
    "### **Load Datasets**"
   ]
  },
  {
   "cell_type": "code",
   "execution_count": 5,
   "metadata": {
    "id": "Ot-sbj5KaNNd",
    "scrolled": true
   },
   "outputs": [],
   "source": [
    "df_cc = pd.read_csv(config.MAGMA_DIR+'datasets/karger_books_chunk_chapter/'+MODEL+'/df.csv')\n",
    "df_cc = df_cc.set_index(['book', 'chapter'])\n",
    "df_cc.bullets = df_cc.bullets.map(eval)\n",
    "df_cc.text = df_cc.text.map(eval)\n",
    "df_cc = df_cc.explode('text')"
   ]
  },
  {
   "cell_type": "code",
   "execution_count": 6,
   "metadata": {
    "id": "Mb_TSwDkaeUt"
   },
   "outputs": [],
   "source": [
    "df_moc = pd.read_csv(config.MAGMA_DIR+'datasets/karger_books_moc/'+MODEL+'/df.csv')\n",
    "df_moc = df_moc.set_index(['book', 'chapter', 'merge'])\n",
    "df_moc.bullets = df_moc.bullets.map(eval)\n",
    "df_moc.text = df_moc.text.map(eval)\n",
    "df_moc = df_moc.explode('text')"
   ]
  },
  {
   "cell_type": "markdown",
   "metadata": {
    "id": "FmSGgK1eShht"
   },
   "source": [
    "### **Evaluate ROUGE recall**"
   ]
  },
  {
   "cell_type": "code",
   "execution_count": 7,
   "metadata": {
    "colab": {
     "base_uri": "https://localhost:8080/"
    },
    "executionInfo": {
     "elapsed": 240860,
     "status": "ok",
     "timestamp": 1610112149337,
     "user": {
      "displayName": "Marco Pietro Abrate",
      "photoUrl": "https://lh3.googleusercontent.com/a-/AOh14Gjh-8YF-8BlnrkN9mLZ0xfVOWfOh7kYncpYRv-Y=s64",
      "userId": "15422244832836998434"
     },
     "user_tz": -60
    },
    "id": "1eSixJSZ9Ky8",
    "outputId": "4be12951-3f89-4f0c-9b95-dd6edbd8da64"
   },
   "outputs": [
    {
     "name": "stderr",
     "output_type": "stream",
     "text": [
      "100%|██████████| 11094/11094 [01:30<00:00, 122.83it/s]\n",
      "100%|██████████| 12085/12085 [01:42<00:00, 117.38it/s]\n"
     ]
    }
   ],
   "source": [
    "from datasets import load_metric\n",
    "metric = load_metric(\"rouge\")\n",
    "\n",
    "def calculate_rouge(df, col_text, col_bullets):\n",
    "    # explode the bullets list and assign ROUGE for each bullet\n",
    "\n",
    "    df_expl = df.explode(col_bullets)\n",
    "\n",
    "    rouge_res =\\\n",
    "        df_expl[[col_text, col_bullets]]\\\n",
    "        .progress_apply(lambda row:\n",
    "        metric.compute(\n",
    "            predictions = [row[0]],\n",
    "            references = [row[1]],\n",
    "            rouge_types = config.ROUGE_TYPES,\n",
    "            use_agregator = False), axis=1)\n",
    "        \n",
    "    for r in config.ROUGE_TYPES:\n",
    "        df_expl[r+'_recall'] =\\\n",
    "            rouge_res.map(lambda score: score[r][0][1])\n",
    "\n",
    "    return df_expl\n",
    "\n",
    "\n",
    "df_cc = calculate_rouge(df_cc, 'text', 'bullets')\n",
    "df_moc = calculate_rouge(df_moc, 'text', 'bullets')"
   ]
  },
  {
   "cell_type": "markdown",
   "metadata": {
    "id": "rE9v3LfqL271"
   },
   "source": [
    "### **Keep highest recall from bullets**\n",
    "\n",
    "Some chunks will be neglected (around 30%)."
   ]
  },
  {
   "cell_type": "code",
   "execution_count": 8,
   "metadata": {
    "colab": {
     "base_uri": "https://localhost:8080/"
    },
    "executionInfo": {
     "elapsed": 15563,
     "status": "ok",
     "timestamp": 1610113263323,
     "user": {
      "displayName": "Marco Pietro Abrate",
      "photoUrl": "https://lh3.googleusercontent.com/a-/AOh14Gjh-8YF-8BlnrkN9mLZ0xfVOWfOh7kYncpYRv-Y=s64",
      "userId": "15422244832836998434"
     },
     "user_tz": -60
    },
    "id": "NvxlparhC3ck",
    "outputId": "7708a334-4517-4392-dc2f-64f02d2b2e61"
   },
   "outputs": [
    {
     "name": "stderr",
     "output_type": "stream",
     "text": [
      "100%|██████████| 2556/2556 [00:01<00:00, 1786.61it/s]\n",
      "100%|██████████| 2556/2556 [00:01<00:00, 1881.25it/s]\n"
     ]
    }
   ],
   "source": [
    "def assign_highest_recall_text(df):\n",
    "    df['best_match'] = False\n",
    "\n",
    "    for idx, text  in df.groupby('bullets').progress_apply(\n",
    "        lambda g: g.iloc[g[config.ROUGE_TYPE_RECALL].argmax()]).text.iteritems():\n",
    "        \n",
    "        df.loc[\\\n",
    "            (df['bullets'] == idx) &\\\n",
    "            (df['text'] == text), 'best_match'] = True\n",
    "    \n",
    "    return df\n",
    "\n",
    "df_cc_from_bull = assign_highest_recall_text(df_cc)\n",
    "df_moc_from_bull = assign_highest_recall_text(df_moc)"
   ]
  },
  {
   "cell_type": "code",
   "execution_count": 9,
   "metadata": {
    "colab": {
     "base_uri": "https://localhost:8080/"
    },
    "executionInfo": {
     "elapsed": 15759,
     "status": "ok",
     "timestamp": 1610113263732,
     "user": {
      "displayName": "Marco Pietro Abrate",
      "photoUrl": "https://lh3.googleusercontent.com/a-/AOh14Gjh-8YF-8BlnrkN9mLZ0xfVOWfOh7kYncpYRv-Y=s64",
      "userId": "15422244832836998434"
     },
     "user_tz": -60
    },
    "id": "ivVWqOiNOoVu",
    "outputId": "443fc6ea-ed8a-45ef-c9d1-0bd6c9259de0"
   },
   "outputs": [
    {
     "name": "stdout",
     "output_type": "stream",
     "text": [
      "Percentage of chunks with at least one bullet point in CC: 70.94 %\n"
     ]
    }
   ],
   "source": [
    "print('Percentage of chunks with at least one bullet point in CC: %.2f %%'%\\\n",
    "    (100*np.sum(df_cc_from_bull.groupby('text')['best_match'].apply(np.any).tolist())\\\n",
    "    /len(df_cc_from_bull.groupby('text')['best_match'].apply(np.any))))"
   ]
  },
  {
   "cell_type": "code",
   "execution_count": 10,
   "metadata": {
    "colab": {
     "base_uri": "https://localhost:8080/"
    },
    "executionInfo": {
     "elapsed": 16088,
     "status": "ok",
     "timestamp": 1610113264346,
     "user": {
      "displayName": "Marco Pietro Abrate",
      "photoUrl": "https://lh3.googleusercontent.com/a-/AOh14Gjh-8YF-8BlnrkN9mLZ0xfVOWfOh7kYncpYRv-Y=s64",
      "userId": "15422244832836998434"
     },
     "user_tz": -60
    },
    "id": "N2h8wyfGNJ5W",
    "outputId": "63b515a2-d762-4981-ccdb-f97c26053993"
   },
   "outputs": [
    {
     "name": "stdout",
     "output_type": "stream",
     "text": [
      "Percentage of chunks with at least one bullet point in MoC: 67.04 %\n"
     ]
    }
   ],
   "source": [
    "print('Percentage of chunks with at least one bullet point in MoC: %.2f %%'%\\\n",
    "    (100*np.sum(df_moc_from_bull.groupby('text')['best_match'].apply(np.any).tolist())\\\n",
    "    /len(df_moc_from_bull.groupby('text')['best_match'].apply(np.any))))"
   ]
  },
  {
   "cell_type": "code",
   "execution_count": 11,
   "metadata": {},
   "outputs": [
    {
     "data": {
      "text/plain": [
       "count    1301.000000\n",
       "mean        1.964643\n",
       "std         1.132857\n",
       "min         1.000000\n",
       "25%         1.000000\n",
       "50%         2.000000\n",
       "75%         2.000000\n",
       "max        11.000000\n",
       "Name: best_match, dtype: float64"
      ]
     },
     "execution_count": 11,
     "metadata": {},
     "output_type": "execute_result"
    }
   ],
   "source": [
    "tmp = df_cc_from_bull.groupby(['book', 'chapter', 'text'], sort=False).agg({\n",
    "    'best_match': lambda bm: list(bm)\n",
    "}).best_match.map(np.sum).reset_index(level=2)\n",
    "tmp = tmp[tmp['best_match'] != 0]\n",
    "tmp.best_match.describe()"
   ]
  },
  {
   "cell_type": "code",
   "execution_count": 12,
   "metadata": {
    "id": "tC5bc_6pPw5x"
   },
   "outputs": [],
   "source": [
    "df_cc_from_bull = df_cc_from_bull[df_cc_from_bull['best_match']]\n",
    "df_moc_from_bull = df_moc_from_bull[df_moc_from_bull['best_match']]"
   ]
  },
  {
   "cell_type": "code",
   "execution_count": 13,
   "metadata": {
    "id": "eWwsJj-3SURi"
   },
   "outputs": [],
   "source": [
    "assert len(df_cc_from_bull) == len(df_cc.groupby('bullets').count())\n",
    "assert len(df_moc_from_bull) == len(df_moc.groupby('bullets').count())"
   ]
  },
  {
   "cell_type": "markdown",
   "metadata": {
    "id": "dHotMwT1C3ct"
   },
   "source": [
    "#### Save dataset"
   ]
  },
  {
   "cell_type": "code",
   "execution_count": 14,
   "metadata": {},
   "outputs": [],
   "source": [
    "if not os.path.exists(config.MAGMA_DIR+'datasets/karger_books_chunk_chapter/assign_bullets/'+MODEL+'/'):\n",
    "    os.makedirs(config.MAGMA_DIR+'datasets/karger_books_chunk_chapter/assign_bullets/'+MODEL+'/')\n",
    "    \n",
    "if not os.path.exists(config.MAGMA_DIR+'datasets/karger_books_moc/assign_bullets/'+MODEL+'/'):\n",
    "    os.makedirs(config.MAGMA_DIR+'datasets/karger_books_moc/assign_bullets/'+MODEL+'/')\n",
    "    "
   ]
  },
  {
   "cell_type": "code",
   "execution_count": 15,
   "metadata": {
    "id": "NsGe4-nRC3cu"
   },
   "outputs": [],
   "source": [
    "df_cc_from_bull.to_csv(config.MAGMA_DIR+'datasets/karger_books_chunk_chapter/assign_bullets/'+MODEL+'/df.csv')\n",
    "df_moc_from_bull.to_csv(config.MAGMA_DIR+'datasets/karger_books_moc/assign_bullets/'+MODEL+'df.csv')"
   ]
  },
  {
   "cell_type": "markdown",
   "metadata": {
    "id": "VndEUBoDjjkV"
   },
   "source": [
    "#### Create train, test, validation (CC)"
   ]
  },
  {
   "cell_type": "code",
   "execution_count": 16,
   "metadata": {
    "id": "uCmWEGOnUfSA"
   },
   "outputs": [],
   "source": [
    "op = config.MAGMA_DIR+'datasets/karger_books_chunk_chapter/assign_bullets/'+MODEL+'/'\n",
    "if not os.path.exists(op):\n",
    "    os.makedirs(op)"
   ]
  },
  {
   "cell_type": "code",
   "execution_count": 17,
   "metadata": {
    "id": "IlqyNuvKIxmp"
   },
   "outputs": [],
   "source": [
    "df_cc_from_bull = df_cc_from_bull.groupby(level=[0, 1], sort=False).agg({\n",
    "    'bullets': lambda b: list(b),\n",
    "    'text': lambda t: list(t),\n",
    "})"
   ]
  },
  {
   "cell_type": "code",
   "execution_count": 18,
   "metadata": {
    "colab": {
     "base_uri": "https://localhost:8080/"
    },
    "executionInfo": {
     "elapsed": 822,
     "status": "ok",
     "timestamp": 1610360519128,
     "user": {
      "displayName": "Marco Pietro Abrate",
      "photoUrl": "https://lh3.googleusercontent.com/a-/AOh14Gjh-8YF-8BlnrkN9mLZ0xfVOWfOh7kYncpYRv-Y=s64",
      "userId": "15422244832836998434"
     },
     "user_tz": -60
    },
    "id": "RVuRQ5y4mJmb",
    "outputId": "b32633d7-91fe-4604-e25c-becd23519ae4"
   },
   "outputs": [
    {
     "name": "stdout",
     "output_type": "stream",
     "text": [
      "361 408\n"
     ]
    }
   ],
   "source": [
    "df_cc_from_bull = df_cc_from_bull.sample(frac=1, random_state=config.SEED)\n",
    "df_cc_from_bull['num_bulls'] = df_cc_from_bull.bullets.map(len).cumsum()\n",
    "tot_bulls = df_cc_from_bull.num_bulls.iloc[-1]\n",
    "split1 = np.where(df_cc_from_bull.num_bulls > int(tot_bulls*0.8))[0][0]+1\n",
    "split2 = np.where(df_cc_from_bull.num_bulls > int(tot_bulls*0.9))[0][0]+1\n",
    "print(split1, split2)"
   ]
  },
  {
   "cell_type": "code",
   "execution_count": 19,
   "metadata": {
    "id": "GrIWNFo8L35S"
   },
   "outputs": [],
   "source": [
    "train, val, test =\\\n",
    "    df_cc_from_bull.iloc[:split1].explode('bullets'),\\\n",
    "    df_cc_from_bull.iloc[split1:split2].explode('bullets'),\\\n",
    "    df_cc_from_bull.iloc[split2:].explode('bullets')\n",
    "\n",
    "train['text'] = df_cc_from_bull.iloc[:split1].explode('text')['text']\n",
    "val['text'] = df_cc_from_bull.iloc[split1:split2].explode('text')['text']\n",
    "test['text'] = df_cc_from_bull.iloc[split2:].explode('text')['text']\n",
    "\n",
    "train.to_csv(op+'train.csv')\n",
    "val.to_csv(op+'val.csv')\n",
    "test.to_csv(op+'test.csv')"
   ]
  },
  {
   "cell_type": "code",
   "execution_count": 20,
   "metadata": {
    "id": "UpURrGPHjjkV"
   },
   "outputs": [],
   "source": [
    "with open(op+'train.source', 'w') as tr_s,\\\n",
    "    open(op+'train.target', 'w') as tr_t,\\\n",
    "    open(op+'train.index', 'w') as tr_i:\n",
    "    for idx, row in train[['text', 'bullets']].iterrows():\n",
    "        tr_i.write(str(idx) + '\\n')\n",
    "        tr_s.write(row.text + '\\n')\n",
    "        tr_t.write(row.bullets + '\\n')"
   ]
  },
  {
   "cell_type": "code",
   "execution_count": 21,
   "metadata": {
    "id": "TrDrO4UOpvui"
   },
   "outputs": [],
   "source": [
    "with open(op+'val.source', 'w') as va_s,\\\n",
    "    open(op+'val.target', 'w') as va_t,\\\n",
    "    open(op+'val.index', 'w') as va_i:\n",
    "    for idx, row in val[['text', 'bullets']].iterrows():\n",
    "        va_i.write(str(idx) + '\\n')\n",
    "        va_s.write(row.text + '\\n')\n",
    "        va_t.write(row.bullets + '\\n')"
   ]
  },
  {
   "cell_type": "code",
   "execution_count": 22,
   "metadata": {
    "id": "2qLdJ3vJp5MX"
   },
   "outputs": [],
   "source": [
    "with open(op+'test.source', 'w') as te_s,\\\n",
    "    open(op+'test.target', 'w') as te_t,\\\n",
    "    open(op+'test.index', 'w') as te_i:\n",
    "    for idx, row in test[['text', 'bullets']].iterrows():\n",
    "        te_i.write(str(idx) + '\\n')\n",
    "        te_s.write(row.text + '\\n')\n",
    "        te_t.write(row.bullets + '\\n')"
   ]
  },
  {
   "cell_type": "markdown",
   "metadata": {
    "id": "ek5A-5LIOGLS"
   },
   "source": [
    "#### Create train, test, validation (MoC)"
   ]
  },
  {
   "cell_type": "code",
   "execution_count": 23,
   "metadata": {
    "id": "V095CSL4OGLV"
   },
   "outputs": [],
   "source": [
    "op = config.MAGMA_DIR+'datasets/karger_books_moc/assign_bullets/'+MODEL+'/'\n",
    "if not os.path.exists(op):\n",
    "    os.makedirs(op)"
   ]
  },
  {
   "cell_type": "code",
   "execution_count": 24,
   "metadata": {
    "id": "Xec2toqnOGLW"
   },
   "outputs": [],
   "source": [
    "df_moc_from_bull = df_moc_from_bull.groupby(level=[0, 1], sort=False).agg({\n",
    "    'bullets': lambda b: list(b),\n",
    "    'text': lambda t: list(t),\n",
    "})"
   ]
  },
  {
   "cell_type": "code",
   "execution_count": 25,
   "metadata": {
    "colab": {
     "base_uri": "https://localhost:8080/"
    },
    "executionInfo": {
     "elapsed": 671,
     "status": "ok",
     "timestamp": 1610360577548,
     "user": {
      "displayName": "Marco Pietro Abrate",
      "photoUrl": "https://lh3.googleusercontent.com/a-/AOh14Gjh-8YF-8BlnrkN9mLZ0xfVOWfOh7kYncpYRv-Y=s64",
      "userId": "15422244832836998434"
     },
     "user_tz": -60
    },
    "id": "ZGn0r81-OGLX",
    "outputId": "4e26ddf1-58ec-4a88-ee2b-03c7e78f55fc"
   },
   "outputs": [
    {
     "name": "stdout",
     "output_type": "stream",
     "text": [
      "361 408\n"
     ]
    }
   ],
   "source": [
    "df_moc_from_bull = df_moc_from_bull.sample(frac=1, random_state=config.SEED)\n",
    "df_moc_from_bull['num_bulls'] = df_moc_from_bull.bullets.map(len).cumsum()\n",
    "tot_bulls = df_moc_from_bull.num_bulls.iloc[-1]\n",
    "split1 = np.where(df_moc_from_bull.num_bulls > int(tot_bulls*0.8))[0][0]+1\n",
    "split2 = np.where(df_moc_from_bull.num_bulls > int(tot_bulls*0.9))[0][0]+1\n",
    "print(split1, split2)"
   ]
  },
  {
   "cell_type": "code",
   "execution_count": 26,
   "metadata": {
    "id": "aJE-5gO9OGLZ"
   },
   "outputs": [],
   "source": [
    "train, val, test =\\\n",
    "    df_moc_from_bull.iloc[:split1].explode('bullets'),\\\n",
    "    df_moc_from_bull.iloc[split1:split2].explode('bullets'),\\\n",
    "    df_moc_from_bull.iloc[split2:].explode('bullets')\n",
    "\n",
    "train['text'] = df_moc_from_bull.iloc[:split1].explode('text')['text']\n",
    "val['text'] = df_moc_from_bull.iloc[split1:split2].explode('text')['text']\n",
    "test['text'] = df_moc_from_bull.iloc[split2:].explode('text')['text']\n",
    "\n",
    "train.to_csv(op+'train.csv')\n",
    "val.to_csv(op+'val.csv')\n",
    "test.to_csv(op+'test.csv')"
   ]
  },
  {
   "cell_type": "code",
   "execution_count": 27,
   "metadata": {
    "id": "YtDOxfPDOGLZ"
   },
   "outputs": [],
   "source": [
    "with open(op+'train.source', 'w') as tr_s,\\\n",
    "    open(op+'train.target', 'w') as tr_t,\\\n",
    "    open(op+'train.index', 'w') as tr_i:\n",
    "    for idx, row in train[['text', 'bullets']].iterrows():\n",
    "        tr_i.write(str(idx) + '\\n')\n",
    "        tr_s.write(row.text + '\\n')\n",
    "        tr_t.write(row.bullets + '\\n')"
   ]
  },
  {
   "cell_type": "code",
   "execution_count": 28,
   "metadata": {
    "id": "oveiG_KqOGLa"
   },
   "outputs": [],
   "source": [
    "with open(op+'val.source', 'w') as va_s,\\\n",
    "    open(op+'val.target', 'w') as va_t,\\\n",
    "    open(op+'val.index', 'w') as va_i:\n",
    "    for idx, row in val[['text', 'bullets']].iterrows():\n",
    "        va_i.write(str(idx) + '\\n')\n",
    "        va_s.write(row.text + '\\n')\n",
    "        va_t.write(row.bullets + '\\n')"
   ]
  },
  {
   "cell_type": "code",
   "execution_count": 29,
   "metadata": {
    "id": "3QdW2qNrOGLa"
   },
   "outputs": [],
   "source": [
    "with open(op+'test.source', 'w') as te_s,\\\n",
    "    open(op+'test.target', 'w') as te_t,\\\n",
    "    open(op+'test.index', 'w') as te_i:\n",
    "    for idx, row in test[['text', 'bullets']].iterrows():\n",
    "        te_i.write(str(idx) + '\\n')\n",
    "        te_s.write(row.text + '\\n')\n",
    "        te_t.write(row.bullets + '\\n')"
   ]
  },
  {
   "cell_type": "code",
   "execution_count": null,
   "metadata": {
    "id": "koiIbVzy-LNp"
   },
   "outputs": [],
   "source": []
  },
  {
   "cell_type": "code",
   "execution_count": null,
   "metadata": {},
   "outputs": [],
   "source": []
  }
 ],
 "metadata": {
  "colab": {
   "authorship_tag": "ABX9TyPplVB5RzCp3HC9EdstqvpT",
   "collapsed_sections": [
    "P95DxvqWi_2Y",
    "24Txmh4yBdYk",
    "S0FByNNOIRvG",
    "tb7fAfzaK4es",
    "eYazsvcvaKjh",
    "FmSGgK1eShht",
    "VndEUBoDjjkV",
    "ek5A-5LIOGLS"
   ],
   "name": "assign_bullets.ipynb",
   "provenance": []
  },
  "kernelspec": {
   "display_name": "Python 3",
   "language": "python",
   "name": "python3"
  },
  "language_info": {
   "codemirror_mode": {
    "name": "ipython",
    "version": 3
   },
   "file_extension": ".py",
   "mimetype": "text/x-python",
   "name": "python",
   "nbconvert_exporter": "python",
   "pygments_lexer": "ipython3",
   "version": "3.6.9"
  },
  "widgets": {
   "application/vnd.jupyter.widget-state+json": {
    "cb2a845aab974e2389d8b1a78617701d": {
     "model_module": "@jupyter-widgets/controls",
     "model_name": "HBoxModel",
     "state": {
      "_dom_classes": [],
      "_model_module": "@jupyter-widgets/controls",
      "_model_module_version": "1.5.0",
      "_model_name": "HBoxModel",
      "_view_count": null,
      "_view_module": "@jupyter-widgets/controls",
      "_view_module_version": "1.5.0",
      "_view_name": "HBoxView",
      "box_style": "",
      "children": [
       "IPY_MODEL_65fd92afda414079beba3b8cf81ea33a",
       "IPY_MODEL_e0d96890ec8847b18bb6678f44d21602"
      ],
      "layout": "IPY_MODEL_3c73a8fb462341d3b9801cff0bf5843e"
     }
    },
    "df0c7d36c05f491da9e6ff957fdb53f3": {
     "model_module": "@jupyter-widgets/controls",
     "model_name": "HBoxModel",
     "state": {
      "_dom_classes": [],
      "_model_module": "@jupyter-widgets/controls",
      "_model_module_version": "1.5.0",
      "_model_name": "HBoxModel",
      "_view_count": null,
      "_view_module": "@jupyter-widgets/controls",
      "_view_module_version": "1.5.0",
      "_view_name": "HBoxView",
      "box_style": "",
      "children": [
       "IPY_MODEL_2434dd9c24f5406ea3e510577fb7a7d9",
       "IPY_MODEL_919059f6cb22418298c0b40b4c73906c"
      ],
      "layout": "IPY_MODEL_d43bf8ab1be34fd694f180abe760ff57"
     }
    }
   }
  }
 },
 "nbformat": 4,
 "nbformat_minor": 1
}
