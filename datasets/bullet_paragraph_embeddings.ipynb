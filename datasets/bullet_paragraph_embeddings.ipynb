{
 "cells": [
  {
   "cell_type": "markdown",
   "metadata": {
    "id": "S0FByNNOIRvG"
   },
   "source": [
    "### **Config**"
   ]
  },
  {
   "cell_type": "code",
   "execution_count": 1,
   "metadata": {
    "executionInfo": {
     "elapsed": 16184,
     "status": "ok",
     "timestamp": 1610463826089,
     "user": {
      "displayName": "Marco Pietro Abrate",
      "photoUrl": "https://lh3.googleusercontent.com/a-/AOh14Gjh-8YF-8BlnrkN9mLZ0xfVOWfOh7kYncpYRv-Y=s64",
      "userId": "15422244832836998434"
     },
     "user_tz": -60
    },
    "id": "ClE5D523OTZG"
   },
   "outputs": [],
   "source": [
    "import os\n",
    "import sys\n",
    "\n",
    "sys.path.insert(0, '/home/marco/epfl/magma/')\n",
    "import config"
   ]
  },
  {
   "cell_type": "code",
   "execution_count": 2,
   "metadata": {
    "executionInfo": {
     "elapsed": 16184,
     "status": "ok",
     "timestamp": 1610463826092,
     "user": {
      "displayName": "Marco Pietro Abrate",
      "photoUrl": "https://lh3.googleusercontent.com/a-/AOh14Gjh-8YF-8BlnrkN9mLZ0xfVOWfOh7kYncpYRv-Y=s64",
      "userId": "15422244832836998434"
     },
     "user_tz": -60
    },
    "id": "82WSp6khIcua"
   },
   "outputs": [],
   "source": [
    "MODEL = 't5'\n",
    "\n",
    "RE_SPLITTER = '\\n'              # do we split sentences of paragraphs?\n",
    "                                # use '\\.(?!\\d)|\\n' or '\\n', respectively\n",
    "\n",
    "# Output path\n",
    "OUTPUT_PATH = config.MAGMA_DIR+'datasets/bullet_paragraph_embeddings/'+MODEL+'/'\n",
    "if not os.path.exists(OUTPUT_PATH):\n",
    "    os.makedirs(OUTPUT_PATH)"
   ]
  },
  {
   "cell_type": "markdown",
   "metadata": {
    "id": "tb7fAfzaK4es"
   },
   "source": [
    "### **Init**"
   ]
  },
  {
   "cell_type": "code",
   "execution_count": 3,
   "metadata": {
    "executionInfo": {
     "elapsed": 16443,
     "status": "ok",
     "timestamp": 1610463826354,
     "user": {
      "displayName": "Marco Pietro Abrate",
      "photoUrl": "https://lh3.googleusercontent.com/a-/AOh14Gjh-8YF-8BlnrkN9mLZ0xfVOWfOh7kYncpYRv-Y=s64",
      "userId": "15422244832836998434"
     },
     "user_tz": -60
    },
    "id": "wvbMlPBxk45S"
   },
   "outputs": [],
   "source": [
    "import matplotlib.pyplot as plt\n",
    "import numpy as np\n",
    "import torch\n",
    "import re\n",
    "import pandas as pd\n",
    "import nltk\n",
    "import gensim\n",
    "from textwrap import fill\n",
    "from tqdm import tqdm\n",
    "tqdm.pandas()\n",
    "\n",
    "if 'pegasus' in MODEL:\n",
    "    from transformers import PegasusTokenizer\n",
    "    tokenizer =\\\n",
    "        PegasusTokenizer.from_pretrained('google/pegasus-large')\n",
    "elif 'bart' in MODEL:\n",
    "    from transformers import BartTokenizer\n",
    "    tokenizer =\\\n",
    "        BartTokenizer.from_pretrained('facebook/bart-large-cnn')\n",
    "elif 't5' in MODEL:\n",
    "    from transformers import T5Tokenizer\n",
    "    tokenizer =\\\n",
    "        T5Tokenizer.from_pretrained('t5-large')"
   ]
  },
  {
   "cell_type": "markdown",
   "metadata": {
    "id": "eQGq4WLu3Gei"
   },
   "source": [
    "## **Karger Books Base Dataset**"
   ]
  },
  {
   "cell_type": "code",
   "execution_count": 4,
   "metadata": {
    "id": "Z0lbkScg0a7j"
   },
   "outputs": [],
   "source": [
    "base_dataset = config.MAGMA_DIR+'datasets/karger_books_base/df.csv'\n",
    "df = pd.read_csv(base_dataset)\n",
    "df = df.set_index(['book', 'chapter', 'section', 'subsection'])\n",
    "df.bullets = df.bullets.map(eval, na_action='ignore')"
   ]
  },
  {
   "cell_type": "markdown",
   "metadata": {
    "heading_collapsed": true,
    "id": "tSHT0mxuvkEp"
   },
   "source": [
    "## **Preprocessing**"
   ]
  },
  {
   "cell_type": "markdown",
   "metadata": {
    "heading_collapsed": true,
    "hidden": true,
    "id": "-eRnW74aH95b"
   },
   "source": [
    "#### Preprocessing\n",
    "\n",
    "* Split based on RE_SPLITTER\n",
    "* Explode the dataset\n",
    "* Remove unwanted chars at beginning or end of sentence\n",
    "* Remove multiple spaces\n",
    "* Remove long words (> config.TOKEN_MAX_LEN chars)"
   ]
  },
  {
   "cell_type": "code",
   "execution_count": 5,
   "metadata": {
    "hidden": true,
    "id": "CDsT33j-wPCw",
    "scrolled": true
   },
   "outputs": [],
   "source": [
    "# Split in sentences / paragraphs based on RE_SPLITTER\n",
    "df.text =\\\n",
    "    df.text.map(lambda x: [p.strip() for p in re.split(RE_SPLITTER, x) if p!=''],\n",
    "                na_action='ignore')\n",
    "    \n",
    "# explode to get one row for each paragraph /sentence\n",
    "df = df.explode('text')\n",
    "df = df.rename(columns={'text': 'para'})\n",
    "df = df.dropna()\n",
    "\n",
    "# Remove unwanted chars at beginning or end of sentence\n",
    "df.para = df.para.map(lambda p: p.lstrip('.,;:-)] \\n'))\n",
    "df.para = df.para.map(lambda p: p.rstrip('.,;:-([ \\n'))\n",
    "\n",
    "# Remove multiple spaces\n",
    "df.para = df.para.map(lambda p:\n",
    "    re.sub('\\s+', ' ', p).strip())\n",
    "\n",
    "# Remove long words (> config.TOKEN_MAX_LEN chars)\n",
    "def para2words(para):\n",
    "    return gensim.utils.simple_preprocess(\n",
    "        para, deacc=True, max_len=config.TOKEN_MAX_LEN)\n",
    "df['para_proc'] = df.para.map(para2words)\n",
    "df['bullets_proc'] = df.bullets.map(lambda bs: [para2words(b) for b in bs])"
   ]
  },
  {
   "cell_type": "markdown",
   "metadata": {
    "heading_collapsed": true,
    "hidden": true
   },
   "source": [
    "#### Further Preprocessing\n",
    "\n",
    "* Remove stop words\n",
    "* Remove short sentences / paragraphs (< config.PARA_MIN_LEN tokens)"
   ]
  },
  {
   "cell_type": "code",
   "execution_count": 6,
   "metadata": {
    "hidden": true
   },
   "outputs": [
    {
     "name": "stderr",
     "output_type": "stream",
     "text": [
      "[nltk_data] Downloading package stopwords to /home/marco/nltk_data...\n",
      "[nltk_data]   Package stopwords is already up-to-date!\n"
     ]
    }
   ],
   "source": [
    "nltk.download('stopwords')\n",
    "\n",
    "from nltk.corpus import stopwords\n",
    "stop_words = stopwords.words('english')\n",
    "\n",
    "df.para_proc = df.para_proc.map(lambda p:\n",
    "    [w for w in p if w not in stop_words])\n",
    "df.bullets_proc = df.bullets_proc.map(lambda bs:\n",
    "    [[w for w in b if w not in stop_words] for b in bs])"
   ]
  },
  {
   "cell_type": "code",
   "execution_count": 7,
   "metadata": {
    "hidden": true
   },
   "outputs": [],
   "source": [
    "# Remove short sentences / paragraphs (< config.PARA_MIN_LEN tokens)\n",
    "df.loc[df.para_proc.map(len) <\\\n",
    "    config.PARA_MIN_LEN, 'para_proc'] = np.nan\n",
    "\n",
    "df = df.dropna()"
   ]
  },
  {
   "cell_type": "code",
   "execution_count": 8,
   "metadata": {
    "hidden": true
   },
   "outputs": [],
   "source": [
    "df.para = df.para.map(lambda p: p+'.')"
   ]
  },
  {
   "cell_type": "markdown",
   "metadata": {
    "heading_collapsed": true
   },
   "source": [
    "## **Assign Bullets to Best Para and Expand Functions**"
   ]
  },
  {
   "cell_type": "code",
   "execution_count": 9,
   "metadata": {
    "hidden": true
   },
   "outputs": [],
   "source": [
    "def assign_best_metric_para(df, col_metric):\n",
    "    df['best_match'] = False\n",
    "\n",
    "    for idx, para  in df.groupby('bullets').progress_apply(\n",
    "        lambda g: g.iloc[g[col_metric].argmax()]).para.iteritems():\n",
    "        \n",
    "        df.loc[\\\n",
    "            (df['bullets'] == idx) &\\\n",
    "            (df['para'] == para), 'best_match'] = True\n",
    "    \n",
    "    para_too_short =\\\n",
    "        df[(df['compression_ratio'] >= config.MAX_RATIO) & df['best_match']]\n",
    "    print('Percentage of paragraphs which are too short to be summarized: %.2f %%'\\\n",
    "        %(len(para_too_short)/len(df[df['best_match']])*100))\n",
    "    \n",
    "    return df"
   ]
  },
  {
   "cell_type": "code",
   "execution_count": 10,
   "metadata": {
    "hidden": true
   },
   "outputs": [],
   "source": [
    "def expand_up_down(df, col_metric):\n",
    "    # for each bullet\n",
    "    for bul in tqdm(set(df.bullets.tolist())):\n",
    "        df_bul = df[df['bullets'] == bul]\n",
    "        \n",
    "        # get book and chapter where this bullet is\n",
    "        book = df_bul.index.get_level_values(0)[0]\n",
    "        cpt = df_bul.index.get_level_values(1)[0]\n",
    "\n",
    "        df_bul = df_bul.reset_index()\n",
    "        # get best match index\n",
    "        best_match_idx = np.where(df_bul['best_match'])[0][0]\n",
    "        merged_para_idx = [best_match_idx]\n",
    "\n",
    "        bul_num_tok = df_bul.loc[best_match_idx, 'bullets_num_tokens']\n",
    "        merged_para_num_tok = df_bul.loc[best_match_idx, 'para_num_tokens']\n",
    "        comp_ratio = df_bul.loc[best_match_idx, 'compression_ratio']\n",
    "        num_bul_cpt = len(set(df.loc[book, cpt].bullets.tolist()))\n",
    "        max_idx = len(df_bul)-1\n",
    "        \n",
    "        while comp_ratio > config.MAX_RATIO and\\\n",
    "            merged_para_num_tok < tokenizer.model_max_length:\n",
    "            \n",
    "            # if we already merged all possible paragraphs\n",
    "            if (0 in merged_para_idx) and (max_idx in merged_para_idx):\n",
    "                break\n",
    "                \n",
    "            # if we already merged the first paragraph\n",
    "            elif 0 in merged_para_idx:\n",
    "                new_para_idx = max(merged_para_idx)+1\n",
    "                \n",
    "            # if we already merged the last paragraph\n",
    "            elif max_idx in merged_para_idx:\n",
    "                new_para_idx = min(merged_para_idx)-1\n",
    "                \n",
    "            # otherwise check for best metric inclusion\n",
    "            else:\n",
    "                if df_bul.loc[min(merged_para_idx)-1, col_metric] <\\\n",
    "                    df_bul.loc[max(merged_para_idx)+1, col_metric]:\n",
    "                    # merge down\n",
    "                    new_para_idx = max(merged_para_idx)+1\n",
    "                    \n",
    "                else: # merge up\n",
    "                    new_para_idx = min(merged_para_idx)-1       \n",
    "\n",
    "            df_bul.loc[new_para_idx, 'best_match'] = True\n",
    "            merged_para_idx.append(new_para_idx)\n",
    "            \n",
    "            merged_para_num_tok += df_bul.loc[new_para_idx, 'para_num_tokens']\n",
    "            comp_ratio = bul_num_tok / merged_para_num_tok\n",
    "\n",
    "        for p, b in zip(df_bul.loc[merged_para_idx]['para'].tolist(),\n",
    "            df_bul.loc[merged_para_idx]['bullets'].tolist()):\n",
    "            df.loc[(df['para'] == p) &\n",
    "                (df['bullets'] == b), 'best_match'] = True\n",
    "        \n",
    "    return df"
   ]
  },
  {
   "cell_type": "code",
   "execution_count": 11,
   "metadata": {
    "hidden": true
   },
   "outputs": [],
   "source": [
    "def print_stats(df):\n",
    "    num_para_tot = 18822\n",
    "    num_para_kept = np.sum(df.groupby('para')['best_match'].apply(np.any).tolist())\n",
    "    print('%d out of %d paragraphs are considered using this method.'%(num_para_kept, num_para_tot), end=' ')\n",
    "    print('Thus, %.2f %%'%(100*num_para_kept/num_para_tot))\n",
    "    \n",
    "    print()\n",
    "    df_count_tokens = df.groupby('para', sort=False).agg({\n",
    "        'best_match': lambda bm: np.any(list(bm)),\n",
    "        'para_num_tokens': lambda pnt: list(pnt)[0]})\n",
    "    num_tok_kept = df_count_tokens[df_count_tokens['best_match']].para_num_tokens.sum()\n",
    "    num_tok_tot = df_count_tokens.para_num_tokens.sum()\n",
    "\n",
    "    print('%d out of %d tokens are considered using this method.'%(num_tok_kept, num_tok_tot), end=' ')\n",
    "    print('Thus, %.2f %%'%(100*num_tok_kept/num_tok_tot))\n",
    "\n",
    "def print_stats_after_merge(df):\n",
    "    para_too_short = df[df['compression_ratio'] > config.MAX_RATIO]\n",
    "    print('Percentage of paragraphs which are too short to be summarized: %.2f %%'\\\n",
    "        %(len(para_too_short)/len(df)*100))\n",
    "    \n",
    "    print()\n",
    "    print('Paragraphs which are too long to fit into the model: %d paragraphs.'%\\\n",
    "          len(df[df['para_num_tokens'] > tokenizer.model_max_length]))\n",
    "    print(df[df['para_num_tokens'] > tokenizer.model_max_length])"
   ]
  },
  {
   "cell_type": "markdown",
   "metadata": {
    "heading_collapsed": true
   },
   "source": [
    "## **Word2Vec Book Level**"
   ]
  },
  {
   "cell_type": "markdown",
   "metadata": {
    "heading_collapsed": true,
    "hidden": true
   },
   "source": [
    "#### Create Word Vectors"
   ]
  },
  {
   "cell_type": "code",
   "execution_count": 12,
   "metadata": {
    "hidden": true
   },
   "outputs": [],
   "source": [
    "op = OUTPUT_PATH + 'w2v/'\n",
    "if not os.path.exists(op):\n",
    "    os.makedirs(op)"
   ]
  },
  {
   "cell_type": "code",
   "execution_count": 13,
   "metadata": {
    "hidden": true
   },
   "outputs": [],
   "source": [
    "df_w2v = df.copy()"
   ]
  },
  {
   "cell_type": "code",
   "execution_count": 14,
   "metadata": {
    "hidden": true
   },
   "outputs": [],
   "source": [
    "df_w2v_book = df_w2v.groupby('book', sort=False).agg({\n",
    "    'para_proc': lambda pp: list(pp),\n",
    "    'bullets_proc': lambda bp: list(bp)[0]\n",
    "})"
   ]
  },
  {
   "cell_type": "code",
   "execution_count": 15,
   "metadata": {
    "hidden": true
   },
   "outputs": [],
   "source": [
    "df_w2v_book['corpus'] = df_w2v_book.para_proc + df_w2v_book.bullets_proc"
   ]
  },
  {
   "cell_type": "code",
   "execution_count": 16,
   "metadata": {
    "hidden": true
   },
   "outputs": [
    {
     "name": "stderr",
     "output_type": "stream",
     "text": [
      "100%|██████████| 53/53 [00:39<00:00,  1.34it/s]\n"
     ]
    }
   ],
   "source": [
    "df_w2v_book['w2v'] = df_w2v_book.corpus.progress_map(lambda c:\\\n",
    "    gensim.models.Word2Vec(\n",
    "        c,\n",
    "        #size=128,\n",
    "        #window=3,\n",
    "        min_count=1,\n",
    "        sg=1, # 1 for skip-gram; otherwise CBOW.\n",
    "        seed = config.SEED))"
   ]
  },
  {
   "cell_type": "code",
   "execution_count": 17,
   "metadata": {
    "hidden": true,
    "scrolled": true
   },
   "outputs": [
    {
     "name": "stderr",
     "output_type": "stream",
     "text": [
      "100%|██████████| 18773/18773 [00:01<00:00, 12560.17it/s]\n",
      "100%|██████████| 18773/18773 [00:00<00:00, 31126.74it/s]\n"
     ]
    }
   ],
   "source": [
    "def assign_word_vectors(r, col):\n",
    "    book = r.name[0]\n",
    "    wv = df_w2v_book.loc[book, 'w2v'].wv\n",
    "    wv_list = []\n",
    "    for x in r[col]:\n",
    "        try:\n",
    "            v = wv[x]\n",
    "        except:\n",
    "            continue\n",
    "        wv_list.append(v)\n",
    "    return wv_list\n",
    "\n",
    "df_w2v['para_wv'] = df_w2v.progress_apply(lambda row: assign_word_vectors(row, 'para_proc'), axis=1)\n",
    "\n",
    "# taking the average of the w2v vector of each paragraph\n",
    "df_w2v.para_wv = df_w2v.para_wv.progress_map(lambda p_wv: np.mean(p_wv, axis=0))"
   ]
  },
  {
   "cell_type": "code",
   "execution_count": 18,
   "metadata": {
    "hidden": true
   },
   "outputs": [
    {
     "name": "stdout",
     "output_type": "stream",
     "text": [
      "Empty DataFrame\n",
      "Columns: [para, bullets, para_proc, bullets_proc, para_wv]\n",
      "Index: []\n"
     ]
    }
   ],
   "source": [
    "print(df_w2v[df_w2v.para_wv.isna()])\n",
    "df_w2v = df_w2v.dropna()"
   ]
  },
  {
   "cell_type": "markdown",
   "metadata": {
    "heading_collapsed": true,
    "hidden": true
   },
   "source": [
    "#### Explode, preprocess, w2v bullets"
   ]
  },
  {
   "cell_type": "code",
   "execution_count": 19,
   "metadata": {
    "hidden": true
   },
   "outputs": [
    {
     "name": "stderr",
     "output_type": "stream",
     "text": [
      "100%|██████████| 114277/114277 [00:07<00:00, 14715.48it/s]\n",
      "100%|██████████| 114277/114277 [00:05<00:00, 22594.26it/s]\n"
     ]
    }
   ],
   "source": [
    "df_w2v = df_w2v.explode('bullets')\n",
    "\n",
    "df_w2v['bullets_proc'] = df_w2v.bullets.progress_map(para2words)\n",
    "df_w2v.bullets_proc = df_w2v.bullets_proc.progress_map(lambda b:\n",
    "    [w for w in b if w not in stop_words])"
   ]
  },
  {
   "cell_type": "code",
   "execution_count": 20,
   "metadata": {
    "hidden": true
   },
   "outputs": [
    {
     "name": "stderr",
     "output_type": "stream",
     "text": [
      "100%|██████████| 114277/114277 [00:08<00:00, 14144.41it/s]\n",
      "100%|██████████| 114277/114277 [00:02<00:00, 39819.31it/s]\n"
     ]
    }
   ],
   "source": [
    "df_w2v['bullets_wv'] = df_w2v.progress_apply(lambda row: assign_word_vectors(row, 'bullets_proc'), axis=1)\n",
    "\n",
    "# taking the average of the w2v vector of each bullet\n",
    "df_w2v.bullets_wv = df_w2v.bullets_wv.progress_map(lambda b_wv: np.mean(b_wv, axis=0))"
   ]
  },
  {
   "cell_type": "code",
   "execution_count": 21,
   "metadata": {
    "hidden": true
   },
   "outputs": [
    {
     "name": "stderr",
     "output_type": "stream",
     "text": [
      "100%|██████████| 114277/114277 [00:50<00:00, 2284.22it/s]\n",
      "100%|██████████| 114277/114277 [00:40<00:00, 2822.96it/s]\n"
     ]
    }
   ],
   "source": [
    "df_w2v['para_num_tokens'] = df_w2v.para.progress_map(lambda p: len(tokenizer.tokenize(p)))\n",
    "df_w2v['bullets_num_tokens'] = df_w2v.bullets.progress_map(lambda b: len(tokenizer.tokenize(b)))\n",
    "\n",
    "df_w2v['compression_ratio'] = df_w2v.bullets_num_tokens / df_w2v.para_num_tokens"
   ]
  },
  {
   "cell_type": "markdown",
   "metadata": {
    "heading_collapsed": true,
    "hidden": true
   },
   "source": [
    "#### Calculate cosine similarity between each couple bullet-para"
   ]
  },
  {
   "cell_type": "code",
   "execution_count": 22,
   "metadata": {
    "hidden": true
   },
   "outputs": [],
   "source": [
    "def cosine_sim(a, b):\n",
    "    return np.dot(a, b) / (np.linalg.norm(a)*np.linalg.norm(b))"
   ]
  },
  {
   "cell_type": "code",
   "execution_count": 23,
   "metadata": {
    "hidden": true,
    "scrolled": true
   },
   "outputs": [
    {
     "name": "stderr",
     "output_type": "stream",
     "text": [
      "100%|██████████| 114277/114277 [00:02<00:00, 40348.92it/s]\n"
     ]
    }
   ],
   "source": [
    "df_w2v['cosine_sim'] = df_w2v[['para_wv', 'bullets_wv']].progress_apply(lambda row:\\\n",
    "    cosine_sim(row[0], row[1]), axis=1)"
   ]
  },
  {
   "cell_type": "markdown",
   "metadata": {
    "heading_collapsed": true,
    "hidden": true
   },
   "source": [
    "#### Find Best Match and Expand"
   ]
  },
  {
   "cell_type": "code",
   "execution_count": 24,
   "metadata": {
    "hidden": true,
    "scrolled": true
   },
   "outputs": [
    {
     "name": "stderr",
     "output_type": "stream",
     "text": [
      "100%|██████████| 2556/2556 [00:01<00:00, 2111.63it/s]\n"
     ]
    },
    {
     "name": "stdout",
     "output_type": "stream",
     "text": [
      "Percentage of paragraphs which are too short to be summarized: 55.79 %\n"
     ]
    }
   ],
   "source": [
    "# find best match bullet-para for each bullet\n",
    "df_w2v = assign_best_metric_para(df_w2v, 'cosine_sim')"
   ]
  },
  {
   "cell_type": "code",
   "execution_count": 25,
   "metadata": {
    "hidden": true,
    "scrolled": true
   },
   "outputs": [
    {
     "name": "stderr",
     "output_type": "stream",
     "text": [
      "  0%|          | 0/2556 [00:00<?, ?it/s]/home/marco/miniconda3/envs/magma/lib/python3.6/site-packages/ipykernel_launcher.py:18: PerformanceWarning: indexing past lexsort depth may impact performance.\n",
      "100%|██████████| 2556/2556 [01:39<00:00, 25.57it/s]\n"
     ]
    }
   ],
   "source": [
    "df_w2v = expand_up_down(df_w2v, 'cosine_sim')"
   ]
  },
  {
   "cell_type": "code",
   "execution_count": 26,
   "metadata": {
    "hidden": true
   },
   "outputs": [
    {
     "name": "stdout",
     "output_type": "stream",
     "text": [
      "4022 out of 18822 paragraphs are considered using this method. Thus, 21.37 %\n",
      "\n",
      "423472 out of 1493612 tokens are considered using this method. Thus, 28.35 %\n"
     ]
    }
   ],
   "source": [
    "print_stats(df_w2v)"
   ]
  },
  {
   "cell_type": "code",
   "execution_count": 27,
   "metadata": {
    "hidden": true
   },
   "outputs": [],
   "source": [
    "df_w2v_merge = df_w2v[df_w2v['best_match']].reset_index().groupby(['book', 'chapter', 'bullets'], sort=False)\\\n",
    ".agg({\n",
    "    'para': lambda p: ' '.join(list(p)),\n",
    "    'para_num_tokens': sum,\n",
    "    'bullets_num_tokens': lambda bnt: list(bnt)[0]\n",
    "}).reset_index(level='bullets')\n",
    "df_w2v_merge = df_w2v_merge.rename(columns={'para': 'text'})\n",
    "\n",
    "df_w2v_merge['compression_ratio'] = df_w2v_merge.bullets_num_tokens / df_w2v_merge.para_num_tokens"
   ]
  },
  {
   "cell_type": "code",
   "execution_count": 28,
   "metadata": {
    "hidden": true,
    "scrolled": true
   },
   "outputs": [
    {
     "name": "stdout",
     "output_type": "stream",
     "text": [
      "Percentage of paragraphs which are too short to be summarized: 0.31 %\n",
      "\n",
      "Paragraphs which are too long to fit into the model: 25 paragraphs.\n",
      "                                                                 bullets  \\\n",
      "book          chapter                                                      \n",
      "9781908541024 ch_6     Concurrent and adjuvant temozolomide chemother...   \n",
      "              ch_6     Observation may be an appropriate initial stra...   \n",
      "9781908541062 ch_10    Nine biological therapies are now licensed for...   \n",
      "9781908541086 ch_5     Clinicians and patients are best served by con...   \n",
      "              ch_11    Eating disorders not otherwise specified is th...   \n",
      "9781908541727 ch07     Urgently refer patients who present with any o...   \n",
      "              ch09     Refer urgently (the same day), patients with o...   \n",
      "              ch10     Refer urgently, to be seen the same day, if yo...   \n",
      "              ch10     Refer within 1 week, any child with:- squint (...   \n",
      "              ch11     Refer urgently, to be seen by an ophthalmologi...   \n",
      "9781908541901 ch_4     A 12-lead ECG should be performed and reviewed...   \n",
      "              ch_7     In the European guidelines, bivalirudin is the...   \n",
      "9781910797006 ch01     Centriacinar (centrilobular) emphysema is the ...   \n",
      "9781910797211 ch02     At present, there are no guidelines for geneti...   \n",
      "9781910797273 chp5     Newer DMTs, such as natalizumab, alemtuzumab a...   \n",
      "9781910797297 chp4     Subcutaneous panniculitis-like T-cell lymphoma...   \n",
      "              chp4     The clinically aggressive cytotoxic CTCLs are:...   \n",
      "9781910797495 chp7     Pharmacotherapy, based on only a small number ...   \n",
      "9781910797617 chp3     Enasidenib inhibits aberrant isocitrate dehydr...   \n",
      "              chp6     A wide range of targeted agencies for the trea...   \n",
      "9781910797723 chp1     In cellular immunity, T cells recognize their ...   \n",
      "              chp4     Immune checkpoint inhibitors have been approve...   \n",
      "9781910797815 chp9     Myeloproliferative neoplasm (MPN) may progress...   \n",
      "9781912776726 ch6      Novel therapeutic management approaches for pa...   \n",
      "9783318067095 ch9      Validation ensures that the technology is meas...   \n",
      "\n",
      "                                                                    text  \\\n",
      "book          chapter                                                      \n",
      "9781908541024 ch_6     Chemotherapy. The role of adjuvant chemotherap...   \n",
      "              ch_6     Management. Anaplastic oligodendrogliomas have...   \n",
      "9781908541062 ch_10    IL-1 is thought to play a major pro-inflammato...   \n",
      "9781908541086 ch_5     Depression is one of the most salient psychiat...   \n",
      "              ch_11    Other eating disorders. Eating disorders not o...   \n",
      "9781908541727 ch07     double vision due to tightening of the swollen...   \n",
      "              ch09     Blepharospasm is an intermittent or constant e...   \n",
      "              ch10     Most infants and children with 'watery' eyes h...   \n",
      "              ch10     Young children are unable to complain of poor ...   \n",
      "              ch11     corneal abrasion with no sign of penetrating e...   \n",
      "9781908541901 ch_4     The GRACE risk score. In the GRACE risk model,...   \n",
      "              ch_7     Primary percutaneous coronary intervention is ...   \n",
      "9781910797006 ch01     Three principal types of emphysema are recogni...   \n",
      "9781910797211 ch02     Previously identified genes have been pivotal ...   \n",
      "9781910797273 chp5     Treatment escalation strategy. Until the mid-2...   \n",
      "9781910797297 chp4     Type B (mycosis fungoides-like). As suggested ...   \n",
      "              chp4     Because of the clinically aggressive nature of...   \n",
      "9781910797495 chp7     The impact of central pain on the individual i...   \n",
      "9781910797617 chp3     Enasidenib is an oral inhibitor of isocitrate ...   \n",
      "              chp6     As described in Chapter 3, four new treatments...   \n",
      "9781910797723 chp1     T reg cells mainly regulate and suppress the i...   \n",
      "              chp4     Malignant melanoma. Data are most mature for t...   \n",
      "9781910797815 chp9     Management of myeloproliferative neoplasm blas...   \n",
      "9781912776726 ch6      Glioblastoma is the most common primary brain ...   \n",
      "9783318067095 ch9      The process of verification evaluates the capt...   \n",
      "\n",
      "                       para_num_tokens  bullets_num_tokens  compression_ratio  \n",
      "book          chapter                                                          \n",
      "9781908541024 ch_6                 684                 134           0.195906  \n",
      "              ch_6                 642                  92           0.143302  \n",
      "9781908541062 ch_10                546                  60           0.109890  \n",
      "9781908541086 ch_5                 514                 102           0.198444  \n",
      "              ch_11                520                  61           0.117308  \n",
      "9781908541727 ch07                 514                 130           0.252918  \n",
      "              ch09                 587                 181           0.308348  \n",
      "              ch10                 522                 249           0.477011  \n",
      "              ch10                 592                 149           0.251689  \n",
      "              ch11                 523                 280           0.535373  \n",
      "9781908541901 ch_4                 536                 104           0.194030  \n",
      "              ch_7                 584                  85           0.145548  \n",
      "9781910797006 ch01                 572                 115           0.201049  \n",
      "9781910797211 ch02                 544                 115           0.211397  \n",
      "9781910797273 chp5                 577                  54           0.093588  \n",
      "9781910797297 chp4                 550                 127           0.230909  \n",
      "              chp4                 525                 130           0.247619  \n",
      "9781910797495 chp7                 543                 142           0.261510  \n",
      "9781910797617 chp3                 550                 103           0.187273  \n",
      "              chp6                 544                 122           0.224265  \n",
      "9781910797723 chp1                 660                 152           0.230303  \n",
      "              chp4                 569                 145           0.254833  \n",
      "9781910797815 chp9                 519                 111           0.213873  \n",
      "9781912776726 ch6                  539                  73           0.135436  \n",
      "9783318067095 ch9                  586                 197           0.336177  \n"
     ]
    }
   ],
   "source": [
    "print_stats_after_merge(df_w2v_merge)"
   ]
  },
  {
   "cell_type": "code",
   "execution_count": 29,
   "metadata": {
    "hidden": true
   },
   "outputs": [
    {
     "data": {
      "text/plain": [
       "count     25.000000\n",
       "mean     561.680000\n",
       "std       45.329093\n",
       "min      514.000000\n",
       "25%      525.000000\n",
       "50%      546.000000\n",
       "75%      584.000000\n",
       "max      684.000000\n",
       "Name: para_num_tokens, dtype: float64"
      ]
     },
     "execution_count": 29,
     "metadata": {},
     "output_type": "execute_result"
    }
   ],
   "source": [
    "df_w2v_merge[df_w2v_merge['para_num_tokens'] > tokenizer.model_max_length].para_num_tokens.describe()"
   ]
  },
  {
   "cell_type": "markdown",
   "metadata": {
    "heading_collapsed": true,
    "hidden": true
   },
   "source": [
    "#### Save dataset"
   ]
  },
  {
   "cell_type": "code",
   "execution_count": 30,
   "metadata": {
    "hidden": true
   },
   "outputs": [],
   "source": [
    "df_w2v_merge.to_csv(op+'df.csv')"
   ]
  },
  {
   "cell_type": "markdown",
   "metadata": {
    "heading_collapsed": true,
    "hidden": true
   },
   "source": [
    "#### Create train, test, validation"
   ]
  },
  {
   "cell_type": "code",
   "execution_count": 31,
   "metadata": {
    "hidden": true,
    "scrolled": true
   },
   "outputs": [],
   "source": [
    "df_w2v_merge = df_w2v_merge.groupby(level=[0, 1], sort=False).agg({\n",
    "    'bullets': lambda b: list(b),\n",
    "    'text': lambda t: list(t),\n",
    "})"
   ]
  },
  {
   "cell_type": "code",
   "execution_count": 32,
   "metadata": {
    "hidden": true
   },
   "outputs": [
    {
     "name": "stdout",
     "output_type": "stream",
     "text": [
      "361 408\n"
     ]
    }
   ],
   "source": [
    "df_w2v_merge = df_w2v_merge.sample(frac=1, random_state=config.SEED)\n",
    "df_w2v_merge['num_bulls'] = df_w2v_merge.bullets.map(len).cumsum()\n",
    "tot_bulls = df_w2v_merge.num_bulls.iloc[-1]\n",
    "split1 = np.where(df_w2v_merge.num_bulls > int(tot_bulls*0.8))[0][0]+1\n",
    "split2 = np.where(df_w2v_merge.num_bulls > int(tot_bulls*0.9))[0][0]+1\n",
    "print(split1, split2)"
   ]
  },
  {
   "cell_type": "code",
   "execution_count": 33,
   "metadata": {
    "hidden": true
   },
   "outputs": [],
   "source": [
    "train, val, test =\\\n",
    "    df_w2v_merge.iloc[:split1].explode('bullets'),\\\n",
    "    df_w2v_merge.iloc[split1:split2].explode('bullets'),\\\n",
    "    df_w2v_merge.iloc[split2:].explode('bullets')\n",
    "\n",
    "train['text'] = df_w2v_merge.iloc[:split1].explode('text')['text']\n",
    "val['text'] = df_w2v_merge.iloc[split1:split2].explode('text')['text']\n",
    "test['text'] = df_w2v_merge.iloc[split2:].explode('text')['text']\n",
    "\n",
    "train.to_csv(op+'train.csv')\n",
    "val.to_csv(op+'val.csv')\n",
    "test.to_csv(op+'test.csv')"
   ]
  },
  {
   "cell_type": "code",
   "execution_count": 34,
   "metadata": {
    "hidden": true
   },
   "outputs": [],
   "source": [
    "with open(op+'train.source', 'w') as tr_s,\\\n",
    "    open(op+'train.target', 'w') as tr_t,\\\n",
    "    open(op+'train.index', 'w') as tr_i:\n",
    "    for idx, row in train[['text', 'bullets']].iterrows():\n",
    "        tr_i.write(str(idx) + '\\n')\n",
    "        tr_s.write(row.text + '\\n')\n",
    "        tr_t.write(row.bullets + '\\n')\n",
    "        \n",
    "with open(op+'val.source', 'w') as va_s,\\\n",
    "    open(op+'val.target', 'w') as va_t,\\\n",
    "    open(op+'val.index', 'w') as va_i:\n",
    "    for idx, row in val[['text', 'bullets']].iterrows():\n",
    "        va_i.write(str(idx) + '\\n')\n",
    "        va_s.write(row.text + '\\n')\n",
    "        va_t.write(row.bullets + '\\n')\n",
    "        \n",
    "with open(op+'test.source', 'w') as te_s,\\\n",
    "    open(op+'test.target', 'w') as te_t,\\\n",
    "    open(op+'test.index', 'w') as te_i:\n",
    "    for idx, row in test[['text', 'bullets']].iterrows():\n",
    "        te_i.write(str(idx) + '\\n')\n",
    "        te_s.write(row.text + '\\n')\n",
    "        te_t.write(row.bullets + '\\n')"
   ]
  },
  {
   "cell_type": "markdown",
   "metadata": {
    "heading_collapsed": true
   },
   "source": [
    "## **Doc2Vec Book Level**"
   ]
  },
  {
   "cell_type": "markdown",
   "metadata": {
    "heading_collapsed": true,
    "hidden": true
   },
   "source": [
    "#### Create Doc Vectors"
   ]
  },
  {
   "cell_type": "code",
   "execution_count": 35,
   "metadata": {
    "hidden": true
   },
   "outputs": [],
   "source": [
    "op = OUTPUT_PATH + 'd2v/'\n",
    "if not os.path.exists(op):\n",
    "    os.makedirs(op)"
   ]
  },
  {
   "cell_type": "code",
   "execution_count": 36,
   "metadata": {
    "hidden": true,
    "scrolled": true
   },
   "outputs": [],
   "source": [
    "df_d2v = df.copy()"
   ]
  },
  {
   "cell_type": "code",
   "execution_count": 37,
   "metadata": {
    "hidden": true
   },
   "outputs": [],
   "source": [
    "df_d2v_book = df_d2v.groupby('book', sort=False).agg({\n",
    "    'para_proc': lambda pp: list(pp),\n",
    "    'bullets_proc': lambda bp: list(bp)[0]\n",
    "})"
   ]
  },
  {
   "cell_type": "code",
   "execution_count": 38,
   "metadata": {
    "hidden": true
   },
   "outputs": [],
   "source": [
    "df_d2v_book['corpus'] = df_d2v_book.para_proc + df_d2v_book.bullets_proc\n",
    "df_d2v_book['tagged_corpus'] = df_d2v_book.corpus.map(lambda c:\n",
    "    [gensim.models.doc2vec.TaggedDocument(para, [i]) for i, para in enumerate(c)])"
   ]
  },
  {
   "cell_type": "code",
   "execution_count": 39,
   "metadata": {
    "hidden": true
   },
   "outputs": [
    {
     "name": "stderr",
     "output_type": "stream",
     "text": [
      "100%|██████████| 53/53 [00:40<00:00,  1.31it/s]\n"
     ]
    }
   ],
   "source": [
    "df_d2v_book['d2v'] = df_d2v_book.tagged_corpus.progress_map(lambda tc:\\\n",
    "    gensim.models.Doc2Vec(\n",
    "        tc,\n",
    "        dm=1, # 1 for PV-DM; otherwise PV-DBOW\n",
    "        #vector_size=128,\n",
    "        #window=3,\n",
    "        #epochs=5,\n",
    "        min_count=1,\n",
    "        seed = config.SEED))"
   ]
  },
  {
   "cell_type": "markdown",
   "metadata": {
    "heading_collapsed": true,
    "hidden": true
   },
   "source": [
    "#### Explode and preprocess bullets"
   ]
  },
  {
   "cell_type": "code",
   "execution_count": 40,
   "metadata": {
    "hidden": true
   },
   "outputs": [
    {
     "name": "stderr",
     "output_type": "stream",
     "text": [
      "100%|██████████| 114277/114277 [00:07<00:00, 16026.14it/s]\n",
      "100%|██████████| 114277/114277 [00:04<00:00, 26443.51it/s]\n"
     ]
    }
   ],
   "source": [
    "df_d2v = df_d2v.explode('bullets')\n",
    "\n",
    "df_d2v['bullets_proc'] = df_d2v.bullets.progress_map(para2words)\n",
    "df_d2v.bullets_proc = df_d2v.bullets_proc.progress_map(lambda b:\n",
    "    [w for w in b if w not in stop_words])"
   ]
  },
  {
   "cell_type": "code",
   "execution_count": 41,
   "metadata": {
    "hidden": true
   },
   "outputs": [
    {
     "name": "stderr",
     "output_type": "stream",
     "text": [
      "100%|██████████| 114277/114277 [00:40<00:00, 2819.05it/s]\n",
      "100%|██████████| 114277/114277 [00:40<00:00, 2826.34it/s]\n"
     ]
    }
   ],
   "source": [
    "df_d2v['para_num_tokens'] = df_d2v.para.progress_map(lambda p: len(tokenizer.tokenize(p)))\n",
    "df_d2v['bullets_num_tokens'] = df_d2v.bullets.progress_map(lambda b: len(tokenizer.tokenize(b)))\n",
    "\n",
    "df_d2v['compression_ratio'] = df_d2v.bullets_num_tokens / df_d2v.para_num_tokens"
   ]
  },
  {
   "cell_type": "markdown",
   "metadata": {
    "heading_collapsed": true,
    "hidden": true
   },
   "source": [
    "#### Calculate similarity between each couple bullet-para"
   ]
  },
  {
   "cell_type": "code",
   "execution_count": 42,
   "metadata": {
    "hidden": true
   },
   "outputs": [
    {
     "name": "stderr",
     "output_type": "stream",
     "text": [
      "100%|██████████| 114277/114277 [02:29<00:00, 766.60it/s]\n"
     ]
    }
   ],
   "source": [
    "def cosine_sim(a, b):\n",
    "    return np.dot(a, b) / (np.linalg.norm(a)*np.linalg.norm(b))\n",
    "\n",
    "def d2v_similarity(r):\n",
    "    book = r.name[0]\n",
    "    d2v = df_d2v_book.loc[book, 'd2v']\n",
    "    dv_para = d2v.infer_vector(r.para_proc)\n",
    "    dv_bullets = d2v.infer_vector(r.bullets_proc)\n",
    "    \n",
    "    return cosine_sim(dv_para, dv_bullets)\n",
    "    \n",
    "df_d2v['d2v_sim'] = df_d2v.progress_apply(lambda row: d2v_similarity(row), axis=1)"
   ]
  },
  {
   "cell_type": "markdown",
   "metadata": {
    "heading_collapsed": true,
    "hidden": true
   },
   "source": [
    "#### Find Best Match and Expand"
   ]
  },
  {
   "cell_type": "code",
   "execution_count": 43,
   "metadata": {
    "hidden": true
   },
   "outputs": [
    {
     "name": "stderr",
     "output_type": "stream",
     "text": [
      "100%|██████████| 2556/2556 [00:01<00:00, 1292.53it/s]\n"
     ]
    },
    {
     "name": "stdout",
     "output_type": "stream",
     "text": [
      "Percentage of paragraphs which are too short to be summarized: 55.71 %\n"
     ]
    }
   ],
   "source": [
    "# find best match bullet-para for each bullet\n",
    "df_d2v = assign_best_metric_para(df_d2v, 'd2v_sim')"
   ]
  },
  {
   "cell_type": "code",
   "execution_count": 44,
   "metadata": {
    "hidden": true
   },
   "outputs": [
    {
     "name": "stderr",
     "output_type": "stream",
     "text": [
      "  0%|          | 0/2556 [00:00<?, ?it/s]/home/marco/miniconda3/envs/magma/lib/python3.6/site-packages/ipykernel_launcher.py:18: PerformanceWarning: indexing past lexsort depth may impact performance.\n",
      "100%|██████████| 2556/2556 [01:31<00:00, 28.06it/s]\n"
     ]
    }
   ],
   "source": [
    "df_d2v_expand = expand_up_down(df_d2v, 'd2v_sim')"
   ]
  },
  {
   "cell_type": "code",
   "execution_count": 45,
   "metadata": {
    "hidden": true
   },
   "outputs": [
    {
     "name": "stdout",
     "output_type": "stream",
     "text": [
      "4023 out of 18822 paragraphs are considered using this method. Thus, 21.37 %\n",
      "\n",
      "421842 out of 1493612 tokens are considered using this method. Thus, 28.24 %\n"
     ]
    }
   ],
   "source": [
    "print_stats(df_d2v)"
   ]
  },
  {
   "cell_type": "code",
   "execution_count": 46,
   "metadata": {
    "hidden": true
   },
   "outputs": [],
   "source": [
    "df_d2v_merge = df_d2v[df_d2v['best_match']].reset_index().groupby(['book', 'chapter', 'bullets'], sort=False)\\\n",
    ".agg({\n",
    "    'para': lambda p: ' '.join(list(p)),\n",
    "    'para_num_tokens': sum,\n",
    "    'bullets_num_tokens': lambda bnt: list(bnt)[0]\n",
    "}).reset_index(level='bullets')\n",
    "df_d2v_merge = df_d2v_merge.rename(columns={'para': 'text'})\n",
    "\n",
    "df_d2v_merge['compression_ratio'] = df_d2v_merge.bullets_num_tokens / df_d2v_merge.para_num_tokens"
   ]
  },
  {
   "cell_type": "code",
   "execution_count": 47,
   "metadata": {
    "hidden": true,
    "scrolled": true
   },
   "outputs": [
    {
     "name": "stdout",
     "output_type": "stream",
     "text": [
      "Percentage of paragraphs which are too short to be summarized: 0.35 %\n",
      "\n",
      "Paragraphs which are too long to fit into the model: 29 paragraphs.\n",
      "                                                                 bullets  \\\n",
      "book          chapter                                                      \n",
      "9781908541024 ch_6     Concurrent and adjuvant temozolomide chemother...   \n",
      "              ch_6     Observation may be an appropriate initial stra...   \n",
      "9781908541277 ch_11    Oral contraceptives containing at least 50 µg ...   \n",
      "9781908541406 ch_4     Specific inquiry should be made about oral ant...   \n",
      "              ch_15    The direct factor Xa and thrombin inhibitors c...   \n",
      "9781908541680 ch_6     Healthy diets focus on fruit and vegetables, w...   \n",
      "9781908541727 ch07     Urgently refer patients who present with any o...   \n",
      "              ch09     Refer urgently (the same day), patients with o...   \n",
      "              ch10     Refer urgently, to be seen the same day, if yo...   \n",
      "              ch10     Refer within 1 week, any child with:- squint (...   \n",
      "              ch11     Refer urgently, to be seen by an ophthalmologi...   \n",
      "9781910797181 ch07     Nortriptyline and cytisine are both effective ...   \n",
      "9781910797273 chp5     Disease-modifying therapies (DMTs) ameliorate ...   \n",
      "9781910797297 chp4     Subcutaneous panniculitis-like T-cell lymphoma...   \n",
      "              chp4     The clinically aggressive cytotoxic CTCLs are:...   \n",
      "              chp4     Primary cutaneous anaplastic large cell lympho...   \n",
      "9781910797457 chp8     When docetaxel chemotherapy has failed, second...   \n",
      "9781910797495 chp7     Pharmacotherapy, based on only a small number ...   \n",
      "9781910797617 chp3     The anti-CD33 monoclonal antibody-drug conjuga...   \n",
      "              chp6     A wide range of targeted agencies for the trea...   \n",
      "9781910797662 ch05     Intermediate-risk tumors are more likely to re...   \n",
      "9781910797723 chp1     In cellular immunity, T cells recognize their ...   \n",
      "              chp4     Immune checkpoint inhibitors have been approve...   \n",
      "9781910797815 chp9     Myeloproliferative neoplasm (MPN) may progress...   \n",
      "9781912776139 ch3      UMN disease causes slowness, stiffness, clumsi...   \n",
      "9781912776818 hh-4     Pregnancy is a trigger for TTP, especially the...   \n",
      "9783318066685 ch2      Gain-of-function mutations can potentially be ...   \n",
      "              ch4      Chimeric antigen receptor (CAR)-T cell therapi...   \n",
      "9783318067095 ch9      Validation ensures that the technology is meas...   \n",
      "\n",
      "                                                                    text  \\\n",
      "book          chapter                                                      \n",
      "9781908541024 ch_6     Management. Anaplastic oligodendrogliomas have...   \n",
      "              ch_6     Management. Anaplastic oligodendrogliomas have...   \n",
      "9781908541277 ch_11    Menstruation. Up to 20% of women with epilepsy...   \n",
      "9781908541406 ch_4     Bleeding scores are being developed and evalua...   \n",
      "              ch_15    The inhibitors are either antibodies or parapr...   \n",
      "9781908541680 ch_6     The efficacy of dietary fiber differs accordin...   \n",
      "9781908541727 ch07     Iris disease. The second most common cause of ...   \n",
      "              ch09     Herpes zoster ophthalmicus (HZO) is caused by ...   \n",
      "              ch10     Young children are unable to complain of poor ...   \n",
      "              ch10     Young children are unable to complain of poor ...   \n",
      "              ch11     A patient suspected of having any of these inj...   \n",
      "9781910797181 ch07     Smokers are advised to use 9-20 pieces of gum ...   \n",
      "9781910797273 chp5     Treatment escalation strategy. Until the mid-2...   \n",
      "9781910797297 chp4     Type A (classic/conventional) is the most comm...   \n",
      "              chp4     Type D (cutaneous aggressive epidermotropic CD...   \n",
      "              chp4     Subcutaneous panniculitis-like T-cell lymphoma...   \n",
      "9781910797457 chp8     In most cases, advanced prostate cancers treat...   \n",
      "9781910797495 chp7     Intravenous ketamine has been reported to redu...   \n",
      "9781910797617 chp3     Enasidenib is an oral inhibitor of isocitrate ...   \n",
      "              chp6     The FDA has recently approved two novel immuno...   \n",
      "9781910797662 ch05     High-risk tumors. Patients who present with CI...   \n",
      "9781910797723 chp1     In addition to the physical barrier of skin an...   \n",
      "              chp4     Immune checkpoint molecules are cell surface r...   \n",
      "9781910797815 chp9     MPN-BP is associated with a poor prognosis: me...   \n",
      "9781912776139 ch3      In lower motor neuron bulbar disease, the dysa...   \n",
      "9781912776818 hh-4     The presentation of cTTP is discussed on pages...   \n",
      "9783318066685 ch2      Gene therapy products are defined by the US Fo...   \n",
      "              ch4      SCID-X1 accounts for 40% of cases of severe co...   \n",
      "9783318067095 ch9      The process of verification evaluates the capt...   \n",
      "\n",
      "                       para_num_tokens  bullets_num_tokens  compression_ratio  \n",
      "book          chapter                                                          \n",
      "9781908541024 ch_6                 532                 134           0.251880  \n",
      "              ch_6                 532                  92           0.172932  \n",
      "9781908541277 ch_11                515                 108           0.209709  \n",
      "9781908541406 ch_4                 547                  65           0.118830  \n",
      "              ch_15                515                  56           0.108738  \n",
      "9781908541680 ch_6                 521                 101           0.193858  \n",
      "9781908541727 ch07                 523                 130           0.248566  \n",
      "              ch09                 532                 181           0.340226  \n",
      "              ch10                 592                 249           0.420608  \n",
      "              ch10                 592                 149           0.251689  \n",
      "              ch11                 530                 280           0.528302  \n",
      "9781910797181 ch07                 530                  81           0.152830  \n",
      "9781910797273 chp5                 577                  48           0.083189  \n",
      "9781910797297 chp4                 520                 127           0.244231  \n",
      "              chp4                 652                 130           0.199387  \n",
      "              chp4                 513                  93           0.181287  \n",
      "9781910797457 chp8                 545                  87           0.159633  \n",
      "9781910797495 chp7                 538                 142           0.263941  \n",
      "9781910797617 chp3                 550                  91           0.165455  \n",
      "              chp6                 571                 122           0.213660  \n",
      "9781910797662 ch05                 572                  87           0.152098  \n",
      "9781910797723 chp1                 570                 152           0.266667  \n",
      "              chp4                 555                 145           0.261261  \n",
      "9781910797815 chp9                 555                 111           0.200000  \n",
      "9781912776139 ch3                  532                 102           0.191729  \n",
      "9781912776818 hh-4                 523                  92           0.175908  \n",
      "9783318066685 ch2                  516                  84           0.162791  \n",
      "              ch4                  548                  68           0.124088  \n",
      "9783318067095 ch9                  586                 197           0.336177  \n"
     ]
    }
   ],
   "source": [
    "print_stats_after_merge(df_d2v_merge)"
   ]
  },
  {
   "cell_type": "markdown",
   "metadata": {
    "heading_collapsed": true,
    "hidden": true
   },
   "source": [
    "#### Save dataset"
   ]
  },
  {
   "cell_type": "code",
   "execution_count": 48,
   "metadata": {
    "hidden": true
   },
   "outputs": [],
   "source": [
    "df_d2v_merge.to_csv(op+'df.csv')"
   ]
  },
  {
   "cell_type": "markdown",
   "metadata": {
    "heading_collapsed": true,
    "hidden": true
   },
   "source": [
    "#### Create train, test, validation"
   ]
  },
  {
   "cell_type": "code",
   "execution_count": 49,
   "metadata": {
    "hidden": true
   },
   "outputs": [],
   "source": [
    "df_d2v_merge = df_d2v_merge.groupby(level=[0, 1], sort=False).agg({\n",
    "    'bullets': lambda b: list(b),\n",
    "    'text': lambda t: list(t),\n",
    "})"
   ]
  },
  {
   "cell_type": "code",
   "execution_count": 50,
   "metadata": {
    "hidden": true
   },
   "outputs": [
    {
     "name": "stdout",
     "output_type": "stream",
     "text": [
      "361 408\n"
     ]
    }
   ],
   "source": [
    "df_d2v_merge = df_d2v_merge.sample(frac=1, random_state=config.SEED)\n",
    "df_d2v_merge['num_bulls'] = df_d2v_merge.bullets.map(len).cumsum()\n",
    "tot_bulls = df_d2v_merge.num_bulls.iloc[-1]\n",
    "split1 = np.where(df_d2v_merge.num_bulls > int(tot_bulls*0.8))[0][0]+1\n",
    "split2 = np.where(df_d2v_merge.num_bulls > int(tot_bulls*0.9))[0][0]+1\n",
    "print(split1, split2)"
   ]
  },
  {
   "cell_type": "code",
   "execution_count": 51,
   "metadata": {
    "hidden": true
   },
   "outputs": [],
   "source": [
    "train, val, test =\\\n",
    "    df_d2v_merge.iloc[:split1].explode('bullets'),\\\n",
    "    df_d2v_merge.iloc[split1:split2].explode('bullets'),\\\n",
    "    df_d2v_merge.iloc[split2:].explode('bullets')\n",
    "\n",
    "train['text'] = df_d2v_merge.iloc[:split1].explode('text')['text']\n",
    "val['text'] = df_d2v_merge.iloc[split1:split2].explode('text')['text']\n",
    "test['text'] = df_d2v_merge.iloc[split2:].explode('text')['text']\n",
    "\n",
    "train.to_csv(op+'train.csv')\n",
    "val.to_csv(op+'val.csv')\n",
    "test.to_csv(op+'test.csv')"
   ]
  },
  {
   "cell_type": "code",
   "execution_count": 52,
   "metadata": {
    "hidden": true
   },
   "outputs": [],
   "source": [
    "with open(op+'train.source', 'w') as tr_s,\\\n",
    "    open(op+'train.target', 'w') as tr_t,\\\n",
    "    open(op+'train.index', 'w') as tr_i:\n",
    "    for idx, row in train[['text', 'bullets']].iterrows():\n",
    "        tr_i.write(str(idx) + '\\n')\n",
    "        tr_s.write(row.text + '\\n')\n",
    "        tr_t.write(row.bullets + '\\n')\n",
    "        \n",
    "with open(op+'val.source', 'w') as va_s,\\\n",
    "    open(op+'val.target', 'w') as va_t,\\\n",
    "    open(op+'val.index', 'w') as va_i:\n",
    "    for idx, row in val[['text', 'bullets']].iterrows():\n",
    "        va_i.write(str(idx) + '\\n')\n",
    "        va_s.write(row.text + '\\n')\n",
    "        va_t.write(row.bullets + '\\n')\n",
    "        \n",
    "with open(op+'test.source', 'w') as te_s,\\\n",
    "    open(op+'test.target', 'w') as te_t,\\\n",
    "    open(op+'test.index', 'w') as te_i:\n",
    "    for idx, row in test[['text', 'bullets']].iterrows():\n",
    "        te_i.write(str(idx) + '\\n')\n",
    "        te_s.write(row.text + '\\n')\n",
    "        te_t.write(row.bullets + '\\n')"
   ]
  },
  {
   "cell_type": "markdown",
   "metadata": {},
   "source": [
    "## **Sentence-Transformers Book Level**"
   ]
  },
  {
   "cell_type": "code",
   "execution_count": 53,
   "metadata": {},
   "outputs": [],
   "source": [
    "op = OUTPUT_PATH + 'st/'\n",
    "if not os.path.exists(op):\n",
    "    os.makedirs(op)"
   ]
  },
  {
   "cell_type": "code",
   "execution_count": 54,
   "metadata": {
    "scrolled": true
   },
   "outputs": [],
   "source": [
    "df_st = df.copy()"
   ]
  },
  {
   "cell_type": "markdown",
   "metadata": {},
   "source": [
    "#### Create embedding vectors for para"
   ]
  },
  {
   "cell_type": "code",
   "execution_count": 55,
   "metadata": {
    "scrolled": true
   },
   "outputs": [
    {
     "name": "stderr",
     "output_type": "stream",
     "text": [
      "100%|██████████| 18773/18773 [24:22<00:00, 12.84it/s]\n"
     ]
    }
   ],
   "source": [
    "from sentence_transformers import SentenceTransformer\n",
    "\n",
    "# might want to try 'msmarco-distilbert-base-v2' too\n",
    "model = SentenceTransformer('paraphrase-distilroberta-base-v1')\n",
    "\n",
    "df_st['para_enc'] = df_st.para.progress_map(model.encode)"
   ]
  },
  {
   "cell_type": "markdown",
   "metadata": {},
   "source": [
    "#### Explode bullets"
   ]
  },
  {
   "cell_type": "code",
   "execution_count": 56,
   "metadata": {},
   "outputs": [],
   "source": [
    "df_st = df_st.explode('bullets')"
   ]
  },
  {
   "cell_type": "code",
   "execution_count": 57,
   "metadata": {},
   "outputs": [
    {
     "name": "stderr",
     "output_type": "stream",
     "text": [
      "100%|██████████| 114277/114277 [00:43<00:00, 2637.41it/s]\n",
      "100%|██████████| 114277/114277 [00:33<00:00, 3366.45it/s]\n"
     ]
    }
   ],
   "source": [
    "df_st['para_num_tokens'] = df_st.para.progress_map(lambda p: len(tokenizer.tokenize(p)))\n",
    "df_st['bullets_num_tokens'] = df_st.bullets.progress_map(lambda b: len(tokenizer.tokenize(b)))\n",
    "\n",
    "df_st['compression_ratio'] = df_st.bullets_num_tokens / df_st.para_num_tokens"
   ]
  },
  {
   "cell_type": "markdown",
   "metadata": {},
   "source": [
    "#### Create embedding vectors for bullets"
   ]
  },
  {
   "cell_type": "code",
   "execution_count": 58,
   "metadata": {
    "scrolled": true
   },
   "outputs": [
    {
     "name": "stderr",
     "output_type": "stream",
     "text": [
      "100%|██████████| 2556/2556 [01:32<00:00, 27.75it/s]\n"
     ]
    }
   ],
   "source": [
    "bull_to_embed = df_st.groupby(['book', 'chapter'], sort=False).agg({\n",
    "    'bullets': lambda b: list(set(b))\n",
    "}).explode('bullets')\n",
    "\n",
    "bull_to_embed['bullets_enc'] = bull_to_embed.bullets.progress_map(model.encode)"
   ]
  },
  {
   "cell_type": "markdown",
   "metadata": {},
   "source": [
    "#### Calculate similarity between each couple bullet-para"
   ]
  },
  {
   "cell_type": "code",
   "execution_count": 59,
   "metadata": {
    "scrolled": true
   },
   "outputs": [
    {
     "name": "stderr",
     "output_type": "stream",
     "text": [
      "100%|██████████| 114277/114277 [01:34<00:00, 1203.15it/s]\n"
     ]
    }
   ],
   "source": [
    "def cosine_sim(a, b):\n",
    "    return np.dot(a, b) / (np.linalg.norm(a)*np.linalg.norm(b))\n",
    "\n",
    "def sentence_transformers_sim(r):\n",
    "    book = r.name[0]\n",
    "    b2e = bull_to_embed.loc[book]\n",
    "    para_enc = r.para_enc\n",
    "    bullets_enc = b2e.loc[(b2e.bullets == r.bullets), 'bullets_enc']\n",
    "    assert len(bullets_enc) == 1\n",
    "    bullets_enc = bullets_enc[0]\n",
    "    \n",
    "    return cosine_sim(para_enc, bullets_enc)\n",
    "    \n",
    "df_st['st_sim'] = df_st.progress_apply(sentence_transformers_sim, axis=1)"
   ]
  },
  {
   "cell_type": "markdown",
   "metadata": {},
   "source": [
    "### Find Best Match and Expand"
   ]
  },
  {
   "cell_type": "code",
   "execution_count": 60,
   "metadata": {},
   "outputs": [
    {
     "name": "stderr",
     "output_type": "stream",
     "text": [
      "100%|██████████| 2556/2556 [00:01<00:00, 2190.16it/s]\n"
     ]
    },
    {
     "name": "stdout",
     "output_type": "stream",
     "text": [
      "Percentage of paragraphs which are too short to be summarized: 64.01 %\n"
     ]
    }
   ],
   "source": [
    "# find best match bullet-para for each bullet\n",
    "df_st = assign_best_metric_para(df_st, 'st_sim')"
   ]
  },
  {
   "cell_type": "code",
   "execution_count": 61,
   "metadata": {},
   "outputs": [
    {
     "name": "stderr",
     "output_type": "stream",
     "text": [
      "  0%|          | 0/2556 [00:00<?, ?it/s]/home/marco/miniconda3/envs/magma/lib/python3.6/site-packages/ipykernel_launcher.py:18: PerformanceWarning: indexing past lexsort depth may impact performance.\n",
      "100%|██████████| 2556/2556 [01:41<00:00, 25.09it/s]\n"
     ]
    }
   ],
   "source": [
    "df_st_base = expand_up_down(df_st.copy(), 'st_sim')"
   ]
  },
  {
   "cell_type": "code",
   "execution_count": 62,
   "metadata": {},
   "outputs": [
    {
     "name": "stdout",
     "output_type": "stream",
     "text": [
      "4560 out of 18822 paragraphs are considered using this method. Thus, 24.23 %\n",
      "\n",
      "430587 out of 1493612 tokens are considered using this method. Thus, 28.83 %\n"
     ]
    }
   ],
   "source": [
    "print_stats(df_st_base)"
   ]
  },
  {
   "cell_type": "markdown",
   "metadata": {
    "heading_collapsed": true
   },
   "source": [
    "### Study Overlaps"
   ]
  },
  {
   "cell_type": "markdown",
   "metadata": {
    "heading_collapsed": true,
    "hidden": true
   },
   "source": [
    "##### Functions"
   ]
  },
  {
   "cell_type": "code",
   "execution_count": 63,
   "metadata": {
    "hidden": true
   },
   "outputs": [],
   "source": [
    "def create_overlap_matrix(r):\n",
    "    num_bulls = len(r.selected_para)\n",
    "    #assert num_bulls == len(r.bullets)\n",
    "    overlap_matrix = np.zeros((num_bulls,num_bulls))\n",
    "    \n",
    "    def list_overlap(a, b):\n",
    "        return list( set(a).intersection(set(b)) )\n",
    "    \n",
    "    for i in range(num_bulls):\n",
    "        for j in range(num_bulls):\n",
    "            if i == j : continue\n",
    "            num_tok_i = np.sum(r.para_num_tokens[r.selected_para[i]])\n",
    "            overlap = list_overlap(\n",
    "                r.selected_para[i], r.selected_para[j])\n",
    "            num_tok_overlap = np.sum(r.para_num_tokens[overlap])\n",
    "            assert num_tok_overlap <= num_tok_i\n",
    "            \n",
    "            overlap_matrix[i, j] = round(num_tok_overlap/num_tok_i*100, 2)\n",
    "    \n",
    "    return overlap_matrix\n",
    "\n",
    "def find_big_overlap(r, threshold):\n",
    "    om = r.overlap_matrix\n",
    "    big_overlap_idx = np.argwhere(om >= threshold)\n",
    "    big_overlap_idx = set([frozenset(t) for t in big_overlap_idx])\n",
    "    merged = set()\n",
    "    to_be_merged = set()\n",
    "    for idx in big_overlap_idx:\n",
    "        idx = tuple(idx)\n",
    "        i, j = idx[0], idx[1]\n",
    "        if i not in merged and j not in merged:\n",
    "            to_be_merged.add(idx)\n",
    "            merged.add(i)\n",
    "            merged.add(j)\n",
    "    return to_be_merged\n",
    "\n",
    "def merge_bullets(r):\n",
    "    for i, j in r.to_be_merged:\n",
    "        r.bullets[i] += (' '+r.bullets[j])\n",
    "        r.bullets_num_tokens[i] += r.bullets_num_tokens[j]\n",
    "        r.selected_para[i] = np.array(list(set(\n",
    "            np.concatenate((r.selected_para[i], r.selected_para[j])))))\n",
    "        \n",
    "        r.bullets[j] = None\n",
    "        r.bullets_num_tokens[j] = None\n",
    "        r.selected_para[j] = None\n",
    "    r.bullets = [b for b in r.bullets if b is not None]\n",
    "    r.bullets_num_tokens = [bnt for bnt in r.bullets_num_tokens if bnt is not None]\n",
    "    r.selected_para = [sp for sp in r.selected_para if sp is not None]"
   ]
  },
  {
   "cell_type": "markdown",
   "metadata": {
    "heading_collapsed": true,
    "hidden": true
   },
   "source": [
    "##### Base"
   ]
  },
  {
   "cell_type": "code",
   "execution_count": 64,
   "metadata": {
    "hidden": true,
    "scrolled": true
   },
   "outputs": [],
   "source": [
    "df_st_base_study = df_st_base.groupby(['book', 'chapter', 'bullets'], sort=False).agg({\n",
    "    'para': lambda p: list(p),\n",
    "    'para_num_tokens': lambda pnt: list(pnt),\n",
    "    'bullets_num_tokens': lambda bnt: list(bnt)[0],\n",
    "    'best_match': lambda bm: list(bm)\n",
    "}).reset_index('bullets')\n",
    "df_st_base_study.best_match = df_st_base_study.best_match.map(lambda bm: np.where(bm)[0])\n",
    "df_st_base_study = df_st_base_study.groupby(['book', 'chapter'], sort=False).agg({\n",
    "    'bullets': lambda b: list(b),\n",
    "    'para': lambda p: list(p)[0],\n",
    "    'para_num_tokens': lambda pnt: list(pnt)[0],\n",
    "    'bullets_num_tokens': lambda bnt: list(bnt),\n",
    "    'best_match': lambda bm: list(bm)\n",
    "}).rename(columns={'best_match': 'selected_para'})\n",
    "df_st_base_study.para_num_tokens = df_st_base_study.para_num_tokens.map(np.array)"
   ]
  },
  {
   "cell_type": "code",
   "execution_count": 65,
   "metadata": {
    "hidden": true,
    "scrolled": true
   },
   "outputs": [
    {
     "name": "stdout",
     "output_type": "stream",
     "text": [
      "\n",
      "Total number of bullets: 2556\n",
      "Bullets to be merged: 407\n",
      "\n",
      "Total number of bullets: 2149\n",
      "Bullets to be merged: 67\n",
      "\n",
      "Total number of bullets: 2082\n",
      "Bullets to be merged: 6\n",
      "\n",
      "Total number of bullets: 2076\n",
      "Bullets to be merged: 2\n",
      "\n",
      "Total number of bullets: 2074\n",
      "Bullets to be merged: 0\n"
     ]
    }
   ],
   "source": [
    "while True:\n",
    "    print('\\nTotal number of bullets: %d'%(df_st_base_study.bullets.map(len).sum()))\n",
    "    df_st_base_study['overlap_matrix'] = df_st_base_study.apply(create_overlap_matrix, axis=1)\n",
    "\n",
    "    df_st_base_study['to_be_merged'] = df_st_base_study.apply(lambda row: find_big_overlap(row, 90), axis=1)\n",
    "\n",
    "    num_to_be_merged = df_st_base_study.to_be_merged.map(len).sum()\n",
    "    print('Bullets to be merged: %d'%num_to_be_merged)\n",
    "    if (num_to_be_merged <= 0) : break\n",
    "\n",
    "    df_st_base_study.apply(merge_bullets, axis=1)"
   ]
  },
  {
   "cell_type": "markdown",
   "metadata": {
    "heading_collapsed": true
   },
   "source": [
    "### Putting Things Together"
   ]
  },
  {
   "cell_type": "markdown",
   "metadata": {
    "heading_collapsed": true,
    "hidden": true
   },
   "source": [
    "##### Base"
   ]
  },
  {
   "cell_type": "code",
   "execution_count": 66,
   "metadata": {
    "hidden": true
   },
   "outputs": [],
   "source": [
    "df_st_base_save =\\\n",
    "    df_st_base[df_st_base['best_match']].reset_index().groupby(['book', 'chapter', 'bullets'], sort=False)\\\n",
    "    .agg({\n",
    "        'para': lambda p: ' '.join(list(p)),\n",
    "        'para_num_tokens': sum,\n",
    "        'bullets_num_tokens': lambda bnt: list(bnt)[0]\n",
    "    }).reset_index(level='bullets')\n",
    "df_st_base_save = df_st_base_save.rename(columns={'para': 'text'})\n",
    "\n",
    "df_st_base_save['compression_ratio'] = df_st_base_save.bullets_num_tokens / df_st_base_save.para_num_tokens"
   ]
  },
  {
   "cell_type": "code",
   "execution_count": 67,
   "metadata": {
    "hidden": true
   },
   "outputs": [
    {
     "data": {
      "text/plain": [
       "count    2556.000000\n",
       "mean       35.391236\n",
       "std        20.472680\n",
       "min         3.000000\n",
       "25%        22.000000\n",
       "50%        31.000000\n",
       "75%        44.000000\n",
       "max       280.000000\n",
       "Name: bullets_num_tokens, dtype: float64"
      ]
     },
     "execution_count": 67,
     "metadata": {},
     "output_type": "execute_result"
    }
   ],
   "source": [
    "df_st_base_save.bullets_num_tokens.describe()"
   ]
  },
  {
   "cell_type": "code",
   "execution_count": 68,
   "metadata": {
    "hidden": true
   },
   "outputs": [
    {
     "data": {
      "text/plain": [
       "count    2556.000000\n",
       "mean      206.664710\n",
       "std        93.792847\n",
       "min        32.000000\n",
       "25%       139.000000\n",
       "50%       190.000000\n",
       "75%       259.000000\n",
       "max       647.000000\n",
       "Name: para_num_tokens, dtype: float64"
      ]
     },
     "execution_count": 68,
     "metadata": {},
     "output_type": "execute_result"
    }
   ],
   "source": [
    "df_st_base_save.para_num_tokens.describe()"
   ]
  },
  {
   "cell_type": "code",
   "execution_count": 69,
   "metadata": {
    "hidden": true,
    "scrolled": true
   },
   "outputs": [
    {
     "name": "stdout",
     "output_type": "stream",
     "text": [
      "Percentage of paragraphs which are too short to be summarized: 0.27 %\n",
      "\n",
      "Paragraphs which are too long to fit into the model: 26 paragraphs.\n",
      "                                                                 bullets  \\\n",
      "book          chapter                                                      \n",
      "9781908541024 ch_6     Concurrent and adjuvant temozolomide chemother...   \n",
      "              ch_6     Observation may be an appropriate initial stra...   \n",
      "9781908541086 ch_11    Eating disorders not otherwise specified is th...   \n",
      "9781908541277 ch_11    Oral contraceptives containing at least 50 µg ...   \n",
      "9781908541420 ch_6     Drugs used in the management of asthma can be ...   \n",
      "9781908541727 ch07     Urgently refer patients who present with any o...   \n",
      "              ch09     Refer urgently (the same day), patients with o...   \n",
      "              ch10     Refer urgently, to be seen the same day, if yo...   \n",
      "              ch10     Refer within 1 week, any child with:- squint (...   \n",
      "              ch11     Refer urgently, to be seen by an ophthalmologi...   \n",
      "9781910797211 ch02     At present, there are no guidelines for geneti...   \n",
      "9781910797273 chp5     Newer DMTs, such as natalizumab, alemtuzumab a...   \n",
      "9781910797297 chp4     Subcutaneous panniculitis-like T-cell lymphoma...   \n",
      "              chp4     The clinically aggressive cytotoxic CTCLs are:...   \n",
      "9781910797495 chp1     After nerve injury there may be a loss of spin...   \n",
      "              chp7     Pharmacotherapy, based on only a small number ...   \n",
      "              chp12    In chronic headache:- use a headache diary to ...   \n",
      "9781910797617 chp3     Enasidenib inhibits aberrant isocitrate dehydr...   \n",
      "              chp6     A wide range of targeted agencies for the trea...   \n",
      "9781910797723 chp1     In cellular immunity, T cells recognize their ...   \n",
      "              chp4     Immune checkpoint inhibitors have been approve...   \n",
      "9781910797815 chp9     Myeloproliferative neoplasm (MPN) may progress...   \n",
      "9781912776139 ch3      UMN disease causes slowness, stiffness, clumsi...   \n",
      "9781912776726 ch4      The current standard of care is surgery follow...   \n",
      "              ch6      Novel therapeutic management approaches for pa...   \n",
      "9783318067095 ch9      Validation ensures that the technology is meas...   \n",
      "\n",
      "                                                                    text  \\\n",
      "book          chapter                                                      \n",
      "9781908541024 ch_6     Management. Anaplastic oligodendrogliomas have...   \n",
      "              ch_6     Management. Anaplastic oligodendrogliomas have...   \n",
      "9781908541086 ch_11    Other eating disorders. Eating disorders not o...   \n",
      "9781908541277 ch_11    Contraception. Carbamazepine (CBZ), eslicarbaz...   \n",
      "9781908541420 ch_6     Combination therapy. A series of clinical tria...   \n",
      "9781908541727 ch07     double vision due to tightening of the swollen...   \n",
      "              ch09     It is essential to differentiate orbital cellu...   \n",
      "              ch10     Most infants and children with 'watery' eyes h...   \n",
      "              ch10     Suspected poor vision. Young children are unab...   \n",
      "              ch11     Eye trauma. Minor eye trauma is common and rar...   \n",
      "9781910797211 ch02     Previously identified genes have been pivotal ...   \n",
      "9781910797273 chp5     Treatment escalation strategy. Until the mid-2...   \n",
      "9781910797297 chp4     Pathology illustrates a dense, diffuse dermal ...   \n",
      "              chp4     Because of the clinically aggressive nature of...   \n",
      "9781910797495 chp1     The processes shown in Figure 1.8 can become p...   \n",
      "              chp7     Antidepressants. A reduction in central post-s...   \n",
      "              chp12    For intractable migraine and occipital neuralg...   \n",
      "9781910797617 chp3     Enasidenib is an oral inhibitor of isocitrate ...   \n",
      "              chp6     The expanded genetic characterization of acute...   \n",
      "9781910797723 chp1     Cellular immunity. Surface T cell receptors (T...   \n",
      "              chp4     Ipilimumab (Yevoy ®, BMS) and tremelimumab (As...   \n",
      "9781910797815 chp9     Management of myeloproliferative neoplasm blas...   \n",
      "9781912776139 ch3      In lower motor neuron bulbar disease, the dysa...   \n",
      "9781912776726 ch4      Radiotherapy. Postoperative radiotherapy alone...   \n",
      "              ch6      Emerging research and treatment. Glioblastoma ...   \n",
      "9783318067095 ch9      Once you have arrived at a construct to measur...   \n",
      "\n",
      "                       para_num_tokens  bullets_num_tokens  compression_ratio  \n",
      "book          chapter                                                          \n",
      "9781908541024 ch_6                 642                 134           0.208723  \n",
      "              ch_6                 642                  92           0.143302  \n",
      "9781908541086 ch_11                520                  61           0.117308  \n",
      "9781908541277 ch_11                582                 108           0.185567  \n",
      "9781908541420 ch_6                 647                  63           0.097372  \n",
      "9781908541727 ch07                 514                 130           0.252918  \n",
      "              ch09                 515                 181           0.351456  \n",
      "              ch10                 522                 249           0.477011  \n",
      "              ch10                 598                 149           0.249164  \n",
      "              ch11                 533                 280           0.525328  \n",
      "9781910797211 ch02                 544                 115           0.211397  \n",
      "9781910797273 chp5                 577                  54           0.093588  \n",
      "9781910797297 chp4                 640                 127           0.198437  \n",
      "              chp4                 525                 130           0.247619  \n",
      "9781910797495 chp1                 580                  81           0.139655  \n",
      "              chp7                 548                 142           0.259124  \n",
      "              chp12                554                 117           0.211191  \n",
      "9781910797617 chp3                 550                 103           0.187273  \n",
      "              chp6                 552                 122           0.221014  \n",
      "9781910797723 chp1                 599                 152           0.253756  \n",
      "              chp4                 618                 145           0.234628  \n",
      "9781910797815 chp9                 519                 111           0.213873  \n",
      "9781912776139 ch3                  532                 102           0.191729  \n",
      "9781912776726 ch4                  544                  71           0.130515  \n",
      "              ch6                  545                  73           0.133945  \n",
      "9783318067095 ch9                  529                 197           0.372401  \n"
     ]
    }
   ],
   "source": [
    "print_stats_after_merge(df_st_base_save)"
   ]
  },
  {
   "cell_type": "markdown",
   "metadata": {
    "heading_collapsed": true,
    "hidden": true
   },
   "source": [
    "##### Merged Overlaps"
   ]
  },
  {
   "cell_type": "code",
   "execution_count": 70,
   "metadata": {
    "hidden": true,
    "scrolled": true
   },
   "outputs": [],
   "source": [
    "#df_st_merge_no_overlap = \n",
    "df_st_base_study['bp'] = df_st_base_study.apply(lambda r:\\\n",
    "    [(b, sp, bnt) for b, sp, bnt in zip(r.bullets, r.selected_para, r.bullets_num_tokens)], axis=1)\n",
    "df_st_merged_overlaps = df_st_base_study.explode('bp')\n",
    "df_st_merged_overlaps.bullets = df_st_merged_overlaps.bp.map(lambda t: t[0])\n",
    "df_st_merged_overlaps.selected_para = df_st_merged_overlaps.bp.map(lambda t: t[1])\n",
    "df_st_merged_overlaps.bullets_num_tokens = df_st_merged_overlaps.bp.map(lambda t: t[2])\n",
    "\n",
    "df_st_merged_overlaps['para'] = df_st_merged_overlaps.apply(lambda row:\\\n",
    "    ' '.join([p for i, p in enumerate(row.para) if i in row.selected_para]), axis=1)\n",
    "\n",
    "df_st_merged_overlaps['para_num_tokens'] = df_st_merged_overlaps.apply(lambda row:\\\n",
    "    sum([p for i, p in enumerate(row.para_num_tokens) if i in row.selected_para]), axis=1)\n",
    "\n",
    "df_st_merged_overlaps = df_st_merged_overlaps.drop(\n",
    "    columns=['overlap_matrix', 'to_be_merged', 'bp', 'selected_para']).rename(columns={'para': 'text'})\n",
    "\n",
    "df_st_merged_overlaps['compression_ratio'] =\\\n",
    "    df_st_merged_overlaps.bullets_num_tokens / df_st_merged_overlaps.para_num_tokens"
   ]
  },
  {
   "cell_type": "code",
   "execution_count": 71,
   "metadata": {
    "hidden": true
   },
   "outputs": [
    {
     "data": {
      "text/plain": [
       "count    2074.000000\n",
       "mean       43.616201\n",
       "std        31.358658\n",
       "min         3.000000\n",
       "25%        24.000000\n",
       "50%        35.000000\n",
       "75%        53.000000\n",
       "max       341.000000\n",
       "Name: bullets_num_tokens, dtype: float64"
      ]
     },
     "execution_count": 71,
     "metadata": {},
     "output_type": "execute_result"
    }
   ],
   "source": [
    "df_st_merged_overlaps.bullets_num_tokens.describe()"
   ]
  },
  {
   "cell_type": "code",
   "execution_count": 72,
   "metadata": {
    "hidden": true
   },
   "outputs": [
    {
     "data": {
      "text/plain": [
       "count    2074.000000\n",
       "mean      214.580521\n",
       "std        95.999375\n",
       "min        32.000000\n",
       "25%       144.000000\n",
       "50%       197.000000\n",
       "75%       267.000000\n",
       "max       647.000000\n",
       "Name: para_num_tokens, dtype: float64"
      ]
     },
     "execution_count": 72,
     "metadata": {},
     "output_type": "execute_result"
    }
   ],
   "source": [
    "df_st_merged_overlaps.para_num_tokens.describe()"
   ]
  },
  {
   "cell_type": "code",
   "execution_count": 73,
   "metadata": {
    "hidden": true,
    "scrolled": true
   },
   "outputs": [
    {
     "data": {
      "text/html": [
       "<div>\n",
       "<style scoped>\n",
       "    .dataframe tbody tr th:only-of-type {\n",
       "        vertical-align: middle;\n",
       "    }\n",
       "\n",
       "    .dataframe tbody tr th {\n",
       "        vertical-align: top;\n",
       "    }\n",
       "\n",
       "    .dataframe thead th {\n",
       "        text-align: right;\n",
       "    }\n",
       "</style>\n",
       "<table border=\"1\" class=\"dataframe\">\n",
       "  <thead>\n",
       "    <tr style=\"text-align: right;\">\n",
       "      <th></th>\n",
       "      <th></th>\n",
       "      <th>bullets</th>\n",
       "      <th>text</th>\n",
       "      <th>para_num_tokens</th>\n",
       "      <th>bullets_num_tokens</th>\n",
       "      <th>compression_ratio</th>\n",
       "    </tr>\n",
       "    <tr>\n",
       "      <th>book</th>\n",
       "      <th>chapter</th>\n",
       "      <th></th>\n",
       "      <th></th>\n",
       "      <th></th>\n",
       "      <th></th>\n",
       "      <th></th>\n",
       "    </tr>\n",
       "  </thead>\n",
       "  <tbody>\n",
       "    <tr>\n",
       "      <th rowspan=\"5\" valign=\"top\">9781905832729</th>\n",
       "      <th>ch_4</th>\n",
       "      <td>The surgical procedure of choice in women is i...</td>\n",
       "      <td>insertion of an artificial urinary sphincter. ...</td>\n",
       "      <td>218</td>\n",
       "      <td>86</td>\n",
       "      <td>0.394495</td>\n",
       "    </tr>\n",
       "    <tr>\n",
       "      <th>ch_7</th>\n",
       "      <td>Blood in the urine can originate from anywhere...</td>\n",
       "      <td>Hematuria can originate from anywhere along th...</td>\n",
       "      <td>112</td>\n",
       "      <td>39</td>\n",
       "      <td>0.348214</td>\n",
       "    </tr>\n",
       "    <tr>\n",
       "      <th>ch_8</th>\n",
       "      <td>Recurrent urinary tract infection (UTI) is def...</td>\n",
       "      <td>Recurrent urinary tract infection. Recurrent U...</td>\n",
       "      <td>223</td>\n",
       "      <td>78</td>\n",
       "      <td>0.349776</td>\n",
       "    </tr>\n",
       "    <tr>\n",
       "      <th>ch_8</th>\n",
       "      <td>Urinalysis is quick and easy. A positive test ...</td>\n",
       "      <td>Diagnosis. Urinalysis, using dipstick tests fo...</td>\n",
       "      <td>162</td>\n",
       "      <td>54</td>\n",
       "      <td>0.333333</td>\n",
       "    </tr>\n",
       "    <tr>\n",
       "      <th>ch_9</th>\n",
       "      <td>It is a relatively common condition, but gener...</td>\n",
       "      <td>Pharmacological treatment. Antimuscarinic drug...</td>\n",
       "      <td>245</td>\n",
       "      <td>64</td>\n",
       "      <td>0.261224</td>\n",
       "    </tr>\n",
       "    <tr>\n",
       "      <th>...</th>\n",
       "      <th>...</th>\n",
       "      <td>...</td>\n",
       "      <td>...</td>\n",
       "      <td>...</td>\n",
       "      <td>...</td>\n",
       "      <td>...</td>\n",
       "    </tr>\n",
       "    <tr>\n",
       "      <th>9783318067095</th>\n",
       "      <th>ch9</th>\n",
       "      <td>Validation ensures that the technology is meas...</td>\n",
       "      <td>Once you have arrived at a construct to measur...</td>\n",
       "      <td>529</td>\n",
       "      <td>240</td>\n",
       "      <td>0.453686</td>\n",
       "    </tr>\n",
       "    <tr>\n",
       "      <th rowspan=\"4\" valign=\"top\">9783318068207</th>\n",
       "      <th>hh-6</th>\n",
       "      <td>A basket trial is a biomarker-driven study in ...</td>\n",
       "      <td>Traditionally, oncology Phase I clinical trial...</td>\n",
       "      <td>200</td>\n",
       "      <td>71</td>\n",
       "      <td>0.355000</td>\n",
       "    </tr>\n",
       "    <tr>\n",
       "      <th>hh-7</th>\n",
       "      <td>The molecular status of, at least, EGFR, ALK, ...</td>\n",
       "      <td>NGS testing for predictive biomarkers. EGFR ac...</td>\n",
       "      <td>402</td>\n",
       "      <td>113</td>\n",
       "      <td>0.281095</td>\n",
       "    </tr>\n",
       "    <tr>\n",
       "      <th>hh-7</th>\n",
       "      <td>PD-L1 expression also needs to be tested in pa...</td>\n",
       "      <td>Programmed death-ligand 1. In addition to the ...</td>\n",
       "      <td>113</td>\n",
       "      <td>43</td>\n",
       "      <td>0.380531</td>\n",
       "    </tr>\n",
       "    <tr>\n",
       "      <th>hh-7</th>\n",
       "      <td>The combination of BRAF and MEK inhibitors has...</td>\n",
       "      <td>c-KIT inhibitors. Early data suggest that muco...</td>\n",
       "      <td>155</td>\n",
       "      <td>65</td>\n",
       "      <td>0.419355</td>\n",
       "    </tr>\n",
       "  </tbody>\n",
       "</table>\n",
       "<p>296 rows × 5 columns</p>\n",
       "</div>"
      ],
      "text/plain": [
       "                                                                 bullets  \\\n",
       "book          chapter                                                      \n",
       "9781905832729 ch_4     The surgical procedure of choice in women is i...   \n",
       "              ch_7     Blood in the urine can originate from anywhere...   \n",
       "              ch_8     Recurrent urinary tract infection (UTI) is def...   \n",
       "              ch_8     Urinalysis is quick and easy. A positive test ...   \n",
       "              ch_9     It is a relatively common condition, but gener...   \n",
       "...                                                                  ...   \n",
       "9783318067095 ch9      Validation ensures that the technology is meas...   \n",
       "9783318068207 hh-6     A basket trial is a biomarker-driven study in ...   \n",
       "              hh-7     The molecular status of, at least, EGFR, ALK, ...   \n",
       "              hh-7     PD-L1 expression also needs to be tested in pa...   \n",
       "              hh-7     The combination of BRAF and MEK inhibitors has...   \n",
       "\n",
       "                                                                    text  \\\n",
       "book          chapter                                                      \n",
       "9781905832729 ch_4     insertion of an artificial urinary sphincter. ...   \n",
       "              ch_7     Hematuria can originate from anywhere along th...   \n",
       "              ch_8     Recurrent urinary tract infection. Recurrent U...   \n",
       "              ch_8     Diagnosis. Urinalysis, using dipstick tests fo...   \n",
       "              ch_9     Pharmacological treatment. Antimuscarinic drug...   \n",
       "...                                                                  ...   \n",
       "9783318067095 ch9      Once you have arrived at a construct to measur...   \n",
       "9783318068207 hh-6     Traditionally, oncology Phase I clinical trial...   \n",
       "              hh-7     NGS testing for predictive biomarkers. EGFR ac...   \n",
       "              hh-7     Programmed death-ligand 1. In addition to the ...   \n",
       "              hh-7     c-KIT inhibitors. Early data suggest that muco...   \n",
       "\n",
       "                       para_num_tokens  bullets_num_tokens  compression_ratio  \n",
       "book          chapter                                                          \n",
       "9781905832729 ch_4                 218                  86           0.394495  \n",
       "              ch_7                 112                  39           0.348214  \n",
       "              ch_8                 223                  78           0.349776  \n",
       "              ch_8                 162                  54           0.333333  \n",
       "              ch_9                 245                  64           0.261224  \n",
       "...                                ...                 ...                ...  \n",
       "9783318067095 ch9                  529                 240           0.453686  \n",
       "9783318068207 hh-6                 200                  71           0.355000  \n",
       "              hh-7                 402                 113           0.281095  \n",
       "              hh-7                 113                  43           0.380531  \n",
       "              hh-7                 155                  65           0.419355  \n",
       "\n",
       "[296 rows x 5 columns]"
      ]
     },
     "execution_count": 73,
     "metadata": {},
     "output_type": "execute_result"
    }
   ],
   "source": [
    "df_st_merged_overlaps[df_st_merged_overlaps['compression_ratio'] > config.MAX_RATIO]"
   ]
  },
  {
   "cell_type": "code",
   "execution_count": 74,
   "metadata": {
    "hidden": true,
    "scrolled": true
   },
   "outputs": [
    {
     "name": "stdout",
     "output_type": "stream",
     "text": [
      "Percentage of paragraphs which are too short to be summarized: 14.27 %\n",
      "\n",
      "Paragraphs which are too long to fit into the model: 25 paragraphs.\n",
      "                                                                 bullets  \\\n",
      "book          chapter                                                      \n",
      "9781908541024 ch_6     Concurrent and adjuvant temozolomide chemother...   \n",
      "9781908541086 ch_11    Eating disorders not otherwise specified is th...   \n",
      "9781908541277 ch_11    Oral contraceptives containing at least 50 µg ...   \n",
      "9781908541420 ch_6     Drugs used in the management of asthma can be ...   \n",
      "9781908541727 ch07     Urgently refer patients who present with any o...   \n",
      "              ch09     Refer urgently (the same day), patients with o...   \n",
      "              ch10     Refer within 1 week, any child with:- squint (...   \n",
      "              ch10     - an infant or child with photophobia, constan...   \n",
      "              ch11     Refer urgently, to be seen by an ophthalmologi...   \n",
      "9781910797211 ch02     At present, there are no guidelines for geneti...   \n",
      "9781910797273 chp5     Newer DMTs, such as natalizumab, alemtuzumab a...   \n",
      "9781910797297 chp4     Multiple histological variants of lymphomatoid...   \n",
      "              chp4     The clinically aggressive cytotoxic CTCLs are:...   \n",
      "9781910797495 chp1     After nerve injury there may be a loss of spin...   \n",
      "              chp7     Pharmacotherapy, based on only a small number ...   \n",
      "              chp12    In chronic headache:- use a headache diary to ...   \n",
      "9781910797617 chp3     Enasidenib inhibits aberrant isocitrate dehydr...   \n",
      "              chp6     A wide range of targeted agencies for the trea...   \n",
      "9781910797723 chp1     In cellular immunity, T cells recognize their ...   \n",
      "              chp4     Immune checkpoint inhibitors have been approve...   \n",
      "9781910797815 chp9     Myeloproliferative neoplasm (MPN) may progress...   \n",
      "9781912776139 ch3      UMN disease causes slowness, stiffness, clumsi...   \n",
      "9781912776726 ch4      The current standard of care is surgery follow...   \n",
      "              ch6      Novel therapeutic management approaches for pa...   \n",
      "9783318067095 ch9      Validation ensures that the technology is meas...   \n",
      "\n",
      "                                                                    text  \\\n",
      "book          chapter                                                      \n",
      "9781908541024 ch_6     Management. Anaplastic oligodendrogliomas have...   \n",
      "9781908541086 ch_11    Other eating disorders. Eating disorders not o...   \n",
      "9781908541277 ch_11    Contraception. Carbamazepine (CBZ), eslicarbaz...   \n",
      "9781908541420 ch_6     Combination therapy. A series of clinical tria...   \n",
      "9781908541727 ch07     double vision due to tightening of the swollen...   \n",
      "              ch09     It is essential to differentiate orbital cellu...   \n",
      "              ch10     Suspected poor vision. Young children are unab...   \n",
      "              ch10     Most infants and children with 'watery' eyes h...   \n",
      "              ch11     Eye trauma. Minor eye trauma is common and rar...   \n",
      "9781910797211 ch02     Previously identified genes have been pivotal ...   \n",
      "9781910797273 chp5     Treatment escalation strategy. Until the mid-2...   \n",
      "9781910797297 chp4     Pathology illustrates a dense, diffuse dermal ...   \n",
      "              chp4     Because of the clinically aggressive nature of...   \n",
      "9781910797495 chp1     The processes shown in Figure 1.8 can become p...   \n",
      "              chp7     Antidepressants. A reduction in central post-s...   \n",
      "              chp12    For intractable migraine and occipital neuralg...   \n",
      "9781910797617 chp3     Enasidenib is an oral inhibitor of isocitrate ...   \n",
      "              chp6     The expanded genetic characterization of acute...   \n",
      "9781910797723 chp1     Cellular immunity. Surface T cell receptors (T...   \n",
      "              chp4     Ipilimumab (Yevoy ®, BMS) and tremelimumab (As...   \n",
      "9781910797815 chp9     Management of myeloproliferative neoplasm blas...   \n",
      "9781912776139 ch3      In lower motor neuron bulbar disease, the dysa...   \n",
      "9781912776726 ch4      Radiotherapy. Postoperative radiotherapy alone...   \n",
      "              ch6      Emerging research and treatment. Glioblastoma ...   \n",
      "9783318067095 ch9      Once you have arrived at a construct to measur...   \n",
      "\n",
      "                       para_num_tokens  bullets_num_tokens  compression_ratio  \n",
      "book          chapter                                                          \n",
      "9781908541024 ch_6                 642                 226           0.352025  \n",
      "9781908541086 ch_11                520                 115           0.221154  \n",
      "9781908541277 ch_11                582                 141           0.242268  \n",
      "9781908541420 ch_6                 647                  63           0.097372  \n",
      "9781908541727 ch07                 514                 197           0.383268  \n",
      "              ch09                 515                 260           0.504854  \n",
      "              ch10                 598                 320           0.535117  \n",
      "              ch10                 522                 341           0.653257  \n",
      "              ch11                 533                 280           0.525328  \n",
      "9781910797211 ch02                 544                 115           0.211397  \n",
      "9781910797273 chp5                 577                 123           0.213172  \n",
      "9781910797297 chp4                 640                 204           0.318750  \n",
      "              chp4                 525                 130           0.247619  \n",
      "9781910797495 chp1                 580                  81           0.139655  \n",
      "              chp7                 548                 142           0.259124  \n",
      "              chp12                554                 117           0.211191  \n",
      "9781910797617 chp3                 550                 103           0.187273  \n",
      "              chp6                 552                 122           0.221014  \n",
      "9781910797723 chp1                 599                 152           0.253756  \n",
      "              chp4                 618                 161           0.260518  \n",
      "9781910797815 chp9                 519                 167           0.321773  \n",
      "9781912776139 ch3                  532                 181           0.340226  \n",
      "9781912776726 ch4                  544                  71           0.130515  \n",
      "              ch6                  545                 136           0.249541  \n",
      "9783318067095 ch9                  529                 240           0.453686  \n"
     ]
    }
   ],
   "source": [
    "print_stats_after_merge(df_st_merged_overlaps)"
   ]
  },
  {
   "cell_type": "markdown",
   "metadata": {
    "heading_collapsed": true
   },
   "source": [
    "### Save dataset"
   ]
  },
  {
   "cell_type": "code",
   "execution_count": 75,
   "metadata": {
    "hidden": true
   },
   "outputs": [],
   "source": [
    "df_st_base_selected_para = df_st_base.groupby(['book', 'chapter', 'para'], sort=False).agg({\n",
    "    'best_match': lambda b: np.any(list(b))\n",
    "}).reset_index('para').groupby(['book', 'chapter'], sort=False).agg({\n",
    "    'para': lambda p: list(p),\n",
    "    'best_match': lambda b: list(b)\n",
    "})\n",
    "df_st_base_selected_para.best_match = df_st_base_selected_para.best_match.map(lambda b: list(np.where(b)[0]))\n",
    "df_st_base_selected_para.to_csv(op+'df_base_selected_para.csv')"
   ]
  },
  {
   "cell_type": "code",
   "execution_count": 76,
   "metadata": {
    "hidden": true
   },
   "outputs": [
    {
     "name": "stdout",
     "output_type": "stream",
     "text": [
      "361 408\n",
      "363 408\n"
     ]
    }
   ],
   "source": [
    "for d, df in zip(\n",
    "    ['base', 'merged_overlaps'],\n",
    "    [df_st_base_save, df_st_merged_overlaps]):\n",
    "\n",
    "    op = OUTPUT_PATH + 'st/'+d+'/'\n",
    "    if not os.path.exists(op):\n",
    "        os.makedirs(op)\n",
    "        \n",
    "    df.to_csv(op+'df.csv')\n",
    "        \n",
    "    df = df.groupby(level=[0, 1], sort=False).agg({\n",
    "        'bullets': lambda b: list(b),\n",
    "        'text': lambda t: list(t),\n",
    "    })\n",
    "    \n",
    "    df = df.sample(frac=1, random_state=config.SEED)\n",
    "    df['num_bulls'] = df.bullets.map(len).cumsum()\n",
    "    tot_bulls = df.num_bulls.iloc[-1]\n",
    "    split1 = np.where(df.num_bulls > int(tot_bulls*0.8))[0][0]+1\n",
    "    split2 = np.where(df.num_bulls > int(tot_bulls*0.9))[0][0]+1\n",
    "    print(split1, split2)\n",
    "    \n",
    "    train, val, test =\\\n",
    "    df.iloc[:split1].explode('bullets'),\\\n",
    "    df.iloc[split1:split2].explode('bullets'),\\\n",
    "    df.iloc[split2:].explode('bullets')\n",
    "\n",
    "    train['text'] = df.iloc[:split1].explode('text')['text']\n",
    "    val['text'] = df.iloc[split1:split2].explode('text')['text']\n",
    "    test['text'] = df.iloc[split2:].explode('text')['text']\n",
    "\n",
    "    train.to_csv(op+'train.csv')\n",
    "    val.to_csv(op+'val.csv')\n",
    "    test.to_csv(op+'test.csv')\n",
    "    \n",
    "    with open(op+'train.source', 'w') as tr_s,\\\n",
    "        open(op+'train.target', 'w') as tr_t,\\\n",
    "        open(op+'train.index', 'w') as tr_i:\n",
    "        for idx, row in train[['text', 'bullets']].iterrows():\n",
    "            tr_i.write(str(idx) + '\\n')\n",
    "            tr_s.write(row.text + '\\n')\n",
    "            tr_t.write(row.bullets + '\\n')\n",
    "        \n",
    "    with open(op+'val.source', 'w') as va_s,\\\n",
    "        open(op+'val.target', 'w') as va_t,\\\n",
    "        open(op+'val.index', 'w') as va_i:\n",
    "        for idx, row in val[['text', 'bullets']].iterrows():\n",
    "            va_i.write(str(idx) + '\\n')\n",
    "            va_s.write(row.text + '\\n')\n",
    "            va_t.write(row.bullets + '\\n')\n",
    "\n",
    "    with open(op+'test.source', 'w') as te_s,\\\n",
    "        open(op+'test.target', 'w') as te_t,\\\n",
    "        open(op+'test.index', 'w') as te_i:\n",
    "        for idx, row in test[['text', 'bullets']].iterrows():\n",
    "            te_i.write(str(idx) + '\\n')\n",
    "            te_s.write(row.text + '\\n')\n",
    "            te_t.write(row.bullets + '\\n')"
   ]
  },
  {
   "cell_type": "code",
   "execution_count": 77,
   "metadata": {
    "hidden": true
   },
   "outputs": [
    {
     "name": "stdout",
     "output_type": "stream",
     "text": [
      "2089 195 272\n",
      "1700 150 224\n"
     ]
    }
   ],
   "source": [
    "for d, df in zip(\n",
    "    ['base', 'merged_overlaps'],\n",
    "    [df_st_base_save, df_st_merged_overlaps]):\n",
    "\n",
    "    op = OUTPUT_PATH + 'st/'+d+'/bybook/'\n",
    "    if not os.path.exists(op):\n",
    "        os.makedirs(op)\n",
    "        \n",
    "    df.to_csv(op+'df.csv')\n",
    "        \n",
    "    df = df.groupby(level=[0, 1], sort=False).agg({\n",
    "        'bullets': lambda b: list(b),\n",
    "        'text': lambda t: list(t),\n",
    "    })\n",
    "    \n",
    "    df = df.sample(frac=1, random_state=config.SEED)\n",
    "    \n",
    "    book_ids = list(set(df.index.get_level_values(0)))\n",
    "    train = df.loc[book_ids[:int(0.8*len(book_ids))]].explode('bullets')\n",
    "    val = df.loc[book_ids[int(0.8*len(book_ids)):int(0.9*len(book_ids))]].explode('bullets')\n",
    "    test = df.loc[book_ids[int(0.9*len(book_ids)):]].explode('bullets')\n",
    "    \n",
    "    train.text = df.loc[book_ids[:int(0.8*len(book_ids))]].explode('text').text\n",
    "    val.text = df.loc[book_ids[int(0.8*len(book_ids)):int(0.9*len(book_ids))]].explode('text').text\n",
    "    test.text = df.loc[book_ids[int(0.9*len(book_ids)):]].explode('text').text\n",
    "    print(len(train), len(val), len(test))\n",
    "    \n",
    "    train.to_csv(op+'train.csv')\n",
    "    val.to_csv(op+'val.csv')\n",
    "    test.to_csv(op+'test.csv')\n",
    "    \n",
    "    with open(op+'train.source', 'w') as tr_s,\\\n",
    "        open(op+'train.target', 'w') as tr_t,\\\n",
    "        open(op+'train.index', 'w') as tr_i:\n",
    "        for idx, row in train[['text', 'bullets']].iterrows():\n",
    "            tr_i.write(str(idx) + '\\n')\n",
    "            tr_s.write(row.text + '\\n')\n",
    "            tr_t.write(row.bullets + '\\n')\n",
    "        \n",
    "    with open(op+'val.source', 'w') as va_s,\\\n",
    "        open(op+'val.target', 'w') as va_t,\\\n",
    "        open(op+'val.index', 'w') as va_i:\n",
    "        for idx, row in val[['text', 'bullets']].iterrows():\n",
    "            va_i.write(str(idx) + '\\n')\n",
    "            va_s.write(row.text + '\\n')\n",
    "            va_t.write(row.bullets + '\\n')\n",
    "\n",
    "    with open(op+'test.source', 'w') as te_s,\\\n",
    "        open(op+'test.target', 'w') as te_t,\\\n",
    "        open(op+'test.index', 'w') as te_i:\n",
    "        for idx, row in test[['text', 'bullets']].iterrows():\n",
    "            te_i.write(str(idx) + '\\n')\n",
    "            te_s.write(row.text + '\\n')\n",
    "            te_t.write(row.bullets + '\\n')"
   ]
  },
  {
   "cell_type": "markdown",
   "metadata": {
    "id": "HO7BPitFH8Th"
   },
   "source": [
    "## **Print Some Examples**"
   ]
  },
  {
   "cell_type": "code",
   "execution_count": 78,
   "metadata": {},
   "outputs": [],
   "source": [
    "def nice_print(idx, bull, list_text, list_text_num_tok, list_method):\n",
    "    print(idx)\n",
    "    print()\n",
    "    print('Bullet:')\n",
    "    print(fill(bull, 100))\n",
    "    print()\n",
    "    for t, tok, m in zip(list_text, list_text_num_tok, list_method):\n",
    "        print(m+' (' +str(tok)+'):')\n",
    "        print(fill(t, 100))\n",
    "        print()\n",
    "    \n",
    "    print(''.join(['#']*100))\n",
    "    print()"
   ]
  },
  {
   "cell_type": "markdown",
   "metadata": {},
   "source": [
    "### Sentence-Transformer vs Rouge"
   ]
  },
  {
   "cell_type": "code",
   "execution_count": 79,
   "metadata": {
    "colab": {
     "base_uri": "https://localhost:8080/"
    },
    "executionInfo": {
     "elapsed": 579,
     "status": "ok",
     "timestamp": 1610463902969,
     "user": {
      "displayName": "Marco Pietro Abrate",
      "photoUrl": "https://lh3.googleusercontent.com/a-/AOh14Gjh-8YF-8BlnrkN9mLZ0xfVOWfOh7kYncpYRv-Y=s64",
      "userId": "15422244832836998434"
     },
     "user_tz": -60
    },
    "id": "tvWJmbjVH-qN",
    "outputId": "861d6b76-0978-4aec-bb7a-86609006f34e",
    "scrolled": true
   },
   "outputs": [],
   "source": [
    "df_st = pd.read_csv(OUTPUT_PATH+'st/base/df.csv').set_index(['book', 'chapter'])\n",
    "df_rouge = pd.read_csv(config.MAGMA_DIR+'datasets/bullet_paragraph_rouge/'+MODEL+'/df.csv')\\\n",
    "    .set_index(['book', 'chapter'])"
   ]
  },
  {
   "cell_type": "code",
   "execution_count": 80,
   "metadata": {},
   "outputs": [
    {
     "name": "stdout",
     "output_type": "stream",
     "text": [
      "['Hypertension is both an important cause and a consequence of renal disease.', 'Neuronal tumors are uncommon brain neoplasms typically diagnosed in children and young adults.', 'The prevention of nausea has been much less successful with currently approved agents.', 'Lung transplantation in patients with very advanced COPD improves health status and functional capacity, though it does not convey a survival benefit.', 'Acne presents with both inflammatory and comedonal lesions in most patients.', 'Decreased waist circumference in the absence of weight loss can keep a patient motivated.', 'Causes of acute asthma include viral respiratory infections, acute allergen exposure, food allergies and some medications such as acetylsalicylic acid (aspirin) and non-steroidal anti-inflammatory drugs.', 'The slight differences between batches of biologics, or between biologics and biosimilars, are evaluated and not expected to have any meaningful effect in clinical use.', 'Unlike hemophilia A, the level of FXI is not a good predictor of bleeding risk.', 'Most patients are diagnosed based on typical pain and increased serum pancreatic enzyme activity greater than three times the upper limit of normal.', 'The complex joint structure provides frictionless articulation and load-bearing abilities.', 'It may or may not be necessary to modify specific therapies for the elderly because of the risk of toxicity.', 'There are several syndromes associated with an inherited predisposition to a variety of brain tumors. However, the vast majority of brain tumors are not inherited.', 'Thrombolytic agents', 'Curative treatment by resection or transplantation is an option, but not always possible.', 'Patients with acne who have associated social or psychological problems should also be referred for specialist treatment.', 'A complex group of enzyme defects (mostly recessive) are diagnosed by testing the enzymatic activity in the peripheral blood and by confirming the causative mutation at a molecular level (homozygous or compound heterozygous).', 'Gene therapy, using gene-modified cells or in vivo gene transfer, has now been successful for diverse diseases and modes of gene transfer.', 'Symptoms arise from involvement of cranial nerves, compression of brainstem or basal cerebral structures, and obstruction of the pharynx, middle ear or nasal cavity.', 'The standard error is a measure of the extent of sampling variation.']\n"
     ]
    }
   ],
   "source": [
    "import random\n",
    "\n",
    "random.seed(config.SEED)\n",
    "\n",
    "bullet_examples = random.sample(df_st.bullets.tolist(), 20)\n",
    "print(bullet_examples)"
   ]
  },
  {
   "cell_type": "code",
   "execution_count": 81,
   "metadata": {
    "scrolled": true
   },
   "outputs": [
    {
     "name": "stdout",
     "output_type": "stream",
     "text": [
      "(9781908541468, 'ch_7')\n",
      "\n",
      "Bullet:\n",
      "Hypertension is both an important cause and a consequence of renal disease.\n",
      "\n",
      "Sentence-Transformers (75):\n",
      "Hypertension associated with parenchymal kidney disease represents a potent vicious cycle; it is\n",
      "both a consequence of CKD and a cause of progressive kidney damage. Evidence from many studies shows\n",
      "that treatment of hypertension is crucial to slowing progression of renal disease, particularly\n",
      "among those with significant albuminuria (> 1 g/24 hours).\n",
      "\n",
      "ROUGE (306):\n",
      "Hypertension during pregnancy is defined as any rise in systolic blood pressure of more than 30 mmHg\n",
      "or a rise in diastolic blood pressure of more than 15 mmHg above baseline, or the use of\n",
      "antihypertensive agents. It is classified according to its presentation (Table 5.5). Chronic\n",
      "hypertension is more common in multiparous women, and is present at the first antenatal visit. On\n",
      "the other hand, pre-eclampsia is more common in primigravidas (in 10% of first pregnancies), and\n",
      "represents an important cause of maternal and perinatal mortality. It usually presents only after 20\n",
      "weeks of gestation, with or without proteinuria and a raised serum urate. Elevated levels of soluble\n",
      "fms-like tyrosine kinase-1 (sFlt-1 or sVEGFR-1) and endoglin have been reported in pre-eclampsia and\n",
      "have been implicated in disease pathogenesis. Pre-eclampsia may progress to full-blown eclampsia,\n",
      "which is characterized by seizures and also associated with acute kidney injury (AKI). Management of\n",
      "eclampsia comprises immediate delivery, and magnesium sulfate, anticonvulsant and antihypertensive\n",
      "therapy.\n",
      "\n",
      "####################################################################################################\n",
      "\n",
      "(9781908541024, 'ch_8')\n",
      "\n",
      "Bullet:\n",
      "Neuronal tumors are uncommon brain neoplasms typically diagnosed in children and young adults.\n",
      "\n",
      "Sentence-Transformers (114):\n",
      "Neuronal tumors are very uncommon brain neoplasms that tend to affect children and young adults\n",
      "(Table 7.1). There are often few signs and symptoms other than intractable epilepsy. The rarity of\n",
      "these neoplasms has been a source of considerable confusion and controversy, and it is only over the\n",
      "past two decades that many of these neoplasms have been recognized as distinct clinicopathological\n",
      "entities. General management guidelines are shown in Figure 7.1, and specific treatment issues are\n",
      "discussed below.\n",
      "\n",
      "ROUGE (114):\n",
      "Neuronal tumors are very uncommon brain neoplasms that tend to affect children and young adults\n",
      "(Table 7.1). There are often few signs and symptoms other than intractable epilepsy. The rarity of\n",
      "these neoplasms has been a source of considerable confusion and controversy, and it is only over the\n",
      "past two decades that many of these neoplasms have been recognized as distinct clinicopathological\n",
      "entities. General management guidelines are shown in Figure 7.1, and specific treatment issues are\n",
      "discussed below.\n",
      "\n",
      "####################################################################################################\n",
      "\n",
      "(9781910797150, 'ch02')\n",
      "\n",
      "Bullet:\n",
      "The prevention of nausea has been much less successful with currently approved agents.\n",
      "\n",
      "Sentence-Transformers (77):\n",
      "The use of antiemetic agents, as recommended by international guidelines, has been shown to prevent\n",
      "emesis in approximately 50-70% of patients receiving either highly or moderately emetogenic\n",
      "chemotherapy. - The prevention of nausea has been much less successful with currently approved\n",
      "agents., New agents and new combinations of agents are necessary to adequately prevent chemotherapy-\n",
      "induced nausea.\n",
      "\n",
      "ROUGE (77):\n",
      "The use of antiemetic agents, as recommended by international guidelines, has been shown to prevent\n",
      "emesis in approximately 50-70% of patients receiving either highly or moderately emetogenic\n",
      "chemotherapy. - The prevention of nausea has been much less successful with currently approved\n",
      "agents., New agents and new combinations of agents are necessary to adequately prevent chemotherapy-\n",
      "induced nausea.\n",
      "\n",
      "####################################################################################################\n",
      "\n",
      "(9781910797006, 'ch07')\n",
      "\n",
      "Bullet:\n",
      "Lung transplantation in patients with very advanced COPD improves health status and functional\n",
      "capacity, though it does not convey a survival benefit.\n",
      "\n",
      "Sentence-Transformers (262):\n",
      "Lung volume reduction surgery has been shown to improve FEV, decrease total lung capacity, and\n",
      "improve exercise tolerance and quality of life; these effects may last for more than 2 years. In\n",
      "addition, longer-term follow-up has shown that lung volume reduction surgery leads to an improvement\n",
      "in maximal work capacity and health-related quality of life, a reduction in exacerbation frequency\n",
      "and improved survival. These beneficial effects are largely seen in those patients with predominant\n",
      "upper-zone emphysema and poor exercise tolerance. The efficacy of surgical and bronchoscopic lung\n",
      "volume reduction also depends on the presence of collateral ventilation to the diseased lobe\n",
      "(detected by the presence of an incomplete fissure between the lung lobes on CT scanning). Lung\n",
      "volume reduction surgery is expensive and should be reserved for carefully selected patients. Lung\n",
      "transplantation. In patients with very advanced COPD, lung transplantation has been shown to improve\n",
      "health status and functional capacity, though it does not convey a survival benefit. The main\n",
      "criteria for lung transplantation are a Bode index (Body mass index, Obstruction, Dyspnea, Exercise;\n",
      "see Table 4.2) of 7-10 and one of the following.\n",
      "\n",
      "ROUGE (262):\n",
      "Lung volume reduction surgery has been shown to improve FEV, decrease total lung capacity, and\n",
      "improve exercise tolerance and quality of life; these effects may last for more than 2 years. In\n",
      "addition, longer-term follow-up has shown that lung volume reduction surgery leads to an improvement\n",
      "in maximal work capacity and health-related quality of life, a reduction in exacerbation frequency\n",
      "and improved survival. These beneficial effects are largely seen in those patients with predominant\n",
      "upper-zone emphysema and poor exercise tolerance. The efficacy of surgical and bronchoscopic lung\n",
      "volume reduction also depends on the presence of collateral ventilation to the diseased lobe\n",
      "(detected by the presence of an incomplete fissure between the lung lobes on CT scanning). Lung\n",
      "volume reduction surgery is expensive and should be reserved for carefully selected patients. Lung\n",
      "transplantation. In patients with very advanced COPD, lung transplantation has been shown to improve\n",
      "health status and functional capacity, though it does not convey a survival benefit. The main\n",
      "criteria for lung transplantation are a Bode index (Body mass index, Obstruction, Dyspnea, Exercise;\n",
      "see Table 4.2) of 7-10 and one of the following.\n",
      "\n",
      "####################################################################################################\n",
      "\n",
      "(9781908541994, 'ch03')\n",
      "\n",
      "Bullet:\n",
      "Acne presents with both inflammatory and comedonal lesions in most patients.\n",
      "\n",
      "Sentence-Transformers (106):\n",
      "Most patients have a mixture of non-inflammatory and inflammatory lesions. Non-inflammatory lesions\n",
      "are called comedones (see Chapter 2). Comedones may be microscopic (microcomedones) or visible as\n",
      "blackheads (open comedones) or whiteheads (closed comedones) (Figure 3.2). Microcomedones, the\n",
      "precursors of all acne lesions, may develop into whiteheads or blackheads.\n",
      "\n",
      "ROUGE (190):\n",
      "Acne conglobata is a very severe form of inflammatory acne characterized by grouped comedones,\n",
      "cysts, abscesses, draining sinus tracts and scars (Figure 3.8). The majority of affected patients\n",
      "are males who present with lesions on the back, buttocks, chest and face. The axilla and inguinal\n",
      "areas can also be involved. The grouped comedones often have multiple openings. The inflammatory\n",
      "lesions are large, tender and red to violaceous in color; they often drain a serous or purulent\n",
      "material. Deep-seated sinus tracts often develop, as does keloidal scarring. Secondary infection\n",
      "with staphylococci or streptococci can occur, although many lesions are colonized by\n",
      "Propionibacterium acnes (P. acnes) only.\n",
      "\n",
      "####################################################################################################\n",
      "\n",
      "(9781908541680, 'ch_2')\n",
      "\n",
      "Bullet:\n",
      "Decreased waist circumference in the absence of weight loss can keep a patient motivated.\n",
      "\n",
      "Sentence-Transformers (78):\n",
      "Waist circumference is also a useful and tangible marker of weight loss (or gain) for patients. An\n",
      "individual who has increased their physical activity and maintained their dietary intake will lose\n",
      "centimeters around the waist even though they may gain weight as muscle mass increases. Monitoring\n",
      "waist circumference will therefore keep them motivated when lack of change in bodyweight might prove\n",
      "demoralizing.\n",
      "\n",
      "ROUGE (98):\n",
      "A patient attending a diabetes or cardiovascular clinic can be asked whether they have lost or\n",
      "gained weight recently. Any patient can be offered a 'well patient check' during a consultation,\n",
      "which will include measurement of weight, height and waist circumference. 'Best practice in weight\n",
      "management' can be performed in the last 2 minutes of any consultation, provided that appropriate\n",
      "follow-up is offered. These 2 minutes are the most important part of the entire weight-loss program.\n",
      "\n",
      "####################################################################################################\n",
      "\n",
      "(9781908541420, 'ch_8')\n",
      "\n",
      "Bullet:\n",
      "Causes of acute asthma include viral respiratory infections, acute allergen exposure, food allergies\n",
      "and some medications such as acetylsalicylic acid (aspirin) and non-steroidal anti-inflammatory\n",
      "drugs.\n",
      "\n",
      "Sentence-Transformers (459):\n",
      "Other causes of acute asthma include acute allergen exposure, when an allergic person is exposed to\n",
      "an allergen not usually encountered in the environment. Examples of this include 'thunderstorm\n",
      "asthma' in people who usually have allergic rhinitis due to grass pollens, or individuals with\n",
      "allergy to molds. Inhalation of small allergen particles into the lower respiratory tract can cause\n",
      "a severe asthma episode and weather patterns can lead to epidemics of asthma in such circumstances.\n",
      "Similarly, severe food allergies (exempli gratia to peanuts or shellfish) may trigger asthma. While\n",
      "individuals with such a food allergy often present with signs of anaphylaxis, acute asthma is a\n",
      "major component of a severe food reaction for some and it requires recognition and treatment in its\n",
      "own right. Some medications, such as beta-blockers - even in eye drops - may also be responsible for\n",
      "an acute exacerbation of asthma. Individuals with acetylsalicylic acid (ASA; aspirin)-sensitive\n",
      "asthma may have severe asthma after taking ASA or other non-steroidal anti-inflammatory drug (NSAID)\n",
      "that has cyclooxygenase (COX)-1 activity such as indometacin, ibuprofen, naproxen, piroxicam, and\n",
      "nabumetone. The mechanism probably relates to inhibition of formation of protective prostaglandins\n",
      "such as prostaglandin E (PGE). COX-2 inhibitors such as celecoxib are much less likely to cause\n",
      "reactions. NSAID reactions are most often described in individuals with non-allergic asthma who have\n",
      "nasal polyposis. Individuals with this type of asthma should avoid ASA and preferably all NSAIDs,\n",
      "although if absolutely necessary (exempli gratia a patient with severe rheumatoid arthritis and\n",
      "asthma), a supervised trial of a COX-2 inhibitor might be considered. It is important to be aware of\n",
      "other preventable causes of exacerbations such as occupational and sometimes unusual allergen\n",
      "exposures.\n",
      "\n",
      "ROUGE (459):\n",
      "Other causes of acute asthma include acute allergen exposure, when an allergic person is exposed to\n",
      "an allergen not usually encountered in the environment. Examples of this include 'thunderstorm\n",
      "asthma' in people who usually have allergic rhinitis due to grass pollens, or individuals with\n",
      "allergy to molds. Inhalation of small allergen particles into the lower respiratory tract can cause\n",
      "a severe asthma episode and weather patterns can lead to epidemics of asthma in such circumstances.\n",
      "Similarly, severe food allergies (exempli gratia to peanuts or shellfish) may trigger asthma. While\n",
      "individuals with such a food allergy often present with signs of anaphylaxis, acute asthma is a\n",
      "major component of a severe food reaction for some and it requires recognition and treatment in its\n",
      "own right. Some medications, such as beta-blockers - even in eye drops - may also be responsible for\n",
      "an acute exacerbation of asthma. Individuals with acetylsalicylic acid (ASA; aspirin)-sensitive\n",
      "asthma may have severe asthma after taking ASA or other non-steroidal anti-inflammatory drug (NSAID)\n",
      "that has cyclooxygenase (COX)-1 activity such as indometacin, ibuprofen, naproxen, piroxicam, and\n",
      "nabumetone. The mechanism probably relates to inhibition of formation of protective prostaglandins\n",
      "such as prostaglandin E (PGE). COX-2 inhibitors such as celecoxib are much less likely to cause\n",
      "reactions. NSAID reactions are most often described in individuals with non-allergic asthma who have\n",
      "nasal polyposis. Individuals with this type of asthma should avoid ASA and preferably all NSAIDs,\n",
      "although if absolutely necessary (exempli gratia a patient with severe rheumatoid arthritis and\n",
      "asthma), a supervised trial of a COX-2 inhibitor might be considered. It is important to be aware of\n",
      "other preventable causes of exacerbations such as occupational and sometimes unusual allergen\n",
      "exposures.\n",
      "\n",
      "####################################################################################################\n",
      "\n",
      "(9781912776238, 'ch1')\n",
      "\n",
      "Bullet:\n",
      "The slight differences between batches of biologics, or between biologics and biosimilars, are\n",
      "evaluated and not expected to have any meaningful effect in clinical use.\n",
      "\n",
      "Sentence-Transformers (129):\n",
      "The manufacturing process can affect important aspects of the structure of a biological drug; a\n",
      "copied biologic can never therefore be entirely identical to the original reference product. Thus,\n",
      "the active substance of a biosimilar and its reference medicine is almost the same biological\n",
      "substance, but there may be minor differences as a result of their complex nature and production\n",
      "methods. Like the reference (originator) biologic, the biosimilar has a degree of natural\n",
      "variability. For a biosimilar to be approved, this variability, and any differences between the\n",
      "biosimilar and the reference biologic, have to have been shown not to affect safety or\n",
      "effectiveness.\n",
      "\n",
      "ROUGE (200):\n",
      "Biological medicines (biologics) are drugs derived or extracted from living systems, usually\n",
      "modified bacteria, fungi or animal cells; the three main categories are listed in Table 1.1.\n",
      "Biologics have been able to transform the outcomes of many previously hard-to-treat diseases,\n",
      "becoming an essential component in the treatment of diseases including diabetes, anemia, rheumatoid\n",
      "arthritis and cancer. This is reflected in the inclusion of biologics in the WHO list of essential\n",
      "medicines. These 'essential medicines' are those the WHO believes should be provided free, or at\n",
      "prices all citizens can afford; but this creates a problem. Biologics are inherently more expensive\n",
      "than past-generation medicines; they represent the result of costly investment in research and\n",
      "development and are manufactured using cellular-based technologies and utilizing gene expression.\n",
      "The combination of medical benefit but high costs for biologics creates the need for biosimilars.\n",
      "\n",
      "####################################################################################################\n",
      "\n",
      "(9781908541406, 'ch_10')\n",
      "\n",
      "Bullet:\n",
      "Unlike hemophilia A, the level of FXI is not a good predictor of bleeding risk.\n",
      "\n",
      "Sentence-Transformers (144):\n",
      "Diagnosis. The deficiency is classified as severe if the FXI level is less than 20 IU/dL and partial\n",
      "at 20-70 IU/dL; the lower limit of the normal range is 60-70 IU/dL. Unlike hemophilia A and B, the\n",
      "correlation between the plasma FXI level and the propensity to bleed is poor. Individuals with\n",
      "similar FXI levels may have very different hemorrhagic potential; furthermore, this may vary over\n",
      "time. Bleeding usually arises following surgery, particularly dental extraction, tonsillectomy,\n",
      "prostatectomy and appendectomy.\n",
      "\n",
      "ROUGE (344):\n",
      "For those with a partial deficiency it may be appropriate to undertake surgery with only careful\n",
      "attention to hemostasis and to use tranexamic acid for dental extractions. The FXI level may need to\n",
      "be raised in those with a severe deficiency who are undergoing major surgery. As the half-life of\n",
      "FXI is approximately 45 hours, therapeutic infusions of plasma or concentrate should be given daily\n",
      "or on alternate days. Virally inactivated fresh frozen plasma can be used but solvent/detergent-\n",
      "treated plasma has a lower FXI content and is therefore relatively ineffective. FXI concentrates can\n",
      "be used, but these have been associated with both arterial and venous thromboembolism. They are\n",
      "therefore contraindicated in individuals with clinical atherosclerosis and in patients whose\n",
      "hemostatic mechanisms are activated, such as pregnant women and those with liver disease.\n",
      "Concentrates should not normally be used in doses above 30 IU/kg and the plasma level of FXI should\n",
      "not exceed 50-70 IU/dL. Fibrinolytic inhibitors should never be given concomitantly with a FXI\n",
      "concentrate, because of their propensity to predispose to thrombosis and DIC. Patients with the type\n",
      "2 defect often develop inhibitory antibodies when exposed to normal FXI. Such antibodies may induce\n",
      "resistance to further treatment with FXI, in which case activated prothrombin complex concentrate or\n",
      "recombinant activated human FVIIa should be used to control bleeding.\n",
      "\n",
      "####################################################################################################\n",
      "\n",
      "(9783318066241, 'ch3')\n",
      "\n",
      "Bullet:\n",
      "Most patients are diagnosed based on typical pain and increased serum pancreatic enzyme activity\n",
      "greater than three times the upper limit of normal.\n",
      "\n",
      "Sentence-Transformers (116):\n",
      "abdominal pain consistent with AP (acute onset of a persistent, severe, epigastric pain, often\n",
      "radiating to the back). serum amylase or lipase activity at least three times greater than the upper\n",
      "limit of normal. characteristic findings of AP on a contrast-enhanced CT scan or, less commonly, MRI\n",
      "or transabdominal ultrasonography. Most patients can be diagnosed on the basis of the first two\n",
      "criteria, with imaging required only in individuals with atypical symptoms or low serum enzyme\n",
      "activity.\n",
      "\n",
      "ROUGE (187):\n",
      "Most patients with AP have amylase and/or lipase serum activity greater than three times the upper\n",
      "level of normal. The amylase increase is first detected 2-12 hours after the onset of symptoms of\n",
      "AP; the level peaks at 12-72 hours and usually normalizes within 5 days. Serum lipase levels\n",
      "increase within 4-8 hours after the onset of symptoms; they peak at 24 hours, and return to normal\n",
      "after 8-14 days. The half-life of lipase is longer than amylase, so patients with a delayed\n",
      "presentation in the emergency room may show normal amylase activity with increased lipase activity.\n",
      "Urinary trypsinogen-2 and urinary amylase are also increased in AP. There is no evidence supporting\n",
      "the superiority of any one serum or urinary test over another in terms of accuracy.\n",
      "\n",
      "####################################################################################################\n",
      "\n",
      "(9781910797587, 'chp01')\n",
      "\n",
      "Bullet:\n",
      "The complex joint structure provides frictionless articulation and load-bearing abilities.\n",
      "\n",
      "Sentence-Transformers (134):\n",
      "An understanding of the key structures in normal synovial joints (Figure 1.1), including their\n",
      "composition and function, is a prerequisite for understanding any arthritic process. Synovial joints\n",
      "(diarthroses) are the only joints that have a space, namely the synovial cavity filled with fluid,\n",
      "between the adjoining bones. They are surrounded by an articular capsule composed of fibrous\n",
      "connective tissue that is attached just outside the area of each bone's articulating surface. The\n",
      "complex joint structure provides frictionless articulation and load-bearing abilities. Synovial\n",
      "joints mainly comprise.\n",
      "\n",
      "ROUGE (134):\n",
      "An understanding of the key structures in normal synovial joints (Figure 1.1), including their\n",
      "composition and function, is a prerequisite for understanding any arthritic process. Synovial joints\n",
      "(diarthroses) are the only joints that have a space, namely the synovial cavity filled with fluid,\n",
      "between the adjoining bones. They are surrounded by an articular capsule composed of fibrous\n",
      "connective tissue that is attached just outside the area of each bone's articulating surface. The\n",
      "complex joint structure provides frictionless articulation and load-bearing abilities. Synovial\n",
      "joints mainly comprise.\n",
      "\n",
      "####################################################################################################\n",
      "\n",
      "(9781908541024, 'ch_13')\n",
      "\n",
      "Bullet:\n",
      "It may or may not be necessary to modify specific therapies for the elderly because of the risk of\n",
      "toxicity.\n",
      "\n",
      "Sentence-Transformers (113):\n",
      "Recent advances in the management of brain tumors raise a number of issues for older patients.\n",
      "First, older patients are often underrepresented in those clinical trials demonstrating the benefit\n",
      "of a new therapy and thus it is not known if the same benefit can be expected in the geriatric\n",
      "population. Further, the acute toxicity profile associated with a new therapy may be different in\n",
      "the elderly. Finally, the assessment of long-term toxicity associated with new therapies is often\n",
      "limited at the time of initial development and may present differently in older patients.\n",
      "\n",
      "ROUGE (113):\n",
      "Recent advances in the management of brain tumors raise a number of issues for older patients.\n",
      "First, older patients are often underrepresented in those clinical trials demonstrating the benefit\n",
      "of a new therapy and thus it is not known if the same benefit can be expected in the geriatric\n",
      "population. Further, the acute toxicity profile associated with a new therapy may be different in\n",
      "the elderly. Finally, the assessment of long-term toxicity associated with new therapies is often\n",
      "limited at the time of initial development and may present differently in older patients.\n",
      "\n",
      "####################################################################################################\n",
      "\n",
      "(9781908541024, 'ch_12')\n",
      "\n",
      "Bullet:\n",
      "There are several syndromes associated with an inherited predisposition to a variety of brain\n",
      "tumors. However, the vast majority of brain tumors are not inherited.\n",
      "\n",
      "Sentence-Transformers (171):\n",
      "The vast majority of primary brain tumors occur sporadically, but a small number appear to be\n",
      "familial. The etiology of sporadic brain tumors is unknown, but environmental factors are suspected.\n",
      "Most patients with a family history of primary brain tumors have a hereditary disease that is known\n",
      "to be associated with such tumors, such as tuberous sclerosis, neurofibromatosis, familial polyposis\n",
      "or Li-Fraumeni syndrome. However, some patients do not have any underlying or obvious hereditary\n",
      "disorder that would predispose them to primary brain tumors, but nevertheless give a striking\n",
      "history of these tumors in first-degree relatives. Usually, the tumors are found to be high-grade\n",
      "gliomas.\n",
      "\n",
      "ROUGE (171):\n",
      "The vast majority of primary brain tumors occur sporadically, but a small number appear to be\n",
      "familial. The etiology of sporadic brain tumors is unknown, but environmental factors are suspected.\n",
      "Most patients with a family history of primary brain tumors have a hereditary disease that is known\n",
      "to be associated with such tumors, such as tuberous sclerosis, neurofibromatosis, familial polyposis\n",
      "or Li-Fraumeni syndrome. However, some patients do not have any underlying or obvious hereditary\n",
      "disorder that would predispose them to primary brain tumors, but nevertheless give a striking\n",
      "history of these tumors in first-degree relatives. Usually, the tumors are found to be high-grade\n",
      "gliomas.\n",
      "\n",
      "####################################################################################################\n",
      "\n",
      "(9781908541406, 'ch_15')\n",
      "\n",
      "Bullet:\n",
      "Thrombolytic agents\n",
      "\n",
      "Sentence-Transformers (35):\n",
      "thrombolytic agents (streptokinase, urokinase, tissue plasminogen activator [tPA]).\n",
      "\n",
      "ROUGE (35):\n",
      "thrombolytic agents (streptokinase, urokinase, tissue plasminogen activator [tPA]).\n",
      "\n",
      "####################################################################################################\n",
      "\n",
      "(9781908541963, 'chapter10')\n",
      "\n",
      "Bullet:\n",
      "Curative treatment by resection or transplantation is an option, but not always possible.\n",
      "\n",
      "Sentence-Transformers (142):\n",
      "Other options. Many patients with HCC are not candidates for liver transplantation or surgical\n",
      "resection. Transarterial chemoembolization (TACE) both embolizes the tumor (to interrupt its blood\n",
      "supply) and infuses chemotherapeutic agents directly into the tumor via the hepatic artery. TACE has\n",
      "been shown to prolong survival but not offer cure. Targeted radiotherapy by arterial infusion of\n",
      "beads has also been used. Ablation techniques may have curative potential for small tumors. Therapy\n",
      "for most patients with HCC is best provided by specialized centers, where patients may be considered\n",
      "for inclusion in randomized controlled trials.\n",
      "\n",
      "ROUGE (158):\n",
      "Surgery. If tumors are small, there is no evidence of extrahepatic spread and the patient has\n",
      "preserved liver function, surgical resection may be considered. Unfortunately, however, few patients\n",
      "with HCC have resectable tumors or sufficient hepatic reserve to tolerate a partial hepatectomy, and\n",
      "approximately 50% of tumors will have recurred at 5 years. Liver transplantation may be an option\n",
      "for some patients, provided there is no evidence of extrahepatic spread and the patient is an\n",
      "otherwise good candidate for transplantation (see Chapter 12). The prognosis is best for patients\n",
      "with either a single small tumor (less than 5 cm) or no more than three lesions, each smaller than 3\n",
      "cm.\n",
      "\n",
      "####################################################################################################\n",
      "\n",
      "(9781908541994, 'ch08')\n",
      "\n",
      "Bullet:\n",
      "Patients with acne who have associated social or psychological problems should also be referred for\n",
      "specialist treatment.\n",
      "\n",
      "Sentence-Transformers (98):\n",
      "gram-negative folliculitis. patients whose acne may be associated with an endocrine disorder.\n",
      "patients with social or psychological problems. Routine referral is appropriate for. patients with,\n",
      "or who are likely to develop, acne scarring. pregnant patients with acne. patients with moderate\n",
      "acne that has failed to respond to treatment. The UK's National Institute for Health and Care\n",
      "Excellence (NICE) referral guidelines are shown by color coding in Figure 8.1.\n",
      "\n",
      "ROUGE (100):\n",
      "Young men with highly inflammatory or cystic acne are at particular risk of developing a severe\n",
      "flare, and in some cases exuberant lesions similar to pyogenic granulomas may develop. It is\n",
      "strongly recommended that patients with severe inflammatory cystic acne who are at risk of\n",
      "complications such as these be referred to a dermatologist for treatment with isotretinoin and\n",
      "possibly a concomitant course of oral corticosteroids.\n",
      "\n",
      "####################################################################################################\n",
      "\n",
      "(9781910797907, 'chp3')\n",
      "\n",
      "Bullet:\n",
      "A complex group of enzyme defects (mostly recessive) are diagnosed by testing the enzymatic activity\n",
      "in the peripheral blood and by confirming the causative mutation at a molecular level (homozygous or\n",
      "compound heterozygous).\n",
      "\n",
      "Sentence-Transformers (299):\n",
      "Hereditary spherocytosis is the most common form of membrane defect (Figure 3.3), with an estimated\n",
      "prevalence ranging from 1 in 2000 to 1 in 5000 in the general population. A dominant pattern of\n",
      "inheritance is seen in 75% of cases. Hereditary spherocytosis is due to a deficiency in the\n",
      "cytoskeletal proteins responsible for maintaining the biconcave morphology of RBCs. This defect\n",
      "results in reduced cell flexibility and premature destruction of spherocytes in the spleen.\n",
      "Typically, the osmotic fragility test, the acidified glycerol lysis test and flow cytometric\n",
      "analysis of eosin-5′-maleimide-labeled RBCs are positive. The molecular defect is highly\n",
      "heterogeneous, involving the genes encoding for various membrane proteins (spectrin, ankyrin, band 3\n",
      "and band 4.2). The defective protein can be detected by sodium dodecyl sulfate-polyacrylamide gel\n",
      "electrophoresis, which is not mandatory for the diagnosis but may be useful for a differential\n",
      "diagnosis with other hematologic disorders that mimic hereditary spherocytosis, such as congenital\n",
      "dyserythropoietic anemia type II.\n",
      "\n",
      "ROUGE (233):\n",
      "Hemolysis is primarily extravascular in the spleen in warm AIHAs, whereas it may also be\n",
      "intravascular in cold forms. Clinically, the level of RBC destruction by intravascular hemolysis has\n",
      "been calculated to be 200 mL of RBCs in 1 hour, more than ten times the level seen with\n",
      "extravascular hemolysis (Figure 3.2). Confounding factors. A positive DAT result may occur because\n",
      "of the presence of alloantibodies in recently transfused patients, as a result of delayed hemolytic\n",
      "transfusion reactions, in hemolytic disease of the newborn and in a small number of healthy blood\n",
      "donors (< 0.1%) and hospitalized patients (0.3-8%) with no clinical evidence of AIHA. Moreover, a\n",
      "false-positive DAT may be observed after the administration of various therapeutics (id est\n",
      "intravenous immunoglobulins, Rhesus immune globulins and antithymocyte globulin), as well as in\n",
      "diseases with elevated serum globulins or paraproteins.\n",
      "\n",
      "####################################################################################################\n",
      "\n",
      "(9783318066685, 'ch4')\n",
      "\n",
      "Bullet:\n",
      "Gene therapy, using gene-modified cells or in vivo gene transfer, has now been successful for\n",
      "diverse diseases and modes of gene transfer.\n",
      "\n",
      "Sentence-Transformers (178):\n",
      "Several gene therapy drugs are now approved by the US Food and Drug Administration (FDA) and/or the\n",
      "European Medicines Agency (EMA) to be marketed as medicines (Table 4.1). Others have shown strong\n",
      "efficacy in early clinical studies and are therefore being evaluated in Phase III trials. Examples\n",
      "of gene therapies with track records of clinical efficacy are described in the following sections\n",
      "and summarized in Table 4.2. Hereditary blindness. Prior to gene therapy, no treatment was available\n",
      "for certain forms of hereditary blindness. However, the ability of adeno-associated virus (AAV)\n",
      "vectors to transduce retinal cells on subretinal administration has enabled the development of\n",
      "therapies for such diseases. This effort ultimately led to the first gene therapy drug approved by\n",
      "the FDA for the treatment of a genetic disease in late 2017.\n",
      "\n",
      "ROUGE (228):\n",
      "CAR-T therapy for lymphoma and leukemia. Adoptive lymphocyte therapy using gene-modified autologous\n",
      "T cells is one of the technologies revolutionizing cancer therapy. T cells are harvested from the\n",
      "patient's blood and transduced with a chimeric antigen receptor (CAR) by ex vivo gene transfer using\n",
      "retroviral or lentiviral vectors (Figure 4.3). Early success has been shown with blood cancers. In\n",
      "pioneering work, CAR-T cells directed against the CD19 antigen were able to effectively kill\n",
      "lymphoma cells from patients refractory to conventional chemotherapy. CAR-T cells targeting CD19 are\n",
      "now approved by the FDA and the EMA for the treatment of several types of blood cancer. These\n",
      "include: relapsed or refractory B-cell acute lymphoblastic leukemia (B-ALL) in children and young\n",
      "adults; and relapsed or refractory diffuse large B-cell lymphoma (DLBCL) in adults.\n",
      "\n",
      "####################################################################################################\n",
      "\n",
      "(9781908541024, 'ch_10')\n",
      "\n",
      "Bullet:\n",
      "Symptoms arise from involvement of cranial nerves, compression of brainstem or basal cerebral\n",
      "structures, and obstruction of the pharynx, middle ear or nasal cavity.\n",
      "\n",
      "Sentence-Transformers (187):\n",
      "Skull base tumors are neoplasms that arise from or involve theskull base. These tumors pose a\n",
      "surgical challenge because of their deep location within the cranium and close proximity to critical\n",
      "neurovascular structures. Recently, advances in neuroimaging, improved surgical tools and\n",
      "techniques, and new methods of stereotactically focusing radiotherapy have improved the prognosis in\n",
      "patients with cranial base tumors. Symptoms of skull base tumors arise from involvement of cranial\n",
      "nerves, compression of brainstem or basal cerebral structures, and obstruction of the pharynx,\n",
      "middle ear or nasal cavity. This chapter reviews the most common primary skull base tumors and\n",
      "discusses the principles of management in general and, in more detail, the management of pituitary\n",
      "tumors. Meningiomas are addressed in Chapter 6.\n",
      "\n",
      "ROUGE (187):\n",
      "Skull base tumors are neoplasms that arise from or involve theskull base. These tumors pose a\n",
      "surgical challenge because of their deep location within the cranium and close proximity to critical\n",
      "neurovascular structures. Recently, advances in neuroimaging, improved surgical tools and\n",
      "techniques, and new methods of stereotactically focusing radiotherapy have improved the prognosis in\n",
      "patients with cranial base tumors. Symptoms of skull base tumors arise from involvement of cranial\n",
      "nerves, compression of brainstem or basal cerebral structures, and obstruction of the pharynx,\n",
      "middle ear or nasal cavity. This chapter reviews the most common primary skull base tumors and\n",
      "discusses the principles of management in general and, in more detail, the management of pituitary\n",
      "tumors. Meningiomas are addressed in Chapter 6.\n",
      "\n",
      "####################################################################################################\n",
      "\n",
      "(9781912776696, 'hh-4')\n",
      "\n",
      "Bullet:\n",
      "The standard error is a measure of the extent of sampling variation.\n",
      "\n",
      "Sentence-Transformers (67):\n",
      "Standard error (SE) is a measure of the extent of the sampling variation. If the trial above was\n",
      "conducted 100 times, 100 values for the difference in the treatment means would be obtained. The SD\n",
      "associated with those 100 values is known as the SE. It is a measure of the inherent variability in\n",
      "the statistic being calculated.\n",
      "\n",
      "ROUGE (67):\n",
      "Standard error (SE) is a measure of the extent of the sampling variation. If the trial above was\n",
      "conducted 100 times, 100 values for the difference in the treatment means would be obtained. The SD\n",
      "associated with those 100 values is known as the SE. It is a measure of the inherent variability in\n",
      "the statistic being calculated.\n",
      "\n",
      "####################################################################################################\n",
      "\n"
     ]
    }
   ],
   "source": [
    "list_method = ['Sentence-Transformers', 'ROUGE']\n",
    "\n",
    "for bull in bullet_examples:\n",
    "    idx = df_st.loc[df_st.bullets == bull].index.tolist()[0]\n",
    "    \n",
    "    list_text = [\\\n",
    "        df_st.loc[df_st.bullets == bull, 'text'].tolist()[0],\n",
    "        df_rouge.loc[df_rouge.bullets == bull, 'text'].tolist()[0]]\n",
    "    \n",
    "    list_text_num_tok = [\\\n",
    "        df_st.loc[df_st.bullets == bull, 'para_num_tokens'].tolist()[0],\n",
    "        df_rouge.loc[df_rouge.bullets == bull, 'para_num_tokens'].tolist()[0]]\n",
    "    \n",
    "    nice_print(idx, bull, list_text, list_text_num_tok, list_method)"
   ]
  },
  {
   "cell_type": "code",
   "execution_count": null,
   "metadata": {},
   "outputs": [],
   "source": []
  }
 ],
 "metadata": {
  "colab": {
   "collapsed_sections": [
    "P95DxvqWi_2Y",
    "mFAC31paODFl",
    "S0FByNNOIRvG",
    "tb7fAfzaK4es",
    "eQGq4WLu3Gei",
    "tSHT0mxuvkEp",
    "-eRnW74aH95b",
    "X2xp7jJNwB6b",
    "2Eb-_Ud3vxeY",
    "VndEUBoDjjkV",
    "8_li_hFKF_Ws"
   ],
   "name": "paragraph_assign_bullets.ipynb",
   "provenance": []
  },
  "kernelspec": {
   "display_name": "Python 3",
   "language": "python",
   "name": "python3"
  },
  "language_info": {
   "codemirror_mode": {
    "name": "ipython",
    "version": 3
   },
   "file_extension": ".py",
   "mimetype": "text/x-python",
   "name": "python",
   "nbconvert_exporter": "python",
   "pygments_lexer": "ipython3",
   "version": "3.6.9"
  }
 },
 "nbformat": 4,
 "nbformat_minor": 1
}
