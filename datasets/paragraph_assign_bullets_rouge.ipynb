{
 "cells": [
  {
   "cell_type": "code",
   "execution_count": 7,
   "metadata": {
    "executionInfo": {
     "elapsed": 2120,
     "status": "ok",
     "timestamp": 1610463812018,
     "user": {
      "displayName": "Marco Pietro Abrate",
      "photoUrl": "https://lh3.googleusercontent.com/a-/AOh14Gjh-8YF-8BlnrkN9mLZ0xfVOWfOh7kYncpYRv-Y=s64",
      "userId": "15422244832836998434"
     },
     "user_tz": -60
    },
    "id": "au5Z9XQAC7C-"
   },
   "outputs": [],
   "source": [
    "magma_dir = '/home/marco/epfl/magma/'"
   ]
  },
  {
   "cell_type": "markdown",
   "metadata": {
    "id": "S0FByNNOIRvG"
   },
   "source": [
    "### **Config**"
   ]
  },
  {
   "cell_type": "code",
   "execution_count": 8,
   "metadata": {
    "executionInfo": {
     "elapsed": 16184,
     "status": "ok",
     "timestamp": 1610463826089,
     "user": {
      "displayName": "Marco Pietro Abrate",
      "photoUrl": "https://lh3.googleusercontent.com/a-/AOh14Gjh-8YF-8BlnrkN9mLZ0xfVOWfOh7kYncpYRv-Y=s64",
      "userId": "15422244832836998434"
     },
     "user_tz": -60
    },
    "id": "ClE5D523OTZG"
   },
   "outputs": [],
   "source": [
    "import os\n",
    "import sys\n",
    "\n",
    "sys.path.insert(0, magma_dir)\n",
    "import config"
   ]
  },
  {
   "cell_type": "code",
   "execution_count": 9,
   "metadata": {
    "executionInfo": {
     "elapsed": 16184,
     "status": "ok",
     "timestamp": 1610463826092,
     "user": {
      "displayName": "Marco Pietro Abrate",
      "photoUrl": "https://lh3.googleusercontent.com/a-/AOh14Gjh-8YF-8BlnrkN9mLZ0xfVOWfOh7kYncpYRv-Y=s64",
      "userId": "15422244832836998434"
     },
     "user_tz": -60
    },
    "id": "82WSp6khIcua"
   },
   "outputs": [],
   "source": [
    "MODEL = 't5'\n",
    "\n",
    "RE_SPLITTER = '\\n'              # do we split sentences of paragraphs?\n",
    "                                # use '\\.(?!\\d)|\\n' or '\\n', respectively\n",
    "\n",
    "TOKEN_MAX_LEN = 99              # max length of a word\n",
    "PARA_MIN_LENGTH = 2             # minimum length for a sentence or\n",
    "                                # a paragraph, in tokens\n",
    "\n",
    "RECALL_THRESHOLD = 0.7\n",
    "\n",
    "# Output path\n",
    "OUTPUT_PATH = magma_dir+'datasets/karger_books_para_rouge/'+MODEL+'/'\n",
    "if not os.path.exists(OUTPUT_PATH):\n",
    "    os.makedirs(OUTPUT_PATH)"
   ]
  },
  {
   "cell_type": "markdown",
   "metadata": {
    "id": "tb7fAfzaK4es"
   },
   "source": [
    "### **Init**"
   ]
  },
  {
   "cell_type": "code",
   "execution_count": 10,
   "metadata": {
    "executionInfo": {
     "elapsed": 16443,
     "status": "ok",
     "timestamp": 1610463826354,
     "user": {
      "displayName": "Marco Pietro Abrate",
      "photoUrl": "https://lh3.googleusercontent.com/a-/AOh14Gjh-8YF-8BlnrkN9mLZ0xfVOWfOh7kYncpYRv-Y=s64",
      "userId": "15422244832836998434"
     },
     "user_tz": -60
    },
    "id": "wvbMlPBxk45S"
   },
   "outputs": [],
   "source": [
    "import matplotlib.pyplot as plt\n",
    "import numpy as np\n",
    "import torch\n",
    "import re\n",
    "import pandas as pd\n",
    "import gensim\n",
    "from tqdm import tqdm\n",
    "tqdm.pandas()\n",
    "\n",
    "if 'pegasus' in MODEL:\n",
    "    from transformers import PegasusTokenizer\n",
    "    tokenizer =\\\n",
    "        PegasusTokenizer.from_pretrained('google/pegasus-large')\n",
    "elif 'bart' in MODEL:\n",
    "    from transformers import BartTokenizer\n",
    "    tokenizer =\\\n",
    "        BartTokenizer.from_pretrained('facebook/bart-large-cnn')\n",
    "elif 't5' in MODEL:\n",
    "    from transformers import T5Tokenizer\n",
    "    tokenizer =\\\n",
    "        T5Tokenizer.from_pretrained('t5-large')"
   ]
  },
  {
   "cell_type": "markdown",
   "metadata": {
    "id": "eQGq4WLu3Gei"
   },
   "source": [
    "### **Karger Books Base Dataset**"
   ]
  },
  {
   "cell_type": "code",
   "execution_count": 11,
   "metadata": {
    "id": "Z0lbkScg0a7j"
   },
   "outputs": [],
   "source": [
    "base_dataset = magma_dir+'datasets/karger_books_base/df.csv'\n",
    "df = pd.read_csv(base_dataset)\n",
    "df = df.set_index(['book', 'chapter', 'section', 'subsection'])\n",
    "df.bullets = df.bullets.map(eval, na_action='ignore')"
   ]
  },
  {
   "cell_type": "markdown",
   "metadata": {
    "id": "LK9cSOfYaJ1I"
   },
   "source": [
    "## **Paragraph Assign Bullets**"
   ]
  },
  {
   "cell_type": "markdown",
   "metadata": {
    "id": "tSHT0mxuvkEp"
   },
   "source": [
    "### **Preprocessing**"
   ]
  },
  {
   "cell_type": "markdown",
   "metadata": {
    "id": "-eRnW74aH95b"
   },
   "source": [
    "#### Preprocessing\n",
    "\n",
    "* Split based on RE_SPLITTER\n",
    "* Explode the dataset\n",
    "* Remove unwanted chars at beginning or end of sentence\n",
    "* Remove multiple spaces\n",
    "* Remove long words (> TOKEN_MAX_LEN chars)\n",
    "* Remove short sentences / paragraphs (< PARA_MIN_LENGTH tokens)"
   ]
  },
  {
   "cell_type": "code",
   "execution_count": 12,
   "metadata": {
    "id": "CDsT33j-wPCw"
   },
   "outputs": [],
   "source": [
    "# Split in sentences / paragraphs based on RE_SPLITTER\n",
    "df.text =\\\n",
    "    df.text.map(lambda x: [p.strip() for p in re.split(RE_SPLITTER, x) if p!=''],\n",
    "                na_action='ignore')\n",
    "    \n",
    "# explode to get one row for each paragraph /sentence\n",
    "df = df.explode('text')\n",
    "df = df.rename(columns={'text': 'para'})\n",
    "df = df.dropna()\n",
    "\n",
    "# Remove unwanted chars at beginning or end of sentence\n",
    "df.para = df.para.map(lambda p: p.lstrip('.,;:-)] \\n'))\n",
    "df.para = df.para.map(lambda p: p.rstrip('.,;:-([ \\n'))\n",
    "\n",
    "# Remove multiple spaces\n",
    "df.para = df.para.map(lambda p:\n",
    "    re.sub('\\s+', ' ', p).strip())\n",
    "\n",
    "# Remove long words (> TOKEN_MAX_LEN chars)\n",
    "def para2words(para):\n",
    "    return gensim.utils.simple_preprocess(\n",
    "        para, deacc=True, max_len=TOKEN_MAX_LEN)\n",
    "df['para_proc'] = df.para.map(para2words)\n",
    "\n",
    "# Remove short sentences / paragraphs (< PARA_MIN_LENGTH tokens)\n",
    "df.loc[df.para_proc.map(len) <\\\n",
    "    PARA_MIN_LENGTH, 'para_proc'] = np.nan\n",
    "\n",
    "df = df.dropna()"
   ]
  },
  {
   "cell_type": "markdown",
   "metadata": {
    "id": "X2xp7jJNwB6b"
   },
   "source": [
    "### **Prepare Paragraphs**"
   ]
  },
  {
   "cell_type": "code",
   "execution_count": 13,
   "metadata": {
    "id": "cK0T73OHSZoi"
   },
   "outputs": [],
   "source": [
    "df.para = df.para.map(lambda p: p+'.')\n",
    "df = df.drop(columns='para_proc')\n",
    "df = df.explode('bullets')"
   ]
  },
  {
   "cell_type": "code",
   "execution_count": 14,
   "metadata": {
    "id": "CFone_j9_OuT"
   },
   "outputs": [],
   "source": [
    "df['para_num_tokens'] = df.para.map(lambda p: len(tokenizer.tokenize(p)))\n",
    "df['bullets_num_tokens'] = df.bullets.map(lambda b: len(tokenizer.tokenize(b)))\n",
    "\n",
    "df['compression_ratio'] = df.bullets_num_tokens / df.para_num_tokens"
   ]
  },
  {
   "cell_type": "markdown",
   "metadata": {
    "id": "A7f4mPrku4vq"
   },
   "source": [
    "### **Evaluate ROUGE recall**"
   ]
  },
  {
   "cell_type": "code",
   "execution_count": 16,
   "metadata": {
    "colab": {
     "base_uri": "https://localhost:8080/"
    },
    "executionInfo": {
     "elapsed": 411448,
     "status": "ok",
     "timestamp": 1610460590311,
     "user": {
      "displayName": "Marco Pietro Abrate",
      "photoUrl": "https://lh3.googleusercontent.com/a-/AOh14Gjh-8YF-8BlnrkN9mLZ0xfVOWfOh7kYncpYRv-Y=s64",
      "userId": "15422244832836998434"
     },
     "user_tz": -60
    },
    "id": "3jjv1V1FVoSW",
    "outputId": "63e21863-1579-4383-d6f7-2e20d3b16862"
   },
   "outputs": [
    {
     "name": "stderr",
     "output_type": "stream",
     "text": [
      "100%|██████████| 114574/114574 [07:36<00:00, 251.03it/s]\n"
     ]
    }
   ],
   "source": [
    "from datasets import load_metric\n",
    "metric = load_metric(\"rouge\")\n",
    "\n",
    "rouge_res =\\\n",
    "    df[['para', 'bullets']]\\\n",
    "    .progress_apply(lambda row:\n",
    "    metric.compute(\n",
    "        predictions = [row[0]],\n",
    "        references = [row[1]],\n",
    "        rouge_types = config.ROUGE_TYPES,\n",
    "        use_agregator = False), axis=1)\n",
    "    \n",
    "for r in config.ROUGE_TYPES:\n",
    "    df[r+'_recall'] =\\\n",
    "        rouge_res.map(lambda score: score[r][0][1])"
   ]
  },
  {
   "cell_type": "markdown",
   "metadata": {
    "id": "CCVlkVk2YttA"
   },
   "source": [
    "### **Assign Bullets to ONE Paragraph and Expand**"
   ]
  },
  {
   "cell_type": "code",
   "execution_count": 17,
   "metadata": {
    "id": "FAt15ei4shOY"
   },
   "outputs": [],
   "source": [
    "def assign_highest_recall_para(df):\n",
    "    df_one_para = df.copy()\n",
    "\n",
    "    df_one_para['best_match'] = False\n",
    "\n",
    "    for idx, para  in df_one_para.groupby('bullets').apply(\n",
    "        lambda g: g.iloc[g[config.ROUGE_TYPE_RECALL].argmax()]).para.iteritems():\n",
    "        \n",
    "        df_one_para.loc[\\\n",
    "            (df_one_para['bullets'] == idx) &\\\n",
    "            (df_one_para['para'] == para), 'best_match'] = True\n",
    "    \n",
    "    return df_one_para\n",
    "\n",
    "df_one_para = assign_highest_recall_para(df)"
   ]
  },
  {
   "cell_type": "code",
   "execution_count": 18,
   "metadata": {
    "colab": {
     "base_uri": "https://localhost:8080/"
    },
    "executionInfo": {
     "elapsed": 453326,
     "status": "ok",
     "timestamp": 1610460634969,
     "user": {
      "displayName": "Marco Pietro Abrate",
      "photoUrl": "https://lh3.googleusercontent.com/a-/AOh14Gjh-8YF-8BlnrkN9mLZ0xfVOWfOh7kYncpYRv-Y=s64",
      "userId": "15422244832836998434"
     },
     "user_tz": -60
    },
    "id": "aCzVXHK2aIoM",
    "outputId": "0791c600-4669-45d1-e147-e6ca56c8afe0"
   },
   "outputs": [
    {
     "name": "stdout",
     "output_type": "stream",
     "text": [
      "Percentage of paragraphs which are too short to be summarized: 47.30 %\n"
     ]
    }
   ],
   "source": [
    "para_too_short = df_one_para[(df_one_para['compression_ratio'] >= config.MAX_RATIO) & df_one_para['best_match']]\n",
    "print('Percentage of paragraphs which are too short to be summarized: %.2f %%'\\\n",
    "    %(len(para_too_short)/len(df_one_para[df_one_para['best_match']])*100))"
   ]
  },
  {
   "cell_type": "markdown",
   "metadata": {
    "id": "oEVi9s4JvxeJ"
   },
   "source": [
    "#### Expand: Merge Up or Down\n",
    "\n",
    "Take one chapter into consideration, one bullet at a time. For each bullet, one paragraph is already assigned. For paragraphs which are too short compared to the bullet, merge up or down based on rouge recall of previous / next paragraph."
   ]
  },
  {
   "cell_type": "code",
   "execution_count": 19,
   "metadata": {
    "colab": {
     "base_uri": "https://localhost:8080/",
     "output_embedded_package_id": "1TE5tvPkCkbfBPq1rV-wg5Uxp23VTunYY"
    },
    "executionInfo": {
     "elapsed": 585916,
     "status": "ok",
     "timestamp": 1610460768503,
     "user": {
      "displayName": "Marco Pietro Abrate",
      "photoUrl": "https://lh3.googleusercontent.com/a-/AOh14Gjh-8YF-8BlnrkN9mLZ0xfVOWfOh7kYncpYRv-Y=s64",
      "userId": "15422244832836998434"
     },
     "user_tz": -60
    },
    "id": "sxWgIJsRvxeL",
    "outputId": "981506fe-2fd1-4761-e1b6-7dd0b56e93d4"
   },
   "outputs": [],
   "source": [
    "def expand_up_down(df, col_metric, verbose=False):\n",
    "    # for each bullet\n",
    "    for bul in tqdm(set(df.bullets.tolist())):\n",
    "        if verbose : print(bul)\n",
    "        df_bul = df[df['bullets'] == bul]\n",
    "        \n",
    "        # get book and chapter where this bullet is\n",
    "        book = df_bul.index.get_level_values(0)[0]\n",
    "        cpt = df_bul.index.get_level_values(1)[0]\n",
    "\n",
    "        df_bul = df_bul.reset_index()\n",
    "        if verbose : print(df_bul[df_bul['best_match']].para.tolist())\n",
    "        # get best match index\n",
    "        best_match_idx = np.where(df_bul['best_match'])[0][0]\n",
    "        merged_para_idx = [best_match_idx]\n",
    "\n",
    "        bul_num_tok = df_bul.loc[best_match_idx].bullets_num_tokens\n",
    "        comp_ratio = df_bul.loc[best_match_idx].compression_ratio\n",
    "        if verbose:\n",
    "            print('Book %s, Chapter %s'%(book, cpt))\n",
    "            print('Paragraphs in this chapter:', len(df_bul))\n",
    "            print('Location of best_bul index:', best_match_idx)\n",
    "            print('Compression ratio before merging: %.2f %%'%comp_ratio)\n",
    "            print()\n",
    "        while comp_ratio > config.MAX_RATIO:\n",
    "            if 0 in merged_para_idx:\n",
    "                if verbose : print('merge down')\n",
    "                new_para_idx = max(merged_para_idx)+1\n",
    "                df_bul.loc[new_para_idx, 'best_match'] = True\n",
    "                merged_para_idx.append(new_para_idx)\n",
    "\n",
    "            elif (len(df_bul)-1) in merged_para_idx:\n",
    "                if verbose : print('merge up')\n",
    "                new_para_idx = min(merged_para_idx)-1\n",
    "                df_bul.loc[new_para_idx, 'best_match'] = True\n",
    "                merged_para_idx.append(new_para_idx)\n",
    "\n",
    "            else:\n",
    "                if verbose : print('based on metric %s '%col_metric, end='')\n",
    "\n",
    "                if df_bul.loc[min(merged_para_idx)-1, col_metric] <\\\n",
    "                    df_bul.loc[max(merged_para_idx)+1, col_metric]:\n",
    "                    if verbose : print('merge down')\n",
    "                    new_para_idx = max(merged_para_idx)+1\n",
    "                    df_bul.loc[new_para_idx, 'best_match'] = True\n",
    "                    merged_para_idx.append(new_para_idx)\n",
    "                else:\n",
    "                    if verbose : print('merge up')\n",
    "                    new_para_idx = min(merged_para_idx)-1\n",
    "                    df_bul.loc[new_para_idx, 'best_match'] = True\n",
    "                    merged_para_idx.append(new_para_idx)         \n",
    "\n",
    "            merged_para_len = np.sum(df_bul[df_bul['best_match']].para_num_tokens.tolist())\n",
    "            comp_ratio = bul_num_tok / merged_para_len\n",
    "            if merged_para_len > tokenizer.model_max_length:\n",
    "                break\n",
    "            if verbose:\n",
    "                print(df_bul[df_bul['best_match']].para.tolist())\n",
    "                print('Compression ratio: %.2f %%'%comp_ratio)\n",
    "                print()\n",
    "\n",
    "        for p, b in zip(df_bul.loc[merged_para_idx]['para'].tolist(),\n",
    "            df_bul.loc[merged_para_idx]['bullets'].tolist()):\n",
    "            df.loc[(df['para'] == p) &\n",
    "                (df['bullets'] == b), 'best_match'] = True\n",
    "        if verbose : print()\n",
    "        \n",
    "    return df"
   ]
  },
  {
   "cell_type": "code",
   "execution_count": 20,
   "metadata": {},
   "outputs": [
    {
     "name": "stderr",
     "output_type": "stream",
     "text": [
      "100%|██████████| 2556/2556 [03:29<00:00, 12.18it/s]\n"
     ]
    }
   ],
   "source": [
    "df_one_para = expand_up_down(df_one_para, 'rougeL_recall')"
   ]
  },
  {
   "cell_type": "code",
   "execution_count": 21,
   "metadata": {
    "colab": {
     "base_uri": "https://localhost:8080/"
    },
    "executionInfo": {
     "elapsed": 3007,
     "status": "ok",
     "timestamp": 1610460783831,
     "user": {
      "displayName": "Marco Pietro Abrate",
      "photoUrl": "https://lh3.googleusercontent.com/a-/AOh14Gjh-8YF-8BlnrkN9mLZ0xfVOWfOh7kYncpYRv-Y=s64",
      "userId": "15422244832836998434"
     },
     "user_tz": -60
    },
    "id": "kLETk5psPWJn",
    "outputId": "fe9323c6-44ba-4f48-ea47-c3e51061de38"
   },
   "outputs": [
    {
     "name": "stdout",
     "output_type": "stream",
     "text": [
      "3770 out of 18822 paragraphs are considered using this method. Thus, 20.03 %\n"
     ]
    }
   ],
   "source": [
    "num_para_tot = 18822\n",
    "num_para_kept = np.sum(df_one_para.groupby('para')['best_match'].apply(np.any).tolist())\n",
    "print('%d out of %d paragraphs are considered using this method.'%(num_para_kept, num_para_tot), end=' ')\n",
    "print('Thus, %.2f %%'%(100*num_para_kept/num_para_tot))"
   ]
  },
  {
   "cell_type": "code",
   "execution_count": 22,
   "metadata": {
    "colab": {
     "base_uri": "https://localhost:8080/"
    },
    "executionInfo": {
     "elapsed": 2442,
     "status": "ok",
     "timestamp": 1610460787814,
     "user": {
      "displayName": "Marco Pietro Abrate",
      "photoUrl": "https://lh3.googleusercontent.com/a-/AOh14Gjh-8YF-8BlnrkN9mLZ0xfVOWfOh7kYncpYRv-Y=s64",
      "userId": "15422244832836998434"
     },
     "user_tz": -60
    },
    "id": "lXSM-AfW5-PY",
    "outputId": "b23f466c-185d-4149-ccb3-0a9762c6bf8b"
   },
   "outputs": [
    {
     "name": "stdout",
     "output_type": "stream",
     "text": [
      "1831736 out of 6407951 letters are considered using this method. Thus, 28.59 %\n"
     ]
    }
   ],
   "source": [
    "df_count_tokens = df_one_para.groupby('para', sort=False).agg({\n",
    "    'best_match': lambda bm: np.any(list(bm))}).reset_index()\n",
    "df_count_tokens['para_len'] = df_count_tokens.para.map(len)\n",
    "num_letters_kept = df_count_tokens[df_count_tokens['best_match']].para_len.sum()\n",
    "num_letters_tot = df_count_tokens.para_len.sum()\n",
    "\n",
    "print('%d out of %d letters are considered using this method.'%(num_letters_kept, num_letters_tot), end=' ')\n",
    "print('Thus, %.2f %%'%(100*num_letters_kept/num_letters_tot))"
   ]
  },
  {
   "cell_type": "code",
   "execution_count": 23,
   "metadata": {
    "colab": {
     "base_uri": "https://localhost:8080/"
    },
    "executionInfo": {
     "elapsed": 3361,
     "status": "ok",
     "timestamp": 1610459902641,
     "user": {
      "displayName": "Marco Pietro Abrate",
      "photoUrl": "https://lh3.googleusercontent.com/a-/AOh14Gjh-8YF-8BlnrkN9mLZ0xfVOWfOh7kYncpYRv-Y=s64",
      "userId": "15422244832836998434"
     },
     "user_tz": -60
    },
    "id": "T6mMBqVA2Umm",
    "outputId": "0758bde6-06ba-4dae-9cca-a0722ab3966d"
   },
   "outputs": [
    {
     "name": "stdout",
     "output_type": "stream",
     "text": [
      "423168 out of 1493837 tokens are considered using this method. Thus, 28.33 %\n"
     ]
    }
   ],
   "source": [
    "df_count_tokens = df_one_para.groupby('para', sort=False).agg({\n",
    "    'best_match': lambda bm: np.any(list(bm)),\n",
    "    'para_num_tokens': lambda pnt: list(pnt)[0]})\n",
    "num_tok_kept = df_count_tokens[df_count_tokens['best_match']].para_num_tokens.sum()\n",
    "num_tok_tot = df_count_tokens.para_num_tokens.sum()\n",
    "\n",
    "print('%d out of %d tokens are considered using this method.'%(num_tok_kept, num_tok_tot), end=' ')\n",
    "print('Thus, %.2f %%'%(100*num_tok_kept/num_tok_tot))"
   ]
  },
  {
   "cell_type": "code",
   "execution_count": 24,
   "metadata": {
    "id": "RctLPHCymgfH"
   },
   "outputs": [],
   "source": [
    "df_one_para = df_one_para[df_one_para['best_match']].reset_index().groupby(['book', 'chapter', 'bullets'], sort=False).agg({\n",
    "    'para': lambda p: ' '.join(list(p)),\n",
    "    'para_num_tokens': sum,\n",
    "    'bullets_num_tokens': lambda bnt: list(bnt)[0]\n",
    "}).reset_index(level='bullets')\n",
    "df_one_para = df_one_para.rename(columns={'para': 'text'})\n",
    "\n",
    "df_one_para['compression_ratio'] = df_one_para.bullets_num_tokens / df_one_para.para_num_tokens"
   ]
  },
  {
   "cell_type": "code",
   "execution_count": 25,
   "metadata": {
    "colab": {
     "base_uri": "https://localhost:8080/",
     "height": 81
    },
    "executionInfo": {
     "elapsed": 516,
     "status": "ok",
     "timestamp": 1610460064479,
     "user": {
      "displayName": "Marco Pietro Abrate",
      "photoUrl": "https://lh3.googleusercontent.com/a-/AOh14Gjh-8YF-8BlnrkN9mLZ0xfVOWfOh7kYncpYRv-Y=s64",
      "userId": "15422244832836998434"
     },
     "user_tz": -60
    },
    "id": "W39OWoAw5v4q",
    "outputId": "f4c0f94d-4eac-41af-d413-96fb0324ad41"
   },
   "outputs": [
    {
     "data": {
      "text/html": [
       "<div>\n",
       "<style scoped>\n",
       "    .dataframe tbody tr th:only-of-type {\n",
       "        vertical-align: middle;\n",
       "    }\n",
       "\n",
       "    .dataframe tbody tr th {\n",
       "        vertical-align: top;\n",
       "    }\n",
       "\n",
       "    .dataframe thead th {\n",
       "        text-align: right;\n",
       "    }\n",
       "</style>\n",
       "<table border=\"1\" class=\"dataframe\">\n",
       "  <thead>\n",
       "    <tr style=\"text-align: right;\">\n",
       "      <th></th>\n",
       "      <th></th>\n",
       "      <th>bullets</th>\n",
       "      <th>text</th>\n",
       "      <th>para_num_tokens</th>\n",
       "      <th>bullets_num_tokens</th>\n",
       "      <th>compression_ratio</th>\n",
       "    </tr>\n",
       "    <tr>\n",
       "      <th>book</th>\n",
       "      <th>chapter</th>\n",
       "      <th></th>\n",
       "      <th></th>\n",
       "      <th></th>\n",
       "      <th></th>\n",
       "      <th></th>\n",
       "    </tr>\n",
       "  </thead>\n",
       "  <tbody>\n",
       "    <tr>\n",
       "      <th rowspan=\"4\" valign=\"top\">9781908541727</th>\n",
       "      <th>ch09</th>\n",
       "      <td>Refer urgently (the same day), patients with o...</td>\n",
       "      <td>Patients with seventh nerve palsy need to be s...</td>\n",
       "      <td>528</td>\n",
       "      <td>181</td>\n",
       "      <td>0.342803</td>\n",
       "    </tr>\n",
       "    <tr>\n",
       "      <th>ch10</th>\n",
       "      <td>Refer within 1 week, any child with:- squint (...</td>\n",
       "      <td>Congenital nasolacrimal duct obstruction is ve...</td>\n",
       "      <td>516</td>\n",
       "      <td>149</td>\n",
       "      <td>0.288760</td>\n",
       "    </tr>\n",
       "    <tr>\n",
       "      <th>ch10</th>\n",
       "      <td>Refer urgently, to be seen the same day, if yo...</td>\n",
       "      <td>Young children are unable to complain of poor ...</td>\n",
       "      <td>592</td>\n",
       "      <td>249</td>\n",
       "      <td>0.420608</td>\n",
       "    </tr>\n",
       "    <tr>\n",
       "      <th>ch11</th>\n",
       "      <td>Refer urgently, to be seen by an ophthalmologi...</td>\n",
       "      <td>A patient suspected of having any of these inj...</td>\n",
       "      <td>530</td>\n",
       "      <td>280</td>\n",
       "      <td>0.528302</td>\n",
       "    </tr>\n",
       "    <tr>\n",
       "      <th>9781910797495</th>\n",
       "      <th>chp7</th>\n",
       "      <td>Pharmacotherapy, based on only a small number ...</td>\n",
       "      <td>Central pain is defined by the International A...</td>\n",
       "      <td>521</td>\n",
       "      <td>142</td>\n",
       "      <td>0.272553</td>\n",
       "    </tr>\n",
       "    <tr>\n",
       "      <th>9781910797723</th>\n",
       "      <th>chp4</th>\n",
       "      <td>Immune checkpoint inhibitors have been approve...</td>\n",
       "      <td>Immune checkpoint molecules are cell surface r...</td>\n",
       "      <td>555</td>\n",
       "      <td>145</td>\n",
       "      <td>0.261261</td>\n",
       "    </tr>\n",
       "    <tr>\n",
       "      <th>9783318067095</th>\n",
       "      <th>ch9</th>\n",
       "      <td>Validation ensures that the technology is meas...</td>\n",
       "      <td>In other instances, a digital assessment may m...</td>\n",
       "      <td>575</td>\n",
       "      <td>197</td>\n",
       "      <td>0.342609</td>\n",
       "    </tr>\n",
       "  </tbody>\n",
       "</table>\n",
       "</div>"
      ],
      "text/plain": [
       "                                                                 bullets  \\\n",
       "book          chapter                                                      \n",
       "9781908541727 ch09     Refer urgently (the same day), patients with o...   \n",
       "              ch10     Refer within 1 week, any child with:- squint (...   \n",
       "              ch10     Refer urgently, to be seen the same day, if yo...   \n",
       "              ch11     Refer urgently, to be seen by an ophthalmologi...   \n",
       "9781910797495 chp7     Pharmacotherapy, based on only a small number ...   \n",
       "9781910797723 chp4     Immune checkpoint inhibitors have been approve...   \n",
       "9783318067095 ch9      Validation ensures that the technology is meas...   \n",
       "\n",
       "                                                                    text  \\\n",
       "book          chapter                                                      \n",
       "9781908541727 ch09     Patients with seventh nerve palsy need to be s...   \n",
       "              ch10     Congenital nasolacrimal duct obstruction is ve...   \n",
       "              ch10     Young children are unable to complain of poor ...   \n",
       "              ch11     A patient suspected of having any of these inj...   \n",
       "9781910797495 chp7     Central pain is defined by the International A...   \n",
       "9781910797723 chp4     Immune checkpoint molecules are cell surface r...   \n",
       "9783318067095 ch9      In other instances, a digital assessment may m...   \n",
       "\n",
       "                       para_num_tokens  bullets_num_tokens  compression_ratio  \n",
       "book          chapter                                                          \n",
       "9781908541727 ch09                 528                 181           0.342803  \n",
       "              ch10                 516                 149           0.288760  \n",
       "              ch10                 592                 249           0.420608  \n",
       "              ch11                 530                 280           0.528302  \n",
       "9781910797495 chp7                 521                 142           0.272553  \n",
       "9781910797723 chp4                 555                 145           0.261261  \n",
       "9783318067095 ch9                  575                 197           0.342609  "
      ]
     },
     "execution_count": 25,
     "metadata": {},
     "output_type": "execute_result"
    }
   ],
   "source": [
    "df_one_para[df_one_para['compression_ratio'] > config.MAX_RATIO]"
   ]
  },
  {
   "cell_type": "code",
   "execution_count": 26,
   "metadata": {
    "colab": {
     "base_uri": "https://localhost:8080/"
    },
    "executionInfo": {
     "elapsed": 386,
     "status": "ok",
     "timestamp": 1610460065605,
     "user": {
      "displayName": "Marco Pietro Abrate",
      "photoUrl": "https://lh3.googleusercontent.com/a-/AOh14Gjh-8YF-8BlnrkN9mLZ0xfVOWfOh7kYncpYRv-Y=s64",
      "userId": "15422244832836998434"
     },
     "user_tz": -60
    },
    "id": "eelD6EPwCu2L",
    "outputId": "aa4c47dc-d31a-4aae-a251-dda07d81f4d9"
   },
   "outputs": [
    {
     "name": "stdout",
     "output_type": "stream",
     "text": [
      "Percentage of paragraphs which are too short to be summarized: 0.27 %\n"
     ]
    }
   ],
   "source": [
    "para_too_short = df_one_para[df_one_para['compression_ratio'] > config.MAX_RATIO]\n",
    "print('Percentage of paragraphs which are too short to be summarized: %.2f %%'\\\n",
    "    %(len(para_too_short)/len(df_one_para)*100))"
   ]
  },
  {
   "cell_type": "code",
   "execution_count": 27,
   "metadata": {
    "colab": {
     "base_uri": "https://localhost:8080/"
    },
    "executionInfo": {
     "elapsed": 1231,
     "status": "ok",
     "timestamp": 1610460067753,
     "user": {
      "displayName": "Marco Pietro Abrate",
      "photoUrl": "https://lh3.googleusercontent.com/a-/AOh14Gjh-8YF-8BlnrkN9mLZ0xfVOWfOh7kYncpYRv-Y=s64",
      "userId": "15422244832836998434"
     },
     "user_tz": -60
    },
    "id": "xAY7f8lL6Nby",
    "outputId": "1e314854-9fde-4451-c7d0-1c02a1601b18",
    "scrolled": true
   },
   "outputs": [
    {
     "name": "stdout",
     "output_type": "stream",
     "text": [
      "                                                                 bullets  \\\n",
      "book          chapter                                                      \n",
      "9781908541024 ch_6     Concurrent and adjuvant temozolomide chemother...   \n",
      "              ch_6     Observation may be an appropriate initial stra...   \n",
      "9781908541086 ch_11    Eating disorders not otherwise specified is th...   \n",
      "9781908541277 ch_11    Oral contraceptives containing at least 50 µg ...   \n",
      "9781908541727 ch07     Urgently refer patients who present with any o...   \n",
      "              ch09     Refer urgently (the same day), patients with o...   \n",
      "              ch10     Refer within 1 week, any child with:- squint (...   \n",
      "              ch10     Refer urgently, to be seen the same day, if yo...   \n",
      "              ch11     Refer urgently, to be seen by an ophthalmologi...   \n",
      "9781910797181 ch07     Nortriptyline and cytisine are both effective ...   \n",
      "9781910797211 ch02     At present, there are no guidelines for geneti...   \n",
      "9781910797297 chp3     T-cell receptor polymerase chain reacton (TCR ...   \n",
      "              chp4     The clinically aggressive cytotoxic CTCLs are:...   \n",
      "              chp4     Subcutaneous panniculitis-like T-cell lymphoma...   \n",
      "9781910797495 chp1     After nerve injury there may be a loss of spin...   \n",
      "              chp7     Pharmacotherapy, based on only a small number ...   \n",
      "9781910797617 chp3     Enasidenib inhibits aberrant isocitrate dehydr...   \n",
      "              chp6     A wide range of targeted agencies for the trea...   \n",
      "9781910797693 chp4     Based on this, and demonstration that the mech...   \n",
      "9781910797723 chp1     In cellular immunity, T cells recognize their ...   \n",
      "              chp4     Immune checkpoint inhibitors have been approve...   \n",
      "9781910797815 chp9     Myeloproliferative neoplasm (MPN) may progress...   \n",
      "9781912776726 ch2      Seizures and cognitive deficits tend to be see...   \n",
      "              ch6      Novel therapeutic management approaches for pa...   \n",
      "9781912776818 hh-5     Systemic disorders that can secondarily presen...   \n",
      "9783318067095 ch9      Validation ensures that the technology is meas...   \n",
      "\n",
      "                                                                    text  \\\n",
      "book          chapter                                                      \n",
      "9781908541024 ch_6     Chemotherapy. The role of adjuvant chemotherap...   \n",
      "              ch_6     Management. Anaplastic oligodendrogliomas have...   \n",
      "9781908541086 ch_11    Eating disorders not otherwise specified. As m...   \n",
      "9781908541277 ch_11    Contraception. Carbamazepine (CBZ), eslicarbaz...   \n",
      "9781908541727 ch07     Iris disease. The second most common cause of ...   \n",
      "              ch09     Patients with seventh nerve palsy need to be s...   \n",
      "              ch10     Congenital nasolacrimal duct obstruction is ve...   \n",
      "              ch10     Young children are unable to complain of poor ...   \n",
      "              ch11     A patient suspected of having any of these inj...   \n",
      "9781910797181 ch07     Smokers are advised to use 9-20 pieces of gum ...   \n",
      "9781910797211 ch02     However, the SNCA and PARK3 mutations have not...   \n",
      "9781910797297 chp3     T-cell receptor polymerase chain reaction. To ...   \n",
      "              chp4     Type B (mycosis fungoides-like). As suggested ...   \n",
      "              chp4     Type C (ALCL-like), like type A, is characteri...   \n",
      "9781910797495 chp1     The processes shown in Figure 1.8 can become p...   \n",
      "              chp7     Central pain is defined by the International A...   \n",
      "9781910797617 chp3     Enasidenib is an oral inhibitor of isocitrate ...   \n",
      "              chp6     The expanded genetic characterization of acute...   \n",
      "9781910797693 chp4     Epoetin. In Thailand, more than a dozen differ...   \n",
      "9781910797723 chp1     T reg cells mainly regulate and suppress the i...   \n",
      "              chp4     Immune checkpoint molecules are cell surface r...   \n",
      "9781910797815 chp9     Management of myeloproliferative neoplasm blas...   \n",
      "9781912776726 ch2      A systematic review identified symptom prevale...   \n",
      "              ch6      Emerging research and treatment. Glioblastoma ...   \n",
      "9781912776818 hh-5     HUS is defined by the simultaneous occurrence ...   \n",
      "9783318067095 ch9      In other instances, a digital assessment may m...   \n",
      "\n",
      "                       para_num_tokens  bullets_num_tokens  compression_ratio  \n",
      "book          chapter                                                          \n",
      "9781908541024 ch_6                 684                 134           0.195906  \n",
      "              ch_6                 532                  92           0.172932  \n",
      "9781908541086 ch_11                516                  61           0.118217  \n",
      "9781908541277 ch_11                582                 108           0.185567  \n",
      "9781908541727 ch07                 523                 130           0.248566  \n",
      "              ch09                 528                 181           0.342803  \n",
      "              ch10                 516                 149           0.288760  \n",
      "              ch10                 592                 249           0.420608  \n",
      "              ch11                 530                 280           0.528302  \n",
      "9781910797181 ch07                 530                  81           0.152830  \n",
      "9781910797211 ch02                 587                 115           0.195911  \n",
      "9781910797297 chp3                 582                  93           0.159794  \n",
      "              chp4                 550                 130           0.236364  \n",
      "              chp4                 600                 127           0.211667  \n",
      "9781910797495 chp1                 580                  81           0.139655  \n",
      "              chp7                 521                 142           0.272553  \n",
      "9781910797617 chp3                 550                 103           0.187273  \n",
      "              chp6                 552                 122           0.221014  \n",
      "9781910797693 chp4                 515                  41           0.079612  \n",
      "9781910797723 chp1                 660                 152           0.230303  \n",
      "              chp4                 555                 145           0.261261  \n",
      "9781910797815 chp9                 519                 111           0.213873  \n",
      "9781912776726 ch2                  569                  92           0.161687  \n",
      "              ch6                  545                  73           0.133945  \n",
      "9781912776818 hh-5                 547                  51           0.093236  \n",
      "9783318067095 ch9                  575                 197           0.342609  \n"
     ]
    }
   ],
   "source": [
    "print(df_one_para[df_one_para['para_num_tokens'] > tokenizer.model_max_length])"
   ]
  },
  {
   "cell_type": "markdown",
   "metadata": {
    "id": "2Eb-_Ud3vxeY"
   },
   "source": [
    "#### Save dataset"
   ]
  },
  {
   "cell_type": "code",
   "execution_count": 28,
   "metadata": {
    "id": "PxHejePmvxeZ"
   },
   "outputs": [],
   "source": [
    "df_one_para.to_csv(OUTPUT_PATH+'df.csv')"
   ]
  },
  {
   "cell_type": "markdown",
   "metadata": {
    "id": "VndEUBoDjjkV"
   },
   "source": [
    "#### Create train, test, validation (CC)"
   ]
  },
  {
   "cell_type": "code",
   "execution_count": 29,
   "metadata": {
    "id": "PjL63EfJVa9s"
   },
   "outputs": [],
   "source": [
    "df_one_para = df_one_para.groupby(level=[0, 1], sort=False).agg({\n",
    "    'bullets': lambda b: list(b),\n",
    "    'text': lambda t: list(t),\n",
    "})"
   ]
  },
  {
   "cell_type": "code",
   "execution_count": 30,
   "metadata": {
    "colab": {
     "base_uri": "https://localhost:8080/"
    },
    "executionInfo": {
     "elapsed": 946,
     "status": "ok",
     "timestamp": 1610360198918,
     "user": {
      "displayName": "Marco Pietro Abrate",
      "photoUrl": "https://lh3.googleusercontent.com/a-/AOh14Gjh-8YF-8BlnrkN9mLZ0xfVOWfOh7kYncpYRv-Y=s64",
      "userId": "15422244832836998434"
     },
     "user_tz": -60
    },
    "id": "Y1OtL194VouK",
    "outputId": "6b83bf6f-8bab-4633-b62d-08ce1c9bbdbe"
   },
   "outputs": [
    {
     "name": "stdout",
     "output_type": "stream",
     "text": [
      "361 408\n"
     ]
    }
   ],
   "source": [
    "df_one_para = df_one_para.sample(frac=1, random_state=config.SEED)\n",
    "df_one_para['num_bulls'] = df_one_para.bullets.map(len).cumsum()\n",
    "tot_bulls = df_one_para.num_bulls.iloc[-1]\n",
    "split1 = np.where(df_one_para.num_bulls > int(tot_bulls*0.8))[0][0]+1\n",
    "split2 = np.where(df_one_para.num_bulls > int(tot_bulls*0.9))[0][0]+1\n",
    "print(split1, split2)"
   ]
  },
  {
   "cell_type": "code",
   "execution_count": 31,
   "metadata": {
    "id": "RVuRQ5y4mJmb"
   },
   "outputs": [],
   "source": [
    "train, val, test =\\\n",
    "    df_one_para.iloc[:split1].explode('bullets'),\\\n",
    "    df_one_para.iloc[split1:split2].explode('bullets'),\\\n",
    "    df_one_para.iloc[split2:].explode('bullets')\n",
    "\n",
    "train['text'] = df_one_para.iloc[:split1].explode('text')['text']\n",
    "val['text'] = df_one_para.iloc[split1:split2].explode('text')['text']\n",
    "test['text'] = df_one_para.iloc[split2:].explode('text')['text']\n",
    "\n",
    "train.to_csv(OUTPUT_PATH+'train.csv')\n",
    "val.to_csv(OUTPUT_PATH+'val.csv')\n",
    "test.to_csv(OUTPUT_PATH+'test.csv')"
   ]
  },
  {
   "cell_type": "code",
   "execution_count": 32,
   "metadata": {
    "id": "UpURrGPHjjkV"
   },
   "outputs": [],
   "source": [
    "with open(OUTPUT_PATH+'train.source', 'w') as tr_s,\\\n",
    "    open(OUTPUT_PATH+'train.target', 'w') as tr_t,\\\n",
    "    open(OUTPUT_PATH+'train.index', 'w') as tr_i:\n",
    "    for idx, row in train[['text', 'bullets']].iterrows():\n",
    "        tr_i.write(str(idx) + '\\n')\n",
    "        tr_s.write(row.text + '\\n')\n",
    "        tr_t.write(row.bullets + '\\n')"
   ]
  },
  {
   "cell_type": "code",
   "execution_count": 33,
   "metadata": {
    "id": "TrDrO4UOpvui"
   },
   "outputs": [],
   "source": [
    "with open(OUTPUT_PATH+'val.source', 'w') as va_s,\\\n",
    "    open(OUTPUT_PATH+'val.target', 'w') as va_t,\\\n",
    "    open(OUTPUT_PATH+'val.index', 'w') as va_i:\n",
    "    for idx, row in val[['text', 'bullets']].iterrows():\n",
    "        va_i.write(str(idx) + '\\n')\n",
    "        va_s.write(row.text + '\\n')\n",
    "        va_t.write(row.bullets + '\\n')"
   ]
  },
  {
   "cell_type": "code",
   "execution_count": 34,
   "metadata": {
    "id": "2qLdJ3vJp5MX"
   },
   "outputs": [],
   "source": [
    "with open(OUTPUT_PATH+'test.source', 'w') as te_s,\\\n",
    "    open(OUTPUT_PATH+'test.target', 'w') as te_t,\\\n",
    "    open(OUTPUT_PATH+'test.index', 'w') as te_i:\n",
    "    for idx, row in test[['text', 'bullets']].iterrows():\n",
    "        te_i.write(str(idx) + '\\n')\n",
    "        te_s.write(row.text + '\\n')\n",
    "        te_t.write(row.bullets + '\\n')"
   ]
  },
  {
   "cell_type": "markdown",
   "metadata": {
    "id": "8_li_hFKF_Ws"
   },
   "source": [
    "### **Assign Bullets to Paragraphs (Threshold)**"
   ]
  },
  {
   "cell_type": "code",
   "execution_count": 27,
   "metadata": {
    "id": "E1ZySk0AF_Ww"
   },
   "outputs": [],
   "source": [
    "df_thresh_para = assign_highest_recall_para(df)\n",
    "num_best_para = len(df_thresh_para[df_thresh_para['best_match']])"
   ]
  },
  {
   "cell_type": "code",
   "execution_count": 28,
   "metadata": {
    "id": "mKGO8YmhNepa"
   },
   "outputs": [],
   "source": [
    "df_thresh_para.loc[df_thresh_para[config.ROUGE_TYPE_RECALL] > RECALL_THRESHOLD, 'best_match'] = True\n",
    "num_thresh_para = len(df_thresh_para[df_thresh_para['best_match']])"
   ]
  },
  {
   "cell_type": "code",
   "execution_count": 29,
   "metadata": {
    "colab": {
     "base_uri": "https://localhost:8080/"
    },
    "executionInfo": {
     "elapsed": 36853,
     "status": "ok",
     "timestamp": 1610115249585,
     "user": {
      "displayName": "Marco Pietro Abrate",
      "photoUrl": "https://lh3.googleusercontent.com/a-/AOh14Gjh-8YF-8BlnrkN9mLZ0xfVOWfOh7kYncpYRv-Y=s64",
      "userId": "15422244832836998434"
     },
     "user_tz": -60
    },
    "id": "nMYHQF9QMqap",
    "outputId": "2969ea33-1ece-4725-9e4b-cecd01209ae3"
   },
   "outputs": [
    {
     "name": "stdout",
     "output_type": "stream",
     "text": [
      "Considering ONLY the best paragraph for each bullet, we keep 2556 paragraphs.\n",
      "\n",
      "Considering ALSO the paragraphs with recall > 0.70, we keep 2586 paragraphs.\n",
      "In the first option, we lose only 1.17 % of the information with respect to this method.\n"
     ]
    }
   ],
   "source": [
    "print('Considering ONLY the best paragraph for each bullet, we keep %d paragraphs.\\n'%num_best_para)\n",
    "print('Considering ALSO the paragraphs with recall > %.2f, we keep %d paragraphs.'%(RECALL_THRESHOLD, num_thresh_para))\n",
    "print('In the first option, we lose only %.2f %% of the information with respect to this method.'%\\\n",
    "    (100*(num_thresh_para-num_best_para)/num_best_para))"
   ]
  },
  {
   "cell_type": "code",
   "execution_count": 30,
   "metadata": {
    "colab": {
     "base_uri": "https://localhost:8080/"
    },
    "executionInfo": {
     "elapsed": 934,
     "status": "ok",
     "timestamp": 1610115276419,
     "user": {
      "displayName": "Marco Pietro Abrate",
      "photoUrl": "https://lh3.googleusercontent.com/a-/AOh14Gjh-8YF-8BlnrkN9mLZ0xfVOWfOh7kYncpYRv-Y=s64",
      "userId": "15422244832836998434"
     },
     "user_tz": -60
    },
    "id": "jvw6EWcbF_Wy",
    "outputId": "dd04d348-7004-46a4-bc21-e96dc56f71d3"
   },
   "outputs": [
    {
     "name": "stdout",
     "output_type": "stream",
     "text": [
      "Lowering the threshold to 0.50, we keep 2943 paragraphs.\n",
      "In the first option, we lose 15.14 % of the information with respect to this method.\n",
      "\n",
      "This number is still quite low to decide to consider these paragraphs too.\n"
     ]
    }
   ],
   "source": [
    "df_thresh_para.loc[df_thresh_para[config.ROUGE_TYPE_RECALL] > 0.5, 'best_match'] = True\n",
    "num_thresh_para_lower = len(df_thresh_para[df_thresh_para['best_match']])\n",
    "\n",
    "print('Lowering the threshold to 0.50, we keep %d paragraphs.'%(num_thresh_para_lower))\n",
    "print('In the first option, we lose %.2f %% of the information with respect to this method.\\n'%\\\n",
    "    (100*(num_thresh_para_lower-num_best_para)/num_best_para))\n",
    "print('This number is still quite low to decide to consider these paragraphs too.')"
   ]
  },
  {
   "cell_type": "markdown",
   "metadata": {
    "id": "HO7BPitFH8Th"
   },
   "source": [
    "### **Study Data**"
   ]
  },
  {
   "cell_type": "code",
   "execution_count": 31,
   "metadata": {
    "colab": {
     "base_uri": "https://localhost:8080/"
    },
    "executionInfo": {
     "elapsed": 579,
     "status": "ok",
     "timestamp": 1610463902969,
     "user": {
      "displayName": "Marco Pietro Abrate",
      "photoUrl": "https://lh3.googleusercontent.com/a-/AOh14Gjh-8YF-8BlnrkN9mLZ0xfVOWfOh7kYncpYRv-Y=s64",
      "userId": "15422244832836998434"
     },
     "user_tz": -60
    },
    "id": "tvWJmbjVH-qN",
    "outputId": "861d6b76-0978-4aec-bb7a-86609006f34e"
   },
   "outputs": [
    {
     "data": {
      "text/plain": [
       "907"
      ]
     },
     "execution_count": 31,
     "metadata": {},
     "output_type": "execute_result"
    }
   ],
   "source": [
    "df = pd.read_csv(OUTPUT_PATH+'df.csv').set_index(['book', 'chapter'])\n",
    "df.para_num_tokens.max()"
   ]
  },
  {
   "cell_type": "code",
   "execution_count": null,
   "metadata": {
    "id": "mFacPjA4IIq3"
   },
   "outputs": [],
   "source": []
  },
  {
   "cell_type": "code",
   "execution_count": null,
   "metadata": {},
   "outputs": [],
   "source": []
  }
 ],
 "metadata": {
  "colab": {
   "collapsed_sections": [
    "P95DxvqWi_2Y",
    "mFAC31paODFl",
    "S0FByNNOIRvG",
    "tb7fAfzaK4es",
    "eQGq4WLu3Gei",
    "tSHT0mxuvkEp",
    "-eRnW74aH95b",
    "X2xp7jJNwB6b",
    "2Eb-_Ud3vxeY",
    "VndEUBoDjjkV",
    "8_li_hFKF_Ws"
   ],
   "name": "paragraph_assign_bullets.ipynb",
   "provenance": []
  },
  "kernelspec": {
   "display_name": "Python 3",
   "language": "python",
   "name": "python3"
  },
  "language_info": {
   "codemirror_mode": {
    "name": "ipython",
    "version": 3
   },
   "file_extension": ".py",
   "mimetype": "text/x-python",
   "name": "python",
   "nbconvert_exporter": "python",
   "pygments_lexer": "ipython3",
   "version": "3.6.9"
  }
 },
 "nbformat": 4,
 "nbformat_minor": 1
}
