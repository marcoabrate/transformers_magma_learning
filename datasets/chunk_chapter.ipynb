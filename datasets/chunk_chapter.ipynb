{
 "cells": [
  {
   "cell_type": "markdown",
   "metadata": {
    "id": "S0FByNNOIRvG"
   },
   "source": [
    "### **Config**"
   ]
  },
  {
   "cell_type": "code",
   "execution_count": 4,
   "metadata": {
    "executionInfo": {
     "elapsed": 50537,
     "status": "ok",
     "timestamp": 1610359057460,
     "user": {
      "displayName": "Marco Pietro Abrate",
      "photoUrl": "https://lh3.googleusercontent.com/a-/AOh14Gjh-8YF-8BlnrkN9mLZ0xfVOWfOh7kYncpYRv-Y=s64",
      "userId": "15422244832836998434"
     },
     "user_tz": -60
    },
    "id": "I9EWYCDf7z6D"
   },
   "outputs": [],
   "source": [
    "import os\n",
    "import sys\n",
    "\n",
    "sys.path.insert(0, '/home/marco/epfl/magma/')\n",
    "import config"
   ]
  },
  {
   "cell_type": "code",
   "execution_count": 5,
   "metadata": {
    "executionInfo": {
     "elapsed": 51165,
     "status": "ok",
     "timestamp": 1610359058090,
     "user": {
      "displayName": "Marco Pietro Abrate",
      "photoUrl": "https://lh3.googleusercontent.com/a-/AOh14Gjh-8YF-8BlnrkN9mLZ0xfVOWfOh7kYncpYRv-Y=s64",
      "userId": "15422244832836998434"
     },
     "user_tz": -60
    },
    "id": "82WSp6khIcua",
    "scrolled": true
   },
   "outputs": [],
   "source": [
    "# General configurations\n",
    "\n",
    "MODEL = 'pegasus'\n",
    "\n",
    "RE_SPLITTER = '\\.(?!\\d)|\\n'     # do we split sentences of paragraphs?\n",
    "                                # use '\\.|\\n' or '\\n', respectively\n",
    "\n",
    "OUTPUT_PATH = config.DATASET_PATH+'chunk_chapter/'+MODEL+'/'\n",
    "if not os.path.exists(OUTPUT_PATH):\n",
    "    os.makedirs(OUTPUT_PATH)"
   ]
  },
  {
   "cell_type": "markdown",
   "metadata": {
    "id": "tb7fAfzaK4es"
   },
   "source": [
    "### **Init**"
   ]
  },
  {
   "cell_type": "code",
   "execution_count": 6,
   "metadata": {
    "colab": {
     "base_uri": "https://localhost:8080/",
     "height": 0,
     "referenced_widgets": [
      "89a10c5b6c0447b1a1fa7013f41d1634",
      "b20f0656c959446a8255405ac5fb52b0"
     ]
    },
    "executionInfo": {
     "elapsed": 58755,
     "status": "ok",
     "timestamp": 1610359065969,
     "user": {
      "displayName": "Marco Pietro Abrate",
      "photoUrl": "https://lh3.googleusercontent.com/a-/AOh14Gjh-8YF-8BlnrkN9mLZ0xfVOWfOh7kYncpYRv-Y=s64",
      "userId": "15422244832836998434"
     },
     "user_tz": -60
    },
    "id": "wvbMlPBxk45S",
    "outputId": "aea64860-0289-44f2-97b7-ec585bcc1421"
   },
   "outputs": [],
   "source": [
    "import matplotlib.pyplot as plt\n",
    "import numpy as np\n",
    "import torch\n",
    "import re\n",
    "import pandas as pd\n",
    "import gensim\n",
    "\n",
    "if 'pegasus' in MODEL:\n",
    "    from transformers import PegasusTokenizer\n",
    "    tokenizer =\\\n",
    "        PegasusTokenizer.from_pretrained('google/pegasus-large')\n",
    "elif 'bart' in MODEL:\n",
    "    from transformers import BartTokenizer\n",
    "    tokenizer =\\\n",
    "        BartTokenizer.from_pretrained('facebook/bart-large-cnn')\n",
    "elif 't5' in MODEL:\n",
    "    from transformers import T5Tokenizer\n",
    "    tokenizer=\\\n",
    "        T5Tokenizer.from_pretrained('t5-large')"
   ]
  },
  {
   "cell_type": "markdown",
   "metadata": {
    "id": "JFd0ppeJyX1o"
   },
   "source": [
    "### **Karger Books Base Dataset**"
   ]
  },
  {
   "cell_type": "code",
   "execution_count": 8,
   "metadata": {
    "id": "Z0lbkScg0a7j"
   },
   "outputs": [],
   "source": [
    "base_dataset = config.MAGMA_DIR+'datasets/karger_books_base/df.csv'\n",
    "df = pd.read_csv(base_dataset)\n",
    "df = df.set_index(['book', 'chapter', 'section', 'subsection'])\n",
    "df.bullets = df.bullets.map(eval, na_action='ignore')"
   ]
  },
  {
   "cell_type": "markdown",
   "metadata": {
    "id": "OpWfK3TaClYR"
   },
   "source": [
    "### **Preprocessing**"
   ]
  },
  {
   "cell_type": "markdown",
   "metadata": {
    "id": "v2N8PzszClYn"
   },
   "source": [
    "#### Preprocessing\n",
    "\n",
    "* Split based on RE_SPLITTER\n",
    "* Explode the dataset\n",
    "* Remove unwanted chars at beginning or end of sentence\n",
    "* Remove multiple spaces\n",
    "* Remove long words (> config.TOKEN_MAX_LEN chars)\n",
    "* Remove short sentences / paragraphs (< config.PARA_MIN_LEN tokens)"
   ]
  },
  {
   "cell_type": "code",
   "execution_count": 9,
   "metadata": {
    "id": "IRaAKs3ZClYp"
   },
   "outputs": [],
   "source": [
    "# Split in sentences / paragraphs based on RE_SPLITTER\n",
    "df.text =\\\n",
    "    df.text.map(lambda x: [p.strip() for p in re.split(RE_SPLITTER, x) if p!=''],\n",
    "                na_action='ignore')\n",
    "    \n",
    "# explode to get one row for each paragraph /sentence\n",
    "df = df.explode('text')\n",
    "df = df.rename(columns={'text': 'para'})\n",
    "df = df.dropna()\n",
    "\n",
    "# Remove unwanted chars at beginning or end of sentence\n",
    "df.para = df.para.map(lambda p: p.lstrip('.,;:-)] \\n'))\n",
    "df.para = df.para.map(lambda p: p.rstrip('.,;:-([ \\n'))\n",
    "\n",
    "# Remove multiple spaces\n",
    "df.para = df.para.map(lambda p:\n",
    "    re.sub('\\s+', ' ', p).strip())\n",
    "\n",
    "# Remove long words (> config.TOKEN_MAX_LEN chars)\n",
    "def para2words(para):\n",
    "    return gensim.utils.simple_preprocess(\n",
    "        para, deacc=True, max_len=config.TOKEN_MAX_LEN)\n",
    "df['para_proc'] = df.para.map(para2words)\n",
    "\n",
    "# Remove short sentences / paragraphs (< config.PARA_MIN_LEN tokens)\n",
    "df.loc[df.para_proc.map(len) <\\\n",
    "    config.PARA_MIN_LEN, 'para_proc'] = np.nan\n",
    "\n",
    "df = df.dropna()"
   ]
  },
  {
   "cell_type": "markdown",
   "metadata": {
    "id": "vb_MdivVauzb"
   },
   "source": [
    "### **Chunk Chapters**"
   ]
  },
  {
   "cell_type": "markdown",
   "metadata": {
    "id": "WLiezJglIPZs"
   },
   "source": [
    "#### Chunk text"
   ]
  },
  {
   "cell_type": "code",
   "execution_count": 10,
   "metadata": {
    "id": "s7AzacNDrr9R"
   },
   "outputs": [],
   "source": [
    "df = df.groupby(level=[0, 1], sort=False).agg(\n",
    "    {'para': lambda t: [p+' . ' for p in t],\n",
    "     'bullets': lambda b: list(b)[0]})\n",
    "df = df.rename(columns={'para': 'text'})"
   ]
  },
  {
   "cell_type": "code",
   "execution_count": 11,
   "metadata": {
    "id": "LwBGCyKN-2v8"
   },
   "outputs": [],
   "source": [
    "def chunk_text(text_sent):\n",
    "    # calculate number of tokens per sentence and total\n",
    "    num_tok_sent = [len(tokenizer.tokenize(sent)) for sent in text_sent]\n",
    "    num_tok = np.sum(num_tok_sent)\n",
    "\n",
    "    # calculate chunk dimension to fit into model\n",
    "    n = int(np.ceil(num_tok / config.MODEL_MAX_LEN))\n",
    "    len_chunk = int(num_tok / n)\n",
    "    # get a more uniform splitting to avoid splits\n",
    "    # which are too short at the end\n",
    "    if len_chunk+50 > config.MODEL_MAX_LEN:\n",
    "        len_chunk = int(num_tok / (n+1))\n",
    "    \n",
    "    len_curr = 0\n",
    "    text_curr = []\n",
    "    text_chunk = []\n",
    "    for te, len_sent in zip(text_sent, num_tok_sent):\n",
    "\n",
    "        if len_curr + len_sent < len_chunk:\n",
    "            text_curr.append(te)\n",
    "            len_curr += len_sent\n",
    "\n",
    "        elif len_curr + len_sent >= config.MODEL_MAX_LEN:\n",
    "            text_chunk.append(text_curr)\n",
    "\n",
    "            text_curr = [te]\n",
    "            len_curr = len_sent\n",
    "\n",
    "        else: # >= len_chunk && < MODEL_MAX_LEN\n",
    "            text_curr.append(te)\n",
    "            text_chunk.append(text_curr)\n",
    "            \n",
    "            text_curr = []\n",
    "            len_curr = 0\n",
    "\n",
    "    if len_curr > 0:\n",
    "        text_chunk.append(text_curr)\n",
    "\n",
    "    return text_chunk"
   ]
  },
  {
   "cell_type": "code",
   "execution_count": 12,
   "metadata": {
    "id": "FBGdMtGMwGKG"
   },
   "outputs": [],
   "source": [
    "df['text_chunk'] = df.text.map(chunk_text)\n",
    "\n",
    "flatten = lambda t: [item for sublist in t for item in sublist]\n",
    "assert ''.join(flatten(df.text.tolist())) == ''.join(flatten(flatten(df.text_chunk.tolist())))"
   ]
  },
  {
   "cell_type": "code",
   "execution_count": 13,
   "metadata": {
    "id": "3r2X4E5yCpBG"
   },
   "outputs": [],
   "source": [
    "df.text = df.text.map(lambda t: ''.join(t))\n",
    "df.text_chunk = df.text_chunk.map(lambda t: [''.join(c) for c in t])"
   ]
  },
  {
   "cell_type": "code",
   "execution_count": 14,
   "metadata": {
    "id": "9uIkSZ3Ky2sR"
   },
   "outputs": [],
   "source": [
    "df = df.drop(columns='text')\n",
    "df = df.rename(columns={'text_chunk': 'text'})"
   ]
  },
  {
   "cell_type": "markdown",
   "metadata": {
    "id": "tZqjeMzM4tc2"
   },
   "source": [
    "#### Save new dataset"
   ]
  },
  {
   "cell_type": "code",
   "execution_count": 15,
   "metadata": {
    "id": "UkH-qcIv4tc3"
   },
   "outputs": [],
   "source": [
    "df.to_csv(OUTPUT_PATH+'df.csv')"
   ]
  },
  {
   "cell_type": "markdown",
   "metadata": {
    "id": "VndEUBoDjjkV"
   },
   "source": [
    "#### Create train, test, validation\n",
    "\n",
    "Generate files:\n",
    "* train.source\n",
    "* train.target\n",
    "* val.source\n",
    "* val.target\n",
    "* test.source\n",
    "* test.target\n",
    "\n",
    "Since we do not have a lot of samples, validation and test will be equal for us."
   ]
  },
  {
   "cell_type": "code",
   "execution_count": 16,
   "metadata": {
    "executionInfo": {
     "elapsed": 694,
     "status": "ok",
     "timestamp": 1610359154090,
     "user": {
      "displayName": "Marco Pietro Abrate",
      "photoUrl": "https://lh3.googleusercontent.com/a-/AOh14Gjh-8YF-8BlnrkN9mLZ0xfVOWfOh7kYncpYRv-Y=s64",
      "userId": "15422244832836998434"
     },
     "user_tz": -60
    },
    "id": "Df6wGq-1b84Y"
   },
   "outputs": [],
   "source": [
    "df.bullets = df.bullets.map(lambda b: ' '.join(b))"
   ]
  },
  {
   "cell_type": "code",
   "execution_count": 17,
   "metadata": {
    "colab": {
     "base_uri": "https://localhost:8080/"
    },
    "executionInfo": {
     "elapsed": 995,
     "status": "ok",
     "timestamp": 1610359156792,
     "user": {
      "displayName": "Marco Pietro Abrate",
      "photoUrl": "https://lh3.googleusercontent.com/a-/AOh14Gjh-8YF-8BlnrkN9mLZ0xfVOWfOh7kYncpYRv-Y=s64",
      "userId": "15422244832836998434"
     },
     "user_tz": -60
    },
    "id": "UnTCvxoHtpHG",
    "outputId": "70d3bb20-3bff-4692-8f7e-c5658fb72289"
   },
   "outputs": [
    {
     "name": "stdout",
     "output_type": "stream",
     "text": [
      "366 410\n"
     ]
    }
   ],
   "source": [
    "df = df.sample(frac=1, random_state=config.SEED)\n",
    "df['num_chunks'] = df.text.map(len).cumsum()\n",
    "tot_chunk = df.num_chunks.iloc[-1]\n",
    "split1 = np.where(df.num_chunks > int(tot_chunk*0.8))[0][0]+1\n",
    "split2 = np.where(df.num_chunks > int(tot_chunk*0.9))[0][0]+1\n",
    "print(split1, split2)"
   ]
  },
  {
   "cell_type": "code",
   "execution_count": 18,
   "metadata": {
    "executionInfo": {
     "elapsed": 666,
     "status": "ok",
     "timestamp": 1610359167855,
     "user": {
      "displayName": "Marco Pietro Abrate",
      "photoUrl": "https://lh3.googleusercontent.com/a-/AOh14Gjh-8YF-8BlnrkN9mLZ0xfVOWfOh7kYncpYRv-Y=s64",
      "userId": "15422244832836998434"
     },
     "user_tz": -60
    },
    "id": "5pCd5KYAvK7Q"
   },
   "outputs": [],
   "source": [
    "train, val, test =\\\n",
    "    df.iloc[:split1].explode('text'),\\\n",
    "    df.iloc[split1:split2].explode('text'),\\\n",
    "    df.iloc[split2:].explode('text')\n",
    "\n",
    "train.to_csv(OUTPUT_PATH+'train.csv')\n",
    "val.to_csv(OUTPUT_PATH+'val.csv')\n",
    "test.to_csv(OUTPUT_PATH+'test.csv')"
   ]
  },
  {
   "cell_type": "code",
   "execution_count": 19,
   "metadata": {
    "executionInfo": {
     "elapsed": 1988,
     "status": "ok",
     "timestamp": 1610359170616,
     "user": {
      "displayName": "Marco Pietro Abrate",
      "photoUrl": "https://lh3.googleusercontent.com/a-/AOh14Gjh-8YF-8BlnrkN9mLZ0xfVOWfOh7kYncpYRv-Y=s64",
      "userId": "15422244832836998434"
     },
     "user_tz": -60
    },
    "id": "UpURrGPHjjkV"
   },
   "outputs": [],
   "source": [
    "with open(OUTPUT_PATH+'train.source', 'w') as tr_s,\\\n",
    "    open(OUTPUT_PATH+'train.target', 'w') as tr_t,\\\n",
    "    open(OUTPUT_PATH+'train.index', 'w') as tr_i:\n",
    "    for idx, row in train[['text', 'bullets']].iterrows():\n",
    "        tr_i.write(str(idx) + '\\n')\n",
    "        tr_s.write(row.text + '\\n')\n",
    "        tr_t.write(row.bullets + '\\n')"
   ]
  },
  {
   "cell_type": "code",
   "execution_count": 20,
   "metadata": {
    "executionInfo": {
     "elapsed": 1740,
     "status": "ok",
     "timestamp": 1610359173384,
     "user": {
      "displayName": "Marco Pietro Abrate",
      "photoUrl": "https://lh3.googleusercontent.com/a-/AOh14Gjh-8YF-8BlnrkN9mLZ0xfVOWfOh7kYncpYRv-Y=s64",
      "userId": "15422244832836998434"
     },
     "user_tz": -60
    },
    "id": "TrDrO4UOpvui"
   },
   "outputs": [],
   "source": [
    "with open(OUTPUT_PATH+'val.source', 'w') as va_s,\\\n",
    "    open(OUTPUT_PATH+'val.target', 'w') as va_t,\\\n",
    "    open(OUTPUT_PATH+'val.index', 'w') as va_i:\n",
    "    for idx, row in val[['text', 'bullets']].iterrows():\n",
    "        va_i.write(str(idx) + '\\n')\n",
    "        va_s.write(row.text + '\\n')\n",
    "        va_t.write(row.bullets + '\\n')"
   ]
  },
  {
   "cell_type": "code",
   "execution_count": 21,
   "metadata": {
    "executionInfo": {
     "elapsed": 2540,
     "status": "ok",
     "timestamp": 1610359174506,
     "user": {
      "displayName": "Marco Pietro Abrate",
      "photoUrl": "https://lh3.googleusercontent.com/a-/AOh14Gjh-8YF-8BlnrkN9mLZ0xfVOWfOh7kYncpYRv-Y=s64",
      "userId": "15422244832836998434"
     },
     "user_tz": -60
    },
    "id": "2qLdJ3vJp5MX"
   },
   "outputs": [],
   "source": [
    "with open(OUTPUT_PATH+'test.source', 'w') as te_s,\\\n",
    "    open(OUTPUT_PATH+'test.target', 'w') as te_t,\\\n",
    "    open(OUTPUT_PATH+'test.index', 'w') as te_i:\n",
    "    for idx, row in test[['text', 'bullets']].iterrows():\n",
    "        te_i.write(str(idx) + '\\n')\n",
    "        te_s.write(row.text + '\\n')\n",
    "        te_t.write(row.bullets + '\\n')"
   ]
  },
  {
   "cell_type": "code",
   "execution_count": null,
   "metadata": {
    "id": "QG48kpF-4vag"
   },
   "outputs": [],
   "source": []
  }
 ],
 "metadata": {
  "colab": {
   "collapsed_sections": [
    "P95DxvqWi_2Y",
    "sP5PNEzD82V2",
    "S0FByNNOIRvG",
    "tb7fAfzaK4es",
    "JFd0ppeJyX1o",
    "OpWfK3TaClYR",
    "v2N8PzszClYn",
    "WLiezJglIPZs"
   ],
   "name": "chunk_chapter.ipynb",
   "provenance": []
  },
  "kernelspec": {
   "display_name": "Python 3",
   "language": "python",
   "name": "python3"
  },
  "language_info": {
   "codemirror_mode": {
    "name": "ipython",
    "version": 3
   },
   "file_extension": ".py",
   "mimetype": "text/x-python",
   "name": "python",
   "nbconvert_exporter": "python",
   "pygments_lexer": "ipython3",
   "version": "3.6.9"
  },
  "widgets": {
   "application/vnd.jupyter.widget-state+json": {
    "89a10c5b6c0447b1a1fa7013f41d1634": {
     "model_module": "@jupyter-widgets/controls",
     "model_name": "HBoxModel",
     "state": {
      "_dom_classes": [],
      "_model_module": "@jupyter-widgets/controls",
      "_model_module_version": "1.5.0",
      "_model_name": "HBoxModel",
      "_view_count": null,
      "_view_module": "@jupyter-widgets/controls",
      "_view_module_version": "1.5.0",
      "_view_name": "HBoxView",
      "box_style": "",
      "children": [
       "IPY_MODEL_81118337efce4b3ab4530d39e94958da",
       "IPY_MODEL_f80c8667fead4bd991a8497935793353"
      ],
      "layout": "IPY_MODEL_a69a58d1fe3f4e699a99b0546038312a"
     }
    },
    "b20f0656c959446a8255405ac5fb52b0": {
     "model_module": "@jupyter-widgets/controls",
     "model_name": "HBoxModel",
     "state": {
      "_dom_classes": [],
      "_model_module": "@jupyter-widgets/controls",
      "_model_module_version": "1.5.0",
      "_model_name": "HBoxModel",
      "_view_count": null,
      "_view_module": "@jupyter-widgets/controls",
      "_view_module_version": "1.5.0",
      "_view_name": "HBoxView",
      "box_style": "",
      "children": [
       "IPY_MODEL_934bddb6f4d74e1e950ca08a0af2fd9d",
       "IPY_MODEL_941244c73f2b444e8fa29aaa74a9a793"
      ],
      "layout": "IPY_MODEL_74e6e234ebd44a9a97d652e9aafc6503"
     }
    }
   }
  }
 },
 "nbformat": 4,
 "nbformat_minor": 1
}
