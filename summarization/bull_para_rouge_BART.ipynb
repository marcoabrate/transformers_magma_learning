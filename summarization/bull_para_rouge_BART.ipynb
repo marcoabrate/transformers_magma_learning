{
 "cells": [
  {
   "cell_type": "markdown",
   "metadata": {
    "heading_collapsed": true
   },
   "source": [
    "#### AWS"
   ]
  },
  {
   "cell_type": "code",
   "execution_count": null,
   "metadata": {
    "hidden": true
   },
   "outputs": [],
   "source": [
    "magma_dir = '/home/ubuntu/magma/'\n",
    "bucket_dir = '/home/ubuntu/s3/'\n",
    "transformers_dir = '/home/ubuntu/transformers/'\n",
    "cache_dir = bucket_dir+'.cache/'"
   ]
  },
  {
   "cell_type": "markdown",
   "metadata": {
    "id": "S0FByNNOIRvG"
   },
   "source": [
    "### **Config**"
   ]
  },
  {
   "cell_type": "code",
   "execution_count": 2,
   "metadata": {
    "executionInfo": {
     "elapsed": 45120,
     "status": "ok",
     "timestamp": 1610616895249,
     "user": {
      "displayName": "Marco Pietro Abrate",
      "photoUrl": "https://lh3.googleusercontent.com/a-/AOh14Gjh-8YF-8BlnrkN9mLZ0xfVOWfOh7kYncpYRv-Y=s64",
      "userId": "15422244832836998434"
     },
     "user_tz": -60
    },
    "id": "3BHImWfNKpDN"
   },
   "outputs": [],
   "source": [
    "import os\n",
    "import sys\n",
    "\n",
    "sys.path.insert(0, '/home/marco/epfl/magma/')\n",
    "import config\n",
    "\n",
    "from torch import cuda\n",
    "device = 'cuda' if cuda.is_available() else 'cpu'"
   ]
  },
  {
   "cell_type": "code",
   "execution_count": 3,
   "metadata": {
    "executionInfo": {
     "elapsed": 45119,
     "status": "ok",
     "timestamp": 1610616895251,
     "user": {
      "displayName": "Marco Pietro Abrate",
      "photoUrl": "https://lh3.googleusercontent.com/a-/AOh14Gjh-8YF-8BlnrkN9mLZ0xfVOWfOh7kYncpYRv-Y=s64",
      "userId": "15422244832836998434"
     },
     "user_tz": -60
    },
    "id": "82WSp6khIcua"
   },
   "outputs": [],
   "source": [
    "MODEL = 'bart'\n",
    "MODELS = {}"
   ]
  },
  {
   "cell_type": "code",
   "execution_count": 4,
   "metadata": {
    "executionInfo": {
     "elapsed": 45117,
     "status": "ok",
     "timestamp": 1610616895252,
     "user": {
      "displayName": "Marco Pietro Abrate",
      "photoUrl": "https://lh3.googleusercontent.com/a-/AOh14Gjh-8YF-8BlnrkN9mLZ0xfVOWfOh7kYncpYRv-Y=s64",
      "userId": "15422244832836998434"
     },
     "user_tz": -60
    },
    "id": "5ti6XKYnFzSr"
   },
   "outputs": [],
   "source": [
    "# Dataset path\n",
    "data_dir = config.MAGMA_DIR + 'datasets/bullet_paragraph_rouge/'+MODEL+'/'"
   ]
  },
  {
   "cell_type": "markdown",
   "metadata": {
    "heading_collapsed": true
   },
   "source": [
    "#### AWS"
   ]
  },
  {
   "cell_type": "code",
   "execution_count": null,
   "metadata": {
    "hidden": true
   },
   "outputs": [],
   "source": [
    "data_dir = bucket_dir + 'datasets/karger_books_para_rouge/'+MODEL+'/'"
   ]
  },
  {
   "cell_type": "markdown",
   "metadata": {
    "id": "JFd0ppeJyX1o"
   },
   "source": [
    "### **Init**"
   ]
  },
  {
   "cell_type": "code",
   "execution_count": 5,
   "metadata": {
    "executionInfo": {
     "elapsed": 45115,
     "status": "ok",
     "timestamp": 1610616895253,
     "user": {
      "displayName": "Marco Pietro Abrate",
      "photoUrl": "https://lh3.googleusercontent.com/a-/AOh14Gjh-8YF-8BlnrkN9mLZ0xfVOWfOh7kYncpYRv-Y=s64",
      "userId": "15422244832836998434"
     },
     "user_tz": -60
    },
    "id": "yCzod0OizR5U"
   },
   "outputs": [],
   "source": [
    "import matplotlib.pyplot as plt\n",
    "import numpy as np\n",
    "import torch\n",
    "import re\n",
    "import pandas as pd\n",
    "from tqdm import tqdm\n",
    "from textwrap import fill\n",
    "tqdm.pandas()"
   ]
  },
  {
   "cell_type": "markdown",
   "metadata": {
    "id": "dllOnKR9Os5i"
   },
   "source": [
    "### **Function Definition**"
   ]
  },
  {
   "cell_type": "markdown",
   "metadata": {
    "heading_collapsed": true,
    "id": "U2mpXoSaQiQE"
   },
   "source": [
    "##### Import Model and Tok"
   ]
  },
  {
   "cell_type": "code",
   "execution_count": 13,
   "metadata": {
    "executionInfo": {
     "elapsed": 45113,
     "status": "ok",
     "timestamp": 1610616895255,
     "user": {
      "displayName": "Marco Pietro Abrate",
      "photoUrl": "https://lh3.googleusercontent.com/a-/AOh14Gjh-8YF-8BlnrkN9mLZ0xfVOWfOh7kYncpYRv-Y=s64",
      "userId": "15422244832836998434"
     },
     "user_tz": -60
    },
    "hidden": true,
    "id": "XhBGMJVFOs5l"
   },
   "outputs": [],
   "source": [
    "def import_model_tok(model_name_or_path, verbose=False):\n",
    "    global MODELS\n",
    "\n",
    "    if model_name_or_path in MODELS.keys():\n",
    "        if verbose : print('[+] model already present in cache\\n')\n",
    "        return MODELS[model_name_or_path]\n",
    "    if verbose : print('[*] importing the model\\n')\n",
    "\n",
    "    if 'bart' in MODEL:\n",
    "        from transformers import BartForConditionalGeneration, BartTokenizer\n",
    "\n",
    "        model = BartForConditionalGeneration.from_pretrained(model_name_or_path)\n",
    "        tokenizer = BartTokenizer.from_pretrained(model_name_or_path)\n",
    "    elif 'pegasus' in MODEL:\n",
    "        from transformers import PegasusForConditionalGeneration, PegasusTokenizer\n",
    "\n",
    "        model = PegasusForConditionalGeneration.from_pretrained(model_name_or_path)\n",
    "        tokenizer = PegasusTokenizer.from_pretrained(model_name_or_path)\n",
    "\n",
    "    if verbose : print(model.config)\n",
    "    MODELS[model_name_or_path] = model, tokenizer\n",
    "    if verbose : print('[+] the model is now present in cache\\n')\n",
    "    return MODELS[model_name_or_path]"
   ]
  },
  {
   "cell_type": "markdown",
   "metadata": {
    "heading_collapsed": true,
    "id": "JiYIkI5xN2VA"
   },
   "source": [
    "##### Print Examples"
   ]
  },
  {
   "cell_type": "code",
   "execution_count": 7,
   "metadata": {
    "executionInfo": {
     "elapsed": 45112,
     "status": "ok",
     "timestamp": 1610616895257,
     "user": {
      "displayName": "Marco Pietro Abrate",
      "photoUrl": "https://lh3.googleusercontent.com/a-/AOh14Gjh-8YF-8BlnrkN9mLZ0xfVOWfOh7kYncpYRv-Y=s64",
      "userId": "15422244832836998434"
     },
     "user_tz": -60
    },
    "hidden": true,
    "id": "dxsXYs1kN5HX"
   },
   "outputs": [],
   "source": [
    "def print_examples(model_name_list, df, n_examples=10):\n",
    "    \n",
    "    df_examples = df.sample(n_examples, axis='index', random_state=config.SEED)\n",
    "    \n",
    "    for idx, row in df_examples.iterrows():\n",
    "        print(idx)\n",
    "        print(fill(row.text, 100))\n",
    "        print()\n",
    "        for model_name in model_name_list:\n",
    "            model, tokenizer = import_model_tok(model_name)\n",
    "            model = model.to(device)\n",
    "            \n",
    "            summ_enc = model.generate(\n",
    "                tokenizer.encode(row.text, return_tensors='pt').to(device),\n",
    "                min_length = config.ONE_BULLET_MIN_LEN,\n",
    "                max_length = config.ONE_BULLET_MAX_LEN,\n",
    "                length_penalty = config.LENGTH_PENALTY,\n",
    "                num_beams = config.NUM_BEAMS,\n",
    "                no_repeat_ngram_size = config.NO_REPEAT_NGRAM_SIZE,\n",
    "                early_stopping = True)[0]\n",
    "            summ_num_tok = len(summ_enc)\n",
    "            summ = tokenizer.decode(summ_enc, skip_special_tokens=True)\n",
    "\n",
    "            print('Prediction\\n%s (%d tok):\\n'%(model_name, summ_num_tok))\n",
    "            print(fill(summ, 100))\n",
    "            print()\n",
    "            \n",
    "        print('Reference:')\n",
    "        print(fill(row.bullets, 100))\n",
    "        print()\n",
    "        print(''.join(['#']*100))\n",
    "        print()"
   ]
  },
  {
   "cell_type": "markdown",
   "metadata": {
    "id": "vb_MdivVauzb"
   },
   "source": [
    "## **Karger Books Para**"
   ]
  },
  {
   "cell_type": "code",
   "execution_count": 10,
   "metadata": {
    "executionInfo": {
     "elapsed": 18765,
     "status": "ok",
     "timestamp": 1610616898502,
     "user": {
      "displayName": "Marco Pietro Abrate",
      "photoUrl": "https://lh3.googleusercontent.com/a-/AOh14Gjh-8YF-8BlnrkN9mLZ0xfVOWfOh7kYncpYRv-Y=s64",
      "userId": "15422244832836998434"
     },
     "user_tz": -60
    },
    "id": "K98cwOLys0XX"
   },
   "outputs": [],
   "source": [
    "df_train = pd.read_csv(data_dir + 'train.csv').set_index(['book', 'chapter'])\n",
    "df_val = pd.read_csv(data_dir + 'val.csv').set_index(['book', 'chapter'])\n",
    "df_test = pd.read_csv(data_dir + 'test.csv').set_index(['book', 'chapter'])"
   ]
  },
  {
   "cell_type": "markdown",
   "metadata": {
    "id": "dpNmnjXn3u2U"
   },
   "source": [
    "### **Print and Summarization**"
   ]
  },
  {
   "cell_type": "markdown",
   "metadata": {
    "heading_collapsed": true,
    "id": "WIiEnpvbMkJa"
   },
   "source": [
    "##### Print Train Examples"
   ]
  },
  {
   "cell_type": "code",
   "execution_count": 14,
   "metadata": {
    "colab": {
     "base_uri": "https://localhost:8080/",
     "height": 1000,
     "referenced_widgets": [
      "addb9bfe4b084b61a77f19962f2919d1",
      "01e3a51fe914437187fb471f042cbc4e",
      "8ef14e9327d84807a95686427993ebcd",
      "0795dec75e4f4a9cad293877eddef047",
      "37bb8348b38e45b981c8e2c580de608b"
     ]
    },
    "executionInfo": {
     "elapsed": 78849,
     "status": "ok",
     "timestamp": 1610617032580,
     "user": {
      "displayName": "Marco Pietro Abrate",
      "photoUrl": "https://lh3.googleusercontent.com/a-/AOh14Gjh-8YF-8BlnrkN9mLZ0xfVOWfOh7kYncpYRv-Y=s64",
      "userId": "15422244832836998434"
     },
     "user_tz": -60
    },
    "hidden": true,
    "id": "wgZKNh2f3u2l",
    "outputId": "fabe9770-ee41-42bc-9726-a13e121e11ab",
    "scrolled": true
   },
   "outputs": [
    {
     "name": "stdout",
     "output_type": "stream",
     "text": [
      "[+] model already present in cache\n",
      "\n",
      "(9781912776696, 'hh-5')\n",
      "Kaplan-Meier survival curves are often used to compare the data between two groups of subjects.\n",
      "Figure 2.2 shows Kaplan-Meier curves for OS in a randomized study of patients with human epidermal\n",
      "growth factor receptor 2 (HER2)-positive metastatic breast cancer treated either with or without\n",
      "trastuzumab. The Kaplan-Meier curve steps down at time points at which deaths occur, while censored\n",
      "observations are denoted by notches on the curve. In this study, the follow-up period ranged from 3\n",
      "months to 74 months. The Kaplan-Meier curve plots the probability of being event free over time,\n",
      "with these probabilities being estimated from the data in the study. Note that the curve for\n",
      "patients who received trastuzumab is consistently above the curve for those who did not receive\n",
      "trastuzumab, indicating a higher survival probability in that group.\n",
      "\n",
      "Prediction (47 tokens):\n",
      " Figure 2.2 shows Kaplan-Meier curves for OS in a randomized study of patients with human epidermal\n",
      "growth factor receptor 2-positive metastatic breast cancer treated either with or without\n",
      "trastuzumab.\n",
      "\n",
      "Reference:\n",
      "Kaplan-Meier curves plot the probability of being event free over time. The curves from different\n",
      "treatment groups can be plotted against each other to show the differences in outcome.\n",
      "\n",
      "####################################################################################################\n",
      "\n",
      "(9781908541062, 'ch_9')\n",
      "The acute and chronic consequences of rheumatoid arthritis (RA) result from persistent, misdirected\n",
      "and inadequately controlled inflammation that causes tissue destruction and loss of function.\n",
      "Consequently, management strategies for RA have become highly refined over the past 10 years. The\n",
      "concept of long-term therapy with non-steroidal anti-inflammatory drugs (NSAIDs) or corticosteroids\n",
      "while awaiting a natural remission is no longer acceptable. Rheumatologists today initiate disease-\n",
      "modifying antirheumatic drug (DMARD) therapy as soon as the diagnosis of RA is secure. Subsequently,\n",
      "therapy is aggressively adjusted until a state of low disease activity or remission is achieved. For\n",
      "this reason, it is critical that patients are referred for specialist assessment as soon as the\n",
      "diagnosis of RA is suspected, and even before the results of investigations are available. Early\n",
      "control of inflammation and the disease process is essential to minimize irreversible joint damage\n",
      "and functional disability. Most patients will commence therapy with methotrexate, either alone or\n",
      "ideally in combination with other DMARDs. With aggressive DMARD therapy a proportion of patients\n",
      "will achieve disease remission, and those who do not can now receive biological therapies (see\n",
      "Chapter 9) within a few months of diagnosis.\n",
      "\n",
      "Prediction (49 tokens):\n",
      " Rheumatologists today initiate disease-modifying antirheumatic drug (DMARD) therapy as soon as the\n",
      "diagnosis of RA is secure. Therapy is aggressively adjusted until a state of low disease activity or\n",
      "remission is achieved.\n",
      "\n",
      "Reference:\n",
      "Consequently, the patient with RA is optimally managed from disease onset by a rheumatologist and\n",
      "their multidisciplinary team.\n",
      "\n",
      "####################################################################################################\n",
      "\n",
      "(9781910797495, 'chp8')\n",
      "Patient education. As the majority of PPSP is caused by nerve damage, the treatment options are\n",
      "similar to those for other neuropathic pain syndromes. Pharmacotherapy alone will rarely be\n",
      "sufficient. A biopsychosocial assessment should be made and treatment plans should aim to rectify\n",
      "maladaptive changes in physical, psychological and environmental domains. For example, patients are\n",
      "rarely told that PPSP is a possible complication of surgery. Thus, patients often feel angry and let\n",
      "down and find it difficult to move on unless the anger is addressed with careful explanation and\n",
      "reassurance. Patients may have been stigmatized at work because of a perceived unnecessarily long\n",
      "recovery, requiring input to the workplace. Preoperative patient education about the possibility of\n",
      "PPSP, during the informed consent procedure, may reduce the negative postoperative psychosocial\n",
      "consequences that can complicate treatment. In the authors' experience of patients with PPSP, and\n",
      "supported by several studies, psychosocial factors such as catastrophizing and the pain itself often\n",
      "activate stress and mood disorders, thus worsening pain and interfering with adaptive coping.\n",
      "\n",
      "Prediction (62 tokens):\n",
      " As the majority of PPSP is caused by nerve damage, the treatment options are similar to those for\n",
      "other neuropathic pain syndromes. A biopsychosocial assessment should be made and treatment plans\n",
      "should aim to rectify maladaptive changes in physical, psychological and environmental domains.\n",
      "\n",
      "Reference:\n",
      "The incidence of PPSP varies from about 10% for very limited peripheral surgery, such as inguinal\n",
      "hernia repair or joint replacement, to 10-30% for mastectomy and up to 50% for thoracotomy and\n",
      "amputation.\n",
      "\n",
      "####################################################################################################\n",
      "\n",
      "(9781908541666, 'ch_12')\n",
      "Treatment. Immediate treatment of any identifiable cause of the DKA should be undertaken without\n",
      "delay. Until recently, standard management of DKA focused on reducing blood glucose levels with\n",
      "insulin and intravenous fluids. There is still universal agreement that the initial cornerstone of\n",
      "treatment is fluid replacement and insulin administration. The intravascular volume should be\n",
      "expanded to correct a typical deficit of 100 mL/kg of water with intravenous isotonic saline, which\n",
      "will also improve renal perfusion. Infusion rates of 1 L per hour for the first hour, 1 L for the\n",
      "next 2 hours and 1 L over the next 4 hours are usually adequate except in those patients with\n",
      "profound hypovolemia and hypotension, who may need twice this amount (Table 11.3). If the initial\n",
      "systolic blood pressure is below 90 mmHg, 500 mL of normal saline should be given over 15 minutes.\n",
      "In the presence of significant hypernatremia, isotonic saline can be replaced with 0.45% saline. The\n",
      "aim is to replace total body deficits of water and electrolytes, with half the estimated deficit\n",
      "being replaced in 12-24 hours (see Table 11.3). Once the blood glucose has fallen to about 14 mmol/L\n",
      "(252 mg/dL), saline should be replaced with 5% dextrose (or an infusion of 10% glucose given at 125\n",
      "mL/hour started alongside the infusion of normal saline to correct circulatory volume) to allow\n",
      "continued insulin administration to suppress ketogenesis while avoiding hypoglycemia.\n",
      "\n",
      "Prediction (67 tokens):\n",
      " Until recently, management of DKA focused on reducing blood glucose levels with insulin and\n",
      "intravenous fluids. There is still universal agreement that the initial cornerstone of treatment is\n",
      "fluid replacement and insulin administration. Intravascular volume should be expanded to correct a\n",
      "typical deficit of 100 mL/kg of water with intravenous isotonic saline.\n",
      "\n",
      "Reference:\n",
      "Treatment of DKA is by fluid and electrolyte replacement, intravenous insulin and treatment of the\n",
      "underlying cause, when known.\n",
      "\n",
      "####################################################################################################\n",
      "\n",
      "(9781910797495, 'chp1')\n",
      "Because it is an experience, pain itself cannot be measured directly. Pain, like consciousness\n",
      "itself, is constructed by complex brain processes that are strongly affected by a person's\n",
      "attitudes, beliefs, personality and interpretation of the significance of nociceptive stimuli.\n",
      "Central to the understanding of clinical pain is the concept that pain may be present without an\n",
      "obvious peripheral source or cause. Mechanisms of neuropathic pain. Definition. Neuropathic pain is\n",
      "initiated or caused by a primary lesion of the PNS or CNS. Patients often complain not only of\n",
      "spontaneous pain, but also of pain from stimuli that are not normally painful (allodynia). For\n",
      "example, a light touch may be described as painful.\n",
      "\n",
      "Prediction (47 tokens):\n",
      " Neuropathic pain is initiated or caused by a primary lesion of the PNS or CNS. Patients often\n",
      "complain not only of spontaneous pain, but also of pain from stimuli that are not normally painful\n",
      "(allodynia)\n",
      "\n",
      "Reference:\n",
      "Neuropathic pain is produced by a lesion of the peripheral or central nervous system (CNS).\n",
      "\n",
      "####################################################################################################\n",
      "\n"
     ]
    },
    {
     "name": "stdout",
     "output_type": "stream",
     "text": [
      "(9781910797662, 'ch03')\n",
      "Anorexia, nausea, weight loss and malaise may result from renal failure due to bilateral ureteric\n",
      "obstruction, or from the systemic effects of the tumor itself. Bone pain or pathological fractures\n",
      "may result from skeletal metastases (Figure 3.3); the pain is unrelieved by rest and can be severe.\n",
      "Anemia and hypercalcemia may occur as metabolic complications of advanced disease; leukocytosis is\n",
      "occasionally associated with the elaboration of colony-stimulating factors by the tumor. Headache or\n",
      "disordered thought processes are uncommon as a presenting feature but may indicate underlying brain\n",
      "metastases or carcinomatous meningitis.\n",
      "\n",
      "Prediction (57 tokens):\n",
      " Anorexia, nausea, weight loss and malaise may result from renal failure due to bilateral ureteric\n",
      "obstruction. Bone pain or pathological fractures may result from skeletal metastases. Anemia and\n",
      "hypercalcemia may occur as metabolic complications of advanced disease.\n",
      "\n",
      "Reference:\n",
      "Recurrent infections may indicate an underlying tumor.\n",
      "\n",
      "####################################################################################################\n",
      "\n",
      "(9781910797310, 'chp2')\n",
      "About 70% of patients present with advanced stage lung cancer. Diagnosis is usually made from small\n",
      "biopsy and cytology specimens. Historically, pathologists only needed to distinguish between small-\n",
      "cell lung cancer (SCLC) and non-small-cell lung cancer (NSCLC), but in recent years therapeutic and\n",
      "genetic advances have driven the need for larger quantities of tissue for histological\n",
      "subclassification, immunohistochemistry and molecular and immune pathology. The 2015 World Health\n",
      "Organization Classification of Tumors of the Lung, Pleura, Thymus and Heart includes a new\n",
      "classification for small biopsies and cytology similar to that proposed in the 2011 Association for\n",
      "the Study of Lung Cancer/American Thoracic Society/European Respiratory Society classification.\n",
      "\n",
      "Prediction (45 tokens):\n",
      " Diagnosis is usually made from small biopsies and cytology specimens. The 2015 World Health\n",
      "Organization Classification of Tumors of the Lung, Pleura, Thymus and Heart includes a new\n",
      "classification.\n",
      "\n",
      "Reference:\n",
      "The 2015 World Health Organization Classification of Lung Tumors recommends the use of\n",
      "immunohistochemistry for the classification of non-small-cell lung cancer (NSCLC).\n",
      "\n",
      "####################################################################################################\n",
      "\n",
      "(9781910797587, 'chp03')\n",
      "OA is not an acquired disease in the traditional medical model, and definitions have not always been\n",
      "clear. OA is a syndrome of joint pain and stiffness with associated functional problems, which can\n",
      "have a substantial effect on quality of life. In terms of structural abnormalities, OA encompasses a\n",
      "number of problems that result in common pathological and radiological features. The OA disease\n",
      "process in synovial joints is classically characterized in its later stages by focal cartilage\n",
      "degradation, involvement of the subchondral bone and synovium, and the formation of marginal\n",
      "osteophytes; in reality, all components of the joint are affected (see Chapter 2). Importantly,\n",
      "periarticular tissue, especially muscle, is often affected as well.\n",
      "\n",
      "Prediction (58 tokens):\n",
      " OA is a syndrome of joint pain and stiffness with associated functional problems. The disease\n",
      "process in synovial joints is classically characterized in its later stages by focal cartilage\n",
      "degradation. Importantly, periarticular tissue, especially muscle, is often affected as well.\n",
      "\n",
      "Reference:\n",
      "For most people and clinicians, osteoarthritis (OA) refers to a clinical syndrome of joint pain,\n",
      "functional impairment and impaired quality of life.\n",
      "\n",
      "####################################################################################################\n",
      "\n",
      "(9781908541963, 'chapter10')\n",
      "Hepatocellular carcinoma (hepatoma, HCC) is a malignancy of hepatocytes. HCC is a common cause of\n",
      "mortality in the developing world. Although currently less common in the developed world, the\n",
      "incidence is expected to rise as patients with cirrhosis due to chronic hepatitis C age. Marked\n",
      "geographic variation in incidence is largely due to variation in the risk factors that predispose an\n",
      "individual to the tumor (Table 10.1). Most cases of HCC occur in liver that is already cirrhotic.\n",
      "Thus, patients with advanced viral hepatitis, hemochromatosis or alcoholic liver disease are at\n",
      "risk. Hepatitis B presents a unique risk, as there is evidence that a tumor may develop in the\n",
      "absence of cirrhosis - presumably via direct integration of viral DNA into the host genome.\n",
      "\n",
      "Prediction (50 tokens):\n",
      " HCC is a common cause of mortality in the developing world. Most cases of HCC occur in liver that\n",
      "is already cirrhotic. Patients with advanced viral hepatitis, hemochromatosis or alcoholic liver\n",
      "disease are at risk.\n",
      "\n",
      "Reference:\n",
      "Hepatocellular carcinoma should be suspected in patients with an unexpected worsening of liver\n",
      "disease.\n",
      "\n",
      "####################################################################################################\n",
      "\n",
      "(9781910797273, 'chp6')\n",
      "Mastinib has completed a positive Phase IIb study in patients with primary and secondary progressive\n",
      "MS, the results of which are reported to include improvement in the Multiple Sclerosis Functional\n",
      "Composite (see pages 54 -). A Phase III trial in this population is now in progress, and it may\n",
      "prove to be an oral treatment option for this more rare type of MS. Mastinib targets mast cells and\n",
      "inhibits several biochemical processes. It is used in the treatment of canine diseases and is also\n",
      "being evaluated in stroke, amyotrophic lateral sclerosis and Alzheimer's disease.\n",
      "\n",
      "Prediction (65 tokens):\n",
      " Mastinib has completed a positive Phase IIb study in patients with primary and secondary\n",
      "progressive MS. A Phase III trial in this population is now in progress, and it may prove to be an\n",
      "oral treatment option for this more rare type of MS. Mastinib targets mast cells and inhibits\n",
      "several biochemical processes.\n",
      "\n",
      "Reference:\n",
      "Progressive MS may soon have a number of therapeutic options; the first is likely to be ocrelizumab.\n",
      "\n",
      "####################################################################################################\n",
      "\n"
     ]
    }
   ],
   "source": [
    "print_examples([\n",
    "    'sshleifer/distilbart-cnn-12-6'],\n",
    "    df_train)"
   ]
  },
  {
   "cell_type": "markdown",
   "metadata": {
    "heading_collapsed": true,
    "id": "fSqOx7kdMoNJ"
   },
   "source": [
    "##### Print Val Examples"
   ]
  },
  {
   "cell_type": "code",
   "execution_count": 16,
   "metadata": {
    "colab": {
     "base_uri": "https://localhost:8080/"
    },
    "executionInfo": {
     "elapsed": 7134,
     "status": "ok",
     "timestamp": 1610617100643,
     "user": {
      "displayName": "Marco Pietro Abrate",
      "photoUrl": "https://lh3.googleusercontent.com/a-/AOh14Gjh-8YF-8BlnrkN9mLZ0xfVOWfOh7kYncpYRv-Y=s64",
      "userId": "15422244832836998434"
     },
     "user_tz": -60
    },
    "hidden": true,
    "id": "f7k8RzJgMoNK",
    "outputId": "34bc6750-7383-42d4-8a7a-f30b9e35a3bb",
    "scrolled": true
   },
   "outputs": [
    {
     "name": "stdout",
     "output_type": "stream",
     "text": [
      "[+] model already present in cache\n",
      "\n",
      "(9781908541178, 'ch_6')\n",
      "Many anatomic factors can play a primary or a secondary role in the development and progression of\n",
      "low back pain syndromes. The most common causes of low back pain are mechanical in origin.\n",
      "Mechanical disorders of the lumbar spine are related to injury, overuse or deformity of a spinal\n",
      "structure. The most important traumatic factors in low back pain relate to soft tissue structures.\n",
      "Precise identification of the injured tissue, and the role of that injury in the consequent pain and\n",
      "dysfunction, can be frustratingly difficult. Problems occur in muscles, intervertebral discs, facet\n",
      "joints, ligaments or spinal nerves. Aging causes modification of these structures over time, and\n",
      "different parts of the spine tend to be at greater risk for change or injury during different\n",
      "decades of life. Early in life, muscle injuries are more frequent, while joint problems occur in the\n",
      "sixth decade of life (Table 3.1).\n",
      "\n",
      "Prediction (46 tokens):\n",
      " Mechanical disorders of the lumbar spine are related to injury, overuse or deformity of a spinal\n",
      "structure. Problems occur in muscles, intervertebral discs, facet joints, ligaments or spinal\n",
      "nerves.\n",
      "\n",
      "Reference:\n",
      "Mechanical disorders - muscle strain, spondylolisthesis, herniated intervertebral disc,\n",
      "osteoarthritis, spinal stenosis - are the most common causes of low back pain.\n",
      "\n",
      "####################################################################################################\n",
      "\n",
      "(9781912776726, 'ch4')\n",
      "Surgery is the initial therapeutic approach for tumor debulking and to obtain tissue for diagnosis.\n",
      "The aim of surgery is maximum tumor resection while maintaining neurological function. Risk versus\n",
      "benefit. The neurosurgeon's preoperative assessment of the patient's prognosis - which will depend,\n",
      "among other things, on the location of the glioblastoma and the patient's performance status - will\n",
      "determine the extent of resection. For example, if the tumor is near or involves eloquent (exempli\n",
      "gratia language, motor, vision) areas of the brain, a subtotal resection or tissue biopsy only may\n",
      "be considered a more appropriate option than aggressive total resection. The consequences of\n",
      "surgically acquired neurological deficits (exempli gratia language, cognitive, motor, coordination\n",
      "and visual deficits) can be significant. If surgical resection is not safe because of the tumor\n",
      "location or impaired performance status, a biopsy should be obtained if feasible.\n",
      "\n",
      "Prediction (47 tokens):\n",
      " Surgery is the initial therapeutic approach for tumor debulking and to obtain tissue for diagnosis.\n",
      "The aim of surgery is maximum tumor resection while maintaining neurological function. The\n",
      "consequences of surgically acquired neurological deficits can be significant.\n",
      "\n",
      "Reference:\n",
      "The initial therapeutic approach is surgical tumor debulking and biopsy; maximum tumor resection\n",
      "should be attempted if neurological function can be maintained.\n",
      "\n",
      "####################################################################################################\n",
      "\n",
      "(9783318066241, 'ch6')\n",
      "However, local complications such as pancreatic necrosis are associated with fluid sequestration, as\n",
      "intravascular liquid leaks to the retroperitoneum. This results in hemoconcentration and it has been\n",
      "suggested that an increased hematocrit is in fact a marker for local complications, not their cause\n",
      "(reverse causation bias). In 2009 and 2010, two studies were published by the same research group.,\n",
      "These were open-label randomized controlled trials (RCTs) comparing a more aggressive versus a\n",
      "moderate fluid volume administration (10-15 vs 5-10 mL/kg/hour) and a more rapid versus a slower\n",
      "hemodilution (hematocrit < 35% vs >= 35% at 48 hours) in patients with severe AP according to the\n",
      "classic 1993 Atlanta criteria (presence of local complications and/or organ failure). In both\n",
      "trials, the more aggressive approach was associated with worse outcomes, including decreased\n",
      "survival. These studies suggested that vigorous resuscitation is dangerous in patients with severe\n",
      "AP. The studies had some flaws, including being open-label single-center RCTs, with suboptimal\n",
      "randomization, an unexpectedly high rate of sepsis in patients with aggressive resuscitation and\n",
      "large differences in mortality between treatment groups despite a very small sample of patients, and\n",
      "they require validation.\n",
      "\n",
      "Prediction (53 tokens):\n",
      " Local complications such as pancreatic necrosis are associated with fluid sequestration, as\n",
      "intravascular liquid leaks to the retroperitoneum. Increased hematocrit is in fact a marker for\n",
      "local complications, not their cause (reverse causation bias)\n",
      "\n",
      "Reference:\n",
      "There is a lack of well-designed randomized clinical trials addressing the best fluid volume rate to\n",
      "improve outcomes.\n",
      "\n",
      "####################################################################################################\n",
      "\n",
      "(9781910797662, 'ch07')\n",
      "Locally advanced cancers and tumors that have spread to loco-regional lymph nodes are associated\n",
      "with an increased risk of local relapse and a higher risk of micrometastatic disease at diagnosis.\n",
      "Five-year survival is about 35%. Lymph node involvement is identified through lymph node dissection\n",
      "or accurate imaging. The primary cancer may still be amenable to local therapy, and is potentially\n",
      "curable in the absence of distant metastases. Optimum systemic therapy with cisplatin-based\n",
      "chemotherapy is standard of care for patients with adequate renal function who are suitable for\n",
      "chemotherapy.\n",
      "\n",
      "Prediction (39 tokens):\n",
      " Five-year survival is about 35%. Lymph node involvement is identified through lymph node dissection\n",
      "or accurate imaging. The primary cancer may still be amenable to local therapy.\n",
      "\n",
      "Reference:\n",
      "Cisplatin-based chemotherapy can provide excellent outcomes for some patients with advanced or\n",
      "metastatic disease.\n",
      "\n",
      "####################################################################################################\n",
      "\n",
      "(9781910797723, 'chp3')\n",
      "What types of tumor are potentially susceptible to immuno-oncology?. Clearly, the potential\n",
      "sensitivity of a given cancer to immuno-oncology therapies will depend on the ability of the tumor\n",
      "to trigger an immune response (immunogenicity). Cancer is characterized by an accumulation of\n",
      "genetic mutations, many of which result in the expression of cancer-specific antigens that can bind\n",
      "to major histocompatibility complex (MHC) class I molecules on the cancer cell surface. These\n",
      "antigen-MHC complexes can be recognized by cytotoxic CD8+ lymphocytes, that, if activated, could\n",
      "potentially mount an immune response against the tumor. As a result, tumors with high somatic\n",
      "mutation rates may be more susceptible to immuno-oncology therapies than those with lower mutation\n",
      "rates. Somatic mutation rates differ markedly, both between tumor types and within an individual\n",
      "tumor type: the rate may vary more than 1000-fold between tumors with the highest and lowest rates\n",
      "(Figure 3.2). The highest rates are seen in cancers of the skin, lung, bladder and stomach, while\n",
      "the lowest are seen in hematologic and pediatric cancers. It is noteworthy that the highest rates\n",
      "occur in tumors that are induced by carcinogens such as tobacco smoke or ultraviolet light.\n",
      "\n",
      "Prediction (80 tokens):\n",
      " The potential sensitivity of a given cancer to immuno-oncology therapies will depend on the ability\n",
      "of the tumor to trigger an immune response (immunogenicity) Cancer is characterized by an\n",
      "accumulation of genetic mutations, many of which result in the expression of cancer-specific\n",
      "antigens. Somatic mutation rates differ markedly, both between tumor types and within an individual\n",
      "tumor type.\n",
      "\n",
      "Reference:\n",
      "The potential sensitivity of a given cancer to immunotherapy depends on the immunogenicity of the\n",
      "tumor, which is related to the somatic mutation rate within tumor cells.- The highest mutation rates\n",
      "are seen in cancers of the skin, lung, bladder and stomach, rendering these tumor types more\n",
      "sensitive to immunotherapy.\n",
      "\n",
      "####################################################################################################\n",
      "\n",
      "(9781910797471, 'ch02')\n",
      "Advances in the management of heart failure (HF) over the past 20 years have been informed by a\n",
      "better understanding of its pathophysiology. There are few situations in cardiology where treatment\n",
      "has been as closely linked to an appreciation of the underlying science. Vicious cycle of heart\n",
      "failure. HF is a disease of inappropriate adaptation to injury. The body has a limited range of\n",
      "compensatory responses to circulatory impairment, mainly vasoconstriction and sodium and water\n",
      "retention (see below). In general, however, these adjustments to hypovolemia are poorly suited to\n",
      "pump failure, and increases in the preload and afterload of the failing heart lead to worsening HF\n",
      "(Figure 2.1). Neurohormonal pathways activated in HF include the sympathetic nervous system (SNS),\n",
      "the renin-angiotensin-aldosterone system (RAAS) and the natriuretic peptide (NP) system. They play a\n",
      "significant role in the pathophysiology of HF, and pharmacological interventions have been developed\n",
      "accordingly (see Chapter 7).\n",
      "\n",
      "Prediction (68 tokens):\n",
      " Advances in the management of heart failure (HF) over the past 20 years have been informed by a\n",
      "better understanding of its pathophysiology. HF is a disease of inappropriate adaptation to injury.\n",
      "The body has a limited range of compensatory responses to circulatory impairment, mainly\n",
      "vasoconstriction and sodium and water retention.\n",
      "\n",
      "Reference:\n",
      "Inappropriate non-cardiac responses include activation of a variety of hormonal reflexes\n",
      "(vasoconstriction, and sodium and water retention). Reversal of these inappropriate responses is\n",
      "critical to the management of HF.\n",
      "\n",
      "####################################################################################################\n",
      "\n"
     ]
    },
    {
     "name": "stdout",
     "output_type": "stream",
     "text": [
      "(9781910797815, 'chp9')\n",
      "There are no specific diagnostic criteria for MPN-BP. The principal criterion is the same as for de\n",
      "novo acute myeloid leukemia (AML): more than 20% blasts in bone marrow or peripheral blood.\n",
      "Persistence is also important if only peripheral blood blasts are considered. Importantly,\n",
      "acceleration or progression of myelofibrosis is usually apparent before the development of overt\n",
      "leukemia. Signs of this include.\n",
      "\n",
      "Prediction (47 tokens):\n",
      " There are no specific diagnostic criteria for MPN-BP. The principal criterion is the same as for de\n",
      "novo acute myeloid leukemia (AML): more than 20% blasts in bone marrow or peripheral blood.\n",
      "\n",
      "Reference:\n",
      "Signs of accelerating myelofibrosis may precede the development of overt leukemia.\n",
      "\n",
      "####################################################################################################\n",
      "\n",
      "(9783318068207, 'hh-7')\n",
      "Melanoma is a highly mutated malignancy, with mutations documented in all subtypes (Table 5.3)., The\n",
      "KIT mutation is associated with chronic sun damage. The BRAF mutation is present in 11% of patients\n",
      "with mucosal melanoma, NRAS mutation in 5% and KIT mutation in 15-20%. From a molecular point of\n",
      "view, uveal melanoma is a distinct condition characterized, in 50% of patients, by the presence of a\n",
      "GNAQ mutation. The presence of BRAF and NRAS mutations has not been described in uveal melanoma. The\n",
      "serine/threonine kinase BRAF is involved in the downstream signaling of the RTK and RAS proteins.\n",
      "Approximately half of melanomas show BRAF point mutations (Figure 5.2). In the majority of cases, a\n",
      "valine at position 600 is mutated to glutamic acid or lysine (BRAF p.V600E and BRAF p.V600K); both\n",
      "mutations are associated with kinase activation that results from relieving an intramolecular\n",
      "autoinhibitory interaction between the activation segment and P-loop of the protein.\n",
      "\n",
      "Prediction (56 tokens):\n",
      " The BRAF mutation is present in 11% of patients with mucosal melanoma, NRAS mutation in 5% and KIT\n",
      "mutation in 15-20%. The presence of BRAF and NRAS mutations has not been described in uveal\n",
      "melanoma.\n",
      "\n",
      "Reference:\n",
      "Melanoma is a highly mutated malignancy, with mutations - including BRAF, NRAS and KIT - documented\n",
      "in all melanoma subtypes.\n",
      "\n",
      "####################################################################################################\n",
      "\n",
      "(9781910797815, 'chp4')\n",
      "Management of low-risk patients. Treatment to reduce cardiovascular risk factors, and promotion of a\n",
      "generally healthy lifestyle, may be sufficient intervention for very-low-risk patients. Smoking\n",
      "cessation should be actively promoted because cigarette smoking has been shown to be an independent\n",
      "risk factor for thrombosis in patients with ET. Low-dose aspirin has been shown to reduce both\n",
      "microvascular symptoms (exempli gratia erythromelalgia) and transient neurological and visual\n",
      "disturbances such as hemiparesis, scintillating scotomas, amaurosis fugax (transcient monocular\n",
      "blindness) and seizures. There is also evidence that antiplatelet therapy reduces the risk of venous\n",
      "thrombosis in patients with JAK2 V617F mutations and cardiovascular risk factors (arterial\n",
      "thrombosis). Higher doses of aspirin (up to 500 mg daily) may be required in patients with acute\n",
      "erythromelalgia.\n",
      "\n",
      "Prediction (60 tokens):\n",
      " Low-dose aspirin has been shown to reduce microvascular symptoms (exempli gratia erythromelalgia)\n",
      "and transient neurological and visual disturbances. Smoking cessation should be actively promoted\n",
      "because cigarette smoking has been shown to be an independent risk factor for thrombosis.\n",
      "\n",
      "Reference:\n",
      "All patients should receive interventions to reduce cardiovascular risk factors, particularly\n",
      "smoking cessation advice.\n",
      "\n",
      "####################################################################################################\n",
      "\n",
      "(9781908541277, 'ch_11')\n",
      "There are no clear data indicating differences in safety among PHT, CBZ, PB and PRM. Current\n",
      "evidence suggests that the risk of major congenital malformations is two to four times higher with\n",
      "the use of VPA than with other AEDs such as CBZ and LTG. Absolute rates have ranged from 6% to 11%,\n",
      "although the risk may be minimized by keeping daily doses at or below 1000 mg. High-dose exposure to\n",
      "VPA in utero may impair later cognitive function. The teratogenic risk associated with LTG\n",
      "monotherapy is low and is similar to that associated with CBZ, although preliminary data suggest the\n",
      "possibility of greater risk of major malformations at higher dosage. There are still insufficient\n",
      "data regarding the safety of other modern AEDs.\n",
      "\n",
      "Prediction (57 tokens):\n",
      " Current evidence suggests that the risk of major congenital malformations is two to four times\n",
      "higher with the use of VPA than with other AEDs such as CBZ and LTG. There are still insufficient\n",
      "data regarding the safety of other modern AEDs.\n",
      "\n",
      "Reference:\n",
      "The risk of major malformations in babies exposed in utero seems to be greater with sodium valproate\n",
      "(VPA) than with other AEDs.\n",
      "\n",
      "####################################################################################################\n",
      "\n"
     ]
    }
   ],
   "source": [
    "print_examples([\n",
    "    'sshleifer/distilbart-cnn-12-6'],\n",
    "    df_val)"
   ]
  },
  {
   "cell_type": "markdown",
   "metadata": {
    "id": "UTUY8QgQa2WM"
   },
   "source": [
    "##### Print Test Examples"
   ]
  },
  {
   "cell_type": "code",
   "execution_count": 18,
   "metadata": {
    "colab": {
     "base_uri": "https://localhost:8080/"
    },
    "executionInfo": {
     "elapsed": 7745,
     "status": "ok",
     "timestamp": 1610617121036,
     "user": {
      "displayName": "Marco Pietro Abrate",
      "photoUrl": "https://lh3.googleusercontent.com/a-/AOh14Gjh-8YF-8BlnrkN9mLZ0xfVOWfOh7kYncpYRv-Y=s64",
      "userId": "15422244832836998434"
     },
     "user_tz": -60
    },
    "id": "D9rpcejOa2WO",
    "outputId": "c86cf9ed-eca7-4f92-ce7a-91f8661fdd29",
    "scrolled": true
   },
   "outputs": [
    {
     "name": "stdout",
     "output_type": "stream",
     "text": [
      "[+] model already present in cache\n",
      "\n",
      "(9781908541277, 'ch_8')\n",
      "After a hiatus of nearly 20 years, 16 new AEDs and two devices - the vagus nerve stimulator and deep\n",
      "brain stimulator - have received licenses for the adjunctive treatment of refractory epilepsy, the\n",
      "last so far only in Europe. Gabapentin (GBP), lacosamide (LCM), LTG, levetiracetam (LEV),\n",
      "oxcarbazepine (OXC), pregabalin (PGB), tiagabine (TGB), TPM and zonisamide (ZNS) are widely\n",
      "available for partial seizures. Rufinamide (RFN) has been licensed in Europe and the USA for\n",
      "adjunctive treatment of seizures in Lennox-Gastaut syndrome. Eslicarbazepine acetate (ESL) is\n",
      "licensed in Europe as adjunctive treatment for partial seizures with or without secondary\n",
      "generalization. Retigabine (RTG; ezogabine in the USA) and perampanel (PER) have recently been\n",
      "approved for use in Europe and the USA for the same indication. After 20 years of global experience,\n",
      "vigabatrin (VGB) has been approved in the USA for the treatment of infantile spasms and as add-on\n",
      "therapy for drug-resistant complex partial seizures. However, the use of VGB has also been markedly\n",
      "restricted because of reports of concentric visual field defects in up to 40% of patients.\n",
      "Stiripentol (STP) was licensed in 2001 for the adjunctive treatment of Dravet syndrome in Europe via\n",
      "the orphan drugs system. A similar arrangement has taken place in the USA for CLB in the treatment\n",
      "of Lennox-Gastaut syndrome. This drug has been available elsewhere in the world since the 1970s. The\n",
      "progress of felbamate (FBM) has been dramatically curtailed because of the unusual development of\n",
      "idiosyncratic life-threatening bone-marrow and liver toxicities. The advent of these newer agents\n",
      "has provided many more options in the management of refractory epilepsy, although whether overall\n",
      "outcomes have improved substantially is debatable.\n",
      "\n",
      "Prediction (94 tokens):\n",
      " 16 new AEDs and two devices have received licenses for the adjunctive treatment of refractory\n",
      "epilepsy. Gabapentin (GBP), lacosamide (LCM), LTG, levetiracetam (LEV), oxcarbazepine (OXC),\n",
      "pregabalin (PGB), tiagabine (TGB), TPM and zonisamide (ZNS) are widely available for partial\n",
      "seizures.\n",
      "\n",
      "Reference:\n",
      "Sixteen new antiepileptic drugs (AEDs) have been approved for the treatment of epilepsy since the\n",
      "late 1980s.\n",
      "\n",
      "####################################################################################################\n",
      "\n",
      "(9781910797426, 'ch03')\n",
      "There are relatively few contraindications to this procedure. They include severe coagulopathy,\n",
      "severe congestive heart failure and chronic obstructive pulmonary disease; patients with either of\n",
      "the last two conditions may not tolerate the pneumoperitoneum needed for a laparoscopic\n",
      "cholecystectomy. Previous upper abdominal surgery may make the procedure difficult. Laparoscopic\n",
      "cholecystectomy can be performed in patients with well-compensated liver cirrhosis, although there\n",
      "is an increased risk of bleeding in some patients. Conversion to an open operation is needed in\n",
      "about 5% of elective laparoscopic cholecystectomies, usually because anatomic landmarks cannot be\n",
      "seen clearly enough.\n",
      "\n",
      "Prediction (38 tokens):\n",
      " Laparoscopic cholecystectomy can be performed in patients with well-compensated liver cirrhosis.\n",
      "There is an increased risk of bleeding in some patients.\n",
      "\n",
      "Reference:\n",
      "Patients with gallbladder polyps more than 1 cm in size should be considered for cholecystectomy\n",
      "owing to the increased risk of malignancy.\n",
      "\n",
      "####################################################################################################\n",
      "\n",
      "(9781910797907, 'chp2')\n",
      "Despite being the best studied of the glycolytic enzyme disorders, gaps remain in our understanding\n",
      "of pyruvate kinase (PK) deficiency. More than 600 cases of PK deficiency have been reported, mainly\n",
      "from Europe, the USA and Japan, but the disease occurs worldwide, and it is likely that many cases\n",
      "go unreported. This may be because affected individuals die before birth, or because cases are mild\n",
      "and do not require medical attention. Alternatively, some cases may not be properly recognized, or\n",
      "they may be misdiagnosed. Given that some cases may not present with any of the findings usually\n",
      "associated with the condition, there are likely to be more cases of PK deficiency than are published\n",
      "in the literature. Patient registries have now been developed for PK deficiency, which are helping\n",
      "to characterize the range of symptoms and complications arising from this disorder.\n",
      "\n",
      "Prediction (39 tokens):\n",
      " More than 600 cases of PK deficiency have been reported, mainly from Europe, the USA and Japan. The\n",
      "disease occurs worldwide, and it is likely that many cases go unreported.\n",
      "\n",
      "Reference:\n",
      "Some mutations are seen more frequently in specific regions and populations.\n",
      "\n",
      "####################################################################################################\n",
      "\n",
      "(9781910797105, 'ch05')\n",
      "The risk is further increased if minor psychotic symptoms pre-exist and if cannabis use starts early\n",
      "in adolescence. Research suggests that this effect of cannabis may be mediated by a particular gene.\n",
      "Those with a specific version of the catechol- O -methyltransferase (COMT) gene, carried by about a\n",
      "quarter of the general population, appear to be especially prone to psychosis after cannabis use.\n",
      "Delta-9-THC, the active component of cannabis, disrupts learning and recall in schizophrenia.\n",
      "Psychosocial risk factors. There is emerging evidence for the role of non-biological risk factors in\n",
      "schizophrenia, such as the effects of urban upbringing and of ethnicity, as noted in Chapter 3.\n",
      "\n",
      "Prediction (61 tokens):\n",
      " Research suggests that this effect of cannabis may be mediated by a particular gene. Those with a\n",
      "specific version of the catechol- O -methyltransferase (COMT) gene, carried by about a quarter of\n",
      "the general population, appear to be especially prone to psychosis after cannabis use.\n",
      "\n",
      "Reference:\n",
      "Early neurodevelopmental, non-genetic risk factors exist for schizophrenia.\n",
      "\n",
      "####################################################################################################\n",
      "\n",
      "(9781908541680, 'ch_4')\n",
      "Definition of the metabolic syndrome is of value because it ensures that any patient with a single\n",
      "cardiovascular risk factor, including obesity, is screened for the others, as their presence is\n",
      "statistically highly likely and coexistent cardiometabolic risks multiply the overall risk. It also\n",
      "ensures that a patient with multiple risk factors, even those considered borderline, is managed as a\n",
      "high-risk individual. The aim of management is to tackle the syndrome as a whole, and obesity in\n",
      "particular. Management of single or even multiple cardiometabolic risk factors, for example\n",
      "hypertension or hyperlipidemia alone, or even the combination of hyperlipidemia, hyperglycemia and\n",
      "hypertension, is insufficient; the fundamental issues of excess and pathologically distributed body\n",
      "fat, exercise deficiency and a nutritionally poor diet require attention.\n",
      "\n",
      "Prediction (36 tokens):\n",
      " The aim of management is to tackle the syndrome as a whole, and obesity in particular. Management\n",
      "of single or even multiple cardiometabolic risk factors is insufficient.\n",
      "\n",
      "Reference:\n",
      "Obesity significantly affects cardiometabolic status and risk.\n",
      "\n",
      "####################################################################################################\n",
      "\n",
      "(9781908541024, 'ch_12')\n",
      "The vast majority of primary brain tumors occur sporadically, but a small number appear to be\n",
      "familial. The etiology of sporadic brain tumors is unknown, but environmental factors are suspected.\n",
      "Most patients with a family history of primary brain tumors have a hereditary disease that is known\n",
      "to be associated with such tumors, such as tuberous sclerosis, neurofibromatosis, familial polyposis\n",
      "or Li-Fraumeni syndrome. However, some patients do not have any underlying or obvious hereditary\n",
      "disorder that would predispose them to primary brain tumors, but nevertheless give a striking\n",
      "history of these tumors in first-degree relatives. Usually, the tumors are found to be high-grade\n",
      "gliomas.\n",
      "\n",
      "Prediction (40 tokens):\n",
      " The vast majority of primary brain tumors occur sporadically, but a small number appear to be\n",
      "familial. The etiology of sporadic brain tumors is unknown, but environmental factors are suspected.\n",
      "\n",
      "Reference:\n",
      "There are several syndromes associated with an inherited predisposition to a variety of brain\n",
      "tumors. However, the vast majority of brain tumors are not inherited.\n",
      "\n",
      "####################################################################################################\n",
      "\n"
     ]
    },
    {
     "name": "stdout",
     "output_type": "stream",
     "text": [
      "(9781910797211, 'ch04')\n",
      "The study started in 2000 with a median follow-up of 3 years and maximum of 7 years. During this\n",
      "time the dopamine agonists varied, including ergot agonists that are no longer in widespread use.\n",
      "The randomization to levodopa or alternative regimens was at the discretion of the clinician and a\n",
      "large part of the study was conducted in centers for the care of the elderly. The findings suggest\n",
      "relatively small but persistent benefits of starting therapy with levodopa rather than the listed\n",
      "alternatives. Interestingly, initial treatment with a MAOB inhibitor appeared to be at least as\n",
      "effective as treatment with a dopamine agonist. Patients assigned to the levodopa arm scored, on\n",
      "average, 1.8 points (95% CI 0.5-3.0) higher on the Parkinson's Disease Questionnaire-39 (PDQ-39)\n",
      "mobility subscale than those assigned to levodopa-sparing therapies; however, the effects on non-\n",
      "motor aspects of the scale are unclear. A cost-utility analysis of the study will be reported\n",
      "separately. If levodopa is used and the dose is titrated to the response, most patients initially\n",
      "need 50-100 mg three times daily to produce a consistent effect without fluctuations. Within 2-3\n",
      "years, most will need a more frequent dosage to avoid fluctuations; smaller, more frequent doses\n",
      "(every 2-3 hours) often lead to an overall increase in dose. COMT inhibitors or dopamine agonists\n",
      "can, however, be introduced instead of increasing the frequency of levodopa.\n",
      "\n",
      "Prediction (83 tokens):\n",
      " The study started in 2000 with a median follow-up of 3 years and maximum of 7 years. Patients\n",
      "assigned to the levodopa arm scored, on average, 1.8 points (95% CI 0.5-3.0) higher on the\n",
      "Parkinson's Disease Questionnaire-39 (PDQ-39) mobility subscale than those assigned to levodopa-\n",
      "sparing therapies.\n",
      "\n",
      "Reference:\n",
      "Trial data indicate that treatment of Parkinson's disease could be initiated with levodopa, oral\n",
      "dopamine agonists or a monoamine oxidase B (MAOB) inhibitor. The PD MED study seems to suggest that\n",
      "initial therapy with levodopa offers a small but persistent benefit compared with the alternatives,\n",
      "and initial MAOB inhibitor treatment is at least as effective as a dopamine agonist.\n",
      "\n",
      "####################################################################################################\n",
      "\n",
      "(9781908541963, 'chapter5')\n",
      "Liver transplantation is still the only effective treatment for advanced PBC. The indications for\n",
      "transplantation are liver failure, defined by the Model for End-Stage Liver Disease (MELD) as a\n",
      "disease severity score ranging from 4 to 40, typically above 20; severe and intractable pruritus;\n",
      "and hepatocellular carcinoma The results of liver transplantation for PBC are excellent. There is\n",
      "evidence that PBC recurs in the transplanted liver, but this phenomenon appears to be of little\n",
      "clinical relevance in the first 10-15 years after transplantation.\n",
      "\n",
      "Prediction (51 tokens):\n",
      " Liver transplantation is still the only effective treatment for advanced PBC. There is evidence\n",
      "that PBC recurs in the transplanted liver, but this phenomenon appears to be of little clinical\n",
      "relevance in the first 10-15 years after transplant.\n",
      "\n",
      "Reference:\n",
      "Liver transplantation is an excellent treatment for end-stage AIH and PBC.\n",
      "\n",
      "####################################################################################################\n",
      "\n",
      "(9781910797426, 'ch03')\n",
      "Etiology and pathogenesis. Chronic gallbladder inflammation is attributed as an etiologic factor in\n",
      "gallbladder cancer along with molecular alterations in p53 and K-ras. Inflammation may occur as a\n",
      "result of gallstones, gallbladder polyps, chronic Salmonella infection, congenital biliary cysts,\n",
      "abnormal pancreaticobiliary duct junction, carcinogen exposure and certain drugs. There are\n",
      "molecular differences between gallbladder cancers associated with gallstones and those with an\n",
      "abnormal pancreaticobiliary junction. Epidemiology and risk factors. Gallbladder carcinoma is the\n",
      "fifth most common gastrointestinal (GI) cancer in the USA and is the most common GI cancer in Native\n",
      "Americans. Incidence and mortality are very high in certain Latin American countries, especially\n",
      "Chile.\n",
      "\n",
      "Prediction (78 tokens):\n",
      " Gallbladder carcinoma is the fifth most common gastrointestinal (GI) cancer in the USA and is the\n",
      "most common GI cancer in Native Americans. Inflammation may occur as a result of gallstones,\n",
      "gallbladder polyps, chronic Salmonella infection, congenital biliary cysts, abnormal\n",
      "pancreaticobiliary duct junction, carcinogen exposure and certain drugs.\n",
      "\n",
      "Reference:\n",
      "Gallbladder cancer is the most common gastrointestinal cancer in Native Americans in the USA and\n",
      "also has a very high incidence in certain Latin American countries, particularly Chile.\n",
      "\n",
      "####################################################################################################\n",
      "\n",
      "(9781910797495, 'chp12')\n",
      "Acute headache. The immediate, important first step in assessing a new headache is determining\n",
      "whether the headache is a serious, potentially life-threatening medical event requiring emergency\n",
      "evaluation and management. All the possibilities highlighted in Table 12.1 must be entertained and\n",
      "discarded before considering the headache to be caused by a chronic headache condition. Brain\n",
      "imaging, including neurovascular studies, may be needed as well as cerebrospinal fluid (CSF)\n",
      "pressure measurement and analysis and further evaluation by a neurologist.\n",
      "\n",
      "Prediction (59 tokens):\n",
      " All the possibilities highlighted in Table 12.1 must be entertained and discarded before\n",
      "considering the headache to be caused by a chronic headache condition. Brain imaging, including\n",
      "neurovascular studies, may be needed as well as cerebrospinal fluid (CSF) pressure measurement and\n",
      "analysis.\n",
      "\n",
      "Reference:\n",
      "In patients without history of chronic headaches, determine whether an acute new headache is a\n",
      "serious, potentially life-threatening condition.\n",
      "\n",
      "####################################################################################################\n",
      "\n"
     ]
    }
   ],
   "source": [
    "print_examples([\n",
    "    'sshleifer/distilbart-cnn-12-6'],\n",
    "    df_test)"
   ]
  },
  {
   "cell_type": "code",
   "execution_count": null,
   "metadata": {},
   "outputs": [],
   "source": []
  }
 ],
 "metadata": {
  "accelerator": "GPU",
  "colab": {
   "collapsed_sections": [
    "P95DxvqWi_2Y",
    "tvSGvNzvKbvP",
    "S0FByNNOIRvG",
    "JFd0ppeJyX1o",
    "dllOnKR9Os5i",
    "U2mpXoSaQiQE",
    "k0qONrX4Qkkm",
    "JiYIkI5xN2VA",
    "KV669nVZQnzT",
    "WIiEnpvbMkJa",
    "fSqOx7kdMoNJ",
    "UTUY8QgQa2WM",
    "bKYnUXhvMszX",
    "mIcAg1ss4qIR",
    "GlnC1NYkRrQH"
   ],
   "name": "assign_bullets_para.ipynb",
   "provenance": []
  },
  "kernelspec": {
   "display_name": "Python 3",
   "language": "python",
   "name": "python3"
  },
  "language_info": {
   "codemirror_mode": {
    "name": "ipython",
    "version": 3
   },
   "file_extension": ".py",
   "mimetype": "text/x-python",
   "name": "python",
   "nbconvert_exporter": "python",
   "pygments_lexer": "ipython3",
   "version": "3.6.9"
  },
  "widgets": {
   "application/vnd.jupyter.widget-state+json": {
    "01e3a51fe914437187fb471f042cbc4e": {
     "model_module": "@jupyter-widgets/controls",
     "model_name": "HBoxModel",
     "state": {
      "_dom_classes": [],
      "_model_module": "@jupyter-widgets/controls",
      "_model_module_version": "1.5.0",
      "_model_name": "HBoxModel",
      "_view_count": null,
      "_view_module": "@jupyter-widgets/controls",
      "_view_module_version": "1.5.0",
      "_view_name": "HBoxView",
      "box_style": "",
      "children": [
       "IPY_MODEL_a503362a1d6c49958365ce7e93f4d67d",
       "IPY_MODEL_1249b68a0e2c459eae68dfede2dc5b34"
      ],
      "layout": "IPY_MODEL_9b00208076e345faaa7c1d3b38df79c4"
     }
    },
    "0795dec75e4f4a9cad293877eddef047": {
     "model_module": "@jupyter-widgets/controls",
     "model_name": "HBoxModel",
     "state": {
      "_dom_classes": [],
      "_model_module": "@jupyter-widgets/controls",
      "_model_module_version": "1.5.0",
      "_model_name": "HBoxModel",
      "_view_count": null,
      "_view_module": "@jupyter-widgets/controls",
      "_view_module_version": "1.5.0",
      "_view_name": "HBoxView",
      "box_style": "",
      "children": [
       "IPY_MODEL_cdd09db5faa14b609970f2a3d37dc430",
       "IPY_MODEL_efc306b702aa4dc0a5e6257cc71ac3aa"
      ],
      "layout": "IPY_MODEL_ec56f7bbfb29414f89c168dfdddd3465"
     }
    },
    "37bb8348b38e45b981c8e2c580de608b": {
     "model_module": "@jupyter-widgets/controls",
     "model_name": "HBoxModel",
     "state": {
      "_dom_classes": [],
      "_model_module": "@jupyter-widgets/controls",
      "_model_module_version": "1.5.0",
      "_model_name": "HBoxModel",
      "_view_count": null,
      "_view_module": "@jupyter-widgets/controls",
      "_view_module_version": "1.5.0",
      "_view_name": "HBoxView",
      "box_style": "",
      "children": [
       "IPY_MODEL_4c2fd32ed07b47a89011f42fe95af039",
       "IPY_MODEL_5d0caa7b27f044cb851b38b299d0de86"
      ],
      "layout": "IPY_MODEL_88830eabf77a4c4aa1130c37dc2ffa5d"
     }
    },
    "8ef14e9327d84807a95686427993ebcd": {
     "model_module": "@jupyter-widgets/controls",
     "model_name": "HBoxModel",
     "state": {
      "_dom_classes": [],
      "_model_module": "@jupyter-widgets/controls",
      "_model_module_version": "1.5.0",
      "_model_name": "HBoxModel",
      "_view_count": null,
      "_view_module": "@jupyter-widgets/controls",
      "_view_module_version": "1.5.0",
      "_view_name": "HBoxView",
      "box_style": "",
      "children": [
       "IPY_MODEL_3c8709747e444e2e99d5f5d4bd0c4513",
       "IPY_MODEL_8a9da00575624af09987d6936e79f41b"
      ],
      "layout": "IPY_MODEL_e0202968e0864b7ea3ce26fabdde768d"
     }
    },
    "a77961a700f2489f8af86af7aecb7a36": {
     "model_module": "@jupyter-widgets/controls",
     "model_name": "HBoxModel",
     "state": {
      "_dom_classes": [],
      "_model_module": "@jupyter-widgets/controls",
      "_model_module_version": "1.5.0",
      "_model_name": "HBoxModel",
      "_view_count": null,
      "_view_module": "@jupyter-widgets/controls",
      "_view_module_version": "1.5.0",
      "_view_name": "HBoxView",
      "box_style": "",
      "children": [
       "IPY_MODEL_23e74f006e7d44e7aee69e3a3394a37d",
       "IPY_MODEL_aa51b0fd1e9648719c0c2b39f252a199"
      ],
      "layout": "IPY_MODEL_66be567c4a0a41e086ac00af108ec408"
     }
    },
    "addb9bfe4b084b61a77f19962f2919d1": {
     "model_module": "@jupyter-widgets/controls",
     "model_name": "HBoxModel",
     "state": {
      "_dom_classes": [],
      "_model_module": "@jupyter-widgets/controls",
      "_model_module_version": "1.5.0",
      "_model_name": "HBoxModel",
      "_view_count": null,
      "_view_module": "@jupyter-widgets/controls",
      "_view_module_version": "1.5.0",
      "_view_name": "HBoxView",
      "box_style": "",
      "children": [
       "IPY_MODEL_e6baed9b364643e2a628ec2fa20eda17",
       "IPY_MODEL_1af98602915a4304a38cb231c85076b4"
      ],
      "layout": "IPY_MODEL_0fee59c682d04276b99c86a112570588"
     }
    }
   }
  }
 },
 "nbformat": 4,
 "nbformat_minor": 1
}
