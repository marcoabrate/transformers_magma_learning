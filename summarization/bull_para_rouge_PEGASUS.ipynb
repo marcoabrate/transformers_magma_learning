{
 "cells": [
  {
   "cell_type": "markdown",
   "metadata": {
    "heading_collapsed": true
   },
   "source": [
    "#### AWS"
   ]
  },
  {
   "cell_type": "code",
   "execution_count": null,
   "metadata": {
    "hidden": true
   },
   "outputs": [],
   "source": [
    "magma_dir = '/home/ubuntu/magma/'\n",
    "bucket_dir = '/home/ubuntu/s3/'\n",
    "transformers_dir = '/home/ubuntu/transformers/'\n",
    "cache_dir = bucket_dir+'.cache/'"
   ]
  },
  {
   "cell_type": "markdown",
   "metadata": {
    "id": "S0FByNNOIRvG"
   },
   "source": [
    "### **Config**"
   ]
  },
  {
   "cell_type": "code",
   "execution_count": 2,
   "metadata": {
    "executionInfo": {
     "elapsed": 45120,
     "status": "ok",
     "timestamp": 1610616895249,
     "user": {
      "displayName": "Marco Pietro Abrate",
      "photoUrl": "https://lh3.googleusercontent.com/a-/AOh14Gjh-8YF-8BlnrkN9mLZ0xfVOWfOh7kYncpYRv-Y=s64",
      "userId": "15422244832836998434"
     },
     "user_tz": -60
    },
    "id": "3BHImWfNKpDN"
   },
   "outputs": [],
   "source": [
    "import os\n",
    "import sys\n",
    "\n",
    "sys.path.insert(0, '/home/marco/epfl/magma/')\n",
    "import config\n",
    "\n",
    "from torch import cuda\n",
    "device = 'cuda' if cuda.is_available() else 'cpu'"
   ]
  },
  {
   "cell_type": "code",
   "execution_count": 3,
   "metadata": {
    "executionInfo": {
     "elapsed": 45119,
     "status": "ok",
     "timestamp": 1610616895251,
     "user": {
      "displayName": "Marco Pietro Abrate",
      "photoUrl": "https://lh3.googleusercontent.com/a-/AOh14Gjh-8YF-8BlnrkN9mLZ0xfVOWfOh7kYncpYRv-Y=s64",
      "userId": "15422244832836998434"
     },
     "user_tz": -60
    },
    "id": "82WSp6khIcua"
   },
   "outputs": [],
   "source": [
    "MODEL = 'pegasus'\n",
    "MODELS = {}"
   ]
  },
  {
   "cell_type": "code",
   "execution_count": 4,
   "metadata": {
    "executionInfo": {
     "elapsed": 45117,
     "status": "ok",
     "timestamp": 1610616895252,
     "user": {
      "displayName": "Marco Pietro Abrate",
      "photoUrl": "https://lh3.googleusercontent.com/a-/AOh14Gjh-8YF-8BlnrkN9mLZ0xfVOWfOh7kYncpYRv-Y=s64",
      "userId": "15422244832836998434"
     },
     "user_tz": -60
    },
    "id": "5ti6XKYnFzSr"
   },
   "outputs": [],
   "source": [
    "# Dataset path\n",
    "data_dir = config.MAGMA_DIR + 'datasets/karger_books_para_rouge/'+MODEL+'/'"
   ]
  },
  {
   "cell_type": "markdown",
   "metadata": {
    "heading_collapsed": true
   },
   "source": [
    "#### AWS"
   ]
  },
  {
   "cell_type": "code",
   "execution_count": null,
   "metadata": {
    "hidden": true
   },
   "outputs": [],
   "source": [
    "data_dir = bucket_dir + 'datasets/karger_books_para_rouge/'+MODEL+'/'"
   ]
  },
  {
   "cell_type": "markdown",
   "metadata": {
    "id": "JFd0ppeJyX1o"
   },
   "source": [
    "### **Init**"
   ]
  },
  {
   "cell_type": "code",
   "execution_count": 5,
   "metadata": {
    "executionInfo": {
     "elapsed": 45115,
     "status": "ok",
     "timestamp": 1610616895253,
     "user": {
      "displayName": "Marco Pietro Abrate",
      "photoUrl": "https://lh3.googleusercontent.com/a-/AOh14Gjh-8YF-8BlnrkN9mLZ0xfVOWfOh7kYncpYRv-Y=s64",
      "userId": "15422244832836998434"
     },
     "user_tz": -60
    },
    "id": "yCzod0OizR5U"
   },
   "outputs": [],
   "source": [
    "import matplotlib.pyplot as plt\n",
    "import numpy as np\n",
    "import torch\n",
    "import re\n",
    "import pandas as pd\n",
    "from tqdm import tqdm\n",
    "from textwrap import fill\n",
    "tqdm.pandas()"
   ]
  },
  {
   "cell_type": "markdown",
   "metadata": {
    "id": "dllOnKR9Os5i"
   },
   "source": [
    "### **Function Definition**"
   ]
  },
  {
   "cell_type": "markdown",
   "metadata": {
    "heading_collapsed": true,
    "id": "U2mpXoSaQiQE"
   },
   "source": [
    "##### Import Model and Tok"
   ]
  },
  {
   "cell_type": "code",
   "execution_count": 6,
   "metadata": {
    "executionInfo": {
     "elapsed": 45113,
     "status": "ok",
     "timestamp": 1610616895255,
     "user": {
      "displayName": "Marco Pietro Abrate",
      "photoUrl": "https://lh3.googleusercontent.com/a-/AOh14Gjh-8YF-8BlnrkN9mLZ0xfVOWfOh7kYncpYRv-Y=s64",
      "userId": "15422244832836998434"
     },
     "user_tz": -60
    },
    "hidden": true,
    "id": "XhBGMJVFOs5l"
   },
   "outputs": [],
   "source": [
    "def import_model_tok(model_name_or_path, verbose=False):\n",
    "    global MODELS\n",
    "\n",
    "    if model_name_or_path in MODELS.keys():\n",
    "        if verbose : print('[+] model already present in cache\\n')\n",
    "        return MODELS[model_name_or_path]\n",
    "    if verbose : print('[*] importing the model\\n')\n",
    "\n",
    "    if 'bart' in MODEL:\n",
    "        from transformers import BartForConditionalGeneration, BartTokenizer\n",
    "\n",
    "        model = BartForConditionalGeneration.from_pretrained(model_name_or_path)\n",
    "        tokenizer = BartTokenizer.from_pretrained(model_name_or_path)\n",
    "    elif 'pegasus' in MODEL:\n",
    "        from transformers import PegasusForConditionalGeneration, PegasusTokenizer\n",
    "\n",
    "        model = PegasusForConditionalGeneration.from_pretrained(model_name_or_path)\n",
    "        tokenizer = PegasusTokenizer.from_pretrained(model_name_or_path)\n",
    "\n",
    "    if verbose : print(model.config)\n",
    "    MODELS[model_name_or_path] = model, tokenizer\n",
    "    if verbose : print('[+] the model is now present in cache\\n')\n",
    "    return MODELS[model_name_or_path]"
   ]
  },
  {
   "cell_type": "markdown",
   "metadata": {
    "heading_collapsed": true,
    "id": "JiYIkI5xN2VA"
   },
   "source": [
    "##### Print Examples"
   ]
  },
  {
   "cell_type": "code",
   "execution_count": 7,
   "metadata": {
    "executionInfo": {
     "elapsed": 45112,
     "status": "ok",
     "timestamp": 1610616895257,
     "user": {
      "displayName": "Marco Pietro Abrate",
      "photoUrl": "https://lh3.googleusercontent.com/a-/AOh14Gjh-8YF-8BlnrkN9mLZ0xfVOWfOh7kYncpYRv-Y=s64",
      "userId": "15422244832836998434"
     },
     "user_tz": -60
    },
    "hidden": true,
    "id": "dxsXYs1kN5HX"
   },
   "outputs": [],
   "source": [
    "def print_examples(model_name_list, df, n_examples=10):\n",
    "    \n",
    "    df_examples = df.sample(n_examples, axis='index', random_state=config.SEED)\n",
    "    \n",
    "    for idx, row in df_examples.iterrows():\n",
    "        print(idx)\n",
    "        print(fill(row.text, 100))\n",
    "        print()\n",
    "        for model_name in model_name_list:\n",
    "            model, tokenizer = import_model_tok(model_name)\n",
    "            model = model.to(device)\n",
    "            \n",
    "            summ_enc = model.generate(\n",
    "                tokenizer.encode(row.text, return_tensors='pt').to(device),\n",
    "                min_length = config.ONE_BULLET_MIN_LEN,\n",
    "                max_length = config.ONE_BULLET_MAX_LEN,\n",
    "                length_penalty = config.LENGTH_PENALTY,\n",
    "                num_beams = config.NUM_BEAMS,\n",
    "                no_repeat_ngram_size = config.NO_REPEAT_NGRAM_SIZE,\n",
    "                early_stopping = True)[0]\n",
    "            summ_num_tok = len(summ_enc)\n",
    "            summ = tokenizer.decode(summ_enc, skip_special_tokens=True)\n",
    "\n",
    "            print('Prediction\\n%s (%d tok):\\n'%(model_name, summ_num_tok))\n",
    "            print(fill(summ, 100))\n",
    "            print()\n",
    "            \n",
    "        print('Reference:')\n",
    "        print(fill(row.bullets, 100))\n",
    "        print()\n",
    "        print(''.join(['#']*100))\n",
    "        print()"
   ]
  },
  {
   "cell_type": "markdown",
   "metadata": {
    "id": "vb_MdivVauzb"
   },
   "source": [
    "## **Karger Books Para**"
   ]
  },
  {
   "cell_type": "code",
   "execution_count": 10,
   "metadata": {
    "executionInfo": {
     "elapsed": 18765,
     "status": "ok",
     "timestamp": 1610616898502,
     "user": {
      "displayName": "Marco Pietro Abrate",
      "photoUrl": "https://lh3.googleusercontent.com/a-/AOh14Gjh-8YF-8BlnrkN9mLZ0xfVOWfOh7kYncpYRv-Y=s64",
      "userId": "15422244832836998434"
     },
     "user_tz": -60
    },
    "id": "K98cwOLys0XX"
   },
   "outputs": [],
   "source": [
    "df_train = pd.read_csv(data_dir + 'train.csv').set_index(['book', 'chapter'])\n",
    "df_val = pd.read_csv(data_dir + 'val.csv').set_index(['book', 'chapter'])\n",
    "df_test = pd.read_csv(data_dir + 'test.csv').set_index(['book', 'chapter'])"
   ]
  },
  {
   "cell_type": "markdown",
   "metadata": {
    "id": "dpNmnjXn3u2U"
   },
   "source": [
    "### **Print and Summarization**"
   ]
  },
  {
   "cell_type": "markdown",
   "metadata": {
    "heading_collapsed": true,
    "id": "WIiEnpvbMkJa"
   },
   "source": [
    "##### Print Train Examples"
   ]
  },
  {
   "cell_type": "code",
   "execution_count": null,
   "metadata": {
    "colab": {
     "base_uri": "https://localhost:8080/",
     "height": 1000,
     "referenced_widgets": [
      "addb9bfe4b084b61a77f19962f2919d1",
      "01e3a51fe914437187fb471f042cbc4e",
      "8ef14e9327d84807a95686427993ebcd",
      "0795dec75e4f4a9cad293877eddef047",
      "37bb8348b38e45b981c8e2c580de608b"
     ]
    },
    "executionInfo": {
     "elapsed": 78849,
     "status": "ok",
     "timestamp": 1610617032580,
     "user": {
      "displayName": "Marco Pietro Abrate",
      "photoUrl": "https://lh3.googleusercontent.com/a-/AOh14Gjh-8YF-8BlnrkN9mLZ0xfVOWfOh7kYncpYRv-Y=s64",
      "userId": "15422244832836998434"
     },
     "user_tz": -60
    },
    "hidden": true,
    "id": "wgZKNh2f3u2l",
    "outputId": "fabe9770-ee41-42bc-9726-a13e121e11ab",
    "scrolled": true
   },
   "outputs": [],
   "source": [
    "print_examples([\n",
    "    'google/pegasus-large'],\n",
    "    df_train)"
   ]
  },
  {
   "cell_type": "markdown",
   "metadata": {
    "heading_collapsed": true,
    "id": "fSqOx7kdMoNJ"
   },
   "source": [
    "##### Print Val Examples"
   ]
  },
  {
   "cell_type": "code",
   "execution_count": null,
   "metadata": {
    "colab": {
     "base_uri": "https://localhost:8080/"
    },
    "executionInfo": {
     "elapsed": 7134,
     "status": "ok",
     "timestamp": 1610617100643,
     "user": {
      "displayName": "Marco Pietro Abrate",
      "photoUrl": "https://lh3.googleusercontent.com/a-/AOh14Gjh-8YF-8BlnrkN9mLZ0xfVOWfOh7kYncpYRv-Y=s64",
      "userId": "15422244832836998434"
     },
     "user_tz": -60
    },
    "hidden": true,
    "id": "f7k8RzJgMoNK",
    "outputId": "34bc6750-7383-42d4-8a7a-f30b9e35a3bb",
    "scrolled": true
   },
   "outputs": [],
   "source": [
    "print_examples([\n",
    "    'google/pegasus-large'],\n",
    "    df_val)"
   ]
  },
  {
   "cell_type": "markdown",
   "metadata": {
    "id": "UTUY8QgQa2WM"
   },
   "source": [
    "##### Print Test Examples"
   ]
  },
  {
   "cell_type": "code",
   "execution_count": null,
   "metadata": {
    "colab": {
     "base_uri": "https://localhost:8080/"
    },
    "executionInfo": {
     "elapsed": 7745,
     "status": "ok",
     "timestamp": 1610617121036,
     "user": {
      "displayName": "Marco Pietro Abrate",
      "photoUrl": "https://lh3.googleusercontent.com/a-/AOh14Gjh-8YF-8BlnrkN9mLZ0xfVOWfOh7kYncpYRv-Y=s64",
      "userId": "15422244832836998434"
     },
     "user_tz": -60
    },
    "id": "D9rpcejOa2WO",
    "outputId": "c86cf9ed-eca7-4f92-ce7a-91f8661fdd29",
    "scrolled": true
   },
   "outputs": [],
   "source": [
    "print_examples([\n",
    "    'google/pegasus-large'],\n",
    "    df_test)"
   ]
  },
  {
   "cell_type": "code",
   "execution_count": null,
   "metadata": {},
   "outputs": [],
   "source": []
  }
 ],
 "metadata": {
  "accelerator": "GPU",
  "colab": {
   "collapsed_sections": [
    "P95DxvqWi_2Y",
    "tvSGvNzvKbvP",
    "S0FByNNOIRvG",
    "JFd0ppeJyX1o",
    "dllOnKR9Os5i",
    "U2mpXoSaQiQE",
    "k0qONrX4Qkkm",
    "JiYIkI5xN2VA",
    "KV669nVZQnzT",
    "WIiEnpvbMkJa",
    "fSqOx7kdMoNJ",
    "UTUY8QgQa2WM",
    "bKYnUXhvMszX",
    "mIcAg1ss4qIR",
    "GlnC1NYkRrQH"
   ],
   "name": "assign_bullets_para.ipynb",
   "provenance": []
  },
  "kernelspec": {
   "display_name": "Python 3",
   "language": "python",
   "name": "python3"
  },
  "language_info": {
   "codemirror_mode": {
    "name": "ipython",
    "version": 3
   },
   "file_extension": ".py",
   "mimetype": "text/x-python",
   "name": "python",
   "nbconvert_exporter": "python",
   "pygments_lexer": "ipython3",
   "version": "3.6.9"
  },
  "widgets": {
   "application/vnd.jupyter.widget-state+json": {
    "01e3a51fe914437187fb471f042cbc4e": {
     "model_module": "@jupyter-widgets/controls",
     "model_name": "HBoxModel",
     "state": {
      "_dom_classes": [],
      "_model_module": "@jupyter-widgets/controls",
      "_model_module_version": "1.5.0",
      "_model_name": "HBoxModel",
      "_view_count": null,
      "_view_module": "@jupyter-widgets/controls",
      "_view_module_version": "1.5.0",
      "_view_name": "HBoxView",
      "box_style": "",
      "children": [
       "IPY_MODEL_a503362a1d6c49958365ce7e93f4d67d",
       "IPY_MODEL_1249b68a0e2c459eae68dfede2dc5b34"
      ],
      "layout": "IPY_MODEL_9b00208076e345faaa7c1d3b38df79c4"
     }
    },
    "0795dec75e4f4a9cad293877eddef047": {
     "model_module": "@jupyter-widgets/controls",
     "model_name": "HBoxModel",
     "state": {
      "_dom_classes": [],
      "_model_module": "@jupyter-widgets/controls",
      "_model_module_version": "1.5.0",
      "_model_name": "HBoxModel",
      "_view_count": null,
      "_view_module": "@jupyter-widgets/controls",
      "_view_module_version": "1.5.0",
      "_view_name": "HBoxView",
      "box_style": "",
      "children": [
       "IPY_MODEL_cdd09db5faa14b609970f2a3d37dc430",
       "IPY_MODEL_efc306b702aa4dc0a5e6257cc71ac3aa"
      ],
      "layout": "IPY_MODEL_ec56f7bbfb29414f89c168dfdddd3465"
     }
    },
    "37bb8348b38e45b981c8e2c580de608b": {
     "model_module": "@jupyter-widgets/controls",
     "model_name": "HBoxModel",
     "state": {
      "_dom_classes": [],
      "_model_module": "@jupyter-widgets/controls",
      "_model_module_version": "1.5.0",
      "_model_name": "HBoxModel",
      "_view_count": null,
      "_view_module": "@jupyter-widgets/controls",
      "_view_module_version": "1.5.0",
      "_view_name": "HBoxView",
      "box_style": "",
      "children": [
       "IPY_MODEL_4c2fd32ed07b47a89011f42fe95af039",
       "IPY_MODEL_5d0caa7b27f044cb851b38b299d0de86"
      ],
      "layout": "IPY_MODEL_88830eabf77a4c4aa1130c37dc2ffa5d"
     }
    },
    "8ef14e9327d84807a95686427993ebcd": {
     "model_module": "@jupyter-widgets/controls",
     "model_name": "HBoxModel",
     "state": {
      "_dom_classes": [],
      "_model_module": "@jupyter-widgets/controls",
      "_model_module_version": "1.5.0",
      "_model_name": "HBoxModel",
      "_view_count": null,
      "_view_module": "@jupyter-widgets/controls",
      "_view_module_version": "1.5.0",
      "_view_name": "HBoxView",
      "box_style": "",
      "children": [
       "IPY_MODEL_3c8709747e444e2e99d5f5d4bd0c4513",
       "IPY_MODEL_8a9da00575624af09987d6936e79f41b"
      ],
      "layout": "IPY_MODEL_e0202968e0864b7ea3ce26fabdde768d"
     }
    },
    "a77961a700f2489f8af86af7aecb7a36": {
     "model_module": "@jupyter-widgets/controls",
     "model_name": "HBoxModel",
     "state": {
      "_dom_classes": [],
      "_model_module": "@jupyter-widgets/controls",
      "_model_module_version": "1.5.0",
      "_model_name": "HBoxModel",
      "_view_count": null,
      "_view_module": "@jupyter-widgets/controls",
      "_view_module_version": "1.5.0",
      "_view_name": "HBoxView",
      "box_style": "",
      "children": [
       "IPY_MODEL_23e74f006e7d44e7aee69e3a3394a37d",
       "IPY_MODEL_aa51b0fd1e9648719c0c2b39f252a199"
      ],
      "layout": "IPY_MODEL_66be567c4a0a41e086ac00af108ec408"
     }
    },
    "addb9bfe4b084b61a77f19962f2919d1": {
     "model_module": "@jupyter-widgets/controls",
     "model_name": "HBoxModel",
     "state": {
      "_dom_classes": [],
      "_model_module": "@jupyter-widgets/controls",
      "_model_module_version": "1.5.0",
      "_model_name": "HBoxModel",
      "_view_count": null,
      "_view_module": "@jupyter-widgets/controls",
      "_view_module_version": "1.5.0",
      "_view_name": "HBoxView",
      "box_style": "",
      "children": [
       "IPY_MODEL_e6baed9b364643e2a628ec2fa20eda17",
       "IPY_MODEL_1af98602915a4304a38cb231c85076b4"
      ],
      "layout": "IPY_MODEL_0fee59c682d04276b99c86a112570588"
     }
    }
   }
  }
 },
 "nbformat": 4,
 "nbformat_minor": 1
}
