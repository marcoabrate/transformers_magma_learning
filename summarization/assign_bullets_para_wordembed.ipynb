{
 "cells": [
  {
   "cell_type": "code",
   "execution_count": 1,
   "metadata": {
    "executionInfo": {
     "elapsed": 18956,
     "status": "ok",
     "timestamp": 1610616869075,
     "user": {
      "displayName": "Marco Pietro Abrate",
      "photoUrl": "https://lh3.googleusercontent.com/a-/AOh14Gjh-8YF-8BlnrkN9mLZ0xfVOWfOh7kYncpYRv-Y=s64",
      "userId": "15422244832836998434"
     },
     "user_tz": -60
    },
    "id": "au5Z9XQAC7C-"
   },
   "outputs": [],
   "source": [
    "magma_dir = '/home/marco/epfl/magma/'"
   ]
  },
  {
   "cell_type": "markdown",
   "metadata": {
    "id": "S0FByNNOIRvG"
   },
   "source": [
    "### **Config**"
   ]
  },
  {
   "cell_type": "code",
   "execution_count": 2,
   "metadata": {
    "executionInfo": {
     "elapsed": 45120,
     "status": "ok",
     "timestamp": 1610616895249,
     "user": {
      "displayName": "Marco Pietro Abrate",
      "photoUrl": "https://lh3.googleusercontent.com/a-/AOh14Gjh-8YF-8BlnrkN9mLZ0xfVOWfOh7kYncpYRv-Y=s64",
      "userId": "15422244832836998434"
     },
     "user_tz": -60
    },
    "id": "3BHImWfNKpDN"
   },
   "outputs": [],
   "source": [
    "import os\n",
    "import sys\n",
    "\n",
    "sys.path.insert(0, magma_dir)\n",
    "import config\n",
    "\n",
    "from torch import cuda\n",
    "device = 'cuda' if cuda.is_available() else 'cpu'"
   ]
  },
  {
   "cell_type": "code",
   "execution_count": 3,
   "metadata": {
    "executionInfo": {
     "elapsed": 45119,
     "status": "ok",
     "timestamp": 1610616895251,
     "user": {
      "displayName": "Marco Pietro Abrate",
      "photoUrl": "https://lh3.googleusercontent.com/a-/AOh14Gjh-8YF-8BlnrkN9mLZ0xfVOWfOh7kYncpYRv-Y=s64",
      "userId": "15422244832836998434"
     },
     "user_tz": -60
    },
    "id": "82WSp6khIcua"
   },
   "outputs": [],
   "source": [
    "MODEL = 'bart'\n",
    "MODELS = {}"
   ]
  },
  {
   "cell_type": "code",
   "execution_count": 4,
   "metadata": {
    "executionInfo": {
     "elapsed": 45117,
     "status": "ok",
     "timestamp": 1610616895252,
     "user": {
      "displayName": "Marco Pietro Abrate",
      "photoUrl": "https://lh3.googleusercontent.com/a-/AOh14Gjh-8YF-8BlnrkN9mLZ0xfVOWfOh7kYncpYRv-Y=s64",
      "userId": "15422244832836998434"
     },
     "user_tz": -60
    },
    "id": "5ti6XKYnFzSr"
   },
   "outputs": [],
   "source": [
    "# Dataset path\n",
    "data_dir = magma_dir + 'datasets/karger_books_para_wordembed/'+MODEL+'/'\n",
    "\n",
    "# Output path\n",
    "OUTPUT_PATH = magma_dir+'summarization/assign_bullets_para_wordembed/'+MODEL+'/'\n",
    "if not os.path.exists(OUTPUT_PATH):\n",
    "    os.makedirs(OUTPUT_PATH)"
   ]
  },
  {
   "cell_type": "markdown",
   "metadata": {
    "id": "JFd0ppeJyX1o"
   },
   "source": [
    "### **Init**"
   ]
  },
  {
   "cell_type": "code",
   "execution_count": 5,
   "metadata": {
    "executionInfo": {
     "elapsed": 45115,
     "status": "ok",
     "timestamp": 1610616895253,
     "user": {
      "displayName": "Marco Pietro Abrate",
      "photoUrl": "https://lh3.googleusercontent.com/a-/AOh14Gjh-8YF-8BlnrkN9mLZ0xfVOWfOh7kYncpYRv-Y=s64",
      "userId": "15422244832836998434"
     },
     "user_tz": -60
    },
    "id": "yCzod0OizR5U"
   },
   "outputs": [],
   "source": [
    "import matplotlib.pyplot as plt\n",
    "import numpy as np\n",
    "import torch\n",
    "import re\n",
    "import pandas as pd\n",
    "from tqdm import tqdm\n",
    "from textwrap import fill\n",
    "tqdm.pandas()"
   ]
  },
  {
   "cell_type": "markdown",
   "metadata": {
    "id": "dllOnKR9Os5i"
   },
   "source": [
    "### **Function Definition**"
   ]
  },
  {
   "cell_type": "markdown",
   "metadata": {
    "heading_collapsed": true,
    "id": "U2mpXoSaQiQE"
   },
   "source": [
    "##### Import Model and Tok"
   ]
  },
  {
   "cell_type": "code",
   "execution_count": 17,
   "metadata": {
    "executionInfo": {
     "elapsed": 45113,
     "status": "ok",
     "timestamp": 1610616895255,
     "user": {
      "displayName": "Marco Pietro Abrate",
      "photoUrl": "https://lh3.googleusercontent.com/a-/AOh14Gjh-8YF-8BlnrkN9mLZ0xfVOWfOh7kYncpYRv-Y=s64",
      "userId": "15422244832836998434"
     },
     "user_tz": -60
    },
    "hidden": true,
    "id": "XhBGMJVFOs5l"
   },
   "outputs": [],
   "source": [
    "def import_model_tok(model_name_or_path, verbose=False):\n",
    "    global MODELS\n",
    "\n",
    "    if model_name_or_path in MODELS.keys():\n",
    "        if verbose : print('[+] model already present in cache\\n')\n",
    "        return MODELS[model_name_or_path]\n",
    "    if verbose : print('[*] importing the model\\n')\n",
    "\n",
    "    if 'bart' in MODEL:\n",
    "        from transformers import BartForConditionalGeneration, BartTokenizer\n",
    "\n",
    "        model = BartForConditionalGeneration.from_pretrained(model_name_or_path)\n",
    "        tokenizer = BartTokenizer.from_pretrained(model_name_or_path)\n",
    "    elif 'pegasus' in MODEL:\n",
    "        from transformers import PegasusForConditionalGeneration, PegasusTokenizer\n",
    "\n",
    "        model = PegasusForConditionalGeneration.from_pretrained(model_name_or_path)\n",
    "        tokenizer = PegasusTokenizer.from_pretrained(model_name_or_path)\n",
    "\n",
    "    if verbose : print(model.config)\n",
    "    MODELS[model_name_or_path] = model, tokenizer\n",
    "    if verbose : print('[+] the model is now present in cache\\n')\n",
    "    return MODELS[model_name_or_path]"
   ]
  },
  {
   "cell_type": "markdown",
   "metadata": {
    "heading_collapsed": true,
    "id": "JiYIkI5xN2VA"
   },
   "source": [
    "##### Print Examples"
   ]
  },
  {
   "cell_type": "code",
   "execution_count": 19,
   "metadata": {
    "executionInfo": {
     "elapsed": 45112,
     "status": "ok",
     "timestamp": 1610616895257,
     "user": {
      "displayName": "Marco Pietro Abrate",
      "photoUrl": "https://lh3.googleusercontent.com/a-/AOh14Gjh-8YF-8BlnrkN9mLZ0xfVOWfOh7kYncpYRv-Y=s64",
      "userId": "15422244832836998434"
     },
     "user_tz": -60
    },
    "hidden": true,
    "id": "dxsXYs1kN5HX"
   },
   "outputs": [],
   "source": [
    "def print_examples(model_name_list, df, n_examples=10):\n",
    "    \n",
    "    df_examples = df.sample(n_examples, axis='index', random_state=config.SEED)\n",
    "    \n",
    "    for idx, row in df_examples.iterrows():\n",
    "        print(idx)\n",
    "        print(fill(row.text, 100))\n",
    "        print()\n",
    "        for model_name in model_name_list:\n",
    "            model, tokenizer = import_model_tok(model_name)\n",
    "            model = model.to(device)\n",
    "            \n",
    "            summ_enc = model.generate(\n",
    "                tokenizer.encode(row.text, return_tensors='pt').to(device),\n",
    "                min_length = config.ONE_BULLET_MIN_LEN,\n",
    "                max_length = config.ONE_BULLET_MAX_LEN,\n",
    "                length_penalty = config.LENGTH_PENALTY,\n",
    "                num_beams = config.NUM_BEAMS,\n",
    "                no_repeat_ngram_size = config.NO_REPEAT_NGRAM_SIZE,\n",
    "                early_stopping = True)[0]\n",
    "            summ_num_tok = len(summ_enc)\n",
    "            summ = tokenizer.decode(summ_enc, skip_special_tokens=True)\n",
    "\n",
    "            print('Prediction\\n%s (%d tok):'%(model_name, summ_num_tok))\n",
    "            print(fill(summ, 100))\n",
    "            print()\n",
    "            \n",
    "        print('Reference:')\n",
    "        print(fill(row.bullets, 100))\n",
    "        print()\n",
    "        print(''.join(['#']*100))\n",
    "        print()"
   ]
  },
  {
   "cell_type": "markdown",
   "metadata": {
    "heading_collapsed": true,
    "id": "KV669nVZQnzT"
   },
   "source": [
    "##### Plot Evaluation"
   ]
  },
  {
   "cell_type": "code",
   "execution_count": 8,
   "metadata": {
    "executionInfo": {
     "elapsed": 45379,
     "status": "ok",
     "timestamp": 1610616895526,
     "user": {
      "displayName": "Marco Pietro Abrate",
      "photoUrl": "https://lh3.googleusercontent.com/a-/AOh14Gjh-8YF-8BlnrkN9mLZ0xfVOWfOh7kYncpYRv-Y=s64",
      "userId": "15422244832836998434"
     },
     "user_tz": -60
    },
    "hidden": true,
    "id": "PrKd0tI7PBi5"
   },
   "outputs": [],
   "source": [
    "def plot_evaluation(model_name_or_path):\n",
    "    df = pd.read_csv(OUTPUT_PATH+model_name_or_path.replace('/', '?')+'.csv').set_index(['book', 'chapter'])\n",
    "\n",
    "    prf = ['precision', 'recall', 'fmeasure']\n",
    "    num_rouge = len(config.ROUGE_TYPES)\n",
    "\n",
    "    from matplotlib.cm import get_cmap\n",
    "    color = get_cmap('tab10')(range(num_rouge))\n",
    "    def set_box_color(b, c):\n",
    "        for k in b.keys():\n",
    "            plt.setp(b[k], color=c)\n",
    "    \n",
    "    xticks = 2*np.array(np.arange(1, num_rouge+1))\n",
    "    \n",
    "    box_plt_list = []\n",
    "\n",
    "    fig, ax = plt.subplots(figsize=(10, 6))\n",
    "    for r, var in zip(prf, np.linspace(-0.15*num_rouge, 0.15*num_rouge, num_rouge)):\n",
    "    \n",
    "        box_plt_list.append(\n",
    "            plt.boxplot(\n",
    "            [df[rouge+'_'+r+'_'+model_name_or_path].tolist() for rouge in config.ROUGE_TYPES],\n",
    "            positions= xticks+var,\n",
    "            sym='+',\n",
    "            widths=0.4,\n",
    "            patch_artist=False,\n",
    "            meanline=True,\n",
    "            showmeans=True))\n",
    "\n",
    "    for i, bp in enumerate(box_plt_list):\n",
    "        set_box_color(bp, color[i])\n",
    "        plt.plot([], c=color[i], label=prf[i])\n",
    "    plt.legend()\n",
    "\n",
    "    ax.grid(True, axis='y', alpha=0.7, linestyle='--')\n",
    "    ax.set_title('Evaluation Results', fontsize='xx-large')\n",
    "    ax.set_ylabel('Rouge', fontsize='x-large')\n",
    "    plt.xticks(xticks, config.ROUGE_TYPES, fontsize='x-large')\n",
    "    plt.show()"
   ]
  },
  {
   "cell_type": "code",
   "execution_count": null,
   "metadata": {
    "hidden": true
   },
   "outputs": [],
   "source": [
    "def plot_evaluation_bullet_by_bullet(model_name_or_path):\n",
    "    df = pd.read_csv(OUTPUT_PATH+model_name_or_path.replace('/', '?')+\\\n",
    "        '_bullet_by_bullet.csv').set_index(['book', 'chapter'])\n",
    "\n",
    "    prf = ['precision', 'recall', 'fmeasure']\n",
    "    num_rouge = len(config.ROUGE_TYPES)\n",
    "\n",
    "    from matplotlib.cm import get_cmap\n",
    "    color = get_cmap('tab10')(range(num_rouge))\n",
    "    def set_box_color(b, c):\n",
    "        for k in b.keys():\n",
    "            plt.setp(b[k], color=c)\n",
    "    \n",
    "    xticks = 2*np.array(np.arange(1, num_rouge+1))\n",
    "    \n",
    "    box_plt_list = []\n",
    "\n",
    "    fig, ax = plt.subplots(figsize=(10, 6))\n",
    "    for r, var in zip(prf, np.linspace(-0.15*num_rouge, 0.15*num_rouge, num_rouge)):\n",
    "    \n",
    "        box_plt_list.append(\n",
    "            plt.boxplot(\n",
    "            [df[rouge+'_'+r+'_'+model_name_or_path].tolist() for rouge in config.ROUGE_TYPES],\n",
    "            positions= xticks+var,\n",
    "            sym='+',\n",
    "            widths=0.4,\n",
    "            patch_artist=False,\n",
    "            meanline=True,\n",
    "            showmeans=True))\n",
    "\n",
    "    for i, bp in enumerate(box_plt_list):\n",
    "        set_box_color(bp, color[i])\n",
    "        plt.plot([], c=color[i], label=prf[i])\n",
    "    plt.legend()\n",
    "\n",
    "    ax.grid(True, axis='y', alpha=0.7, linestyle='--')\n",
    "    ax.set_title('Evaluation Results', fontsize='xx-large')\n",
    "    ax.set_ylabel('Rouge', fontsize='x-large')\n",
    "    plt.xticks(xticks, config.ROUGE_TYPES, fontsize='x-large')\n",
    "    plt.show()"
   ]
  },
  {
   "cell_type": "markdown",
   "metadata": {
    "id": "vb_MdivVauzb"
   },
   "source": [
    "## **Sentence-Transformers**"
   ]
  },
  {
   "cell_type": "code",
   "execution_count": 9,
   "metadata": {},
   "outputs": [],
   "source": [
    "data_dir_st = data_dir + 'st/'"
   ]
  },
  {
   "cell_type": "code",
   "execution_count": 10,
   "metadata": {
    "executionInfo": {
     "elapsed": 18765,
     "status": "ok",
     "timestamp": 1610616898502,
     "user": {
      "displayName": "Marco Pietro Abrate",
      "photoUrl": "https://lh3.googleusercontent.com/a-/AOh14Gjh-8YF-8BlnrkN9mLZ0xfVOWfOh7kYncpYRv-Y=s64",
      "userId": "15422244832836998434"
     },
     "user_tz": -60
    },
    "id": "K98cwOLys0XX"
   },
   "outputs": [],
   "source": [
    "df_train = pd.read_csv(data_dir_st + 'train.csv').set_index(['book', 'chapter'])\n",
    "df_val = pd.read_csv(data_dir_st + 'val.csv').set_index(['book', 'chapter'])\n",
    "df_test = pd.read_csv(data_dir_st + 'test.csv').set_index(['book', 'chapter'])"
   ]
  },
  {
   "cell_type": "markdown",
   "metadata": {
    "id": "dpNmnjXn3u2U"
   },
   "source": [
    "### **Print and Summarization**"
   ]
  },
  {
   "cell_type": "markdown",
   "metadata": {
    "id": "WIiEnpvbMkJa"
   },
   "source": [
    "##### Print Train Examples"
   ]
  },
  {
   "cell_type": "code",
   "execution_count": 20,
   "metadata": {
    "colab": {
     "base_uri": "https://localhost:8080/",
     "height": 1000,
     "referenced_widgets": [
      "addb9bfe4b084b61a77f19962f2919d1",
      "01e3a51fe914437187fb471f042cbc4e",
      "8ef14e9327d84807a95686427993ebcd",
      "0795dec75e4f4a9cad293877eddef047",
      "37bb8348b38e45b981c8e2c580de608b"
     ]
    },
    "executionInfo": {
     "elapsed": 78849,
     "status": "ok",
     "timestamp": 1610617032580,
     "user": {
      "displayName": "Marco Pietro Abrate",
      "photoUrl": "https://lh3.googleusercontent.com/a-/AOh14Gjh-8YF-8BlnrkN9mLZ0xfVOWfOh7kYncpYRv-Y=s64",
      "userId": "15422244832836998434"
     },
     "user_tz": -60
    },
    "id": "wgZKNh2f3u2l",
    "outputId": "fabe9770-ee41-42bc-9726-a13e121e11ab",
    "scrolled": true
   },
   "outputs": [
    {
     "name": "stdout",
     "output_type": "stream",
     "text": [
      "(9781912776696, 'hh-5')\n",
      "Kaplan-Meier curves provide a way of plotting the distribution of a time-to-event endpoint. In\n",
      "Figure 2.1 the dashed line shows that at 24 months' follow-up the estimated survival probability is\n",
      "54%. Kaplan-Meier survival curves are often used to compare the data between two groups of subjects.\n",
      "Figure 2.2 shows Kaplan-Meier curves for OS in a randomized study of patients with human epidermal\n",
      "growth factor receptor 2 (HER2)-positive metastatic breast cancer treated either with or without\n",
      "trastuzumab. The Kaplan-Meier curve steps down at time points at which deaths occur, while censored\n",
      "observations are denoted by notches on the curve. In this study, the follow-up period ranged from 3\n",
      "months to 74 months.\n",
      "\n",
      "Prediction\n",
      "sshleifer/distilbart-cnn-12-6 (66 tok):\n",
      " Kaplan-Meier survival curves are often used to compare the data between two groups of subjects.\n",
      "Figure 2.2 shows Kaplan-Meier curves for OS in a randomized study of patients with human epidermal\n",
      "growth factor receptor 2-positive metastatic breast cancer treated either with or without\n",
      "trastuzumab.\n",
      "\n",
      "Prediction\n",
      "/home/marco/epfl/magma/fine-tuning/sshleifer?distilbart-cnn-12-6_karger_books_para_wordembed_train/ (25 tok):\n",
      "Kaplan-Meier curves provide a way of plotting the distribution of a time-to-event endpoint.\n",
      "\n",
      "Reference:\n",
      "Kaplan-Meier curves plot the probability of being event free over time. The curves from different\n",
      "treatment groups can be plotted against each other to show the differences in outcome.\n",
      "\n",
      "####################################################################################################\n",
      "\n",
      "(9781908541062, 'ch_9')\n",
      "The traditional 'pyramid' approach to the treatment of RA was to begin with symptomatic treatment of\n",
      "inflammation using NSAIDs in addition to rest and corticosteroid injections. If the disease did not\n",
      "significantly improve with these simple treatments, then more potent DMARDs were added. It is now\n",
      "clear, however, that effective therapy early in the course of RA results in a long-term reduction in\n",
      "joint damage compared to delayed therapy, the so-called window of opportunity. This has led to the\n",
      "general principle that inflammation should be controlled as completely and as soon as possible by\n",
      "the early and aggressive introduction of DMARDs. The currently approved non-biological drugs for\n",
      "treating RA are listed in Table 8.1. Most of these require monitoring for the prompt detection of\n",
      "potential adverse effects, although the precise monitoring recommendations vary from center to\n",
      "center. The British Society for Rheumatology, the European League Against Rheumatism and the\n",
      "American College of Rheumatology have each developed guidelines for the use and monitoring of RA\n",
      "therapies.\n",
      "\n",
      "Prediction\n",
      "sshleifer/distilbart-cnn-12-6 (81 tok):\n",
      " Traditional 'pyramid' approach to the treatment of RA was to begin with symptomatic treatment of\n",
      "inflammation using NSAIDs in addition to rest and corticosteroid injections. If the disease did not\n",
      "significantly improve with these simple treatments, then more potent DMARDs were added. Effective\n",
      "therapy early in the course of RA results in a long-term reduction in joint damage compared to\n",
      "delayed therapy.\n",
      "\n",
      "Prediction\n",
      "/home/marco/epfl/magma/fine-tuning/sshleifer?distilbart-cnn-12-6_karger_books_para_wordembed_train/ (30 tok):\n",
      "Early and aggressive treatment of RA should be controlled as completely and as soon as possible by\n",
      "the introduction of DMARDs.\n",
      "\n",
      "Reference:\n",
      "Treatment-to-target strategies, including combination DMARD therapy, rapidly suppress inflammation\n",
      "and minimize long-term damage and disability.\n",
      "\n",
      "####################################################################################################\n",
      "\n",
      "(9781910797495, 'chp8')\n",
      "Postincisional pain. Postincisional syndrome is defined as pain at or close to the site of a\n",
      "surgical incision that persists beyond the usual healing period. As with other neuropathic pain\n",
      "syndromes, patients exhibit allodynia and sometimes also edema in the vicinity of the surgical\n",
      "wound, which is typical of temporary peripheral sensitization. Postamputation persistent pain.\n",
      "Postamputation persistent pain is a special case of PPSP because large nerves are deliberately cut\n",
      "in all patients. It is interesting, then, that only 30-50% develop PPSP, whereas 100% have nerve\n",
      "injury (see Table 8.1). This emphasizes the multifactorial basis of PPSP. A surprising omission in\n",
      "studies of amputation pain is information about how the nerves amputated are managed (id est clean\n",
      "cut or ligature tied). Use of a ligature tie in animal studies is known to generate neuropathic\n",
      "pain.\n",
      "\n",
      "Prediction\n",
      "sshleifer/distilbart-cnn-12-6 (43 tok):\n",
      " Postamputation persistent pain is a special case of PPSP because large nerves are deliberately cut\n",
      "in all patients. Only 30-50% develop PPSP, whereas 100% have nerve injury.\n",
      "\n",
      "Prediction\n",
      "/home/marco/epfl/magma/fine-tuning/sshleifer?distilbart-cnn-12-6_karger_books_para_wordembed_train/ (31 tok):\n",
      "Postincisional pain is defined as pain at or close to the site of a surgical incision that persists\n",
      "beyond the usual healing period.\n",
      "\n",
      "Reference:\n",
      "Persistent postsurgical pain (PPSP) is defined as pain at or close to the site of surgical incision\n",
      "that persists beyond the expected healing period.\n",
      "\n",
      "####################################################################################################\n",
      "\n",
      "(9781908541666, 'ch_12')\n",
      "Treatment. Immediate treatment of any identifiable cause of the DKA should be undertaken without\n",
      "delay. Until recently, standard management of DKA focused on reducing blood glucose levels with\n",
      "insulin and intravenous fluids. There is still universal agreement that the initial cornerstone of\n",
      "treatment is fluid replacement and insulin administration. The intravascular volume should be\n",
      "expanded to correct a typical deficit of 100 mL/kg of water with intravenous isotonic saline, which\n",
      "will also improve renal perfusion. Infusion rates of 1 L per hour for the first hour, 1 L for the\n",
      "next 2 hours and 1 L over the next 4 hours are usually adequate except in those patients with\n",
      "profound hypovolemia and hypotension, who may need twice this amount (Table 11.3). If the initial\n",
      "systolic blood pressure is below 90 mmHg, 500 mL of normal saline should be given over 15 minutes.\n",
      "In the presence of significant hypernatremia, isotonic saline can be replaced with 0.45% saline. The\n",
      "aim is to replace total body deficits of water and electrolytes, with half the estimated deficit\n",
      "being replaced in 12-24 hours (see Table 11.3). Once the blood glucose has fallen to about 14 mmol/L\n",
      "(252 mg/dL), saline should be replaced with 5% dextrose (or an infusion of 10% glucose given at 125\n",
      "mL/hour started alongside the infusion of normal saline to correct circulatory volume) to allow\n",
      "continued insulin administration to suppress ketogenesis while avoiding hypoglycemia.\n",
      "\n",
      "Prediction\n",
      "sshleifer/distilbart-cnn-12-6 (67 tok):\n",
      " Until recently, management of DKA focused on reducing blood glucose levels with insulin and\n",
      "intravenous fluids. There is still universal agreement that the initial cornerstone of treatment is\n",
      "fluid replacement and insulin administration. Intravascular volume should be expanded to correct a\n",
      "typical deficit of 100 mL/kg of water with intravenous isotonic saline.\n",
      "\n",
      "Prediction\n",
      "/home/marco/epfl/magma/fine-tuning/sshleifer?distilbart-cnn-12-6_karger_books_para_wordembed_train/ (20 tok):\n",
      "Immediate treatment of any identifiable cause of the DKA should be undertaken without delay.\n",
      "\n",
      "Reference:\n",
      "Treatment of DKA is by fluid and electrolyte replacement, intravenous insulin and treatment of the\n",
      "underlying cause, when known.\n",
      "\n",
      "####################################################################################################\n",
      "\n",
      "(9781910797495, 'chp1')\n",
      "Because it is an experience, pain itself cannot be measured directly. Pain, like consciousness\n",
      "itself, is constructed by complex brain processes that are strongly affected by a person's\n",
      "attitudes, beliefs, personality and interpretation of the significance of nociceptive stimuli.\n",
      "Central to the understanding of clinical pain is the concept that pain may be present without an\n",
      "obvious peripheral source or cause. Mechanisms of neuropathic pain. Definition. Neuropathic pain is\n",
      "initiated or caused by a primary lesion of the PNS or CNS. Patients often complain not only of\n",
      "spontaneous pain, but also of pain from stimuli that are not normally painful (allodynia). For\n",
      "example, a light touch may be described as painful.\n",
      "\n"
     ]
    },
    {
     "name": "stdout",
     "output_type": "stream",
     "text": [
      "Prediction\n",
      "sshleifer/distilbart-cnn-12-6 (47 tok):\n",
      " Neuropathic pain is initiated or caused by a primary lesion of the PNS or CNS. Patients often\n",
      "complain not only of spontaneous pain, but also of pain from stimuli that are not normally painful\n",
      "(allodynia)\n",
      "\n",
      "Prediction\n",
      "/home/marco/epfl/magma/fine-tuning/sshleifer?distilbart-cnn-12-6_karger_books_para_wordembed_train/ (23 tok):\n",
      "Neuropathic pain is initiated or caused by a primary lesion of the PNS or CNS.\n",
      "\n",
      "Reference:\n",
      "Neuropathic pain is produced by a lesion of the peripheral or central nervous system (CNS).\n",
      "\n",
      "####################################################################################################\n",
      "\n",
      "(9781910797662, 'ch03')\n",
      "Delay in diagnosis. Although it is difficult to prove that delay in diagnosis affects prognosis,\n",
      "screening for asymptomatic microscopic hematuria is associated with a shift towards more favorable\n",
      "tumor characteristics of lower stage and grade at diagnosis, and better survival. Delays may occur\n",
      "for a variety of reasons.\n",
      "\n",
      "Prediction\n",
      "sshleifer/distilbart-cnn-12-6 (42 tok):\n",
      " Screening for asymptomatic microscopic hematuria is associated with a shift towards more favorable\n",
      "tumor characteristics of lower stage and grade at diagnosis. Delays may occur for a variety of\n",
      "reasons.\n",
      "\n",
      "Prediction\n",
      "/home/marco/epfl/magma/fine-tuning/sshleifer?distilbart-cnn-12-6_karger_books_para_wordembed_train/ (33 tok):\n",
      "Screening for asymptomatic microscopic hematuria is associated with more favorable tumor\n",
      "characteristics of lower stage and grade at diagnosis, and better survival.\n",
      "\n",
      "Reference:\n",
      "Delay in treatment adversely affects prognosis.\n",
      "\n",
      "####################################################################################################\n",
      "\n",
      "(9781910797310, 'chp2')\n",
      "Well-differentiated tumors with adenocarcinoma morphology (acinar, papillary, lepidic,\n",
      "micropapillary) or squamous cell carcinoma (unequivocal keratinization and well-formed classical\n",
      "bridges) on routine light microscopy can be diagnosed as adenocarcinoma or squamous cell carcinoma,\n",
      "respectively, without immunohistochemistry. Poorly differentiated tumors should undergo limited\n",
      "immuno-histochemistry. A single adenocarcinoma marker (exempli gratia thyroid transcription factor 1\n",
      "[TTF1] or Napsin-A) or squamous cell carcinoma marker (exempli gratia p40, cytokeratin 5/6 or p63)\n",
      "can be used to classify most tumors. Carcinomas lacking clear differentiation by morphology and\n",
      "immunohistochemistry are classified as 'NSCLC, not otherwise specified (NOS)'. NOS carcinomas that\n",
      "stain with adenocarcinoma markers are classified as 'NSCLC, favor adenocarcinoma'; tumors that stain\n",
      "with squamous markers are classified as 'NSCLC, favor squamous cell carcinoma'. In this way, a\n",
      "diagnosis of NSCLC-NOS can be avoided in up to 90% of cases.\n",
      "\n",
      "Prediction\n",
      "sshleifer/distilbart-cnn-12-6 (72 tok):\n",
      " Well-differentiated tumors with adenocarcinoma morphology (acinar, papillary, lepidic,\n",
      "micropapillary) or squamous cell carcinoma (unequivocal keratinization and well-formed classical\n",
      "bridges) on routine light microscopy. Poorly differentiated tumors should undergo limited immuno-\n",
      "histochemistry.\n",
      "\n",
      "Prediction\n",
      "/home/marco/epfl/magma/fine-tuning/sshleifer?distilbart-cnn-12-6_karger_books_para_wordembed_train/ (42 tok):\n",
      "A single adenocarcinoma marker (exempli gratia thyroid transcription factor 1 [TTF1] or Napsin-A)\n",
      "can be used to classify most tumors.\n",
      "\n",
      "Reference:\n",
      "Classification of NSCLC further into specific pathological subtypes (exempli gratia adenocarcinoma\n",
      "versus squamous cell carcinoma) will determine eligibility for certain types of molecular testing\n",
      "and aid therapeutic decisions based on the specific histological and genetic characteristics of the\n",
      "tumor.\n",
      "\n",
      "####################################################################################################\n",
      "\n",
      "(9781910797587, 'chp03')\n",
      "Estimates of incidence and prevalence also vary according to the definition of OA used; for example,\n",
      "symptomatic versus radiographic criteria. Even when radiographic definitions are used, different\n",
      "radiographic features may be emphasized (exempli gratia osteophytes vs joint-space narrowing). It is\n",
      "interesting to note that the correlation between pain and radiographic OA features is not as strong\n",
      "as expected, for reasons discussed in Chapter 4 (see page 50).\n",
      "\n",
      "Prediction\n",
      "sshleifer/distilbart-cnn-12-6 (27 tok):\n",
      " The correlation between pain and radiographic OA features is not as strong as expected, for reasons\n",
      "discussed in Chapter 4.\n",
      "\n",
      "Prediction\n",
      "/home/marco/epfl/magma/fine-tuning/sshleifer?distilbart-cnn-12-6_karger_books_para_wordembed_train/ (25 tok):\n",
      "The correlation between pain and radiographic features is not as strong as expected, for reasons\n",
      "discussed in Chapter 4.\n",
      "\n",
      "Reference:\n",
      "Although radiographic OA is common, it is not always symptomatic.\n",
      "\n",
      "####################################################################################################\n",
      "\n",
      "(9781908541963, 'chapter10')\n",
      "Hepatocellular carcinoma. Epidemiology and pathogenesis. Hepatocellular carcinoma (hepatoma, HCC) is\n",
      "a malignancy of hepatocytes. HCC is a common cause of mortality in the developing world. Although\n",
      "currently less common in the developed world, the incidence is expected to rise as patients with\n",
      "cirrhosis due to chronic hepatitis C age. Marked geographic variation in incidence is largely due to\n",
      "variation in the risk factors that predispose an individual to the tumor (Table 10.1). Most cases of\n",
      "HCC occur in liver that is already cirrhotic. Thus, patients with advanced viral hepatitis,\n",
      "hemochromatosis or alcoholic liver disease are at risk. Hepatitis B presents a unique risk, as there\n",
      "is evidence that a tumor may develop in the absence of cirrhosis - presumably via direct integration\n",
      "of viral DNA into the host genome.\n",
      "\n",
      "Prediction\n",
      "sshleifer/distilbart-cnn-12-6 (63 tok):\n",
      " Most cases of HCC occur in liver that is already cirrhotic. Patients with advanced viral hepatitis,\n",
      "hemochromatosis or alcoholic liver disease are at risk. Hepatitis B presents a unique risk, as there\n",
      "is evidence that a tumor may develop in the absence of cirrhosis.\n",
      "\n",
      "Prediction\n",
      "/home/marco/epfl/magma/fine-tuning/sshleifer?distilbart-cnn-12-6_karger_books_para_wordembed_train/ (29 tok):\n",
      "Hepatocellular carcinoma (hepatoma, HCC) is a common cause of mortality in the developing world.\n",
      "\n",
      "Reference:\n",
      "Hepatocellular carcinoma often has few specific symptoms or signs.\n",
      "\n",
      "####################################################################################################\n",
      "\n",
      "(9781910797273, 'chp6')\n",
      "Promoting repair has been an unexplored sphere of MS therapy. Recently, in animal models of\n",
      "demyelination, LINGO antagonists have been shown to promote oligodendrocyte differentiation and\n",
      "myelination in vitro. Initiated in 2013, the first multinational Phase II trial of anti-LINGO-1\n",
      "antibodies in patients with acute optic neuritis has shown an effect on promoting nerve repair\n",
      "following optic neuritis. Ultimately, therapies that successfully promote remyelination and repair\n",
      "may be applicable across the spectrum of MS subtypes, including progressive forms of the disease.\n",
      "Tyrosine kinase inhibitors. Mastinib has completed a positive Phase IIb study in patients with\n",
      "primary and secondary progressive MS, the results of which are reported to include improvement in\n",
      "the Multiple Sclerosis Functional Composite (see pages 54 -). A Phase III trial in this population\n",
      "is now in progress, and it may prove to be an oral treatment option for this more rare type of MS.\n",
      "Mastinib targets mast cells and inhibits several biochemical processes. It is used in the treatment\n",
      "of canine diseases and is also being evaluated in stroke, amyotrophic lateral sclerosis and\n",
      "Alzheimer's disease.\n",
      "\n",
      "Prediction\n",
      "sshleifer/distilbart-cnn-12-6 (63 tok):\n",
      " LINGO antagonists have been shown to promote oligodendrocyte differentiation and myelination in\n",
      "vitro. Mastinib has completed a positive Phase IIb study in patients with primary and secondary\n",
      "progressive MS, the results of which are reported to include improvement in the Multiple Sclerosis\n",
      "Functional Composite.\n",
      "\n",
      "Prediction\n",
      "/home/marco/epfl/magma/fine-tuning/sshleifer?distilbart-cnn-12-6_karger_books_para_wordembed_train/ (44 tok):\n",
      "Promoting repair has been an unexplored sphere of MS therapy; therapies that successfully promote\n",
      "remyelination and repair may be applicable across the spectrum of MS subtypes, including progressive\n",
      "forms of the disease.\n",
      "\n",
      "Reference:\n",
      "Anti-LINGO antibody is the first remyelination-promoting therapy to reach Phase II clinical trials\n",
      "in optic neuritis. Treatments that overcome molecular obstacles to remyelination may complement\n",
      "immune-directed therapies for MS in the future.\n",
      "\n",
      "####################################################################################################\n",
      "\n"
     ]
    }
   ],
   "source": [
    "print_examples([\n",
    "    'sshleifer/distilbart-cnn-12-6',\n",
    "    magma_dir+'fine-tuning/sshleifer?distilbart-cnn-12-6_karger_books_para_wordembed_train/'],\n",
    "    df_train)"
   ]
  },
  {
   "cell_type": "markdown",
   "metadata": {
    "id": "fSqOx7kdMoNJ"
   },
   "source": [
    "##### Print Val Examples"
   ]
  },
  {
   "cell_type": "code",
   "execution_count": 21,
   "metadata": {
    "colab": {
     "base_uri": "https://localhost:8080/"
    },
    "executionInfo": {
     "elapsed": 7134,
     "status": "ok",
     "timestamp": 1610617100643,
     "user": {
      "displayName": "Marco Pietro Abrate",
      "photoUrl": "https://lh3.googleusercontent.com/a-/AOh14Gjh-8YF-8BlnrkN9mLZ0xfVOWfOh7kYncpYRv-Y=s64",
      "userId": "15422244832836998434"
     },
     "user_tz": -60
    },
    "id": "f7k8RzJgMoNK",
    "outputId": "34bc6750-7383-42d4-8a7a-f30b9e35a3bb",
    "scrolled": true
   },
   "outputs": [
    {
     "name": "stdout",
     "output_type": "stream",
     "text": [
      "(9781908541178, 'ch_6')\n",
      "Many anatomic factors can play a primary or a secondary role in the development and progression of\n",
      "low back pain syndromes. The most common causes of low back pain are mechanical in origin.\n",
      "Mechanical disorders of the lumbar spine are related to injury, overuse or deformity of a spinal\n",
      "structure. The most important traumatic factors in low back pain relate to soft tissue structures.\n",
      "Precise identification of the injured tissue, and the role of that injury in the consequent pain and\n",
      "dysfunction, can be frustratingly difficult. Problems occur in muscles, intervertebral discs, facet\n",
      "joints, ligaments or spinal nerves. Aging causes modification of these structures over time, and\n",
      "different parts of the spine tend to be at greater risk for change or injury during different\n",
      "decades of life. Early in life, muscle injuries are more frequent, while joint problems occur in the\n",
      "sixth decade of life (Table 3.1).\n",
      "\n",
      "Prediction\n",
      "sshleifer/distilbart-cnn-12-6 (46 tok):\n",
      " Mechanical disorders of the lumbar spine are related to injury, overuse or deformity of a spinal\n",
      "structure. Problems occur in muscles, intervertebral discs, facet joints, ligaments or spinal\n",
      "nerves.\n",
      "\n",
      "Prediction\n",
      "/home/marco/epfl/magma/fine-tuning/sshleifer?distilbart-cnn-12-6_karger_books_para_wordembed_train/ (16 tok):\n",
      "The most common causes of low back pain are mechanical in origin.\n",
      "\n",
      "Reference:\n",
      "Mechanical disorders - muscle strain, spondylolisthesis, herniated intervertebral disc,\n",
      "osteoarthritis, spinal stenosis - are the most common causes of low back pain.\n",
      "\n",
      "####################################################################################################\n",
      "\n",
      "(9781912776726, 'ch4')\n",
      "Patients with glioblastoma have specific information needs. While the amount of information that\n",
      "patients want varies from person to person, and in some cases understanding may be impaired by\n",
      "cognitive deficits, patients and their carers need frank but compassionate information on diagnosis,\n",
      "prognosis, treatment options, recurrence and end-of-life care. News of a poor prognosis can be\n",
      "difficult to process initially. Patients need time to ask questions and receive honest answers. A\n",
      "combination of written and verbal information over several consultations and ongoing access to a\n",
      "well-resourced specialist nurse and psychologist or counselor are all important in this respect.\n",
      "Standard of care for newly diagnosed glioblastoma. The current standard of care for newly diagnosed\n",
      "glioblastoma is maximum surgical resection followed by radiotherapy and concomitant temozolomide and\n",
      "adjuvant temozolomide.\n",
      "\n",
      "Prediction\n",
      "sshleifer/distilbart-cnn-12-6 (41 tok):\n",
      " Patients need frank but compassionate information on diagnosis, prognosis, treatment options,\n",
      "recurrence and end-of-life care. News of a poor prognosis can be difficult to process initially.\n",
      "\n",
      "Prediction\n",
      "/home/marco/epfl/magma/fine-tuning/sshleifer?distilbart-cnn-12-6_karger_books_para_wordembed_train/ (33 tok):\n",
      "Patients with glioblastoma need frank but compassionate information on diagnosis, prognosis,\n",
      "treatment options, recurrence and end of life care.\n",
      "\n",
      "Reference:\n",
      "Radiotherapy and temozolomide is suitable for fit elderly patients with glioblastoma.\n",
      "\n",
      "####################################################################################################\n",
      "\n",
      "(9783318066241, 'ch6')\n",
      "Fluid type. Both an open-label and a triple-blind RCT have demonstrated that fluid resuscitation\n",
      "using lactated Ringer's solution (a balanced salt solution) is associated with a decreased\n",
      "inflammatory response when compared with fluid resuscitation with normal saline (with a high\n",
      "chloride content). According to in vitro experiments, it seems that this anti-inflammatory effect\n",
      "depends on lactate. However, both studies included a small number of patients, and the influence of\n",
      "lactated Ringer's solution on important outcomes such as OF or mortality is unknown. In studies\n",
      "addressing other clinical scenarios, balanced fluids such as lactated Ringer's solution seem to be\n",
      "associated with a decreased need for blood products and a lower incidence of renal replacement\n",
      "therapy, hyperkalemia and postoperative infections when compared with normal saline. For the time\n",
      "being, it seems that lactated Ringer's solution is a good choice for fluid resuscitation in AP.\n",
      "\n",
      "Prediction\n",
      "sshleifer/distilbart-cnn-12-6 (69 tok):\n",
      " An open-label and a triple-blind RCT have demonstrated that fluid resuscitation using lactated\n",
      "Ringer's solution (a balanced salt solution) is associated with a decreased inflammatory response\n",
      "when compared with fluid resuscitation with normal saline. According to in vitro experiments, it\n",
      "seems that this anti-inflammatory effect depends on lactate.\n",
      "\n",
      "Prediction\n",
      "/home/marco/epfl/magma/fine-tuning/sshleifer?distilbart-cnn-12-6_karger_books_para_wordembed_train/ (34 tok):\n",
      "Fluid resuscitation using lactated Ringer's solution (a balanced salt solution) is associated with a\n",
      "decreased inflammatory response when compared with normal saline.\n",
      "\n",
      "Reference:\n",
      "Lactated Ringer's solution is associated with a decreased inflammatory response in AP when compared\n",
      "with normal saline.\n",
      "\n",
      "####################################################################################################\n",
      "\n",
      "(9781910797662, 'ch07')\n",
      "Management of advanced and metastatic disease. A core principle in the management of solid tumors is\n",
      "to consider control of both the primary and metastatic disease. Several clinical scenarios occur in\n",
      "bladder cancer. Cancers that are clearly confined to the bladder can potentially be cured if the\n",
      "primary tumor can be removed or ablated, through surgery, radiation therapy or multimodality\n",
      "approaches, and there is no metastatic disease; 5-year survival rates are about 70%. Management of\n",
      "these cancers is discussed in chapter on 'Management of non-muscle-invasive disease'.\n",
      "\n",
      "Prediction\n",
      "sshleifer/distilbart-cnn-12-6 (46 tok):\n",
      " A core principle in the management of solid tumors is to consider control of both the primary and\n",
      "metastatic disease. Management of these cancers is discussed in chapter on 'Management of non-\n",
      "muscle-invasive disease'\n",
      "\n",
      "Prediction\n",
      "/home/marco/epfl/magma/fine-tuning/sshleifer?distilbart-cnn-12-6_karger_books_para_wordembed_train/ (32 tok):\n",
      "Management of advanced and metastatic disease is a core principle in the management of solid tumors\n",
      "is to consider both the primary and metastatic disease.\n",
      "\n",
      "Reference:\n",
      "Management of both local and distant metastatic disease should be considered.\n",
      "\n",
      "####################################################################################################\n",
      "\n",
      "(9781910797723, 'chp3')\n",
      "What types of tumor are potentially susceptible to immuno-oncology?. Clearly, the potential\n",
      "sensitivity of a given cancer to immuno-oncology therapies will depend on the ability of the tumor\n",
      "to trigger an immune response (immunogenicity). Cancer is characterized by an accumulation of\n",
      "genetic mutations, many of which result in the expression of cancer-specific antigens that can bind\n",
      "to major histocompatibility complex (MHC) class I molecules on the cancer cell surface. These\n",
      "antigen-MHC complexes can be recognized by cytotoxic CD8+ lymphocytes, that, if activated, could\n",
      "potentially mount an immune response against the tumor. As a result, tumors with high somatic\n",
      "mutation rates may be more susceptible to immuno-oncology therapies than those with lower mutation\n",
      "rates. Somatic mutation rates differ markedly, both between tumor types and within an individual\n",
      "tumor type: the rate may vary more than 1000-fold between tumors with the highest and lowest rates\n",
      "(Figure 3.2). The highest rates are seen in cancers of the skin, lung, bladder and stomach, while\n",
      "the lowest are seen in hematologic and pediatric cancers. It is noteworthy that the highest rates\n",
      "occur in tumors that are induced by carcinogens such as tobacco smoke or ultraviolet light.\n",
      "\n",
      "Prediction\n",
      "sshleifer/distilbart-cnn-12-6 (80 tok):\n",
      " The potential sensitivity of a given cancer to immuno-oncology therapies will depend on the ability\n",
      "of the tumor to trigger an immune response (immunogenicity) Cancer is characterized by an\n",
      "accumulation of genetic mutations, many of which result in the expression of cancer-specific\n",
      "antigens. Somatic mutation rates differ markedly, both between tumor types and within an individual\n",
      "tumor type.\n",
      "\n"
     ]
    },
    {
     "name": "stdout",
     "output_type": "stream",
     "text": [
      "Prediction\n",
      "/home/marco/epfl/magma/fine-tuning/sshleifer?distilbart-cnn-12-6_karger_books_para_wordembed_train/ (31 tok):\n",
      "Tumors with high somatic mutation rates may be more susceptible to immuno-oncology therapies than\n",
      "those with lower mutation rates.\n",
      "\n",
      "Reference:\n",
      "The potential sensitivity of a given cancer to immunotherapy depends on the immunogenicity of the\n",
      "tumor, which is related to the somatic mutation rate within tumor cells.- The highest mutation rates\n",
      "are seen in cancers of the skin, lung, bladder and stomach, rendering these tumor types more\n",
      "sensitive to immunotherapy.\n",
      "\n",
      "####################################################################################################\n",
      "\n",
      "(9781910797471, 'ch02')\n",
      "Advances in the management of heart failure (HF) over the past 20 years have been informed by a\n",
      "better understanding of its pathophysiology. There are few situations in cardiology where treatment\n",
      "has been as closely linked to an appreciation of the underlying science. Vicious cycle of heart\n",
      "failure. HF is a disease of inappropriate adaptation to injury. The body has a limited range of\n",
      "compensatory responses to circulatory impairment, mainly vasoconstriction and sodium and water\n",
      "retention (see below). In general, however, these adjustments to hypovolemia are poorly suited to\n",
      "pump failure, and increases in the preload and afterload of the failing heart lead to worsening HF\n",
      "(Figure 2.1).\n",
      "\n",
      "Prediction\n",
      "sshleifer/distilbart-cnn-12-6 (43 tok):\n",
      " Heart failure is a disease of inappropriate adaptation to injury. The body has a limited range of\n",
      "compensatory responses to circulatory impairment. These adjustments to hypovolemia are poorly suited\n",
      "to pump failure.\n",
      "\n",
      "Prediction\n",
      "/home/marco/epfl/magma/fine-tuning/sshleifer?distilbart-cnn-12-6_karger_books_para_wordembed_train/ (17 tok):\n",
      "Heart failure (HF) is a disease of inappropriate adaptation to injury.\n",
      "\n",
      "Reference:\n",
      "Remodeling is a cardiac response that is initially appropriate and becomes inappropriate as the\n",
      "heart enlarges excessively and hypertrophies.\n",
      "\n",
      "####################################################################################################\n",
      "\n",
      "(9781910797815, 'chp9')\n",
      "There are no specific diagnostic criteria for MPN-BP. The principal criterion is the same as for de\n",
      "novo acute myeloid leukemia (AML): more than 20% blasts in bone marrow or peripheral blood.\n",
      "Persistence is also important if only peripheral blood blasts are considered. Importantly,\n",
      "acceleration or progression of myelofibrosis is usually apparent before the development of overt\n",
      "leukemia. Signs of this include.\n",
      "\n",
      "Prediction\n",
      "sshleifer/distilbart-cnn-12-6 (47 tok):\n",
      " There are no specific diagnostic criteria for MPN-BP. The principal criterion is the same as for de\n",
      "novo acute myeloid leukemia (AML): more than 20% blasts in bone marrow or peripheral blood.\n",
      "\n",
      "Prediction\n",
      "/home/marco/epfl/magma/fine-tuning/sshleifer?distilbart-cnn-12-6_karger_books_para_wordembed_train/ (31 tok):\n",
      "There are no specific diagnostic criteria for MPN-BP. The principal criterion is more than 20%\n",
      "blasts in bone marrow or peripheral blood.\n",
      "\n",
      "Reference:\n",
      "Signs of accelerating myelofibrosis may precede the development of overt leukemia.\n",
      "\n",
      "####################################################################################################\n",
      "\n",
      "(9783318068207, 'hh-7')\n",
      "NGS testing for predictive biomarkers. EGFR activation of the RAS/RAF/MEK/ERK pathway (see Chapter\n",
      "1) plays an important role in oncogenesis in CRC. Up to 50% of CRCs show activating mutations of\n",
      "KRAS. Anti-EGFR antibodies, such as cetuximab and panitumumab, can be beneficial in patients with\n",
      "metastatic CRC provided that there is no downstream mutation activating the RAS/RAF/MEK/ERK pathway.\n",
      "Initially, patients with codon 12/13 KRAS mutations did not benefit in clinical trials, and\n",
      "subsequently mutations in other codons of KRAS and in NRAS were also shown to confer resistance to\n",
      "antibody-based therapies., Thus, guidelines require an 'extended' RAS analysis be performed. At\n",
      "present, the minimum testing required to determine whether anti-EGFR therapy may be of benefit is\n",
      "this extended RAS testing of KRAS and NRAS. codons 12 and 13 of exon 2. codons 59 and 61 of exon 3.\n",
      "codons 117 and 146 of exon 4. Wild-type phenotype for KRAS and NRAS is thus an indication for anti-\n",
      "EGFR therapy.\n",
      "\n",
      "Prediction\n",
      "sshleifer/distilbart-cnn-12-6 (45 tok):\n",
      " EGFR activation of the RAS/RAF/MEK/ERK pathway plays an important role in oncogenesis in CRC. Up to\n",
      "50% of CRCs show activating mutations of KRAS.\n",
      "\n",
      "Prediction\n",
      "/home/marco/epfl/magma/fine-tuning/sshleifer?distilbart-cnn-12-6_karger_books_para_wordembed_train/ (17 tok):\n",
      "Up to 50% of CRCs show activating mutations of KRAS.\n",
      "\n",
      "Reference:\n",
      "The minimum testing required to determine whether anti-EGFR therapy may be of benefit in CRC is\n",
      "extended RAS testing of KRAS and NRAS: codons 12 and 13 of exon 2; codons 59 and 61 of exon 3; and\n",
      "codons 117 and 146 of exon 4.\n",
      "\n",
      "####################################################################################################\n",
      "\n",
      "(9781910797815, 'chp4')\n",
      "Management of low-risk patients. Treatment to reduce cardiovascular risk factors, and promotion of a\n",
      "generally healthy lifestyle, may be sufficient intervention for very-low-risk patients. Smoking\n",
      "cessation should be actively promoted because cigarette smoking has been shown to be an independent\n",
      "risk factor for thrombosis in patients with ET. Low-dose aspirin has been shown to reduce both\n",
      "microvascular symptoms (exempli gratia erythromelalgia) and transient neurological and visual\n",
      "disturbances such as hemiparesis, scintillating scotomas, amaurosis fugax (transcient monocular\n",
      "blindness) and seizures. There is also evidence that antiplatelet therapy reduces the risk of venous\n",
      "thrombosis in patients with JAK2 V617F mutations and cardiovascular risk factors (arterial\n",
      "thrombosis). Higher doses of aspirin (up to 500 mg daily) may be required in patients with acute\n",
      "erythromelalgia.\n",
      "\n",
      "Prediction\n",
      "sshleifer/distilbart-cnn-12-6 (60 tok):\n",
      " Low-dose aspirin has been shown to reduce microvascular symptoms (exempli gratia erythromelalgia)\n",
      "and transient neurological and visual disturbances. Smoking cessation should be actively promoted\n",
      "because cigarette smoking has been shown to be an independent risk factor for thrombosis.\n",
      "\n",
      "Prediction\n",
      "/home/marco/epfl/magma/fine-tuning/sshleifer?distilbart-cnn-12-6_karger_books_para_wordembed_train/ (31 tok):\n",
      "Treatment to reduce cardiovascular risk factors, and promotion of a generally healthy lifestyle, may\n",
      "be sufficient intervention for very-low-risk patients.\n",
      "\n",
      "Reference:\n",
      "All patients should receive interventions to reduce cardiovascular risk factors, particularly\n",
      "smoking cessation advice.\n",
      "\n",
      "####################################################################################################\n",
      "\n",
      "(9781908541277, 'ch_11')\n",
      "There are no clear data indicating differences in safety among PHT, CBZ, PB and PRM. Current\n",
      "evidence suggests that the risk of major congenital malformations is two to four times higher with\n",
      "the use of VPA than with other AEDs such as CBZ and LTG. Absolute rates have ranged from 6% to 11%,\n",
      "although the risk may be minimized by keeping daily doses at or below 1000 mg. High-dose exposure to\n",
      "VPA in utero may impair later cognitive function. The teratogenic risk associated with LTG\n",
      "monotherapy is low and is similar to that associated with CBZ, although preliminary data suggest the\n",
      "possibility of greater risk of major malformations at higher dosage. There are still insufficient\n",
      "data regarding the safety of other modern AEDs.\n",
      "\n",
      "Prediction\n",
      "sshleifer/distilbart-cnn-12-6 (57 tok):\n",
      " Current evidence suggests that the risk of major congenital malformations is two to four times\n",
      "higher with the use of VPA than with other AEDs such as CBZ and LTG. There are still insufficient\n",
      "data regarding the safety of other modern AEDs.\n",
      "\n",
      "Prediction\n",
      "/home/marco/epfl/magma/fine-tuning/sshleifer?distilbart-cnn-12-6_karger_books_para_wordembed_train/ (19 tok):\n",
      "High-dose exposure to VPA in utero may impair later cognitive function.\n",
      "\n",
      "Reference:\n",
      "The risk of major malformations in babies exposed in utero seems to be greater with sodium valproate\n",
      "(VPA) than with other AEDs.\n",
      "\n",
      "####################################################################################################\n",
      "\n"
     ]
    }
   ],
   "source": [
    "print_examples([\n",
    "    'sshleifer/distilbart-cnn-12-6',\n",
    "    magma_dir+'fine-tuning/sshleifer?distilbart-cnn-12-6_karger_books_para_wordembed_train/'],\n",
    "    df_val)"
   ]
  },
  {
   "cell_type": "markdown",
   "metadata": {
    "id": "UTUY8QgQa2WM"
   },
   "source": [
    "##### Print Test Examples"
   ]
  },
  {
   "cell_type": "code",
   "execution_count": 22,
   "metadata": {
    "colab": {
     "base_uri": "https://localhost:8080/"
    },
    "executionInfo": {
     "elapsed": 7745,
     "status": "ok",
     "timestamp": 1610617121036,
     "user": {
      "displayName": "Marco Pietro Abrate",
      "photoUrl": "https://lh3.googleusercontent.com/a-/AOh14Gjh-8YF-8BlnrkN9mLZ0xfVOWfOh7kYncpYRv-Y=s64",
      "userId": "15422244832836998434"
     },
     "user_tz": -60
    },
    "id": "D9rpcejOa2WO",
    "outputId": "c86cf9ed-eca7-4f92-ce7a-91f8661fdd29",
    "scrolled": true
   },
   "outputs": [
    {
     "name": "stdout",
     "output_type": "stream",
     "text": [
      "(9781908541277, 'ch_8')\n",
      "Indications. OXC has a similar spectrum of efficacy to CBZ against partial and tonic-clonic\n",
      "seizures. It tends to be better tolerated than CBZ with fewer neurotoxic side effects. Dosage. The\n",
      "recommended starting dose for OXC in adults is 150-600 mg daily in two doses. The dose can be\n",
      "titrated upwards as clinically indicated to 3000-4000 mg daily. A starting dose of 5 mg/kg daily in\n",
      "children over 3 years of age can be prescribed, increasing gradually to a maintenance dose of about\n",
      "30 mg/kg daily. Patients already on CBZ may be switched immediately to OXC using a dosage ratio of\n",
      "1.5 OXC to 1 CBZ. Particular care in immediate switching needs to be taken when the daily CBZ dose\n",
      "exceeds 1200 mg. Plasma concentrations of the clinically active metabolite of OXC increase linearly\n",
      "with dose. No studies, however, have attempted to relate elevated plasma levels to efficacy or\n",
      "toxicity.\n",
      "\n",
      "Prediction\n",
      "sshleifer/distilbart-cnn-12-6 (41 tok):\n",
      " OXC has a similar spectrum of efficacy to CBZ against partial and tonic-clonic seizures. It tends\n",
      "to be better tolerated than CBZ with fewer neurotoxic side effects.\n",
      "\n",
      "Prediction\n",
      "/home/marco/epfl/magma/fine-tuning/sshleifer?distilbart-cnn-12-6_karger_books_para_wordembed_train/ (41 tok):\n",
      "OXC has a similar spectrum of efficacy to CBZ against partial and tonic-clonic seizures. It tends to\n",
      "be better tolerated than CBZ with fewer neurotoxic side effects.\n",
      "\n",
      "Reference:\n",
      "This wider choice of AEDs permits pharmacological treatment to be better matched to the individual\n",
      "patient's circumstances.\n",
      "\n",
      "####################################################################################################\n",
      "\n",
      "(9781910797426, 'ch03')\n",
      "Symptoms and signs include pain or tenderness and guarding in the right upper quadrant, nausea and\n",
      "vomiting, fever, fast pulse (tachycardia) and a positive Murphy's sign (transient cessation of\n",
      "breathing due to pain during inspiration while the right upper quadrant is palpated, but not the\n",
      "left upper quadrant). Complications include empyema, perforation of the gallbladder, liver abscess\n",
      "and emphysematous cholecystitis. An inflamed and distended gallbladder may obstruct the main bile\n",
      "duct by pressure from a gallstone causing obstructive jaundice (Mirizzi's syndrome). Laboratory\n",
      "tests. Leukocytosis and mild elevation in serum bilirubin and transaminases may be present.\n",
      "Transabdominal ultrasonography is the most useful test for acute cholecystitis as it establishes the\n",
      "presence of gallstones (Figure 3.5). A thickened gallbladder wall (> 4 mm) and pericholecystic fluid\n",
      "are highly suggestive of acute cholecystitis (Figure 3.6). Sonographic Murphy's sign (tenderness\n",
      "over the gallbladder from the ultrasound transducer during imaging) is also diagnostic. Radionuclide\n",
      "scanning is a useful test if ultrasound is non-diagnostic or inconclusive but there is clinical\n",
      "suspicion of acute cholecystitis. A Tc-HIDA (hepatobiliary iminodiacetic acid) scan uses a\n",
      "technetium-labeled analog of iminodiacetic acid. Non-visualization of the gallbladder with\n",
      "visualization of the tracer in the CBD and the small intestine is consistent with cystic duct\n",
      "obstruction. This test is about 95% accurate for the diagnosis of acute cholecystitis. Computed\n",
      "tomography is useful for identifying local complications of acute cholecystitis (Figure 3.7).\n",
      "Medical treatment of acute cholecystitis involves.\n",
      "\n",
      "Prediction\n",
      "sshleifer/distilbart-cnn-12-6 (63 tok):\n",
      " Complications include empyema, perforation of the gallbladder, liver abscess and emphysematous\n",
      "cholecystitis. An inflamed and distended gallbladder may obstruct the main bile duct by pressure\n",
      "from a gallstone causing obstructive jaundice.\n",
      "\n",
      "Prediction\n",
      "/home/marco/epfl/magma/fine-tuning/sshleifer?distilbart-cnn-12-6_karger_books_para_wordembed_train/ (49 tok):\n",
      "Symptoms and signs of acute cholecystitis include pain or tenderness and guarding in the right upper\n",
      "quadrant, nausea and vomiting, fever, fast pulse (tachycardia) and a positive Murphy's sign.\n",
      "\n",
      "Reference:\n",
      "Transabdominal ultrasound is the imaging test of choice, with an accuracy of over 95%, for the\n",
      "diagnosis of gallstones in either acute or chronic cholecystitis. A Tc-HIDA (hepatobiliary\n",
      "iminodiacetic acid) scan is 95% accurate for the diagnosis of acute cholecystitis.\n",
      "\n",
      "####################################################################################################\n",
      "\n",
      "(9781910797907, 'chp2')\n",
      "As discussed in Chapter 1, mutations in the PKLR gene on chromosome 1 are responsible for PK\n",
      "deficiency. More than 300 different mutations have been reported; most are very rare, occurring only\n",
      "once. Currently, about 25% of patients diagnosed with PK deficiency appear to have a previously\n",
      "unrecorded mutation. Although many of the mutations associated with PK deficiency are rare, a few\n",
      "are recorded more frequently (Table 2.1). The variability in how PK deficiency manifests is thought\n",
      "to reflect the heterogeneity of these causative mutations, as well as the fact that most individuals\n",
      "with PK deficiency will be compound heterozygotes (id est they will have a different mutation in\n",
      "each copy of the PKLR gene).\n",
      "\n",
      "Prediction\n",
      "sshleifer/distilbart-cnn-12-6 (39 tok):\n",
      " More than 300 different mutations in the PKLR gene on chromosome 1 are responsible for PK\n",
      "deficiency. 25% of patients diagnosed with PK deficiency appear to have a previously unrecorded\n",
      "mutation.\n",
      "\n",
      "Prediction\n",
      "/home/marco/epfl/magma/fine-tuning/sshleifer?distilbart-cnn-12-6_karger_books_para_wordembed_train/ (22 tok):\n",
      "The PKLR gene is responsible for PK deficiency. More than 300 different mutations have been\n",
      "reported.\n",
      "\n",
      "Reference:\n",
      "About one quarter of patients diagnosed with PK deficiency will have a previously unrecorded\n",
      "mutation in the PKLR gene.\n",
      "\n",
      "####################################################################################################\n",
      "\n",
      "(9781910797105, 'ch05')\n",
      "The risk is further increased if minor psychotic symptoms pre-exist and if cannabis use starts early\n",
      "in adolescence. Research suggests that this effect of cannabis may be mediated by a particular gene.\n",
      "Those with a specific version of the catechol- O -methyltransferase (COMT) gene, carried by about a\n",
      "quarter of the general population, appear to be especially prone to psychosis after cannabis use.\n",
      "Delta-9-THC, the active component of cannabis, disrupts learning and recall in schizophrenia.\n",
      "Psychosocial risk factors. There is emerging evidence for the role of non-biological risk factors in\n",
      "schizophrenia, such as the effects of urban upbringing and of ethnicity, as noted in Chapter 3.\n",
      "\n",
      "Prediction\n",
      "sshleifer/distilbart-cnn-12-6 (61 tok):\n",
      " Research suggests that this effect of cannabis may be mediated by a particular gene. Those with a\n",
      "specific version of the catechol- O -methyltransferase (COMT) gene, carried by about a quarter of\n",
      "the general population, appear to be especially prone to psychosis after cannabis use.\n",
      "\n",
      "Prediction\n",
      "/home/marco/epfl/magma/fine-tuning/sshleifer?distilbart-cnn-12-6_karger_books_para_wordembed_train/ (24 tok):\n",
      "Delta-9-THC, the active component of cannabis, disrupts learning and recall in schizophrenia.\n",
      "\n",
      "Reference:\n",
      "Psychosocial risk factors are being re-established as important risk factors.\n",
      "\n",
      "####################################################################################################\n",
      "\n",
      "(9781908541680, 'ch_4')\n",
      "Overweight/obesity as a whole predisposes to, or is associated with, numerous cardiac complications\n",
      "such as coronary heart disease (CHD), atrial fibrillation, heart failure and sudden cardiac death as\n",
      "a result of abnormalities in blood glucose, lipids, blood pressure, coagulation and inflammation.\n",
      "Independent of any of the other known cardiometabolic risk factors, obesity is associated with\n",
      "hypertension, tachycardia, left ventricular hypertrophy, increased collagen deposition, reduced\n",
      "cardiac contractility and increased end-diastolic pressure. The major circulatory complications are\n",
      "increased total and pulmonary blood volume, high cardiac output and elevated left ventricular end-\n",
      "diastolic pressure.\n",
      "\n",
      "Prediction\n",
      "sshleifer/distilbart-cnn-12-6 (51 tok):\n",
      " Obesity is associated with hypertension, tachycardia, left ventricular hypertrophy, increased\n",
      "collagen deposition, reduced cardiac contractility and increased end-diastolic pressure. The major\n",
      "circulatory complications are increased total and pulmonary blood volume.\n",
      "\n"
     ]
    },
    {
     "name": "stdout",
     "output_type": "stream",
     "text": [
      "Prediction\n",
      "/home/marco/epfl/magma/fine-tuning/sshleifer?distilbart-cnn-12-6_karger_books_para_wordembed_train/ (45 tok):\n",
      "Overweight/obesity as a whole predisposes to, or is associated with, numerous cardiac complications\n",
      "such as coronary heart disease (CHD), atrial fibrillation, heart failure and sudden cardiac death.\n",
      "\n",
      "Reference:\n",
      "Obesity significantly affects cardiometabolic status and risk.\n",
      "\n",
      "####################################################################################################\n",
      "\n",
      "(9781908541024, 'ch_12')\n",
      "The vast majority of primary brain tumors occur sporadically, but a small number appear to be\n",
      "familial. The etiology of sporadic brain tumors is unknown, but environmental factors are suspected.\n",
      "Most patients with a family history of primary brain tumors have a hereditary disease that is known\n",
      "to be associated with such tumors, such as tuberous sclerosis, neurofibromatosis, familial polyposis\n",
      "or Li-Fraumeni syndrome. However, some patients do not have any underlying or obvious hereditary\n",
      "disorder that would predispose them to primary brain tumors, but nevertheless give a striking\n",
      "history of these tumors in first-degree relatives. Usually, the tumors are found to be high-grade\n",
      "gliomas.\n",
      "\n",
      "Prediction\n",
      "sshleifer/distilbart-cnn-12-6 (40 tok):\n",
      " The vast majority of primary brain tumors occur sporadically, but a small number appear to be\n",
      "familial. The etiology of sporadic brain tumors is unknown, but environmental factors are suspected.\n",
      "\n",
      "Prediction\n",
      "/home/marco/epfl/magma/fine-tuning/sshleifer?distilbart-cnn-12-6_karger_books_para_wordembed_train/ (24 tok):\n",
      "The vast majority of primary brain tumors occur sporadically, but a small number appear to be\n",
      "familial.\n",
      "\n",
      "Reference:\n",
      "There are several syndromes associated with an inherited predisposition to a variety of brain\n",
      "tumors. However, the vast majority of brain tumors are not inherited.\n",
      "\n",
      "####################################################################################################\n",
      "\n",
      "(9781910797211, 'ch04')\n",
      "Dopamine agonist versus levodopa. In younger patients, the issues of neuroprotection and dyskinesias\n",
      "should be considered. The results of four controlled dopamine-agonist monotherapy trials have been\n",
      "published and suggest that initiation of treatment with an agonist is beneficial in the early stages\n",
      "of Parkinson's disease. However, the results of the PD Med study, a multicenter real-life pragmatic\n",
      "study, reporting on quality of life-related outcomes in both young and old patients with Parkinson's\n",
      "disease, is likely to generate considerable controversy regarding the use of dopamine agonists and\n",
      "the choice of initial therapy. In total, 1620 patients with early Parkinson's disease were recruited\n",
      "and given one of three initial treatment regimens. levodopa formulation (528 patients). levodopa-\n",
      "sparing strategy - dopamine agonist (632 patients). levodopa-sparing strategy - MAOB inhibitor\n",
      "(selegiline; 460 patients). The study started in 2000 with a median follow-up of 3 years and maximum\n",
      "of 7 years. During this time the dopamine agonists varied, including ergot agonists that are no\n",
      "longer in widespread use. The randomization to levodopa or alternative regimens was at the\n",
      "discretion of the clinician and a large part of the study was conducted in centers for the care of\n",
      "the elderly. The findings suggest relatively small but persistent benefits of starting therapy with\n",
      "levodopa rather than the listed alternatives. Interestingly, initial treatment with a MAOB inhibitor\n",
      "appeared to be at least as effective as treatment with a dopamine agonist.\n",
      "\n",
      "Prediction\n",
      "sshleifer/distilbart-cnn-12-6 (75 tok):\n",
      " PD Med study is a multicenter real-life pragmatic study, reporting on quality of life-related\n",
      "outcomes in both young and old patients with Parkinson's disease. In younger patients, the issues of\n",
      "neuroprotection and dyskinesias should be considered. Initial treatment with a MAOB inhibitor\n",
      "appeared to be at least as effective as treatment with a dopamine agonist.\n",
      "\n",
      "Prediction\n",
      "/home/marco/epfl/magma/fine-tuning/sshleifer?distilbart-cnn-12-6_karger_books_para_wordembed_train/ (46 tok):\n",
      "Dopamine agonist versus levodopa may be beneficial in the early stages of Parkinson's disease. In\n",
      "younger patients, the issues of neuroprotection and dyskinesias should be considered.\n",
      "\n",
      "Reference:\n",
      "Trial data indicate that treatment of Parkinson's disease could be initiated with levodopa, oral\n",
      "dopamine agonists or a monoamine oxidase B (MAOB) inhibitor. The PD MED study seems to suggest that\n",
      "initial therapy with levodopa offers a small but persistent benefit compared with the alternatives,\n",
      "and initial MAOB inhibitor treatment is at least as effective as a dopamine agonist.\n",
      "\n",
      "####################################################################################################\n",
      "\n",
      "(9781908541963, 'chapter5')\n",
      "A rapid deterioration may indicate the development of a complicating cholangiocarcinoma. The risk of\n",
      "this malignant transformation is about 6-15% over the course of the disease. Screening for malignant\n",
      "transformation is not effective in detecting early disease, and progression to cholangiocarcinoma is\n",
      "generally regarded as a contraindication to liver transplantation. Treatment. UDCA, 10-15 mg/kg/day,\n",
      "is recommended. This ameliorates pruritus, improves the liver biochemistry and histology and may\n",
      "alter the natural history of the disease. Immunosuppressive and antifibrotic therapies have not\n",
      "proved effective. Liver transplantation is used widely for advanced disease. The indications for\n",
      "transplantation are less precise than they are in PBC, but persistent jaundice of more than 3\n",
      "months' duration, in addition to evidence of liver failure or severe portal hypertension, are\n",
      "reasonable indications to proceed to liver transplantation. The results of liver transplantation are\n",
      "excellent in the absence of cholangiocarcinoma. PSC recurs in 8-15% of cases and is occasionally a\n",
      "cause of significant graft dysfunction.\n",
      "\n",
      "Prediction\n",
      "sshleifer/distilbart-cnn-12-6 (42 tok):\n",
      " UDCA, 10-15 mg/kg/day, ameliorates pruritus, improves the liver biochemistry and histology. Liver\n",
      "transplantation is used widely for advanced disease.\n",
      "\n",
      "Prediction\n",
      "/home/marco/epfl/magma/fine-tuning/sshleifer?distilbart-cnn-12-6_karger_books_para_wordembed_train/ (40 tok):\n",
      "Liver transplantation is used widely for advanced disease. Cholangiocarcinoma is generally regarded\n",
      "as a contraindication to liver transplantation.\n",
      "\n",
      "Reference:\n",
      "Primary sclerosing cholangitis is strongly associated with ulcerative colitis and is unpredictable;\n",
      "late disease can be managed effectively with liver transplantation unless complicated by\n",
      "cholangiocarcinoma.\n",
      "\n",
      "####################################################################################################\n",
      "\n",
      "(9781910797426, 'ch03')\n",
      "Etiology and pathogenesis. Chronic gallbladder inflammation is attributed as an etiologic factor in\n",
      "gallbladder cancer along with molecular alterations in p53 and K-ras. Inflammation may occur as a\n",
      "result of gallstones, gallbladder polyps, chronic Salmonella infection, congenital biliary cysts,\n",
      "abnormal pancreaticobiliary duct junction, carcinogen exposure and certain drugs. There are\n",
      "molecular differences between gallbladder cancers associated with gallstones and those with an\n",
      "abnormal pancreaticobiliary junction. Epidemiology and risk factors. Gallbladder carcinoma is the\n",
      "fifth most common gastrointestinal (GI) cancer in the USA and is the most common GI cancer in Native\n",
      "Americans. Incidence and mortality are very high in certain Latin American countries, especially\n",
      "Chile. Risk factors for gallbladder cancer are outlined in Table 3.3. The majority of gallbladder\n",
      "cancers are adenocarcinomas.\n",
      "\n",
      "Prediction\n",
      "sshleifer/distilbart-cnn-12-6 (84 tok):\n",
      " Gallbladder carcinoma is the fifth most common gastrointestinal (GI) cancer in the USA. Incidence\n",
      "and mortality are very high in certain Latin American countries, especially Chile. Inflammation may\n",
      "occur as a result of gallstones, gallbladder polyps, chronic Salmonella infection, congenital\n",
      "biliary cysts, abnormal pancreaticobiliary duct junction, carcinogen exposure and certain drugs.\n",
      "\n",
      "Prediction\n",
      "/home/marco/epfl/magma/fine-tuning/sshleifer?distilbart-cnn-12-6_karger_books_para_wordembed_train/ (32 tok):\n",
      "Gallbladder carcinoma is the fifth most common gastrointestinal (GI) cancer in the USA and is the\n",
      "most common GI cancer in Native Americans.\n",
      "\n",
      "Reference:\n",
      "Gallbladder cancer is the most common gastrointestinal cancer in Native Americans in the USA and\n",
      "also has a very high incidence in certain Latin American countries, particularly Chile.\n",
      "\n",
      "####################################################################################################\n",
      "\n",
      "(9781910797495, 'chp12')\n",
      "Acute headache. The immediate, important first step in assessing a new headache is determining\n",
      "whether the headache is a serious, potentially life-threatening medical event requiring emergency\n",
      "evaluation and management. All the possibilities highlighted in Table 12.1 must be entertained and\n",
      "discarded before considering the headache to be caused by a chronic headache condition. Brain\n",
      "imaging, including neurovascular studies, may be needed as well as cerebrospinal fluid (CSF)\n",
      "pressure measurement and analysis and further evaluation by a neurologist.\n",
      "\n"
     ]
    },
    {
     "name": "stdout",
     "output_type": "stream",
     "text": [
      "Prediction\n",
      "sshleifer/distilbart-cnn-12-6 (59 tok):\n",
      " All the possibilities highlighted in Table 12.1 must be entertained and discarded before\n",
      "considering the headache to be caused by a chronic headache condition. Brain imaging, including\n",
      "neurovascular studies, may be needed as well as cerebrospinal fluid (CSF) pressure measurement and\n",
      "analysis.\n",
      "\n",
      "Prediction\n",
      "/home/marco/epfl/magma/fine-tuning/sshleifer?distilbart-cnn-12-6_karger_books_para_wordembed_train/ (32 tok):\n",
      "Brain imaging, including neurovascular studies, may be needed as well as cerebrospinal fluid (CSF)\n",
      "pressure measurement and analysis.\n",
      "\n",
      "Reference:\n",
      "In patients without history of chronic headaches, determine whether an acute new headache is a\n",
      "serious, potentially life-threatening condition.\n",
      "\n",
      "####################################################################################################\n",
      "\n"
     ]
    }
   ],
   "source": [
    "print_examples([\n",
    "    'sshleifer/distilbart-cnn-12-6',\n",
    "    magma_dir+'fine-tuning/sshleifer?distilbart-cnn-12-6_karger_books_para_wordembed_train/'],\n",
    "    df_test)"
   ]
  },
  {
   "cell_type": "markdown",
   "metadata": {
    "id": "bKYnUXhvMszX"
   },
   "source": [
    "##### Summarize Test"
   ]
  },
  {
   "cell_type": "code",
   "execution_count": 23,
   "metadata": {
    "executionInfo": {
     "elapsed": 771,
     "status": "ok",
     "timestamp": 1610617165073,
     "user": {
      "displayName": "Marco Pietro Abrate",
      "photoUrl": "https://lh3.googleusercontent.com/a-/AOh14Gjh-8YF-8BlnrkN9mLZ0xfVOWfOh7kYncpYRv-Y=s64",
      "userId": "15422244832836998434"
     },
     "user_tz": -60
    },
    "id": "t3EV4tDfQ1hM"
   },
   "outputs": [],
   "source": [
    "def summarize(model_name_or_path, df, batch_size):\n",
    "    model, tokenizer = import_model_tok(model_name_or_path)\n",
    "    model = model.to(device)\n",
    "\n",
    "    input_ids = tokenizer(df.text.tolist(), return_tensors='pt', padding=True).input_ids\n",
    "    input_ids = input_ids.split(batch_size)\n",
    "\n",
    "    summs = []\n",
    "\n",
    "    pbar = tqdm(total=len(input_ids), \n",
    "                position=0,\n",
    "                leave=True,\n",
    "                file=sys.stdout)\n",
    "    for batch in input_ids:\n",
    "\n",
    "        summ_enc = model.generate(\n",
    "            batch.to(device),\n",
    "            min_length = config.ONE_BULLET_MIN_LEN,\n",
    "            max_length = config.ONE_BULLET_MAX_LEN,\n",
    "            length_penalty = config.LENGTH_PENALTY,\n",
    "            num_beams = config.NUM_BEAMS,\n",
    "            no_repeat_ngram_size = config.NO_REPEAT_NGRAM_SIZE,\n",
    "            early_stopping = True)\n",
    "        summ = tokenizer.batch_decode(summ_enc, skip_special_tokens=True)\n",
    "        summs += summ\n",
    "\n",
    "        pbar.update(1)\n",
    "    pbar.close()\n",
    "\n",
    "    df['summary_'+model_name_or_path] = summs\n",
    "\n",
    "    return df"
   ]
  },
  {
   "cell_type": "code",
   "execution_count": 24,
   "metadata": {
    "colab": {
     "base_uri": "https://localhost:8080/"
    },
    "executionInfo": {
     "elapsed": 89831,
     "status": "ok",
     "timestamp": 1610617255307,
     "user": {
      "displayName": "Marco Pietro Abrate",
      "photoUrl": "https://lh3.googleusercontent.com/a-/AOh14Gjh-8YF-8BlnrkN9mLZ0xfVOWfOh7kYncpYRv-Y=s64",
      "userId": "15422244832836998434"
     },
     "user_tz": -60
    },
    "id": "xQ0KCVkXMszZ",
    "outputId": "d55a74ed-6e68-4e49-8577-9e6125282fb5"
   },
   "outputs": [
    {
     "name": "stdout",
     "output_type": "stream",
     "text": [
      "100%|██████████| 25/25 [18:43<00:00, 44.94s/it]\n",
      "100%|██████████| 25/25 [2:05:11<00:00, 300.47s/it]  \n"
     ]
    }
   ],
   "source": [
    "df_test = summarize('sshleifer/distilbart-cnn-12-6', df_test, 10)\n",
    "df_test = summarize(\n",
    "    magma_dir+'fine-tuning/sshleifer?distilbart-cnn-12-6_karger_books_para_wordembed_train/',\n",
    "    df_test, 10)"
   ]
  },
  {
   "cell_type": "markdown",
   "metadata": {
    "id": "xoxYNE9nOSYL"
   },
   "source": [
    "### **Evaluation**"
   ]
  },
  {
   "cell_type": "code",
   "execution_count": 25,
   "metadata": {
    "colab": {
     "base_uri": "https://localhost:8080/",
     "height": 34,
     "referenced_widgets": [
      "a77961a700f2489f8af86af7aecb7a36"
     ]
    },
    "executionInfo": {
     "elapsed": 2055,
     "status": "ok",
     "timestamp": 1610618117862,
     "user": {
      "displayName": "Marco Pietro Abrate",
      "photoUrl": "https://lh3.googleusercontent.com/a-/AOh14Gjh-8YF-8BlnrkN9mLZ0xfVOWfOh7kYncpYRv-Y=s64",
      "userId": "15422244832836998434"
     },
     "user_tz": -60
    },
    "id": "1d6eIfp0OWYh",
    "outputId": "e85b66fd-c178-41a6-a465-394c29fa4ac8"
   },
   "outputs": [
    {
     "ename": "ConnectionError",
     "evalue": "HTTPSConnectionPool(host='s3.amazonaws.com', port=443): Max retries exceeded with url: /datasets.huggingface.co/datasets/metrics/rouge/rouge.py (Caused by NewConnectionError('<urllib3.connection.HTTPSConnection object at 0x7fe4ed188c18>: Failed to establish a new connection: [Errno -2] Name or service not known',))",
     "output_type": "error",
     "traceback": [
      "\u001b[0;31m---------------------------------------------------------------------------\u001b[0m",
      "\u001b[0;31mgaierror\u001b[0m                                  Traceback (most recent call last)",
      "\u001b[0;32m~/miniconda3/envs/magma/lib/python3.6/site-packages/urllib3/connection.py\u001b[0m in \u001b[0;36m_new_conn\u001b[0;34m(self)\u001b[0m\n\u001b[1;32m    169\u001b[0m             conn = connection.create_connection(\n\u001b[0;32m--> 170\u001b[0;31m                 \u001b[0;34m(\u001b[0m\u001b[0mself\u001b[0m\u001b[0;34m.\u001b[0m\u001b[0m_dns_host\u001b[0m\u001b[0;34m,\u001b[0m \u001b[0mself\u001b[0m\u001b[0;34m.\u001b[0m\u001b[0mport\u001b[0m\u001b[0;34m)\u001b[0m\u001b[0;34m,\u001b[0m \u001b[0mself\u001b[0m\u001b[0;34m.\u001b[0m\u001b[0mtimeout\u001b[0m\u001b[0;34m,\u001b[0m \u001b[0;34m**\u001b[0m\u001b[0mextra_kw\u001b[0m\u001b[0;34m\u001b[0m\u001b[0;34m\u001b[0m\u001b[0m\n\u001b[0m\u001b[1;32m    171\u001b[0m             )\n",
      "\u001b[0;32m~/miniconda3/envs/magma/lib/python3.6/site-packages/urllib3/util/connection.py\u001b[0m in \u001b[0;36mcreate_connection\u001b[0;34m(address, timeout, source_address, socket_options)\u001b[0m\n\u001b[1;32m     72\u001b[0m \u001b[0;34m\u001b[0m\u001b[0m\n\u001b[0;32m---> 73\u001b[0;31m     \u001b[0;32mfor\u001b[0m \u001b[0mres\u001b[0m \u001b[0;32min\u001b[0m \u001b[0msocket\u001b[0m\u001b[0;34m.\u001b[0m\u001b[0mgetaddrinfo\u001b[0m\u001b[0;34m(\u001b[0m\u001b[0mhost\u001b[0m\u001b[0;34m,\u001b[0m \u001b[0mport\u001b[0m\u001b[0;34m,\u001b[0m \u001b[0mfamily\u001b[0m\u001b[0;34m,\u001b[0m \u001b[0msocket\u001b[0m\u001b[0;34m.\u001b[0m\u001b[0mSOCK_STREAM\u001b[0m\u001b[0;34m)\u001b[0m\u001b[0;34m:\u001b[0m\u001b[0;34m\u001b[0m\u001b[0;34m\u001b[0m\u001b[0m\n\u001b[0m\u001b[1;32m     74\u001b[0m         \u001b[0maf\u001b[0m\u001b[0;34m,\u001b[0m \u001b[0msocktype\u001b[0m\u001b[0;34m,\u001b[0m \u001b[0mproto\u001b[0m\u001b[0;34m,\u001b[0m \u001b[0mcanonname\u001b[0m\u001b[0;34m,\u001b[0m \u001b[0msa\u001b[0m \u001b[0;34m=\u001b[0m \u001b[0mres\u001b[0m\u001b[0;34m\u001b[0m\u001b[0;34m\u001b[0m\u001b[0m\n",
      "\u001b[0;32m~/miniconda3/envs/magma/lib/python3.6/socket.py\u001b[0m in \u001b[0;36mgetaddrinfo\u001b[0;34m(host, port, family, type, proto, flags)\u001b[0m\n\u001b[1;32m    744\u001b[0m     \u001b[0maddrlist\u001b[0m \u001b[0;34m=\u001b[0m \u001b[0;34m[\u001b[0m\u001b[0;34m]\u001b[0m\u001b[0;34m\u001b[0m\u001b[0;34m\u001b[0m\u001b[0m\n\u001b[0;32m--> 745\u001b[0;31m     \u001b[0;32mfor\u001b[0m \u001b[0mres\u001b[0m \u001b[0;32min\u001b[0m \u001b[0m_socket\u001b[0m\u001b[0;34m.\u001b[0m\u001b[0mgetaddrinfo\u001b[0m\u001b[0;34m(\u001b[0m\u001b[0mhost\u001b[0m\u001b[0;34m,\u001b[0m \u001b[0mport\u001b[0m\u001b[0;34m,\u001b[0m \u001b[0mfamily\u001b[0m\u001b[0;34m,\u001b[0m \u001b[0mtype\u001b[0m\u001b[0;34m,\u001b[0m \u001b[0mproto\u001b[0m\u001b[0;34m,\u001b[0m \u001b[0mflags\u001b[0m\u001b[0;34m)\u001b[0m\u001b[0;34m:\u001b[0m\u001b[0;34m\u001b[0m\u001b[0;34m\u001b[0m\u001b[0m\n\u001b[0m\u001b[1;32m    746\u001b[0m         \u001b[0maf\u001b[0m\u001b[0;34m,\u001b[0m \u001b[0msocktype\u001b[0m\u001b[0;34m,\u001b[0m \u001b[0mproto\u001b[0m\u001b[0;34m,\u001b[0m \u001b[0mcanonname\u001b[0m\u001b[0;34m,\u001b[0m \u001b[0msa\u001b[0m \u001b[0;34m=\u001b[0m \u001b[0mres\u001b[0m\u001b[0;34m\u001b[0m\u001b[0;34m\u001b[0m\u001b[0m\n",
      "\u001b[0;31mgaierror\u001b[0m: [Errno -2] Name or service not known",
      "\nDuring handling of the above exception, another exception occurred:\n",
      "\u001b[0;31mNewConnectionError\u001b[0m                        Traceback (most recent call last)",
      "\u001b[0;32m~/miniconda3/envs/magma/lib/python3.6/site-packages/urllib3/connectionpool.py\u001b[0m in \u001b[0;36murlopen\u001b[0;34m(self, method, url, body, headers, retries, redirect, assert_same_host, timeout, pool_timeout, release_conn, chunked, body_pos, **response_kw)\u001b[0m\n\u001b[1;32m    705\u001b[0m                 \u001b[0mheaders\u001b[0m\u001b[0;34m=\u001b[0m\u001b[0mheaders\u001b[0m\u001b[0;34m,\u001b[0m\u001b[0;34m\u001b[0m\u001b[0;34m\u001b[0m\u001b[0m\n\u001b[0;32m--> 706\u001b[0;31m                 \u001b[0mchunked\u001b[0m\u001b[0;34m=\u001b[0m\u001b[0mchunked\u001b[0m\u001b[0;34m,\u001b[0m\u001b[0;34m\u001b[0m\u001b[0;34m\u001b[0m\u001b[0m\n\u001b[0m\u001b[1;32m    707\u001b[0m             )\n",
      "\u001b[0;32m~/miniconda3/envs/magma/lib/python3.6/site-packages/urllib3/connectionpool.py\u001b[0m in \u001b[0;36m_make_request\u001b[0;34m(self, conn, method, url, timeout, chunked, **httplib_request_kw)\u001b[0m\n\u001b[1;32m    381\u001b[0m         \u001b[0;32mtry\u001b[0m\u001b[0;34m:\u001b[0m\u001b[0;34m\u001b[0m\u001b[0;34m\u001b[0m\u001b[0m\n\u001b[0;32m--> 382\u001b[0;31m             \u001b[0mself\u001b[0m\u001b[0;34m.\u001b[0m\u001b[0m_validate_conn\u001b[0m\u001b[0;34m(\u001b[0m\u001b[0mconn\u001b[0m\u001b[0;34m)\u001b[0m\u001b[0;34m\u001b[0m\u001b[0;34m\u001b[0m\u001b[0m\n\u001b[0m\u001b[1;32m    383\u001b[0m         \u001b[0;32mexcept\u001b[0m \u001b[0;34m(\u001b[0m\u001b[0mSocketTimeout\u001b[0m\u001b[0;34m,\u001b[0m \u001b[0mBaseSSLError\u001b[0m\u001b[0;34m)\u001b[0m \u001b[0;32mas\u001b[0m \u001b[0me\u001b[0m\u001b[0;34m:\u001b[0m\u001b[0;34m\u001b[0m\u001b[0;34m\u001b[0m\u001b[0m\n",
      "\u001b[0;32m~/miniconda3/envs/magma/lib/python3.6/site-packages/urllib3/connectionpool.py\u001b[0m in \u001b[0;36m_validate_conn\u001b[0;34m(self, conn)\u001b[0m\n\u001b[1;32m   1009\u001b[0m         \u001b[0;32mif\u001b[0m \u001b[0;32mnot\u001b[0m \u001b[0mgetattr\u001b[0m\u001b[0;34m(\u001b[0m\u001b[0mconn\u001b[0m\u001b[0;34m,\u001b[0m \u001b[0;34m\"sock\"\u001b[0m\u001b[0;34m,\u001b[0m \u001b[0;32mNone\u001b[0m\u001b[0;34m)\u001b[0m\u001b[0;34m:\u001b[0m  \u001b[0;31m# AppEngine might not have  `.sock`\u001b[0m\u001b[0;34m\u001b[0m\u001b[0;34m\u001b[0m\u001b[0m\n\u001b[0;32m-> 1010\u001b[0;31m             \u001b[0mconn\u001b[0m\u001b[0;34m.\u001b[0m\u001b[0mconnect\u001b[0m\u001b[0;34m(\u001b[0m\u001b[0;34m)\u001b[0m\u001b[0;34m\u001b[0m\u001b[0;34m\u001b[0m\u001b[0m\n\u001b[0m\u001b[1;32m   1011\u001b[0m \u001b[0;34m\u001b[0m\u001b[0m\n",
      "\u001b[0;32m~/miniconda3/envs/magma/lib/python3.6/site-packages/urllib3/connection.py\u001b[0m in \u001b[0;36mconnect\u001b[0;34m(self)\u001b[0m\n\u001b[1;32m    352\u001b[0m         \u001b[0;31m# Add certificate verification\u001b[0m\u001b[0;34m\u001b[0m\u001b[0;34m\u001b[0m\u001b[0;34m\u001b[0m\u001b[0m\n\u001b[0;32m--> 353\u001b[0;31m         \u001b[0mconn\u001b[0m \u001b[0;34m=\u001b[0m \u001b[0mself\u001b[0m\u001b[0;34m.\u001b[0m\u001b[0m_new_conn\u001b[0m\u001b[0;34m(\u001b[0m\u001b[0;34m)\u001b[0m\u001b[0;34m\u001b[0m\u001b[0;34m\u001b[0m\u001b[0m\n\u001b[0m\u001b[1;32m    354\u001b[0m         \u001b[0mhostname\u001b[0m \u001b[0;34m=\u001b[0m \u001b[0mself\u001b[0m\u001b[0;34m.\u001b[0m\u001b[0mhost\u001b[0m\u001b[0;34m\u001b[0m\u001b[0;34m\u001b[0m\u001b[0m\n",
      "\u001b[0;32m~/miniconda3/envs/magma/lib/python3.6/site-packages/urllib3/connection.py\u001b[0m in \u001b[0;36m_new_conn\u001b[0;34m(self)\u001b[0m\n\u001b[1;32m    181\u001b[0m             raise NewConnectionError(\n\u001b[0;32m--> 182\u001b[0;31m                 \u001b[0mself\u001b[0m\u001b[0;34m,\u001b[0m \u001b[0;34m\"Failed to establish a new connection: %s\"\u001b[0m \u001b[0;34m%\u001b[0m \u001b[0me\u001b[0m\u001b[0;34m\u001b[0m\u001b[0;34m\u001b[0m\u001b[0m\n\u001b[0m\u001b[1;32m    183\u001b[0m             )\n",
      "\u001b[0;31mNewConnectionError\u001b[0m: <urllib3.connection.HTTPSConnection object at 0x7fe4ed188c18>: Failed to establish a new connection: [Errno -2] Name or service not known",
      "\nDuring handling of the above exception, another exception occurred:\n",
      "\u001b[0;31mMaxRetryError\u001b[0m                             Traceback (most recent call last)",
      "\u001b[0;32m~/miniconda3/envs/magma/lib/python3.6/site-packages/requests/adapters.py\u001b[0m in \u001b[0;36msend\u001b[0;34m(self, request, stream, timeout, verify, cert, proxies)\u001b[0m\n\u001b[1;32m    448\u001b[0m                     \u001b[0mretries\u001b[0m\u001b[0;34m=\u001b[0m\u001b[0mself\u001b[0m\u001b[0;34m.\u001b[0m\u001b[0mmax_retries\u001b[0m\u001b[0;34m,\u001b[0m\u001b[0;34m\u001b[0m\u001b[0;34m\u001b[0m\u001b[0m\n\u001b[0;32m--> 449\u001b[0;31m                     \u001b[0mtimeout\u001b[0m\u001b[0;34m=\u001b[0m\u001b[0mtimeout\u001b[0m\u001b[0;34m\u001b[0m\u001b[0;34m\u001b[0m\u001b[0m\n\u001b[0m\u001b[1;32m    450\u001b[0m                 )\n",
      "\u001b[0;32m~/miniconda3/envs/magma/lib/python3.6/site-packages/urllib3/connectionpool.py\u001b[0m in \u001b[0;36murlopen\u001b[0;34m(self, method, url, body, headers, retries, redirect, assert_same_host, timeout, pool_timeout, release_conn, chunked, body_pos, **response_kw)\u001b[0m\n\u001b[1;32m    755\u001b[0m             retries = retries.increment(\n\u001b[0;32m--> 756\u001b[0;31m                 \u001b[0mmethod\u001b[0m\u001b[0;34m,\u001b[0m \u001b[0murl\u001b[0m\u001b[0;34m,\u001b[0m \u001b[0merror\u001b[0m\u001b[0;34m=\u001b[0m\u001b[0me\u001b[0m\u001b[0;34m,\u001b[0m \u001b[0m_pool\u001b[0m\u001b[0;34m=\u001b[0m\u001b[0mself\u001b[0m\u001b[0;34m,\u001b[0m \u001b[0m_stacktrace\u001b[0m\u001b[0;34m=\u001b[0m\u001b[0msys\u001b[0m\u001b[0;34m.\u001b[0m\u001b[0mexc_info\u001b[0m\u001b[0;34m(\u001b[0m\u001b[0;34m)\u001b[0m\u001b[0;34m[\u001b[0m\u001b[0;36m2\u001b[0m\u001b[0;34m]\u001b[0m\u001b[0;34m\u001b[0m\u001b[0;34m\u001b[0m\u001b[0m\n\u001b[0m\u001b[1;32m    757\u001b[0m             )\n",
      "\u001b[0;32m~/miniconda3/envs/magma/lib/python3.6/site-packages/urllib3/util/retry.py\u001b[0m in \u001b[0;36mincrement\u001b[0;34m(self, method, url, response, error, _pool, _stacktrace)\u001b[0m\n\u001b[1;32m    572\u001b[0m         \u001b[0;32mif\u001b[0m \u001b[0mnew_retry\u001b[0m\u001b[0;34m.\u001b[0m\u001b[0mis_exhausted\u001b[0m\u001b[0;34m(\u001b[0m\u001b[0;34m)\u001b[0m\u001b[0;34m:\u001b[0m\u001b[0;34m\u001b[0m\u001b[0;34m\u001b[0m\u001b[0m\n\u001b[0;32m--> 573\u001b[0;31m             \u001b[0;32mraise\u001b[0m \u001b[0mMaxRetryError\u001b[0m\u001b[0;34m(\u001b[0m\u001b[0m_pool\u001b[0m\u001b[0;34m,\u001b[0m \u001b[0murl\u001b[0m\u001b[0;34m,\u001b[0m \u001b[0merror\u001b[0m \u001b[0;32mor\u001b[0m \u001b[0mResponseError\u001b[0m\u001b[0;34m(\u001b[0m\u001b[0mcause\u001b[0m\u001b[0;34m)\u001b[0m\u001b[0;34m)\u001b[0m\u001b[0;34m\u001b[0m\u001b[0;34m\u001b[0m\u001b[0m\n\u001b[0m\u001b[1;32m    574\u001b[0m \u001b[0;34m\u001b[0m\u001b[0m\n",
      "\u001b[0;31mMaxRetryError\u001b[0m: HTTPSConnectionPool(host='s3.amazonaws.com', port=443): Max retries exceeded with url: /datasets.huggingface.co/datasets/metrics/rouge/rouge.py (Caused by NewConnectionError('<urllib3.connection.HTTPSConnection object at 0x7fe4ed188c18>: Failed to establish a new connection: [Errno -2] Name or service not known',))",
      "\nDuring handling of the above exception, another exception occurred:\n",
      "\u001b[0;31mConnectionError\u001b[0m                           Traceback (most recent call last)",
      "\u001b[0;32m<ipython-input-25-1a0e7328e82b>\u001b[0m in \u001b[0;36m<module>\u001b[0;34m\u001b[0m\n\u001b[1;32m      1\u001b[0m \u001b[0;32mfrom\u001b[0m \u001b[0mdatasets\u001b[0m \u001b[0;32mimport\u001b[0m \u001b[0mload_metric\u001b[0m\u001b[0;34m\u001b[0m\u001b[0;34m\u001b[0m\u001b[0m\n\u001b[1;32m      2\u001b[0m \u001b[0;34m\u001b[0m\u001b[0m\n\u001b[0;32m----> 3\u001b[0;31m \u001b[0mmetric\u001b[0m \u001b[0;34m=\u001b[0m \u001b[0mload_metric\u001b[0m\u001b[0;34m(\u001b[0m\u001b[0;34m\"rouge\"\u001b[0m\u001b[0;34m)\u001b[0m\u001b[0;34m\u001b[0m\u001b[0;34m\u001b[0m\u001b[0m\n\u001b[0m",
      "\u001b[0;32m~/miniconda3/envs/magma/lib/python3.6/site-packages/datasets/load.py\u001b[0m in \u001b[0;36mload_metric\u001b[0;34m(path, config_name, process_id, num_process, cache_dir, experiment_id, keep_in_memory, download_config, download_mode, script_version, **metric_init_kwargs)\u001b[0m\n\u001b[1;32m    498\u001b[0m         \u001b[0mdownload_config\u001b[0m\u001b[0;34m=\u001b[0m\u001b[0mdownload_config\u001b[0m\u001b[0;34m,\u001b[0m\u001b[0;34m\u001b[0m\u001b[0;34m\u001b[0m\u001b[0m\n\u001b[1;32m    499\u001b[0m         \u001b[0mdownload_mode\u001b[0m\u001b[0;34m=\u001b[0m\u001b[0mdownload_mode\u001b[0m\u001b[0;34m,\u001b[0m\u001b[0;34m\u001b[0m\u001b[0;34m\u001b[0m\u001b[0m\n\u001b[0;32m--> 500\u001b[0;31m         \u001b[0mdataset\u001b[0m\u001b[0;34m=\u001b[0m\u001b[0;32mFalse\u001b[0m\u001b[0;34m,\u001b[0m\u001b[0;34m\u001b[0m\u001b[0;34m\u001b[0m\u001b[0m\n\u001b[0m\u001b[1;32m    501\u001b[0m     )\n\u001b[1;32m    502\u001b[0m     \u001b[0mmetric_cls\u001b[0m \u001b[0;34m=\u001b[0m \u001b[0mimport_main_class\u001b[0m\u001b[0;34m(\u001b[0m\u001b[0mmodule_path\u001b[0m\u001b[0;34m,\u001b[0m \u001b[0mdataset\u001b[0m\u001b[0;34m=\u001b[0m\u001b[0;32mFalse\u001b[0m\u001b[0;34m)\u001b[0m\u001b[0;34m\u001b[0m\u001b[0;34m\u001b[0m\u001b[0m\n",
      "\u001b[0;32m~/miniconda3/envs/magma/lib/python3.6/site-packages/datasets/load.py\u001b[0m in \u001b[0;36mprepare_module\u001b[0;34m(path, script_version, download_config, download_mode, dataset, force_local_path, **download_kwargs)\u001b[0m\n\u001b[1;32m    261\u001b[0m     \u001b[0;32melse\u001b[0m\u001b[0;34m:\u001b[0m\u001b[0;34m\u001b[0m\u001b[0;34m\u001b[0m\u001b[0m\n\u001b[1;32m    262\u001b[0m         \u001b[0;31m# Try github (canonical datasets/metrics) and then S3 (users datasets/metrics)\u001b[0m\u001b[0;34m\u001b[0m\u001b[0;34m\u001b[0m\u001b[0;34m\u001b[0m\u001b[0m\n\u001b[0;32m--> 263\u001b[0;31m         \u001b[0mhead_hf_s3\u001b[0m\u001b[0;34m(\u001b[0m\u001b[0mpath\u001b[0m\u001b[0;34m,\u001b[0m \u001b[0mfilename\u001b[0m\u001b[0;34m=\u001b[0m\u001b[0mname\u001b[0m\u001b[0;34m,\u001b[0m \u001b[0mdataset\u001b[0m\u001b[0;34m=\u001b[0m\u001b[0mdataset\u001b[0m\u001b[0;34m,\u001b[0m \u001b[0mmax_retries\u001b[0m\u001b[0;34m=\u001b[0m\u001b[0mdownload_config\u001b[0m\u001b[0;34m.\u001b[0m\u001b[0mmax_retries\u001b[0m\u001b[0;34m)\u001b[0m\u001b[0;34m\u001b[0m\u001b[0;34m\u001b[0m\u001b[0m\n\u001b[0m\u001b[1;32m    264\u001b[0m         \u001b[0mscript_version\u001b[0m \u001b[0;34m=\u001b[0m \u001b[0mstr\u001b[0m\u001b[0;34m(\u001b[0m\u001b[0mscript_version\u001b[0m\u001b[0;34m)\u001b[0m \u001b[0;32mif\u001b[0m \u001b[0mscript_version\u001b[0m \u001b[0;32mis\u001b[0m \u001b[0;32mnot\u001b[0m \u001b[0;32mNone\u001b[0m \u001b[0;32melse\u001b[0m \u001b[0;32mNone\u001b[0m\u001b[0;34m\u001b[0m\u001b[0;34m\u001b[0m\u001b[0m\n\u001b[1;32m    265\u001b[0m         \u001b[0mfile_path\u001b[0m \u001b[0;34m=\u001b[0m \u001b[0mhf_github_url\u001b[0m\u001b[0;34m(\u001b[0m\u001b[0mpath\u001b[0m\u001b[0;34m=\u001b[0m\u001b[0mpath\u001b[0m\u001b[0;34m,\u001b[0m \u001b[0mname\u001b[0m\u001b[0;34m=\u001b[0m\u001b[0mname\u001b[0m\u001b[0;34m,\u001b[0m \u001b[0mdataset\u001b[0m\u001b[0;34m=\u001b[0m\u001b[0mdataset\u001b[0m\u001b[0;34m,\u001b[0m \u001b[0mversion\u001b[0m\u001b[0;34m=\u001b[0m\u001b[0mscript_version\u001b[0m\u001b[0;34m)\u001b[0m\u001b[0;34m\u001b[0m\u001b[0;34m\u001b[0m\u001b[0m\n",
      "\u001b[0;32m~/miniconda3/envs/magma/lib/python3.6/site-packages/datasets/utils/file_utils.py\u001b[0m in \u001b[0;36mhead_hf_s3\u001b[0;34m(identifier, filename, use_cdn, dataset, max_retries)\u001b[0m\n\u001b[1;32m    230\u001b[0m     return http_head(\n\u001b[1;32m    231\u001b[0m         \u001b[0mhf_bucket_url\u001b[0m\u001b[0;34m(\u001b[0m\u001b[0midentifier\u001b[0m\u001b[0;34m=\u001b[0m\u001b[0midentifier\u001b[0m\u001b[0;34m,\u001b[0m \u001b[0mfilename\u001b[0m\u001b[0;34m=\u001b[0m\u001b[0mfilename\u001b[0m\u001b[0;34m,\u001b[0m \u001b[0muse_cdn\u001b[0m\u001b[0;34m=\u001b[0m\u001b[0muse_cdn\u001b[0m\u001b[0;34m,\u001b[0m \u001b[0mdataset\u001b[0m\u001b[0;34m=\u001b[0m\u001b[0mdataset\u001b[0m\u001b[0;34m)\u001b[0m\u001b[0;34m,\u001b[0m\u001b[0;34m\u001b[0m\u001b[0;34m\u001b[0m\u001b[0m\n\u001b[0;32m--> 232\u001b[0;31m         \u001b[0mmax_retries\u001b[0m\u001b[0;34m=\u001b[0m\u001b[0mmax_retries\u001b[0m\u001b[0;34m,\u001b[0m\u001b[0;34m\u001b[0m\u001b[0;34m\u001b[0m\u001b[0m\n\u001b[0m\u001b[1;32m    233\u001b[0m     )\n\u001b[1;32m    234\u001b[0m \u001b[0;34m\u001b[0m\u001b[0m\n",
      "\u001b[0;32m~/miniconda3/envs/magma/lib/python3.6/site-packages/datasets/utils/file_utils.py\u001b[0m in \u001b[0;36mhttp_head\u001b[0;34m(url, proxies, user_agent, cookies, allow_redirects, timeout, max_retries)\u001b[0m\n\u001b[1;32m    521\u001b[0m         \u001b[0mallow_redirects\u001b[0m\u001b[0;34m=\u001b[0m\u001b[0mallow_redirects\u001b[0m\u001b[0;34m,\u001b[0m\u001b[0;34m\u001b[0m\u001b[0;34m\u001b[0m\u001b[0m\n\u001b[1;32m    522\u001b[0m         \u001b[0mtimeout\u001b[0m\u001b[0;34m=\u001b[0m\u001b[0mtimeout\u001b[0m\u001b[0;34m,\u001b[0m\u001b[0;34m\u001b[0m\u001b[0;34m\u001b[0m\u001b[0m\n\u001b[0;32m--> 523\u001b[0;31m         \u001b[0mmax_retries\u001b[0m\u001b[0;34m=\u001b[0m\u001b[0mmax_retries\u001b[0m\u001b[0;34m,\u001b[0m\u001b[0;34m\u001b[0m\u001b[0;34m\u001b[0m\u001b[0m\n\u001b[0m\u001b[1;32m    524\u001b[0m     )\n\u001b[1;32m    525\u001b[0m     \u001b[0;32mreturn\u001b[0m \u001b[0mresponse\u001b[0m\u001b[0;34m\u001b[0m\u001b[0;34m\u001b[0m\u001b[0m\n",
      "\u001b[0;32m~/miniconda3/envs/magma/lib/python3.6/site-packages/datasets/utils/file_utils.py\u001b[0m in \u001b[0;36m_request_with_retry\u001b[0;34m(verb, url, max_retries, base_wait_time, max_wait_time, **params)\u001b[0m\n\u001b[1;32m    452\u001b[0m         \u001b[0mtries\u001b[0m \u001b[0;34m+=\u001b[0m \u001b[0;36m1\u001b[0m\u001b[0;34m\u001b[0m\u001b[0;34m\u001b[0m\u001b[0m\n\u001b[1;32m    453\u001b[0m         \u001b[0;32mtry\u001b[0m\u001b[0;34m:\u001b[0m\u001b[0;34m\u001b[0m\u001b[0;34m\u001b[0m\u001b[0m\n\u001b[0;32m--> 454\u001b[0;31m             \u001b[0mresponse\u001b[0m \u001b[0;34m=\u001b[0m \u001b[0mrequests\u001b[0m\u001b[0;34m.\u001b[0m\u001b[0mrequest\u001b[0m\u001b[0;34m(\u001b[0m\u001b[0mverb\u001b[0m\u001b[0;34m.\u001b[0m\u001b[0mupper\u001b[0m\u001b[0;34m(\u001b[0m\u001b[0;34m)\u001b[0m\u001b[0;34m,\u001b[0m \u001b[0murl\u001b[0m\u001b[0;34m,\u001b[0m \u001b[0;34m**\u001b[0m\u001b[0mparams\u001b[0m\u001b[0;34m)\u001b[0m\u001b[0;34m\u001b[0m\u001b[0;34m\u001b[0m\u001b[0m\n\u001b[0m\u001b[1;32m    455\u001b[0m             \u001b[0msuccess\u001b[0m \u001b[0;34m=\u001b[0m \u001b[0;32mTrue\u001b[0m\u001b[0;34m\u001b[0m\u001b[0;34m\u001b[0m\u001b[0m\n\u001b[1;32m    456\u001b[0m         \u001b[0;32mexcept\u001b[0m \u001b[0mrequests\u001b[0m\u001b[0;34m.\u001b[0m\u001b[0mexceptions\u001b[0m\u001b[0;34m.\u001b[0m\u001b[0mConnectTimeout\u001b[0m \u001b[0;32mas\u001b[0m \u001b[0merr\u001b[0m\u001b[0;34m:\u001b[0m\u001b[0;34m\u001b[0m\u001b[0;34m\u001b[0m\u001b[0m\n",
      "\u001b[0;32m~/miniconda3/envs/magma/lib/python3.6/site-packages/requests/api.py\u001b[0m in \u001b[0;36mrequest\u001b[0;34m(method, url, **kwargs)\u001b[0m\n\u001b[1;32m     59\u001b[0m     \u001b[0;31m# cases, and look like a memory leak in others.\u001b[0m\u001b[0;34m\u001b[0m\u001b[0;34m\u001b[0m\u001b[0;34m\u001b[0m\u001b[0m\n\u001b[1;32m     60\u001b[0m     \u001b[0;32mwith\u001b[0m \u001b[0msessions\u001b[0m\u001b[0;34m.\u001b[0m\u001b[0mSession\u001b[0m\u001b[0;34m(\u001b[0m\u001b[0;34m)\u001b[0m \u001b[0;32mas\u001b[0m \u001b[0msession\u001b[0m\u001b[0;34m:\u001b[0m\u001b[0;34m\u001b[0m\u001b[0;34m\u001b[0m\u001b[0m\n\u001b[0;32m---> 61\u001b[0;31m         \u001b[0;32mreturn\u001b[0m \u001b[0msession\u001b[0m\u001b[0;34m.\u001b[0m\u001b[0mrequest\u001b[0m\u001b[0;34m(\u001b[0m\u001b[0mmethod\u001b[0m\u001b[0;34m=\u001b[0m\u001b[0mmethod\u001b[0m\u001b[0;34m,\u001b[0m \u001b[0murl\u001b[0m\u001b[0;34m=\u001b[0m\u001b[0murl\u001b[0m\u001b[0;34m,\u001b[0m \u001b[0;34m**\u001b[0m\u001b[0mkwargs\u001b[0m\u001b[0;34m)\u001b[0m\u001b[0;34m\u001b[0m\u001b[0;34m\u001b[0m\u001b[0m\n\u001b[0m\u001b[1;32m     62\u001b[0m \u001b[0;34m\u001b[0m\u001b[0m\n\u001b[1;32m     63\u001b[0m \u001b[0;34m\u001b[0m\u001b[0m\n",
      "\u001b[0;32m~/miniconda3/envs/magma/lib/python3.6/site-packages/requests/sessions.py\u001b[0m in \u001b[0;36mrequest\u001b[0;34m(self, method, url, params, data, headers, cookies, files, auth, timeout, allow_redirects, proxies, hooks, stream, verify, cert, json)\u001b[0m\n\u001b[1;32m    540\u001b[0m         }\n\u001b[1;32m    541\u001b[0m         \u001b[0msend_kwargs\u001b[0m\u001b[0;34m.\u001b[0m\u001b[0mupdate\u001b[0m\u001b[0;34m(\u001b[0m\u001b[0msettings\u001b[0m\u001b[0;34m)\u001b[0m\u001b[0;34m\u001b[0m\u001b[0;34m\u001b[0m\u001b[0m\n\u001b[0;32m--> 542\u001b[0;31m         \u001b[0mresp\u001b[0m \u001b[0;34m=\u001b[0m \u001b[0mself\u001b[0m\u001b[0;34m.\u001b[0m\u001b[0msend\u001b[0m\u001b[0;34m(\u001b[0m\u001b[0mprep\u001b[0m\u001b[0;34m,\u001b[0m \u001b[0;34m**\u001b[0m\u001b[0msend_kwargs\u001b[0m\u001b[0;34m)\u001b[0m\u001b[0;34m\u001b[0m\u001b[0;34m\u001b[0m\u001b[0m\n\u001b[0m\u001b[1;32m    543\u001b[0m \u001b[0;34m\u001b[0m\u001b[0m\n\u001b[1;32m    544\u001b[0m         \u001b[0;32mreturn\u001b[0m \u001b[0mresp\u001b[0m\u001b[0;34m\u001b[0m\u001b[0;34m\u001b[0m\u001b[0m\n",
      "\u001b[0;32m~/miniconda3/envs/magma/lib/python3.6/site-packages/requests/sessions.py\u001b[0m in \u001b[0;36msend\u001b[0;34m(self, request, **kwargs)\u001b[0m\n\u001b[1;32m    653\u001b[0m \u001b[0;34m\u001b[0m\u001b[0m\n\u001b[1;32m    654\u001b[0m         \u001b[0;31m# Send the request\u001b[0m\u001b[0;34m\u001b[0m\u001b[0;34m\u001b[0m\u001b[0;34m\u001b[0m\u001b[0m\n\u001b[0;32m--> 655\u001b[0;31m         \u001b[0mr\u001b[0m \u001b[0;34m=\u001b[0m \u001b[0madapter\u001b[0m\u001b[0;34m.\u001b[0m\u001b[0msend\u001b[0m\u001b[0;34m(\u001b[0m\u001b[0mrequest\u001b[0m\u001b[0;34m,\u001b[0m \u001b[0;34m**\u001b[0m\u001b[0mkwargs\u001b[0m\u001b[0;34m)\u001b[0m\u001b[0;34m\u001b[0m\u001b[0;34m\u001b[0m\u001b[0m\n\u001b[0m\u001b[1;32m    656\u001b[0m \u001b[0;34m\u001b[0m\u001b[0m\n\u001b[1;32m    657\u001b[0m         \u001b[0;31m# Total elapsed time of the request (approximately)\u001b[0m\u001b[0;34m\u001b[0m\u001b[0;34m\u001b[0m\u001b[0;34m\u001b[0m\u001b[0m\n",
      "\u001b[0;32m~/miniconda3/envs/magma/lib/python3.6/site-packages/requests/adapters.py\u001b[0m in \u001b[0;36msend\u001b[0;34m(self, request, stream, timeout, verify, cert, proxies)\u001b[0m\n\u001b[1;32m    514\u001b[0m                 \u001b[0;32mraise\u001b[0m \u001b[0mSSLError\u001b[0m\u001b[0;34m(\u001b[0m\u001b[0me\u001b[0m\u001b[0;34m,\u001b[0m \u001b[0mrequest\u001b[0m\u001b[0;34m=\u001b[0m\u001b[0mrequest\u001b[0m\u001b[0;34m)\u001b[0m\u001b[0;34m\u001b[0m\u001b[0;34m\u001b[0m\u001b[0m\n\u001b[1;32m    515\u001b[0m \u001b[0;34m\u001b[0m\u001b[0m\n\u001b[0;32m--> 516\u001b[0;31m             \u001b[0;32mraise\u001b[0m \u001b[0mConnectionError\u001b[0m\u001b[0;34m(\u001b[0m\u001b[0me\u001b[0m\u001b[0;34m,\u001b[0m \u001b[0mrequest\u001b[0m\u001b[0;34m=\u001b[0m\u001b[0mrequest\u001b[0m\u001b[0;34m)\u001b[0m\u001b[0;34m\u001b[0m\u001b[0;34m\u001b[0m\u001b[0m\n\u001b[0m\u001b[1;32m    517\u001b[0m \u001b[0;34m\u001b[0m\u001b[0m\n\u001b[1;32m    518\u001b[0m         \u001b[0;32mexcept\u001b[0m \u001b[0mClosedPoolError\u001b[0m \u001b[0;32mas\u001b[0m \u001b[0me\u001b[0m\u001b[0;34m:\u001b[0m\u001b[0;34m\u001b[0m\u001b[0;34m\u001b[0m\u001b[0m\n",
      "\u001b[0;31mConnectionError\u001b[0m: HTTPSConnectionPool(host='s3.amazonaws.com', port=443): Max retries exceeded with url: /datasets.huggingface.co/datasets/metrics/rouge/rouge.py (Caused by NewConnectionError('<urllib3.connection.HTTPSConnection object at 0x7fe4ed188c18>: Failed to establish a new connection: [Errno -2] Name or service not known',))"
     ]
    }
   ],
   "source": [
    "from datasets import load_metric\n",
    "\n",
    "metric = load_metric(\"rouge\")"
   ]
  },
  {
   "cell_type": "markdown",
   "metadata": {
    "heading_collapsed": true,
    "id": "mIcAg1ss4qIR"
   },
   "source": [
    "#### Evaluate summaries"
   ]
  },
  {
   "cell_type": "code",
   "execution_count": null,
   "metadata": {
    "executionInfo": {
     "elapsed": 1296,
     "status": "ok",
     "timestamp": 1610618120072,
     "user": {
      "displayName": "Marco Pietro Abrate",
      "photoUrl": "https://lh3.googleusercontent.com/a-/AOh14Gjh-8YF-8BlnrkN9mLZ0xfVOWfOh7kYncpYRv-Y=s64",
      "userId": "15422244832836998434"
     },
     "user_tz": -60
    },
    "hidden": true,
    "id": "NN-p4XvvxPLi"
   },
   "outputs": [],
   "source": [
    "def evaluate_model(df, model_name_or_path):\n",
    "    df_eval = df.groupby(['book', 'chapter'], sort=False).agg({\n",
    "        'text': lambda t: ' '.join(list(t)),\n",
    "        'bullets': lambda b: ' '.join(list(b)),\n",
    "        'summary_'+model_name_or_path: lambda s: ' '.join(list(s))})\n",
    "    \n",
    "    rouge_res =\\\n",
    "        df_eval[['bullets', 'summary_'+model_name_or_path]]\\\n",
    "        .apply(lambda row:\n",
    "        metric.compute(\n",
    "            predictions = [row[1]],\n",
    "            references = [row[0]],\n",
    "            rouge_types = config.ROUGE_TYPES,\n",
    "            use_agregator = False), axis=1)\n",
    "\n",
    "    for r in config.ROUGE_TYPES:\n",
    "        for i, prf in enumerate(['precision', 'recall', 'fmeasure']):\n",
    "            df_eval[r+'_'+prf+'_'+model_name_or_path] =\\\n",
    "                rouge_res.map(lambda score: score[r][0][i])\n",
    "            \n",
    "    df_eval.to_csv(OUTPUT_PATH+model_name_or_path.replace('/', '?')+'.csv')\n",
    "    \n",
    "    return df_eval"
   ]
  },
  {
   "cell_type": "code",
   "execution_count": null,
   "metadata": {
    "executionInfo": {
     "elapsed": 2058,
     "status": "ok",
     "timestamp": 1610618121921,
     "user": {
      "displayName": "Marco Pietro Abrate",
      "photoUrl": "https://lh3.googleusercontent.com/a-/AOh14Gjh-8YF-8BlnrkN9mLZ0xfVOWfOh7kYncpYRv-Y=s64",
      "userId": "15422244832836998434"
     },
     "user_tz": -60
    },
    "hidden": true,
    "id": "mCx3f697SXPm"
   },
   "outputs": [],
   "source": [
    "evaluate_model(df_test, 'sshleifer/distilbart-cnn-12-6')"
   ]
  },
  {
   "cell_type": "code",
   "execution_count": null,
   "metadata": {
    "hidden": true
   },
   "outputs": [],
   "source": [
    "evaluate_model(df_test,\n",
    "    magma_dir+'fine-tuning/sshleifer?distilbart-cnn-12-6_karger_books_para_wordembed_train/')"
   ]
  },
  {
   "cell_type": "markdown",
   "metadata": {
    "heading_collapsed": true
   },
   "source": [
    "#### Evaluate summaries bullet by bullet"
   ]
  },
  {
   "cell_type": "code",
   "execution_count": null,
   "metadata": {
    "hidden": true
   },
   "outputs": [],
   "source": [
    "def evaluate_model_bullet_by_bullet(df, model_name_or_path):\n",
    "    df_eval = df.copy()\n",
    "    \n",
    "    rouge_res =\\\n",
    "        df_eval[['bullets', 'summary_'+model_name_or_path]]\\\n",
    "        .apply(lambda row:\n",
    "        metric.compute(\n",
    "            predictions = [row[1]],\n",
    "            references = [row[0]],\n",
    "            rouge_types = config.ROUGE_TYPES,\n",
    "            use_agregator = False), axis=1)\n",
    "\n",
    "    for r in config.ROUGE_TYPES:\n",
    "        for i, prf in enumerate(['precision', 'recall', 'fmeasure']):\n",
    "            df_eval[r+'_'+prf+'_'+model_name_or_path] =\\\n",
    "                rouge_res.map(lambda score: score[r][0][i])\n",
    "            \n",
    "    df_eval.to_csv(OUTPUT_PATH+model_name_or_path.replace('/', '?')+'_bullet_by_bullet.csv')\n",
    "    \n",
    "    return df_eval"
   ]
  },
  {
   "cell_type": "code",
   "execution_count": null,
   "metadata": {
    "hidden": true
   },
   "outputs": [],
   "source": [
    "evaluate_model_bullet_by_bullet(df_test, 'sshleifer/distilbart-cnn-12-6')"
   ]
  },
  {
   "cell_type": "code",
   "execution_count": null,
   "metadata": {
    "hidden": true
   },
   "outputs": [],
   "source": [
    "evaluate_model_bullet_by_bullet(df_test,\n",
    "    magma_dir+'fine-tuning/sshleifer?distilbart-cnn-12-6_karger_books_para_wordembed_train/')"
   ]
  },
  {
   "cell_type": "markdown",
   "metadata": {
    "id": "GlnC1NYkRrQH"
   },
   "source": [
    "#### Plot Evaluation"
   ]
  },
  {
   "cell_type": "code",
   "execution_count": null,
   "metadata": {
    "colab": {
     "base_uri": "https://localhost:8080/",
     "height": 398
    },
    "executionInfo": {
     "elapsed": 965,
     "status": "ok",
     "timestamp": 1610618147643,
     "user": {
      "displayName": "Marco Pietro Abrate",
      "photoUrl": "https://lh3.googleusercontent.com/a-/AOh14Gjh-8YF-8BlnrkN9mLZ0xfVOWfOh7kYncpYRv-Y=s64",
      "userId": "15422244832836998434"
     },
     "user_tz": -60
    },
    "id": "lQdQyFl6REbV",
    "outputId": "3fee75aa-7cf0-4994-bbd0-11f4d84eb551"
   },
   "outputs": [],
   "source": [
    "plot_evaluation('sshleifer/distilbart-cnn-12-6')"
   ]
  },
  {
   "cell_type": "code",
   "execution_count": null,
   "metadata": {
    "id": "y7chlVU7UsZa"
   },
   "outputs": [],
   "source": [
    "plot_evaluation_bullet_by_bullet('sshleifer/distilbart-cnn-12-6')"
   ]
  }
 ],
 "metadata": {
  "accelerator": "GPU",
  "colab": {
   "collapsed_sections": [
    "P95DxvqWi_2Y",
    "tvSGvNzvKbvP",
    "S0FByNNOIRvG",
    "JFd0ppeJyX1o",
    "dllOnKR9Os5i",
    "U2mpXoSaQiQE",
    "k0qONrX4Qkkm",
    "JiYIkI5xN2VA",
    "KV669nVZQnzT",
    "WIiEnpvbMkJa",
    "fSqOx7kdMoNJ",
    "UTUY8QgQa2WM",
    "bKYnUXhvMszX",
    "mIcAg1ss4qIR",
    "GlnC1NYkRrQH"
   ],
   "name": "assign_bullets_para.ipynb",
   "provenance": []
  },
  "kernelspec": {
   "display_name": "Python 3",
   "language": "python",
   "name": "python3"
  },
  "language_info": {
   "codemirror_mode": {
    "name": "ipython",
    "version": 3
   },
   "file_extension": ".py",
   "mimetype": "text/x-python",
   "name": "python",
   "nbconvert_exporter": "python",
   "pygments_lexer": "ipython3",
   "version": "3.6.9"
  },
  "widgets": {
   "application/vnd.jupyter.widget-state+json": {
    "01e3a51fe914437187fb471f042cbc4e": {
     "model_module": "@jupyter-widgets/controls",
     "model_name": "HBoxModel",
     "state": {
      "_dom_classes": [],
      "_model_module": "@jupyter-widgets/controls",
      "_model_module_version": "1.5.0",
      "_model_name": "HBoxModel",
      "_view_count": null,
      "_view_module": "@jupyter-widgets/controls",
      "_view_module_version": "1.5.0",
      "_view_name": "HBoxView",
      "box_style": "",
      "children": [
       "IPY_MODEL_a503362a1d6c49958365ce7e93f4d67d",
       "IPY_MODEL_1249b68a0e2c459eae68dfede2dc5b34"
      ],
      "layout": "IPY_MODEL_9b00208076e345faaa7c1d3b38df79c4"
     }
    },
    "0795dec75e4f4a9cad293877eddef047": {
     "model_module": "@jupyter-widgets/controls",
     "model_name": "HBoxModel",
     "state": {
      "_dom_classes": [],
      "_model_module": "@jupyter-widgets/controls",
      "_model_module_version": "1.5.0",
      "_model_name": "HBoxModel",
      "_view_count": null,
      "_view_module": "@jupyter-widgets/controls",
      "_view_module_version": "1.5.0",
      "_view_name": "HBoxView",
      "box_style": "",
      "children": [
       "IPY_MODEL_cdd09db5faa14b609970f2a3d37dc430",
       "IPY_MODEL_efc306b702aa4dc0a5e6257cc71ac3aa"
      ],
      "layout": "IPY_MODEL_ec56f7bbfb29414f89c168dfdddd3465"
     }
    },
    "37bb8348b38e45b981c8e2c580de608b": {
     "model_module": "@jupyter-widgets/controls",
     "model_name": "HBoxModel",
     "state": {
      "_dom_classes": [],
      "_model_module": "@jupyter-widgets/controls",
      "_model_module_version": "1.5.0",
      "_model_name": "HBoxModel",
      "_view_count": null,
      "_view_module": "@jupyter-widgets/controls",
      "_view_module_version": "1.5.0",
      "_view_name": "HBoxView",
      "box_style": "",
      "children": [
       "IPY_MODEL_4c2fd32ed07b47a89011f42fe95af039",
       "IPY_MODEL_5d0caa7b27f044cb851b38b299d0de86"
      ],
      "layout": "IPY_MODEL_88830eabf77a4c4aa1130c37dc2ffa5d"
     }
    },
    "8ef14e9327d84807a95686427993ebcd": {
     "model_module": "@jupyter-widgets/controls",
     "model_name": "HBoxModel",
     "state": {
      "_dom_classes": [],
      "_model_module": "@jupyter-widgets/controls",
      "_model_module_version": "1.5.0",
      "_model_name": "HBoxModel",
      "_view_count": null,
      "_view_module": "@jupyter-widgets/controls",
      "_view_module_version": "1.5.0",
      "_view_name": "HBoxView",
      "box_style": "",
      "children": [
       "IPY_MODEL_3c8709747e444e2e99d5f5d4bd0c4513",
       "IPY_MODEL_8a9da00575624af09987d6936e79f41b"
      ],
      "layout": "IPY_MODEL_e0202968e0864b7ea3ce26fabdde768d"
     }
    },
    "a77961a700f2489f8af86af7aecb7a36": {
     "model_module": "@jupyter-widgets/controls",
     "model_name": "HBoxModel",
     "state": {
      "_dom_classes": [],
      "_model_module": "@jupyter-widgets/controls",
      "_model_module_version": "1.5.0",
      "_model_name": "HBoxModel",
      "_view_count": null,
      "_view_module": "@jupyter-widgets/controls",
      "_view_module_version": "1.5.0",
      "_view_name": "HBoxView",
      "box_style": "",
      "children": [
       "IPY_MODEL_23e74f006e7d44e7aee69e3a3394a37d",
       "IPY_MODEL_aa51b0fd1e9648719c0c2b39f252a199"
      ],
      "layout": "IPY_MODEL_66be567c4a0a41e086ac00af108ec408"
     }
    },
    "addb9bfe4b084b61a77f19962f2919d1": {
     "model_module": "@jupyter-widgets/controls",
     "model_name": "HBoxModel",
     "state": {
      "_dom_classes": [],
      "_model_module": "@jupyter-widgets/controls",
      "_model_module_version": "1.5.0",
      "_model_name": "HBoxModel",
      "_view_count": null,
      "_view_module": "@jupyter-widgets/controls",
      "_view_module_version": "1.5.0",
      "_view_name": "HBoxView",
      "box_style": "",
      "children": [
       "IPY_MODEL_e6baed9b364643e2a628ec2fa20eda17",
       "IPY_MODEL_1af98602915a4304a38cb231c85076b4"
      ],
      "layout": "IPY_MODEL_0fee59c682d04276b99c86a112570588"
     }
    }
   }
  }
 },
 "nbformat": 4,
 "nbformat_minor": 1
}
