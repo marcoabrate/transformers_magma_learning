{
 "cells": [
  {
   "cell_type": "markdown",
   "metadata": {
    "id": "S0FByNNOIRvG"
   },
   "source": [
    "### **Config**"
   ]
  },
  {
   "cell_type": "code",
   "execution_count": 1,
   "metadata": {
    "executionInfo": {
     "elapsed": 16184,
     "status": "ok",
     "timestamp": 1610463826089,
     "user": {
      "displayName": "Marco Pietro Abrate",
      "photoUrl": "https://lh3.googleusercontent.com/a-/AOh14Gjh-8YF-8BlnrkN9mLZ0xfVOWfOh7kYncpYRv-Y=s64",
      "userId": "15422244832836998434"
     },
     "user_tz": -60
    },
    "id": "ClE5D523OTZG"
   },
   "outputs": [],
   "source": [
    "import os\n",
    "import sys\n",
    "\n",
    "sys.path.insert(0, '/home/marco/epfl/magma/')\n",
    "import config"
   ]
  },
  {
   "cell_type": "code",
   "execution_count": 2,
   "metadata": {
    "executionInfo": {
     "elapsed": 16184,
     "status": "ok",
     "timestamp": 1610463826092,
     "user": {
      "displayName": "Marco Pietro Abrate",
      "photoUrl": "https://lh3.googleusercontent.com/a-/AOh14Gjh-8YF-8BlnrkN9mLZ0xfVOWfOh7kYncpYRv-Y=s64",
      "userId": "15422244832836998434"
     },
     "user_tz": -60
    },
    "id": "82WSp6khIcua"
   },
   "outputs": [],
   "source": [
    "MODEL = 'pegasus'\n",
    "\n",
    "RE_SPLITTER = '\\n'              # do we split sentences of paragraphs?\n",
    "                                # use '\\.(?!\\d)|\\n' or '\\n', respectively\n",
    "\n",
    "# Output path\n",
    "OUTPUT_PATH = config.MAGMA_DIR+'pipeline/paragraph_extraction_embeddings/'+MODEL+'/'\n",
    "if not os.path.exists(OUTPUT_PATH):\n",
    "    os.makedirs(OUTPUT_PATH)"
   ]
  },
  {
   "cell_type": "markdown",
   "metadata": {
    "id": "tb7fAfzaK4es"
   },
   "source": [
    "### **Init**"
   ]
  },
  {
   "cell_type": "code",
   "execution_count": 3,
   "metadata": {
    "executionInfo": {
     "elapsed": 16443,
     "status": "ok",
     "timestamp": 1610463826354,
     "user": {
      "displayName": "Marco Pietro Abrate",
      "photoUrl": "https://lh3.googleusercontent.com/a-/AOh14Gjh-8YF-8BlnrkN9mLZ0xfVOWfOh7kYncpYRv-Y=s64",
      "userId": "15422244832836998434"
     },
     "user_tz": -60
    },
    "id": "wvbMlPBxk45S"
   },
   "outputs": [],
   "source": [
    "import matplotlib.pyplot as plt\n",
    "import numpy as np\n",
    "import torch\n",
    "import re\n",
    "import pandas as pd\n",
    "import nltk\n",
    "import gensim\n",
    "from textwrap import fill\n",
    "from tqdm import tqdm\n",
    "tqdm.pandas()\n",
    "\n",
    "if 'pegasus' in MODEL:\n",
    "    from transformers import PegasusTokenizer\n",
    "    tokenizer =\\\n",
    "        PegasusTokenizer.from_pretrained('google/pegasus-large')\n",
    "elif 'bart' in MODEL:\n",
    "    from transformers import BartTokenizer\n",
    "    tokenizer =\\\n",
    "        BartTokenizer.from_pretrained('facebook/bart-large-cnn')\n",
    "elif 't5' in MODEL:\n",
    "    from transformers import T5Tokenizer\n",
    "    tokenizer =\\\n",
    "        T5Tokenizer.from_pretrained('t5-large')"
   ]
  },
  {
   "cell_type": "markdown",
   "metadata": {
    "id": "eQGq4WLu3Gei"
   },
   "source": [
    "### **Karger Books Base Dataset**"
   ]
  },
  {
   "cell_type": "code",
   "execution_count": 4,
   "metadata": {
    "id": "Z0lbkScg0a7j"
   },
   "outputs": [],
   "source": [
    "base_dataset = config.MAGMA_DIR+'datasets/karger_books_base/df.csv'\n",
    "df = pd.read_csv(base_dataset)\n",
    "df = df.set_index(['book', 'chapter', 'section', 'subsection'])\n",
    "df.bullets = df.bullets.map(eval, na_action='ignore')"
   ]
  },
  {
   "cell_type": "markdown",
   "metadata": {
    "id": "tSHT0mxuvkEp"
   },
   "source": [
    "### **Preprocessing**"
   ]
  },
  {
   "cell_type": "markdown",
   "metadata": {
    "id": "-eRnW74aH95b"
   },
   "source": [
    "#### Preprocessing\n",
    "\n",
    "* Split based on RE_SPLITTER\n",
    "* Explode the dataset\n",
    "* Remove unwanted chars at beginning or end of sentence\n",
    "* Remove multiple spaces\n",
    "* Remove long words (> config.TOKEN_MAX_LEN chars)"
   ]
  },
  {
   "cell_type": "code",
   "execution_count": 5,
   "metadata": {
    "id": "CDsT33j-wPCw",
    "scrolled": true
   },
   "outputs": [],
   "source": [
    "# Split in sentences / paragraphs based on RE_SPLITTER\n",
    "df.text =\\\n",
    "    df.text.map(lambda x: [p.strip() for p in re.split(RE_SPLITTER, x) if p!=''],\n",
    "                na_action='ignore')\n",
    "    \n",
    "# explode to get one row for each paragraph /sentence\n",
    "df = df.explode('text')\n",
    "df = df.rename(columns={'text': 'para'})\n",
    "df = df.dropna()\n",
    "\n",
    "# Remove unwanted chars at beginning or end of sentence\n",
    "df.para = df.para.map(lambda p: p.lstrip('.,;:-)] \\n'))\n",
    "df.para = df.para.map(lambda p: p.rstrip('.,;:-([ \\n'))\n",
    "\n",
    "# Remove multiple spaces\n",
    "df.para = df.para.map(lambda p:\n",
    "    re.sub('\\s+', ' ', p).strip())\n",
    "\n",
    "# Remove long words (> config.TOKEN_MAX_LEN chars)\n",
    "def para2words(para):\n",
    "    return gensim.utils.simple_preprocess(\n",
    "        para, deacc=True, max_len=config.TOKEN_MAX_LEN)\n",
    "df['para_proc'] = df.para.map(para2words)\n",
    "df['bullets_proc'] = df.bullets.map(lambda bs: [para2words(b) for b in bs])"
   ]
  },
  {
   "cell_type": "markdown",
   "metadata": {},
   "source": [
    "#### Further Preprocessing\n",
    "\n",
    "* Remove stop words\n",
    "* Remove short sentences / paragraphs (< config.PARA_MIN_LEN tokens)"
   ]
  },
  {
   "cell_type": "code",
   "execution_count": 6,
   "metadata": {},
   "outputs": [
    {
     "name": "stderr",
     "output_type": "stream",
     "text": [
      "[nltk_data] Downloading package stopwords to /home/marco/nltk_data...\n",
      "[nltk_data]   Package stopwords is already up-to-date!\n"
     ]
    }
   ],
   "source": [
    "nltk.download('stopwords')\n",
    "\n",
    "from nltk.corpus import stopwords\n",
    "stop_words = stopwords.words('english')\n",
    "\n",
    "df.para_proc = df.para_proc.map(lambda p:\n",
    "    [w for w in p if w not in stop_words])\n",
    "df.bullets_proc = df.bullets_proc.map(lambda bs:\n",
    "    [[w for w in b if w not in stop_words] for b in bs])"
   ]
  },
  {
   "cell_type": "code",
   "execution_count": 7,
   "metadata": {},
   "outputs": [],
   "source": [
    "# Remove short sentences / paragraphs (< config.PARA_MIN_LEN tokens)\n",
    "df.loc[df.para_proc.map(len) <\\\n",
    "    config.PARA_MIN_LEN, 'para_proc'] = np.nan\n",
    "\n",
    "df = df.dropna()"
   ]
  },
  {
   "cell_type": "code",
   "execution_count": 8,
   "metadata": {},
   "outputs": [],
   "source": [
    "df.para = df.para.map(lambda p: p+'.')"
   ]
  },
  {
   "cell_type": "markdown",
   "metadata": {},
   "source": [
    "### **Number of Sections vs Bullets**"
   ]
  },
  {
   "cell_type": "code",
   "execution_count": 9,
   "metadata": {},
   "outputs": [
    {
     "data": {
      "text/plain": [
       "count    453.000000\n",
       "mean       2.070640\n",
       "std        1.928902\n",
       "min        0.000000\n",
       "25%        1.000000\n",
       "50%        2.000000\n",
       "75%        3.000000\n",
       "max       13.000000\n",
       "Name: absolute_error, dtype: float64"
      ]
     },
     "execution_count": 9,
     "metadata": {},
     "output_type": "execute_result"
    }
   ],
   "source": [
    "df_num_sec_bul = df.groupby(['book', 'chapter', 'section'], sort=False).agg({\n",
    "    'para': lambda p: list(p),\n",
    "    'bullets': lambda b: list(b)[0]\n",
    "}).groupby(['book', 'chapter'], sort=False).agg({\n",
    "    'para': lambda p: len(list(p)),\n",
    "    'bullets': lambda b: len(list(b)[0])\n",
    "}).rename(columns={'para':'num_sec', 'bullets':'num_bul'})\n",
    "\n",
    "df_num_sec_bul['absolute_error'] = np.abs(df_num_sec_bul['num_sec'] - df_num_sec_bul['num_bul'])\n",
    "\n",
    "df_num_sec_bul['absolute_error'].describe()"
   ]
  },
  {
   "cell_type": "code",
   "execution_count": 10,
   "metadata": {},
   "outputs": [
    {
     "data": {
      "text/plain": [
       "count    453.000000\n",
       "mean      39.709757\n",
       "std       42.101261\n",
       "min        0.000000\n",
       "25%       14.290000\n",
       "50%       28.570000\n",
       "75%       50.000000\n",
       "max      300.000000\n",
       "Name: relative_error, dtype: float64"
      ]
     },
     "execution_count": 10,
     "metadata": {},
     "output_type": "execute_result"
    }
   ],
   "source": [
    "df_num_sec_bul['relative_error'] = round(100*df_num_sec_bul['absolute_error'] / df_num_sec_bul['num_bul'], 2)\n",
    "df_num_sec_bul['relative_error'].describe()"
   ]
  },
  {
   "cell_type": "markdown",
   "metadata": {},
   "source": [
    "### **Sentence-Transformers Embeddings**"
   ]
  },
  {
   "cell_type": "code",
   "execution_count": 11,
   "metadata": {
    "scrolled": true
   },
   "outputs": [
    {
     "name": "stderr",
     "output_type": "stream",
     "text": [
      "100%|██████████| 18773/18773 [24:51<00:00, 12.58it/s]\n"
     ]
    }
   ],
   "source": [
    "from sentence_transformers import SentenceTransformer\n",
    "\n",
    "# might want to try 'msmarco-distilbert-base-v2' too\n",
    "model = SentenceTransformer('paraphrase-distilroberta-base-v1')\n",
    "\n",
    "df['para_enc'] = df.para.progress_map(model.encode)\n",
    "df.para_enc = df.para_enc.map(np.array)"
   ]
  },
  {
   "cell_type": "markdown",
   "metadata": {},
   "source": [
    "### **Cluster Based on Number of Sections**"
   ]
  },
  {
   "cell_type": "code",
   "execution_count": 12,
   "metadata": {},
   "outputs": [],
   "source": [
    "df_group = df.groupby(['book', 'chapter'], sort=False).agg({\n",
    "    'para': lambda p: list(p),\n",
    "    'bullets': lambda b: list(b)[0],\n",
    "    'para_enc': lambda pe: list(pe)\n",
    "})\n",
    "df_group.para_enc = df_group.para_enc.map(np.vstack)"
   ]
  },
  {
   "cell_type": "code",
   "execution_count": 13,
   "metadata": {},
   "outputs": [],
   "source": [
    "df_group['num_sec'] = 0\n",
    "for idx in df_group.index.tolist():\n",
    "    df_group.loc[idx, 'num_sec'] = int(df_num_sec_bul.loc[idx, 'num_sec'])"
   ]
  },
  {
   "cell_type": "markdown",
   "metadata": {},
   "source": [
    "##### K-Means"
   ]
  },
  {
   "cell_type": "code",
   "execution_count": 14,
   "metadata": {},
   "outputs": [
    {
     "name": "stderr",
     "output_type": "stream",
     "text": [
      "100%|██████████| 453/453 [00:21<00:00, 21.48it/s]\n"
     ]
    }
   ],
   "source": [
    "from sklearn.cluster import KMeans\n",
    "\n",
    "df_group['kmeans_centroids'] = df_group.progress_apply(lambda row:\\\n",
    "    KMeans(\n",
    "        row.num_sec,\n",
    "        n_init=10,\n",
    "        max_iter=300,\n",
    "        random_state=config.SEED).fit(row.para_enc).cluster_centers_, axis='columns')"
   ]
  },
  {
   "cell_type": "markdown",
   "metadata": {
    "heading_collapsed": true
   },
   "source": [
    "##### Low Dimensional Representation"
   ]
  },
  {
   "cell_type": "code",
   "execution_count": 15,
   "metadata": {
    "hidden": true
   },
   "outputs": [],
   "source": [
    "from sklearn.decomposition import PCA\n",
    "\n",
    "para_enc_2dim = df_group.para_enc.map(lambda pe: PCA(2, random_state=config.SEED).fit_transform(pe))\n",
    "kmeans_centroids_2dim =\\\n",
    "    df_group.kmeans_centroids.map(lambda pe: PCA(2, random_state=config.SEED).fit_transform(pe))"
   ]
  },
  {
   "cell_type": "code",
   "execution_count": 16,
   "metadata": {
    "hidden": true,
    "scrolled": false
   },
   "outputs": [
    {
     "name": "stdout",
     "output_type": "stream",
     "text": [
      "Number of sections for (9783318066241, 'ch4'): 4\n"
     ]
    },
    {
     "data": {
      "image/png": "[encoded data removed]",
      "text/plain": [
       "<Figure size 432x432 with 1 Axes>"
      ]
     },
     "metadata": {
      "needs_background": "light"
     },
     "output_type": "display_data"
    }
   ],
   "source": [
    "i = np.random.randint(len(df_group))\n",
    "idx = df_group.index.tolist()[i]\n",
    "print('Number of sections for %s: %d'%(idx, df_group.loc[idx, 'num_sec']))\n",
    "\n",
    "plt.figure(figsize=(6, 6))\n",
    "plt.scatter(\n",
    "    x = [x[0] for x in para_enc_2dim.loc[idx].tolist()],\n",
    "    y = [x[1] for x in para_enc_2dim.loc[idx].tolist()],\n",
    "    s = 20\n",
    ")\n",
    "plt.scatter(\n",
    "    x = [x[0] for x in kmeans_centroids_2dim.loc[idx].tolist()],\n",
    "    y = [x[1] for x in kmeans_centroids_2dim.loc[idx].tolist()],\n",
    "    marker='*',\n",
    "    s = 50\n",
    ")\n",
    "plt.xlabel('PCA-1')\n",
    "plt.ylabel('PCA-2')\n",
    "plt.show()"
   ]
  },
  {
   "cell_type": "markdown",
   "metadata": {},
   "source": [
    "##### Calculate Cosine Similarity / Euclidean Distance"
   ]
  },
  {
   "cell_type": "code",
   "execution_count": 17,
   "metadata": {},
   "outputs": [
    {
     "name": "stderr",
     "output_type": "stream",
     "text": [
      "100%|██████████| 18773/18773 [00:17<00:00, 1060.44it/s]\n"
     ]
    }
   ],
   "source": [
    "def cosine_sim(a, b):\n",
    "    return np.dot(a, b) / (np.linalg.norm(a)*np.linalg.norm(b))\n",
    "\n",
    "def row_cosine_sim(r):\n",
    "    idx = r.name[:2]\n",
    "    centroids = df_group.loc[idx, 'kmeans_centroids']\n",
    "    return [cosine_sim(r.para_enc, c) for c in centroids]\n",
    "\n",
    "df['cosine_sim'] = df.progress_apply(lambda row: row_cosine_sim(row), axis=1)"
   ]
  },
  {
   "cell_type": "code",
   "execution_count": 18,
   "metadata": {},
   "outputs": [
    {
     "name": "stderr",
     "output_type": "stream",
     "text": [
      "100%|██████████| 18773/18773 [00:10<00:00, 1785.01it/s]\n"
     ]
    }
   ],
   "source": [
    "def euclidean_dist(a, b):\n",
    "    return np.sqrt(np.sum((a-b)**2))\n",
    "\n",
    "def row_euclidean_dist(r):\n",
    "    idx = r.name[:2]\n",
    "    centroids = df_group.loc[idx, 'kmeans_centroids']\n",
    "    return [euclidean_dist(r.para_enc, c) for c in centroids]\n",
    "\n",
    "df['euclidean_dist'] = df.progress_apply(lambda row: row_euclidean_dist(row), axis=1)"
   ]
  },
  {
   "cell_type": "markdown",
   "metadata": {},
   "source": [
    "##### Find Best Paragraph for each Book, Chapter, Centroid"
   ]
  },
  {
   "cell_type": "code",
   "execution_count": 19,
   "metadata": {},
   "outputs": [],
   "source": [
    "df_best_para = df.reset_index(level=[2, 3]).groupby(['book', 'chapter'], sort=False).agg({\n",
    "    'section': lambda s: list(s),\n",
    "    'subsection': lambda ss: list(ss),\n",
    "    'para': lambda p: list(p),\n",
    "    'bullets': lambda b: list(b)[0],\n",
    "    'cosine_sim': lambda c: list(c),\n",
    "    'euclidean_dist': lambda e: list(e)\n",
    "})\n",
    "df_best_para.cosine_sim = df_best_para.cosine_sim.map(lambda c: np.array(c))\n",
    "df_best_para.euclidean_dist = df_best_para.euclidean_dist.map(lambda e: np.array(e))"
   ]
  },
  {
   "cell_type": "code",
   "execution_count": 20,
   "metadata": {},
   "outputs": [],
   "source": [
    "df_best_para['best_para_cosine'] = df_best_para.cosine_sim.map(lambda c: np.argmax(c, axis=0))\n",
    "df_best_para['best_para_euclidean'] = df_best_para.euclidean_dist.map(lambda e: np.argmin(e, axis=0))"
   ]
  },
  {
   "cell_type": "markdown",
   "metadata": {},
   "source": [
    "##### How Many Sections Are We Covering?"
   ]
  },
  {
   "cell_type": "code",
   "execution_count": 21,
   "metadata": {},
   "outputs": [
    {
     "data": {
      "text/plain": [
       "count    453.000000\n",
       "mean      65.742854\n",
       "std       15.920651\n",
       "min       20.000000\n",
       "25%       54.545455\n",
       "50%       66.666667\n",
       "75%       75.000000\n",
       "max      100.000000\n",
       "dtype: float64"
      ]
     },
     "execution_count": 21,
     "metadata": {},
     "output_type": "execute_result"
    }
   ],
   "source": [
    "def calculate_diversity(r):\n",
    "    best_idx = r.best_para_cosine\n",
    "    all_sections = set(r.section)\n",
    "    \n",
    "    selected_sections = set([r.section[i] for i in best_idx])\n",
    "    \n",
    "    return len(selected_sections.intersection(all_sections))/len(all_sections)*100\n",
    "    \n",
    "df_best_para.apply(lambda row: calculate_diversity(row), axis=1).describe()"
   ]
  },
  {
   "cell_type": "markdown",
   "metadata": {
    "heading_collapsed": true
   },
   "source": [
    "### Cosine Similarity"
   ]
  },
  {
   "cell_type": "markdown",
   "metadata": {
    "hidden": true
   },
   "source": [
    "##### Expanding from Best Paragraph Based on Cosine Sim"
   ]
  },
  {
   "cell_type": "code",
   "execution_count": 22,
   "metadata": {
    "hidden": true
   },
   "outputs": [],
   "source": [
    "df_best_para['para_num_tok'] =\\\n",
    "    df_best_para.para.map(lambda ps: np.array([len(tokenizer.tokenize(p)) for p in ps]))"
   ]
  },
  {
   "cell_type": "code",
   "execution_count": 23,
   "metadata": {
    "hidden": true,
    "scrolled": true
   },
   "outputs": [
    {
     "name": "stderr",
     "output_type": "stream",
     "text": [
      "100%|██████████| 453/453 [00:00<00:00, 625.16it/s]\n"
     ]
    }
   ],
   "source": [
    "def expand_based_on_cosine(r):\n",
    "    max_length = len(r.para)\n",
    "    max_idx = max_length-1\n",
    "    \n",
    "    extracted_para = []\n",
    "    \n",
    "    # Calculate the fraction we need to extract\n",
    "    # based on total number of tokens in this chp\n",
    "    # and number of centroids (sections) in this chp\n",
    "    # do not go over the model max length\n",
    "    num_tok_tot = sum(r.para_num_tok)\n",
    "    num_tok_th = min(\n",
    "        int(0.8*num_tok_tot / len(r.best_para_cosine)),\n",
    "        0.9*tokenizer.model_max_length)\n",
    "    \n",
    "    for i, best in enumerate(r.best_para_cosine):\n",
    "        merged_para_idx = [best]\n",
    "        num_tok = r.para_num_tok[best]\n",
    "        \n",
    "        while num_tok < num_tok_th:\n",
    "            if len(merged_para_idx) == max_length : break\n",
    "            elif 0 in merged_para_idx:\n",
    "                merged_para_idx.append(max(merged_para_idx)+1)\n",
    "            elif max_idx in merged_para_idx:\n",
    "                merged_para_idx.append(min(merged_para_idx)-1)\n",
    "            else:\n",
    "                if (r.cosine_sim)[min(merged_para_idx)-1, i] <\\\n",
    "                    (r.cosine_sim)[max(merged_para_idx)+1, i]:\n",
    "                    merged_para_idx.append(max(merged_para_idx)+1)\n",
    "                else:\n",
    "                    merged_para_idx.append(min(merged_para_idx)-1)\n",
    "            num_tok = np.sum(r.para_num_tok[merged_para_idx])\n",
    "                  \n",
    "        extracted_para.append(sorted(merged_para_idx))\n",
    "        \n",
    "    return extracted_para\n",
    "\n",
    "df_best_para['selected_para_cosine'] =\\\n",
    "    df_best_para.progress_apply(lambda row: expand_based_on_cosine(row), axis=1)"
   ]
  },
  {
   "cell_type": "markdown",
   "metadata": {
    "hidden": true
   },
   "source": [
    "##### Study Overlap and Remove Useless (>90% overlap) Entries"
   ]
  },
  {
   "cell_type": "code",
   "execution_count": 24,
   "metadata": {
    "hidden": true
   },
   "outputs": [],
   "source": [
    "df_remove_overlap = df_best_para.copy()"
   ]
  },
  {
   "cell_type": "code",
   "execution_count": 25,
   "metadata": {
    "hidden": true,
    "scrolled": true
   },
   "outputs": [],
   "source": [
    "def create_overlap_matrix(r):\n",
    "    num_centr = len(r.selected_para_cosine)\n",
    "    overlap_matrix = np.zeros((num_centr,num_centr))\n",
    "    \n",
    "    def list_overlap(a, b):\n",
    "        return list( set(a).intersection(set(b)) )\n",
    "    \n",
    "    for i in range(num_centr):\n",
    "        for j in range(num_centr):\n",
    "            if i == j : continue\n",
    "            num_tok_i = np.sum(r.para_num_tok[r.selected_para_cosine[i]])\n",
    "            overlap = list_overlap(\n",
    "                r.selected_para_cosine[i], r.selected_para_cosine[j])\n",
    "            num_tok_overlap = np.sum(r.para_num_tok[overlap])\n",
    "            assert num_tok_overlap <= num_tok_i\n",
    "            \n",
    "            overlap_matrix[i, j] = round(num_tok_overlap/num_tok_i*100, 2)\n",
    "    \n",
    "    return overlap_matrix\n",
    "\n",
    "def remove_big_overlap(r, threshold):\n",
    "    om = r.overlap_matrix\n",
    "    big_overlap_idx = np.argwhere(om >= threshold)\n",
    "    to_be_removed = set()\n",
    "    for idx in big_overlap_idx:\n",
    "        i, j = idx[0], idx[1]\n",
    "        if om[i, j] == om[j, i]:\n",
    "            if i in to_be_removed or j in to_be_removed : continue\n",
    "            else : to_be_removed.add(i)\n",
    "        elif om[i, j] > om[j, i]:\n",
    "            to_be_removed.add(i)\n",
    "        else:\n",
    "            to_be_removed.add(j)\n",
    "    return [s for i, s in enumerate(r.selected_para_cosine) if i not in to_be_removed]"
   ]
  },
  {
   "cell_type": "code",
   "execution_count": 26,
   "metadata": {
    "hidden": true
   },
   "outputs": [
    {
     "data": {
      "text/plain": [
       "count    453.000000\n",
       "mean       1.699779\n",
       "std        1.934303\n",
       "min        0.000000\n",
       "25%        0.000000\n",
       "50%        2.000000\n",
       "75%        2.000000\n",
       "max       10.000000\n",
       "Name: overlap_matrix, dtype: float64"
      ]
     },
     "execution_count": 26,
     "metadata": {},
     "output_type": "execute_result"
    }
   ],
   "source": [
    "df_remove_overlap['overlap_matrix'] = df_remove_overlap.apply(lambda row: create_overlap_matrix(row), axis=1)\n",
    "df_remove_overlap.overlap_matrix.map(lambda om: np.sum(om > 90)).describe()"
   ]
  },
  {
   "cell_type": "code",
   "execution_count": 27,
   "metadata": {
    "hidden": true
   },
   "outputs": [
    {
     "data": {
      "text/plain": [
       "count    453.0\n",
       "mean       0.0\n",
       "std        0.0\n",
       "min        0.0\n",
       "25%        0.0\n",
       "50%        0.0\n",
       "75%        0.0\n",
       "max        0.0\n",
       "Name: overlap_matrix, dtype: float64"
      ]
     },
     "execution_count": 27,
     "metadata": {},
     "output_type": "execute_result"
    }
   ],
   "source": [
    "df_remove_overlap.selected_para_cosine = df_remove_overlap.apply(lambda row: remove_big_overlap(row, 90), axis=1)\n",
    "\n",
    "df_remove_overlap['overlap_matrix'] = df_remove_overlap.apply(lambda row: create_overlap_matrix(row), axis=1)\n",
    "df_remove_overlap.overlap_matrix.map(lambda om: np.sum(om > 90)).describe()"
   ]
  },
  {
   "cell_type": "markdown",
   "metadata": {
    "hidden": true
   },
   "source": [
    "##### Merge when >90% overlap Entries"
   ]
  },
  {
   "cell_type": "code",
   "execution_count": 28,
   "metadata": {
    "hidden": true
   },
   "outputs": [],
   "source": [
    "df_merge_overlap = df_best_para.copy()"
   ]
  },
  {
   "cell_type": "code",
   "execution_count": 29,
   "metadata": {
    "hidden": true
   },
   "outputs": [],
   "source": [
    "def find_big_overlap(r, threshold):\n",
    "    om = r.overlap_matrix\n",
    "    big_overlap_idx = np.argwhere(om >= threshold)\n",
    "    big_overlap_idx = set([frozenset(t) for t in big_overlap_idx])\n",
    "    merged = set()\n",
    "    to_be_merged = set()\n",
    "    for idx in big_overlap_idx:\n",
    "        idx = tuple(idx)\n",
    "        i, j = idx[0], idx[1]\n",
    "        if i not in merged and j not in merged:\n",
    "            to_be_merged.add(idx)\n",
    "            merged.add(i)\n",
    "            merged.add(j)\n",
    "    return to_be_merged\n",
    "\n",
    "def merge_para(r):\n",
    "    for i, j in r.to_be_merged:\n",
    "        r.selected_para_cosine[i] = np.array(list(set(\n",
    "            np.concatenate((r.selected_para_cosine[i], r.selected_para_cosine[j])))))\n",
    "        \n",
    "        r.selected_para_cosine[j] = None\n",
    "    r.selected_para_cosine = [sp for sp in r.selected_para_cosine if sp is not None]"
   ]
  },
  {
   "cell_type": "code",
   "execution_count": 30,
   "metadata": {
    "hidden": true
   },
   "outputs": [
    {
     "name": "stdout",
     "output_type": "stream",
     "text": [
      "Para to be merged: 371\n",
      "Para to be merged: 41\n",
      "Para to be merged: 0\n"
     ]
    }
   ],
   "source": [
    "while True:\n",
    "    df_merge_overlap['overlap_matrix'] = df_merge_overlap.apply(create_overlap_matrix, axis=1)\n",
    "\n",
    "    df_merge_overlap['to_be_merged'] = df_merge_overlap.apply(lambda row: find_big_overlap(row, 90), axis=1)\n",
    "\n",
    "    num_to_be_merged = df_merge_overlap.to_be_merged.map(len).sum()\n",
    "    print('Para to be merged: %d'%num_to_be_merged)\n",
    "    if (num_to_be_merged <= 0) : break\n",
    "\n",
    "    df_merge_overlap.apply(merge_para, axis=1)"
   ]
  },
  {
   "cell_type": "markdown",
   "metadata": {},
   "source": [
    "### Finalize Results Remove Overlap"
   ]
  },
  {
   "cell_type": "code",
   "execution_count": 31,
   "metadata": {
    "scrolled": true
   },
   "outputs": [],
   "source": [
    "df_remove_overlap_tobesaved = df_remove_overlap.explode('selected_para_cosine')\n",
    "df_remove_overlap_tobesaved = df_remove_overlap_tobesaved.drop(\n",
    "    columns=['best_para_cosine', 'best_para_euclidean', 'cosine_sim', 'euclidean_dist', 'overlap_matrix'])\n",
    "\n",
    "df_remove_overlap_tobesaved['selected_para'] = df_remove_overlap_tobesaved.apply(lambda row:\\\n",
    "    [p for i, p in enumerate(row.para) if i in row.selected_para_cosine], axis=1)\n",
    "\n",
    "df_remove_overlap_tobesaved['para_num_tok'] = df_remove_overlap_tobesaved.apply(lambda row:\\\n",
    "    [p for i, p in enumerate(row.para_num_tok) if i in row.selected_para_cosine], axis=1)"
   ]
  },
  {
   "cell_type": "code",
   "execution_count": 32,
   "metadata": {},
   "outputs": [
    {
     "data": {
      "text/plain": [
       "count    2232.000000\n",
       "mean      428.370968\n",
       "std       195.554295\n",
       "min        87.000000\n",
       "25%       290.000000\n",
       "50%       380.000000\n",
       "75%       528.000000\n",
       "max      1095.000000\n",
       "Name: para_num_tok, dtype: float64"
      ]
     },
     "execution_count": 32,
     "metadata": {},
     "output_type": "execute_result"
    }
   ],
   "source": [
    "df_remove_overlap_tobesaved.para_num_tok.map(sum).describe()"
   ]
  },
  {
   "cell_type": "code",
   "execution_count": 33,
   "metadata": {
    "scrolled": true
   },
   "outputs": [],
   "source": [
    "df_remove_overlap_tobesaved.to_csv(OUTPUT_PATH+'df_cosine_remove.csv')"
   ]
  },
  {
   "cell_type": "markdown",
   "metadata": {},
   "source": [
    "##### Compare to Para Wordembed ST Dataset"
   ]
  },
  {
   "cell_type": "code",
   "execution_count": 34,
   "metadata": {},
   "outputs": [],
   "source": [
    "def precision(pred, ref):\n",
    "    return round(100*len(pred.intersection(ref)) / len(pred), 2)\n",
    "    \n",
    "def recall(pred, ref):\n",
    "    return round(100*len(pred.intersection(ref)) / len(ref), 2)\n",
    "\n",
    "def fmeasure(prec, rec):\n",
    "    if prec + rec == 0 : return 0\n",
    "    return round(2*prec*rec/(prec+rec), 2)\n",
    "\n",
    "flatten = lambda t: [item for sublist in t for item in sublist]"
   ]
  },
  {
   "cell_type": "code",
   "execution_count": 35,
   "metadata": {
    "scrolled": false
   },
   "outputs": [
    {
     "name": "stdout",
     "output_type": "stream",
     "text": [
      "       unsup_coverage  sup_coverage  intersection   precision      recall\n",
      "count      453.000000    453.000000    453.000000  453.000000  453.000000\n",
      "mean        66.366254     29.168566     20.579869   30.617241   69.447461\n",
      "std         11.169539     15.464656     13.066681   17.976710   21.781380\n",
      "min         20.000000      2.564103      0.000000    0.000000    0.000000\n",
      "25%         59.375000     18.095238     11.111111   17.240000   56.250000\n",
      "50%         66.666667     25.925926     18.333333   27.500000   70.000000\n",
      "75%         73.333333     37.837838     28.571429   40.000000   85.710000\n",
      "max        100.000000    100.000000     80.000000  100.000000  100.000000\n",
      "\n",
      "\n"
     ]
    }
   ],
   "source": [
    "\n",
    "df_para_wordembed_st =\\\n",
    "    pd.read_csv(config.MAGMA_DIR+'datasets/bullet_paragraph_embeddings/'+MODEL+'/st/df_base_selected_para.csv')\\\n",
    "    .set_index(['book', 'chapter'])\n",
    "df_para_wordembed_st.para = df_para_wordembed_st.para.map(eval)\n",
    "df_para_wordembed_st.best_match = df_para_wordembed_st.best_match.map(eval)\n",
    "\n",
    "num_para = df_para_wordembed_st.para.map(len)\n",
    "\n",
    "df_remove_overlap_tobesaved = pd.read_csv(OUTPUT_PATH+'df_cosine_remove.csv').set_index(['book', 'chapter'])\n",
    "df_remove_overlap_tobesaved.selected_para_cosine = df_remove_overlap_tobesaved.selected_para_cosine.map(eval)\n",
    "df_remove_overlap_tobesaved = df_remove_overlap_tobesaved.groupby(['book', 'chapter'], sort=False).agg({\n",
    "    'selected_para_cosine': lambda p: list(p)\n",
    "})\n",
    "df_remove_overlap_tobesaved.selected_para_cosine = df_remove_overlap_tobesaved.selected_para_cosine\n",
    "\n",
    "selected_para = df_remove_overlap_tobesaved.selected_para_cosine.map(lambda pp: set(flatten(pp)))\n",
    "best_match = df_para_wordembed_st.best_match.map(set)\n",
    "\n",
    "df_comparison = pd.concat([num_para, selected_para, best_match], axis=1).rename(\n",
    "    columns={'para': 'num_para', 'selected_para_cosine': 'unsup_selected', 'best_match': 'sup_selected'})\n",
    "df_comparison['unsup_coverage'] = 100*df_comparison.unsup_selected.map(len) / df_comparison.num_para\n",
    "df_comparison['sup_coverage'] = 100*df_comparison.sup_selected.map(len) / df_comparison.num_para\n",
    "\n",
    "df_comparison['intersection'] = 100*df_comparison.apply(lambda r:\n",
    "    len(r.unsup_selected.intersection(r.sup_selected)) / r.num_para, axis=1)\n",
    "\n",
    "df_comparison['precision'] = df_comparison.apply(lambda r:\n",
    "    precision(r.unsup_selected, r.sup_selected), axis=1)\n",
    "df_comparison['recall'] = df_comparison.apply(lambda r:\n",
    "    recall(r.unsup_selected, r.sup_selected), axis=1)\n",
    "\n",
    "df_comparison.drop(columns='num_para', inplace=True)\n",
    "\n",
    "print(df_comparison.describe())\n",
    "print('\\n')"
   ]
  },
  {
   "cell_type": "markdown",
   "metadata": {},
   "source": [
    "### Finalize Results Merge Overlap"
   ]
  },
  {
   "cell_type": "code",
   "execution_count": 36,
   "metadata": {
    "scrolled": true
   },
   "outputs": [],
   "source": [
    "df_merge_overlap_tobesaved = df_merge_overlap.explode('selected_para_cosine')\n",
    "df_merge_overlap_tobesaved.selected_para_cosine = df_merge_overlap_tobesaved.selected_para_cosine.map(list)\n",
    "df_merge_overlap_tobesaved = df_merge_overlap_tobesaved.drop(\n",
    "    columns=['best_para_cosine', 'best_para_euclidean', 'cosine_sim',\n",
    "             'euclidean_dist', 'overlap_matrix', 'to_be_merged'])\n",
    "\n",
    "df_merge_overlap_tobesaved['selected_para'] = df_merge_overlap_tobesaved.apply(lambda row:\\\n",
    "    [p for i, p in enumerate(row.para) if i in row.selected_para_cosine], axis=1)\n",
    "\n",
    "df_merge_overlap_tobesaved['para_num_tok'] = df_merge_overlap_tobesaved.apply(lambda row:\\\n",
    "    [p for i, p in enumerate(row.para_num_tok) if i in row.selected_para_cosine], axis=1)"
   ]
  },
  {
   "cell_type": "code",
   "execution_count": 37,
   "metadata": {},
   "outputs": [
    {
     "data": {
      "text/plain": [
       "count    2232.000000\n",
       "mean      428.812276\n",
       "std       195.895995\n",
       "min        87.000000\n",
       "25%       290.000000\n",
       "50%       380.000000\n",
       "75%       529.000000\n",
       "max      1103.000000\n",
       "Name: para_num_tok, dtype: float64"
      ]
     },
     "execution_count": 37,
     "metadata": {},
     "output_type": "execute_result"
    }
   ],
   "source": [
    "df_merge_overlap_tobesaved.para_num_tok.map(sum).describe()"
   ]
  },
  {
   "cell_type": "code",
   "execution_count": 38,
   "metadata": {
    "scrolled": true
   },
   "outputs": [],
   "source": [
    "df_merge_overlap_tobesaved.to_csv(OUTPUT_PATH+'df_cosine_merge.csv')"
   ]
  },
  {
   "cell_type": "markdown",
   "metadata": {},
   "source": [
    "##### Compare to Para Wordembed ST Dataset"
   ]
  },
  {
   "cell_type": "code",
   "execution_count": 39,
   "metadata": {
    "scrolled": false
   },
   "outputs": [
    {
     "name": "stdout",
     "output_type": "stream",
     "text": [
      "       unsup_coverage  sup_coverage  intersection   precision      recall\n",
      "count      453.000000    453.000000    453.000000  453.000000  453.000000\n",
      "mean        66.731598     29.168566     20.670585   30.522097   69.659426\n",
      "std         11.059131     15.464656     13.177231   17.880394   21.798778\n",
      "min         20.714286      2.564103      0.000000    0.000000    0.000000\n",
      "25%         60.000000     18.095238     11.111111   16.670000   56.250000\n",
      "50%         66.666667     25.925926     18.333333   27.270000   70.000000\n",
      "75%         73.437500     37.837838     28.571429   40.000000   85.710000\n",
      "max        100.000000    100.000000     80.000000  100.000000  100.000000\n",
      "\n",
      "\n"
     ]
    }
   ],
   "source": [
    "df_para_wordembed_st =\\\n",
    "    pd.read_csv(config.MAGMA_DIR+'datasets/bullet_paragraph_embeddings/'+MODEL+'/st/df_base_selected_para.csv')\\\n",
    "    .set_index(['book', 'chapter'])\n",
    "df_para_wordembed_st.para = df_para_wordembed_st.para.map(eval)\n",
    "df_para_wordembed_st.best_match = df_para_wordembed_st.best_match.map(eval)\n",
    "\n",
    "num_para = df_para_wordembed_st.para.map(len)\n",
    "\n",
    "df_remove_overlap_tobesaved = pd.read_csv(OUTPUT_PATH+'df_cosine_merge.csv').set_index(['book', 'chapter'])\n",
    "df_remove_overlap_tobesaved.selected_para_cosine = df_remove_overlap_tobesaved.selected_para_cosine.map(eval)\n",
    "df_remove_overlap_tobesaved = df_remove_overlap_tobesaved.groupby(['book', 'chapter'], sort=False).agg({\n",
    "    'selected_para_cosine': lambda p: list(p)\n",
    "})\n",
    "df_remove_overlap_tobesaved.selected_para_cosine = df_remove_overlap_tobesaved.selected_para_cosine\n",
    "\n",
    "selected_para = df_remove_overlap_tobesaved.selected_para_cosine.map(lambda pp: set(flatten(pp)))\n",
    "best_match = df_para_wordembed_st.best_match.map(set)\n",
    "\n",
    "df_comparison = pd.concat([num_para, selected_para, best_match], axis=1).rename(\n",
    "    columns={'para': 'num_para', 'selected_para_cosine': 'unsup_selected', 'best_match': 'sup_selected'})\n",
    "df_comparison['unsup_coverage'] = 100*df_comparison.unsup_selected.map(len) / df_comparison.num_para\n",
    "df_comparison['sup_coverage'] = 100*df_comparison.sup_selected.map(len) / df_comparison.num_para\n",
    "\n",
    "df_comparison['intersection'] = 100*df_comparison.apply(lambda r:\n",
    "    len(r.unsup_selected.intersection(r.sup_selected)) / r.num_para, axis=1)\n",
    "\n",
    "df_comparison['precision'] = df_comparison.apply(lambda r:\n",
    "    precision(r.unsup_selected, r.sup_selected), axis=1)\n",
    "df_comparison['recall'] = df_comparison.apply(lambda r:\n",
    "    recall(r.unsup_selected, r.sup_selected), axis=1)\n",
    "\n",
    "df_comparison.drop(columns='num_para', inplace=True)\n",
    "\n",
    "print(df_comparison.describe())\n",
    "print('\\n')"
   ]
  },
  {
   "cell_type": "markdown",
   "metadata": {},
   "source": [
    "### Euclidean Distance"
   ]
  },
  {
   "cell_type": "markdown",
   "metadata": {
    "heading_collapsed": true
   },
   "source": [
    "##### Expanding from Best Paragraph Based on Euclidean Distance"
   ]
  },
  {
   "cell_type": "code",
   "execution_count": 40,
   "metadata": {
    "hidden": true
   },
   "outputs": [],
   "source": [
    "df_best_para['para_num_tok'] =\\\n",
    "    df_best_para.para.map(lambda ps: np.array([len(tokenizer.tokenize(p)) for p in ps]))"
   ]
  },
  {
   "cell_type": "code",
   "execution_count": 41,
   "metadata": {
    "hidden": true,
    "scrolled": true
   },
   "outputs": [
    {
     "name": "stderr",
     "output_type": "stream",
     "text": [
      "100%|██████████| 453/453 [00:00<00:00, 792.67it/s]\n"
     ]
    }
   ],
   "source": [
    "def expand_based_on_euclidean(r):\n",
    "    max_length = len(r.para)\n",
    "    max_idx = max_length-1\n",
    "    \n",
    "    extracted_para = []\n",
    "    \n",
    "    # Calculate the fraction we need to extract\n",
    "    # based on total number of tokens in this chp\n",
    "    # and number of centroids (sections) in this chp\n",
    "    # do not go over the model max length\n",
    "    num_tok_tot = sum(r.para_num_tok)\n",
    "    num_tok_th = min(\n",
    "        int(0.8*num_tok_tot / len(r.best_para_euclidean)),\n",
    "        0.9*tokenizer.model_max_length)\n",
    "    \n",
    "    for i, best in enumerate(r.best_para_euclidean):\n",
    "        merged_para_idx = [best]\n",
    "        num_tok = r.para_num_tok[best]\n",
    "        \n",
    "        while num_tok < num_tok_th:\n",
    "            if len(merged_para_idx) == max_length : break\n",
    "            elif 0 in merged_para_idx:\n",
    "                merged_para_idx.append(max(merged_para_idx)+1)\n",
    "            elif max_idx in merged_para_idx:\n",
    "                merged_para_idx.append(min(merged_para_idx)-1)\n",
    "            else:\n",
    "                if (r.euclidean_dist)[min(merged_para_idx)-1, i] >\\\n",
    "                    (r.euclidean_dist)[max(merged_para_idx)+1, i]:\n",
    "                    merged_para_idx.append(max(merged_para_idx)+1)\n",
    "                else:\n",
    "                    merged_para_idx.append(min(merged_para_idx)-1)\n",
    "            num_tok = np.sum(r.para_num_tok[merged_para_idx])\n",
    "                  \n",
    "        extracted_para.append(sorted(merged_para_idx))\n",
    "        \n",
    "    return extracted_para\n",
    "\n",
    "df_best_para['selected_para_euclidean'] =\\\n",
    "    df_best_para.progress_apply(lambda row: expand_based_on_euclidean(row), axis=1)"
   ]
  },
  {
   "cell_type": "markdown",
   "metadata": {
    "heading_collapsed": true
   },
   "source": [
    "##### Study Overlap and Remove Useless (>90% overlap) Entries"
   ]
  },
  {
   "cell_type": "code",
   "execution_count": 42,
   "metadata": {
    "hidden": true,
    "scrolled": true
   },
   "outputs": [
    {
     "data": {
      "text/plain": [
       "count    453.000000\n",
       "mean       1.763797\n",
       "std        2.021853\n",
       "min        0.000000\n",
       "25%        0.000000\n",
       "50%        2.000000\n",
       "75%        2.000000\n",
       "max       11.000000\n",
       "Name: overlap_matrix, dtype: float64"
      ]
     },
     "execution_count": 42,
     "metadata": {},
     "output_type": "execute_result"
    }
   ],
   "source": [
    "def study_overlap(r):\n",
    "    num_centr = len(r.selected_para_euclidean)\n",
    "    overlap_matrix = np.zeros((num_centr,num_centr))\n",
    "    \n",
    "    def list_overlap(a, b):\n",
    "        return list( set(a).intersection(set(b)) )\n",
    "    \n",
    "    for i in range(num_centr):\n",
    "        for j in range(num_centr):\n",
    "            if i == j : continue\n",
    "            num_tok_i = np.sum(r.para_num_tok[r.selected_para_euclidean[i]])\n",
    "            overlap = list_overlap(\n",
    "                r.selected_para_euclidean[i], r.selected_para_euclidean[j])\n",
    "            num_tok_overlap = np.sum(r.para_num_tok[overlap])\n",
    "            assert num_tok_overlap <= num_tok_i\n",
    "            \n",
    "            overlap_matrix[i, j] = num_tok_overlap/num_tok_i*100\n",
    "    \n",
    "    return overlap_matrix\n",
    "    \n",
    "df_best_para['overlap_matrix'] = df_best_para.apply(lambda row: study_overlap(row), axis=1)\n",
    "df_best_para.overlap_matrix.map(lambda om: np.sum(om > 90)).describe()"
   ]
  },
  {
   "cell_type": "code",
   "execution_count": 43,
   "metadata": {
    "hidden": true
   },
   "outputs": [],
   "source": [
    "def remove_big_overlap(r, threshold):\n",
    "    om = r.overlap_matrix\n",
    "    big_overlap_idx = np.argwhere(om >= threshold)\n",
    "    to_be_removed = set()\n",
    "    for idx in big_overlap_idx:\n",
    "        i, j = idx[0], idx[1]\n",
    "        if om[i, j] == om[j, i]:\n",
    "            if i in to_be_removed or j in to_be_removed : continue\n",
    "            else : to_be_removed.add(i)\n",
    "        elif om[i, j] > om[j, i]:\n",
    "            to_be_removed.add(i)\n",
    "        else:\n",
    "            to_be_removed.add(j)\n",
    "    return [s for i, s in enumerate(r.selected_para_euclidean) if i not in to_be_removed]\n",
    "\n",
    "df_best_para.selected_para_euclidean = df_best_para.apply(lambda row: remove_big_overlap(row, 90), axis=1)"
   ]
  },
  {
   "cell_type": "code",
   "execution_count": 44,
   "metadata": {
    "hidden": true,
    "scrolled": true
   },
   "outputs": [
    {
     "data": {
      "text/plain": [
       "count    453.0\n",
       "mean       0.0\n",
       "std        0.0\n",
       "min        0.0\n",
       "25%        0.0\n",
       "50%        0.0\n",
       "75%        0.0\n",
       "max        0.0\n",
       "Name: overlap_matrix, dtype: float64"
      ]
     },
     "execution_count": 44,
     "metadata": {},
     "output_type": "execute_result"
    }
   ],
   "source": [
    "df_best_para['overlap_matrix'] = df_best_para.apply(lambda row: study_overlap(row), axis=1)\n",
    "df_best_para.overlap_matrix.map(lambda om: np.sum(om > 90)).describe()"
   ]
  },
  {
   "cell_type": "markdown",
   "metadata": {
    "heading_collapsed": true
   },
   "source": [
    "##### Finalize Results"
   ]
  },
  {
   "cell_type": "code",
   "execution_count": 45,
   "metadata": {
    "hidden": true,
    "scrolled": true
   },
   "outputs": [],
   "source": [
    "df_selected_para_euclidean = df_best_para.explode('selected_para_euclidean')\n",
    "df_selected_para_euclidean = df_selected_para_euclidean.drop(\n",
    "    columns=['best_para_cosine', 'best_para_euclidean', 'cosine_sim', 'euclidean_dist', 'overlap_matrix'])\n",
    "\n",
    "df_selected_para_euclidean['selected_para'] = df_selected_para_euclidean.apply(lambda row:\\\n",
    "    [p for i, p in enumerate(row.para) if i in row.selected_para_euclidean], axis=1)\n",
    "\n",
    "df_selected_para_euclidean['para_num_tok'] = df_selected_para_euclidean.apply(lambda row:\\\n",
    "    [p for i, p in enumerate(row.para_num_tok) if i in row.selected_para_euclidean], axis=1)"
   ]
  },
  {
   "cell_type": "code",
   "execution_count": 46,
   "metadata": {
    "hidden": true
   },
   "outputs": [
    {
     "data": {
      "text/plain": [
       "count    2223.000000\n",
       "mean      426.573549\n",
       "std       194.769371\n",
       "min        87.000000\n",
       "25%       288.500000\n",
       "50%       381.000000\n",
       "75%       520.000000\n",
       "max      1094.000000\n",
       "Name: para_num_tok, dtype: float64"
      ]
     },
     "execution_count": 46,
     "metadata": {},
     "output_type": "execute_result"
    }
   ],
   "source": [
    "df_selected_para_euclidean.para_num_tok.map(sum).describe()"
   ]
  },
  {
   "cell_type": "code",
   "execution_count": 47,
   "metadata": {
    "hidden": true,
    "scrolled": true
   },
   "outputs": [],
   "source": [
    "df_selected_para_euclidean.to_csv(OUTPUT_PATH+'df_euclidean.csv')"
   ]
  },
  {
   "cell_type": "markdown",
   "metadata": {
    "heading_collapsed": true
   },
   "source": [
    "##### Compare to Para Wordembed ST Dataset"
   ]
  },
  {
   "cell_type": "code",
   "execution_count": 51,
   "metadata": {
    "hidden": true,
    "scrolled": true
   },
   "outputs": [],
   "source": [
    "df_para_wordembed_st =\\\n",
    "    pd.read_csv(config.MAGMA_DIR+'datasets/bullet_paragraph_embeddings/'+MODEL+'/st/df_base_selected_para.csv')\\\n",
    "    .set_index(['book', 'chapter'])\n",
    "df_para_wordembed_st.para = df_para_wordembed_st.para.map(eval)\n",
    "df_para_wordembed_st.best_match = df_para_wordembed_st.best_match.map(eval)"
   ]
  },
  {
   "cell_type": "code",
   "execution_count": 52,
   "metadata": {
    "hidden": true,
    "scrolled": true
   },
   "outputs": [],
   "source": [
    "flatten = lambda t: [item for sublist in t for item in sublist]\n",
    "\n",
    "selected_para = df_best_para.selected_para_euclidean.map(lambda l: set(flatten(l)))\n",
    "\n",
    "best_match = df_para_wordembed_st.best_match.map(set)\n",
    "\n",
    "df_comparison = pd.concat([selected_para, best_match], axis=1)"
   ]
  },
  {
   "cell_type": "code",
   "execution_count": 53,
   "metadata": {
    "hidden": true
   },
   "outputs": [],
   "source": [
    "def precision(pred, ref):\n",
    "    return round(100*len(pred.intersection(ref)) / len(pred), 2)\n",
    "    \n",
    "def recall(pred, ref):\n",
    "    return round(100*len(pred.intersection(ref)) / len(ref), 2)\n",
    "\n",
    "def fmeasure(prec, rec):\n",
    "    if prec + rec == 0 : return 0\n",
    "    return round(2*prec*rec/(prec+rec), 2)\n",
    "\n",
    "df_comparison['precision'] = df_comparison.apply(\n",
    "    lambda row: precision(row.selected_para_euclidean, row.best_match), axis=1)\n",
    "df_comparison['recall'] = df_comparison.apply(\n",
    "    lambda row: recall(row.selected_para_euclidean, row.best_match), axis=1)\n",
    "df_comparison['fmeasure'] = df_comparison.apply(\n",
    "    lambda row: fmeasure(row.precision, row.recall), axis=1)"
   ]
  },
  {
   "cell_type": "code",
   "execution_count": 54,
   "metadata": {
    "hidden": true
   },
   "outputs": [
    {
     "data": {
      "text/html": [
       "<div>\n",
       "<style scoped>\n",
       "    .dataframe tbody tr th:only-of-type {\n",
       "        vertical-align: middle;\n",
       "    }\n",
       "\n",
       "    .dataframe tbody tr th {\n",
       "        vertical-align: top;\n",
       "    }\n",
       "\n",
       "    .dataframe thead th {\n",
       "        text-align: right;\n",
       "    }\n",
       "</style>\n",
       "<table border=\"1\" class=\"dataframe\">\n",
       "  <thead>\n",
       "    <tr style=\"text-align: right;\">\n",
       "      <th></th>\n",
       "      <th>precision</th>\n",
       "      <th>recall</th>\n",
       "      <th>fmeasure</th>\n",
       "    </tr>\n",
       "  </thead>\n",
       "  <tbody>\n",
       "    <tr>\n",
       "      <th>count</th>\n",
       "      <td>453.000000</td>\n",
       "      <td>453.000000</td>\n",
       "      <td>453.000000</td>\n",
       "    </tr>\n",
       "    <tr>\n",
       "      <th>mean</th>\n",
       "      <td>30.414680</td>\n",
       "      <td>69.348477</td>\n",
       "      <td>40.042627</td>\n",
       "    </tr>\n",
       "    <tr>\n",
       "      <th>std</th>\n",
       "      <td>17.810506</td>\n",
       "      <td>21.361017</td>\n",
       "      <td>18.079504</td>\n",
       "    </tr>\n",
       "    <tr>\n",
       "      <th>min</th>\n",
       "      <td>0.000000</td>\n",
       "      <td>0.000000</td>\n",
       "      <td>0.000000</td>\n",
       "    </tr>\n",
       "    <tr>\n",
       "      <th>25%</th>\n",
       "      <td>16.670000</td>\n",
       "      <td>55.560000</td>\n",
       "      <td>26.670000</td>\n",
       "    </tr>\n",
       "    <tr>\n",
       "      <th>50%</th>\n",
       "      <td>26.670000</td>\n",
       "      <td>70.000000</td>\n",
       "      <td>38.460000</td>\n",
       "    </tr>\n",
       "    <tr>\n",
       "      <th>75%</th>\n",
       "      <td>40.000000</td>\n",
       "      <td>85.710000</td>\n",
       "      <td>52.630000</td>\n",
       "    </tr>\n",
       "    <tr>\n",
       "      <th>max</th>\n",
       "      <td>100.000000</td>\n",
       "      <td>100.000000</td>\n",
       "      <td>85.710000</td>\n",
       "    </tr>\n",
       "  </tbody>\n",
       "</table>\n",
       "</div>"
      ],
      "text/plain": [
       "        precision      recall    fmeasure\n",
       "count  453.000000  453.000000  453.000000\n",
       "mean    30.414680   69.348477   40.042627\n",
       "std     17.810506   21.361017   18.079504\n",
       "min      0.000000    0.000000    0.000000\n",
       "25%     16.670000   55.560000   26.670000\n",
       "50%     26.670000   70.000000   38.460000\n",
       "75%     40.000000   85.710000   52.630000\n",
       "max    100.000000  100.000000   85.710000"
      ]
     },
     "execution_count": 54,
     "metadata": {},
     "output_type": "execute_result"
    }
   ],
   "source": [
    "df_comparison.describe()"
   ]
  },
  {
   "cell_type": "code",
   "execution_count": null,
   "metadata": {
    "hidden": true
   },
   "outputs": [],
   "source": []
  }
 ],
 "metadata": {
  "colab": {
   "collapsed_sections": [
    "P95DxvqWi_2Y",
    "mFAC31paODFl",
    "S0FByNNOIRvG",
    "tb7fAfzaK4es",
    "eQGq4WLu3Gei",
    "tSHT0mxuvkEp",
    "-eRnW74aH95b",
    "X2xp7jJNwB6b",
    "2Eb-_Ud3vxeY",
    "VndEUBoDjjkV",
    "8_li_hFKF_Ws"
   ],
   "name": "paragraph_assign_bullets.ipynb",
   "provenance": []
  },
  "kernelspec": {
   "display_name": "Python 3",
   "language": "python",
   "name": "python3"
  },
  "language_info": {
   "codemirror_mode": {
    "name": "ipython",
    "version": 3
   },
   "file_extension": ".py",
   "mimetype": "text/x-python",
   "name": "python",
   "nbconvert_exporter": "python",
   "pygments_lexer": "ipython3",
   "version": "3.6.9"
  }
 },
 "nbformat": 4,
 "nbformat_minor": 1
}
