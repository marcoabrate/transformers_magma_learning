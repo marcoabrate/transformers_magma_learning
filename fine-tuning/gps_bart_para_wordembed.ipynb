{
 "cells": [
  {
   "cell_type": "code",
   "execution_count": 1,
   "metadata": {
    "executionInfo": {
     "elapsed": 18956,
     "status": "ok",
     "timestamp": 1610616869075,
     "user": {
      "displayName": "Marco Pietro Abrate",
      "photoUrl": "https://lh3.googleusercontent.com/a-/AOh14Gjh-8YF-8BlnrkN9mLZ0xfVOWfOh7kYncpYRv-Y=s64",
      "userId": "15422244832836998434"
     },
     "user_tz": -60
    },
    "id": "au5Z9XQAC7C-"
   },
   "outputs": [],
   "source": [
    "magma_dir = '/home/marco/epfl/magma/'\n",
    "transformers_dir = '/home/marco/epfl/transformers/'"
   ]
  },
  {
   "cell_type": "markdown",
   "metadata": {
    "heading_collapsed": true
   },
   "source": [
    "#### AWS"
   ]
  },
  {
   "cell_type": "code",
   "execution_count": null,
   "metadata": {
    "hidden": true
   },
   "outputs": [],
   "source": [
    "magma_dir = '/home/ubuntu/magma/'\n",
    "bucket_dir = '/home/ubuntu/s3/'\n",
    "transformers_dir = '/home/ubuntu/transformers/'\n",
    "cache_dir = bucket_dir+'.cache/'"
   ]
  },
  {
   "cell_type": "markdown",
   "metadata": {
    "id": "S0FByNNOIRvG"
   },
   "source": [
    "### **Config**"
   ]
  },
  {
   "cell_type": "code",
   "execution_count": 2,
   "metadata": {
    "executionInfo": {
     "elapsed": 45120,
     "status": "ok",
     "timestamp": 1610616895249,
     "user": {
      "displayName": "Marco Pietro Abrate",
      "photoUrl": "https://lh3.googleusercontent.com/a-/AOh14Gjh-8YF-8BlnrkN9mLZ0xfVOWfOh7kYncpYRv-Y=s64",
      "userId": "15422244832836998434"
     },
     "user_tz": -60
    },
    "id": "3BHImWfNKpDN"
   },
   "outputs": [],
   "source": [
    "import os\n",
    "import sys\n",
    "\n",
    "sys.path.insert(0, magma_dir)\n",
    "import config\n",
    "\n",
    "sys.path.insert(0, transformers_dir+'examples/seq2seq/')\n",
    "import utils\n",
    "\n",
    "from torch import cuda\n",
    "device = 'cuda' if cuda.is_available() else 'cpu'"
   ]
  },
  {
   "cell_type": "code",
   "execution_count": 3,
   "metadata": {
    "executionInfo": {
     "elapsed": 45119,
     "status": "ok",
     "timestamp": 1610616895251,
     "user": {
      "displayName": "Marco Pietro Abrate",
      "photoUrl": "https://lh3.googleusercontent.com/a-/AOh14Gjh-8YF-8BlnrkN9mLZ0xfVOWfOh7kYncpYRv-Y=s64",
      "userId": "15422244832836998434"
     },
     "user_tz": -60
    },
    "id": "82WSp6khIcua"
   },
   "outputs": [],
   "source": [
    "MODEL = 'bart'\n",
    "MODELS = {}"
   ]
  },
  {
   "cell_type": "code",
   "execution_count": 4,
   "metadata": {
    "executionInfo": {
     "elapsed": 45117,
     "status": "ok",
     "timestamp": 1610616895252,
     "user": {
      "displayName": "Marco Pietro Abrate",
      "photoUrl": "https://lh3.googleusercontent.com/a-/AOh14Gjh-8YF-8BlnrkN9mLZ0xfVOWfOh7kYncpYRv-Y=s64",
      "userId": "15422244832836998434"
     },
     "user_tz": -60
    },
    "id": "5ti6XKYnFzSr"
   },
   "outputs": [],
   "source": [
    "# Dataset path\n",
    "data_dir = magma_dir + 'datasets/karger_books_para_wordembed/'+MODEL+'/'\n",
    "\n",
    "# Output path\n",
    "OUTPUT_PATH = magma_dir+'fine-tuning/gps_bart_para_wordembed/'\n",
    "if not os.path.exists(OUTPUT_PATH):\n",
    "    os.makedirs(OUTPUT_PATH)"
   ]
  },
  {
   "cell_type": "markdown",
   "metadata": {
    "heading_collapsed": true
   },
   "source": [
    "#### AWS"
   ]
  },
  {
   "cell_type": "code",
   "execution_count": null,
   "metadata": {
    "hidden": true
   },
   "outputs": [],
   "source": [
    "data_dir = bucket_dir + 'datasets/karger_books_para_wordembed/'+MODEL+'/'"
   ]
  },
  {
   "cell_type": "markdown",
   "metadata": {
    "id": "JFd0ppeJyX1o"
   },
   "source": [
    "### **Init**"
   ]
  },
  {
   "cell_type": "code",
   "execution_count": 5,
   "metadata": {
    "executionInfo": {
     "elapsed": 45115,
     "status": "ok",
     "timestamp": 1610616895253,
     "user": {
      "displayName": "Marco Pietro Abrate",
      "photoUrl": "https://lh3.googleusercontent.com/a-/AOh14Gjh-8YF-8BlnrkN9mLZ0xfVOWfOh7kYncpYRv-Y=s64",
      "userId": "15422244832836998434"
     },
     "user_tz": -60
    },
    "id": "yCzod0OizR5U"
   },
   "outputs": [],
   "source": [
    "import matplotlib.pyplot as plt\n",
    "import numpy as np\n",
    "import torch\n",
    "import re\n",
    "import pandas as pd\n",
    "from tqdm import tqdm\n",
    "from textwrap import fill\n",
    "from transformers import EvalPrediction\n",
    "\n",
    "tqdm.pandas()"
   ]
  },
  {
   "cell_type": "markdown",
   "metadata": {
    "id": "dllOnKR9Os5i"
   },
   "source": [
    "### **Function Definition**"
   ]
  },
  {
   "cell_type": "markdown",
   "metadata": {
    "id": "U2mpXoSaQiQE"
   },
   "source": [
    "##### Import Model and Tok"
   ]
  },
  {
   "cell_type": "code",
   "execution_count": 6,
   "metadata": {
    "executionInfo": {
     "elapsed": 45113,
     "status": "ok",
     "timestamp": 1610616895255,
     "user": {
      "displayName": "Marco Pietro Abrate",
      "photoUrl": "https://lh3.googleusercontent.com/a-/AOh14Gjh-8YF-8BlnrkN9mLZ0xfVOWfOh7kYncpYRv-Y=s64",
      "userId": "15422244832836998434"
     },
     "user_tz": -60
    },
    "id": "XhBGMJVFOs5l"
   },
   "outputs": [],
   "source": [
    "def import_model_tok(model_name_or_path, verbose=False):\n",
    "    global MODELS\n",
    "\n",
    "    if model_name_or_path in MODELS.keys():\n",
    "        if verbose : print('[+] model already present in cache\\n')\n",
    "        return MODELS[model_name_or_path]\n",
    "    if verbose : print('[*] importing the model\\n')\n",
    "\n",
    "    if 'bart' in MODEL:\n",
    "        from transformers import BartForConditionalGeneration, BartTokenizer\n",
    "\n",
    "        model = BartForConditionalGeneration.from_pretrained(model_name_or_path)\n",
    "        tokenizer = BartTokenizer.from_pretrained(model_name_or_path)\n",
    "    elif 'pegasus' in MODEL:\n",
    "        from transformers import PegasusForConditionalGeneration, PegasusTokenizer\n",
    "\n",
    "        model = PegasusForConditionalGeneration.from_pretrained(model_name_or_path)\n",
    "        tokenizer = PegasusTokenizer.from_pretrained(model_name_or_path)\n",
    "\n",
    "    if verbose : print(model.config)\n",
    "    MODELS[model_name_or_path] = model, tokenizer\n",
    "    if verbose : print('[+] the model is now present in cache\\n')\n",
    "    return MODELS[model_name_or_path]"
   ]
  },
  {
   "cell_type": "markdown",
   "metadata": {
    "id": "JiYIkI5xN2VA"
   },
   "source": [
    "##### Print Examples"
   ]
  },
  {
   "cell_type": "code",
   "execution_count": 7,
   "metadata": {
    "executionInfo": {
     "elapsed": 45112,
     "status": "ok",
     "timestamp": 1610616895257,
     "user": {
      "displayName": "Marco Pietro Abrate",
      "photoUrl": "https://lh3.googleusercontent.com/a-/AOh14Gjh-8YF-8BlnrkN9mLZ0xfVOWfOh7kYncpYRv-Y=s64",
      "userId": "15422244832836998434"
     },
     "user_tz": -60
    },
    "id": "dxsXYs1kN5HX"
   },
   "outputs": [],
   "source": [
    "def print_examples(model_name_or_path, df_val,\n",
    "    min_length, max_length, length_penalty, no_repeat_ngram_size, n_examples=5):\n",
    "    \n",
    "    df_examples = df_val.sample(n_examples, axis='index', random_state=config.SEED)\n",
    "    \n",
    "    model, tokenizer = import_model_tok(model_name_or_path)\n",
    "    model = model.to(device)\n",
    "    \n",
    "    for idx, row in df_examples.iterrows():\n",
    "        print(idx)\n",
    "        print(fill(row.text, 100))\n",
    "        print()\n",
    "            \n",
    "        summ_enc = model.generate(\n",
    "            tokenizer.encode(row.text, return_tensors='pt', truncation=True).to(device),\n",
    "            min_length = min_length,\n",
    "            max_length = max_length,\n",
    "            length_penalty = length_penalty,\n",
    "            no_repeat_ngram_size = no_repeat_ngram_size,\n",
    "            early_stopping = True)[0]\n",
    "        summ_num_tok = len(summ_enc)\n",
    "        summ = tokenizer.decode(summ_enc, skip_special_tokens=True)\n",
    "\n",
    "        print('Prediction\\n%s (%d tok):\\n'%(model_name_or_path, summ_num_tok))\n",
    "        print(fill(summ, 100))\n",
    "        print()\n",
    "            \n",
    "        print('Reference:')\n",
    "        print(fill(row.bullets, 100))\n",
    "        print()\n",
    "        print(''.join(['#']*100))\n",
    "        print()"
   ]
  },
  {
   "cell_type": "markdown",
   "metadata": {},
   "source": [
    "##### Compute Metrics"
   ]
  },
  {
   "cell_type": "code",
   "execution_count": 8,
   "metadata": {},
   "outputs": [],
   "source": [
    "def compute_metrics(model_name_or_path, df_val,\n",
    "    min_length, max_length, length_penalty, no_repeat_ngram_size, batch_size=8):\n",
    "    \n",
    "    model, tokenizer = import_model_tok(model_name_or_path)\n",
    "    model = model.to(device)\n",
    "    \n",
    "    summarization_metrics = utils.build_compute_metrics_fn('summarization', tokenizer)\n",
    "\n",
    "    input_ids = tokenizer(df_val.text.tolist(), return_tensors='pt', padding=True).input_ids\n",
    "    input_ids = input_ids.split(batch_size)\n",
    "    \n",
    "    reference_ids = tokenizer(df_val.bullets.tolist(), return_tensors='pt', padding=True).input_ids\n",
    "    reference_ids = reference_ids.split(batch_size)\n",
    "    \n",
    "    pbar = tqdm(total=len(input_ids), \n",
    "                position=0,\n",
    "                leave=True,\n",
    "                file=sys.stdout)\n",
    "    metrics_final = {}\n",
    "    avg_len = len(input_ids)\n",
    "    \n",
    "    for batch, label_ids in zip(input_ids, reference_ids):\n",
    "\n",
    "        pred_ids = model.generate(\n",
    "            batch.to(device),\n",
    "            min_length = min_length,\n",
    "            max_length = max_length,\n",
    "            length_penalty = length_penalty,\n",
    "            no_repeat_ngram_size = no_repeat_ngram_size,\n",
    "            early_stopping = True)\n",
    "        ep = EvalPrediction(pred_ids, label_ids)\n",
    "        \n",
    "        metrics = summarization_metrics(ep)\n",
    "        for k in metrics.keys():\n",
    "            if k not in metrics_final:\n",
    "                metrics_final[k] = 0\n",
    "            metrics_final[k] += (metrics[k] / avg_len)\n",
    "\n",
    "        pbar.update(1)\n",
    "    pbar.close()\n",
    "    return metrics_final"
   ]
  },
  {
   "cell_type": "markdown",
   "metadata": {
    "id": "vb_MdivVauzb"
   },
   "source": [
    "## **Sentence-Transformers**"
   ]
  },
  {
   "cell_type": "code",
   "execution_count": 9,
   "metadata": {},
   "outputs": [],
   "source": [
    "data_dir_st = data_dir + 'st/'"
   ]
  },
  {
   "cell_type": "code",
   "execution_count": 10,
   "metadata": {
    "executionInfo": {
     "elapsed": 18765,
     "status": "ok",
     "timestamp": 1610616898502,
     "user": {
      "displayName": "Marco Pietro Abrate",
      "photoUrl": "https://lh3.googleusercontent.com/a-/AOh14Gjh-8YF-8BlnrkN9mLZ0xfVOWfOh7kYncpYRv-Y=s64",
      "userId": "15422244832836998434"
     },
     "user_tz": -60
    },
    "id": "K98cwOLys0XX"
   },
   "outputs": [],
   "source": [
    "df_val = pd.read_csv(data_dir_st + 'val.csv').set_index(['book', 'chapter'])"
   ]
  },
  {
   "cell_type": "markdown",
   "metadata": {
    "id": "dpNmnjXn3u2U"
   },
   "source": [
    "### **Generative Parameter Search**"
   ]
  },
  {
   "cell_type": "code",
   "execution_count": 11,
   "metadata": {},
   "outputs": [],
   "source": [
    "model_name_or_path =  magma_dir+'fine-tuning/ft_bart_para_wordembed/checkpoint-196'"
   ]
  },
  {
   "cell_type": "code",
   "execution_count": 12,
   "metadata": {},
   "outputs": [],
   "source": [
    "min_length_swipe = [10]#, 20, 30]\n",
    "max_length_swipe = [110]#, 120, 130]\n",
    "length_penalty_swipe = [0]#, 1, 2]\n",
    "no_repeat_ngram_size_swipe = [2]#, 3, 4]"
   ]
  },
  {
   "cell_type": "code",
   "execution_count": 13,
   "metadata": {},
   "outputs": [],
   "source": [
    "gps_metrics = pd.DataFrame(columns=['min_length', 'max_length', 'length_penalty', 'no_repeat_ngram',\n",
    "                     'r1_precision', 'r1_recall', 'r1_fmeasure',\n",
    "                     'r2_precision', 'r2_recall', 'r2_fmeasure',\n",
    "                     'rL_precision', 'rL_recall', 'rL_fmeasure',\n",
    "                     'ST', 'W2V'])"
   ]
  },
  {
   "cell_type": "code",
   "execution_count": 14,
   "metadata": {},
   "outputs": [
    {
     "name": "stdout",
     "output_type": "stream",
     "text": [
      "###################################\n",
      "###################################\n",
      "###\t\t\t\t###\n",
      "### \tMIN LENGTH: 10\t\t###\n",
      "### \tMAX LENGTH: 110\t\t###\n",
      "### \tLENGTH PENALTY: 0\t###\n",
      "### \tNO REPEAT NGRAM: 2\t###\n",
      "###\t\t\t\t###\n",
      "###################################\n",
      "###################################\n",
      "\n",
      "100%|██████████| 34/34 [11:09<00:00, 19.68s/it]\n",
      "(9781908541178, 'ch_6')\n",
      "Many anatomic factors can play a primary or a secondary role in the development and progression of\n",
      "low back pain syndromes. The most common causes of low back pain are mechanical in origin.\n",
      "Mechanical disorders of the lumbar spine are related to injury, overuse or deformity of a spinal\n",
      "structure. The most important traumatic factors in low back pain relate to soft tissue structures.\n",
      "Precise identification of the injured tissue, and the role of that injury in the consequent pain and\n",
      "dysfunction, can be frustratingly difficult. Problems occur in muscles, intervertebral discs, facet\n",
      "joints, ligaments or spinal nerves. Aging causes modification of these structures over time, and\n",
      "different parts of the spine tend to be at greater risk for change or injury during different\n",
      "decades of life. Early in life, muscle injuries are more frequent, while joint problems occur in the\n",
      "sixth decade of life (Table 3.1).\n",
      "\n",
      "Prediction\n",
      "/home/marco/epfl/magma/fine-tuning/ft_bart_para_wordembed/checkpoint-196 (25 tok):\n",
      "\n",
      "The most common causes of low back pain are mechanical, with overuse or deformity of a spinal\n",
      "structure.\n",
      "\n",
      "Reference:\n",
      "Mechanical disorders - muscle strain, spondylolisthesis, herniated intervertebral disc,\n",
      "osteoarthritis, spinal stenosis - are the most common causes of low back pain.\n",
      "\n",
      "####################################################################################################\n",
      "\n",
      "(9781912776726, 'ch4')\n",
      "Patients with glioblastoma have specific information needs. While the amount of information that\n",
      "patients want varies from person to person, and in some cases understanding may be impaired by\n",
      "cognitive deficits, patients and their carers need frank but compassionate information on diagnosis,\n",
      "prognosis, treatment options, recurrence and end-of-life care. News of a poor prognosis can be\n",
      "difficult to process initially. Patients need time to ask questions and receive honest answers. A\n",
      "combination of written and verbal information over several consultations and ongoing access to a\n",
      "well-resourced specialist nurse and psychologist or counselor are all important in this respect.\n",
      "Standard of care for newly diagnosed glioblastoma. The current standard of care for newly diagnosed\n",
      "glioblastoma is maximum surgical resection followed by radiotherapy and concomitant temozolomide and\n",
      "adjuvant temozolomide.\n",
      "\n",
      "Prediction\n",
      "/home/marco/epfl/magma/fine-tuning/ft_bart_para_wordembed/checkpoint-196 (16 tok):\n",
      "\n",
      "Patients with glioblastoma have specific information needs.\n",
      "\n",
      "Reference:\n",
      "Radiotherapy and temozolomide is suitable for fit elderly patients with glioblastoma.\n",
      "\n",
      "####################################################################################################\n",
      "\n",
      "(9783318066241, 'ch6')\n",
      "Fluid type. Both an open-label and a triple-blind RCT have demonstrated that fluid resuscitation\n",
      "using lactated Ringer's solution (a balanced salt solution) is associated with a decreased\n",
      "inflammatory response when compared with fluid resuscitation with normal saline (with a high\n",
      "chloride content). According to in vitro experiments, it seems that this anti-inflammatory effect\n",
      "depends on lactate. However, both studies included a small number of patients, and the influence of\n",
      "lactated Ringer's solution on important outcomes such as OF or mortality is unknown. In studies\n",
      "addressing other clinical scenarios, balanced fluids such as lactated Ringer's solution seem to be\n",
      "associated with a decreased need for blood products and a lower incidence of renal replacement\n",
      "therapy, hyperkalemia and postoperative infections when compared with normal saline. For the time\n",
      "being, it seems that lactated Ringer's solution is a good choice for fluid resuscitation in AP.\n",
      "\n",
      "Prediction\n",
      "/home/marco/epfl/magma/fine-tuning/ft_bart_para_wordembed/checkpoint-196 (48 tok):\n",
      "\n",
      "Balanced fluids such as lactated Ringer's solution seem to be associated with a decreased need for\n",
      "blood products and a lower incidence of renal replacement therapy, hyperkalemia and postoperative\n",
      "infections when compared with normal saline.\n",
      "\n",
      "Reference:\n",
      "Lactated Ringer's solution is associated with a decreased inflammatory response in AP when compared\n",
      "with normal saline.\n",
      "\n",
      "####################################################################################################\n",
      "\n",
      "(9781910797662, 'ch07')\n",
      "Management of advanced and metastatic disease. A core principle in the management of solid tumors is\n",
      "to consider control of both the primary and metastatic disease. Several clinical scenarios occur in\n",
      "bladder cancer. Cancers that are clearly confined to the bladder can potentially be cured if the\n",
      "primary tumor can be removed or ablated, through surgery, radiation therapy or multimodality\n",
      "approaches, and there is no metastatic disease; 5-year survival rates are about 70%. Management of\n",
      "these cancers is discussed in chapter on 'Management of non-muscle-invasive disease'.\n",
      "\n",
      "Prediction\n",
      "/home/marco/epfl/magma/fine-tuning/ft_bart_para_wordembed/checkpoint-196 (18 tok):\n",
      "\n",
      "The management of both the primary and metastatic disease is a key principle.\n",
      "\n",
      "Reference:\n",
      "Management of both local and distant metastatic disease should be considered.\n",
      "\n",
      "####################################################################################################\n",
      "\n",
      "(9781910797723, 'chp3')\n",
      "What types of tumor are potentially susceptible to immuno-oncology?. Clearly, the potential\n",
      "sensitivity of a given cancer to immuno-oncology therapies will depend on the ability of the tumor\n",
      "to trigger an immune response (immunogenicity). Cancer is characterized by an accumulation of\n",
      "genetic mutations, many of which result in the expression of cancer-specific antigens that can bind\n",
      "to major histocompatibility complex (MHC) class I molecules on the cancer cell surface. These\n",
      "antigen-MHC complexes can be recognized by cytotoxic CD8+ lymphocytes, that, if activated, could\n",
      "potentially mount an immune response against the tumor. As a result, tumors with high somatic\n",
      "mutation rates may be more susceptible to immuno-oncology therapies than those with lower mutation\n",
      "rates. Somatic mutation rates differ markedly, both between tumor types and within an individual\n",
      "tumor type: the rate may vary more than 1000-fold between tumors with the highest and lowest rates\n",
      "(Figure 3.2). The highest rates are seen in cancers of the skin, lung, bladder and stomach, while\n",
      "the lowest are seen in hematologic and pediatric cancers. It is noteworthy that the highest rates\n",
      "occur in tumors that are induced by carcinogens such as tobacco smoke or ultraviolet light.\n",
      "\n",
      "Prediction\n",
      "/home/marco/epfl/magma/fine-tuning/ft_bart_para_wordembed/checkpoint-196 (36 tok):\n",
      "\n",
      "The sensitivity of a given cancer to immuno-oncology therapies will depend on the ability of the\n",
      "tumor to trigger an immune response (immunogenicity).\n",
      "\n",
      "Reference:\n",
      "The potential sensitivity of a given cancer to immunotherapy depends on the immunogenicity of the\n",
      "tumor, which is related to the somatic mutation rate within tumor cells.- The highest mutation rates\n",
      "are seen in cancers of the skin, lung, bladder and stomach, rendering these tumor types more\n",
      "sensitive to immunotherapy.\n",
      "\n",
      "####################################################################################################\n",
      "\n"
     ]
    }
   ],
   "source": [
    "idx = 0\n",
    "for min_length in min_length_swipe:\n",
    "    for max_length in max_length_swipe:\n",
    "        for length_penalty in length_penalty_swipe:\n",
    "            for no_repeat_ngram_size in no_repeat_ngram_size_swipe:\n",
    "                \n",
    "                print(''.join(['#']*35))\n",
    "                print(''.join(['#']*35))\n",
    "                print('###\\t\\t\\t\\t###')\n",
    "                print('### \\tMIN LENGTH: %d\\t\\t###'%min_length)\n",
    "                print('### \\tMAX LENGTH: %d\\t\\t###'%max_length)\n",
    "                print('### \\tLENGTH PENALTY: %d\\t###'%length_penalty)\n",
    "                print('### \\tNO REPEAT NGRAM: %d\\t###'%no_repeat_ngram_size)\n",
    "                print('###\\t\\t\\t\\t###')\n",
    "                print(''.join(['#']*35))\n",
    "                print(''.join(['#']*35))\n",
    "                print()\n",
    "                \n",
    "                metrics = compute_metrics(model_name_or_path, df_val,\n",
    "                    min_length, max_length, length_penalty, no_repeat_ngram_size)\n",
    "                \n",
    "                gps_metrics.loc[idx] = [min_length, max_length, length_penalty, no_repeat_ngram_size]+\\\n",
    "                    [metrics[k] for k in metrics if 'sum' not in k and 'len' not in k]\n",
    "                \n",
    "                print()\n",
    "                print_examples(model_name_or_path, df_val,\n",
    "                    min_length, max_length, length_penalty, no_repeat_ngram_size)"
   ]
  },
  {
   "cell_type": "code",
   "execution_count": 23,
   "metadata": {},
   "outputs": [
    {
     "data": {
      "text/html": [
       "<div>\n",
       "<style scoped>\n",
       "    .dataframe tbody tr th:only-of-type {\n",
       "        vertical-align: middle;\n",
       "    }\n",
       "\n",
       "    .dataframe tbody tr th {\n",
       "        vertical-align: top;\n",
       "    }\n",
       "\n",
       "    .dataframe thead th {\n",
       "        text-align: right;\n",
       "    }\n",
       "</style>\n",
       "<table border=\"1\" class=\"dataframe\">\n",
       "  <thead>\n",
       "    <tr style=\"text-align: right;\">\n",
       "      <th></th>\n",
       "      <th>min_length</th>\n",
       "      <th>max_length</th>\n",
       "      <th>length_penalty</th>\n",
       "      <th>no_repeat_ngram</th>\n",
       "      <th>r1_precision</th>\n",
       "      <th>r1_recall</th>\n",
       "      <th>r1_fmeasure</th>\n",
       "      <th>r2_precision</th>\n",
       "      <th>r2_recall</th>\n",
       "      <th>r2_fmeasure</th>\n",
       "      <th>rL_precision</th>\n",
       "      <th>rL_recall</th>\n",
       "      <th>rL_fmeasure</th>\n",
       "      <th>ST</th>\n",
       "      <th>W2V</th>\n",
       "    </tr>\n",
       "  </thead>\n",
       "  <tbody>\n",
       "    <tr>\n",
       "      <th>0</th>\n",
       "      <td>10.0</td>\n",
       "      <td>110.0</td>\n",
       "      <td>0.0</td>\n",
       "      <td>2.0</td>\n",
       "      <td>37.482353</td>\n",
       "      <td>30.350588</td>\n",
       "      <td>32.210294</td>\n",
       "      <td>15.108235</td>\n",
       "      <td>12.411471</td>\n",
       "      <td>13.021176</td>\n",
       "      <td>30.068824</td>\n",
       "      <td>24.55</td>\n",
       "      <td>25.977647</td>\n",
       "      <td>59.699634</td>\n",
       "      <td>46.268111</td>\n",
       "    </tr>\n",
       "  </tbody>\n",
       "</table>\n",
       "</div>"
      ],
      "text/plain": [
       "   min_length  max_length  length_penalty  no_repeat_ngram  r1_precision  \\\n",
       "0        10.0       110.0             0.0              2.0     37.482353   \n",
       "\n",
       "   r1_recall  r1_fmeasure  r2_precision  r2_recall  r2_fmeasure  rL_precision  \\\n",
       "0  30.350588    32.210294     15.108235  12.411471    13.021176     30.068824   \n",
       "\n",
       "   rL_recall  rL_fmeasure         ST        W2V  \n",
       "0      24.55    25.977647  59.699634  46.268111  "
      ]
     },
     "execution_count": 23,
     "metadata": {},
     "output_type": "execute_result"
    }
   ],
   "source": [
    "gps_metrics"
   ]
  },
  {
   "cell_type": "code",
   "execution_count": 75,
   "metadata": {},
   "outputs": [
    {
     "data": {
      "image/png": "[encoded data removed]",
      "text/plain": [
       "<Figure size 1440x576 with 1 Axes>"
      ]
     },
     "metadata": {
      "needs_background": "light"
     },
     "output_type": "display_data"
    }
   ],
   "source": [
    "fig = plt.figure(figsize=(20, 8))\n",
    "ax = fig.add_subplot(111)\n",
    "pd.plotting.parallel_coordinates(\n",
    "    gps_metrics,\n",
    "    'min_length',\n",
    "    [c for c in gps_metrics.columns if 'r1' in c or 'r2' in c or 'rL' in c or 'ST' in c or 'W2V' in c],\n",
    "    ax = ax,\n",
    "    colormap='hsv',\n",
    "    linewidth=3,\n",
    ")\n",
    "ax.set_yticks(np.linspace(0, 100, 11))\n",
    "ax.set_yticks(np.linspace(0, 100, 21), minor=True)\n",
    "for t in ax.xaxis.get_major_ticks():\n",
    "    t.label.set_fontsize(15)\n",
    "for t in ax.yaxis.get_major_ticks():\n",
    "    t.label.set_fontsize(15)\n",
    "    \n",
    "ax.grid(True, which='both')\n",
    "\n",
    "ax.legend(title='Min Length', fontsize='x-large')\n",
    "\n",
    "plt.show()"
   ]
  },
  {
   "cell_type": "markdown",
   "metadata": {
    "heading_collapsed": true,
    "id": "bKYnUXhvMszX"
   },
   "source": [
    "#### Summarize Test"
   ]
  },
  {
   "cell_type": "code",
   "execution_count": null,
   "metadata": {
    "executionInfo": {
     "elapsed": 771,
     "status": "ok",
     "timestamp": 1610617165073,
     "user": {
      "displayName": "Marco Pietro Abrate",
      "photoUrl": "https://lh3.googleusercontent.com/a-/AOh14Gjh-8YF-8BlnrkN9mLZ0xfVOWfOh7kYncpYRv-Y=s64",
      "userId": "15422244832836998434"
     },
     "user_tz": -60
    },
    "hidden": true,
    "id": "t3EV4tDfQ1hM"
   },
   "outputs": [],
   "source": [
    "def summarize(model_name_or_path, df, batch_size):\n",
    "    model, tokenizer = import_model_tok(model_name_or_path)\n",
    "    model = model.to(device)\n",
    "\n",
    "    input_ids = tokenizer(df.text.tolist(), return_tensors='pt', padding=True).input_ids\n",
    "    input_ids = input_ids.split(batch_size)\n",
    "\n",
    "    summs = []\n",
    "\n",
    "    pbar = tqdm(total=len(input_ids), \n",
    "                position=0,\n",
    "                leave=True,\n",
    "                file=sys.stdout)\n",
    "    for batch in input_ids:\n",
    "\n",
    "        summ_enc = model.generate(\n",
    "            batch.to(device),\n",
    "            min_length = config.ONE_BULLET_MIN_LEN,\n",
    "            max_length = config.ONE_BULLET_MAX_LEN,\n",
    "            length_penalty = config.LENGTH_PENALTY,\n",
    "            num_beams = config.NUM_BEAMS,\n",
    "            no_repeat_ngram_size = config.NO_REPEAT_NGRAM_SIZE,\n",
    "            early_stopping = True)\n",
    "        summ = tokenizer.batch_decode(summ_enc, skip_special_tokens=True)\n",
    "        summs += summ\n",
    "\n",
    "        pbar.update(1)\n",
    "    pbar.close()\n",
    "\n",
    "    df['summary'] = summs\n",
    "    \n",
    "    df.to_csv(OUTPUT_PATH+model_name_or_path.replace('/', '?')+'.csv')\n",
    "    \n",
    "    return df"
   ]
  },
  {
   "cell_type": "code",
   "execution_count": null,
   "metadata": {
    "colab": {
     "base_uri": "https://localhost:8080/"
    },
    "executionInfo": {
     "elapsed": 89831,
     "status": "ok",
     "timestamp": 1610617255307,
     "user": {
      "displayName": "Marco Pietro Abrate",
      "photoUrl": "https://lh3.googleusercontent.com/a-/AOh14Gjh-8YF-8BlnrkN9mLZ0xfVOWfOh7kYncpYRv-Y=s64",
      "userId": "15422244832836998434"
     },
     "user_tz": -60
    },
    "hidden": true,
    "id": "xQ0KCVkXMszZ",
    "outputId": "d55a74ed-6e68-4e49-8577-9e6125282fb5",
    "scrolled": true
   },
   "outputs": [],
   "source": [
    "summarize('sshleifer/distilbart-cnn-12-6', df_test, 10)"
   ]
  },
  {
   "cell_type": "code",
   "execution_count": null,
   "metadata": {
    "hidden": true,
    "scrolled": true
   },
   "outputs": [],
   "source": [
    "summarize(\n",
    "    magma_dir+'fine-tuning/sshleifer?distilbart-cnn-12-6_karger_books_para_wordembed_train/',\n",
    "    df_test, 10)"
   ]
  },
  {
   "cell_type": "code",
   "execution_count": null,
   "metadata": {
    "hidden": true,
    "scrolled": true
   },
   "outputs": [],
   "source": [
    "summarize(\n",
    "    magma_dir+'fine-tuning/sshleifer?distilbart-cnn-12-6_karger_books_para_wordembed_no_freeze_train/',\n",
    "    df_test, 10)"
   ]
  },
  {
   "cell_type": "markdown",
   "metadata": {
    "heading_collapsed": true,
    "id": "xoxYNE9nOSYL"
   },
   "source": [
    "### **Evaluation**"
   ]
  },
  {
   "cell_type": "code",
   "execution_count": null,
   "metadata": {
    "colab": {
     "base_uri": "https://localhost:8080/",
     "height": 34,
     "referenced_widgets": [
      "a77961a700f2489f8af86af7aecb7a36"
     ]
    },
    "executionInfo": {
     "elapsed": 2055,
     "status": "ok",
     "timestamp": 1610618117862,
     "user": {
      "displayName": "Marco Pietro Abrate",
      "photoUrl": "https://lh3.googleusercontent.com/a-/AOh14Gjh-8YF-8BlnrkN9mLZ0xfVOWfOh7kYncpYRv-Y=s64",
      "userId": "15422244832836998434"
     },
     "user_tz": -60
    },
    "hidden": true,
    "id": "1d6eIfp0OWYh",
    "outputId": "e85b66fd-c178-41a6-a465-394c29fa4ac8"
   },
   "outputs": [],
   "source": [
    "from datasets import load_metric\n",
    "\n",
    "metric = load_metric(\"rouge\")\n",
    "\n",
    "from sentence_transformers import SentenceTransformer\n",
    "\n",
    "sentence_distilroberta = SentenceTransformer('paraphrase-distilroberta-base-v1')\n",
    "\n",
    "import gensim"
   ]
  },
  {
   "cell_type": "markdown",
   "metadata": {
    "hidden": true,
    "id": "mIcAg1ss4qIR"
   },
   "source": [
    "#### Evaluate summaries bullet by bullet"
   ]
  },
  {
   "cell_type": "code",
   "execution_count": null,
   "metadata": {
    "hidden": true
   },
   "outputs": [],
   "source": [
    "def evaluate_model_bullet_by_bullet(model_name_or_path):\n",
    "    df_eval = pd.read_csv(OUTPUT_PATH+model_name_or_path.replace('/', '?')+\\\n",
    "        '.csv').set_index(['book', 'chapter'])\n",
    "    \n",
    "    rouge_res =\\\n",
    "        df_eval[['bullets', 'summary']]\\\n",
    "        .apply(lambda row:\n",
    "        metric.compute(\n",
    "            predictions = [row[1]],\n",
    "            references = [row[0]],\n",
    "            rouge_types = config.ROUGE_TYPES,\n",
    "            use_agregator = False), axis=1)\n",
    "    for r in config.ROUGE_TYPES:\n",
    "        for i, prf in enumerate(['precision', 'recall', 'fmeasure']):\n",
    "            df_eval[r+'_'+prf] =\\\n",
    "                rouge_res.map(lambda score: 100*score[r][0][i])\n",
    "    \n",
    "    cosine_sim = lambda a, b: (np.dot(a, b) / (np.linalg.norm(a)*np.linalg.norm(b)))\n",
    "    df_eval['st_cosine_sim'] =\\\n",
    "        df_eval[['bullets', 'summary']]\\\n",
    "        .apply(lambda row:\n",
    "        100*cosine_sim(\n",
    "            sentence_distilroberta.encode(row[1]),\n",
    "            sentence_distilroberta.encode(row[0])), axis=1)\n",
    "    \n",
    "    def cosine_sim_w2v(s, b):\n",
    "        s = gensim.utils.simple_preprocess(s, deacc=True)\n",
    "        b = gensim.utils.simple_preprocess(b, deacc=True)\n",
    "        corpus = [s, b]\n",
    "        w2v = gensim.models.Word2Vec(\n",
    "            corpus,\n",
    "            min_count=1,\n",
    "            sg=1,\n",
    "            seed = config.SEED)\n",
    "        s_embed = np.mean([w2v.wv[word] for word in s], axis=0)\n",
    "        b_embed = np.mean([w2v.wv[word] for word in b], axis=0)\n",
    "        return cosine_sim(s_embed, b_embed)\n",
    "        \n",
    "    df_eval['w2v_cosine_sim'] =\\\n",
    "        df_eval[['bullets', 'summary']]\\\n",
    "        .apply(lambda row:\n",
    "        100*cosine_sim_w2v(row[1], row[0]), axis=1)\n",
    "            \n",
    "    df_eval.to_csv(OUTPUT_PATH+model_name_or_path.replace('/', '?')+'_bullet_by_bullet.csv')\n",
    "    \n",
    "    return df_eval"
   ]
  },
  {
   "cell_type": "code",
   "execution_count": null,
   "metadata": {
    "executionInfo": {
     "elapsed": 2058,
     "status": "ok",
     "timestamp": 1610618121921,
     "user": {
      "displayName": "Marco Pietro Abrate",
      "photoUrl": "https://lh3.googleusercontent.com/a-/AOh14Gjh-8YF-8BlnrkN9mLZ0xfVOWfOh7kYncpYRv-Y=s64",
      "userId": "15422244832836998434"
     },
     "user_tz": -60
    },
    "hidden": true,
    "id": "mCx3f697SXPm",
    "scrolled": true
   },
   "outputs": [],
   "source": [
    "evaluate_model_bullet_by_bullet('sshleifer/distilbart-cnn-12-6')\n",
    "\n",
    "evaluate_model_bullet_by_bullet(\n",
    "    magma_dir+'fine-tuning/sshleifer?distilbart-cnn-12-6_karger_books_para_wordembed_train/')\n",
    "\n",
    "evaluate_model_bullet_by_bullet(\n",
    "    magma_dir+'fine-tuning/sshleifer?distilbart-cnn-12-6_karger_books_para_wordembed_no_freeze_train/')"
   ]
  },
  {
   "cell_type": "markdown",
   "metadata": {
    "hidden": true
   },
   "source": [
    "#### Evaluate summaries grouping bullets"
   ]
  },
  {
   "cell_type": "code",
   "execution_count": null,
   "metadata": {
    "executionInfo": {
     "elapsed": 1296,
     "status": "ok",
     "timestamp": 1610618120072,
     "user": {
      "displayName": "Marco Pietro Abrate",
      "photoUrl": "https://lh3.googleusercontent.com/a-/AOh14Gjh-8YF-8BlnrkN9mLZ0xfVOWfOh7kYncpYRv-Y=s64",
      "userId": "15422244832836998434"
     },
     "user_tz": -60
    },
    "hidden": true,
    "id": "NN-p4XvvxPLi"
   },
   "outputs": [],
   "source": [
    "def evaluate_model_grouping_bullets(model_name_or_path):\n",
    "    df_eval = pd.read_csv(OUTPUT_PATH+model_name_or_path.replace('/', '?')+\\\n",
    "        '.csv').set_index(['book', 'chapter'])\n",
    "    \n",
    "    df_eval = df_eval.groupby(['book', 'chapter'], sort=False).agg({\n",
    "        'text': lambda t: ' '.join(list(t)),\n",
    "        'bullets': lambda b: ' '.join(list(b)),\n",
    "        'summary': lambda s: ' '.join(list(s))})\n",
    "    \n",
    "    rouge_res =\\\n",
    "        df_eval[['bullets', 'summary']]\\\n",
    "        .apply(lambda row:\n",
    "        metric.compute(\n",
    "            predictions = [row[1]],\n",
    "            references = [row[0]],\n",
    "            rouge_types = config.ROUGE_TYPES,\n",
    "            use_agregator = False), axis=1)\n",
    "    for r in config.ROUGE_TYPES:\n",
    "        for i, prf in enumerate(['precision', 'recall', 'fmeasure']):\n",
    "            df_eval[r+'_'+prf] =\\\n",
    "                rouge_res.map(lambda score: 100*score[r][0][i])\n",
    "            \n",
    "    cosine_sim = lambda a, b: (np.dot(a, b) / (np.linalg.norm(a)*np.linalg.norm(b)))\n",
    "    df_eval['st_cosine_sim'] =\\\n",
    "    df_eval[['bullets', 'summary']]\\\n",
    "        .apply(lambda row:\n",
    "        100*cosine_sim(\n",
    "            sentence_distilroberta.encode(row[1]),\n",
    "            sentence_distilroberta.encode(row[0])), axis=1)\n",
    "    \n",
    "    def cosine_sim_w2v(s, b):\n",
    "        s = gensim.utils.simple_preprocess(s, deacc=True)\n",
    "        b = gensim.utils.simple_preprocess(b, deacc=True)\n",
    "        corpus = [s, b]\n",
    "        w2v = gensim.models.Word2Vec(\n",
    "            corpus,\n",
    "            min_count=1,\n",
    "            sg=1,\n",
    "            seed = config.SEED)\n",
    "        s_embed = np.mean([w2v.wv[word] for word in s], axis=0)\n",
    "        b_embed = np.mean([w2v.wv[word] for word in b], axis=0)\n",
    "        return cosine_sim(s_embed, b_embed)\n",
    "        \n",
    "    df_eval['w2v_cosine_sim'] =\\\n",
    "        df_eval[['bullets', 'summary']]\\\n",
    "        .apply(lambda row:\n",
    "        100*cosine_sim_w2v(row[1], row[0]), axis=1)\n",
    "            \n",
    "    df_eval.to_csv(OUTPUT_PATH+model_name_or_path.replace('/', '?')+'_grouped.csv')\n",
    "    \n",
    "    return df_eval"
   ]
  },
  {
   "cell_type": "code",
   "execution_count": null,
   "metadata": {
    "hidden": true,
    "scrolled": true
   },
   "outputs": [],
   "source": [
    "evaluate_model_grouping_bullets('sshleifer/distilbart-cnn-12-6')\n",
    "\n",
    "evaluate_model_grouping_bullets(\n",
    "    magma_dir+'fine-tuning/sshleifer?distilbart-cnn-12-6_karger_books_para_wordembed_train/')\n",
    "\n",
    "evaluate_model_grouping_bullets(\n",
    "    magma_dir+'fine-tuning/sshleifer?distilbart-cnn-12-6_karger_books_para_wordembed_no_freeze_train/')"
   ]
  },
  {
   "cell_type": "markdown",
   "metadata": {
    "heading_collapsed": true,
    "hidden": true,
    "id": "GlnC1NYkRrQH"
   },
   "source": [
    "#### Plot evaluation bullet by bullet"
   ]
  },
  {
   "cell_type": "code",
   "execution_count": null,
   "metadata": {
    "colab": {
     "base_uri": "https://localhost:8080/",
     "height": 398
    },
    "executionInfo": {
     "elapsed": 965,
     "status": "ok",
     "timestamp": 1610618147643,
     "user": {
      "displayName": "Marco Pietro Abrate",
      "photoUrl": "https://lh3.googleusercontent.com/a-/AOh14Gjh-8YF-8BlnrkN9mLZ0xfVOWfOh7kYncpYRv-Y=s64",
      "userId": "15422244832836998434"
     },
     "user_tz": -60
    },
    "hidden": true,
    "id": "lQdQyFl6REbV",
    "outputId": "3fee75aa-7cf0-4994-bbd0-11f4d84eb551",
    "scrolled": false
   },
   "outputs": [],
   "source": [
    "plot_evaluation_bullet_by_bullet('sshleifer/distilbart-cnn-12-6')"
   ]
  },
  {
   "cell_type": "code",
   "execution_count": null,
   "metadata": {
    "hidden": true,
    "scrolled": false
   },
   "outputs": [],
   "source": [
    "plot_evaluation_bullet_by_bullet(\n",
    "    magma_dir+'fine-tuning/sshleifer?distilbart-cnn-12-6_karger_books_para_wordembed_train/')"
   ]
  },
  {
   "cell_type": "code",
   "execution_count": null,
   "metadata": {
    "hidden": true,
    "scrolled": false
   },
   "outputs": [],
   "source": [
    "plot_evaluation_bullet_by_bullet(\n",
    "    magma_dir+'fine-tuning/sshleifer?distilbart-cnn-12-6_karger_books_para_wordembed_no_freeze_train/')"
   ]
  },
  {
   "cell_type": "markdown",
   "metadata": {
    "hidden": true
   },
   "source": [
    "#### Plot evaluation grouping bullets"
   ]
  },
  {
   "cell_type": "code",
   "execution_count": null,
   "metadata": {
    "hidden": true,
    "id": "y7chlVU7UsZa"
   },
   "outputs": [],
   "source": [
    "plot_evaluation_grouping_bullets('sshleifer/distilbart-cnn-12-6')"
   ]
  },
  {
   "cell_type": "code",
   "execution_count": null,
   "metadata": {
    "hidden": true,
    "scrolled": false
   },
   "outputs": [],
   "source": [
    "plot_evaluation_grouping_bullets(\n",
    "    magma_dir+'fine-tuning/sshleifer?distilbart-cnn-12-6_karger_books_para_wordembed_train/')"
   ]
  },
  {
   "cell_type": "code",
   "execution_count": null,
   "metadata": {
    "hidden": true
   },
   "outputs": [],
   "source": [
    "plot_evaluation_grouping_bullets(\n",
    "    magma_dir+'fine-tuning/sshleifer?distilbart-cnn-12-6_karger_books_para_wordembed_no_freeze_train/')"
   ]
  },
  {
   "cell_type": "code",
   "execution_count": null,
   "metadata": {
    "hidden": true
   },
   "outputs": [],
   "source": []
  }
 ],
 "metadata": {
  "accelerator": "GPU",
  "colab": {
   "collapsed_sections": [
    "P95DxvqWi_2Y",
    "tvSGvNzvKbvP",
    "S0FByNNOIRvG",
    "JFd0ppeJyX1o",
    "dllOnKR9Os5i",
    "U2mpXoSaQiQE",
    "k0qONrX4Qkkm",
    "JiYIkI5xN2VA",
    "KV669nVZQnzT",
    "WIiEnpvbMkJa",
    "fSqOx7kdMoNJ",
    "UTUY8QgQa2WM",
    "bKYnUXhvMszX",
    "mIcAg1ss4qIR",
    "GlnC1NYkRrQH"
   ],
   "name": "assign_bullets_para.ipynb",
   "provenance": []
  },
  "kernelspec": {
   "display_name": "Python 3",
   "language": "python",
   "name": "python3"
  },
  "language_info": {
   "codemirror_mode": {
    "name": "ipython",
    "version": 3
   },
   "file_extension": ".py",
   "mimetype": "text/x-python",
   "name": "python",
   "nbconvert_exporter": "python",
   "pygments_lexer": "ipython3",
   "version": "3.6.9"
  },
  "widgets": {
   "application/vnd.jupyter.widget-state+json": {
    "01e3a51fe914437187fb471f042cbc4e": {
     "model_module": "@jupyter-widgets/controls",
     "model_name": "HBoxModel",
     "state": {
      "_dom_classes": [],
      "_model_module": "@jupyter-widgets/controls",
      "_model_module_version": "1.5.0",
      "_model_name": "HBoxModel",
      "_view_count": null,
      "_view_module": "@jupyter-widgets/controls",
      "_view_module_version": "1.5.0",
      "_view_name": "HBoxView",
      "box_style": "",
      "children": [
       "IPY_MODEL_a503362a1d6c49958365ce7e93f4d67d",
       "IPY_MODEL_1249b68a0e2c459eae68dfede2dc5b34"
      ],
      "layout": "IPY_MODEL_9b00208076e345faaa7c1d3b38df79c4"
     }
    },
    "0795dec75e4f4a9cad293877eddef047": {
     "model_module": "@jupyter-widgets/controls",
     "model_name": "HBoxModel",
     "state": {
      "_dom_classes": [],
      "_model_module": "@jupyter-widgets/controls",
      "_model_module_version": "1.5.0",
      "_model_name": "HBoxModel",
      "_view_count": null,
      "_view_module": "@jupyter-widgets/controls",
      "_view_module_version": "1.5.0",
      "_view_name": "HBoxView",
      "box_style": "",
      "children": [
       "IPY_MODEL_cdd09db5faa14b609970f2a3d37dc430",
       "IPY_MODEL_efc306b702aa4dc0a5e6257cc71ac3aa"
      ],
      "layout": "IPY_MODEL_ec56f7bbfb29414f89c168dfdddd3465"
     }
    },
    "37bb8348b38e45b981c8e2c580de608b": {
     "model_module": "@jupyter-widgets/controls",
     "model_name": "HBoxModel",
     "state": {
      "_dom_classes": [],
      "_model_module": "@jupyter-widgets/controls",
      "_model_module_version": "1.5.0",
      "_model_name": "HBoxModel",
      "_view_count": null,
      "_view_module": "@jupyter-widgets/controls",
      "_view_module_version": "1.5.0",
      "_view_name": "HBoxView",
      "box_style": "",
      "children": [
       "IPY_MODEL_4c2fd32ed07b47a89011f42fe95af039",
       "IPY_MODEL_5d0caa7b27f044cb851b38b299d0de86"
      ],
      "layout": "IPY_MODEL_88830eabf77a4c4aa1130c37dc2ffa5d"
     }
    },
    "8ef14e9327d84807a95686427993ebcd": {
     "model_module": "@jupyter-widgets/controls",
     "model_name": "HBoxModel",
     "state": {
      "_dom_classes": [],
      "_model_module": "@jupyter-widgets/controls",
      "_model_module_version": "1.5.0",
      "_model_name": "HBoxModel",
      "_view_count": null,
      "_view_module": "@jupyter-widgets/controls",
      "_view_module_version": "1.5.0",
      "_view_name": "HBoxView",
      "box_style": "",
      "children": [
       "IPY_MODEL_3c8709747e444e2e99d5f5d4bd0c4513",
       "IPY_MODEL_8a9da00575624af09987d6936e79f41b"
      ],
      "layout": "IPY_MODEL_e0202968e0864b7ea3ce26fabdde768d"
     }
    },
    "a77961a700f2489f8af86af7aecb7a36": {
     "model_module": "@jupyter-widgets/controls",
     "model_name": "HBoxModel",
     "state": {
      "_dom_classes": [],
      "_model_module": "@jupyter-widgets/controls",
      "_model_module_version": "1.5.0",
      "_model_name": "HBoxModel",
      "_view_count": null,
      "_view_module": "@jupyter-widgets/controls",
      "_view_module_version": "1.5.0",
      "_view_name": "HBoxView",
      "box_style": "",
      "children": [
       "IPY_MODEL_23e74f006e7d44e7aee69e3a3394a37d",
       "IPY_MODEL_aa51b0fd1e9648719c0c2b39f252a199"
      ],
      "layout": "IPY_MODEL_66be567c4a0a41e086ac00af108ec408"
     }
    },
    "addb9bfe4b084b61a77f19962f2919d1": {
     "model_module": "@jupyter-widgets/controls",
     "model_name": "HBoxModel",
     "state": {
      "_dom_classes": [],
      "_model_module": "@jupyter-widgets/controls",
      "_model_module_version": "1.5.0",
      "_model_name": "HBoxModel",
      "_view_count": null,
      "_view_module": "@jupyter-widgets/controls",
      "_view_module_version": "1.5.0",
      "_view_name": "HBoxView",
      "box_style": "",
      "children": [
       "IPY_MODEL_e6baed9b364643e2a628ec2fa20eda17",
       "IPY_MODEL_1af98602915a4304a38cb231c85076b4"
      ],
      "layout": "IPY_MODEL_0fee59c682d04276b99c86a112570588"
     }
    }
   }
  }
 },
 "nbformat": 4,
 "nbformat_minor": 1
}
